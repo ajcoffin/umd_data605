{
 "cells": [
  {
   "cell_type": "code",
   "execution_count": 1,
   "metadata": {
    "ExecuteTime": {
     "end_time": "2019-02-12T20:37:47.836998Z",
     "start_time": "2019-02-12T15:37:47.811844-05:00"
    },
    "collapsed": true
   },
   "outputs": [],
   "source": [
    "# From https://github.com/dask/dask-examples/blob/master/delayed.ipynb"
   ]
  },
  {
   "cell_type": "code",
   "execution_count": 5,
   "metadata": {
    "ExecuteTime": {
     "end_time": "2019-02-12T20:58:35.348029Z",
     "start_time": "2019-02-12T20:58:35.296376Z"
    }
   },
   "outputs": [
    {
     "name": "stdout",
     "output_type": "stream",
     "text": [
      "1.1.1\n"
     ]
    }
   ],
   "source": [
    "import dask\n",
    "\n",
    "print(dask.__version__)"
   ]
  },
  {
   "cell_type": "code",
   "execution_count": 8,
   "metadata": {
    "ExecuteTime": {
     "end_time": "2019-02-12T21:15:35.562954Z",
     "start_time": "2019-02-12T21:15:35.271164Z"
    }
   },
   "outputs": [
    {
     "data": {
      "text/html": [
       "<table style=\"border: 2px solid white;\">\n",
       "<tr>\n",
       "<td style=\"vertical-align: top; border: 0px solid white\">\n",
       "<h3>Client</h3>\n",
       "<ul>\n",
       "  <li><b>Scheduler: </b>tcp://127.0.0.1:61935\n",
       "  <li><b>Dashboard: </b><a href='http://127.0.0.1:61936/status' target='_blank'>http://127.0.0.1:61936/status</a>\n",
       "</ul>\n",
       "</td>\n",
       "<td style=\"vertical-align: top; border: 0px solid white\">\n",
       "<h3>Cluster</h3>\n",
       "<ul>\n",
       "  <li><b>Workers: </b>1</li>\n",
       "  <li><b>Cores: </b>4</li>\n",
       "  <li><b>Memory: </b>8.59 GB</li>\n",
       "</ul>\n",
       "</td>\n",
       "</tr>\n",
       "</table>"
      ],
      "text/plain": [
       "<Client: scheduler='tcp://127.0.0.1:61935' processes=1 cores=4>"
      ]
     },
     "execution_count": 8,
     "metadata": {},
     "output_type": "execute_result"
    }
   ],
   "source": [
    "from dask.distributed import Client, progress\n",
    "client = Client(threads_per_worker=4, n_workers=1)\n",
    "client"
   ]
  },
  {
   "cell_type": "code",
   "execution_count": 9,
   "metadata": {
    "ExecuteTime": {
     "end_time": "2019-02-12T21:19:32.152484Z",
     "start_time": "2019-02-12T21:19:32.080844Z"
    }
   },
   "outputs": [
    {
     "data": {
      "text/plain": [
       "1"
      ]
     },
     "execution_count": 9,
     "metadata": {},
     "output_type": "execute_result"
    }
   ],
   "source": [
    "from dask.threaded import get\n",
    "\n",
    "from operator import add\n",
    "\n",
    "dsk = {'x': 1,\n",
    "       'y': 2,\n",
    "       'z': (add, 'x', 'y'),\n",
    "       'w': (sum, ['x', 'y', 'z'])}\n",
    "\n",
    "get(dsk, 'x')"
   ]
  },
  {
   "cell_type": "markdown",
   "metadata": {},
   "source": [
    "## Work counting"
   ]
  },
  {
   "cell_type": "code",
   "execution_count": 15,
   "metadata": {
    "ExecuteTime": {
     "end_time": "2019-02-12T21:36:44.431378Z",
     "start_time": "2019-02-12T21:36:44.352497Z"
    }
   },
   "outputs": [
    {
     "data": {
      "text/plain": [
       "('word list has 2 occurrences of orange, out of 7 words',\n",
       " 'word list has 2 occurrences of apple, out of 7 words')"
      ]
     },
     "execution_count": 15,
     "metadata": {},
     "output_type": "execute_result"
    }
   ],
   "source": [
    "\n",
    "\n",
    "def print_and_return(string):\n",
    "    #print(string)\n",
    "    return string\n",
    "\n",
    "def format_str(count, val, nwords):\n",
    "    return ('word list has {0} occurrences of {1}, '\n",
    "            'out of {2} words').format(count, val, nwords)\n",
    "\n",
    "dsk = {'words': 'apple orange apple pear orange pear pear',\n",
    "       'nwords': (len, (str.split, 'words')),\n",
    "       'val1': 'orange',\n",
    "       'val2': 'apple',\n",
    "       'val3': 'pear',\n",
    "       'count1': (str.count, 'words', 'val1'),\n",
    "       'count2': (str.count, 'words', 'val2'),\n",
    "       'count3': (str.count, 'words', 'val3'),\n",
    "       'out1': (format_str, 'count1', 'val1', 'nwords'),\n",
    "       'out2': (format_str, 'count2', 'val2', 'nwords'),\n",
    "       'out3': (format_str, 'count3', 'val3', 'nwords'),\n",
    "       'print1': (print_and_return, 'out1'),\n",
    "       'print2': (print_and_return, 'out2'),\n",
    "       'print3': (print_and_return, 'out3')}\n",
    "\n",
    "from dask.threaded import get\n",
    "\n",
    "outputs = ['print1', 'print2']\n",
    "results = get(dsk, outputs)\n",
    "\n",
    "results"
   ]
  },
  {
   "cell_type": "code",
   "execution_count": null,
   "metadata": {},
   "outputs": [],
   "source": [
    "dsk = "
   ]
  },
  {
   "cell_type": "code",
   "execution_count": 67,
   "metadata": {
    "ExecuteTime": {
     "end_time": "2019-02-12T22:54:25.600508Z",
     "start_time": "2019-02-12T22:54:25.490738Z"
    }
   },
   "outputs": [
    {
     "name": "stdout",
     "output_type": "stream",
     "text": [
      "actions=['basic_hygiene', 'yapf', 'autoflake', 'isort', 'fix_jupytext', 'ipynb_format', 'pylint', 'pydocstyle']\n",
      "out_nodes=['dep-7', 'dep-8']\n",
      "dep-1 (<function debug_dask at 0x1199312a8>, 'basic_hygiene', 'f1', None)\n",
      "dep-2 (<function debug_dask at 0x1199312a8>, 'yapf', 'f1', 'dep-1')\n",
      "dep-3 (<function debug_dask at 0x1199312a8>, 'autoflake', 'f1', 'dep-2')\n",
      "dep-4 (<function debug_dask at 0x1199312a8>, 'isort', 'f1', 'dep-3')\n",
      "dep-5 (<function debug_dask at 0x1199312a8>, 'fix_jupytext', 'f1', 'dep-4')\n",
      "dep-6 (<function debug_dask at 0x1199312a8>, 'ipynb_format', 'f1', 'dep-5')\n",
      "dep-7 (<function debug_dask at 0x1199312a8>, 'pylint', 'f1', 'dep-5')\n",
      "dep-8 (<function debug_dask at 0x1199312a8>, 'pydocstyle', 'f1', 'dep-5')\n"
     ]
    }
   ],
   "source": [
    "_VALID_ACTIONS_META = [\n",
    "    (\"basic_hygiene\", \"w\"),\n",
    "    (\"yapf\", \"w\"),\n",
    "    (\"autoflake\", \"w\"),\n",
    "    (\"isort\",  \"w\"),\n",
    "    (\"pyment\", \"w\"),\n",
    "    (\"fix_jupytext\", \"w\"),\n",
    "    (\"ipynb_format\", \"w\"),\n",
    "    #\n",
    "    (\"pylint\", \"r\"),\n",
    "    (\"check_jupytext\", \"r\"),\n",
    "    (\"flake8\", \"r\"),\n",
    "    (\"pydocstyle\", \"r\"),\n",
    "]\n",
    "\n",
    "\n",
    "_VALID_ACTIONS = list(zip(*_VALID_ACTIONS_META))[0]\n",
    "\n",
    "_IS_WRITE = {k: (v == \"w\") for k, v in _VALID_ACTIONS_META}\n",
    "#print(_IS_WRITE)\n",
    "\n",
    "_ALL_ACTIONS = [\n",
    "    \"basic_hygiene\",\n",
    "    \"autoflake\",\n",
    "    \"isort\",\n",
    "    \"yapf\",\n",
    "    # Disabled because of \"import configparser\" error.\n",
    "    #\"flake8\",\n",
    "    \"pydocstyle\",\n",
    "    \"pylint\",\n",
    "    \"ipynb_format\",\n",
    "    \"fix_jupytext\",\n",
    "]\n",
    "\n",
    "\n",
    "actions = _ALL_ACTIONS[:]\n",
    "# Reorder actions according to _VALID_ACTIONS.\n",
    "actions_tmp = []\n",
    "for action in _VALID_ACTIONS:\n",
    "    if action in actions:\n",
    "        actions_tmp.append(action)\n",
    "actions = actions_tmp\n",
    "print((\"actions=%s\" % actions))\n",
    "\n",
    "\n",
    "files = \"f1 f2 f3\".split()\n",
    "\n",
    "\n",
    "import collections\n",
    "import pprint\n",
    "dsk = collections.OrderedDict()\n",
    "\n",
    "\n",
    "def debug_dask(*args, **kwargs):\n",
    "    print((\"%s\" % str(args)))\n",
    "\n",
    "\n",
    "f = \"f1\"\n",
    "dep = 1\n",
    "out_nodes = []\n",
    "for a in actions:\n",
    "    if a == actions[0]:\n",
    "        dep_as_str = None\n",
    "    else:\n",
    "        if _IS_WRITE[a]:\n",
    "            dep_as_str = \"dep-%d\" % (dep - 1)\n",
    "    #node = (debug_dask, a, f, dep_as_str)\n",
    "    #node = (a, f, dep_as_str)\n",
    "    out_dep = \"dep-%d\" % dep\n",
    "    dsk[out_dep] = node\n",
    "    if not _IS_WRITE[a]:\n",
    "        out_nodes.append(out_dep)\n",
    "    dep += 1\n",
    "    \n",
    "print((\"out_nodes=%s\" % str(out_nodes)))\n",
    "\n",
    "for k, v in dsk.items():\n",
    "    print((str(k), str(v)))\n",
    "         \n",
    "#print(pprint.pformat(dsk))\n",
    "\n",
    "from dask.threaded import get\n",
    "\n",
    "#get(dsk, out_nodes)"
   ]
  },
  {
   "cell_type": "code",
   "execution_count": 68,
   "metadata": {
    "ExecuteTime": {
     "end_time": "2019-02-12T22:54:30.080404Z",
     "start_time": "2019-02-12T22:54:28.828681Z"
    }
   },
   "outputs": [
    {
     "data": {
      "image/png": "[encoded data removed]",
      "text/plain": [
       "<IPython.core.display.Image object>"
      ]
     },
     "execution_count": 68,
     "metadata": {},
     "output_type": "execute_result"
    }
   ],
   "source": [
    "dask.visualize(dsk)"
   ]
  }
 ],
 "metadata": {
  "jupytext": {
   "text_representation": {
    "extension": ".py",
    "format_name": "percent",
    "format_version": "1.2",
    "jupytext_version": "0.8.6"
   }
  },
  "kernelspec": {
   "display_name": "Python [default]",
   "language": "python",
   "name": "python3"
  },
  "language_info": {
   "codemirror_mode": {
    "name": "ipython",
    "version": 3
   },
   "file_extension": ".py",
   "mimetype": "text/x-python",
   "name": "python",
   "nbconvert_exporter": "python",
   "pygments_lexer": "ipython3",
   "version": "3.7.1"
  },
  "toc": {
   "base_numbering": 1,
   "nav_menu": {
    "height": "12px",
    "width": "252px"
   },
   "number_sections": true,
   "sideBar": true,
   "skip_h1_title": false,
   "title_cell": "Table of Contents",
   "title_sidebar": "Contents",
   "toc_cell": false,
   "toc_position": {},
   "toc_section_display": "block",
   "toc_window_display": false
  }
 },
 "nbformat": 4,
 "nbformat_minor": 2
}