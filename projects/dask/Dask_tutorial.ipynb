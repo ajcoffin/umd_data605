{
 "cells": [
  {
   "cell_type": "markdown",
   "metadata": {},
   "source": [
    "# High level collections"
   ]
  },
  {
   "cell_type": "markdown",
   "metadata": {},
   "source": [
    "## Arrays"
   ]
  },
  {
   "cell_type": "code",
   "execution_count": 18,
   "metadata": {
    "ExecuteTime": {
     "end_time": "2019-01-10T20:30:45.437957Z",
     "start_time": "2019-01-10T15:30:45.324288-05:00"
    }
   },
   "outputs": [
    {
     "name": "stdout",
     "output_type": "stream",
     "text": [
      "dask.array<sub, shape=(10000, 10000), dtype=float64, chunksize=(1000, 1000)>\n",
      "[[ 44.90882765  48.79687195  67.70988397 ... 112.52110823  93.51135442\n",
      "  111.60769232]\n",
      " [ 49.41220473 149.2213475  102.87408944 ... 109.74862176  41.01586597\n",
      "  -25.58201742]\n",
      " [ 68.05483091 102.60370359  14.57495004 ...  25.51707016  22.96692323\n",
      "   30.56775442]\n",
      " ...\n",
      " [113.04880025 109.660981    25.69981525 ...  45.22752828  59.58866347\n",
      "  -10.1472153 ]\n",
      " [ 94.310989    41.20016778  23.42161087 ...  59.86060604 -21.76467122\n",
      "   28.27630826]\n",
      " [112.46514964 -25.33989288  31.0802648  ...  -9.81745     28.334131\n",
      "   98.03784578]]\n"
     ]
    }
   ],
   "source": [
    "import dask.array as da \n",
    "import numpy as np\n",
    "\n",
    "da.random.seed(100)\n",
    "\n",
    "x = da.random.uniform(low=0, high=100, size=(10000, 10000),\n",
    "                      # Break into chunks.\n",
    "                      chunks=(1000, 1000))\n",
    "\n",
    "# Normal numpy code.\n",
    "y = x + x.T - x.mean(axis=0)\n",
    "print(y)\n",
    "\n",
    "#\n",
    "y = np.array(y[0:100, 0:100])\n",
    "print(y)"
   ]
  },
  {
   "cell_type": "markdown",
   "metadata": {},
   "source": [
    "## DataFrames"
   ]
  },
  {
   "cell_type": "code",
   "execution_count": 23,
   "metadata": {
    "ExecuteTime": {
     "end_time": "2019-01-10T20:36:57.661701Z",
     "start_time": "2019-01-10T15:36:57.529530-05:00"
    }
   },
   "outputs": [],
   "source": [
    "import dask.dataframe as dd\n",
    "\n",
    "#df = dd.DataFrame()#np.random.rand(10, 10))\n",
    "?dd.DataFrame()#np.random.rand(10, 10))"
   ]
  },
  {
   "cell_type": "markdown",
   "metadata": {},
   "source": [
    "## Bags / List"
   ]
  },
  {
   "cell_type": "code",
   "execution_count": 26,
   "metadata": {
    "ExecuteTime": {
     "end_time": "2019-01-12T23:07:58.408034Z",
     "start_time": "2019-01-12T18:07:58.276366-05:00"
    }
   },
   "outputs": [
    {
     "name": "stdout",
     "output_type": "stream",
     "text": [
      "dask.bag<from_se..., npartitions=5>\n",
      "[0, 20, 40]\n"
     ]
    }
   ],
   "source": [
    "import dask.bag as db\n",
    "\n",
    "b = db.from_sequence(list(range(5)))\n",
    "print(b)\n",
    "print(list(\n",
    "    b.filter(lambda x: x % 2 == 0).map(lambda x: x * 10)))"
   ]
  }
 ],
 "metadata": {
  "jupytext": {
   "main_language": "python",
   "text_representation": {
    "extension": ".py",
    "format_name": "percent",
    "format_version": "1.2",
    "jupytext_version": "0.8.6"
   }
  },
  "kernelspec": {
   "display_name": "Python 3",
   "language": "python",
   "name": "python3"
  },
  "language_info": {
   "codemirror_mode": {
    "name": "ipython",
    "version": 3
   },
   "file_extension": ".py",
   "mimetype": "text/x-python",
   "name": "python",
   "nbconvert_exporter": "python",
   "pygments_lexer": "ipython3",
   "version": "3.7.3"
  },
  "toc": {
   "colors": {
    "hover_highlight": "#DAA520",
    "running_highlight": "#FF0000",
    "selected_highlight": "#FFD700"
   },
   "moveMenuLeft": true,
   "nav_menu": {
    "height": "12px",
    "width": "252px"
   },
   "navigate_menu": true,
   "number_sections": true,
   "sideBar": true,
   "threshold": 4,
   "toc_cell": false,
   "toc_section_display": "block",
   "toc_window_display": false
  }
 },
 "nbformat": 4,
 "nbformat_minor": 2
}
