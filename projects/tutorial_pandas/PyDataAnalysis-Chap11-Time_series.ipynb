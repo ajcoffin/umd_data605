{
 "cells": [
  {
   "cell_type": "markdown",
   "metadata": {
    "toc": "true"
   },
   "source": [
    "# Table of Contents\n",
    " <p><div class=\"lev1 toc-item\"><a href=\"#Time-series\" data-toc-modified-id=\"Time-series-1\"><span class=\"toc-item-num\">1&nbsp;&nbsp;</span>Time series</a></div><div class=\"lev2 toc-item\"><a href=\"#Date-and-time-data-types-and-tools\" data-toc-modified-id=\"Date-and-time-data-types-and-tools-11\"><span class=\"toc-item-num\">1.1&nbsp;&nbsp;</span>Date and time data types and tools</a></div><div class=\"lev3 toc-item\"><a href=\"#Converting-between-string-and-datetime\" data-toc-modified-id=\"Converting-between-string-and-datetime-111\"><span class=\"toc-item-num\">1.1.1&nbsp;&nbsp;</span>Converting between string and datetime</a></div><div class=\"lev2 toc-item\"><a href=\"#Time-series-basics\" data-toc-modified-id=\"Time-series-basics-12\"><span class=\"toc-item-num\">1.2&nbsp;&nbsp;</span>Time series basics</a></div><div class=\"lev3 toc-item\"><a href=\"#Indexing,-selection,-subsetting\" data-toc-modified-id=\"Indexing,-selection,-subsetting-121\"><span class=\"toc-item-num\">1.2.1&nbsp;&nbsp;</span>Indexing, selection, subsetting</a></div><div class=\"lev3 toc-item\"><a href=\"#Time-series-with-duplicated-indices.\" data-toc-modified-id=\"Time-series-with-duplicated-indices.-122\"><span class=\"toc-item-num\">1.2.2&nbsp;&nbsp;</span>Time series with duplicated indices.</a></div><div class=\"lev2 toc-item\"><a href=\"#Date-ranges,-freqs,-shifting\" data-toc-modified-id=\"Date-ranges,-freqs,-shifting-13\"><span class=\"toc-item-num\">1.3&nbsp;&nbsp;</span>Date ranges, freqs, shifting</a></div><div class=\"lev3 toc-item\"><a href=\"#Generating-date-ranges\" data-toc-modified-id=\"Generating-date-ranges-131\"><span class=\"toc-item-num\">1.3.1&nbsp;&nbsp;</span>Generating date ranges</a></div><div class=\"lev3 toc-item\"><a href=\"#Frequencies-and-date-offsets\" data-toc-modified-id=\"Frequencies-and-date-offsets-132\"><span class=\"toc-item-num\">1.3.2&nbsp;&nbsp;</span>Frequencies and date offsets</a></div><div class=\"lev3 toc-item\"><a href=\"#Shifting-data\" data-toc-modified-id=\"Shifting-data-133\"><span class=\"toc-item-num\">1.3.3&nbsp;&nbsp;</span>Shifting data</a></div><div class=\"lev3 toc-item\"><a href=\"#Shifting-dates-with-offsets\" data-toc-modified-id=\"Shifting-dates-with-offsets-134\"><span class=\"toc-item-num\">1.3.4&nbsp;&nbsp;</span>Shifting dates with offsets</a></div><div class=\"lev2 toc-item\"><a href=\"#Time-zone-handling\" data-toc-modified-id=\"Time-zone-handling-14\"><span class=\"toc-item-num\">1.4&nbsp;&nbsp;</span>Time zone handling</a></div><div class=\"lev3 toc-item\"><a href=\"#Time-zone-localization-and-conversion\" data-toc-modified-id=\"Time-zone-localization-and-conversion-141\"><span class=\"toc-item-num\">1.4.1&nbsp;&nbsp;</span>Time zone localization and conversion</a></div><div class=\"lev3 toc-item\"><a href=\"#Operations-with-time-zone-aware-timestamp-objects\" data-toc-modified-id=\"Operations-with-time-zone-aware-timestamp-objects-142\"><span class=\"toc-item-num\">1.4.2&nbsp;&nbsp;</span>Operations with time zone-aware timestamp objects</a></div><div class=\"lev3 toc-item\"><a href=\"#Operations-between-different-time-zones\" data-toc-modified-id=\"Operations-between-different-time-zones-143\"><span class=\"toc-item-num\">1.4.3&nbsp;&nbsp;</span>Operations between different time zones</a></div><div class=\"lev2 toc-item\"><a href=\"#Periods-and-period-arithmetic\" data-toc-modified-id=\"Periods-and-period-arithmetic-15\"><span class=\"toc-item-num\">1.5&nbsp;&nbsp;</span>Periods and period arithmetic</a></div><div class=\"lev3 toc-item\"><a href=\"#Period-frequency-conversion\" data-toc-modified-id=\"Period-frequency-conversion-151\"><span class=\"toc-item-num\">1.5.1&nbsp;&nbsp;</span>Period frequency conversion</a></div><div class=\"lev3 toc-item\"><a href=\"#Quarterly-period-frequencies\" data-toc-modified-id=\"Quarterly-period-frequencies-152\"><span class=\"toc-item-num\">1.5.2&nbsp;&nbsp;</span>Quarterly period frequencies</a></div><div class=\"lev3 toc-item\"><a href=\"#Converting-timestamps-to-periods-(and-back)\" data-toc-modified-id=\"Converting-timestamps-to-periods-(and-back)-153\"><span class=\"toc-item-num\">1.5.3&nbsp;&nbsp;</span>Converting timestamps to periods (and back)</a></div><div class=\"lev3 toc-item\"><a href=\"#Creating-a-PeriodIndex-from-arrays\" data-toc-modified-id=\"Creating-a-PeriodIndex-from-arrays-154\"><span class=\"toc-item-num\">1.5.4&nbsp;&nbsp;</span>Creating a PeriodIndex from arrays</a></div><div class=\"lev2 toc-item\"><a href=\"#Resampling-and-frequency-conversion\" data-toc-modified-id=\"Resampling-and-frequency-conversion-16\"><span class=\"toc-item-num\">1.6&nbsp;&nbsp;</span>Resampling and frequency conversion</a></div><div class=\"lev3 toc-item\"><a href=\"#Downsampling\" data-toc-modified-id=\"Downsampling-161\"><span class=\"toc-item-num\">1.6.1&nbsp;&nbsp;</span>Downsampling</a></div><div class=\"lev4 toc-item\"><a href=\"#OHLC-resampling\" data-toc-modified-id=\"OHLC-resampling-1611\"><span class=\"toc-item-num\">1.6.1.1&nbsp;&nbsp;</span>OHLC resampling</a></div><div class=\"lev4 toc-item\"><a href=\"#Resampling-with-GroupBy\" data-toc-modified-id=\"Resampling-with-GroupBy-1612\"><span class=\"toc-item-num\">1.6.1.2&nbsp;&nbsp;</span>Resampling with GroupBy</a></div><div class=\"lev3 toc-item\"><a href=\"#Upsampling\" data-toc-modified-id=\"Upsampling-162\"><span class=\"toc-item-num\">1.6.2&nbsp;&nbsp;</span>Upsampling</a></div><div class=\"lev3 toc-item\"><a href=\"#Resampling-with-periods\" data-toc-modified-id=\"Resampling-with-periods-163\"><span class=\"toc-item-num\">1.6.3&nbsp;&nbsp;</span>Resampling with periods</a></div><div class=\"lev2 toc-item\"><a href=\"#Time-series-plotting\" data-toc-modified-id=\"Time-series-plotting-17\"><span class=\"toc-item-num\">1.7&nbsp;&nbsp;</span>Time series plotting</a></div><div class=\"lev2 toc-item\"><a href=\"#Moving-window-functions\" data-toc-modified-id=\"Moving-window-functions-18\"><span class=\"toc-item-num\">1.8&nbsp;&nbsp;</span>Moving window functions</a></div><div class=\"lev3 toc-item\"><a href=\"#Exponentially-weighted-functions\" data-toc-modified-id=\"Exponentially-weighted-functions-181\"><span class=\"toc-item-num\">1.8.1&nbsp;&nbsp;</span>Exponentially-weighted functions</a></div><div class=\"lev3 toc-item\"><a href=\"#Binary-moving-window-functions\" data-toc-modified-id=\"Binary-moving-window-functions-182\"><span class=\"toc-item-num\">1.8.2&nbsp;&nbsp;</span>Binary moving window functions</a></div><div class=\"lev3 toc-item\"><a href=\"#User-defined-moving-window-functions\" data-toc-modified-id=\"User-defined-moving-window-functions-183\"><span class=\"toc-item-num\">1.8.3&nbsp;&nbsp;</span>User-defined moving window functions</a></div>"
   ]
  },
  {
   "cell_type": "code",
   "execution_count": 1,
   "metadata": {
    "ExecuteTime": {
     "end_time": "2018-05-13T17:54:40.614200Z",
     "start_time": "2018-05-13T10:54:40.319726-07:00"
    },
    "collapsed": true
   },
   "outputs": [],
   "source": [
    "import pandas as pd\n",
    "\n",
    "def print_ht(df):\n",
    "    print(df.head())\n",
    "    print(df.tail())"
   ]
  },
  {
   "cell_type": "markdown",
   "metadata": {},
   "source": [
    "# Time series\n",
    "\n",
    "- Anything that is observed or measured at many points in time\n",
    "    - fixed frequency\n",
    "    - irregular\n",
    "    \n",
    "- One can refer to time series in terms of\n",
    "    1) timestamps: specific instant in times\n",
    "    2) intervals of time: indicated by start / end timestamps\n",
    "    3) fixed periods: e.g., months of 2010, years\n",
    "        - This is a special case of \"interval of time\"\n",
    "    4) delta times with respect to a beginning of time"
   ]
  },
  {
   "cell_type": "markdown",
   "metadata": {},
   "source": [
    "## Date and time data types and tools\n",
    "\n",
    "- date\n",
    "- time\n",
    "- datetime\n",
    "- timedelta"
   ]
  },
  {
   "cell_type": "code",
   "execution_count": 2,
   "metadata": {
    "ExecuteTime": {
     "end_time": "2018-05-13T17:54:40.636443Z",
     "start_time": "2018-05-13T10:54:40.616032-07:00"
    }
   },
   "outputs": [
    {
     "name": "stdout",
     "output_type": "stream",
     "text": [
      "now= 2018-05-13 10:54:40.633243\n",
      "2018 5 13\n"
     ]
    }
   ],
   "source": [
    "from datetime import datetime, timedelta\n",
    "\n",
    "now = datetime.now()\n",
    "print(\"now=\", now)\n",
    "print(now.year, now.month, now.day)"
   ]
  },
  {
   "cell_type": "code",
   "execution_count": 3,
   "metadata": {
    "ExecuteTime": {
     "end_time": "2018-05-13T17:54:40.656258Z",
     "start_time": "2018-05-13T10:54:40.638060-07:00"
    }
   },
   "outputs": [
    {
     "name": "stdout",
     "output_type": "stream",
     "text": [
      "delta= 925 days, 15:45:00\n",
      "925 56700\n"
     ]
    }
   ],
   "source": [
    "delta = datetime(2011, 1, 7) - datetime(2008, 6, 25, 8, 15)\n",
    "print(\"delta=\", delta)\n",
    "print(delta.days, delta.seconds)"
   ]
  },
  {
   "cell_type": "code",
   "execution_count": 4,
   "metadata": {
    "ExecuteTime": {
     "end_time": "2018-05-13T17:54:40.675050Z",
     "start_time": "2018-05-13T10:54:40.657872-07:00"
    }
   },
   "outputs": [
    {
     "name": "stdout",
     "output_type": "stream",
     "text": [
      "2011-01-19 00:00:00\n"
     ]
    }
   ],
   "source": [
    "start = datetime(2011, 1, 7)\n",
    "print(start + timedelta(12))"
   ]
  },
  {
   "cell_type": "markdown",
   "metadata": {
    "ExecuteTime": {
     "end_time": "2018-04-04T02:52:29.323763Z",
     "start_time": "2018-04-03T19:52:29.306635-07:00"
    }
   },
   "source": [
    "### Converting between string and datetime"
   ]
  },
  {
   "cell_type": "code",
   "execution_count": 5,
   "metadata": {
    "ExecuteTime": {
     "end_time": "2018-05-13T17:54:40.695323Z",
     "start_time": "2018-05-13T10:54:40.676897-07:00"
    }
   },
   "outputs": [
    {
     "name": "stdout",
     "output_type": "stream",
     "text": [
      "str= 2011-01-03 00:00:00\n",
      "strftime= 2011-01-03\n"
     ]
    }
   ],
   "source": [
    "ts = datetime(2011, 1, 3)\n",
    "\n",
    "print(\"str=\", str(ts))\n",
    "# Format using ISO C89.\n",
    "# strftime = str Format time\n",
    "print(\"strftime=\", ts.strftime('%Y-%m-%d'))"
   ]
  },
  {
   "cell_type": "code",
   "execution_count": 6,
   "metadata": {
    "ExecuteTime": {
     "end_time": "2018-05-13T17:54:40.719038Z",
     "start_time": "2018-05-13T10:54:40.696886-07:00"
    }
   },
   "outputs": [
    {
     "data": {
      "text/plain": [
       "datetime.datetime(2011, 1, 3, 0, 0)"
      ]
     },
     "execution_count": 6,
     "metadata": {},
     "output_type": "execute_result"
    }
   ],
   "source": [
    "# strptime = str Parse time\n",
    "# It is useful to parse a date in a known format.\n",
    "value = '2011-01-03'\n",
    "datetime.strptime(value, '%Y-%m-%d')"
   ]
  },
  {
   "cell_type": "code",
   "execution_count": 7,
   "metadata": {
    "ExecuteTime": {
     "end_time": "2018-05-13T17:54:40.741594Z",
     "start_time": "2018-05-13T10:54:40.720872-07:00"
    }
   },
   "outputs": [
    {
     "name": "stdout",
     "output_type": "stream",
     "text": [
      "2011-01-03 00:00:00\n",
      "1997-01-31 22:45:00\n",
      "2011-07-06 12:00:00\n"
     ]
    }
   ],
   "source": [
    "# To parse data in unknown format.\n",
    "import dateutil\n",
    "\n",
    "print(dateutil.parser.parse('2011-01-03'))\n",
    "print(dateutil.parser.parse('Jan 31, 1997 10:45 PM'))\n",
    "\n",
    "# Using pandas.\n",
    "print(pd.to_datetime('2011-07-06 12:00:00'))"
   ]
  },
  {
   "cell_type": "code",
   "execution_count": 8,
   "metadata": {
    "ExecuteTime": {
     "end_time": "2018-05-13T17:54:40.763121Z",
     "start_time": "2018-05-13T10:54:40.743239-07:00"
    }
   },
   "outputs": [
    {
     "name": "stdout",
     "output_type": "stream",
     "text": [
      "DatetimeIndex(['2011-07-06 12:00:00', '2011-08-06 00:00:00'], dtype='datetime64[ns]', freq=None)\n"
     ]
    }
   ],
   "source": [
    "# pd.to_datetime works also with array of strings.\n",
    "datestrs = ['2011-07-06 12:00:00', '2011-08-06 00:00:00']\n",
    "print(pd.to_datetime(datestrs))"
   ]
  },
  {
   "cell_type": "code",
   "execution_count": 9,
   "metadata": {
    "ExecuteTime": {
     "end_time": "2018-05-13T17:54:40.782939Z",
     "start_time": "2018-05-13T10:54:40.764954-07:00"
    }
   },
   "outputs": [
    {
     "name": "stdout",
     "output_type": "stream",
     "text": [
      "DatetimeIndex(['2011-07-06 12:00:00', '2011-08-06 00:00:00', 'NaT'], dtype='datetime64[ns]', freq=None)\n"
     ]
    }
   ],
   "source": [
    "# None gets converted into a Not-A-Time.\n",
    "print(pd.to_datetime(datestrs + [None]))"
   ]
  },
  {
   "cell_type": "markdown",
   "metadata": {},
   "source": [
    "## Time series basics"
   ]
  },
  {
   "cell_type": "code",
   "execution_count": 10,
   "metadata": {
    "ExecuteTime": {
     "end_time": "2018-05-13T17:54:40.820363Z",
     "start_time": "2018-05-13T10:54:40.784631-07:00"
    }
   },
   "outputs": [
    {
     "data": {
      "text/plain": [
       "2011-01-02   -0.195830\n",
       "2011-01-05   -0.813747\n",
       "2011-01-07    0.967337\n",
       "2011-01-08   -0.868878\n",
       "2011-01-10    2.101715\n",
       "2011-01-12    0.558378\n",
       "dtype: float64"
      ]
     },
     "execution_count": 10,
     "metadata": {},
     "output_type": "execute_result"
    }
   ],
   "source": [
    "dates = [\n",
    "    datetime(2011, 1, 2), datetime(2011, 1, 5), datetime(2011, 1, 7),\n",
    "    datetime(2011, 1, 8), datetime(2011, 1, 10), datetime(2011, 1, 12)\n",
    "]\n",
    "\n",
    "ts = pd.Series(np.random.randn(6), index=dates)\n",
    "\n",
    "ts"
   ]
  },
  {
   "cell_type": "code",
   "execution_count": 11,
   "metadata": {
    "ExecuteTime": {
     "end_time": "2018-05-13T17:54:40.840589Z",
     "start_time": "2018-05-13T10:54:40.822214-07:00"
    }
   },
   "outputs": [
    {
     "data": {
      "text/plain": [
       "DatetimeIndex(['2011-01-02', '2011-01-05', '2011-01-07', '2011-01-08',\n",
       "               '2011-01-10', '2011-01-12'],\n",
       "              dtype='datetime64[ns]', freq=None)"
      ]
     },
     "execution_count": 11,
     "metadata": {},
     "output_type": "execute_result"
    }
   ],
   "source": [
    "ts.index"
   ]
  },
  {
   "cell_type": "code",
   "execution_count": 12,
   "metadata": {
    "ExecuteTime": {
     "end_time": "2018-05-13T17:54:40.870679Z",
     "start_time": "2018-05-13T10:54:40.842292-07:00"
    }
   },
   "outputs": [
    {
     "data": {
      "text/plain": [
       "2011-01-02   -0.391659\n",
       "2011-01-05         NaN\n",
       "2011-01-07    1.934673\n",
       "2011-01-08         NaN\n",
       "2011-01-10    4.203429\n",
       "2011-01-12         NaN\n",
       "dtype: float64"
      ]
     },
     "execution_count": 12,
     "metadata": {},
     "output_type": "execute_result"
    }
   ],
   "source": [
    "# Arithmetic operations between differently indexed time series\n",
    "# automatically align on dates.\n",
    "\n",
    "ts + ts[::2]"
   ]
  },
  {
   "cell_type": "code",
   "execution_count": 13,
   "metadata": {
    "ExecuteTime": {
     "end_time": "2018-05-13T17:54:40.899261Z",
     "start_time": "2018-05-13T10:54:40.872313-07:00"
    }
   },
   "outputs": [
    {
     "data": {
      "text/plain": [
       "2011-01-02   -0.195830\n",
       "2011-01-07    0.967337\n",
       "2011-01-10    2.101715\n",
       "dtype: float64"
      ]
     },
     "execution_count": 13,
     "metadata": {},
     "output_type": "execute_result"
    }
   ],
   "source": [
    "ts[::2]"
   ]
  },
  {
   "cell_type": "code",
   "execution_count": 14,
   "metadata": {
    "ExecuteTime": {
     "end_time": "2018-05-13T17:54:40.919987Z",
     "start_time": "2018-05-13T10:54:40.900924-07:00"
    }
   },
   "outputs": [
    {
     "name": "stdout",
     "output_type": "stream",
     "text": [
      "ts.index.dtype= datetime64[ns]\n",
      "<class 'pandas._libs.tslib.Timestamp'>\n",
      "2011-01-02 00:00:00\n"
     ]
    }
   ],
   "source": [
    "# Timestamps are stored using np datetime64 at ns resolution.\n",
    "print(\"ts.index.dtype=\", ts.index.dtype)\n",
    "\n",
    "# Timestamp are derived from datetime objects.\n",
    "timestamp = ts.index[0]\n",
    "print(type(timestamp))\n",
    "print(timestamp)"
   ]
  },
  {
   "cell_type": "markdown",
   "metadata": {
    "ExecuteTime": {
     "end_time": "2018-04-04T15:05:02.733405Z",
     "start_time": "2018-04-04T08:05:02.712182-07:00"
    }
   },
   "source": [
    "### Indexing, selection, subsetting"
   ]
  },
  {
   "cell_type": "code",
   "execution_count": 15,
   "metadata": {
    "ExecuteTime": {
     "end_time": "2018-05-13T17:54:40.941547Z",
     "start_time": "2018-05-13T10:54:40.921667-07:00"
    }
   },
   "outputs": [
    {
     "name": "stdout",
     "output_type": "stream",
     "text": [
      "ts=\n",
      "2011-01-02   -0.195830\n",
      "2011-01-05   -0.813747\n",
      "2011-01-07    0.967337\n",
      "2011-01-08   -0.868878\n",
      "2011-01-10    2.101715\n",
      "2011-01-12    0.558378\n",
      "dtype: float64\n",
      "\n",
      "stamp= 2011-01-07 00:00:00\n"
     ]
    }
   ],
   "source": [
    "# Time series behaves as any pd.Series.\n",
    "\n",
    "print(\"ts=\\n\", ts)\n",
    "\n",
    "stamp = ts.index[2]\n",
    "print(\"\\nstamp=\", stamp)"
   ]
  },
  {
   "cell_type": "code",
   "execution_count": 16,
   "metadata": {
    "ExecuteTime": {
     "end_time": "2018-05-13T17:54:40.962483Z",
     "start_time": "2018-05-13T10:54:40.943189-07:00"
    }
   },
   "outputs": [
    {
     "name": "stdout",
     "output_type": "stream",
     "text": [
      "2.10171465932\n",
      "2.10171465932\n"
     ]
    }
   ],
   "source": [
    "# You can pass a string that will be interpreted as a date.\n",
    "\n",
    "print(ts['1/10/2011'])\n",
    "\n",
    "print(ts['20110110'])"
   ]
  },
  {
   "cell_type": "code",
   "execution_count": 17,
   "metadata": {
    "ExecuteTime": {
     "end_time": "2018-05-13T17:54:40.986330Z",
     "start_time": "2018-05-13T10:54:40.964175-07:00"
    }
   },
   "outputs": [
    {
     "name": "stdout",
     "output_type": "stream",
     "text": [
      "2000-01-01    0.953442\n",
      "2000-01-02    2.228868\n",
      "2000-01-03   -1.962444\n",
      "2000-01-04   -0.484121\n",
      "2000-01-05   -0.616139\n",
      "Freq: D, dtype: float64\n",
      "2002-09-22    0.499749\n",
      "2002-09-23   -0.365132\n",
      "2002-09-24   -2.176054\n",
      "2002-09-25   -0.294013\n",
      "2002-09-26   -1.913276\n",
      "Freq: D, dtype: float64\n"
     ]
    }
   ],
   "source": [
    "longer_ts = pd.Series(\n",
    "    np.random.randn(1000),\n",
    "    index=pd.date_range('1/1/2000', periods=1000))\n",
    "\n",
    "print_ht(longer_ts)"
   ]
  },
  {
   "cell_type": "code",
   "execution_count": 18,
   "metadata": {
    "ExecuteTime": {
     "end_time": "2018-05-13T17:54:41.007981Z",
     "start_time": "2018-05-13T10:54:40.987900-07:00"
    }
   },
   "outputs": [
    {
     "name": "stdout",
     "output_type": "stream",
     "text": [
      "2001-01-01   -0.026238\n",
      "2001-01-02    0.174582\n",
      "2001-01-03   -0.522434\n",
      "2001-01-04    0.246643\n",
      "2001-01-05    0.622896\n",
      "Freq: D, dtype: float64\n",
      "2001-12-27    0.538356\n",
      "2001-12-28    0.995585\n",
      "2001-12-29    0.536215\n",
      "2001-12-30   -0.026049\n",
      "2001-12-31   -1.058872\n",
      "Freq: D, dtype: float64\n"
     ]
    }
   ],
   "source": [
    "# Filter by year.\n",
    "print_ht(longer_ts['2001'])"
   ]
  },
  {
   "cell_type": "code",
   "execution_count": 19,
   "metadata": {
    "ExecuteTime": {
     "end_time": "2018-05-13T17:54:41.028653Z",
     "start_time": "2018-05-13T10:54:41.009550-07:00"
    }
   },
   "outputs": [
    {
     "name": "stdout",
     "output_type": "stream",
     "text": [
      "2001-05-01   -1.382761\n",
      "2001-05-02    0.364104\n",
      "2001-05-03   -0.243860\n",
      "2001-05-04    1.489501\n",
      "2001-05-05    0.469970\n",
      "Freq: D, dtype: float64\n",
      "2001-05-27   -0.039531\n",
      "2001-05-28    0.911845\n",
      "2001-05-29   -1.164597\n",
      "2001-05-30   -2.296297\n",
      "2001-05-31    0.173897\n",
      "Freq: D, dtype: float64\n"
     ]
    }
   ],
   "source": [
    "# Filter by month.\n",
    "print_ht(longer_ts['2001-05'])"
   ]
  },
  {
   "cell_type": "code",
   "execution_count": 20,
   "metadata": {
    "ExecuteTime": {
     "end_time": "2018-05-13T17:54:41.056616Z",
     "start_time": "2018-05-13T10:54:41.030272-07:00"
    }
   },
   "outputs": [
    {
     "data": {
      "text/plain": [
       "2011-01-07    0.967337\n",
       "2011-01-08   -0.868878\n",
       "2011-01-10    2.101715\n",
       "2011-01-12    0.558378\n",
       "dtype: float64"
      ]
     },
     "execution_count": 20,
     "metadata": {},
     "output_type": "execute_result"
    }
   ],
   "source": [
    "# Slice by datetime.\n",
    "ts[datetime(2011, 1, 7):]"
   ]
  },
  {
   "cell_type": "code",
   "execution_count": 21,
   "metadata": {
    "ExecuteTime": {
     "end_time": "2018-05-13T17:54:41.084376Z",
     "start_time": "2018-05-13T10:54:41.058205-07:00"
    }
   },
   "outputs": [
    {
     "data": {
      "text/plain": [
       "2011-01-07    0.967337\n",
       "2011-01-08   -0.868878\n",
       "2011-01-10    2.101715\n",
       "dtype: float64"
      ]
     },
     "execution_count": 21,
     "metadata": {},
     "output_type": "execute_result"
    }
   ],
   "source": [
    "# One can use date, datetime, or timestamp to slice.\n",
    "# Note that slicing creates a np view on the object, and there\n",
    "# is no data copied.\n",
    "ts['1/6/2011':'1/11/2011']"
   ]
  },
  {
   "cell_type": "code",
   "execution_count": 22,
   "metadata": {
    "ExecuteTime": {
     "end_time": "2018-05-13T17:54:41.113305Z",
     "start_time": "2018-05-13T10:54:41.085882-07:00"
    }
   },
   "outputs": [
    {
     "data": {
      "text/plain": [
       "2011-01-02   -0.195830\n",
       "2011-01-05   -0.813747\n",
       "2011-01-07    0.967337\n",
       "2011-01-08   -0.868878\n",
       "dtype: float64"
      ]
     },
     "execution_count": 22,
     "metadata": {},
     "output_type": "execute_result"
    }
   ],
   "source": [
    "ts.truncate(after='1/9/2011')"
   ]
  },
  {
   "cell_type": "code",
   "execution_count": 23,
   "metadata": {
    "ExecuteTime": {
     "end_time": "2018-05-13T17:54:41.153414Z",
     "start_time": "2018-05-13T10:54:41.114859-07:00"
    }
   },
   "outputs": [
    {
     "name": "stdout",
     "output_type": "stream",
     "text": [
      "True\n",
      "            Colorado     Texas        NY      Ohio\n",
      "2000-01-05  0.228642  0.203085 -0.322465 -1.242223\n",
      "2000-01-12  0.882768 -0.119918  0.345217  2.635342\n",
      "2000-01-19 -1.286971 -1.705926 -0.597030  0.063292\n",
      "2000-01-26 -1.317127  0.366290  0.492232  1.966448\n",
      "2000-02-02 -0.784780  0.629830 -0.646747 -0.466076\n",
      "            Colorado     Texas        NY      Ohio\n",
      "2001-10-31  0.039872 -0.905562 -0.188492  0.116938\n",
      "2001-11-07 -1.212310  0.267614  1.345367 -0.770098\n",
      "2001-11-14  0.901416 -1.286568 -0.711707 -1.612438\n",
      "2001-11-21 -0.546983 -0.653516  0.026749 -1.293937\n",
      "2001-11-28  0.577820 -0.985672 -1.704768  0.277601\n"
     ]
    }
   ],
   "source": [
    "# Everything works also for DataFrame indexed on datetimes.\n",
    "\n",
    "dates = pd.date_range('1/1/2000', periods=100, freq='W-WED')\n",
    "\n",
    "long_df = pd.DataFrame(np.random.randn(100, 4),\n",
    "                       index=dates,\n",
    "                       columns=\"Colorado Texas NY Ohio\".split())\n",
    "\n",
    "print(long_df.index.is_unique)\n",
    "\n",
    "print_ht(long_df)"
   ]
  },
  {
   "cell_type": "code",
   "execution_count": 24,
   "metadata": {
    "ExecuteTime": {
     "end_time": "2018-05-13T17:54:41.184318Z",
     "start_time": "2018-05-13T10:54:41.155536-07:00"
    }
   },
   "outputs": [
    {
     "data": {
      "text/html": [
       "<div>\n",
       "<style>\n",
       "    .dataframe thead tr:only-child th {\n",
       "        text-align: right;\n",
       "    }\n",
       "\n",
       "    .dataframe thead th {\n",
       "        text-align: left;\n",
       "    }\n",
       "\n",
       "    .dataframe tbody tr th {\n",
       "        vertical-align: top;\n",
       "    }\n",
       "</style>\n",
       "<table border=\"1\" class=\"dataframe\">\n",
       "  <thead>\n",
       "    <tr style=\"text-align: right;\">\n",
       "      <th></th>\n",
       "      <th>Colorado</th>\n",
       "      <th>Texas</th>\n",
       "      <th>NY</th>\n",
       "      <th>Ohio</th>\n",
       "    </tr>\n",
       "  </thead>\n",
       "  <tbody>\n",
       "    <tr>\n",
       "      <th>2001-05-02</th>\n",
       "      <td>-0.051895</td>\n",
       "      <td>0.895997</td>\n",
       "      <td>0.660607</td>\n",
       "      <td>-0.928111</td>\n",
       "    </tr>\n",
       "    <tr>\n",
       "      <th>2001-05-09</th>\n",
       "      <td>-0.871449</td>\n",
       "      <td>-0.390879</td>\n",
       "      <td>-0.046661</td>\n",
       "      <td>-0.729040</td>\n",
       "    </tr>\n",
       "    <tr>\n",
       "      <th>2001-05-16</th>\n",
       "      <td>-0.734144</td>\n",
       "      <td>1.012671</td>\n",
       "      <td>0.057078</td>\n",
       "      <td>-1.447163</td>\n",
       "    </tr>\n",
       "    <tr>\n",
       "      <th>2001-05-23</th>\n",
       "      <td>-0.090685</td>\n",
       "      <td>0.016009</td>\n",
       "      <td>-0.365720</td>\n",
       "      <td>0.156157</td>\n",
       "    </tr>\n",
       "    <tr>\n",
       "      <th>2001-05-30</th>\n",
       "      <td>1.060071</td>\n",
       "      <td>-0.372341</td>\n",
       "      <td>0.884625</td>\n",
       "      <td>0.135811</td>\n",
       "    </tr>\n",
       "  </tbody>\n",
       "</table>\n",
       "</div>"
      ],
      "text/plain": [
       "            Colorado     Texas        NY      Ohio\n",
       "2001-05-02 -0.051895  0.895997  0.660607 -0.928111\n",
       "2001-05-09 -0.871449 -0.390879 -0.046661 -0.729040\n",
       "2001-05-16 -0.734144  1.012671  0.057078 -1.447163\n",
       "2001-05-23 -0.090685  0.016009 -0.365720  0.156157\n",
       "2001-05-30  1.060071 -0.372341  0.884625  0.135811"
      ]
     },
     "execution_count": 24,
     "metadata": {},
     "output_type": "execute_result"
    }
   ],
   "source": [
    "long_df.loc['5-2001']"
   ]
  },
  {
   "cell_type": "markdown",
   "metadata": {},
   "source": [
    "### Time series with duplicated indices."
   ]
  },
  {
   "cell_type": "code",
   "execution_count": 25,
   "metadata": {
    "ExecuteTime": {
     "end_time": "2018-05-13T17:54:41.214561Z",
     "start_time": "2018-05-13T10:54:41.186176-07:00"
    }
   },
   "outputs": [
    {
     "data": {
      "text/plain": [
       "2000-01-01    0\n",
       "2000-01-02    1\n",
       "2000-01-02    2\n",
       "2000-01-02    3\n",
       "2000-01-03    4\n",
       "dtype: int64"
      ]
     },
     "execution_count": 25,
     "metadata": {},
     "output_type": "execute_result"
    }
   ],
   "source": [
    "dates = pd.DatetimeIndex(\n",
    "    ['1/1/2000', '1/2/2000', '1/2/2000', '1/2/2000', '1/3/2000'])\n",
    "\n",
    "dup_ts = pd.Series(np.arange(5), index=dates)\n",
    "\n",
    "dup_ts"
   ]
  },
  {
   "cell_type": "code",
   "execution_count": 26,
   "metadata": {
    "ExecuteTime": {
     "end_time": "2018-05-13T17:54:41.234983Z",
     "start_time": "2018-05-13T10:54:41.216307-07:00"
    }
   },
   "outputs": [
    {
     "data": {
      "text/plain": [
       "False"
      ]
     },
     "execution_count": 26,
     "metadata": {},
     "output_type": "execute_result"
    }
   ],
   "source": [
    "dup_ts.index.is_unique"
   ]
  },
  {
   "cell_type": "code",
   "execution_count": 27,
   "metadata": {
    "ExecuteTime": {
     "end_time": "2018-05-13T17:54:41.257661Z",
     "start_time": "2018-05-13T10:54:41.236660-07:00"
    }
   },
   "outputs": [
    {
     "name": "stdout",
     "output_type": "stream",
     "text": [
      "4\n",
      "2000-01-02    1\n",
      "2000-01-02    2\n",
      "2000-01-02    3\n",
      "dtype: int64\n"
     ]
    }
   ],
   "source": [
    "# Indexing can produce scalar values or slices, depending on whether\n",
    "# a timestamp is duplicated.\n",
    "\n",
    "# Not dup.\n",
    "print(dup_ts['1/3/2000'])\n",
    "\n",
    "# Dup.\n",
    "print(dup_ts['1/2/2000'])"
   ]
  },
  {
   "cell_type": "code",
   "execution_count": 28,
   "metadata": {
    "ExecuteTime": {
     "end_time": "2018-05-13T17:54:41.283338Z",
     "start_time": "2018-05-13T10:54:41.259756-07:00"
    }
   },
   "outputs": [
    {
     "name": "stdout",
     "output_type": "stream",
     "text": [
      "2000-01-01    1\n",
      "2000-01-02    3\n",
      "2000-01-03    1\n",
      "dtype: int64\n",
      "2000-01-01    0\n",
      "2000-01-02    2\n",
      "2000-01-03    4\n",
      "dtype: int64\n"
     ]
    }
   ],
   "source": [
    "# To aggregate the data, you can use groupby using level=0.\n",
    "grouped = dup_ts.groupby(level=0)\n",
    "\n",
    "# Count elements per date.\n",
    "print(grouped.count())\n",
    "\n",
    "# Compute mean.\n",
    "print(grouped.mean())"
   ]
  },
  {
   "cell_type": "markdown",
   "metadata": {},
   "source": [
    "## Date ranges, freqs, shifting"
   ]
  },
  {
   "cell_type": "code",
   "execution_count": 29,
   "metadata": {
    "ExecuteTime": {
     "end_time": "2018-05-13T17:54:41.300380Z",
     "start_time": "2018-05-13T10:54:41.284823-07:00"
    },
    "collapsed": true
   },
   "outputs": [],
   "source": [
    "# Time series in Pandas are assumed to be \"irregular\", i.e., having\n",
    "# no fixed frequency.\n",
    "# Often we want to work with time series with fixed frequency.\n",
    "# Pandas has functions for:\n",
    "# - resampling\n",
    "# - inferring frequencies\n",
    "# - generating fixed-frequency ranges"
   ]
  },
  {
   "cell_type": "code",
   "execution_count": 30,
   "metadata": {
    "ExecuteTime": {
     "end_time": "2018-05-13T17:54:41.328712Z",
     "start_time": "2018-05-13T10:54:41.301944-07:00"
    }
   },
   "outputs": [
    {
     "data": {
      "text/plain": [
       "2011-01-02   -1.420990\n",
       "2011-01-05    0.674290\n",
       "2011-01-07    0.712650\n",
       "2011-01-08   -0.635353\n",
       "2011-01-10    0.732992\n",
       "2011-01-12    0.904861\n",
       "dtype: float64"
      ]
     },
     "execution_count": 30,
     "metadata": {},
     "output_type": "execute_result"
    }
   ],
   "source": [
    "dates = [\n",
    "    datetime(2011, 1, 2), datetime(2011, 1, 5), datetime(2011, 1, 7),\n",
    "    datetime(2011, 1, 8), datetime(2011, 1, 10), datetime(2011, 1, 12)\n",
    "]\n",
    "ts = pd.Series(np.random.randn(6), index=dates)\n",
    "ts"
   ]
  },
  {
   "cell_type": "code",
   "execution_count": 31,
   "metadata": {
    "ExecuteTime": {
     "end_time": "2018-05-13T17:54:41.356353Z",
     "start_time": "2018-05-13T10:54:41.330453-07:00"
    }
   },
   "outputs": [
    {
     "data": {
      "text/plain": [
       "DatetimeIndexResampler [freq=<Day>, axis=0, closed=left, label=left, convention=start, base=0]"
      ]
     },
     "execution_count": 31,
     "metadata": {},
     "output_type": "execute_result"
    }
   ],
   "source": [
    "ts.resample('D')"
   ]
  },
  {
   "cell_type": "markdown",
   "metadata": {},
   "source": [
    "### Generating date ranges"
   ]
  },
  {
   "cell_type": "code",
   "execution_count": 32,
   "metadata": {
    "ExecuteTime": {
     "end_time": "2018-05-13T17:54:41.377797Z",
     "start_time": "2018-05-13T10:54:41.358045-07:00"
    }
   },
   "outputs": [
    {
     "data": {
      "text/plain": [
       "DatetimeIndex(['2012-04-01', '2012-04-02', '2012-04-03', '2012-04-04',\n",
       "               '2012-04-05', '2012-04-06', '2012-04-07', '2012-04-08',\n",
       "               '2012-04-09', '2012-04-10', '2012-04-11', '2012-04-12',\n",
       "               '2012-04-13', '2012-04-14', '2012-04-15', '2012-04-16',\n",
       "               '2012-04-17', '2012-04-18', '2012-04-19', '2012-04-20',\n",
       "               '2012-04-21', '2012-04-22', '2012-04-23', '2012-04-24',\n",
       "               '2012-04-25', '2012-04-26', '2012-04-27', '2012-04-28',\n",
       "               '2012-04-29', '2012-04-30', '2012-05-01', '2012-05-02',\n",
       "               '2012-05-03', '2012-05-04', '2012-05-05', '2012-05-06',\n",
       "               '2012-05-07', '2012-05-08', '2012-05-09', '2012-05-10',\n",
       "               '2012-05-11', '2012-05-12', '2012-05-13', '2012-05-14',\n",
       "               '2012-05-15', '2012-05-16', '2012-05-17', '2012-05-18',\n",
       "               '2012-05-19', '2012-05-20', '2012-05-21', '2012-05-22',\n",
       "               '2012-05-23', '2012-05-24', '2012-05-25', '2012-05-26',\n",
       "               '2012-05-27', '2012-05-28', '2012-05-29', '2012-05-30',\n",
       "               '2012-05-31', '2012-06-01'],\n",
       "              dtype='datetime64[ns]', freq='D')"
      ]
     },
     "execution_count": 32,
     "metadata": {},
     "output_type": "execute_result"
    }
   ],
   "source": [
    "# Sample daily (by default) a (closed) interval of dates.\n",
    "pd.date_range('2012-04-01', '2012-06-01')"
   ]
  },
  {
   "cell_type": "code",
   "execution_count": 33,
   "metadata": {
    "ExecuteTime": {
     "end_time": "2018-05-13T17:54:41.399012Z",
     "start_time": "2018-05-13T10:54:41.379454-07:00"
    }
   },
   "outputs": [
    {
     "name": "stdout",
     "output_type": "stream",
     "text": [
      "DatetimeIndex(['2012-04-01', '2012-04-02', '2012-04-03', '2012-04-04',\n",
      "               '2012-04-05'],\n",
      "              dtype='datetime64[ns]', freq='D')\n",
      "DatetimeIndex(['2012-05-28', '2012-05-29', '2012-05-30', '2012-05-31',\n",
      "               '2012-06-01'],\n",
      "              dtype='datetime64[ns]', freq='D')\n"
     ]
    }
   ],
   "source": [
    "# If only one point of the interval is specified, periods is\n",
    "# required\n",
    "print(pd.date_range(start='2012-04-01', periods=5))\n",
    "print(pd.date_range(end='2012-06-01', periods=5))"
   ]
  },
  {
   "cell_type": "code",
   "execution_count": 34,
   "metadata": {
    "ExecuteTime": {
     "end_time": "2018-05-13T17:54:41.420617Z",
     "start_time": "2018-05-13T10:54:41.400670-07:00"
    }
   },
   "outputs": [
    {
     "data": {
      "text/plain": [
       "DatetimeIndex(['2000-01-31', '2000-02-29', '2000-03-31', '2000-04-28',\n",
       "               '2000-05-31'],\n",
       "              dtype='datetime64[ns]', freq='BM')"
      ]
     },
     "execution_count": 34,
     "metadata": {},
     "output_type": "execute_result"
    }
   ],
   "source": [
    "pd.date_range('2000-01-01', '2000-06-01', freq='BM')"
   ]
  },
  {
   "cell_type": "code",
   "execution_count": 35,
   "metadata": {
    "ExecuteTime": {
     "end_time": "2018-05-13T17:54:41.441712Z",
     "start_time": "2018-05-13T10:54:41.422255-07:00"
    }
   },
   "outputs": [
    {
     "data": {
      "text/plain": [
       "DatetimeIndex(['2012-05-02 12:56:31', '2012-05-03 12:56:31',\n",
       "               '2012-05-04 12:56:31', '2012-05-05 12:56:31',\n",
       "               '2012-05-06 12:56:31'],\n",
       "              dtype='datetime64[ns]', freq='D')"
      ]
     },
     "execution_count": 35,
     "metadata": {},
     "output_type": "execute_result"
    }
   ],
   "source": [
    "# date_range() preserves the time, if present.\n",
    "pd.date_range('2012-05-02 12:56:31', periods=5)"
   ]
  },
  {
   "cell_type": "code",
   "execution_count": 36,
   "metadata": {
    "ExecuteTime": {
     "end_time": "2018-05-13T17:54:41.461077Z",
     "start_time": "2018-05-13T10:54:41.443417-07:00"
    }
   },
   "outputs": [
    {
     "data": {
      "text/plain": [
       "DatetimeIndex(['2012-05-02', '2012-05-03', '2012-05-04', '2012-05-05',\n",
       "               '2012-05-06'],\n",
       "              dtype='datetime64[ns]', freq='D')"
      ]
     },
     "execution_count": 36,
     "metadata": {},
     "output_type": "execute_result"
    }
   ],
   "source": [
    "# normalize=True aligns on midnights.\n",
    "pd.date_range('2012-05-02 12:56:31', periods=5, normalize=True)"
   ]
  },
  {
   "cell_type": "markdown",
   "metadata": {},
   "source": [
    "### Frequencies and date offsets\n",
    "\n",
    "- frequencies are composed of a base frequency and a multiplier"
   ]
  },
  {
   "cell_type": "code",
   "execution_count": 37,
   "metadata": {
    "ExecuteTime": {
     "end_time": "2018-05-13T17:54:41.480769Z",
     "start_time": "2018-05-13T10:54:41.462629-07:00"
    }
   },
   "outputs": [
    {
     "name": "stdout",
     "output_type": "stream",
     "text": [
      "<Hour>\n"
     ]
    }
   ],
   "source": [
    "from pandas.tseries.offsets import Hour, Minute\n",
    "\n",
    "hour = Hour()\n",
    "print(hour)"
   ]
  },
  {
   "cell_type": "code",
   "execution_count": 38,
   "metadata": {
    "ExecuteTime": {
     "end_time": "2018-05-13T17:54:41.499671Z",
     "start_time": "2018-05-13T10:54:41.482660-07:00"
    }
   },
   "outputs": [
    {
     "name": "stdout",
     "output_type": "stream",
     "text": [
      "<4 * Hours>\n"
     ]
    }
   ],
   "source": [
    "four_hours = Hour(4)\n",
    "print(four_hours)"
   ]
  },
  {
   "cell_type": "code",
   "execution_count": 39,
   "metadata": {
    "ExecuteTime": {
     "end_time": "2018-05-13T17:54:41.519864Z",
     "start_time": "2018-05-13T10:54:41.501469-07:00"
    }
   },
   "outputs": [
    {
     "data": {
      "text/plain": [
       "DatetimeIndex(['2000-01-01 00:00:00', '2000-01-01 04:00:00',\n",
       "               '2000-01-01 08:00:00', '2000-01-01 12:00:00',\n",
       "               '2000-01-01 16:00:00', '2000-01-01 20:00:00',\n",
       "               '2000-01-02 00:00:00', '2000-01-02 04:00:00',\n",
       "               '2000-01-02 08:00:00', '2000-01-02 12:00:00',\n",
       "               '2000-01-02 16:00:00', '2000-01-02 20:00:00'],\n",
       "              dtype='datetime64[ns]', freq='4H')"
      ]
     },
     "execution_count": 39,
     "metadata": {},
     "output_type": "execute_result"
    }
   ],
   "source": [
    "pd.date_range('2000-01-01', '2000-01-02 23:59', freq='4h')"
   ]
  },
  {
   "cell_type": "code",
   "execution_count": 40,
   "metadata": {
    "ExecuteTime": {
     "end_time": "2018-05-13T17:54:41.540045Z",
     "start_time": "2018-05-13T10:54:41.521490-07:00"
    }
   },
   "outputs": [
    {
     "data": {
      "text/plain": [
       "<150 * Minutes>"
      ]
     },
     "execution_count": 40,
     "metadata": {},
     "output_type": "execute_result"
    }
   ],
   "source": [
    "# Frequencies can be combined.\n",
    "Hour(2) + Minute(30)"
   ]
  },
  {
   "cell_type": "code",
   "execution_count": 41,
   "metadata": {
    "ExecuteTime": {
     "end_time": "2018-05-13T17:54:41.561405Z",
     "start_time": "2018-05-13T10:54:41.541725-07:00"
    }
   },
   "outputs": [
    {
     "data": {
      "text/plain": [
       "DatetimeIndex(['2000-01-01 00:00:00', '2000-01-01 01:30:00',\n",
       "               '2000-01-01 03:00:00', '2000-01-01 04:30:00',\n",
       "               '2000-01-01 06:00:00', '2000-01-01 07:30:00',\n",
       "               '2000-01-01 09:00:00', '2000-01-01 10:30:00',\n",
       "               '2000-01-01 12:00:00', '2000-01-01 13:30:00'],\n",
       "              dtype='datetime64[ns]', freq='90T')"
      ]
     },
     "execution_count": 41,
     "metadata": {},
     "output_type": "execute_result"
    }
   ],
   "source": [
    "pd.date_range('2000-01-01', periods=10, freq='1h30min')"
   ]
  },
  {
   "cell_type": "code",
   "execution_count": 42,
   "metadata": {
    "ExecuteTime": {
     "end_time": "2018-05-13T17:54:41.588800Z",
     "start_time": "2018-05-13T10:54:41.563184-07:00"
    }
   },
   "outputs": [
    {
     "data": {
      "text/plain": [
       "DatetimeIndex(['2012-01-20', '2012-02-17', '2012-03-16', '2012-04-20',\n",
       "               '2012-05-18', '2012-06-15', '2012-07-20', '2012-08-17'],\n",
       "              dtype='datetime64[ns]', freq='WOM-3FRI')"
      ]
     },
     "execution_count": 42,
     "metadata": {},
     "output_type": "execute_result"
    }
   ],
   "source": [
    "# Week of month: e.g., 3rd Friday of each month.\n",
    "pd.date_range('2012-01-01', '2012-09-01', freq='WOM-3FRI')"
   ]
  },
  {
   "cell_type": "markdown",
   "metadata": {},
   "source": [
    "### Shifting data\n",
    "\n",
    "- shift is about moving data back and forward through time"
   ]
  },
  {
   "cell_type": "code",
   "execution_count": 43,
   "metadata": {
    "ExecuteTime": {
     "end_time": "2018-05-13T17:54:41.625172Z",
     "start_time": "2018-05-13T10:54:41.591061-07:00"
    }
   },
   "outputs": [
    {
     "data": {
      "text/plain": [
       "2000-01-31    0.137219\n",
       "2000-02-29   -0.441725\n",
       "2000-03-31   -0.025440\n",
       "2000-04-30   -0.647758\n",
       "Freq: M, dtype: float64"
      ]
     },
     "execution_count": 43,
     "metadata": {},
     "output_type": "execute_result"
    }
   ],
   "source": [
    "ts = pd.Series(\n",
    "    np.random.randn(4),\n",
    "    index=pd.date_range('1/1/2000', periods=4, freq='M'))\n",
    "ts"
   ]
  },
  {
   "cell_type": "code",
   "execution_count": 44,
   "metadata": {
    "ExecuteTime": {
     "end_time": "2018-05-13T17:54:41.658098Z",
     "start_time": "2018-05-13T10:54:41.627088-07:00"
    }
   },
   "outputs": [
    {
     "data": {
      "text/plain": [
       "2000-01-31         NaN\n",
       "2000-02-29         NaN\n",
       "2000-03-31    0.137219\n",
       "2000-04-30   -0.441725\n",
       "Freq: M, dtype: float64"
      ]
     },
     "execution_count": 44,
     "metadata": {},
     "output_type": "execute_result"
    }
   ],
   "source": [
    "# Shift backward 2 lags (delay).\n",
    "# Note that no new timestamps is inferred, so data is lost.\n",
    "ts.shift(2)"
   ]
  },
  {
   "cell_type": "code",
   "execution_count": 45,
   "metadata": {
    "ExecuteTime": {
     "end_time": "2018-05-13T17:54:41.685456Z",
     "start_time": "2018-05-13T10:54:41.660308-07:00"
    }
   },
   "outputs": [
    {
     "data": {
      "text/plain": [
       "2000-01-31   -0.025440\n",
       "2000-02-29   -0.647758\n",
       "2000-03-31         NaN\n",
       "2000-04-30         NaN\n",
       "Freq: M, dtype: float64"
      ]
     },
     "execution_count": 45,
     "metadata": {},
     "output_type": "execute_result"
    }
   ],
   "source": [
    "# Shift forward 2 lags.\n",
    "ts.shift(-2)"
   ]
  },
  {
   "cell_type": "code",
   "execution_count": 46,
   "metadata": {
    "ExecuteTime": {
     "end_time": "2018-05-13T17:54:41.711065Z",
     "start_time": "2018-05-13T10:54:41.687278-07:00"
    }
   },
   "outputs": [
    {
     "data": {
      "text/plain": [
       "2000-03-31    0.137219\n",
       "2000-04-30   -0.441725\n",
       "2000-05-31   -0.025440\n",
       "2000-06-30   -0.647758\n",
       "Freq: M, dtype: float64"
      ]
     },
     "execution_count": 46,
     "metadata": {},
     "output_type": "execute_result"
    }
   ],
   "source": [
    "# If frequency of data is known, new timestamps can be inferred.\n",
    "ts.shift(2, freq=\"M\")"
   ]
  },
  {
   "cell_type": "code",
   "execution_count": 47,
   "metadata": {
    "ExecuteTime": {
     "end_time": "2018-05-13T17:54:41.738527Z",
     "start_time": "2018-05-13T10:54:41.712638-07:00"
    }
   },
   "outputs": [
    {
     "data": {
      "text/plain": [
       "2000-02-03    0.137219\n",
       "2000-03-03   -0.441725\n",
       "2000-04-03   -0.025440\n",
       "2000-05-03   -0.647758\n",
       "dtype: float64"
      ]
     },
     "execution_count": 47,
     "metadata": {},
     "output_type": "execute_result"
    }
   ],
   "source": [
    "ts.shift(3, freq=\"D\")"
   ]
  },
  {
   "cell_type": "code",
   "execution_count": 48,
   "metadata": {
    "ExecuteTime": {
     "end_time": "2018-05-13T17:54:41.766574Z",
     "start_time": "2018-05-13T10:54:41.740400-07:00"
    }
   },
   "outputs": [
    {
     "data": {
      "text/plain": [
       "2000-01-31 06:00:00    0.137219\n",
       "2000-02-29 06:00:00   -0.441725\n",
       "2000-03-31 06:00:00   -0.025440\n",
       "2000-04-30 06:00:00   -0.647758\n",
       "Freq: M, dtype: float64"
      ]
     },
     "execution_count": 48,
     "metadata": {},
     "output_type": "execute_result"
    }
   ],
   "source": [
    "# Shift back of 4 * 90 mins = 6hrs.\n",
    "ts.shift(4, freq='90T')"
   ]
  },
  {
   "cell_type": "markdown",
   "metadata": {},
   "source": [
    "### Shifting dates with offsets"
   ]
  },
  {
   "cell_type": "code",
   "execution_count": 49,
   "metadata": {
    "ExecuteTime": {
     "end_time": "2018-05-13T17:54:41.787575Z",
     "start_time": "2018-05-13T10:54:41.768523-07:00"
    }
   },
   "outputs": [
    {
     "name": "stdout",
     "output_type": "stream",
     "text": [
      "2011-11-20 00:00:00\n"
     ]
    }
   ],
   "source": [
    "from pandas.tseries.offsets import Day, MonthEnd\n",
    "\n",
    "now = datetime(2011, 11, 17)\n",
    "\n",
    "print(now + 3 * Day())"
   ]
  },
  {
   "cell_type": "code",
   "execution_count": 50,
   "metadata": {
    "ExecuteTime": {
     "end_time": "2018-05-13T17:54:41.808037Z",
     "start_time": "2018-05-13T10:54:41.789309-07:00"
    }
   },
   "outputs": [
    {
     "name": "stdout",
     "output_type": "stream",
     "text": [
      "2011-11-30 00:00:00\n",
      "2011-11-30 00:00:00\n"
     ]
    }
   ],
   "source": [
    "# Anchored offsets allow to align a period of time.\n",
    "print(now + MonthEnd())\n",
    "# This is equivalent to:\n",
    "print(MonthEnd().rollforward(now))"
   ]
  },
  {
   "cell_type": "code",
   "execution_count": 51,
   "metadata": {
    "ExecuteTime": {
     "end_time": "2018-05-13T17:54:41.827443Z",
     "start_time": "2018-05-13T10:54:41.809675-07:00"
    }
   },
   "outputs": [
    {
     "name": "stdout",
     "output_type": "stream",
     "text": [
      "2011-12-31 00:00:00\n"
     ]
    }
   ],
   "source": [
    "print(now + MonthEnd(2))"
   ]
  },
  {
   "cell_type": "code",
   "execution_count": 52,
   "metadata": {
    "ExecuteTime": {
     "end_time": "2018-05-13T17:54:41.855381Z",
     "start_time": "2018-05-13T10:54:41.829093-07:00"
    }
   },
   "outputs": [
    {
     "data": {
      "text/plain": [
       "2000-01-15    0.081999\n",
       "2000-01-19    0.864714\n",
       "2000-01-23    0.284556\n",
       "2000-01-27    0.433515\n",
       "2000-01-31    1.967312\n",
       "2000-02-04   -0.461309\n",
       "2000-02-08   -0.939936\n",
       "2000-02-12   -0.393808\n",
       "2000-02-16   -0.057009\n",
       "2000-02-20   -0.408874\n",
       "2000-02-24    1.047092\n",
       "2000-02-28   -1.146174\n",
       "2000-03-03    2.388882\n",
       "2000-03-07    0.578028\n",
       "2000-03-11   -0.825274\n",
       "2000-03-15   -0.332605\n",
       "2000-03-19   -2.258880\n",
       "2000-03-23    1.960624\n",
       "2000-03-27   -0.228699\n",
       "2000-03-31   -0.369610\n",
       "Freq: 4D, dtype: float64"
      ]
     },
     "execution_count": 52,
     "metadata": {},
     "output_type": "execute_result"
    }
   ],
   "source": [
    "# One can use date offsets with groupby.\n",
    "ts = pd.Series(np.random.randn(20),\n",
    "               index=pd.date_range('1/15/2000',\n",
    "                                   periods=20,\n",
    "                                   freq='4d'))\n",
    "ts"
   ]
  },
  {
   "cell_type": "code",
   "execution_count": 53,
   "metadata": {
    "ExecuteTime": {
     "end_time": "2018-05-13T17:54:41.880764Z",
     "start_time": "2018-05-13T10:54:41.857076-07:00"
    }
   },
   "outputs": [
    {
     "name": "stdout",
     "output_type": "stream",
     "text": [
      "[2000-01-15 00:00:00, 2000-01-31 00:00:00]\n",
      "[2000-02-04 00:00:00, 2000-02-28 00:00:00]\n",
      "[2000-03-03 00:00:00, 2000-03-31 00:00:00]\n"
     ]
    }
   ],
   "source": [
    "offset = MonthEnd()\n",
    "\n",
    "def print_group(df):\n",
    "    print(\"[%s, %s]\" % (df.index[0], df.index[-1]))\n",
    "    \n",
    "#print ts.groupby(offset.rollforward).first()\n",
    "#print ts.groupby(offset.rollforward).last()\n",
    "_ = ts.groupby(offset.rollforward).agg(print_group)"
   ]
  },
  {
   "cell_type": "code",
   "execution_count": 54,
   "metadata": {
    "ExecuteTime": {
     "end_time": "2018-05-13T17:54:41.904135Z",
     "start_time": "2018-05-13T10:54:41.882367-07:00"
    }
   },
   "outputs": [
    {
     "name": "stdout",
     "output_type": "stream",
     "text": [
      "[2000-01-15 00:00:00, 2000-01-31 00:00:00]\n",
      "[2000-02-04 00:00:00, 2000-02-28 00:00:00]\n",
      "[2000-03-03 00:00:00, 2000-03-31 00:00:00]\n"
     ]
    }
   ],
   "source": [
    "# This is equivalent to resample.\n",
    "ts.resample('M').agg(print_group);"
   ]
  },
  {
   "cell_type": "markdown",
   "metadata": {},
   "source": [
    "## Time zone handling\n",
    "\n",
    "- Working with time zones is unpleasant\n",
    "    - One can work with UTC (Coordinated Universal Time), which is\n",
    "      an international standard\n",
    "    - Time zones are expressed as offsets from UTC\n",
    "    - E.g., NY is +4 during daylight saving time (DST), +5 otherwise\n",
    "- pytz is 3rd party library\n",
    "    - Olson db\n",
    "    - DST and UTC offsets have been changed many times\n",
    "- pandas wraps pytz"
   ]
  },
  {
   "cell_type": "code",
   "execution_count": 55,
   "metadata": {
    "ExecuteTime": {
     "end_time": "2018-05-13T17:54:41.961182Z",
     "start_time": "2018-05-13T10:54:41.905902-07:00"
    }
   },
   "outputs": [
    {
     "data": {
      "text/plain": [
       "['US/Arizona',\n",
       " 'US/Central',\n",
       " 'US/Eastern',\n",
       " 'US/Hawaii',\n",
       " 'US/Mountain',\n",
       " 'US/Pacific',\n",
       " 'UTC']"
      ]
     },
     "execution_count": 55,
     "metadata": {},
     "output_type": "execute_result"
    }
   ],
   "source": [
    "import pytz\n",
    "\n",
    "pytz.common_timezones[-7:]"
   ]
  },
  {
   "cell_type": "code",
   "execution_count": 56,
   "metadata": {
    "ExecuteTime": {
     "end_time": "2018-05-13T17:54:41.982813Z",
     "start_time": "2018-05-13T10:54:41.962892-07:00"
    }
   },
   "outputs": [
    {
     "name": "stdout",
     "output_type": "stream",
     "text": [
      "America/New_York\n",
      "<DstTzInfo 'America/New_York' LMT-1 day, 19:04:00 STD>\n"
     ]
    }
   ],
   "source": [
    "tz = pytz.timezone('America/New_York')\n",
    "\n",
    "print(tz)\n",
    "print(repr(tz))"
   ]
  },
  {
   "cell_type": "markdown",
   "metadata": {},
   "source": [
    "### Time zone localization and conversion\n",
    "\n",
    "- By default time series are time zone naive"
   ]
  },
  {
   "cell_type": "code",
   "execution_count": 57,
   "metadata": {
    "ExecuteTime": {
     "end_time": "2018-05-13T17:54:42.005961Z",
     "start_time": "2018-05-13T10:54:41.984688-07:00"
    }
   },
   "outputs": [
    {
     "name": "stdout",
     "output_type": "stream",
     "text": [
      "DatetimeIndex(['2012-03-09 09:30:00', '2012-03-10 09:30:00',\n",
      "               '2012-03-11 09:30:00', '2012-03-12 09:30:00',\n",
      "               '2012-03-13 09:30:00', '2012-03-14 09:30:00'],\n",
      "              dtype='datetime64[ns]', freq='D')\n",
      "None\n"
     ]
    }
   ],
   "source": [
    "rng = pd.date_range('3/9/2012 9:30', periods=6, freq='D')\n",
    "\n",
    "print(rng)\n",
    "\n",
    "# Note that tz field is none.\n",
    "print(rng.tz)"
   ]
  },
  {
   "cell_type": "code",
   "execution_count": 58,
   "metadata": {
    "ExecuteTime": {
     "end_time": "2018-05-13T17:54:42.027350Z",
     "start_time": "2018-05-13T10:54:42.008213-07:00"
    }
   },
   "outputs": [
    {
     "name": "stdout",
     "output_type": "stream",
     "text": [
      "2012-03-09 09:30:00    0.659952\n",
      "2012-03-10 09:30:00   -0.277512\n",
      "2012-03-11 09:30:00   -0.584728\n",
      "2012-03-12 09:30:00   -0.039433\n",
      "2012-03-13 09:30:00    0.790273\n",
      "2012-03-14 09:30:00   -0.326480\n",
      "Freq: D, dtype: float64\n",
      "index.tz= None\n"
     ]
    }
   ],
   "source": [
    "ts = pd.Series(np.random.randn(len(rng)), index=rng)\n",
    "print(ts)\n",
    "\n",
    "# Note that tz field is none.\n",
    "print(\"index.tz=\", ts.index.tz)"
   ]
  },
  {
   "cell_type": "code",
   "execution_count": 59,
   "metadata": {
    "ExecuteTime": {
     "end_time": "2018-05-13T17:54:42.048869Z",
     "start_time": "2018-05-13T10:54:42.029055-07:00"
    }
   },
   "outputs": [
    {
     "name": "stdout",
     "output_type": "stream",
     "text": [
      "DatetimeIndex(['2012-03-09 09:30:00+00:00', '2012-03-10 09:30:00+00:00',\n",
      "               '2012-03-11 09:30:00+00:00', '2012-03-12 09:30:00+00:00',\n",
      "               '2012-03-13 09:30:00+00:00', '2012-03-14 09:30:00+00:00'],\n",
      "              dtype='datetime64[ns, UTC]', freq='D')\n",
      "UTC\n"
     ]
    }
   ],
   "source": [
    "# Generate data range with a UTC time zone.\n",
    "rng = pd.date_range('3/9/2012 9:30', periods=6, freq='D', tz='UTC')\n",
    "\n",
    "print(rng)\n",
    "print(rng.tz)"
   ]
  },
  {
   "cell_type": "code",
   "execution_count": 60,
   "metadata": {
    "ExecuteTime": {
     "end_time": "2018-05-13T17:54:42.072658Z",
     "start_time": "2018-05-13T10:54:42.050536-07:00"
    }
   },
   "outputs": [
    {
     "name": "stdout",
     "output_type": "stream",
     "text": [
      "DatetimeIndex(['2012-03-09 09:30:00-08:00', '2012-03-10 09:30:00-08:00',\n",
      "               '2012-03-11 09:30:00-07:00', '2012-03-12 09:30:00-07:00',\n",
      "               '2012-03-13 09:30:00-07:00', '2012-03-14 09:30:00-07:00'],\n",
      "              dtype='datetime64[ns, US/Pacific]', freq='D')\n",
      "US/Pacific\n"
     ]
    }
   ],
   "source": [
    "# Generate data range with a time zone.\n",
    "rng = pd.date_range('3/9/2012 9:30', periods=6, freq='D', tz='US/Pacific')\n",
    "\n",
    "print(rng)\n",
    "print(rng.tz)"
   ]
  },
  {
   "cell_type": "code",
   "execution_count": 61,
   "metadata": {
    "ExecuteTime": {
     "end_time": "2018-05-13T17:54:42.095226Z",
     "start_time": "2018-05-13T10:54:42.074490-07:00"
    }
   },
   "outputs": [
    {
     "name": "stdout",
     "output_type": "stream",
     "text": [
      "2012-03-09 09:30:00+00:00    0.659952\n",
      "2012-03-10 09:30:00+00:00   -0.277512\n",
      "2012-03-11 09:30:00+00:00   -0.584728\n",
      "2012-03-12 09:30:00+00:00   -0.039433\n",
      "2012-03-13 09:30:00+00:00    0.790273\n",
      "2012-03-14 09:30:00+00:00   -0.326480\n",
      "Freq: D, dtype: float64\n",
      "UTC\n",
      "\n",
      "2012-03-09 04:30:00-05:00    0.659952\n",
      "2012-03-10 04:30:00-05:00   -0.277512\n",
      "2012-03-11 05:30:00-04:00   -0.584728\n",
      "2012-03-12 05:30:00-04:00   -0.039433\n",
      "2012-03-13 05:30:00-04:00    0.790273\n",
      "2012-03-14 05:30:00-04:00   -0.326480\n",
      "Freq: D, dtype: float64\n",
      "America/New_York\n"
     ]
    }
   ],
   "source": [
    "# Naive times can be converted in \"localized\".\n",
    "ts_utc = ts.tz_localize('UTC')\n",
    "print(ts_utc)\n",
    "print(ts_utc.index.tz)\n",
    "\n",
    "# Once they are localized, dates can be converted into other time zones.\n",
    "ts_edt = ts_utc.tz_convert('America/New_York')\n",
    "print(\"\\n\", ts_edt)\n",
    "print(ts_edt.index.tz)"
   ]
  },
  {
   "cell_type": "code",
   "execution_count": 62,
   "metadata": {
    "ExecuteTime": {
     "end_time": "2018-05-13T17:54:42.115703Z",
     "start_time": "2018-05-13T10:54:42.096847-07:00"
    }
   },
   "outputs": [
    {
     "name": "stdout",
     "output_type": "stream",
     "text": [
      "2012-03-09 09:30:00-05:00    0.659952\n",
      "2012-03-10 09:30:00-05:00   -0.277512\n",
      "2012-03-11 09:30:00-04:00   -0.584728\n",
      "2012-03-12 09:30:00-04:00   -0.039433\n",
      "2012-03-13 09:30:00-04:00    0.790273\n",
      "2012-03-14 09:30:00-04:00   -0.326480\n",
      "Freq: D, dtype: float64\n",
      "America/New_York\n"
     ]
    }
   ],
   "source": [
    "# Add a ET timezone.\n",
    "ts_edt = ts.tz_localize('America/New_York')\n",
    "print(ts_edt)\n",
    "print(ts_edt.index.tz)"
   ]
  },
  {
   "cell_type": "code",
   "execution_count": 63,
   "metadata": {
    "ExecuteTime": {
     "end_time": "2018-05-13T17:54:42.134013Z",
     "start_time": "2018-05-13T10:54:42.117409-07:00"
    },
    "collapsed": true
   },
   "outputs": [],
   "source": [
    "# tz_localize and tz_convert are also methods of DateTimeIndex"
   ]
  },
  {
   "cell_type": "markdown",
   "metadata": {},
   "source": [
    "### Operations with time zone-aware timestamp objects\n",
    "\n",
    "- Also Timestamp can be handled in terms of time-zones"
   ]
  },
  {
   "cell_type": "code",
   "execution_count": 64,
   "metadata": {
    "ExecuteTime": {
     "end_time": "2018-05-13T17:54:42.155006Z",
     "start_time": "2018-05-13T10:54:42.135899-07:00"
    }
   },
   "outputs": [
    {
     "name": "stdout",
     "output_type": "stream",
     "text": [
      "ts= 2011-03-12 04:00:00\n",
      "\n",
      "ts_utc= 2011-03-12 04:00:00+00:00\n",
      "ts_convert= 2011-03-11 23:00:00-05:00\n"
     ]
    }
   ],
   "source": [
    "ts = pd.Timestamp('2011-03-12 04:00')\n",
    "print(\"ts=\", ts)\n",
    "\n",
    "ts_utc = ts.tz_localize('UTC')\n",
    "print(\"\\nts_utc=\", ts_utc)\n",
    "\n",
    "print(\"ts_convert=\", ts_utc.tz_convert('America/New_York'))"
   ]
  },
  {
   "cell_type": "code",
   "execution_count": 65,
   "metadata": {
    "ExecuteTime": {
     "end_time": "2018-05-13T17:54:42.175459Z",
     "start_time": "2018-05-13T10:54:42.156647-07:00"
    }
   },
   "outputs": [
    {
     "name": "stdout",
     "output_type": "stream",
     "text": [
      "2011-03-12 04:00:00+03:00\n"
     ]
    }
   ],
   "source": [
    "ts_moscow = pd.Timestamp('2011-03-12 04:00', tz=\"Europe/Moscow\")\n",
    "print(ts_moscow)"
   ]
  },
  {
   "cell_type": "code",
   "execution_count": 66,
   "metadata": {
    "ExecuteTime": {
     "end_time": "2018-05-13T17:54:42.196208Z",
     "start_time": "2018-05-13T10:54:42.177329-07:00"
    }
   },
   "outputs": [
    {
     "name": "stdout",
     "output_type": "stream",
     "text": [
      "2011-03-12 04:00:00+00:00\n",
      "<class 'pandas._libs.tslib.Timestamp'>\n",
      "1299902400000000000\n",
      "1299902400000000000\n"
     ]
    }
   ],
   "source": [
    "# Tz-aware Timestamp objects are stored a nanoseconds since Unix epoch (1970-01-01).\n",
    "# This is not changed when tz conversions are applied.\n",
    "\n",
    "print(ts_utc)\n",
    "print(type(ts_utc))\n",
    "print(ts_utc.value)\n",
    "print(ts_utc.tz_convert('America/New_York').value)"
   ]
  },
  {
   "cell_type": "markdown",
   "metadata": {},
   "source": [
    "### Operations between different time zones\n",
    "\n",
    "- If two time series with different time zones are combined, the result is UTC"
   ]
  },
  {
   "cell_type": "code",
   "execution_count": 67,
   "metadata": {
    "ExecuteTime": {
     "end_time": "2018-05-13T17:54:42.218401Z",
     "start_time": "2018-05-13T10:54:42.198495-07:00"
    }
   },
   "outputs": [
    {
     "name": "stdout",
     "output_type": "stream",
     "text": [
      "2012-03-07 09:30:00    0.023061\n",
      "2012-03-08 09:30:00    0.285329\n",
      "2012-03-09 09:30:00   -1.310567\n",
      "2012-03-12 09:30:00    2.882604\n",
      "2012-03-13 09:30:00    0.921431\n",
      "2012-03-14 09:30:00    0.277645\n",
      "Freq: B, dtype: float64\n"
     ]
    }
   ],
   "source": [
    "rng = pd.date_range('3/7/2012 9:30', periods=6, freq='B')\n",
    "ts = pd.Series(np.random.randn(len(rng)), index=rng)\n",
    "print(ts)"
   ]
  },
  {
   "cell_type": "code",
   "execution_count": 68,
   "metadata": {
    "ExecuteTime": {
     "end_time": "2018-05-13T17:54:42.241847Z",
     "start_time": "2018-05-13T10:54:42.220026-07:00"
    }
   },
   "outputs": [
    {
     "name": "stdout",
     "output_type": "stream",
     "text": [
      "2012-03-07 09:30:00+00:00    0.023061\n",
      "2012-03-08 09:30:00+00:00    0.285329\n",
      "2012-03-09 09:30:00+00:00   -1.310567\n",
      "2012-03-12 09:30:00+00:00    2.882604\n",
      "2012-03-13 09:30:00+00:00    0.921431\n",
      "2012-03-14 09:30:00+00:00    0.277645\n",
      "Freq: B, dtype: float64\n",
      "2012-03-07 13:30:00+04:00    0.023061\n",
      "2012-03-08 13:30:00+04:00    0.285329\n",
      "2012-03-09 13:30:00+04:00   -1.310567\n",
      "2012-03-12 13:30:00+04:00    2.882604\n",
      "2012-03-13 13:30:00+04:00    0.921431\n",
      "2012-03-14 13:30:00+04:00    0.277645\n",
      "Freq: B, dtype: float64\n"
     ]
    }
   ],
   "source": [
    "ts1 = ts.tz_localize('Europe/London')\n",
    "ts2 = ts1.tz_convert('Europe/Moscow')\n",
    "\n",
    "print(ts1)\n",
    "print(ts2)"
   ]
  },
  {
   "cell_type": "code",
   "execution_count": 69,
   "metadata": {
    "ExecuteTime": {
     "end_time": "2018-05-13T17:54:42.262204Z",
     "start_time": "2018-05-13T10:54:42.243485-07:00"
    }
   },
   "outputs": [
    {
     "name": "stdout",
     "output_type": "stream",
     "text": [
      "2012-03-07 09:30:00+00:00    0.046122\n",
      "2012-03-08 09:30:00+00:00    0.570658\n",
      "2012-03-09 09:30:00+00:00   -2.621134\n",
      "2012-03-12 09:30:00+00:00    5.765209\n",
      "2012-03-13 09:30:00+00:00    1.842862\n",
      "2012-03-14 09:30:00+00:00    0.555290\n",
      "Freq: B, dtype: float64\n"
     ]
    }
   ],
   "source": [
    "print(ts1 + ts2)"
   ]
  },
  {
   "cell_type": "markdown",
   "metadata": {},
   "source": [
    "## Periods and period arithmetic\n",
    "\n",
    "- Periods represent timespans (e.g., days, months, quarters, years)"
   ]
  },
  {
   "cell_type": "code",
   "execution_count": 70,
   "metadata": {
    "ExecuteTime": {
     "end_time": "2018-05-13T17:54:42.284136Z",
     "start_time": "2018-05-13T10:54:42.263816-07:00"
    }
   },
   "outputs": [
    {
     "data": {
      "text/plain": [
       "Period('2007', 'A-DEC')"
      ]
     },
     "execution_count": 70,
     "metadata": {},
     "output_type": "execute_result"
    }
   ],
   "source": [
    "# Freq is the same frequencies used for other applications.\n",
    "\n",
    "# E.g., 'A-DEC' means annual dates anchored to the end last cander of Dec.\n",
    "p = pd.Period(2007, freq='A-DEC')\n",
    "p"
   ]
  },
  {
   "cell_type": "code",
   "execution_count": 71,
   "metadata": {
    "ExecuteTime": {
     "end_time": "2018-05-13T17:54:42.303410Z",
     "start_time": "2018-05-13T10:54:42.285761-07:00"
    }
   },
   "outputs": [
    {
     "data": {
      "text/plain": [
       "Period('2012', 'A-DEC')"
      ]
     },
     "execution_count": 71,
     "metadata": {},
     "output_type": "execute_result"
    }
   ],
   "source": [
    "p + 5"
   ]
  },
  {
   "cell_type": "code",
   "execution_count": 72,
   "metadata": {
    "ExecuteTime": {
     "end_time": "2018-05-13T17:54:42.323995Z",
     "start_time": "2018-05-13T10:54:42.305177-07:00"
    }
   },
   "outputs": [
    {
     "data": {
      "text/plain": [
       "Period('2005', 'A-DEC')"
      ]
     },
     "execution_count": 72,
     "metadata": {},
     "output_type": "execute_result"
    }
   ],
   "source": [
    "p - 2"
   ]
  },
  {
   "cell_type": "code",
   "execution_count": 73,
   "metadata": {
    "ExecuteTime": {
     "end_time": "2018-05-13T17:54:42.347370Z",
     "start_time": "2018-05-13T10:54:42.326091-07:00"
    }
   },
   "outputs": [
    {
     "name": "stdout",
     "output_type": "stream",
     "text": [
      "p2= 2014\n",
      "p = 2007\n",
      "p2-p= 7\n"
     ]
    }
   ],
   "source": [
    "# Distance of periods in terms of periods.\n",
    "p2 = pd.Period('2014', freq='A-DEC')\n",
    "print(\"p2=\", p2)\n",
    "print(\"p =\", p)\n",
    "print(\"p2-p=\", p2 - p)"
   ]
  },
  {
   "cell_type": "code",
   "execution_count": 74,
   "metadata": {
    "ExecuteTime": {
     "end_time": "2018-05-13T17:54:42.367952Z",
     "start_time": "2018-05-13T10:54:42.349160-07:00"
    }
   },
   "outputs": [
    {
     "name": "stdout",
     "output_type": "stream",
     "text": [
      "DatetimeIndex(['2000-01-31', '2000-02-29', '2000-03-31', '2000-04-30',\n",
      "               '2000-05-31', '2000-06-30'],\n",
      "              dtype='datetime64[ns]', freq='M')\n"
     ]
    }
   ],
   "source": [
    "# Date range with monthly cadence.\n",
    "rng1 = pd.date_range('2000-01-01', '2000-06-30', freq='M')\n",
    "print(rng1)"
   ]
  },
  {
   "cell_type": "code",
   "execution_count": 75,
   "metadata": {
    "ExecuteTime": {
     "end_time": "2018-05-13T17:54:42.389331Z",
     "start_time": "2018-05-13T10:54:42.369820-07:00"
    }
   },
   "outputs": [
    {
     "name": "stdout",
     "output_type": "stream",
     "text": [
      "2000-01-31   -0.241163\n",
      "2000-02-29   -0.304942\n",
      "2000-03-31   -0.107074\n",
      "2000-04-30   -0.572908\n",
      "2000-05-31   -0.165864\n",
      "2000-06-30    1.062376\n",
      "Freq: M, dtype: float64\n",
      "<class 'pandas.core.indexes.datetimes.DatetimeIndex'>\n",
      "<class 'pandas._libs.tslib.Timestamp'>\n"
     ]
    }
   ],
   "source": [
    "ts1 = pd.Series(np.random.randn(len(rng1)), index=rng1)\n",
    "print(ts1)\n",
    "\n",
    "print(type(ts1.index))\n",
    "print(type(ts1.index[0]))"
   ]
  },
  {
   "cell_type": "code",
   "execution_count": null,
   "metadata": {
    "ExecuteTime": {
     "end_time": "2018-04-12T00:56:14.094944Z",
     "start_time": "2018-04-11T17:56:14.076181-07:00"
    },
    "collapsed": true
   },
   "outputs": [],
   "source": []
  },
  {
   "cell_type": "code",
   "execution_count": 76,
   "metadata": {
    "ExecuteTime": {
     "end_time": "2018-05-13T17:54:42.410480Z",
     "start_time": "2018-05-13T10:54:42.391132-07:00"
    }
   },
   "outputs": [
    {
     "name": "stdout",
     "output_type": "stream",
     "text": [
      "PeriodIndex(['2000-01', '2000-02', '2000-03', '2000-04', '2000-05', '2000-06'], dtype='period[M]', freq='M')\n"
     ]
    }
   ],
   "source": [
    "# Period range with monthly cadence.\n",
    "rng2 = pd.period_range('2000-01-01', '2000-06-30', freq='M')\n",
    "print(rng2)"
   ]
  },
  {
   "cell_type": "code",
   "execution_count": 77,
   "metadata": {
    "ExecuteTime": {
     "end_time": "2018-05-13T17:54:42.432077Z",
     "start_time": "2018-05-13T10:54:42.412142-07:00"
    }
   },
   "outputs": [
    {
     "name": "stdout",
     "output_type": "stream",
     "text": [
      "2000-01    0.993906\n",
      "2000-02   -0.645846\n",
      "2000-03    1.465864\n",
      "2000-04    0.334810\n",
      "2000-05   -0.035259\n",
      "2000-06    0.064194\n",
      "Freq: M, dtype: float64\n",
      "<class 'pandas.core.indexes.period.PeriodIndex'>\n",
      "<class 'pandas._libs.period.Period'>\n"
     ]
    }
   ],
   "source": [
    "# A PeriodIndex stores a sequence of periods\n",
    "# It can be used as an axis index, like a DatetimeIndex.\n",
    "ts2 = pd.Series(np.random.randn(len(rng2)), index=rng2)\n",
    "print(ts2)\n",
    "\n",
    "print(type(ts2.index))\n",
    "print(type(ts2.index[0]))"
   ]
  },
  {
   "cell_type": "code",
   "execution_count": 78,
   "metadata": {
    "ExecuteTime": {
     "end_time": "2018-05-13T17:54:42.453136Z",
     "start_time": "2018-05-13T10:54:42.433940-07:00"
    }
   },
   "outputs": [
    {
     "name": "stdout",
     "output_type": "stream",
     "text": [
      "PeriodIndex(['2001Q3', '2002Q2', '2003Q1'], dtype='period[Q-DEC]', freq='Q-DEC')\n"
     ]
    }
   ],
   "source": [
    "values = ['2001Q3', '2002Q2', '2003Q1']\n",
    "\n",
    "index = pd.PeriodIndex(values, freq='Q-DEC')\n",
    "print(index)"
   ]
  },
  {
   "cell_type": "markdown",
   "metadata": {},
   "source": [
    "### Period frequency conversion\n",
    "\n",
    "- One can convert a PeriodIndex to another frequency"
   ]
  },
  {
   "cell_type": "code",
   "execution_count": 79,
   "metadata": {
    "ExecuteTime": {
     "end_time": "2018-05-13T17:54:42.473109Z",
     "start_time": "2018-05-13T10:54:42.454646-07:00"
    }
   },
   "outputs": [
    {
     "data": {
      "text/plain": [
       "Period('2007', 'A-DEC')"
      ]
     },
     "execution_count": 79,
     "metadata": {},
     "output_type": "execute_result"
    }
   ],
   "source": [
    "# A period for 2007 anchored to end of Dec.\n",
    "p = pd.Period('2007', freq='A-DEC')\n",
    "p"
   ]
  },
  {
   "cell_type": "code",
   "execution_count": 80,
   "metadata": {
    "ExecuteTime": {
     "end_time": "2018-05-13T17:54:42.494151Z",
     "start_time": "2018-05-13T10:54:42.474932-07:00"
    }
   },
   "outputs": [
    {
     "data": {
      "text/plain": [
       "Period('2007-01', 'M')"
      ]
     },
     "execution_count": 80,
     "metadata": {},
     "output_type": "execute_result"
    }
   ],
   "source": [
    "p.asfreq('M', how=\"start\")"
   ]
  },
  {
   "cell_type": "code",
   "execution_count": 81,
   "metadata": {
    "ExecuteTime": {
     "end_time": "2018-05-13T17:54:42.515699Z",
     "start_time": "2018-05-13T10:54:42.495902-07:00"
    }
   },
   "outputs": [
    {
     "data": {
      "text/plain": [
       "Period('2007-12', 'M')"
      ]
     },
     "execution_count": 81,
     "metadata": {},
     "output_type": "execute_result"
    }
   ],
   "source": [
    "p.asfreq('M', how=\"end\")"
   ]
  },
  {
   "cell_type": "code",
   "execution_count": 82,
   "metadata": {
    "ExecuteTime": {
     "end_time": "2018-05-13T17:54:42.535919Z",
     "start_time": "2018-05-13T10:54:42.517360-07:00"
    }
   },
   "outputs": [
    {
     "data": {
      "text/plain": [
       "Period('2007', 'A-JUN')"
      ]
     },
     "execution_count": 82,
     "metadata": {},
     "output_type": "execute_result"
    }
   ],
   "source": [
    "# Consider a year ending at the end of June.\n",
    "p = pd.Period('2007', 'A-JUN')\n",
    "p"
   ]
  },
  {
   "cell_type": "code",
   "execution_count": 83,
   "metadata": {
    "ExecuteTime": {
     "end_time": "2018-05-13T17:54:42.555706Z",
     "start_time": "2018-05-13T10:54:42.537601-07:00"
    }
   },
   "outputs": [
    {
     "data": {
      "text/plain": [
       "Period('2006-07', 'M')"
      ]
     },
     "execution_count": 83,
     "metadata": {},
     "output_type": "execute_result"
    }
   ],
   "source": [
    "p.asfreq('M', how=\"start\")"
   ]
  },
  {
   "cell_type": "code",
   "execution_count": 84,
   "metadata": {
    "ExecuteTime": {
     "end_time": "2018-05-13T17:54:42.576508Z",
     "start_time": "2018-05-13T10:54:42.557247-07:00"
    }
   },
   "outputs": [
    {
     "data": {
      "text/plain": [
       "Period('2007-06', 'M')"
      ]
     },
     "execution_count": 84,
     "metadata": {},
     "output_type": "execute_result"
    }
   ],
   "source": [
    "p.asfreq('M', how=\"end\")"
   ]
  },
  {
   "cell_type": "code",
   "execution_count": 85,
   "metadata": {
    "ExecuteTime": {
     "end_time": "2018-05-13T17:54:42.597751Z",
     "start_time": "2018-05-13T10:54:42.578241-07:00"
    }
   },
   "outputs": [
    {
     "name": "stdout",
     "output_type": "stream",
     "text": [
      "2006   -1.079111\n",
      "2007   -1.036980\n",
      "2008    0.597151\n",
      "2009    1.686564\n",
      "Freq: A-DEC, dtype: float64\n"
     ]
    }
   ],
   "source": [
    "# Also PeriodIndex can be converted to \n",
    "\n",
    "rng = pd.period_range('2006', '2009', freq='A-DEC')\n",
    "ts = pd.Series(np.random.randn(len(rng)), index=rng)\n",
    "print(ts)"
   ]
  },
  {
   "cell_type": "code",
   "execution_count": 86,
   "metadata": {
    "ExecuteTime": {
     "end_time": "2018-05-13T17:54:42.622049Z",
     "start_time": "2018-05-13T10:54:42.599303-07:00"
    }
   },
   "outputs": [
    {
     "data": {
      "text/plain": [
       "2006-01   -1.079111\n",
       "2007-01   -1.036980\n",
       "2008-01    0.597151\n",
       "2009-01    1.686564\n",
       "Freq: M, dtype: float64"
      ]
     },
     "execution_count": 86,
     "metadata": {},
     "output_type": "execute_result"
    }
   ],
   "source": [
    "# Pick the first month of the year period ending in Dec.\n",
    "ts.asfreq('M', how=\"start\")"
   ]
  },
  {
   "cell_type": "code",
   "execution_count": 87,
   "metadata": {
    "ExecuteTime": {
     "end_time": "2018-05-13T17:54:42.647324Z",
     "start_time": "2018-05-13T10:54:42.623626-07:00"
    }
   },
   "outputs": [
    {
     "data": {
      "text/plain": [
       "2006-12-29   -1.079111\n",
       "2007-12-31   -1.036980\n",
       "2008-12-31    0.597151\n",
       "2009-12-31    1.686564\n",
       "Freq: B, dtype: float64"
      ]
     },
     "execution_count": 87,
     "metadata": {},
     "output_type": "execute_result"
    }
   ],
   "source": [
    "# Use the last business day of the period.\n",
    "ts.asfreq('B', how=\"end\")"
   ]
  },
  {
   "cell_type": "markdown",
   "metadata": {},
   "source": [
    "### Quarterly period frequencies\n",
    "\n",
    "- Quarterly data is standard in accounting and finance\n",
    "- Quarterly data is reported relative to fiscal year end (typically the last calendar or business day of one of the 12 months of the year)"
   ]
  },
  {
   "cell_type": "code",
   "execution_count": 88,
   "metadata": {
    "ExecuteTime": {
     "end_time": "2018-05-13T17:54:42.668009Z",
     "start_time": "2018-05-13T10:54:42.649112-07:00"
    }
   },
   "outputs": [
    {
     "data": {
      "text/plain": [
       "Period('2012Q4', 'Q-JAN')"
      ]
     },
     "execution_count": 88,
     "metadata": {},
     "output_type": "execute_result"
    }
   ],
   "source": [
    "# 4th quarter, with fiscal year end in Jan.\n",
    "p = pd.Period('2012Q4', freq='Q-JAN')\n",
    "p"
   ]
  },
  {
   "cell_type": "code",
   "execution_count": 89,
   "metadata": {
    "ExecuteTime": {
     "end_time": "2018-05-13T17:54:42.687785Z",
     "start_time": "2018-05-13T10:54:42.669719-07:00"
    }
   },
   "outputs": [
    {
     "data": {
      "text/plain": [
       "(Period('2011-11-01', 'D'), Period('2012-01-31', 'D'))"
      ]
     },
     "execution_count": 89,
     "metadata": {},
     "output_type": "execute_result"
    }
   ],
   "source": [
    "# The 4th quarter is:\n",
    "p.asfreq('D', \"start\"), p.asfreq('D', 'end')"
   ]
  },
  {
   "cell_type": "code",
   "execution_count": 90,
   "metadata": {
    "ExecuteTime": {
     "end_time": "2018-05-13T17:54:42.708475Z",
     "start_time": "2018-05-13T10:54:42.689536-07:00"
    }
   },
   "outputs": [
    {
     "name": "stdout",
     "output_type": "stream",
     "text": [
      "2012-01-30 16:00\n"
     ]
    }
   ],
   "source": [
    "# Get a timestamp at 4pm on second-to-last business day of the quarter.\n",
    "\n",
    "ts = (p.asfreq('B', 'end') - 1).asfreq('T', 's') + 16 * 60\n",
    "print(ts)"
   ]
  },
  {
   "cell_type": "markdown",
   "metadata": {},
   "source": [
    "### Converting timestamps to periods (and back)\n",
    "\n",
    "- periods always refer to non-overlapping timestamps\n",
    "- a timestamp can only belong to a single period for a given frequency"
   ]
  },
  {
   "cell_type": "code",
   "execution_count": 91,
   "metadata": {
    "ExecuteTime": {
     "end_time": "2018-05-13T17:54:42.729806Z",
     "start_time": "2018-05-13T10:54:42.710237-07:00"
    }
   },
   "outputs": [
    {
     "data": {
      "text/plain": [
       "DatetimeIndex(['2000-01-31', '2000-02-29', '2000-03-31'], dtype='datetime64[ns]', freq='M')"
      ]
     },
     "execution_count": 91,
     "metadata": {},
     "output_type": "execute_result"
    }
   ],
   "source": [
    "rng = pd.date_range('1/1/2000', periods=3, freq=\"M\")\n",
    "rng"
   ]
  },
  {
   "cell_type": "code",
   "execution_count": 92,
   "metadata": {
    "ExecuteTime": {
     "end_time": "2018-05-13T17:54:42.757375Z",
     "start_time": "2018-05-13T10:54:42.731408-07:00"
    }
   },
   "outputs": [
    {
     "data": {
      "text/plain": [
       "2000-01-31   -0.456340\n",
       "2000-02-29   -0.400942\n",
       "2000-03-31    0.585983\n",
       "Freq: M, dtype: float64"
      ]
     },
     "execution_count": 92,
     "metadata": {},
     "output_type": "execute_result"
    }
   ],
   "source": [
    "ts = pd.Series(randn(3), index=rng)\n",
    "ts"
   ]
  },
  {
   "cell_type": "code",
   "execution_count": 93,
   "metadata": {
    "ExecuteTime": {
     "end_time": "2018-05-13T17:54:42.777557Z",
     "start_time": "2018-05-13T10:54:42.759160-07:00"
    }
   },
   "outputs": [
    {
     "name": "stdout",
     "output_type": "stream",
     "text": [
      "2000-01   -0.456340\n",
      "2000-02   -0.400942\n",
      "2000-03    0.585983\n",
      "Freq: M, dtype: float64\n"
     ]
    }
   ],
   "source": [
    "# to_period() infers the frequency automatically\n",
    "# In practice it uses the same frequency of the timeseries.\n",
    "pts = ts.to_period()\n",
    "print(pts)"
   ]
  },
  {
   "cell_type": "code",
   "execution_count": 94,
   "metadata": {
    "ExecuteTime": {
     "end_time": "2018-05-13T17:54:42.800086Z",
     "start_time": "2018-05-13T10:54:42.779926-07:00"
    }
   },
   "outputs": [
    {
     "name": "stdout",
     "output_type": "stream",
     "text": [
      "2000-01-29   -0.785957\n",
      "2000-01-30    1.272619\n",
      "2000-01-31    0.180610\n",
      "2000-02-01    0.700050\n",
      "2000-02-02   -0.423228\n",
      "2000-02-03    0.260495\n",
      "Freq: D, dtype: float64\n"
     ]
    }
   ],
   "source": [
    "rng = pd.date_range('1/29/2000', periods=6, freq='D')\n",
    "ts2 = pd.Series(randn(6), index=rng)\n",
    "\n",
    "print(ts2)"
   ]
  },
  {
   "cell_type": "code",
   "execution_count": 95,
   "metadata": {
    "ExecuteTime": {
     "end_time": "2018-05-13T17:54:42.825058Z",
     "start_time": "2018-05-13T10:54:42.801758-07:00"
    }
   },
   "outputs": [
    {
     "data": {
      "text/plain": [
       "2000-01   -0.785957\n",
       "2000-01    1.272619\n",
       "2000-01    0.180610\n",
       "2000-02    0.700050\n",
       "2000-02   -0.423228\n",
       "2000-02    0.260495\n",
       "Freq: M, dtype: float64"
      ]
     },
     "execution_count": 95,
     "metadata": {},
     "output_type": "execute_result"
    }
   ],
   "source": [
    "# Convert each timestamp to the including period.\n",
    "# Note that the frequency of timestamp and periods are different.\n",
    "ts2.to_period('M')"
   ]
  },
  {
   "cell_type": "code",
   "execution_count": 96,
   "metadata": {
    "ExecuteTime": {
     "end_time": "2018-05-13T17:54:42.845629Z",
     "start_time": "2018-05-13T10:54:42.826759-07:00"
    }
   },
   "outputs": [
    {
     "name": "stdout",
     "output_type": "stream",
     "text": [
      "2000-01-29   -0.785957\n",
      "2000-01-30    1.272619\n",
      "2000-01-31    0.180610\n",
      "2000-02-01    0.700050\n",
      "2000-02-02   -0.423228\n",
      "2000-02-03    0.260495\n",
      "Freq: D, dtype: float64\n"
     ]
    }
   ],
   "source": [
    "pts2 = ts2.to_period()\n",
    "print(pts2)"
   ]
  },
  {
   "cell_type": "code",
   "execution_count": 97,
   "metadata": {
    "ExecuteTime": {
     "end_time": "2018-05-13T17:54:42.866134Z",
     "start_time": "2018-05-13T10:54:42.847186-07:00"
    }
   },
   "outputs": [
    {
     "data": {
      "text/plain": [
       "PeriodIndex(['2000-01-29', '2000-01-30', '2000-01-31', '2000-02-01',\n",
       "             '2000-02-02', '2000-02-03'],\n",
       "            dtype='period[D]', freq='D')"
      ]
     },
     "execution_count": 97,
     "metadata": {},
     "output_type": "execute_result"
    }
   ],
   "source": [
    "pts2.index"
   ]
  },
  {
   "cell_type": "code",
   "execution_count": 98,
   "metadata": {
    "ExecuteTime": {
     "end_time": "2018-05-13T17:54:42.888147Z",
     "start_time": "2018-05-13T10:54:42.867906-07:00"
    }
   },
   "outputs": [
    {
     "name": "stdout",
     "output_type": "stream",
     "text": [
      "2000-01   -0.785957\n",
      "2000-01    1.272619\n",
      "2000-01    0.180610\n",
      "2000-02    0.700050\n",
      "2000-02   -0.423228\n",
      "2000-02    0.260495\n",
      "Freq: M, dtype: float64\n",
      "2000-01-31   -0.785957\n",
      "2000-01-31    1.272619\n",
      "2000-01-31    0.180610\n",
      "2000-02-29    0.700050\n",
      "2000-02-29   -0.423228\n",
      "2000-02-29    0.260495\n",
      "dtype: float64\n"
     ]
    }
   ],
   "source": [
    "# Converting back to timestamps.\n",
    "pts2 = ts2.to_period('M')\n",
    "print(pts2)\n",
    "\n",
    "print(pts2.to_timestamp(how=\"end\"))"
   ]
  },
  {
   "cell_type": "markdown",
   "metadata": {},
   "source": [
    "### Creating a PeriodIndex from arrays\n",
    "\n",
    "- If the timespan information are stored in multiple columns, the constructor of PeriodIndex can gather them and use them"
   ]
  },
  {
   "cell_type": "code",
   "execution_count": 99,
   "metadata": {
    "ExecuteTime": {
     "end_time": "2018-05-13T17:54:43.022522Z",
     "start_time": "2018-05-13T10:54:42.889844-07:00"
    }
   },
   "outputs": [
    {
     "name": "stdout",
     "output_type": "stream",
     "text": [
      "array_ex.txt               macrodata.csv\r\n",
      "csv_mindex.csv             out.csv\r\n",
      "ex1.csv                    segismundo.txt\r\n",
      "ex1.xlsx                   spx.csv\r\n",
      "ex2.csv                    stinkbug.png\r\n",
      "ex3.csv                    stock_px.csv\r\n",
      "ex3.txt                    stock_px_2.csv\r\n",
      "ex4.csv                    test_file.csv\r\n",
      "ex5.csv                    tips.csv\r\n",
      "ex6.csv                    tseries.csv\r\n",
      "ex7.csv                    volume.csv\r\n",
      "example.json               yahoo_price.pkl\r\n",
      "fdic_failed_bank_list.html yahoo_volume.pkl\r\n",
      "ipython_bug.py\r\n"
     ]
    }
   ],
   "source": [
    "!ls /Users/gp/src/github/pydata-book/examples"
   ]
  },
  {
   "cell_type": "code",
   "execution_count": 100,
   "metadata": {
    "ExecuteTime": {
     "end_time": "2018-05-13T17:54:43.066724Z",
     "start_time": "2018-05-13T10:54:43.024779-07:00"
    }
   },
   "outputs": [
    {
     "data": {
      "text/html": [
       "<div>\n",
       "<style>\n",
       "    .dataframe thead tr:only-child th {\n",
       "        text-align: right;\n",
       "    }\n",
       "\n",
       "    .dataframe thead th {\n",
       "        text-align: left;\n",
       "    }\n",
       "\n",
       "    .dataframe tbody tr th {\n",
       "        vertical-align: top;\n",
       "    }\n",
       "</style>\n",
       "<table border=\"1\" class=\"dataframe\">\n",
       "  <thead>\n",
       "    <tr style=\"text-align: right;\">\n",
       "      <th></th>\n",
       "      <th>year</th>\n",
       "      <th>quarter</th>\n",
       "      <th>realgdp</th>\n",
       "      <th>realcons</th>\n",
       "      <th>realinv</th>\n",
       "      <th>realgovt</th>\n",
       "      <th>realdpi</th>\n",
       "      <th>cpi</th>\n",
       "      <th>m1</th>\n",
       "      <th>tbilrate</th>\n",
       "      <th>unemp</th>\n",
       "      <th>pop</th>\n",
       "      <th>infl</th>\n",
       "      <th>realint</th>\n",
       "    </tr>\n",
       "  </thead>\n",
       "  <tbody>\n",
       "    <tr>\n",
       "      <th>0</th>\n",
       "      <td>1959.0</td>\n",
       "      <td>1.0</td>\n",
       "      <td>2710.349</td>\n",
       "      <td>1707.4</td>\n",
       "      <td>286.898</td>\n",
       "      <td>470.045</td>\n",
       "      <td>1886.9</td>\n",
       "      <td>28.98</td>\n",
       "      <td>139.7</td>\n",
       "      <td>2.82</td>\n",
       "      <td>5.8</td>\n",
       "      <td>177.146</td>\n",
       "      <td>0.00</td>\n",
       "      <td>0.00</td>\n",
       "    </tr>\n",
       "    <tr>\n",
       "      <th>1</th>\n",
       "      <td>1959.0</td>\n",
       "      <td>2.0</td>\n",
       "      <td>2778.801</td>\n",
       "      <td>1733.7</td>\n",
       "      <td>310.859</td>\n",
       "      <td>481.301</td>\n",
       "      <td>1919.7</td>\n",
       "      <td>29.15</td>\n",
       "      <td>141.7</td>\n",
       "      <td>3.08</td>\n",
       "      <td>5.1</td>\n",
       "      <td>177.830</td>\n",
       "      <td>2.34</td>\n",
       "      <td>0.74</td>\n",
       "    </tr>\n",
       "    <tr>\n",
       "      <th>2</th>\n",
       "      <td>1959.0</td>\n",
       "      <td>3.0</td>\n",
       "      <td>2775.488</td>\n",
       "      <td>1751.8</td>\n",
       "      <td>289.226</td>\n",
       "      <td>491.260</td>\n",
       "      <td>1916.4</td>\n",
       "      <td>29.35</td>\n",
       "      <td>140.5</td>\n",
       "      <td>3.82</td>\n",
       "      <td>5.3</td>\n",
       "      <td>178.657</td>\n",
       "      <td>2.74</td>\n",
       "      <td>1.09</td>\n",
       "    </tr>\n",
       "    <tr>\n",
       "      <th>3</th>\n",
       "      <td>1959.0</td>\n",
       "      <td>4.0</td>\n",
       "      <td>2785.204</td>\n",
       "      <td>1753.7</td>\n",
       "      <td>299.356</td>\n",
       "      <td>484.052</td>\n",
       "      <td>1931.3</td>\n",
       "      <td>29.37</td>\n",
       "      <td>140.0</td>\n",
       "      <td>4.33</td>\n",
       "      <td>5.6</td>\n",
       "      <td>179.386</td>\n",
       "      <td>0.27</td>\n",
       "      <td>4.06</td>\n",
       "    </tr>\n",
       "    <tr>\n",
       "      <th>4</th>\n",
       "      <td>1960.0</td>\n",
       "      <td>1.0</td>\n",
       "      <td>2847.699</td>\n",
       "      <td>1770.5</td>\n",
       "      <td>331.722</td>\n",
       "      <td>462.199</td>\n",
       "      <td>1955.5</td>\n",
       "      <td>29.54</td>\n",
       "      <td>139.6</td>\n",
       "      <td>3.50</td>\n",
       "      <td>5.2</td>\n",
       "      <td>180.007</td>\n",
       "      <td>2.31</td>\n",
       "      <td>1.19</td>\n",
       "    </tr>\n",
       "  </tbody>\n",
       "</table>\n",
       "</div>"
      ],
      "text/plain": [
       "     year  quarter   realgdp  realcons  realinv  realgovt  realdpi    cpi  \\\n",
       "0  1959.0      1.0  2710.349    1707.4  286.898   470.045   1886.9  28.98   \n",
       "1  1959.0      2.0  2778.801    1733.7  310.859   481.301   1919.7  29.15   \n",
       "2  1959.0      3.0  2775.488    1751.8  289.226   491.260   1916.4  29.35   \n",
       "3  1959.0      4.0  2785.204    1753.7  299.356   484.052   1931.3  29.37   \n",
       "4  1960.0      1.0  2847.699    1770.5  331.722   462.199   1955.5  29.54   \n",
       "\n",
       "      m1  tbilrate  unemp      pop  infl  realint  \n",
       "0  139.7      2.82    5.8  177.146  0.00     0.00  \n",
       "1  141.7      3.08    5.1  177.830  2.34     0.74  \n",
       "2  140.5      3.82    5.3  178.657  2.74     1.09  \n",
       "3  140.0      4.33    5.6  179.386  0.27     4.06  \n",
       "4  139.6      3.50    5.2  180.007  2.31     1.19  "
      ]
     },
     "execution_count": 100,
     "metadata": {},
     "output_type": "execute_result"
    }
   ],
   "source": [
    "data = pd.read_csv('~/src/github/pydata-book/examples/macrodata.csv')\n",
    "data.head()"
   ]
  },
  {
   "cell_type": "code",
   "execution_count": 101,
   "metadata": {
    "ExecuteTime": {
     "end_time": "2018-05-13T17:54:43.090348Z",
     "start_time": "2018-05-13T10:54:43.068385-07:00"
    }
   },
   "outputs": [
    {
     "name": "stdout",
     "output_type": "stream",
     "text": [
      "     year  quarter\n",
      "0  1959.0      1.0\n",
      "1  1959.0      2.0\n",
      "2  1959.0      3.0\n",
      "3  1959.0      4.0\n",
      "4  1960.0      1.0\n"
     ]
    }
   ],
   "source": [
    "print(data.head()[[\"year\", \"quarter\"]])"
   ]
  },
  {
   "cell_type": "code",
   "execution_count": 102,
   "metadata": {
    "ExecuteTime": {
     "end_time": "2018-05-13T17:54:43.112024Z",
     "start_time": "2018-05-13T10:54:43.092080-07:00"
    }
   },
   "outputs": [
    {
     "name": "stdout",
     "output_type": "stream",
     "text": [
      "PeriodIndex(['1959Q1', '1959Q2', '1959Q3', '1959Q4', '1960Q1', '1960Q2',\n",
      "             '1960Q3', '1960Q4', '1961Q1', '1961Q2',\n",
      "             ...\n",
      "             '2007Q2', '2007Q3', '2007Q4', '2008Q1', '2008Q2', '2008Q3',\n",
      "             '2008Q4', '2009Q1', '2009Q2', '2009Q3'],\n",
      "            dtype='period[Q-DEC]', length=203, freq='Q-DEC')\n"
     ]
    }
   ],
   "source": [
    "index = pd.PeriodIndex(year=data.year, quarter=data.quarter, freq=\"Q-DEC\")\n",
    "\n",
    "print(index)"
   ]
  },
  {
   "cell_type": "code",
   "execution_count": 103,
   "metadata": {
    "ExecuteTime": {
     "end_time": "2018-05-13T17:54:43.136256Z",
     "start_time": "2018-05-13T10:54:43.113702-07:00"
    }
   },
   "outputs": [
    {
     "data": {
      "text/plain": [
       "1959Q1    0.00\n",
       "1959Q2    2.34\n",
       "1959Q3    2.74\n",
       "1959Q4    0.27\n",
       "1960Q1    2.31\n",
       "Freq: Q-DEC, Name: infl, dtype: float64"
      ]
     },
     "execution_count": 103,
     "metadata": {},
     "output_type": "execute_result"
    }
   ],
   "source": [
    "data.index = index\n",
    "data.infl.head()"
   ]
  },
  {
   "cell_type": "markdown",
   "metadata": {},
   "source": [
    "## Resampling and frequency conversion\n",
    "\n",
    "- Resampling = converting a time series from one frequency to another\n",
    "- Downsampling = aggregating higher frequency data to lower frequency\n",
    "- Upsampling = converting lower frequency data to higher frequency\n",
    "- Some operations are not down or upsampling\n",
    "    - E.g., converting from W-WED (weekly on Wednesday) to W-FRI"
   ]
  },
  {
   "cell_type": "code",
   "execution_count": 104,
   "metadata": {
    "ExecuteTime": {
     "end_time": "2018-05-13T17:54:43.164220Z",
     "start_time": "2018-05-13T10:54:43.137834-07:00"
    }
   },
   "outputs": [
    {
     "data": {
      "text/plain": [
       "2000-01-01    0.290105\n",
       "2000-01-02   -0.219713\n",
       "2000-01-03    0.995451\n",
       "2000-01-04    1.093139\n",
       "2000-01-05    1.152817\n",
       "Freq: D, dtype: float64"
      ]
     },
     "execution_count": 104,
     "metadata": {},
     "output_type": "execute_result"
    }
   ],
   "source": [
    "rng = pd.date_range('1/1/2000', periods=100, freq='D')\n",
    "\n",
    "ts = pd.Series(randn(len(rng)), index=rng)\n",
    "ts.head()"
   ]
  },
  {
   "cell_type": "code",
   "execution_count": 105,
   "metadata": {
    "ExecuteTime": {
     "end_time": "2018-05-13T17:54:43.193645Z",
     "start_time": "2018-05-13T10:54:43.166132-07:00"
    }
   },
   "outputs": [
    {
     "data": {
      "text/plain": [
       "2000-01-31   -0.122909\n",
       "2000-02-29   -0.286706\n",
       "2000-03-31    0.178215\n",
       "2000-04-30    0.096529\n",
       "Freq: M, dtype: float64"
      ]
     },
     "execution_count": 105,
     "metadata": {},
     "output_type": "execute_result"
    }
   ],
   "source": [
    "# Resample daily data to monthly using mean to aggregate.\n",
    "#ts.resample('M', how=\"mean\")\n",
    "ts.resample('M').mean()"
   ]
  },
  {
   "cell_type": "code",
   "execution_count": 106,
   "metadata": {
    "ExecuteTime": {
     "end_time": "2018-05-13T17:54:43.219877Z",
     "start_time": "2018-05-13T10:54:43.195313-07:00"
    }
   },
   "outputs": [
    {
     "data": {
      "text/plain": [
       "2000-01   -0.122909\n",
       "2000-02   -0.286706\n",
       "2000-03    0.178215\n",
       "2000-04    0.096529\n",
       "Freq: M, dtype: float64"
      ]
     },
     "execution_count": 106,
     "metadata": {},
     "output_type": "execute_result"
    }
   ],
   "source": [
    "ts.resample('M', kind=\"period\").mean()"
   ]
  },
  {
   "cell_type": "markdown",
   "metadata": {},
   "source": [
    "- options for resample()\n",
    "- freq: string (e.g., 'M', '5min') or DateOffset (e.g., Second(15)) indicating resampled frequency\n",
    "- how: function name or function aggregating values\n",
    "    - e.g., mean, ohlc, np.max, first, last, median\n",
    "- fill_method: how to interpolate when upsampling\n",
    "    - e.g., ffill, bfill\n",
    "- limit: when filling the maximum number of periods to fill\n",
    "- closed: in downsampling which end of the interval is closed, i.e., inclusive\n",
    "    - e.g., right, left\n",
    "- label: in downsampling how to label the aggregated result with the right or left bin edge\n",
    "    - e.g., we can sample 5-min interval [9:30, 9:35) and label it 9:30 or 9:35\n",
    "- loffset: time adjustment to bin labels to shift aggregate labels"
   ]
  },
  {
   "cell_type": "markdown",
   "metadata": {},
   "source": [
    "### Downsampling\n",
    "\n",
    "- Aggregating data to a regular, lower frequency is a normal time series task\n",
    "- The data doesn't need to be fixed\n",
    "    - The desired frequency defines bin edges used to aggregate\n",
    "    - Partition\n",
    "        - Each interval is half-open, since each point can only belong to one interval\n",
    "        - The union of all intervals must make up the whole time frame\n",
    "        \n",
    "- When sampling\n",
    "    - which side of each interval is closed\n",
    "    - how to label each aggregated bin (beginning or end)"
   ]
  },
  {
   "cell_type": "code",
   "execution_count": 107,
   "metadata": {
    "ExecuteTime": {
     "end_time": "2018-05-13T17:54:43.248125Z",
     "start_time": "2018-05-13T10:54:43.221607-07:00"
    }
   },
   "outputs": [
    {
     "data": {
      "text/plain": [
       "2000-01-01 00:00:00     0\n",
       "2000-01-01 00:01:00     1\n",
       "2000-01-01 00:02:00     2\n",
       "2000-01-01 00:03:00     3\n",
       "2000-01-01 00:04:00     4\n",
       "2000-01-01 00:05:00     5\n",
       "2000-01-01 00:06:00     6\n",
       "2000-01-01 00:07:00     7\n",
       "2000-01-01 00:08:00     8\n",
       "2000-01-01 00:09:00     9\n",
       "2000-01-01 00:10:00    10\n",
       "2000-01-01 00:11:00    11\n",
       "Freq: T, dtype: int64"
      ]
     },
     "execution_count": 107,
     "metadata": {},
     "output_type": "execute_result"
    }
   ],
   "source": [
    "# Generate minute data.\n",
    "rng = pd.date_range('1/1/2000', periods=12, freq='T')\n",
    "ts = pd.Series(np.arange(len(rng)), index=rng)\n",
    "\n",
    "ts"
   ]
  },
  {
   "cell_type": "code",
   "execution_count": 108,
   "metadata": {
    "ExecuteTime": {
     "end_time": "2018-05-13T17:54:43.272537Z",
     "start_time": "2018-05-13T10:54:43.250146-07:00"
    }
   },
   "outputs": [
    {
     "name": "stdout",
     "output_type": "stream",
     "text": [
      "2000-01-01 00:00:00    10\n",
      "2000-01-01 00:05:00    35\n",
      "2000-01-01 00:10:00    21\n",
      "Freq: 5T, dtype: int64\n",
      "2000-01-01 00:00:00    10\n",
      "2000-01-01 00:05:00    35\n",
      "2000-01-01 00:10:00    21\n",
      "Freq: 5T, dtype: int64\n"
     ]
    }
   ],
   "source": [
    "# Aggregate data into 5-min chunks or bars by taking the sum.\n",
    "#ts.resample('5min', how=\"sum\")\n",
    "print(ts.resample('5min', closed='left', label='left').sum())\n",
    "\n",
    "# This is the default.\n",
    "print(ts.resample('5min').sum())"
   ]
  },
  {
   "cell_type": "code",
   "execution_count": 109,
   "metadata": {
    "ExecuteTime": {
     "end_time": "2018-05-13T17:54:43.299906Z",
     "start_time": "2018-05-13T10:54:43.274188-07:00"
    }
   },
   "outputs": [
    {
     "data": {
      "text/plain": [
       "2000-01-01 00:05:00    10\n",
       "2000-01-01 00:10:00    35\n",
       "2000-01-01 00:15:00    21\n",
       "Freq: 5T, dtype: int64"
      ]
     },
     "execution_count": 109,
     "metadata": {},
     "output_type": "execute_result"
    }
   ],
   "source": [
    "ts.resample('5min', closed='left', label='right').sum()"
   ]
  },
  {
   "cell_type": "code",
   "execution_count": 110,
   "metadata": {
    "ExecuteTime": {
     "end_time": "2018-05-13T17:54:43.328180Z",
     "start_time": "2018-05-13T10:54:43.301700-07:00"
    }
   },
   "outputs": [
    {
     "data": {
      "text/plain": [
       "1999-12-31 23:55:00     0\n",
       "2000-01-01 00:00:00    15\n",
       "2000-01-01 00:05:00    40\n",
       "2000-01-01 00:10:00    11\n",
       "Freq: 5T, dtype: int64"
      ]
     },
     "execution_count": 110,
     "metadata": {},
     "output_type": "execute_result"
    }
   ],
   "source": [
    "ts.resample('5min', closed='right', label='left').sum()"
   ]
  },
  {
   "cell_type": "code",
   "execution_count": 111,
   "metadata": {
    "ExecuteTime": {
     "end_time": "2018-05-13T17:54:43.349591Z",
     "start_time": "2018-05-13T10:54:43.329961-07:00"
    }
   },
   "outputs": [
    {
     "name": "stdout",
     "output_type": "stream",
     "text": [
      "2000-01-01 00:00:00     0\n",
      "2000-01-01 00:05:00    15\n",
      "2000-01-01 00:10:00    40\n",
      "2000-01-01 00:15:00    11\n",
      "Freq: 5T, dtype: int64\n"
     ]
    }
   ],
   "source": [
    "print(ts.resample('5min', closed='right', label='right').sum())"
   ]
  },
  {
   "cell_type": "code",
   "execution_count": 112,
   "metadata": {
    "ExecuteTime": {
     "end_time": "2018-05-13T17:54:43.379680Z",
     "start_time": "2018-05-13T10:54:43.351242-07:00"
    }
   },
   "outputs": [
    {
     "name": "stderr",
     "output_type": "stream",
     "text": [
      "/Users/gp/.conda/envs/jupyter/lib/python2.7/site-packages/ipykernel_launcher.py:3: FutureWarning: how in .resample() is deprecated\n",
      "the new syntax is .resample(...).sum()\n",
      "  This is separate from the ipykernel package so we can avoid doing imports until\n"
     ]
    },
    {
     "data": {
      "text/plain": [
       "1999-12-31 23:59:59    10\n",
       "2000-01-01 00:04:59    35\n",
       "2000-01-01 00:09:59    21\n",
       "Freq: 5T, dtype: int64"
      ]
     },
     "execution_count": 112,
     "metadata": {},
     "output_type": "execute_result"
    }
   ],
   "source": [
    "# If you want to shift the index.\n",
    "# This is equivalent to calling shift() after resampling\n",
    "ts.resample('5min', how='sum', loffset='-1s')"
   ]
  },
  {
   "cell_type": "markdown",
   "metadata": {},
   "source": [
    "#### OHLC resampling"
   ]
  },
  {
   "cell_type": "code",
   "execution_count": 113,
   "metadata": {
    "ExecuteTime": {
     "end_time": "2018-05-13T17:54:43.406430Z",
     "start_time": "2018-05-13T10:54:43.381590-07:00"
    }
   },
   "outputs": [
    {
     "data": {
      "text/html": [
       "<div>\n",
       "<style>\n",
       "    .dataframe thead tr:only-child th {\n",
       "        text-align: right;\n",
       "    }\n",
       "\n",
       "    .dataframe thead th {\n",
       "        text-align: left;\n",
       "    }\n",
       "\n",
       "    .dataframe tbody tr th {\n",
       "        vertical-align: top;\n",
       "    }\n",
       "</style>\n",
       "<table border=\"1\" class=\"dataframe\">\n",
       "  <thead>\n",
       "    <tr style=\"text-align: right;\">\n",
       "      <th></th>\n",
       "      <th>open</th>\n",
       "      <th>high</th>\n",
       "      <th>low</th>\n",
       "      <th>close</th>\n",
       "    </tr>\n",
       "  </thead>\n",
       "  <tbody>\n",
       "    <tr>\n",
       "      <th>2000-01-01 00:00:00</th>\n",
       "      <td>0</td>\n",
       "      <td>4</td>\n",
       "      <td>0</td>\n",
       "      <td>4</td>\n",
       "    </tr>\n",
       "    <tr>\n",
       "      <th>2000-01-01 00:05:00</th>\n",
       "      <td>5</td>\n",
       "      <td>9</td>\n",
       "      <td>5</td>\n",
       "      <td>9</td>\n",
       "    </tr>\n",
       "    <tr>\n",
       "      <th>2000-01-01 00:10:00</th>\n",
       "      <td>10</td>\n",
       "      <td>11</td>\n",
       "      <td>10</td>\n",
       "      <td>11</td>\n",
       "    </tr>\n",
       "  </tbody>\n",
       "</table>\n",
       "</div>"
      ],
      "text/plain": [
       "                     open  high  low  close\n",
       "2000-01-01 00:00:00     0     4    0      4\n",
       "2000-01-01 00:05:00     5     9    5      9\n",
       "2000-01-01 00:10:00    10    11   10     11"
      ]
     },
     "execution_count": 113,
     "metadata": {},
     "output_type": "execute_result"
    }
   ],
   "source": [
    "ts.resample('5min').ohlc()"
   ]
  },
  {
   "cell_type": "markdown",
   "metadata": {},
   "source": [
    "#### Resampling with GroupBy\n",
    "\n",
    "- One can group by and then compute mean"
   ]
  },
  {
   "cell_type": "code",
   "execution_count": 114,
   "metadata": {
    "ExecuteTime": {
     "end_time": "2018-05-13T17:54:43.426943Z",
     "start_time": "2018-05-13T10:54:43.407905-07:00"
    }
   },
   "outputs": [
    {
     "name": "stdout",
     "output_type": "stream",
     "text": [
      "2000-01-01    0\n",
      "2000-01-02    1\n",
      "2000-01-03    2\n",
      "2000-01-04    3\n",
      "2000-01-05    4\n",
      "Freq: D, dtype: int64\n"
     ]
    }
   ],
   "source": [
    "rng = pd.date_range('1/1/2000', periods=100, freq='D')\n",
    "ts = pd.Series(np.arange(100), index=rng)\n",
    "print(ts.head())"
   ]
  },
  {
   "cell_type": "code",
   "execution_count": 115,
   "metadata": {
    "ExecuteTime": {
     "end_time": "2018-05-13T17:54:43.448176Z",
     "start_time": "2018-05-13T10:54:43.428538-07:00"
    }
   },
   "outputs": [
    {
     "data": {
      "text/plain": [
       "1    15\n",
       "2    45\n",
       "3    75\n",
       "4    95\n",
       "dtype: int64"
      ]
     },
     "execution_count": 115,
     "metadata": {},
     "output_type": "execute_result"
    }
   ],
   "source": [
    "ts.groupby(lambda x: x.month).mean()"
   ]
  },
  {
   "cell_type": "markdown",
   "metadata": {},
   "source": [
    "### Upsampling\n",
    "\n",
    "- When converting from lower to higher frequency, no aggregation is needed"
   ]
  },
  {
   "cell_type": "code",
   "execution_count": 116,
   "metadata": {
    "ExecuteTime": {
     "end_time": "2018-05-13T17:54:43.475322Z",
     "start_time": "2018-05-13T10:54:43.449980-07:00"
    }
   },
   "outputs": [
    {
     "data": {
      "text/html": [
       "<div>\n",
       "<style>\n",
       "    .dataframe thead tr:only-child th {\n",
       "        text-align: right;\n",
       "    }\n",
       "\n",
       "    .dataframe thead th {\n",
       "        text-align: left;\n",
       "    }\n",
       "\n",
       "    .dataframe tbody tr th {\n",
       "        vertical-align: top;\n",
       "    }\n",
       "</style>\n",
       "<table border=\"1\" class=\"dataframe\">\n",
       "  <thead>\n",
       "    <tr style=\"text-align: right;\">\n",
       "      <th></th>\n",
       "      <th>Colorado</th>\n",
       "      <th>Texas</th>\n",
       "      <th>NY</th>\n",
       "      <th>Ohio</th>\n",
       "    </tr>\n",
       "  </thead>\n",
       "  <tbody>\n",
       "    <tr>\n",
       "      <th>2000-01-05</th>\n",
       "      <td>-0.95568</td>\n",
       "      <td>0.779391</td>\n",
       "      <td>0.990238</td>\n",
       "      <td>0.951149</td>\n",
       "    </tr>\n",
       "    <tr>\n",
       "      <th>2000-01-12</th>\n",
       "      <td>-0.98663</td>\n",
       "      <td>-1.095869</td>\n",
       "      <td>0.666317</td>\n",
       "      <td>0.323091</td>\n",
       "    </tr>\n",
       "  </tbody>\n",
       "</table>\n",
       "</div>"
      ],
      "text/plain": [
       "            Colorado     Texas        NY      Ohio\n",
       "2000-01-05  -0.95568  0.779391  0.990238  0.951149\n",
       "2000-01-12  -0.98663 -1.095869  0.666317  0.323091"
      ]
     },
     "execution_count": 116,
     "metadata": {},
     "output_type": "execute_result"
    }
   ],
   "source": [
    "frame = pd.DataFrame(np.random.randn(2, 4),\n",
    "                     index=pd.date_range('1/1/2000', periods=2, freq='W-WED'),\n",
    "                     columns=\"Colorado Texas NY Ohio\".split())\n",
    "frame[:5]"
   ]
  },
  {
   "cell_type": "code",
   "execution_count": 117,
   "metadata": {
    "ExecuteTime": {
     "end_time": "2018-05-13T17:54:43.503972Z",
     "start_time": "2018-05-13T10:54:43.476968-07:00"
    }
   },
   "outputs": [
    {
     "data": {
      "text/html": [
       "<div>\n",
       "<style>\n",
       "    .dataframe thead tr:only-child th {\n",
       "        text-align: right;\n",
       "    }\n",
       "\n",
       "    .dataframe thead th {\n",
       "        text-align: left;\n",
       "    }\n",
       "\n",
       "    .dataframe tbody tr th {\n",
       "        vertical-align: top;\n",
       "    }\n",
       "</style>\n",
       "<table border=\"1\" class=\"dataframe\">\n",
       "  <thead>\n",
       "    <tr style=\"text-align: right;\">\n",
       "      <th></th>\n",
       "      <th>Colorado</th>\n",
       "      <th>Texas</th>\n",
       "      <th>NY</th>\n",
       "      <th>Ohio</th>\n",
       "    </tr>\n",
       "  </thead>\n",
       "  <tbody>\n",
       "    <tr>\n",
       "      <th>2000-01-05</th>\n",
       "      <td>-0.95568</td>\n",
       "      <td>0.779391</td>\n",
       "      <td>0.990238</td>\n",
       "      <td>0.951149</td>\n",
       "    </tr>\n",
       "    <tr>\n",
       "      <th>2000-01-06</th>\n",
       "      <td>-0.95568</td>\n",
       "      <td>0.779391</td>\n",
       "      <td>0.990238</td>\n",
       "      <td>0.951149</td>\n",
       "    </tr>\n",
       "    <tr>\n",
       "      <th>2000-01-07</th>\n",
       "      <td>-0.95568</td>\n",
       "      <td>0.779391</td>\n",
       "      <td>0.990238</td>\n",
       "      <td>0.951149</td>\n",
       "    </tr>\n",
       "    <tr>\n",
       "      <th>2000-01-08</th>\n",
       "      <td>-0.95568</td>\n",
       "      <td>0.779391</td>\n",
       "      <td>0.990238</td>\n",
       "      <td>0.951149</td>\n",
       "    </tr>\n",
       "    <tr>\n",
       "      <th>2000-01-09</th>\n",
       "      <td>-0.95568</td>\n",
       "      <td>0.779391</td>\n",
       "      <td>0.990238</td>\n",
       "      <td>0.951149</td>\n",
       "    </tr>\n",
       "    <tr>\n",
       "      <th>2000-01-10</th>\n",
       "      <td>-0.95568</td>\n",
       "      <td>0.779391</td>\n",
       "      <td>0.990238</td>\n",
       "      <td>0.951149</td>\n",
       "    </tr>\n",
       "    <tr>\n",
       "      <th>2000-01-11</th>\n",
       "      <td>-0.95568</td>\n",
       "      <td>0.779391</td>\n",
       "      <td>0.990238</td>\n",
       "      <td>0.951149</td>\n",
       "    </tr>\n",
       "    <tr>\n",
       "      <th>2000-01-12</th>\n",
       "      <td>-0.98663</td>\n",
       "      <td>-1.095869</td>\n",
       "      <td>0.666317</td>\n",
       "      <td>0.323091</td>\n",
       "    </tr>\n",
       "  </tbody>\n",
       "</table>\n",
       "</div>"
      ],
      "text/plain": [
       "            Colorado     Texas        NY      Ohio\n",
       "2000-01-05  -0.95568  0.779391  0.990238  0.951149\n",
       "2000-01-06  -0.95568  0.779391  0.990238  0.951149\n",
       "2000-01-07  -0.95568  0.779391  0.990238  0.951149\n",
       "2000-01-08  -0.95568  0.779391  0.990238  0.951149\n",
       "2000-01-09  -0.95568  0.779391  0.990238  0.951149\n",
       "2000-01-10  -0.95568  0.779391  0.990238  0.951149\n",
       "2000-01-11  -0.95568  0.779391  0.990238  0.951149\n",
       "2000-01-12  -0.98663 -1.095869  0.666317  0.323091"
      ]
     },
     "execution_count": 117,
     "metadata": {},
     "output_type": "execute_result"
    }
   ],
   "source": [
    "# When resampling to daily frequency, missing values are introduced.\n",
    "\n",
    "# frame.resample(\"D\", fill_method=\"ffill\")\n",
    "frame.resample('D').ffill()"
   ]
  },
  {
   "cell_type": "code",
   "execution_count": 118,
   "metadata": {
    "ExecuteTime": {
     "end_time": "2018-05-13T17:54:43.533537Z",
     "start_time": "2018-05-13T10:54:43.505758-07:00"
    }
   },
   "outputs": [
    {
     "data": {
      "text/html": [
       "<div>\n",
       "<style>\n",
       "    .dataframe thead tr:only-child th {\n",
       "        text-align: right;\n",
       "    }\n",
       "\n",
       "    .dataframe thead th {\n",
       "        text-align: left;\n",
       "    }\n",
       "\n",
       "    .dataframe tbody tr th {\n",
       "        vertical-align: top;\n",
       "    }\n",
       "</style>\n",
       "<table border=\"1\" class=\"dataframe\">\n",
       "  <thead>\n",
       "    <tr style=\"text-align: right;\">\n",
       "      <th></th>\n",
       "      <th>Colorado</th>\n",
       "      <th>Texas</th>\n",
       "      <th>NY</th>\n",
       "      <th>Ohio</th>\n",
       "    </tr>\n",
       "  </thead>\n",
       "  <tbody>\n",
       "    <tr>\n",
       "      <th>2000-01-05</th>\n",
       "      <td>-0.95568</td>\n",
       "      <td>0.779391</td>\n",
       "      <td>0.990238</td>\n",
       "      <td>0.951149</td>\n",
       "    </tr>\n",
       "    <tr>\n",
       "      <th>2000-01-06</th>\n",
       "      <td>-0.95568</td>\n",
       "      <td>0.779391</td>\n",
       "      <td>0.990238</td>\n",
       "      <td>0.951149</td>\n",
       "    </tr>\n",
       "    <tr>\n",
       "      <th>2000-01-07</th>\n",
       "      <td>-0.95568</td>\n",
       "      <td>0.779391</td>\n",
       "      <td>0.990238</td>\n",
       "      <td>0.951149</td>\n",
       "    </tr>\n",
       "    <tr>\n",
       "      <th>2000-01-08</th>\n",
       "      <td>NaN</td>\n",
       "      <td>NaN</td>\n",
       "      <td>NaN</td>\n",
       "      <td>NaN</td>\n",
       "    </tr>\n",
       "    <tr>\n",
       "      <th>2000-01-09</th>\n",
       "      <td>NaN</td>\n",
       "      <td>NaN</td>\n",
       "      <td>NaN</td>\n",
       "      <td>NaN</td>\n",
       "    </tr>\n",
       "    <tr>\n",
       "      <th>2000-01-10</th>\n",
       "      <td>NaN</td>\n",
       "      <td>NaN</td>\n",
       "      <td>NaN</td>\n",
       "      <td>NaN</td>\n",
       "    </tr>\n",
       "    <tr>\n",
       "      <th>2000-01-11</th>\n",
       "      <td>NaN</td>\n",
       "      <td>NaN</td>\n",
       "      <td>NaN</td>\n",
       "      <td>NaN</td>\n",
       "    </tr>\n",
       "    <tr>\n",
       "      <th>2000-01-12</th>\n",
       "      <td>-0.98663</td>\n",
       "      <td>-1.095869</td>\n",
       "      <td>0.666317</td>\n",
       "      <td>0.323091</td>\n",
       "    </tr>\n",
       "  </tbody>\n",
       "</table>\n",
       "</div>"
      ],
      "text/plain": [
       "            Colorado     Texas        NY      Ohio\n",
       "2000-01-05  -0.95568  0.779391  0.990238  0.951149\n",
       "2000-01-06  -0.95568  0.779391  0.990238  0.951149\n",
       "2000-01-07  -0.95568  0.779391  0.990238  0.951149\n",
       "2000-01-08       NaN       NaN       NaN       NaN\n",
       "2000-01-09       NaN       NaN       NaN       NaN\n",
       "2000-01-10       NaN       NaN       NaN       NaN\n",
       "2000-01-11       NaN       NaN       NaN       NaN\n",
       "2000-01-12  -0.98663 -1.095869  0.666317  0.323091"
      ]
     },
     "execution_count": 118,
     "metadata": {},
     "output_type": "execute_result"
    }
   ],
   "source": [
    "frame.resample('D').ffill(limit=2)"
   ]
  },
  {
   "cell_type": "markdown",
   "metadata": {},
   "source": [
    "### Resampling with periods"
   ]
  },
  {
   "cell_type": "code",
   "execution_count": 119,
   "metadata": {
    "ExecuteTime": {
     "end_time": "2018-05-13T17:54:43.560711Z",
     "start_time": "2018-05-13T10:54:43.535133-07:00"
    }
   },
   "outputs": [
    {
     "data": {
      "text/html": [
       "<div>\n",
       "<style>\n",
       "    .dataframe thead tr:only-child th {\n",
       "        text-align: right;\n",
       "    }\n",
       "\n",
       "    .dataframe thead th {\n",
       "        text-align: left;\n",
       "    }\n",
       "\n",
       "    .dataframe tbody tr th {\n",
       "        vertical-align: top;\n",
       "    }\n",
       "</style>\n",
       "<table border=\"1\" class=\"dataframe\">\n",
       "  <thead>\n",
       "    <tr style=\"text-align: right;\">\n",
       "      <th></th>\n",
       "      <th>Colorado</th>\n",
       "      <th>Texas</th>\n",
       "      <th>NY</th>\n",
       "      <th>Ohio</th>\n",
       "    </tr>\n",
       "  </thead>\n",
       "  <tbody>\n",
       "    <tr>\n",
       "      <th>2000-01</th>\n",
       "      <td>0.074921</td>\n",
       "      <td>0.497099</td>\n",
       "      <td>0.170844</td>\n",
       "      <td>0.888684</td>\n",
       "    </tr>\n",
       "    <tr>\n",
       "      <th>2000-02</th>\n",
       "      <td>0.855589</td>\n",
       "      <td>-0.949793</td>\n",
       "      <td>-1.025011</td>\n",
       "      <td>0.859073</td>\n",
       "    </tr>\n",
       "    <tr>\n",
       "      <th>2000-03</th>\n",
       "      <td>-0.370055</td>\n",
       "      <td>0.050389</td>\n",
       "      <td>1.699259</td>\n",
       "      <td>-1.818359</td>\n",
       "    </tr>\n",
       "    <tr>\n",
       "      <th>2000-04</th>\n",
       "      <td>2.009451</td>\n",
       "      <td>-0.225926</td>\n",
       "      <td>0.503074</td>\n",
       "      <td>0.194212</td>\n",
       "    </tr>\n",
       "    <tr>\n",
       "      <th>2000-05</th>\n",
       "      <td>1.076681</td>\n",
       "      <td>0.158426</td>\n",
       "      <td>0.539125</td>\n",
       "      <td>1.209886</td>\n",
       "    </tr>\n",
       "  </tbody>\n",
       "</table>\n",
       "</div>"
      ],
      "text/plain": [
       "         Colorado     Texas        NY      Ohio\n",
       "2000-01  0.074921  0.497099  0.170844  0.888684\n",
       "2000-02  0.855589 -0.949793 -1.025011  0.859073\n",
       "2000-03 -0.370055  0.050389  1.699259 -1.818359\n",
       "2000-04  2.009451 -0.225926  0.503074  0.194212\n",
       "2000-05  1.076681  0.158426  0.539125  1.209886"
      ]
     },
     "execution_count": 119,
     "metadata": {},
     "output_type": "execute_result"
    }
   ],
   "source": [
    "frame = pd.DataFrame(np.random.randn(24, 4),\n",
    "                     index=pd.period_range('1-2000', '12-2001', freq=\"M\"),\n",
    "                     columns=\"Colorado Texas NY Ohio\".split())\n",
    "frame[:5]"
   ]
  },
  {
   "cell_type": "code",
   "execution_count": 120,
   "metadata": {
    "ExecuteTime": {
     "end_time": "2018-05-13T17:54:43.586996Z",
     "start_time": "2018-05-13T10:54:43.562416-07:00"
    }
   },
   "outputs": [
    {
     "data": {
      "text/html": [
       "<div>\n",
       "<style>\n",
       "    .dataframe thead tr:only-child th {\n",
       "        text-align: right;\n",
       "    }\n",
       "\n",
       "    .dataframe thead th {\n",
       "        text-align: left;\n",
       "    }\n",
       "\n",
       "    .dataframe tbody tr th {\n",
       "        vertical-align: top;\n",
       "    }\n",
       "</style>\n",
       "<table border=\"1\" class=\"dataframe\">\n",
       "  <thead>\n",
       "    <tr style=\"text-align: right;\">\n",
       "      <th></th>\n",
       "      <th>Colorado</th>\n",
       "      <th>Texas</th>\n",
       "      <th>NY</th>\n",
       "      <th>Ohio</th>\n",
       "    </tr>\n",
       "  </thead>\n",
       "  <tbody>\n",
       "    <tr>\n",
       "      <th>2000</th>\n",
       "      <td>0.097874</td>\n",
       "      <td>-0.399284</td>\n",
       "      <td>0.440494</td>\n",
       "      <td>-0.021025</td>\n",
       "    </tr>\n",
       "    <tr>\n",
       "      <th>2001</th>\n",
       "      <td>-0.012058</td>\n",
       "      <td>-0.479017</td>\n",
       "      <td>-0.301660</td>\n",
       "      <td>0.243804</td>\n",
       "    </tr>\n",
       "  </tbody>\n",
       "</table>\n",
       "</div>"
      ],
      "text/plain": [
       "      Colorado     Texas        NY      Ohio\n",
       "2000  0.097874 -0.399284  0.440494 -0.021025\n",
       "2001 -0.012058 -0.479017 -0.301660  0.243804"
      ]
     },
     "execution_count": 120,
     "metadata": {},
     "output_type": "execute_result"
    }
   ],
   "source": [
    "annual_frame = frame.resample('A-DEC').mean()\n",
    "annual_frame"
   ]
  },
  {
   "cell_type": "markdown",
   "metadata": {},
   "source": [
    "## Time series plotting"
   ]
  },
  {
   "cell_type": "code",
   "execution_count": 121,
   "metadata": {
    "ExecuteTime": {
     "end_time": "2018-05-13T17:54:43.725468Z",
     "start_time": "2018-05-13T10:54:43.588722-07:00"
    }
   },
   "outputs": [
    {
     "name": "stdout",
     "output_type": "stream",
     "text": [
      "array_ex.txt               macrodata.csv\r\n",
      "csv_mindex.csv             out.csv\r\n",
      "ex1.csv                    segismundo.txt\r\n",
      "ex1.xlsx                   spx.csv\r\n",
      "ex2.csv                    stinkbug.png\r\n",
      "ex3.csv                    stock_px.csv\r\n",
      "ex3.txt                    stock_px_2.csv\r\n",
      "ex4.csv                    test_file.csv\r\n",
      "ex5.csv                    tips.csv\r\n",
      "ex6.csv                    tseries.csv\r\n",
      "ex7.csv                    volume.csv\r\n",
      "example.json               yahoo_price.pkl\r\n",
      "fdic_failed_bank_list.html yahoo_volume.pkl\r\n",
      "ipython_bug.py\r\n"
     ]
    }
   ],
   "source": [
    "!ls ~/src/github/pydata-book/examples"
   ]
  },
  {
   "cell_type": "code",
   "execution_count": 122,
   "metadata": {
    "ExecuteTime": {
     "end_time": "2018-05-13T17:54:43.775693Z",
     "start_time": "2018-05-13T10:54:43.727755-07:00"
    }
   },
   "outputs": [
    {
     "data": {
      "text/html": [
       "<div>\n",
       "<style>\n",
       "    .dataframe thead tr:only-child th {\n",
       "        text-align: right;\n",
       "    }\n",
       "\n",
       "    .dataframe thead th {\n",
       "        text-align: left;\n",
       "    }\n",
       "\n",
       "    .dataframe tbody tr th {\n",
       "        vertical-align: top;\n",
       "    }\n",
       "</style>\n",
       "<table border=\"1\" class=\"dataframe\">\n",
       "  <thead>\n",
       "    <tr style=\"text-align: right;\">\n",
       "      <th></th>\n",
       "      <th>AA</th>\n",
       "      <th>AAPL</th>\n",
       "      <th>GE</th>\n",
       "      <th>IBM</th>\n",
       "      <th>JNJ</th>\n",
       "      <th>MSFT</th>\n",
       "      <th>PEP</th>\n",
       "      <th>SPX</th>\n",
       "      <th>XOM</th>\n",
       "    </tr>\n",
       "  </thead>\n",
       "  <tbody>\n",
       "    <tr>\n",
       "      <th>1990-02-01</th>\n",
       "      <td>4.98</td>\n",
       "      <td>7.86</td>\n",
       "      <td>2.87</td>\n",
       "      <td>16.79</td>\n",
       "      <td>4.27</td>\n",
       "      <td>0.51</td>\n",
       "      <td>6.04</td>\n",
       "      <td>328.79</td>\n",
       "      <td>6.12</td>\n",
       "    </tr>\n",
       "    <tr>\n",
       "      <th>1990-02-02</th>\n",
       "      <td>5.04</td>\n",
       "      <td>8.00</td>\n",
       "      <td>2.87</td>\n",
       "      <td>16.89</td>\n",
       "      <td>4.37</td>\n",
       "      <td>0.51</td>\n",
       "      <td>6.09</td>\n",
       "      <td>330.92</td>\n",
       "      <td>6.24</td>\n",
       "    </tr>\n",
       "    <tr>\n",
       "      <th>1990-02-05</th>\n",
       "      <td>5.07</td>\n",
       "      <td>8.18</td>\n",
       "      <td>2.87</td>\n",
       "      <td>17.32</td>\n",
       "      <td>4.34</td>\n",
       "      <td>0.51</td>\n",
       "      <td>6.05</td>\n",
       "      <td>331.85</td>\n",
       "      <td>6.25</td>\n",
       "    </tr>\n",
       "    <tr>\n",
       "      <th>1990-02-06</th>\n",
       "      <td>5.01</td>\n",
       "      <td>8.12</td>\n",
       "      <td>2.88</td>\n",
       "      <td>17.56</td>\n",
       "      <td>4.32</td>\n",
       "      <td>0.51</td>\n",
       "      <td>6.15</td>\n",
       "      <td>329.66</td>\n",
       "      <td>6.23</td>\n",
       "    </tr>\n",
       "    <tr>\n",
       "      <th>1990-02-07</th>\n",
       "      <td>5.04</td>\n",
       "      <td>7.77</td>\n",
       "      <td>2.91</td>\n",
       "      <td>17.93</td>\n",
       "      <td>4.38</td>\n",
       "      <td>0.51</td>\n",
       "      <td>6.17</td>\n",
       "      <td>333.75</td>\n",
       "      <td>6.33</td>\n",
       "    </tr>\n",
       "  </tbody>\n",
       "</table>\n",
       "</div>"
      ],
      "text/plain": [
       "              AA  AAPL    GE    IBM   JNJ  MSFT   PEP     SPX   XOM\n",
       "1990-02-01  4.98  7.86  2.87  16.79  4.27  0.51  6.04  328.79  6.12\n",
       "1990-02-02  5.04  8.00  2.87  16.89  4.37  0.51  6.09  330.92  6.24\n",
       "1990-02-05  5.07  8.18  2.87  17.32  4.34  0.51  6.05  331.85  6.25\n",
       "1990-02-06  5.01  8.12  2.88  17.56  4.32  0.51  6.15  329.66  6.23\n",
       "1990-02-07  5.04  7.77  2.91  17.93  4.38  0.51  6.17  333.75  6.33"
      ]
     },
     "execution_count": 122,
     "metadata": {},
     "output_type": "execute_result"
    }
   ],
   "source": [
    "close_px_all = pd.read_csv(\n",
    "    '~/src/github/pydata-book/examples/stock_px.csv',\n",
    "    index_col=0,\n",
    "    parse_dates=True)\n",
    "\n",
    "close_px_all.head()"
   ]
  },
  {
   "cell_type": "code",
   "execution_count": 123,
   "metadata": {
    "ExecuteTime": {
     "end_time": "2018-05-13T17:54:43.806338Z",
     "start_time": "2018-05-13T10:54:43.777536-07:00"
    }
   },
   "outputs": [
    {
     "data": {
      "text/html": [
       "<div>\n",
       "<style>\n",
       "    .dataframe thead tr:only-child th {\n",
       "        text-align: right;\n",
       "    }\n",
       "\n",
       "    .dataframe thead th {\n",
       "        text-align: left;\n",
       "    }\n",
       "\n",
       "    .dataframe tbody tr th {\n",
       "        vertical-align: top;\n",
       "    }\n",
       "</style>\n",
       "<table border=\"1\" class=\"dataframe\">\n",
       "  <thead>\n",
       "    <tr style=\"text-align: right;\">\n",
       "      <th></th>\n",
       "      <th>AAPL</th>\n",
       "      <th>MSFT</th>\n",
       "      <th>XOM</th>\n",
       "    </tr>\n",
       "  </thead>\n",
       "  <tbody>\n",
       "    <tr>\n",
       "      <th>1990-02-01</th>\n",
       "      <td>7.86</td>\n",
       "      <td>0.51</td>\n",
       "      <td>6.12</td>\n",
       "    </tr>\n",
       "    <tr>\n",
       "      <th>1990-02-02</th>\n",
       "      <td>8.00</td>\n",
       "      <td>0.51</td>\n",
       "      <td>6.24</td>\n",
       "    </tr>\n",
       "    <tr>\n",
       "      <th>1990-02-05</th>\n",
       "      <td>8.18</td>\n",
       "      <td>0.51</td>\n",
       "      <td>6.25</td>\n",
       "    </tr>\n",
       "    <tr>\n",
       "      <th>1990-02-06</th>\n",
       "      <td>8.12</td>\n",
       "      <td>0.51</td>\n",
       "      <td>6.23</td>\n",
       "    </tr>\n",
       "    <tr>\n",
       "      <th>1990-02-07</th>\n",
       "      <td>7.77</td>\n",
       "      <td>0.51</td>\n",
       "      <td>6.33</td>\n",
       "    </tr>\n",
       "  </tbody>\n",
       "</table>\n",
       "</div>"
      ],
      "text/plain": [
       "            AAPL  MSFT   XOM\n",
       "1990-02-01  7.86  0.51  6.12\n",
       "1990-02-02  8.00  0.51  6.24\n",
       "1990-02-05  8.18  0.51  6.25\n",
       "1990-02-06  8.12  0.51  6.23\n",
       "1990-02-07  7.77  0.51  6.33"
      ]
     },
     "execution_count": 123,
     "metadata": {},
     "output_type": "execute_result"
    }
   ],
   "source": [
    "close_px = close_px_all[\"AAPL MSFT XOM\".split()]\n",
    "\n",
    "close_px.head()"
   ]
  },
  {
   "cell_type": "code",
   "execution_count": 124,
   "metadata": {
    "ExecuteTime": {
     "end_time": "2018-05-13T17:54:43.924236Z",
     "start_time": "2018-05-13T10:54:43.808624-07:00"
    }
   },
   "outputs": [
    {
     "name": "stderr",
     "output_type": "stream",
     "text": [
      "/Users/gp/.conda/envs/jupyter/lib/python2.7/site-packages/ipykernel_launcher.py:1: FutureWarning: fill_method is deprecated to .resample()\n",
      "the new syntax is .resample(...).ffill()\n",
      "  \"\"\"Entry point for launching an IPython kernel.\n"
     ]
    }
   ],
   "source": [
    "close_px = close_px.resample('B', fill_method='ffill')"
   ]
  },
  {
   "cell_type": "code",
   "execution_count": 125,
   "metadata": {
    "ExecuteTime": {
     "end_time": "2018-05-13T17:54:43.949020Z",
     "start_time": "2018-05-13T10:54:43.926238-07:00"
    }
   },
   "outputs": [
    {
     "data": {
      "text/html": [
       "<div>\n",
       "<style>\n",
       "    .dataframe thead tr:only-child th {\n",
       "        text-align: right;\n",
       "    }\n",
       "\n",
       "    .dataframe thead th {\n",
       "        text-align: left;\n",
       "    }\n",
       "\n",
       "    .dataframe tbody tr th {\n",
       "        vertical-align: top;\n",
       "    }\n",
       "</style>\n",
       "<table border=\"1\" class=\"dataframe\">\n",
       "  <thead>\n",
       "    <tr style=\"text-align: right;\">\n",
       "      <th></th>\n",
       "      <th>AAPL</th>\n",
       "      <th>MSFT</th>\n",
       "      <th>XOM</th>\n",
       "    </tr>\n",
       "  </thead>\n",
       "  <tbody>\n",
       "    <tr>\n",
       "      <th>1990-02-01</th>\n",
       "      <td>7.86</td>\n",
       "      <td>0.51</td>\n",
       "      <td>6.12</td>\n",
       "    </tr>\n",
       "    <tr>\n",
       "      <th>1990-02-02</th>\n",
       "      <td>8.00</td>\n",
       "      <td>0.51</td>\n",
       "      <td>6.24</td>\n",
       "    </tr>\n",
       "    <tr>\n",
       "      <th>1990-02-05</th>\n",
       "      <td>8.18</td>\n",
       "      <td>0.51</td>\n",
       "      <td>6.25</td>\n",
       "    </tr>\n",
       "    <tr>\n",
       "      <th>1990-02-06</th>\n",
       "      <td>8.12</td>\n",
       "      <td>0.51</td>\n",
       "      <td>6.23</td>\n",
       "    </tr>\n",
       "    <tr>\n",
       "      <th>1990-02-07</th>\n",
       "      <td>7.77</td>\n",
       "      <td>0.51</td>\n",
       "      <td>6.33</td>\n",
       "    </tr>\n",
       "  </tbody>\n",
       "</table>\n",
       "</div>"
      ],
      "text/plain": [
       "            AAPL  MSFT   XOM\n",
       "1990-02-01  7.86  0.51  6.12\n",
       "1990-02-02  8.00  0.51  6.24\n",
       "1990-02-05  8.18  0.51  6.25\n",
       "1990-02-06  8.12  0.51  6.23\n",
       "1990-02-07  7.77  0.51  6.33"
      ]
     },
     "execution_count": 125,
     "metadata": {},
     "output_type": "execute_result"
    }
   ],
   "source": [
    "close_px.head()"
   ]
  },
  {
   "cell_type": "code",
   "execution_count": 126,
   "metadata": {
    "ExecuteTime": {
     "end_time": "2018-05-13T17:54:44.216112Z",
     "start_time": "2018-05-13T10:54:43.950842-07:00"
    }
   },
   "outputs": [
    {
     "data": {
      "text/plain": [
       "<matplotlib.axes._subplots.AxesSubplot at 0x107065310>"
      ]
     },
     "execution_count": 126,
     "metadata": {},
     "output_type": "execute_result"
    },
    {
     "data": {
      "image/png": "[encoded data removed]",
      "text/plain": [
       "<matplotlib.figure.Figure at 0x107150c50>"
      ]
     },
     "metadata": {},
     "output_type": "display_data"
    }
   ],
   "source": [
    "close_px[\"AAPL\"].plot()"
   ]
  },
  {
   "cell_type": "code",
   "execution_count": 127,
   "metadata": {
    "ExecuteTime": {
     "end_time": "2018-05-13T17:54:44.511865Z",
     "start_time": "2018-05-13T10:54:44.218181-07:00"
    }
   },
   "outputs": [
    {
     "data": {
      "text/plain": [
       "<matplotlib.axes._subplots.AxesSubplot at 0x107a73790>"
      ]
     },
     "execution_count": 127,
     "metadata": {},
     "output_type": "execute_result"
    },
    {
     "data": {
      "image/png": "[encoded data removed]",
      "text/plain": [
       "<matplotlib.figure.Figure at 0x107833e90>"
      ]
     },
     "metadata": {},
     "output_type": "display_data"
    }
   ],
   "source": [
    "close_px[\"2009\"].plot()"
   ]
  },
  {
   "cell_type": "code",
   "execution_count": 128,
   "metadata": {
    "ExecuteTime": {
     "end_time": "2018-05-13T17:54:44.790458Z",
     "start_time": "2018-05-13T10:54:44.513604-07:00"
    }
   },
   "outputs": [
    {
     "data": {
      "text/plain": [
       "<matplotlib.axes._subplots.AxesSubplot at 0x107d29a90>"
      ]
     },
     "execution_count": 128,
     "metadata": {},
     "output_type": "execute_result"
    },
    {
     "data": {
      "image/png": "[encoded data removed]",
      "text/plain": [
       "<matplotlib.figure.Figure at 0x107d29110>"
      ]
     },
     "metadata": {},
     "output_type": "display_data"
    }
   ],
   "source": [
    "close_px[\"AAPL\"].loc['01-2011':'03-2011'].plot()"
   ]
  },
  {
   "cell_type": "code",
   "execution_count": 129,
   "metadata": {
    "ExecuteTime": {
     "end_time": "2018-05-13T17:54:45.006641Z",
     "start_time": "2018-05-13T10:54:44.792451-07:00"
    }
   },
   "outputs": [
    {
     "data": {
      "text/plain": [
       "<matplotlib.axes._subplots.AxesSubplot at 0x107f82250>"
      ]
     },
     "execution_count": 129,
     "metadata": {},
     "output_type": "execute_result"
    },
    {
     "data": {
      "image/png": "[encoded data removed]",
      "text/plain": [
       "<matplotlib.figure.Figure at 0x107f8ee90>"
      ]
     },
     "metadata": {},
     "output_type": "display_data"
    }
   ],
   "source": [
    "# Quarterly data is nicely formatted with quarterly markers.\n",
    "#aapl_q = close_px[\"AAPL\"].resample(\"Q-DEC\", fill_method=\"ffill\")\n",
    "aapl_q = close_px[\"AAPL\"].resample(\"Q-DEC\").ffill()\n",
    "aapl_q[\"2009\":].plot()"
   ]
  },
  {
   "cell_type": "code",
   "execution_count": null,
   "metadata": {
    "collapsed": true
   },
   "outputs": [],
   "source": []
  },
  {
   "cell_type": "markdown",
   "metadata": {},
   "source": [
    "## Moving window functions\n",
    "\n",
    "- Common operations are statistics evaluated over a sliding window, with\n",
    "  exponentially decaying weights"
   ]
  },
  {
   "cell_type": "code",
   "execution_count": 134,
   "metadata": {
    "ExecuteTime": {
     "end_time": "2018-05-13T17:55:36.757571Z",
     "start_time": "2018-05-13T10:55:36.240271-07:00"
    }
   },
   "outputs": [
    {
     "data": {
      "text/plain": [
       "<matplotlib.axes._subplots.AxesSubplot at 0x108ec60d0>"
      ]
     },
     "execution_count": 134,
     "metadata": {},
     "output_type": "execute_result"
    },
    {
     "data": {
      "image/png": "[encoded data removed]",
      "text/plain": [
       "<matplotlib.figure.Figure at 0x108aaddd0>"
      ]
     },
     "metadata": {},
     "output_type": "display_data"
    },
    {
     "data": {
      "image/png": "[encoded data removed]",
      "text/plain": [
       "<matplotlib.figure.Figure at 0x108aadd50>"
      ]
     },
     "metadata": {},
     "output_type": "display_data"
    }
   ],
   "source": [
    "close_px.AAPL.plot()\n",
    "\n",
    "# One needs to specify the number of non-na observations.\n",
    "#pd.rolling_mean(close_px.AAPL, 250).plot()\n",
    "close_px.rolling(window=250,center=False).mean().plot()"
   ]
  },
  {
   "cell_type": "code",
   "execution_count": 136,
   "metadata": {
    "ExecuteTime": {
     "end_time": "2018-05-13T17:56:08.556845Z",
     "start_time": "2018-05-13T10:56:08.270211-07:00"
    }
   },
   "outputs": [
    {
     "data": {
      "text/plain": [
       "<matplotlib.axes._subplots.AxesSubplot at 0x1089f1050>"
      ]
     },
     "execution_count": 136,
     "metadata": {},
     "output_type": "execute_result"
    },
    {
     "data": {
      "image/png": "[encoded data removed]",
      "text/plain": [
       "<matplotlib.figure.Figure at 0x1089f12d0>"
      ]
     },
     "metadata": {},
     "output_type": "display_data"
    }
   ],
   "source": [
    "#pd.rolling_std(close_px.AAPL, 250, min_periods=10).plot()\n",
    "close_px.AAPL.rolling(min_periods=10,window=250,center=False).std().plot()"
   ]
  },
  {
   "cell_type": "code",
   "execution_count": 132,
   "metadata": {
    "ExecuteTime": {
     "end_time": "2018-05-13T17:54:45.553827Z",
     "start_time": "2018-05-13T10:54:45.536702-07:00"
    },
    "collapsed": true
   },
   "outputs": [],
   "source": [
    "expanding_mean = lambda x: pd.rolling_mean(x, len(x), min_periods=1)"
   ]
  },
  {
   "cell_type": "code",
   "execution_count": 133,
   "metadata": {
    "ExecuteTime": {
     "end_time": "2018-05-13T17:54:46.255861Z",
     "start_time": "2018-05-13T10:54:45.555796-07:00"
    }
   },
   "outputs": [
    {
     "data": {
      "text/plain": [
       "<matplotlib.axes._subplots.AxesSubplot at 0x1085e2f10>"
      ]
     },
     "execution_count": 133,
     "metadata": {},
     "output_type": "execute_result"
    },
    {
     "data": {
      "image/png": "[encoded data removed]",
      "text/plain": [
       "<matplotlib.figure.Figure at 0x1085e2dd0>"
      ]
     },
     "metadata": {},
     "output_type": "display_data"
    }
   ],
   "source": [
    "#pd.rolling_mean(close_px, 60).plot(logy=True)\n",
    "close_px.rolling(window=60, center=False).mean().plot(logy=True)"
   ]
  },
  {
   "cell_type": "code",
   "execution_count": 140,
   "metadata": {
    "ExecuteTime": {
     "end_time": "2018-05-13T17:57:37.171351Z",
     "start_time": "2018-05-13T10:57:36.943710-07:00"
    }
   },
   "outputs": [
    {
     "data": {
      "text/plain": [
       "<matplotlib.axes._subplots.AxesSubplot at 0x10895c390>"
      ]
     },
     "execution_count": 140,
     "metadata": {},
     "output_type": "execute_result"
    },
    {
     "data": {
      "image/png": "[encoded data removed]",
      "text/plain": [
       "<matplotlib.figure.Figure at 0x108c425d0>"
      ]
     },
     "metadata": {},
     "output_type": "display_data"
    }
   ],
   "source": [
    "close_px.AAPL.rolling(window=60, center=False).count().plot()"
   ]
  },
  {
   "cell_type": "code",
   "execution_count": 142,
   "metadata": {
    "ExecuteTime": {
     "end_time": "2018-05-13T17:57:57.490179Z",
     "start_time": "2018-05-13T10:57:57.247984-07:00"
    }
   },
   "outputs": [
    {
     "data": {
      "text/plain": [
       "<matplotlib.axes._subplots.AxesSubplot at 0x10949b0d0>"
      ]
     },
     "execution_count": 142,
     "metadata": {},
     "output_type": "execute_result"
    },
    {
     "data": {
      "image/png": "[encoded data removed]",
      "text/plain": [
       "<matplotlib.figure.Figure at 0x1094ce810>"
      ]
     },
     "metadata": {},
     "output_type": "display_data"
    }
   ],
   "source": [
    "close_px.AAPL.rolling(window=60, center=False).skew().plot()"
   ]
  },
  {
   "cell_type": "code",
   "execution_count": 143,
   "metadata": {
    "ExecuteTime": {
     "end_time": "2018-05-13T17:58:13.309686Z",
     "start_time": "2018-05-13T10:58:13.001966-07:00"
    }
   },
   "outputs": [
    {
     "data": {
      "text/plain": [
       "<matplotlib.axes._subplots.AxesSubplot at 0x1096f5710>"
      ]
     },
     "execution_count": 143,
     "metadata": {},
     "output_type": "execute_result"
    },
    {
     "data": {
      "image/png": "[encoded data removed]",
      "text/plain": [
       "<matplotlib.figure.Figure at 0x1096f5210>"
      ]
     },
     "metadata": {},
     "output_type": "display_data"
    }
   ],
   "source": [
    "close_px.AAPL.rolling(window=60, center=False).kurt().plot()"
   ]
  },
  {
   "cell_type": "code",
   "execution_count": null,
   "metadata": {
    "collapsed": true
   },
   "outputs": [],
   "source": [
    "# rolling.apply(): apply a generic function over a moving window\n",
    "# ewma, ewmvar, ewmstd, ewmcorr, ewmcov: exp-weighted moving *"
   ]
  },
  {
   "cell_type": "markdown",
   "metadata": {
    "ExecuteTime": {
     "end_time": "2018-05-13T17:56:47.950461Z",
     "start_time": "2018-05-13T10:56:47.933894-07:00"
    }
   },
   "source": [
    "### Exponentially-weighted functions\n",
    "\n",
    "- Instead of specifying a static window size with equally-weighted observations,\n",
    "  specify a constant decay factor to give more weight to more reent observations\n",
    "  \n",
    "  $$ma_t = a \\cdot ma_{t-1} + (a-1) \\cdot x_t$$"
   ]
  },
  {
   "cell_type": "code",
   "execution_count": 161,
   "metadata": {
    "ExecuteTime": {
     "end_time": "2018-05-20T15:31:06.902473Z",
     "start_time": "2018-05-20T08:31:06.586777-07:00"
    }
   },
   "outputs": [
    {
     "data": {
      "text/plain": [
       "<matplotlib.legend.Legend at 0x10bacd990>"
      ]
     },
     "execution_count": 161,
     "metadata": {},
     "output_type": "execute_result"
    },
    {
     "data": {
      "image/png": "[encoded data removed]",
      "text/plain": [
       "<matplotlib.figure.Figure at 0x10b6c3090>"
      ]
     },
     "metadata": {},
     "output_type": "display_data"
    }
   ],
   "source": [
    "fig, axes = plt.subplots(\n",
    "    nrows=1, ncols=1, sharex=True, sharey=True, figsize=(12, 5))\n",
    "\n",
    "aapl_px = close_px.AAPL['2005':'2009']\n",
    "ma60 = aapl_px.rolling(60, min_periods=50).mean()\n",
    "ewma60 = aapl_px.ewm(span=60, min_periods=60).mean()\n",
    "\n",
    "aapl_px.plot(style='k-', ax=axes)\n",
    "ma60.plot(style='b--', ax=axes, label=\"ma\")\n",
    "ewma60.plot(style='r--', ax=axes, label=\"ewma\")\n",
    "\n",
    "plt.legend()"
   ]
  },
  {
   "cell_type": "markdown",
   "metadata": {},
   "source": [
    "### Binary moving window functions"
   ]
  },
  {
   "cell_type": "code",
   "execution_count": 180,
   "metadata": {
    "ExecuteTime": {
     "end_time": "2018-05-20T15:36:41.995799Z",
     "start_time": "2018-05-20T08:36:41.689066-07:00"
    }
   },
   "outputs": [
    {
     "data": {
      "text/plain": [
       "2005-01-03         NaN\n",
       "2005-01-04   -0.011671\n",
       "2005-01-05   -0.003628\n",
       "2005-01-06    0.003506\n",
       "2005-01-07   -0.001431\n",
       "Name: SPX, dtype: float64"
      ]
     },
     "metadata": {},
     "output_type": "display_data"
    },
    {
     "data": {
      "text/html": [
       "<div>\n",
       "<style>\n",
       "    .dataframe thead tr:only-child th {\n",
       "        text-align: right;\n",
       "    }\n",
       "\n",
       "    .dataframe thead th {\n",
       "        text-align: left;\n",
       "    }\n",
       "\n",
       "    .dataframe tbody tr th {\n",
       "        vertical-align: top;\n",
       "    }\n",
       "</style>\n",
       "<table border=\"1\" class=\"dataframe\">\n",
       "  <thead>\n",
       "    <tr style=\"text-align: right;\">\n",
       "      <th></th>\n",
       "      <th>AAPL</th>\n",
       "      <th>MSFT</th>\n",
       "      <th>XOM</th>\n",
       "    </tr>\n",
       "  </thead>\n",
       "  <tbody>\n",
       "    <tr>\n",
       "      <th>1990-02-01</th>\n",
       "      <td>NaN</td>\n",
       "      <td>NaN</td>\n",
       "      <td>NaN</td>\n",
       "    </tr>\n",
       "    <tr>\n",
       "      <th>1990-02-02</th>\n",
       "      <td>0.017812</td>\n",
       "      <td>0.0</td>\n",
       "      <td>0.019608</td>\n",
       "    </tr>\n",
       "    <tr>\n",
       "      <th>1990-02-05</th>\n",
       "      <td>0.022500</td>\n",
       "      <td>0.0</td>\n",
       "      <td>0.001603</td>\n",
       "    </tr>\n",
       "    <tr>\n",
       "      <th>1990-02-06</th>\n",
       "      <td>-0.007335</td>\n",
       "      <td>0.0</td>\n",
       "      <td>-0.003200</td>\n",
       "    </tr>\n",
       "    <tr>\n",
       "      <th>1990-02-07</th>\n",
       "      <td>-0.043103</td>\n",
       "      <td>0.0</td>\n",
       "      <td>0.016051</td>\n",
       "    </tr>\n",
       "  </tbody>\n",
       "</table>\n",
       "</div>"
      ],
      "text/plain": [
       "                AAPL  MSFT       XOM\n",
       "1990-02-01       NaN   NaN       NaN\n",
       "1990-02-02  0.017812   0.0  0.019608\n",
       "1990-02-05  0.022500   0.0  0.001603\n",
       "1990-02-06 -0.007335   0.0 -0.003200\n",
       "1990-02-07 -0.043103   0.0  0.016051"
      ]
     },
     "metadata": {},
     "output_type": "display_data"
    },
    {
     "data": {
      "text/plain": [
       "<matplotlib.axes._subplots.AxesSubplot at 0x10c096290>"
      ]
     },
     "execution_count": 180,
     "metadata": {},
     "output_type": "execute_result"
    },
    {
     "data": {
      "image/png": "[encoded data removed]",
      "text/plain": [
       "<matplotlib.figure.Figure at 0x10cae1610>"
      ]
     },
     "metadata": {},
     "output_type": "display_data"
    }
   ],
   "source": [
    "# Some operators (e.g., corr, cov) operate on 2 time series.\n",
    "spx_px = close_px_all.SPX['2005':'2009']\n",
    "spx_rets = spx_px / spx_px.shift(1) - 1\n",
    "\n",
    "returns = close_px.pct_change()\n",
    "\n",
    "display(spx_rets.head())\n",
    "display(returns.head())\n",
    "\n",
    "# corr = pd.rolling_corr(returns.AAPL, spx_rets, 125, min_periods=100)\n",
    "corr = returns.AAPL.rolling(125, min_periods=100).corr(spx_rets)\n",
    "corr.dropna().plot(figsize=(15, 6))"
   ]
  },
  {
   "cell_type": "code",
   "execution_count": 178,
   "metadata": {
    "ExecuteTime": {
     "end_time": "2018-05-20T15:36:01.225583Z",
     "start_time": "2018-05-20T08:36:00.824077-07:00"
    }
   },
   "outputs": [
    {
     "data": {
      "text/html": [
       "<div>\n",
       "<style>\n",
       "    .dataframe thead tr:only-child th {\n",
       "        text-align: right;\n",
       "    }\n",
       "\n",
       "    .dataframe thead th {\n",
       "        text-align: left;\n",
       "    }\n",
       "\n",
       "    .dataframe tbody tr th {\n",
       "        vertical-align: top;\n",
       "    }\n",
       "</style>\n",
       "<table border=\"1\" class=\"dataframe\">\n",
       "  <thead>\n",
       "    <tr style=\"text-align: right;\">\n",
       "      <th></th>\n",
       "      <th>AAPL</th>\n",
       "      <th>MSFT</th>\n",
       "      <th>XOM</th>\n",
       "    </tr>\n",
       "  </thead>\n",
       "  <tbody>\n",
       "    <tr>\n",
       "      <th>1990-02-01</th>\n",
       "      <td>NaN</td>\n",
       "      <td>NaN</td>\n",
       "      <td>NaN</td>\n",
       "    </tr>\n",
       "    <tr>\n",
       "      <th>1990-02-02</th>\n",
       "      <td>0.017812</td>\n",
       "      <td>0.0</td>\n",
       "      <td>0.019608</td>\n",
       "    </tr>\n",
       "    <tr>\n",
       "      <th>1990-02-05</th>\n",
       "      <td>0.022500</td>\n",
       "      <td>0.0</td>\n",
       "      <td>0.001603</td>\n",
       "    </tr>\n",
       "    <tr>\n",
       "      <th>1990-02-06</th>\n",
       "      <td>-0.007335</td>\n",
       "      <td>0.0</td>\n",
       "      <td>-0.003200</td>\n",
       "    </tr>\n",
       "    <tr>\n",
       "      <th>1990-02-07</th>\n",
       "      <td>-0.043103</td>\n",
       "      <td>0.0</td>\n",
       "      <td>0.016051</td>\n",
       "    </tr>\n",
       "  </tbody>\n",
       "</table>\n",
       "</div>"
      ],
      "text/plain": [
       "                AAPL  MSFT       XOM\n",
       "1990-02-01       NaN   NaN       NaN\n",
       "1990-02-02  0.017812   0.0  0.019608\n",
       "1990-02-05  0.022500   0.0  0.001603\n",
       "1990-02-06 -0.007335   0.0 -0.003200\n",
       "1990-02-07 -0.043103   0.0  0.016051"
      ]
     },
     "metadata": {},
     "output_type": "display_data"
    },
    {
     "data": {
      "text/plain": [
       "2005-01-03         NaN\n",
       "2005-01-04   -0.011671\n",
       "2005-01-05   -0.003628\n",
       "2005-01-06    0.003506\n",
       "2005-01-07   -0.001431\n",
       "Name: SPX, dtype: float64"
      ]
     },
     "metadata": {},
     "output_type": "display_data"
    },
    {
     "data": {
      "text/plain": [
       "<matplotlib.axes._subplots.AxesSubplot at 0x10ca6b690>"
      ]
     },
     "execution_count": 178,
     "metadata": {},
     "output_type": "execute_result"
    },
    {
     "data": {
      "image/png": "[encoded data removed]",
      "text/plain": [
       "<matplotlib.figure.Figure at 0x10ca4fd10>"
      ]
     },
     "metadata": {},
     "output_type": "display_data"
    }
   ],
   "source": [
    "# Multiple columns of a data-frame vs a series.\n",
    "display(returns.head())\n",
    "display(spx_rets.head())\n",
    "\n",
    "corr = returns.rolling(125, min_periods=100).corr(spx_rets)\n",
    "corr.dropna().plot(figsize=(15, 6))"
   ]
  },
  {
   "cell_type": "markdown",
   "metadata": {},
   "source": [
    "### User-defined moving window functions"
   ]
  },
  {
   "cell_type": "code",
   "execution_count": 183,
   "metadata": {
    "ExecuteTime": {
     "end_time": "2018-05-20T15:42:26.965496Z",
     "start_time": "2018-05-20T08:42:26.478571-07:00"
    }
   },
   "outputs": [
    {
     "data": {
      "text/plain": [
       "<matplotlib.axes._subplots.AxesSubplot at 0x10cdad0d0>"
      ]
     },
     "execution_count": 183,
     "metadata": {},
     "output_type": "execute_result"
    },
    {
     "data": {
      "image/png": "[encoded data removed]",
      "text/plain": [
       "<matplotlib.figure.Figure at 0x1138a1050>"
      ]
     },
     "metadata": {},
     "output_type": "display_data"
    }
   ],
   "source": [
    "# rolling_apply)() allows to apply an array function over a moving function.\n",
    "# The function needs to produce a single function\n",
    "\n",
    "from scipy.stats import percentileofscore\n",
    "score_at_2pct = lambda x: percentileofscore(x, 0.02)\n",
    "#result = pd.rolling_apply(returns.AAPL, 250, score_at_2pct)\n",
    "# pandas 0.22\n",
    "result = returns.AAPL.rolling(250).apply(score_at_2pct)\n",
    "\n",
    "result.plot()"
   ]
  },
  {
   "cell_type": "code",
   "execution_count": 318,
   "metadata": {
    "ExecuteTime": {
     "end_time": "2018-04-25T13:54:44.871755Z",
     "start_time": "2018-04-25T06:54:44.836955-07:00"
    }
   },
   "outputs": [
    {
     "ename": "NameError",
     "evalue": "name 'TODO' is not defined",
     "output_type": "error",
     "traceback": [
      "\u001b[0;31m---------------------------------------------------------------------------\u001b[0m",
      "\u001b[0;31mNameError\u001b[0m                                 Traceback (most recent call last)",
      "\u001b[0;32m<ipython-input-318-9b7105f44b18>\u001b[0m in \u001b[0;36m<module>\u001b[0;34m()\u001b[0m\n\u001b[0;32m----> 1\u001b[0;31m \u001b[0mTODO\u001b[0m\u001b[0;34m\u001b[0m\u001b[0m\n\u001b[0m",
      "\u001b[0;31mNameError\u001b[0m: name 'TODO' is not defined"
     ]
    }
   ],
   "source": [
    "TODO"
   ]
  }
 ],
 "metadata": {
  "kernelspec": {
   "display_name": "Python [default]",
   "language": "python",
   "name": "python3"
  },
  "language_info": {
   "codemirror_mode": {
    "name": "ipython",
    "version": 3
   },
   "file_extension": ".py",
   "mimetype": "text/x-python",
   "name": "python",
   "nbconvert_exporter": "python",
   "pygments_lexer": "ipython3",
   "version": "3.7.1"
  },
  "toc": {
   "colors": {
    "hover_highlight": "#DAA520",
    "running_highlight": "#FF0000",
    "selected_highlight": "#FFD700"
   },
   "moveMenuLeft": true,
   "navigate_menu": false,
   "number_sections": true,
   "sideBar": true,
   "threshold": 4,
   "toc_cell": true,
   "toc_section_display": "block",
   "toc_window_display": false
  }
 },
 "nbformat": 4,
 "nbformat_minor": 2
}