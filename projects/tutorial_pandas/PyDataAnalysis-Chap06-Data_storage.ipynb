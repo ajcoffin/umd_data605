{
 "cells": [
  {
   "cell_type": "markdown",
   "metadata": {},
   "source": [
    "# Ipython (DONE)\n",
    "\n",
    "# Numpy basics (DONE)\n",
    "\n",
    "# Getting Started with pandas (DONE)\n",
    "\n",
    "# Data Loading, Storage, and File Formats"
   ]
  },
  {
   "cell_type": "code",
   "execution_count": 2,
   "metadata": {
    "ExecuteTime": {
     "end_time": "2019-08-02T23:21:31.241093Z",
     "start_time": "2019-08-02T23:21:31.234216Z"
    }
   },
   "outputs": [
    {
     "name": "stdout",
     "output_type": "stream",
     "text": [
      "0.25.0\n"
     ]
    }
   ],
   "source": [
    "import pandas as pd\n",
    "#import pandas_datareader.data as web\n",
    "print(pd.__version__)\n",
    "\n",
    "import pprint"
   ]
  },
  {
   "cell_type": "markdown",
   "metadata": {},
   "source": [
    "- Indexing\n",
    "    - which columns are index\n",
    "    - how to get column names\n",
    "    \n",
    "- Type inference and data conversion\n",
    "    - user-defined value conversions\n",
    "    - custom missing values\n",
    "    \n",
    "- Datetime parsing\n",
    "    - combine multiple columns into a single datetime info\n",
    "    \n",
    "- Iterating\n",
    "    - support for iterating over chunks of very large files\n",
    "    \n",
    "- Unclean data issues\n",
    "    - skip rows, footer, comments, thounsands separated by commas\n",
    "\n",
    "- reading function\n",
    "    - read_csv\n",
    "        - allow inference since csv has no data types\n",
    "    - read_fwf\n",
    "        - fixed width column format (no delimiters)\n",
    "    - read_clipboard\n",
    "    - read_pickle\n",
    "    - read_sql\n",
    "        - read result of SQL query (through SQLAlchemy) as pd.DataFrame"
   ]
  },
  {
   "cell_type": "markdown",
   "metadata": {},
   "source": [
    "## CSV"
   ]
  },
  {
   "cell_type": "markdown",
   "metadata": {},
   "source": [
    "- read_csv\n",
    "    - header=None if there is no header\n",
    "    - names: specify column names\n",
    "    - index_col: to specify which col is the index\n",
    "        - one can specify multiple indices\n",
    "    - sep: can be a char (e.g., \",\") or a regular expression (e.g., \"\\s+\")\n",
    "    - skiprows: to skip certain rows known to store garbage\n",
    "    - na_values: allow to specify \"sentinel\" value for nan\n",
    "        - one can specify a dict to specify different nan for different columns\n",
    "    - comment\n",
    "    - parse_dates: try to parse all column with dates\n",
    "    - converters: function to be applied to columns to transform data\n",
    "    - nrows: max num of rows to read\n",
    "    - skip_footer: skip lines at the end\n",
    "    - encoding"
   ]
  },
  {
   "cell_type": "code",
   "execution_count": 2,
   "metadata": {
    "ExecuteTime": {
     "end_time": "2019-04-03T21:41:26.821739Z",
     "start_time": "2019-04-03T21:41:26.819184Z"
    }
   },
   "outputs": [],
   "source": [
    "# chunker = pd.read_csv(\"example/ex6.csv\", chunksize=1000)\n",
    "# returns an object that can be iterated on"
   ]
  },
  {
   "cell_type": "markdown",
   "metadata": {},
   "source": [
    "## JSON\n",
    "\n",
    "## Binary format\n",
    "\n",
    "- obj.to_pickle()\n",
    "- pd.read_pickle()\n",
    "\n",
    "## HDF5\n",
    "\n",
    "- HDF = Hierarchical Data Format\n",
    "- store large quantities of scientific array data\n",
    "- Can store multiple datasets\n",
    "- Save metadata\n",
    "- Support compression\n",
    "\n",
    "- fixed format\n",
    "    - slower\n",
    "    - supports query operations"
   ]
  },
  {
   "cell_type": "markdown",
   "metadata": {},
   "source": [
    "## Web APIs\n",
    "\n",
    "- Many websites have public API providing data feed via JSON or other format.\n",
    "- `requests` library"
   ]
  },
  {
   "cell_type": "code",
   "execution_count": 3,
   "metadata": {
    "ExecuteTime": {
     "end_time": "2019-04-03T21:41:27.387883Z",
     "start_time": "2019-04-03T21:41:26.825160Z"
    }
   },
   "outputs": [],
   "source": [
    "import requests\n",
    "\n",
    "# Get last 30 GitHub issues from pandas.\n",
    "url = 'https://api.github.com/repos/pandas-dev/pandas/issues'\n",
    "\n",
    "resp = requests.get(url)"
   ]
  },
  {
   "cell_type": "code",
   "execution_count": 4,
   "metadata": {
    "ExecuteTime": {
     "end_time": "2019-04-03T21:41:27.401059Z",
     "start_time": "2019-04-03T21:41:27.390297Z"
    }
   },
   "outputs": [
    {
     "data": {
      "text/plain": [
       "<Response [200]>"
      ]
     },
     "execution_count": 4,
     "metadata": {},
     "output_type": "execute_result"
    }
   ],
   "source": [
    "resp"
   ]
  },
  {
   "cell_type": "code",
   "execution_count": 5,
   "metadata": {
    "ExecuteTime": {
     "end_time": "2019-04-03T21:41:27.409020Z",
     "start_time": "2019-04-03T21:41:27.402641Z"
    }
   },
   "outputs": [
    {
     "data": {
      "text/plain": [
       "'DEPR: Deprecate sort=None for union and implement sort=True'"
      ]
     },
     "execution_count": 5,
     "metadata": {},
     "output_type": "execute_result"
    }
   ],
   "source": [
    "data = resp.json()\n",
    "\n",
    "data[0][\"title\"]"
   ]
  },
  {
   "cell_type": "markdown",
   "metadata": {},
   "source": [
    "## Databases"
   ]
  }
 ],
 "metadata": {
  "kernelspec": {
   "display_name": "Python 3",
   "language": "python",
   "name": "python3"
  },
  "language_info": {
   "codemirror_mode": {
    "name": "ipython",
    "version": 3
   },
   "file_extension": ".py",
   "mimetype": "text/x-python",
   "name": "python",
   "nbconvert_exporter": "python",
   "pygments_lexer": "ipython3",
   "version": "3.7.3"
  },
  "toc": {
   "base_numbering": 1,
   "nav_menu": {},
   "number_sections": true,
   "sideBar": true,
   "skip_h1_title": false,
   "title_cell": "Table of Contents",
   "title_sidebar": "Contents",
   "toc_cell": false,
   "toc_position": {},
   "toc_section_display": true,
   "toc_window_display": false
  }
 },
 "nbformat": 4,
 "nbformat_minor": 2
}
