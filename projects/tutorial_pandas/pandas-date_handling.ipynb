{
 "cells": [
  {
   "cell_type": "markdown",
   "metadata": {
    "toc": "true"
   },
   "source": [
    "# Table of Contents\n",
    " <p><div class=\"lev2 toc-item\"><a href=\"#Imports\" data-toc-modified-id=\"Imports-01\"><span class=\"toc-item-num\">0.1&nbsp;&nbsp;</span>Imports</a></div><div class=\"lev2 toc-item\"><a href=\"#TODOs\" data-toc-modified-id=\"TODOs-02\"><span class=\"toc-item-num\">0.2&nbsp;&nbsp;</span>TODOs</a></div><div class=\"lev1 toc-item\"><a href=\"#Intro-to-data-structures\" data-toc-modified-id=\"Intro-to-data-structures-1\"><span class=\"toc-item-num\">1&nbsp;&nbsp;</span>Intro to data structures</a></div><div class=\"lev2 toc-item\"><a href=\"#Series\" data-toc-modified-id=\"Series-11\"><span class=\"toc-item-num\">1.1&nbsp;&nbsp;</span>Series</a></div><div class=\"lev2 toc-item\"><a href=\"#DataFrame\" data-toc-modified-id=\"DataFrame-12\"><span class=\"toc-item-num\">1.2&nbsp;&nbsp;</span>DataFrame</a></div><div class=\"lev3 toc-item\"><a href=\"#Df-from-dict\" data-toc-modified-id=\"Df-from-dict-121\"><span class=\"toc-item-num\">1.2.1&nbsp;&nbsp;</span>Df from dict</a></div><div class=\"lev2 toc-item\"><a href=\"#Panel\" data-toc-modified-id=\"Panel-13\"><span class=\"toc-item-num\">1.3&nbsp;&nbsp;</span>Panel</a></div><div class=\"lev3 toc-item\"><a href=\"#Panel-from-dfs-with-different-indices.\" data-toc-modified-id=\"Panel-from-dfs-with-different-indices.-131\"><span class=\"toc-item-num\">1.3.1&nbsp;&nbsp;</span>Panel from dfs with different indices.</a></div><div class=\"lev3 toc-item\"><a href=\"#Panel-from-data-frame-with-same-index.\" data-toc-modified-id=\"Panel-from-data-frame-with-same-index.-132\"><span class=\"toc-item-num\">1.3.2&nbsp;&nbsp;</span>Panel from data frame with same index.</a></div><div class=\"lev3 toc-item\"><a href=\"#Transposing.\" data-toc-modified-id=\"Transposing.-133\"><span class=\"toc-item-num\">1.3.3&nbsp;&nbsp;</span>Transposing.</a></div><div class=\"lev3 toc-item\"><a href=\"#Selecting-an-index-programmatically-by-integer\" data-toc-modified-id=\"Selecting-an-index-programmatically-by-integer-134\"><span class=\"toc-item-num\">1.3.4&nbsp;&nbsp;</span>Selecting an index programmatically by integer</a></div><div class=\"lev1 toc-item\"><a href=\"#Date-functionality\" data-toc-modified-id=\"Date-functionality-2\"><span class=\"toc-item-num\">2&nbsp;&nbsp;</span>Date functionality</a></div><div class=\"lev2 toc-item\"><a href=\"#Overview\" data-toc-modified-id=\"Overview-21\"><span class=\"toc-item-num\">2.1&nbsp;&nbsp;</span>Overview</a></div><div class=\"lev2 toc-item\"><a href=\"#Time-stamps-vs-time-spans\" data-toc-modified-id=\"Time-stamps-vs-time-spans-22\"><span class=\"toc-item-num\">2.2&nbsp;&nbsp;</span>Time stamps vs time spans</a></div><div class=\"lev2 toc-item\"><a href=\"#to_datetime()\" data-toc-modified-id=\"to_datetime()-23\"><span class=\"toc-item-num\">2.3&nbsp;&nbsp;</span>to_datetime()</a></div><div class=\"lev2 toc-item\"><a href=\"#date_range()\" data-toc-modified-id=\"date_range()-24\"><span class=\"toc-item-num\">2.4&nbsp;&nbsp;</span>date_range()</a></div><div class=\"lev2 toc-item\"><a href=\"#DatetimeIndex\" data-toc-modified-id=\"DatetimeIndex-25\"><span class=\"toc-item-num\">2.5&nbsp;&nbsp;</span>DatetimeIndex</a></div><div class=\"lev2 toc-item\"><a href=\"#Time/date-components.\" data-toc-modified-id=\"Time/date-components.-26\"><span class=\"toc-item-num\">2.6&nbsp;&nbsp;</span>Time/date components.</a></div><div class=\"lev2 toc-item\"><a href=\"#Offset-objects.\" data-toc-modified-id=\"Offset-objects.-27\"><span class=\"toc-item-num\">2.7&nbsp;&nbsp;</span>Offset objects.</a></div><div class=\"lev2 toc-item\"><a href=\"#Time-series-related-operations\" data-toc-modified-id=\"Time-series-related-operations-28\"><span class=\"toc-item-num\">2.8&nbsp;&nbsp;</span>Time series-related operations</a></div><div class=\"lev2 toc-item\"><a href=\"#Frequency-conversion\" data-toc-modified-id=\"Frequency-conversion-29\"><span class=\"toc-item-num\">2.9&nbsp;&nbsp;</span>Frequency conversion</a></div><div class=\"lev2 toc-item\"><a href=\"#Time-span-representation\" data-toc-modified-id=\"Time-span-representation-210\"><span class=\"toc-item-num\">2.10&nbsp;&nbsp;</span>Time span representation</a></div><div class=\"lev2 toc-item\"><a href=\"#Time-zone-handling\" data-toc-modified-id=\"Time-zone-handling-211\"><span class=\"toc-item-num\">2.11&nbsp;&nbsp;</span>Time zone handling</a></div>"
   ]
  },
  {
   "cell_type": "markdown",
   "metadata": {},
   "source": [
    "## Imports"
   ]
  },
  {
   "cell_type": "code",
   "execution_count": 4,
   "metadata": {
    "ExecuteTime": {
     "end_time": "2017-12-21T09:04:22.846916Z",
     "start_time": "2017-12-21T01:04:22.110886-08:00"
    }
   },
   "outputs": [
    {
     "name": "stdout",
     "output_type": "stream",
     "text": [
      "# conda environments:\r\n",
      "#\r\n",
      "deeplearning             /Users/gp/.conda/envs/deeplearning\r\n",
      "jupyter               *  /Users/gp/.conda/envs/jupyter\r\n",
      "particleone_teza         /Users/gp/.conda/envs/particleone_teza\r\n",
      "statarbdeps              /Users/gp/.conda/envs/statarbdeps\r\n",
      "statarbdeps.20170712-14_11_50     /Users/gp/.conda/envs/statarbdeps.20170712-14_11_50\r\n",
      "statarbdeps.20170713-14_06_23     /Users/gp/.conda/envs/statarbdeps.20170713-14_06_23\r\n",
      "statarbdeps_base         /Users/gp/.conda/envs/statarbdeps_base\r\n",
      "statarbdeps_base.20171204-13_21_50     /Users/gp/.conda/envs/statarbdeps_base.20171204-13_21_50\r\n",
      "statarbdeps_gp           /Users/gp/.conda/envs/statarbdeps_gp\r\n",
      "tzdataetlgreen           /Users/gp/.conda/envs/tzdataetlgreen\r\n",
      "root                     /opt/teza-conda\r\n",
      "\r\n"
     ]
    }
   ],
   "source": [
    "!conda info --envs"
   ]
  },
  {
   "cell_type": "code",
   "execution_count": 5,
   "metadata": {
    "ExecuteTime": {
     "end_time": "2017-12-21T09:04:22.879412Z",
     "start_time": "2017-12-21T01:04:22.849722-08:00"
    },
    "collapsed": true,
    "run_control": {
     "marked": false
    }
   },
   "outputs": [],
   "source": [
    "import functools\n",
    "import datetime\n",
    "\n",
    "import numpy as np\n",
    "import matplotlib\n",
    "import matplotlib.pyplot as plt\n",
    "import pandas as pd\n",
    "\n",
    "%matplotlib inline"
   ]
  },
  {
   "cell_type": "code",
   "execution_count": 6,
   "metadata": {
    "ExecuteTime": {
     "end_time": "2017-12-21T09:04:22.906388Z",
     "start_time": "2017-12-21T01:04:22.881934-08:00"
    }
   },
   "outputs": [
    {
     "name": "stdout",
     "output_type": "stream",
     "text": [
      "numpy= 1.13.3\n",
      "pandas= 0.20.3\n",
      "matplotlib= 2.0.2\n",
      "sklearn= 0.18.1\n"
     ]
    }
   ],
   "source": [
    "import notebook_utils\n",
    "\n",
    "notebook_utils.notebook_config()\n",
    "#matplotlib.rcParams[\"figure.figsize\"] = (15, 6)\n",
    "\n",
    "#assert np.__version__ == \"1.13.3\"\n",
    "assert pd.__version__ == \"0.20.3\"\n",
    "#assert matplotlib.__version__ == \"2.0.2\""
   ]
  },
  {
   "cell_type": "code",
   "execution_count": 7,
   "metadata": {
    "ExecuteTime": {
     "end_time": "2017-12-21T09:04:22.939038Z",
     "start_time": "2017-12-21T01:04:22.908483-08:00"
    },
    "collapsed": true
   },
   "outputs": [],
   "source": [
    "from notebook_utils import display_df\n",
    "\n",
    "from IPython.display import display\n",
    "\n",
    "# def display_df(df):\n",
    "#     display(df)"
   ]
  },
  {
   "cell_type": "markdown",
   "metadata": {},
   "source": [
    "## TODOs"
   ]
  },
  {
   "cell_type": "markdown",
   "metadata": {},
   "source": [
    "# Intro to data structures"
   ]
  },
  {
   "cell_type": "markdown",
   "metadata": {},
   "source": [
    "## Series\n",
    "\n",
    "- Series is a one-dimensional labeled array holding any data type (integers, strings, floats, objects)\n",
    "- Axis labels are referred to as the index"
   ]
  },
  {
   "cell_type": "code",
   "execution_count": 8,
   "metadata": {
    "ExecuteTime": {
     "end_time": "2017-12-21T09:04:22.968260Z",
     "start_time": "2017-12-21T01:04:22.941390-08:00"
    }
   },
   "outputs": [
    {
     "data": {
      "text/plain": [
       "0   -0.804458\n",
       "1    0.320932\n",
       "2   -0.025483\n",
       "3    0.644324\n",
       "4   -0.300797\n",
       "dtype: float64"
      ]
     },
     "execution_count": 8,
     "metadata": {},
     "output_type": "execute_result"
    }
   ],
   "source": [
    "np.random.seed(1000)\n",
    "# Realizations from standard normal.\n",
    "s = pd.Series(np.random.randn(5))\n",
    "s"
   ]
  },
  {
   "cell_type": "code",
   "execution_count": 9,
   "metadata": {
    "ExecuteTime": {
     "end_time": "2017-12-21T09:04:22.993513Z",
     "start_time": "2017-12-21T01:04:22.970703-08:00"
    }
   },
   "outputs": [
    {
     "data": {
      "text/plain": [
       "a   -0.804458\n",
       "b    0.320932\n",
       "c   -0.025483\n",
       "d    0.644324\n",
       "e   -0.300797\n",
       "dtype: float64"
      ]
     },
     "execution_count": 9,
     "metadata": {},
     "output_type": "execute_result"
    }
   ],
   "source": [
    "np.random.seed(1000)\n",
    "s = pd.Series(np.random.randn(5), index=\"a b c d e\".split())\n",
    "s"
   ]
  },
  {
   "cell_type": "code",
   "execution_count": 10,
   "metadata": {
    "ExecuteTime": {
     "end_time": "2017-12-21T09:04:23.017880Z",
     "start_time": "2017-12-21T01:04:22.995158-08:00"
    }
   },
   "outputs": [
    {
     "data": {
      "text/plain": [
       "a    0.0\n",
       "b    1.0\n",
       "c    2.0\n",
       "dtype: float64"
      ]
     },
     "execution_count": 10,
     "metadata": {},
     "output_type": "execute_result"
    }
   ],
   "source": [
    "# From dictionary.\n",
    "d = {'a': 0.0, 'b': 1.0, 'c': 2.0}\n",
    "s = pd.Series(d)\n",
    "s"
   ]
  },
  {
   "cell_type": "markdown",
   "metadata": {},
   "source": [
    "## DataFrame"
   ]
  },
  {
   "cell_type": "code",
   "execution_count": 11,
   "metadata": {
    "ExecuteTime": {
     "end_time": "2017-12-21T09:04:23.044442Z",
     "start_time": "2017-12-21T01:04:23.019517-08:00"
    }
   },
   "outputs": [
    {
     "name": "stdout",
     "output_type": "stream",
     "text": [
      "df.index.is_unique= True\n",
      "df.index.is_monotonic= True\n",
      "df.index.is_monotonic_increasing= True\n"
     ]
    }
   ],
   "source": [
    "df = pd.DataFrame(\"a b c d e\".split())\n",
    "print(\"df.index.is_unique=\", df.index.is_unique)\n",
    "print(\"df.index.is_monotonic=\", df.index.is_monotonic)\n",
    "print(\"df.index.is_monotonic_increasing=\", df.index.is_monotonic_increasing)"
   ]
  },
  {
   "cell_type": "code",
   "execution_count": 12,
   "metadata": {
    "ExecuteTime": {
     "end_time": "2017-12-21T09:04:23.078966Z",
     "start_time": "2017-12-21T01:04:23.047003-08:00"
    }
   },
   "outputs": [
    {
     "name": "stdout",
     "output_type": "stream",
     "text": [
      "df.index.is_unique= True\n",
      "df.index.is_monotonic= False\n",
      "df.index.is_monotonic_increasing= False\n"
     ]
    }
   ],
   "source": [
    "df = pd.DataFrame(\"a b c d e\".split(), index=[0, 2, 1, 3, 4])\n",
    "print(\"df.index.is_unique=\", df.index.is_unique)\n",
    "print(\"df.index.is_monotonic=\", df.index.is_monotonic)\n",
    "print(\"df.index.is_monotonic_increasing=\", df.index.is_monotonic_increasing)"
   ]
  },
  {
   "cell_type": "markdown",
   "metadata": {},
   "source": [
    "### Df from dict"
   ]
  },
  {
   "cell_type": "code",
   "execution_count": 13,
   "metadata": {
    "ExecuteTime": {
     "end_time": "2017-12-21T09:04:23.106777Z",
     "start_time": "2017-12-21T01:04:23.081008-08:00"
    }
   },
   "outputs": [
    {
     "name": "stdout",
     "output_type": "stream",
     "text": [
      "{0: 'a', 1: 'b', 2: 'c', 3: 'd'}\n"
     ]
    }
   ],
   "source": [
    "df1 = pd.DataFrame(\"a b c d\".split(), index=[0, 1, 2, 3], columns=[\"val1\"])\n",
    "dict_ = df1.to_dict()[\"val1\"]\n",
    "print(dict_)"
   ]
  },
  {
   "cell_type": "code",
   "execution_count": 14,
   "metadata": {
    "ExecuteTime": {
     "end_time": "2017-12-21T09:04:23.134002Z",
     "start_time": "2017-12-21T01:04:23.108967-08:00"
    }
   },
   "outputs": [
    {
     "data": {
      "text/html": [
       "<div>\n",
       "<style>\n",
       "    .dataframe thead tr:only-child th {\n",
       "        text-align: right;\n",
       "    }\n",
       "\n",
       "    .dataframe thead th {\n",
       "        text-align: left;\n",
       "    }\n",
       "\n",
       "    .dataframe tbody tr th {\n",
       "        vertical-align: top;\n",
       "    }\n",
       "</style>\n",
       "<table border=\"1\" class=\"dataframe\">\n",
       "  <thead>\n",
       "    <tr style=\"text-align: right;\">\n",
       "      <th></th>\n",
       "      <th>weight</th>\n",
       "    </tr>\n",
       "  </thead>\n",
       "  <tbody>\n",
       "    <tr>\n",
       "      <th>0</th>\n",
       "      <td>a</td>\n",
       "    </tr>\n",
       "    <tr>\n",
       "      <th>1</th>\n",
       "      <td>b</td>\n",
       "    </tr>\n",
       "    <tr>\n",
       "      <th>2</th>\n",
       "      <td>c</td>\n",
       "    </tr>\n",
       "    <tr>\n",
       "      <th>3</th>\n",
       "      <td>d</td>\n",
       "    </tr>\n",
       "  </tbody>\n",
       "</table>\n",
       "</div>"
      ],
      "text/plain": [
       "  weight\n",
       "0      a\n",
       "1      b\n",
       "2      c\n",
       "3      d"
      ]
     },
     "execution_count": 14,
     "metadata": {},
     "output_type": "execute_result"
    }
   ],
   "source": [
    "pd.DataFrame.from_dict({\"weight\": dict_})"
   ]
  },
  {
   "cell_type": "markdown",
   "metadata": {},
   "source": [
    "## Panel\n",
    "\n",
    "- A panel automatically aligns on union of all indices"
   ]
  },
  {
   "cell_type": "markdown",
   "metadata": {},
   "source": [
    "### Panel from dfs with different indices."
   ]
  },
  {
   "cell_type": "code",
   "execution_count": 15,
   "metadata": {
    "ExecuteTime": {
     "end_time": "2017-12-21T09:04:23.161139Z",
     "start_time": "2017-12-21T01:04:23.135910-08:00"
    }
   },
   "outputs": [
    {
     "name": "stdout",
     "output_type": "stream",
     "text": [
      "  val1\n",
      "0    a\n",
      "1    b\n",
      "2    c\n",
      "3    d\n",
      "  val2\n",
      "0    e\n",
      "1    f\n",
      "2    g\n",
      "4    h\n"
     ]
    }
   ],
   "source": [
    "df1 = pd.DataFrame(\"a b c d\".split(), index=[0, 1, 2, 3], columns=[\"val1\"])\n",
    "print(df1)\n",
    "df2 = pd.DataFrame(\"e f g h\".split(), index=[0, 1, 2, 4], columns=[\"val2\"])\n",
    "print(df2)"
   ]
  },
  {
   "cell_type": "code",
   "execution_count": 16,
   "metadata": {
    "ExecuteTime": {
     "end_time": "2017-12-21T09:04:23.189889Z",
     "start_time": "2017-12-21T01:04:23.163316-08:00"
    }
   },
   "outputs": [
    {
     "name": "stdout",
     "output_type": "stream",
     "text": [
      "panel= <class 'pandas.core.panel.Panel'>\n",
      "Dimensions: 2 (items) x 5 (major_axis) x 2 (minor_axis)\n",
      "Items axis: bar to foo\n",
      "Major_axis axis: 0 to 4\n",
      "Minor_axis axis: val1 to val2\n"
     ]
    }
   ],
   "source": [
    "panel = pd.Panel({\"foo\": df1, \"bar\": df2})\n",
    "# item axis -> key\n",
    "# major axis -> index of df\n",
    "# minor axis -> column of df\n",
    "print(\"panel=\", panel)"
   ]
  },
  {
   "cell_type": "code",
   "execution_count": 17,
   "metadata": {
    "ExecuteTime": {
     "end_time": "2017-12-21T09:04:23.219057Z",
     "start_time": "2017-12-21T01:04:23.191614-08:00"
    }
   },
   "outputs": [
    {
     "name": "stdout",
     "output_type": "stream",
     "text": [
      "panel['foo']=\n",
      "  val1 val2\n",
      "0    a  NaN\n",
      "1    b  NaN\n",
      "2    c  NaN\n",
      "3    d  NaN\n",
      "4  NaN  NaN\n",
      "\n",
      "panel['bar']=\n",
      "  val1 val2\n",
      "0  NaN    e\n",
      "1  NaN    f\n",
      "2  NaN    g\n",
      "3  NaN  NaN\n",
      "4  NaN    h\n"
     ]
    }
   ],
   "source": [
    "print(\"panel['foo']=\\n\", panel[\"foo\"])\n",
    "print(\"\\npanel['bar']=\\n\", panel[\"bar\"])\n",
    "\n",
    "# Note the union of the indices."
   ]
  },
  {
   "cell_type": "markdown",
   "metadata": {},
   "source": [
    "### Panel from data frame with same index."
   ]
  },
  {
   "cell_type": "code",
   "execution_count": 18,
   "metadata": {
    "ExecuteTime": {
     "end_time": "2017-12-21T09:04:23.255320Z",
     "start_time": "2017-12-21T01:04:23.221594-08:00"
    }
   },
   "outputs": [
    {
     "name": "stdout",
     "output_type": "stream",
     "text": [
      "  val1 val2\n",
      "0    a    A\n",
      "1    b    B\n",
      "2    c    C\n",
      "3    d    D\n",
      "  val1 val2\n",
      "0    e    E\n",
      "1    f    F\n",
      "2    g    G\n",
      "3    h    H\n"
     ]
    }
   ],
   "source": [
    "df1 = pd.DataFrame([[\"a\", \"A\"],\n",
    "                    [\"b\", \"B\"], \n",
    "                    [\"c\", \"C\"],\n",
    "                    [\"d\", \"D\"]], \n",
    "                   index=[0, 1, 2, 3], columns=[\"val1\", \"val2\"])\n",
    "print(df1)\n",
    "\n",
    "\n",
    "df2 = pd.DataFrame([[\"e\", \"E\"],\n",
    "                    [\"f\", \"F\"], \n",
    "                    [\"g\", \"G\"],\n",
    "                    [\"h\", \"H\"]], \n",
    "                   index=[0, 1, 2, 3], columns=[\"val1\", \"val2\"])\n",
    "print(df2)"
   ]
  },
  {
   "cell_type": "code",
   "execution_count": 19,
   "metadata": {
    "ExecuteTime": {
     "end_time": "2017-12-21T09:04:23.283977Z",
     "start_time": "2017-12-21T01:04:23.256897-08:00"
    }
   },
   "outputs": [
    {
     "name": "stdout",
     "output_type": "stream",
     "text": [
      "<class 'pandas.core.panel.Panel'>\n",
      "Dimensions: 2 (items) x 4 (major_axis) x 2 (minor_axis)\n",
      "Items axis: bar to foo\n",
      "Major_axis axis: 0 to 3\n",
      "Minor_axis axis: val1 to val2\n"
     ]
    }
   ],
   "source": [
    "panel = pd.Panel({\"foo\": df1, \"bar\": df2})\n",
    "# item axis -> key\n",
    "# major axis -> index of df\n",
    "# minor axis -> column of df\n",
    "print(panel)"
   ]
  },
  {
   "cell_type": "code",
   "execution_count": 20,
   "metadata": {
    "ExecuteTime": {
     "end_time": "2017-12-21T09:04:23.312789Z",
     "start_time": "2017-12-21T01:04:23.285903-08:00"
    }
   },
   "outputs": [
    {
     "name": "stdout",
     "output_type": "stream",
     "text": [
      "panel['foo']=\n",
      "  val1 val2\n",
      "0    a    A\n",
      "1    b    B\n",
      "2    c    C\n",
      "3    d    D\n",
      "\n",
      "panel['bar']=\n",
      "  val1 val2\n",
      "0    e    E\n",
      "1    f    F\n",
      "2    g    G\n",
      "3    h    H\n"
     ]
    }
   ],
   "source": [
    "print(\"panel['foo']=\\n\", panel[\"foo\"])\n",
    "print(\"\\npanel['bar']=\\n\", panel[\"bar\"])"
   ]
  },
  {
   "cell_type": "code",
   "execution_count": 21,
   "metadata": {
    "ExecuteTime": {
     "end_time": "2017-12-21T09:04:23.339081Z",
     "start_time": "2017-12-21T01:04:23.314614-08:00"
    }
   },
   "outputs": [
    {
     "name": "stdout",
     "output_type": "stream",
     "text": [
      "<class 'pandas.core.panel.Panel'>\n",
      "Dimensions: 2 (items) x 4 (major_axis) x 1 (minor_axis)\n",
      "Items axis: bar to foo\n",
      "Major_axis axis: 0 to 3\n",
      "Minor_axis axis: val1 to val1\n"
     ]
    }
   ],
   "source": [
    "# Slice using loc[].\n",
    "print(panel.loc[:, :, [\"val1\"]])"
   ]
  },
  {
   "cell_type": "markdown",
   "metadata": {},
   "source": [
    "### Transposing."
   ]
  },
  {
   "cell_type": "code",
   "execution_count": 22,
   "metadata": {
    "ExecuteTime": {
     "end_time": "2017-12-21T09:04:23.370730Z",
     "start_time": "2017-12-21T01:04:23.340704-08:00"
    }
   },
   "outputs": [
    {
     "name": "stdout",
     "output_type": "stream",
     "text": [
      "<class 'pandas.core.panel.Panel'>\n",
      "Dimensions: 3 (items) x 100 (major_axis) x 4 (minor_axis)\n",
      "Items axis: df1 to df3\n",
      "Major_axis axis: 2014-01-01 00:00:00 to 2014-04-10 00:00:00\n",
      "Minor_axis axis: A to D\n"
     ]
    }
   ],
   "source": [
    "rng = pd.date_range('1/1/2014', periods=100, freq='D')\n",
    "cols = ['A','B','C','D']\n",
    "\n",
    "np.random.seed(42)\n",
    "df1 = pd.DataFrame(np.random.randn(100, len(cols)), rng, cols)\n",
    "df2 = pd.DataFrame(np.random.randn(100, len(cols)), rng, cols)\n",
    "df3 = pd.DataFrame(np.random.randn(100, len(cols)), rng, cols)\n",
    "\n",
    "pf = pd.Panel({\n",
    "        'df1': df1,\n",
    "        'df2': df2,\n",
    "        'df3': df3})\n",
    "\n",
    "print(pf)"
   ]
  },
  {
   "cell_type": "code",
   "execution_count": 23,
   "metadata": {
    "ExecuteTime": {
     "end_time": "2017-12-21T09:04:23.401702Z",
     "start_time": "2017-12-21T01:04:23.372471-08:00"
    }
   },
   "outputs": [
    {
     "name": "stdout",
     "output_type": "stream",
     "text": [
      "Index([u'df1', u'df2', u'df3'], dtype='object')\n",
      "                   A         B         C         D\n",
      "2014-01-01  0.496714 -0.138264  0.647689  1.523030\n",
      "2014-01-02 -0.234153 -0.234137  1.579213  0.767435\n",
      "2014-01-03 -0.469474  0.542560 -0.463418 -0.465730\n",
      "2014-01-04  0.241962 -1.913280 -1.724918 -0.562288\n",
      "2014-01-05 -1.012831  0.314247 -0.908024 -1.412304\n"
     ]
    }
   ],
   "source": [
    "print(list(pf.keys()))\n",
    "print(pf[\"df1\"].head())"
   ]
  },
  {
   "cell_type": "code",
   "execution_count": 24,
   "metadata": {
    "ExecuteTime": {
     "end_time": "2017-12-21T09:04:23.488782Z",
     "start_time": "2017-12-21T01:04:23.403868-08:00"
    }
   },
   "outputs": [
    {
     "name": "stdout",
     "output_type": "stream",
     "text": [
      "<class 'pandas.core.panel.Panel'>\n",
      "Dimensions: 4 (items) x 3 (major_axis) x 100 (minor_axis)\n",
      "Items axis: A to D\n",
      "Major_axis axis: df1 to df3\n",
      "Minor_axis axis: 2014-01-01 00:00:00 to 2014-04-10 00:00:00\n",
      "\n",
      "     2014-01-01  2014-01-02  2014-01-03  2014-01-04  2014-01-05  2014-01-06  2014-01-07  2014-01-08  2014-01-09  2014-01-10  2014-01-11  2014-01-12  2014-01-13  2014-01-14  2014-01-15  2014-01-16  2014-01-17  2014-01-18  2014-01-19  2014-01-20  2014-01-21  2014-01-22  2014-01-23  2014-01-24  2014-01-25  2014-01-26  2014-01-27  2014-01-28  2014-01-29  2014-01-30  2014-01-31  2014-02-01  2014-02-02  2014-02-03  2014-02-04  2014-02-05  2014-02-06  2014-02-07  2014-02-08  2014-02-09  2014-02-10  2014-02-11  2014-02-12  2014-02-13  2014-02-14  2014-02-15  2014-02-16  2014-02-17  2014-02-18  2014-02-19  2014-02-20  2014-02-21  2014-02-22  2014-02-23  2014-02-24  2014-02-25  2014-02-26  2014-02-27  2014-02-28  2014-03-01  2014-03-02  2014-03-03  2014-03-04  2014-03-05  2014-03-06  2014-03-07  2014-03-08  2014-03-09  2014-03-10  2014-03-11  2014-03-12  2014-03-13  2014-03-14  2014-03-15  2014-03-16  2014-03-17  2014-03-18  2014-03-19  2014-03-20  2014-03-21  2014-03-22  2014-03-23  \\\n",
      "df1    0.496714   -0.234153   -0.469474    0.241962   -1.012831    1.465649   -0.544383   -0.600639   -0.013497    0.208864    0.738467   -1.478522    0.343618   -0.676922   -0.839218   -0.479174    0.812526    0.361636   -0.035826    0.087047   -0.219672   -0.808494   -0.529760   -0.702053    0.296120   -1.415371   -0.161286    0.257550    0.060230   -0.034712    0.791032    0.586857    0.099651   -1.062304   -0.783253    0.227460    0.259883    0.521942   -0.680025    1.865775   -0.974682    0.963376   -0.245388   -0.077102    0.013002    0.625667   -0.223463   -0.846794    0.214094   -0.883857    0.357787   -1.377669    0.515048    0.954002   -0.772825    2.314659   -0.471932   -0.715304    0.045572   -2.025143   -0.792521   -1.200296    1.765454    2.122156    1.266911   -0.926930   -0.252568   -0.440044    1.163164    0.199060    0.113517    2.133033    0.280992   -0.589365    0.899600   -0.828995   -0.020902    0.547097    0.825416    0.681953    0.096996   -1.006017   \n",
      "df2   -1.594428   -0.450065    0.120296   -1.534114    1.551152    2.060748    0.645376    1.058424   -0.269407    1.628616    0.384065   -1.304470   -0.513867   -0.985726   -0.107030    1.964725   -0.112328   -0.530501   -1.515191    0.576557   -0.127918   -0.756351    1.687142    0.077368   -1.037246    0.926178   -0.650643    0.048522   -0.238948    0.500917   -1.669405   -0.763259    0.259723   -0.066080   -0.860413    0.835692   -2.471645    0.371146    1.167782   -0.487606    0.289775    1.201214   -1.870792    0.326927    0.235615    0.338496    0.181866    0.830336    0.478980   -0.269875    0.756989    0.413435   -1.778720    0.279969    0.109395   -0.790474    1.593187    0.055725   -0.158008    0.823171   -0.335785   -0.245743   -0.230935   -0.268889    0.013929   -0.573662   -0.712846   -2.650970   -0.342688   -1.110576    0.721672   -1.222128    0.710960   -1.081063    0.326133   -0.522723   -1.556629   -2.081929   -0.544919    0.114228    0.307802    0.170865   \n",
      "df3    0.938284   -0.434496    1.255756    1.446978    0.267050   -0.517288   -0.445503   -0.420187   -1.004141    1.550500   -0.049464    0.166452   -0.637740   -0.637387   -0.832356    0.202923   -0.612789    0.658544   -1.379319   -0.517611    2.526932    0.681891    0.590655    1.066675   -0.167118    0.368673    0.191099    0.645484    0.249384    0.607897    1.073632    1.195047    1.565524   -1.448014   -1.021233   -1.280304    1.846637   -0.045586   -1.251539    0.342725    0.642723   -0.089736   -0.040158    0.840644   -0.452306    0.785800   -0.003603   -0.220964   -0.247177    1.797687    1.399355    0.698223    1.049553    2.075261   -0.651418    0.522835    1.727543    0.613518    0.399223   -1.225766    1.683928   -0.172627    1.476540    0.494030   -0.025554    0.771699   -0.362441   -0.467701    0.076822   -1.556582   -0.348652    0.381935   -0.259042    0.727630    0.078635    0.998010    1.108183   -0.623769    0.870068    2.403416    1.105526    1.633432   \n",
      "\n",
      "     2014-03-24  2014-03-25  2014-03-26  2014-03-27  2014-03-28  2014-03-29  2014-03-30  2014-03-31  2014-04-01  2014-04-02  2014-04-03  2014-04-04  2014-04-05  2014-04-06  2014-04-07  2014-04-08  2014-04-09  2014-04-10  \n",
      "df1    0.624120    0.075805   -0.825497   -0.822220   -0.471038   -0.718444    0.857660   -0.018513    0.519347    0.690144    0.097676    1.451144    0.872321   -0.839722   -0.759133    0.950424   -1.320233   -1.713135  \n",
      "df2   -0.539760    0.408253    0.256030   -1.840874    0.517659   -0.611518   -0.975873    0.493318   -0.575638    1.149273   -0.626967    0.632408   -0.727137    0.177701    0.559790   -0.070166    0.271579   -0.039555  \n",
      "df3   -0.064138    1.613711    1.189470   -0.297564   -0.173072    1.594505   -0.638962   -0.688150   -2.499406    1.022570    0.594754    0.104201   -1.692957    0.179894   -0.989628    0.550052   -0.601368   -0.019638  \n"
     ]
    }
   ],
   "source": [
    "pf2 = pf.transpose(2, 0, 1)\n",
    "print(pf2)\n",
    "\n",
    "print(\"\\n\", pf2[\"A\"].head())"
   ]
  },
  {
   "cell_type": "code",
   "execution_count": 25,
   "metadata": {
    "ExecuteTime": {
     "end_time": "2017-12-21T09:04:23.516358Z",
     "start_time": "2017-12-21T01:04:23.490621-08:00"
    }
   },
   "outputs": [
    {
     "name": "stdout",
     "output_type": "stream",
     "text": [
      "<class 'pandas.core.panel.Panel'>\n",
      "Dimensions: 4 (items) x 100 (major_axis) x 3 (minor_axis)\n",
      "Items axis: A to D\n",
      "Major_axis axis: 2014-01-01 00:00:00 to 2014-04-10 00:00:00\n",
      "Minor_axis axis: df1 to df3\n",
      "\n",
      "                 df1       df2       df3\n",
      "2014-01-01  0.496714 -1.594428  0.938284\n",
      "2014-01-02 -0.234153 -0.450065 -0.434496\n",
      "2014-01-03 -0.469474  0.120296  1.255756\n",
      "2014-01-04  0.241962 -1.534114  1.446978\n",
      "2014-01-05 -1.012831  1.551152  0.267050\n"
     ]
    }
   ],
   "source": [
    "pf2 = pf.transpose(2, 1, 0)\n",
    "print(pf2)\n",
    "\n",
    "print(\"\\n\", pf2[\"A\"].head())"
   ]
  },
  {
   "cell_type": "code",
   "execution_count": 26,
   "metadata": {
    "ExecuteTime": {
     "end_time": "2017-12-21T09:04:23.539821Z",
     "start_time": "2017-12-21T01:04:23.517928-08:00"
    }
   },
   "outputs": [
    {
     "name": "stdout",
     "output_type": "stream",
     "text": [
      "<class 'pandas.core.panel.Panel'>\n",
      "Dimensions: 100 (items) x 4 (major_axis) x 3 (minor_axis)\n",
      "Items axis: 2014-01-01 00:00:00 to 2014-04-10 00:00:00\n",
      "Major_axis axis: A to D\n",
      "Minor_axis axis: df1 to df3\n"
     ]
    }
   ],
   "source": [
    "pf2 = pf.transpose(1, 2, 0)\n",
    "print(pf2)"
   ]
  },
  {
   "cell_type": "markdown",
   "metadata": {},
   "source": [
    "### Selecting an index programmatically by integer\n",
    "\n",
    "- Sometimes we want to select programatically an index by order"
   ]
  },
  {
   "cell_type": "code",
   "execution_count": 27,
   "metadata": {
    "ExecuteTime": {
     "end_time": "2017-12-21T09:04:23.566709Z",
     "start_time": "2017-12-21T01:04:23.541517-08:00"
    }
   },
   "outputs": [
    {
     "name": "stdout",
     "output_type": "stream",
     "text": [
      "<class 'pandas.core.panel.Panel'>\n",
      "Dimensions: 100 (items) x 4 (major_axis) x 3 (minor_axis)\n",
      "Items axis: 2014-01-01 00:00:00 to 2014-04-10 00:00:00\n",
      "Major_axis axis: A to D\n",
      "Minor_axis axis: df1 to df3\n",
      "\n",
      "items=DatetimeIndex(['2014-01-01', '2014-01-02', '2014-01-03', '2014-01-04', '2014-01-05', '2014-01-06', '2014-01-07', '2014-01-08', '2014-01-09', '2014-01-10', '2014-01-11', '2014-01-12', '2014-01-13', '2014-01-14', '2014-01-15', '2014-01-16', '2014-01-17', '2014-01-18', '2014-01-19', '2014-01-20', '2014-01-21', '2014-01-22', '2014-01-23', '2014-01-24', '2014-01-25', '2014-01-26', '2014-01-27', '2014-01-28', '2014-01-29', '2014-01-30', '2014-01-31', '2014-02-01', '2014-02-02', '2014-02-03', '2014-02-04', '2014-02-05', '2014-02-06', '2014-02-07', '2014-02-08', '2014-02-09', '2014-02-10', '2014-02-11', '2014-02-12', '2014-02-13', '2014-02-14', '2014-02-15', '2014-02-16', '2014-02-17', '2014-02-18', '2014-02-19', '2014-02-20', '2014-02-21', '2014-02-22', '2014-02-23', '2014-02-24', '2014-02-25', '2014-02-26', '2014-02-27', '2014-02-28', '2014-03-01', '2014-03-02', '2014-03-03', '2014-03-04', '2014-03-05', '2014-03-06', '2014-03-07', '2014-03-08', '2014-03-09', '2014-03-10', '2014-03-11',\n",
      "               '2014-03-12', '2014-03-13', '2014-03-14', '2014-03-15', '2014-03-16', '2014-03-17', '2014-03-18', '2014-03-19', '2014-03-20', '2014-03-21', '2014-03-22', '2014-03-23', '2014-03-24', '2014-03-25', '2014-03-26', '2014-03-27', '2014-03-28', '2014-03-29', '2014-03-30', '2014-03-31', '2014-04-01', '2014-04-02', '2014-04-03', '2014-04-04', '2014-04-05', '2014-04-06', '2014-04-07', '2014-04-08', '2014-04-09', '2014-04-10'],\n",
      "              dtype='datetime64[ns]', freq='D')\n",
      "\n",
      "major_axis=Index([u'A', u'B', u'C', u'D'], dtype='object')\n",
      "\n",
      "minor_axis=Index([u'df1', u'df2', u'df3'], dtype='object')\n",
      "\n"
     ]
    }
   ],
   "source": [
    "print(pf2)\n",
    "\n",
    "print()\n",
    "print(\"items=%s\\n\" % pf2.items)\n",
    "print(\"major_axis=%s\\n\" % pf2.major_axis)\n",
    "print(\"minor_axis=%s\\n\" % pf2.minor_axis)"
   ]
  },
  {
   "cell_type": "code",
   "execution_count": 28,
   "metadata": {
    "ExecuteTime": {
     "end_time": "2017-12-21T09:04:23.591102Z",
     "start_time": "2017-12-21T01:04:23.568393-08:00"
    }
   },
   "outputs": [
    {
     "name": "stdout",
     "output_type": "stream",
     "text": [
      "3\n",
      "[DatetimeIndex(['2014-01-01', '2014-01-02', '2014-01-03', '2014-01-04', '2014-01-05', '2014-01-06', '2014-01-07', '2014-01-08', '2014-01-09', '2014-01-10', '2014-01-11', '2014-01-12', '2014-01-13', '2014-01-14', '2014-01-15', '2014-01-16', '2014-01-17', '2014-01-18', '2014-01-19', '2014-01-20', '2014-01-21', '2014-01-22', '2014-01-23', '2014-01-24', '2014-01-25', '2014-01-26', '2014-01-27', '2014-01-28', '2014-01-29', '2014-01-30', '2014-01-31', '2014-02-01', '2014-02-02', '2014-02-03', '2014-02-04', '2014-02-05', '2014-02-06', '2014-02-07', '2014-02-08', '2014-02-09', '2014-02-10', '2014-02-11', '2014-02-12', '2014-02-13', '2014-02-14', '2014-02-15', '2014-02-16', '2014-02-17', '2014-02-18', '2014-02-19', '2014-02-20', '2014-02-21', '2014-02-22', '2014-02-23', '2014-02-24', '2014-02-25', '2014-02-26', '2014-02-27', '2014-02-28', '2014-03-01', '2014-03-02', '2014-03-03', '2014-03-04', '2014-03-05', '2014-03-06', '2014-03-07', '2014-03-08', '2014-03-09', '2014-03-10', '2014-03-11',\n",
      "               '2014-03-12', '2014-03-13', '2014-03-14', '2014-03-15', '2014-03-16', '2014-03-17', '2014-03-18', '2014-03-19', '2014-03-20', '2014-03-21', '2014-03-22', '2014-03-23', '2014-03-24', '2014-03-25', '2014-03-26', '2014-03-27', '2014-03-28', '2014-03-29', '2014-03-30', '2014-03-31', '2014-04-01', '2014-04-02', '2014-04-03', '2014-04-04', '2014-04-05', '2014-04-06', '2014-04-07', '2014-04-08', '2014-04-09', '2014-04-10'],\n",
      "              dtype='datetime64[ns]', freq='D'), Index([u'A', u'B', u'C', u'D'], dtype='object'), Index([u'df1', u'df2', u'df3'], dtype='object')]\n"
     ]
    }
   ],
   "source": [
    "print(len(pf2.axes))\n",
    "print(pf2.axes)"
   ]
  },
  {
   "cell_type": "code",
   "execution_count": 29,
   "metadata": {
    "ExecuteTime": {
     "end_time": "2017-12-21T09:04:23.616992Z",
     "start_time": "2017-12-21T01:04:23.592778-08:00"
    }
   },
   "outputs": [
    {
     "name": "stdout",
     "output_type": "stream",
     "text": [
      "items=%s\n",
      "DatetimeIndex(['2014-01-01', '2014-01-02', '2014-01-03', '2014-01-04', '2014-01-05', '2014-01-06', '2014-01-07', '2014-01-08', '2014-01-09', '2014-01-10', '2014-01-11', '2014-01-12', '2014-01-13', '2014-01-14', '2014-01-15', '2014-01-16', '2014-01-17', '2014-01-18', '2014-01-19', '2014-01-20', '2014-01-21', '2014-01-22', '2014-01-23', '2014-01-24', '2014-01-25', '2014-01-26', '2014-01-27', '2014-01-28', '2014-01-29', '2014-01-30', '2014-01-31', '2014-02-01', '2014-02-02', '2014-02-03', '2014-02-04', '2014-02-05', '2014-02-06', '2014-02-07', '2014-02-08', '2014-02-09', '2014-02-10', '2014-02-11', '2014-02-12', '2014-02-13', '2014-02-14', '2014-02-15', '2014-02-16', '2014-02-17', '2014-02-18', '2014-02-19', '2014-02-20', '2014-02-21', '2014-02-22', '2014-02-23', '2014-02-24', '2014-02-25', '2014-02-26', '2014-02-27', '2014-02-28', '2014-03-01', '2014-03-02', '2014-03-03', '2014-03-04', '2014-03-05', '2014-03-06', '2014-03-07', '2014-03-08', '2014-03-09', '2014-03-10', '2014-03-11',\n",
      "               '2014-03-12', '2014-03-13', '2014-03-14', '2014-03-15', '2014-03-16', '2014-03-17', '2014-03-18', '2014-03-19', '2014-03-20', '2014-03-21', '2014-03-22', '2014-03-23', '2014-03-24', '2014-03-25', '2014-03-26', '2014-03-27', '2014-03-28', '2014-03-29', '2014-03-30', '2014-03-31', '2014-04-01', '2014-04-02', '2014-04-03', '2014-04-04', '2014-04-05', '2014-04-06', '2014-04-07', '2014-04-08', '2014-04-09', '2014-04-10'],\n",
      "              dtype='datetime64[ns]', freq='D')\n",
      "major=%s\n",
      "Index([u'A', u'B', u'C', u'D'], dtype='object')\n",
      "minor=%s\n",
      "Index([u'df1', u'df2', u'df3'], dtype='object')\n"
     ]
    }
   ],
   "source": [
    "print(\"items=%s\\n\", pf2.axes[0])\n",
    "print(\"major=%s\\n\", pf2.axes[1])\n",
    "print(\"minor=%s\\n\", pf2.axes[2])"
   ]
  },
  {
   "cell_type": "markdown",
   "metadata": {
    "run_control": {
     "marked": false
    }
   },
   "source": [
    "# Date functionality\n",
    "\n",
    "http://pandas.pydata.org/pandas-docs/stable/timeseries.html\n",
    "\n",
    "- Generate sequence of fixed-frequency dates and time spans\n",
    "- Conform / convert time-series to a particular frequency\n",
    "- Compute relative dates based on non-standard time incrementens"
   ]
  },
  {
   "cell_type": "markdown",
   "metadata": {
    "run_control": {
     "marked": false
    }
   },
   "source": [
    "## Overview"
   ]
  },
  {
   "cell_type": "code",
   "execution_count": 30,
   "metadata": {
    "ExecuteTime": {
     "end_time": "2017-12-21T09:04:23.641983Z",
     "start_time": "2017-12-21T01:04:23.618664-08:00"
    },
    "run_control": {
     "marked": false
    }
   },
   "outputs": [
    {
     "name": "stdout",
     "output_type": "stream",
     "text": [
      "<class 'pandas.core.indexes.datetimes.DatetimeIndex'>\n",
      "72\n",
      "DatetimeIndex(['2011-01-01 00:00:00', '2011-01-01 01:00:00'], dtype='datetime64[ns]', freq='H')\n",
      "DatetimeIndex(['2011-01-03 22:00:00', '2011-01-03 23:00:00'], dtype='datetime64[ns]', freq='H')\n"
     ]
    }
   ],
   "source": [
    "# 72 hours data on hourly frequency.\n",
    "rng = pd.date_range(\"2011-01-01\", periods=72, freq=\"H\")\n",
    "\n",
    "print(type(rng))\n",
    "print(len(rng))\n",
    "print(rng[:2])\n",
    "print(rng[-2:])"
   ]
  },
  {
   "cell_type": "code",
   "execution_count": 31,
   "metadata": {
    "ExecuteTime": {
     "end_time": "2017-12-21T09:04:23.675208Z",
     "start_time": "2017-12-21T01:04:23.643566-08:00"
    },
    "run_control": {
     "marked": false
    }
   },
   "outputs": [
    {
     "name": "stdout",
     "output_type": "stream",
     "text": [
      "<class 'pandas.core.indexes.datetimes.DatetimeIndex'>\n"
     ]
    },
    {
     "data": {
      "text/plain": [
       "2011-01-01 00:00:00    0.653590\n",
       "2011-01-01 01:00:00    0.115007\n",
       "2011-01-01 02:00:00    0.950283\n",
       "2011-01-01 03:00:00    0.482191\n",
       "2011-01-01 04:00:00    0.872475\n",
       "Freq: H, dtype: float64"
      ]
     },
     "execution_count": 31,
     "metadata": {},
     "output_type": "execute_result"
    }
   ],
   "source": [
    "# Build a time series from random data.\n",
    "np.random.seed(1000)\n",
    "ts = pd.Series(np.random.rand(len(rng)), index=rng)\n",
    "\n",
    "print(type(ts.index))\n",
    "ts.head()"
   ]
  },
  {
   "cell_type": "code",
   "execution_count": 32,
   "metadata": {
    "ExecuteTime": {
     "end_time": "2017-12-21T09:04:24.077112Z",
     "start_time": "2017-12-21T01:04:23.677016-08:00"
    },
    "run_control": {
     "marked": false
    }
   },
   "outputs": [
    {
     "data": {
      "image/png": "[encoded data removed]",
      "text/plain": [
       "<matplotlib.figure.Figure at 0x10ee1c610>"
      ]
     },
     "metadata": {},
     "output_type": "display_data"
    }
   ],
   "source": [
    "ts.plot();"
   ]
  },
  {
   "cell_type": "code",
   "execution_count": 33,
   "metadata": {
    "ExecuteTime": {
     "end_time": "2017-12-21T09:04:24.111007Z",
     "start_time": "2017-12-21T01:04:24.079188-08:00"
    }
   },
   "outputs": [
    {
     "data": {
      "text/plain": [
       "2011-01-01 00:00:00    0.653590\n",
       "2011-01-01 00:45:00         NaN\n",
       "2011-01-01 01:30:00         NaN\n",
       "2011-01-01 02:15:00         NaN\n",
       "2011-01-01 03:00:00    0.482191\n",
       "2011-01-01 03:45:00         NaN\n",
       "2011-01-01 04:30:00         NaN\n",
       "2011-01-01 05:15:00         NaN\n",
       "2011-01-01 06:00:00    0.040710\n",
       "2011-01-01 06:45:00         NaN\n",
       "Freq: 45T, dtype: float64"
      ]
     },
     "execution_count": 33,
     "metadata": {},
     "output_type": "execute_result"
    }
   ],
   "source": [
    "# Change frequency.\n",
    "converted = ts.asfreq(\"45Min\")\n",
    "converted.head(10)"
   ]
  },
  {
   "cell_type": "code",
   "execution_count": 34,
   "metadata": {
    "ExecuteTime": {
     "end_time": "2017-12-21T09:04:24.144581Z",
     "start_time": "2017-12-21T01:04:24.112993-08:00"
    },
    "run_control": {
     "marked": false
    }
   },
   "outputs": [
    {
     "data": {
      "text/plain": [
       "2011-01-01 00:00:00    0.653590\n",
       "2011-01-01 00:45:00    0.653590\n",
       "2011-01-01 01:30:00    0.115007\n",
       "2011-01-01 02:15:00    0.950283\n",
       "2011-01-01 03:00:00    0.482191\n",
       "2011-01-01 03:45:00    0.482191\n",
       "2011-01-01 04:30:00    0.872475\n",
       "2011-01-01 05:15:00    0.212333\n",
       "2011-01-01 06:00:00    0.040710\n",
       "2011-01-01 06:45:00    0.040710\n",
       "Freq: 45T, dtype: float64"
      ]
     },
     "execution_count": 34,
     "metadata": {},
     "output_type": "execute_result"
    }
   ],
   "source": [
    "# Change frequency and fill gaps.\n",
    "# ffill: fills forward the nans (causal).\n",
    "converted = ts.asfreq(\"45Min\", method='ffill')\n",
    "converted.head(10)"
   ]
  },
  {
   "cell_type": "code",
   "execution_count": 35,
   "metadata": {
    "ExecuteTime": {
     "end_time": "2017-12-21T09:04:24.179995Z",
     "start_time": "2017-12-21T01:04:24.146630-08:00"
    },
    "run_control": {
     "marked": false
    }
   },
   "outputs": [
    {
     "data": {
      "text/plain": [
       "2011-01-01    0.515735\n",
       "2011-01-02    0.469341\n",
       "2011-01-03    0.408907\n",
       "Freq: D, dtype: float64"
      ]
     },
     "execution_count": 35,
     "metadata": {},
     "output_type": "execute_result"
    }
   ],
   "source": [
    "# Resample daily using mean() to aggregate.\n",
    "ts.resample('D').mean()"
   ]
  },
  {
   "cell_type": "code",
   "execution_count": 36,
   "metadata": {
    "ExecuteTime": {
     "end_time": "2017-12-21T09:04:24.726507Z",
     "start_time": "2017-12-21T01:04:24.182101-08:00"
    },
    "run_control": {
     "marked": false
    }
   },
   "outputs": [
    {
     "data": {
      "image/png": "[encoded data removed]",
      "text/plain": [
       "<matplotlib.figure.Figure at 0x10f294c90>"
      ]
     },
     "metadata": {},
     "output_type": "display_data"
    }
   ],
   "source": [
    "ts.plot(label=\"ts\")\n",
    "converted.plot(label=\"converted\")\n",
    "ts.resample('D').mean().plot(label=\"daily mean\")\n",
    "plt.legend(loc=\"best\");"
   ]
  },
  {
   "cell_type": "markdown",
   "metadata": {
    "run_control": {
     "marked": false
    }
   },
   "source": [
    "## Time stamps vs time spans\n",
    "\n",
    "http://pandas.pydata.org/pandas-docs/stable/timeseries.html#time-stamps-vs-time-spans\n",
    "\n",
    "- Timestamp = represents a single point in time\n",
    "    - create with: to_datetime(), Timestamp()\n",
    "- DatetimeIndex = index of Timestamp\n",
    "    - create with: to_datetime(), date_range(), DatetimeIndex()\n",
    "\n",
    "- Period = represents a single time span\n",
    "    - create with: Period()\n",
    "- PeriodIndex = index of Period\n",
    "    - create with: period_range(), PeriodIndex()"
   ]
  },
  {
   "cell_type": "code",
   "execution_count": 37,
   "metadata": {
    "ExecuteTime": {
     "end_time": "2017-12-21T09:04:24.750807Z",
     "start_time": "2017-12-21T01:04:24.728584-08:00"
    },
    "run_control": {
     "marked": false
    }
   },
   "outputs": [
    {
     "data": {
      "text/plain": [
       "Timestamp('2012-05-01 00:00:00')"
      ]
     },
     "execution_count": 37,
     "metadata": {},
     "output_type": "execute_result"
    }
   ],
   "source": [
    "pd.Timestamp(datetime.datetime(2012, 5, 1))"
   ]
  },
  {
   "cell_type": "code",
   "execution_count": 38,
   "metadata": {
    "ExecuteTime": {
     "end_time": "2017-12-21T09:04:24.774970Z",
     "start_time": "2017-12-21T01:04:24.752538-08:00"
    },
    "run_control": {
     "marked": false
    }
   },
   "outputs": [
    {
     "data": {
      "text/plain": [
       "Timestamp('2012-05-01 00:00:00')"
      ]
     },
     "execution_count": 38,
     "metadata": {},
     "output_type": "execute_result"
    }
   ],
   "source": [
    "pd.Timestamp(\"2012-05-01\")"
   ]
  },
  {
   "cell_type": "code",
   "execution_count": 39,
   "metadata": {
    "ExecuteTime": {
     "end_time": "2017-12-21T09:04:24.799017Z",
     "start_time": "2017-12-21T01:04:24.776643-08:00"
    },
    "run_control": {
     "marked": false
    }
   },
   "outputs": [
    {
     "data": {
      "text/plain": [
       "Timestamp('2012-05-01 00:00:00')"
      ]
     },
     "execution_count": 39,
     "metadata": {},
     "output_type": "execute_result"
    }
   ],
   "source": [
    "pd.Timestamp(2012, 5, 1)"
   ]
  },
  {
   "cell_type": "code",
   "execution_count": 40,
   "metadata": {
    "ExecuteTime": {
     "end_time": "2017-12-21T09:04:24.822994Z",
     "start_time": "2017-12-21T01:04:24.800740-08:00"
    },
    "run_control": {
     "marked": false
    }
   },
   "outputs": [
    {
     "data": {
      "text/plain": [
       "Period('2011-01-01', 'D')"
      ]
     },
     "execution_count": 40,
     "metadata": {},
     "output_type": "execute_result"
    }
   ],
   "source": [
    "pd.Period('2011-01', freq='D')"
   ]
  },
  {
   "cell_type": "code",
   "execution_count": 41,
   "metadata": {
    "ExecuteTime": {
     "end_time": "2017-12-21T09:04:24.852840Z",
     "start_time": "2017-12-21T01:04:24.825278-08:00"
    },
    "run_control": {
     "marked": false
    }
   },
   "outputs": [
    {
     "name": "stdout",
     "output_type": "stream",
     "text": [
      "ts= 2015-05-01   -0.804458\n",
      "2015-05-02    0.320932\n",
      "2015-05-03   -0.025483\n",
      "dtype: float64\n",
      "type(ts.index)= <class 'pandas.core.indexes.datetimes.DatetimeIndex'>\n",
      "ts.index= DatetimeIndex(['2015-05-01', '2015-05-02', '2015-05-03'], dtype='datetime64[ns]', freq=None)\n"
     ]
    }
   ],
   "source": [
    "# Timestamp is coerced to DatetimeIndex when used as index in DataFrame and Series.\n",
    "dates = [pd.Timestamp(d) for d in \"2015-05-01 2015-05-02 2015-05-03\".split()]\n",
    "\n",
    "np.random.seed(1000)\n",
    "ts = pd.Series(np.random.randn(len(dates)), dates)\n",
    "\n",
    "print(\"ts=\", ts)\n",
    "\n",
    "print(\"type(ts.index)=\", type(ts.index))\n",
    "\n",
    "# Note that there is no frequency inferred.\n",
    "print(\"ts.index=\", ts.index)"
   ]
  },
  {
   "cell_type": "code",
   "execution_count": 42,
   "metadata": {
    "ExecuteTime": {
     "end_time": "2017-12-21T09:04:24.881817Z",
     "start_time": "2017-12-21T01:04:24.854729-08:00"
    }
   },
   "outputs": [
    {
     "data": {
      "text/plain": [
       "array([datetime.date(2015, 5, 1), datetime.date(2015, 5, 2),\n",
       "       datetime.date(2015, 5, 3)], dtype=object)"
      ]
     },
     "execution_count": 42,
     "metadata": {},
     "output_type": "execute_result"
    }
   ],
   "source": [
    "# Extract a np.array of datetime.date.\n",
    "ts.index.date"
   ]
  },
  {
   "cell_type": "code",
   "execution_count": 43,
   "metadata": {
    "ExecuteTime": {
     "end_time": "2017-12-21T09:04:24.917262Z",
     "start_time": "2017-12-21T01:04:24.884632-08:00"
    },
    "run_control": {
     "marked": false
    }
   },
   "outputs": [
    {
     "name": "stdout",
     "output_type": "stream",
     "text": [
      "ts= 2012-01    0.644324\n",
      "2012-02   -0.300797\n",
      "2012-03    0.389475\n",
      "Freq: M, dtype: float64\n",
      "type(ts.index)= <class 'pandas.core.indexes.period.PeriodIndex'>\n",
      "ts.index= PeriodIndex(['2012-01', '2012-02', '2012-03'], dtype='period[M]', freq='M')\n"
     ]
    }
   ],
   "source": [
    "# Period is coerced to PeriodIndex.\n",
    "periods = [pd.Period(d) for d in \"2012-01 2012-02 2012-03\".split()]\n",
    "ts = pd.Series(np.random.randn(len(periods)), periods)\n",
    "\n",
    "print(\"ts=\", ts)\n",
    "\n",
    "print(\"type(ts.index)=\", type(ts.index))\n",
    "\n",
    "# Note that a month frequency is inferred.\n",
    "print(\"ts.index=\", ts.index)"
   ]
  },
  {
   "cell_type": "markdown",
   "metadata": {
    "run_control": {
     "marked": false
    }
   },
   "source": [
    "## to_datetime()\n",
    "\n",
    "http://pandas.pydata.org/pandas-docs/stable/timeseries.html#converting-to-timestamps\n",
    "\n",
    "- Used to convert to pd.Timestamp objects"
   ]
  },
  {
   "cell_type": "code",
   "execution_count": 44,
   "metadata": {
    "ExecuteTime": {
     "end_time": "2017-12-21T09:04:24.947053Z",
     "start_time": "2017-12-21T01:04:24.921252-08:00"
    },
    "run_control": {
     "marked": false
    }
   },
   "outputs": [
    {
     "name": "stdout",
     "output_type": "stream",
     "text": [
      "srs= 0    Jul 31, 2009\n",
      "1      2010-01-10\n",
      "2            None\n",
      "dtype: object\n",
      "0   2009-07-31\n",
      "1   2010-01-10\n",
      "2          NaT\n",
      "dtype: datetime64[ns]\n"
     ]
    }
   ],
   "source": [
    "# Series with a bunch of strings (objects).\n",
    "srs = pd.Series([\"Jul 31, 2009\", \"2010-01-10\", None])\n",
    "print(\"srs=\", srs)\n",
    "\n",
    "# Convert to string with timestamps.\n",
    "print(pd.to_datetime(srs))"
   ]
  },
  {
   "cell_type": "code",
   "execution_count": 45,
   "metadata": {
    "ExecuteTime": {
     "end_time": "2017-12-21T09:04:24.970707Z",
     "start_time": "2017-12-21T01:04:24.948655-08:00"
    },
    "run_control": {
     "marked": false
    }
   },
   "outputs": [
    {
     "name": "stdout",
     "output_type": "stream",
     "text": [
      "2010-11-12 00:00:00\n",
      "DatetimeIndex(['2010-11-12', '2010-11-13', '2010-11-14'], dtype='datetime64[ns]', freq=None)\n"
     ]
    }
   ],
   "source": [
    "# pd.to_datetime() returns a list or a single element.\n",
    "print(pd.to_datetime(\"2010-11-12\"))\n",
    "print(pd.to_datetime([\"2010-11-12\", \"2010-11-13\", \"2010-11-14\"]))"
   ]
  },
  {
   "cell_type": "code",
   "execution_count": 46,
   "metadata": {
    "ExecuteTime": {
     "end_time": "2017-12-21T09:04:24.995640Z",
     "start_time": "2017-12-21T01:04:24.972328-08:00"
    },
    "run_control": {
     "marked": false
    }
   },
   "outputs": [
    {
     "data": {
      "text/plain": [
       "DatetimeIndex(['2012-10-08 18:15:05', '2012-10-09 18:15:05', '2012-10-10 18:15:05', '2012-10-11 18:15:05', '2012-10-12 18:15:05'], dtype='datetime64[ns]', freq=None)"
      ]
     },
     "execution_count": 46,
     "metadata": {},
     "output_type": "execute_result"
    }
   ],
   "source": [
    "# Using Epochs.\n",
    "pd.to_datetime([1349720105, 1349806505, 1349892905, 1349979305, 1350065705],\n",
    "               unit='s')"
   ]
  },
  {
   "cell_type": "code",
   "execution_count": 47,
   "metadata": {
    "ExecuteTime": {
     "end_time": "2017-12-21T09:04:25.020819Z",
     "start_time": "2017-12-21T01:04:24.997657-08:00"
    },
    "run_control": {
     "marked": false
    }
   },
   "outputs": [
    {
     "data": {
      "text/plain": [
       "DatetimeIndex(['2012-10-08 18:15:05', '2012-10-09 18:15:05', '2012-10-10 18:15:05', '2012-10-11 18:15:05', '2012-10-12 18:15:05'], dtype='datetime64[ns]', freq=None)"
      ]
     },
     "execution_count": 47,
     "metadata": {},
     "output_type": "execute_result"
    }
   ],
   "source": [
    "pd.to_datetime(\n",
    "    [dt * 1000 for dt in [1349720105, 1349806505, 1349892905,\n",
    "                         1349979305, 1350065705]],\n",
    "               unit='ms')"
   ]
  },
  {
   "cell_type": "code",
   "execution_count": 48,
   "metadata": {
    "ExecuteTime": {
     "end_time": "2017-12-21T09:04:25.043594Z",
     "start_time": "2017-12-21T01:04:25.022465-08:00"
    },
    "collapsed": true,
    "run_control": {
     "marked": false
    }
   },
   "outputs": [],
   "source": [
    "# ??? Not working in 0.19\n",
    "if False:\n",
    "    dts = pd.to_datetime([\"2010-11-12\", \"2010-11-13\", \"2010-11-14\"])\n",
    "    pd.to_pydatetime(dts)"
   ]
  },
  {
   "cell_type": "markdown",
   "metadata": {
    "run_control": {
     "marked": false
    }
   },
   "source": [
    "## date_range()\n",
    "\n",
    "http://pandas.pydata.org/pandas-docs/stable/timeseries.html#generating-ranges-of-timestamps\n",
    "\n",
    "- date_range() is used to generate ranges of Timestamps\n",
    "- date_range() is inclusive"
   ]
  },
  {
   "cell_type": "code",
   "execution_count": 49,
   "metadata": {
    "ExecuteTime": {
     "end_time": "2017-12-21T09:04:25.069482Z",
     "start_time": "2017-12-21T01:04:25.045308-08:00"
    }
   },
   "outputs": [
    {
     "data": {
      "text/plain": [
       "DatetimeIndex(['2000-01-01', '2000-02-01', '2000-03-01', '2000-04-01', '2000-05-01', '2000-06-01', '2000-07-01', '2000-08-01', '2000-09-01', '2000-10-01'], dtype='datetime64[ns]', freq='MS')"
      ]
     },
     "execution_count": 49,
     "metadata": {},
     "output_type": "execute_result"
    }
   ],
   "source": [
    "# Beginning of month (MS=month start).\n",
    "idx = pd.date_range(\"2000-1-1\", periods=10, freq=\"MS\")\n",
    "idx"
   ]
  },
  {
   "cell_type": "code",
   "execution_count": 50,
   "metadata": {
    "ExecuteTime": {
     "end_time": "2017-12-21T09:04:25.095498Z",
     "start_time": "2017-12-21T01:04:25.071442-08:00"
    },
    "run_control": {
     "marked": false
    }
   },
   "outputs": [
    {
     "data": {
      "text/plain": [
       "DatetimeIndex(['2000-01-31', '2000-02-29', '2000-03-31', '2000-04-30', '2000-05-31', '2000-06-30', '2000-07-31', '2000-08-31', '2000-09-30', '2000-10-31'], dtype='datetime64[ns]', freq='M')"
      ]
     },
     "execution_count": 50,
     "metadata": {},
     "output_type": "execute_result"
    }
   ],
   "source": [
    "# End of month.\n",
    "idx = pd.date_range(\"2000-1-1\", periods=10, freq=\"M\")\n",
    "idx"
   ]
  },
  {
   "cell_type": "code",
   "execution_count": 51,
   "metadata": {
    "ExecuteTime": {
     "end_time": "2017-12-21T09:04:25.120637Z",
     "start_time": "2017-12-21T01:04:25.097170-08:00"
    },
    "run_control": {
     "marked": false
    }
   },
   "outputs": [
    {
     "data": {
      "text/plain": [
       "DatetimeIndex(['2000-01-01', '2000-01-02', '2000-01-03', '2000-01-04', '2000-01-05', '2000-01-06', '2000-01-07', '2000-01-08', '2000-01-09', '2000-01-10'], dtype='datetime64[ns]', freq='D')"
      ]
     },
     "execution_count": 51,
     "metadata": {},
     "output_type": "execute_result"
    }
   ],
   "source": [
    "# All (calendar) days.\n",
    "idx = pd.date_range(\"2000-1-1\", periods=10, freq=\"D\")\n",
    "idx"
   ]
  },
  {
   "cell_type": "code",
   "execution_count": 52,
   "metadata": {
    "ExecuteTime": {
     "end_time": "2017-12-21T09:04:25.201335Z",
     "start_time": "2017-12-21T01:04:25.122465-08:00"
    },
    "run_control": {
     "marked": false
    }
   },
   "outputs": [
    {
     "data": {
      "text/plain": [
       "DatetimeIndex(['2000-01-03', '2000-01-04', '2000-01-05', '2000-01-06', '2000-01-07', '2000-01-10', '2000-01-11', '2000-01-12', '2000-01-13', '2000-01-14',\n",
       "               ...\n",
       "               '2003-10-20', '2003-10-21', '2003-10-22', '2003-10-23', '2003-10-24', '2003-10-27', '2003-10-28', '2003-10-29', '2003-10-30', '2003-10-31'], dtype='datetime64[ns]', length=1000, freq='B')"
      ]
     },
     "execution_count": 52,
     "metadata": {},
     "output_type": "execute_result"
    }
   ],
   "source": [
    "# All business days.\n",
    "idx = pd.bdate_range(\"2000-1-1\", periods=1000)\n",
    "idx"
   ]
  },
  {
   "cell_type": "code",
   "execution_count": 53,
   "metadata": {
    "ExecuteTime": {
     "end_time": "2017-12-21T09:04:25.230535Z",
     "start_time": "2017-12-21T01:04:25.203069-08:00"
    },
    "run_control": {
     "marked": false
    }
   },
   "outputs": [
    {
     "data": {
      "text/plain": [
       "DatetimeIndex(['2011-01-01', '2011-01-02', '2011-01-03', '2011-01-04', '2011-01-05', '2011-01-06', '2011-01-07', '2011-01-08', '2011-01-09', '2011-01-10',\n",
       "               ...\n",
       "               '2011-12-23', '2011-12-24', '2011-12-25', '2011-12-26', '2011-12-27', '2011-12-28', '2011-12-29', '2011-12-30', '2011-12-31', '2012-01-01'], dtype='datetime64[ns]', length=366, freq='D')"
      ]
     },
     "execution_count": 53,
     "metadata": {},
     "output_type": "execute_result"
    }
   ],
   "source": [
    "# Specify [start, end].\n",
    "start = datetime.datetime(2011, 1, 1)\n",
    "end = datetime.datetime(2012, 1, 1)\n",
    "idx = pd.date_range(start, end)\n",
    "idx"
   ]
  },
  {
   "cell_type": "code",
   "execution_count": 54,
   "metadata": {
    "ExecuteTime": {
     "end_time": "2017-12-21T09:04:25.255689Z",
     "start_time": "2017-12-21T01:04:25.232348-08:00"
    },
    "run_control": {
     "marked": false
    }
   },
   "outputs": [
    {
     "data": {
      "text/plain": [
       "DatetimeIndex(['2011-01-01', '2011-02-01', '2011-03-01', '2011-04-01', '2011-05-01', '2011-06-01', '2011-07-01', '2011-08-01', '2011-09-01', '2011-10-01', '2011-11-01', '2011-12-01', '2012-01-01'], dtype='datetime64[ns]', freq='MS')"
      ]
     },
     "execution_count": 54,
     "metadata": {},
     "output_type": "execute_result"
    }
   ],
   "source": [
    "# Beginning of month.\n",
    "pd.date_range(start, end, freq=\"MS\")"
   ]
  },
  {
   "cell_type": "code",
   "execution_count": 55,
   "metadata": {
    "ExecuteTime": {
     "end_time": "2017-12-21T09:04:25.281631Z",
     "start_time": "2017-12-21T01:04:25.257439-08:00"
    },
    "run_control": {
     "marked": false
    }
   },
   "outputs": [
    {
     "data": {
      "text/plain": [
       "DatetimeIndex(['2011-01-02', '2011-01-09', '2011-01-16', '2011-01-23', '2011-01-30', '2011-02-06', '2011-02-13', '2011-02-20', '2011-02-27', '2011-03-06', '2011-03-13', '2011-03-20', '2011-03-27', '2011-04-03', '2011-04-10', '2011-04-17', '2011-04-24', '2011-05-01', '2011-05-08', '2011-05-15', '2011-05-22', '2011-05-29', '2011-06-05', '2011-06-12', '2011-06-19', '2011-06-26', '2011-07-03', '2011-07-10', '2011-07-17', '2011-07-24', '2011-07-31', '2011-08-07', '2011-08-14', '2011-08-21', '2011-08-28', '2011-09-04', '2011-09-11', '2011-09-18', '2011-09-25', '2011-10-02', '2011-10-09', '2011-10-16', '2011-10-23', '2011-10-30', '2011-11-06', '2011-11-13', '2011-11-20', '2011-11-27', '2011-12-04', '2011-12-11', '2011-12-18', '2011-12-25', '2012-01-01'], dtype='datetime64[ns]', freq='W-SUN')"
      ]
     },
     "execution_count": 55,
     "metadata": {},
     "output_type": "execute_result"
    }
   ],
   "source": [
    "# Every week (starting from Sunday).\n",
    "pd.date_range(start, end, freq=\"W\")"
   ]
  },
  {
   "cell_type": "code",
   "execution_count": 56,
   "metadata": {
    "ExecuteTime": {
     "end_time": "2017-12-21T09:04:25.304213Z",
     "start_time": "2017-12-21T01:04:25.283518-08:00"
    }
   },
   "outputs": [
    {
     "name": "stdout",
     "output_type": "stream",
     "text": [
      "6\n"
     ]
    }
   ],
   "source": [
    "print(pd.to_datetime(\"2011-01-02\").dayofweek)"
   ]
  },
  {
   "cell_type": "code",
   "execution_count": 57,
   "metadata": {
    "ExecuteTime": {
     "end_time": "2017-12-21T09:04:25.329127Z",
     "start_time": "2017-12-21T01:04:25.305885-08:00"
    },
    "run_control": {
     "marked": false
    }
   },
   "outputs": [
    {
     "data": {
      "text/plain": [
       "DatetimeIndex(['2011-01-03', '2011-01-04', '2011-01-05', '2011-01-06', '2011-01-07', '2011-01-10', '2011-01-11', '2011-01-12', '2011-01-13', '2011-01-14', '2011-01-17', '2011-01-18', '2011-01-19', '2011-01-20', '2011-01-21', '2011-01-24', '2011-01-25', '2011-01-26', '2011-01-27', '2011-01-28'], dtype='datetime64[ns]', freq='B')"
      ]
     },
     "execution_count": 57,
     "metadata": {},
     "output_type": "execute_result"
    }
   ],
   "source": [
    "# Start from beginning for 20 business days.\n",
    "pd.bdate_range(start=start, periods=20)"
   ]
  },
  {
   "cell_type": "code",
   "execution_count": 58,
   "metadata": {
    "ExecuteTime": {
     "end_time": "2017-12-21T09:04:25.354599Z",
     "start_time": "2017-12-21T01:04:25.330969-08:00"
    },
    "run_control": {
     "marked": false
    }
   },
   "outputs": [
    {
     "data": {
      "text/plain": [
       "DatetimeIndex(['2011-12-05', '2011-12-06', '2011-12-07', '2011-12-08', '2011-12-09', '2011-12-12', '2011-12-13', '2011-12-14', '2011-12-15', '2011-12-16', '2011-12-19', '2011-12-20', '2011-12-21', '2011-12-22', '2011-12-23', '2011-12-26', '2011-12-27', '2011-12-28', '2011-12-29', '2011-12-30'], dtype='datetime64[ns]', freq='B')"
      ]
     },
     "execution_count": 58,
     "metadata": {},
     "output_type": "execute_result"
    }
   ],
   "source": [
    "# Start from end for 20 business days.\n",
    "pd.bdate_range(end=end, periods=20)"
   ]
  },
  {
   "cell_type": "markdown",
   "metadata": {
    "run_control": {
     "marked": false
    }
   },
   "source": [
    "## DatetimeIndex\n",
    "\n",
    "http://pandas.pydata.org/pandas-docs/stable/timeseries.html#datetimeindex\n",
    "\n",
    "- DatetimeIndex is index of pandas objects\n",
    "- It supports union / intersection operations, shifting operations"
   ]
  },
  {
   "cell_type": "code",
   "execution_count": 59,
   "metadata": {
    "ExecuteTime": {
     "end_time": "2017-12-21T09:04:25.381429Z",
     "start_time": "2017-12-21T01:04:25.356352-08:00"
    },
    "run_control": {
     "marked": false
    }
   },
   "outputs": [
    {
     "data": {
      "text/plain": [
       "DatetimeIndex(['2011-01-31', '2011-02-28', '2011-03-31', '2011-04-29', '2011-05-31', '2011-06-30', '2011-07-29', '2011-08-31', '2011-09-30', '2011-10-31', '2011-11-30', '2011-12-30'], dtype='datetime64[ns]', freq='BM')"
      ]
     },
     "execution_count": 59,
     "metadata": {},
     "output_type": "execute_result"
    }
   ],
   "source": [
    "# Build a df with an index every last day of the month.\n",
    "idx = pd.date_range(start, end, freq=\"BM\")\n",
    "ts = pd.Series(np.random.randn(len(idx)), index=idx)\n",
    "ts.index"
   ]
  },
  {
   "cell_type": "code",
   "execution_count": 60,
   "metadata": {
    "ExecuteTime": {
     "end_time": "2017-12-21T09:04:25.405410Z",
     "start_time": "2017-12-21T01:04:25.383020-08:00"
    },
    "run_control": {
     "marked": false
    }
   },
   "outputs": [
    {
     "data": {
      "text/plain": [
       "DatetimeIndex(['2011-01-31', '2011-02-28', '2011-03-31', '2011-04-29', '2011-05-31'], dtype='datetime64[ns]', freq='BM')"
      ]
     },
     "execution_count": 60,
     "metadata": {},
     "output_type": "execute_result"
    }
   ],
   "source": [
    "ts[:5].index"
   ]
  },
  {
   "cell_type": "code",
   "execution_count": 61,
   "metadata": {
    "ExecuteTime": {
     "end_time": "2017-12-21T09:04:25.429729Z",
     "start_time": "2017-12-21T01:04:25.407002-08:00"
    },
    "run_control": {
     "marked": false
    }
   },
   "outputs": [
    {
     "data": {
      "text/plain": [
       "DatetimeIndex(['2011-01-31', '2011-03-31', '2011-05-31', '2011-07-29', '2011-09-30', '2011-11-30'], dtype='datetime64[ns]', freq='2BM')"
      ]
     },
     "execution_count": 61,
     "metadata": {},
     "output_type": "execute_result"
    }
   ],
   "source": [
    "# Skip 2.\n",
    "ts[::2].index"
   ]
  },
  {
   "cell_type": "code",
   "execution_count": 62,
   "metadata": {
    "ExecuteTime": {
     "end_time": "2017-12-21T09:04:25.455861Z",
     "start_time": "2017-12-21T01:04:25.431458-08:00"
    },
    "run_control": {
     "marked": false
    }
   },
   "outputs": [
    {
     "data": {
      "text/plain": [
       "-0.10743730169089667"
      ]
     },
     "execution_count": 62,
     "metadata": {},
     "output_type": "execute_result"
    }
   ],
   "source": [
    "# Index with string representing a date.\n",
    "ts['1/31/2011']"
   ]
  },
  {
   "cell_type": "code",
   "execution_count": 63,
   "metadata": {
    "ExecuteTime": {
     "end_time": "2017-12-21T09:04:25.479998Z",
     "start_time": "2017-12-21T01:04:25.457553-08:00"
    }
   },
   "outputs": [
    {
     "data": {
      "text/plain": [
       "-0.10743730169089667"
      ]
     },
     "execution_count": 63,
     "metadata": {},
     "output_type": "execute_result"
    }
   ],
   "source": [
    "# Index with datetime.\n",
    "ts[datetime.date(2011, 1, 31)]"
   ]
  },
  {
   "cell_type": "code",
   "execution_count": 64,
   "metadata": {
    "ExecuteTime": {
     "end_time": "2017-12-21T09:04:25.512328Z",
     "start_time": "2017-12-21T01:04:25.481683-08:00"
    }
   },
   "outputs": [
    {
     "data": {
      "text/plain": [
       "2011-12-30    0.705692\n",
       "Freq: BM, dtype: float64"
      ]
     },
     "execution_count": 64,
     "metadata": {},
     "output_type": "execute_result"
    }
   ],
   "source": [
    "# Slice with string.\n",
    "ts[\"2011-12-25\":]"
   ]
  },
  {
   "cell_type": "code",
   "execution_count": 65,
   "metadata": {
    "ExecuteTime": {
     "end_time": "2017-12-21T09:04:25.542944Z",
     "start_time": "2017-12-21T01:04:25.513993-08:00"
    },
    "run_control": {
     "marked": false
    }
   },
   "outputs": [
    {
     "data": {
      "text/plain": [
       "2011-12-30    0.705692\n",
       "Freq: BM, dtype: float64"
      ]
     },
     "execution_count": 65,
     "metadata": {},
     "output_type": "execute_result"
    }
   ],
   "source": [
    "# Slice with datetime().\n",
    "ts[datetime.datetime(2011, 12, 25):]"
   ]
  },
  {
   "cell_type": "code",
   "execution_count": 66,
   "metadata": {
    "ExecuteTime": {
     "end_time": "2017-12-21T09:04:25.574856Z",
     "start_time": "2017-12-21T01:04:25.544681-08:00"
    },
    "run_control": {
     "marked": false
    }
   },
   "outputs": [
    {
     "data": {
      "text/plain": [
       "2011-01-31   -0.107437\n",
       "2011-02-28   -0.479983\n",
       "2011-03-31    0.595036\n",
       "2011-04-29   -0.464668\n",
       "2011-05-31    0.667281\n",
       "2011-06-30   -0.806116\n",
       "2011-07-29   -1.196070\n",
       "2011-08-31   -0.405960\n",
       "2011-09-30   -0.182377\n",
       "2011-10-31    0.103193\n",
       "2011-11-30   -0.138422\n",
       "2011-12-30    0.705692\n",
       "Freq: BM, dtype: float64"
      ]
     },
     "execution_count": 66,
     "metadata": {},
     "output_type": "execute_result"
    }
   ],
   "source": [
    "# Slice with partial string.\n",
    "ts['2011']"
   ]
  },
  {
   "cell_type": "code",
   "execution_count": 67,
   "metadata": {
    "ExecuteTime": {
     "end_time": "2017-12-21T09:04:25.605357Z",
     "start_time": "2017-12-21T01:04:25.576560-08:00"
    },
    "run_control": {
     "marked": false
    }
   },
   "outputs": [
    {
     "data": {
      "text/plain": [
       "2011-06-30   -0.806116\n",
       "Freq: BM, dtype: float64"
      ]
     },
     "execution_count": 67,
     "metadata": {},
     "output_type": "execute_result"
    }
   ],
   "source": [
    "# Select with partial string.\n",
    "ts['2011-06']"
   ]
  },
  {
   "cell_type": "code",
   "execution_count": 68,
   "metadata": {
    "ExecuteTime": {
     "end_time": "2017-12-21T09:04:25.637263Z",
     "start_time": "2017-12-21T01:04:25.607115-08:00"
    },
    "run_control": {
     "marked": false
    }
   },
   "outputs": [
    {
     "data": {
      "text/plain": [
       "2011-01-31   -0.107437\n",
       "2011-02-28   -0.479983\n",
       "2011-03-31    0.595036\n",
       "Freq: BM, dtype: float64"
      ]
     },
     "execution_count": 68,
     "metadata": {},
     "output_type": "execute_result"
    }
   ],
   "source": [
    "# Label slicing implies that endpoints are included\n",
    "# (different from python convention, but same as np).\n",
    "ts['2011-01-31':'2011-03-31']"
   ]
  },
  {
   "cell_type": "code",
   "execution_count": 69,
   "metadata": {
    "ExecuteTime": {
     "end_time": "2017-12-21T09:04:25.670095Z",
     "start_time": "2017-12-21T01:04:25.639161-08:00"
    },
    "run_control": {
     "marked": false
    }
   },
   "outputs": [
    {
     "data": {
      "text/plain": [
       "2011-10-31    0.103193\n",
       "2011-11-30   -0.138422\n",
       "2011-12-30    0.705692\n",
       "Freq: BM, dtype: float64"
      ]
     },
     "execution_count": 69,
     "metadata": {},
     "output_type": "execute_result"
    }
   ],
   "source": [
    "# truncate() is equivalent to slicing (both endpoints are included in the sliced object).\n",
    "ts.truncate(before=\"10/31/2011\", after=\"12/31/2011\")"
   ]
  },
  {
   "cell_type": "markdown",
   "metadata": {
    "run_control": {
     "marked": false
    }
   },
   "source": [
    "## Time/date components.\n",
    "\n",
    "http://pandas.pydata.org/pandas-docs/stable/timeseries.html#time-date-components"
   ]
  },
  {
   "cell_type": "code",
   "execution_count": 70,
   "metadata": {
    "ExecuteTime": {
     "end_time": "2017-12-21T09:04:25.694486Z",
     "start_time": "2017-12-21T01:04:25.671754-08:00"
    }
   },
   "outputs": [
    {
     "name": "stdout",
     "output_type": "stream",
     "text": [
      "<class 'pandas._libs.tslib.Timestamp'> 2012-05-01 00:00:00\n",
      "<class 'pandas._libs.tslib.Timestamp'> 2012-05-01 00:00:00\n"
     ]
    }
   ],
   "source": [
    "dt = pd.Timestamp(\"2012-05-01\")\n",
    "print(type(dt), dt)\n",
    "\n",
    "dt = pd.to_datetime(\"2012-05-01\")\n",
    "print(type(dt), dt)"
   ]
  },
  {
   "cell_type": "code",
   "execution_count": 71,
   "metadata": {
    "ExecuteTime": {
     "end_time": "2017-12-21T09:04:25.727866Z",
     "start_time": "2017-12-21T01:04:25.696128-08:00"
    },
    "run_control": {
     "marked": false
    }
   },
   "outputs": [
    {
     "name": "stdout",
     "output_type": "stream",
     "text": [
      "year= 2012\n",
      "microsecond= 0\n",
      "date= 2012-05-01\n",
      "dayofyear= 122\n",
      "weekofyear= 18\n",
      "week= 18\n",
      "dayofweek= 1\n",
      "weekday= 1\n",
      "weekday_name= Tuesday\n",
      "days_in_month= 31\n",
      "is_month_start= True\n",
      "is_month_end= False\n",
      "is_leap_year= True\n"
     ]
    }
   ],
   "source": [
    "dt = pd.Timestamp(\"2012-05-01\")\n",
    "\n",
    "print(\"year=\", dt.year)\n",
    "print(\"microsecond=\", dt.microsecond)\n",
    "print(\"date=\", dt.date())\n",
    "print(\"dayofyear=\", dt.dayofyear)\n",
    "print(\"weekofyear=\", dt.weekofyear)\n",
    "print(\"week=\", dt.week)\n",
    "print(\"dayofweek=\", dt.dayofweek)\n",
    "print(\"weekday=\", dt.weekday())\n",
    "print(\"weekday_name=\", dt.weekday_name)\n",
    "# Number of days in the month of dt.\n",
    "print(\"days_in_month=\", dt.days_in_month)\n",
    "print(\"is_month_start=\", dt.is_month_start)\n",
    "print(\"is_month_end=\", dt.is_month_end)\n",
    "print(\"is_leap_year=\", dt.is_leap_year)"
   ]
  },
  {
   "cell_type": "markdown",
   "metadata": {
    "run_control": {
     "marked": false
    }
   },
   "source": [
    "## Offset objects.\n",
    "\n",
    "http://pandas.pydata.org/pandas-docs/stable/timeseries.html#dateoffset-objects\n",
    "\n",
    "- Frequency strings (e.g., M, W, BM) are converted to pandas pd.offsets.DateOffset(), which represents a regular frequency increment\n",
    "- DateOffset() keeps results as Timestamp (differently from timedelta)\n",
    "\n",
    "- Offset information are at\n",
    "  - http://pandas.pydata.org/pandas-docs/stable/timeseries.html#offset-aliases\n",
    "  - http://pandas.pydata.org/pandas-docs/stable/timeseries.html#anchored-offsets"
   ]
  },
  {
   "cell_type": "code",
   "execution_count": 72,
   "metadata": {
    "ExecuteTime": {
     "end_time": "2017-12-21T09:04:25.753929Z",
     "start_time": "2017-12-21T01:04:25.730299-08:00"
    },
    "run_control": {
     "marked": false
    }
   },
   "outputs": [
    {
     "name": "stdout",
     "output_type": "stream",
     "text": [
      "<type 'datetime.datetime'> 2008-08-18 19:00:00\n",
      "<class 'pandas._libs.tslib.Timestamp'> 2008-12-23 19:00:00\n"
     ]
    }
   ],
   "source": [
    "# Using pd.offsets.DateOffset() returns a Timestamp.\n",
    "d = datetime.datetime(2008, 8, 18, 19, 0)\n",
    "print(type(d), d)\n",
    "\n",
    "next_d = d + pd.offsets.DateOffset(months=4, days=5)\n",
    "print(type(next_d), next_d)"
   ]
  },
  {
   "cell_type": "code",
   "execution_count": 73,
   "metadata": {
    "ExecuteTime": {
     "end_time": "2017-12-21T09:04:25.778501Z",
     "start_time": "2017-12-21T01:04:25.755712-08:00"
    },
    "run_control": {
     "marked": false
    }
   },
   "outputs": [
    {
     "name": "stdout",
     "output_type": "stream",
     "text": [
      "BDay= 2008-08-19 19:00:00\n",
      "Week= 2008-08-25 19:00:00\n"
     ]
    }
   ],
   "source": [
    "print(\"BDay=\", d + pd.offsets.BDay())\n",
    "print(\"Week=\", d + pd.offsets.Week())\n",
    "#print \"WeekOfMonth=\", d + pd.offsets.WeekOfMonth()"
   ]
  },
  {
   "cell_type": "code",
   "execution_count": 74,
   "metadata": {
    "ExecuteTime": {
     "end_time": "2017-12-21T09:04:25.804863Z",
     "start_time": "2017-12-21T01:04:25.780818-08:00"
    },
    "run_control": {
     "marked": false
    }
   },
   "outputs": [
    {
     "name": "stdout",
     "output_type": "stream",
     "text": [
      "d= 2008-08-18 19:00:00\n",
      "MonthEnd= 2008-08-31 19:00:00\n",
      "MonthBegin= 2008-09-01 19:00:00\n",
      "BMonthEnd= 2008-08-29 19:00:00\n",
      "BMonthBegin= 2008-09-01 19:00:00\n"
     ]
    }
   ],
   "source": [
    "# Use DateOffset() to align to month.\n",
    "print(\"d=\", d)\n",
    "print(\"MonthEnd=\", d + pd.offsets.MonthEnd())\n",
    "print(\"MonthBegin=\", d + pd.offsets.MonthBegin())\n",
    "\n",
    "# Align to first / last business day.\n",
    "print(\"BMonthEnd=\", d + pd.offsets.BMonthEnd())\n",
    "print(\"BMonthBegin=\", d + pd.offsets.BMonthBegin())"
   ]
  },
  {
   "cell_type": "code",
   "execution_count": 75,
   "metadata": {
    "ExecuteTime": {
     "end_time": "2017-12-21T09:04:25.829274Z",
     "start_time": "2017-12-21T01:04:25.806481-08:00"
    },
    "run_control": {
     "marked": false
    }
   },
   "outputs": [
    {
     "name": "stdout",
     "output_type": "stream",
     "text": [
      "<class 'pandas.tseries.offsets.BusinessDay'>\n",
      "<5 * BusinessDays>\n"
     ]
    }
   ],
   "source": [
    "# Offset can be manipulated with arithmetic.\n",
    "offset = 5 * pd.offsets.BDay()\n",
    "print(type(offset))\n",
    "print(offset)"
   ]
  },
  {
   "cell_type": "code",
   "execution_count": 76,
   "metadata": {
    "ExecuteTime": {
     "end_time": "2017-12-21T09:04:25.855826Z",
     "start_time": "2017-12-21T01:04:25.830922-08:00"
    },
    "run_control": {
     "marked": false
    }
   },
   "outputs": [
    {
     "name": "stdout",
     "output_type": "stream",
     "text": [
      "2008-08-18 19:00:00\n",
      "2008-08-25 19:00:00\n",
      "2008-08-22 19:00:00\n",
      "4\n",
      "2008-08-25 00:00:00\n"
     ]
    }
   ],
   "source": [
    "# Some offsets can be parametrized.\n",
    "print(d)\n",
    "\n",
    "# Preserve the hour.\n",
    "print(d + pd.offsets.Week())\n",
    "\n",
    "# Align to a specific day of the week\n",
    "print(d + pd.offsets.Week(weekday=4))\n",
    "print((d + pd.offsets.Week(weekday=4)).dayofweek)\n",
    "\n",
    "# This aligns to midnight.\n",
    "print(d + pd.offsets.Week(normalize=True))"
   ]
  },
  {
   "cell_type": "code",
   "execution_count": 77,
   "metadata": {
    "ExecuteTime": {
     "end_time": "2017-12-21T09:04:25.883880Z",
     "start_time": "2017-12-21T01:04:25.857524-08:00"
    },
    "run_control": {
     "marked": false
    }
   },
   "outputs": [
    {
     "name": "stdout",
     "output_type": "stream",
     "text": [
      "0   2012-01-01\n",
      "1   2012-01-02\n",
      "2   2012-01-03\n",
      "dtype: datetime64[ns]\n",
      "0   2012-02-01\n",
      "1   2012-02-02\n",
      "2   2012-02-03\n",
      "dtype: datetime64[ns]\n"
     ]
    }
   ],
   "source": [
    "# Offsets also works with Series / DataFrames (although might be slow since it is not vectorized).\n",
    "rng = pd.date_range(start='2012-01-01', end='2012-01-03', freq='1D')\n",
    "s = pd.Series(rng)\n",
    "print(s)\n",
    "\n",
    "print(s + pd.offsets.DateOffset(months=1))"
   ]
  },
  {
   "cell_type": "code",
   "execution_count": 78,
   "metadata": {
    "ExecuteTime": {
     "end_time": "2017-12-21T09:04:25.909642Z",
     "start_time": "2017-12-21T01:04:25.885760-08:00"
    },
    "run_control": {
     "marked": false
    }
   },
   "outputs": [
    {
     "name": "stdout",
     "output_type": "stream",
     "text": [
      "DatetimeIndex(['2012-01-01', '2012-01-04', '2012-01-07', '2012-01-10'], dtype='datetime64[ns]', freq='3D')\n",
      "DatetimeIndex(['2012-01-01', '2012-01-04', '2012-01-07', '2012-01-10'], dtype='datetime64[ns]', freq='3D')\n"
     ]
    }
   ],
   "source": [
    "# In general string aliases and offset objects are interchangeable.\n",
    "print(pd.date_range(start='2012-01-01', end='2012-01-10', freq='3D'))\n",
    "print(pd.date_range(start='2012-01-01', end='2012-01-10', freq=3 * pd.offsets.Day()))"
   ]
  },
  {
   "cell_type": "code",
   "execution_count": 79,
   "metadata": {
    "ExecuteTime": {
     "end_time": "2017-12-21T09:04:25.935817Z",
     "start_time": "2017-12-21T01:04:25.911693-08:00"
    },
    "run_control": {
     "marked": false
    }
   },
   "outputs": [
    {
     "data": {
      "text/plain": [
       "DatetimeIndex(['2011-01-01 00:00:00', '2011-01-01 02:20:00', '2011-01-01 04:40:00', '2011-01-01 07:00:00', '2011-01-01 09:20:00', '2011-01-01 11:40:00', '2011-01-01 14:00:00', '2011-01-01 16:20:00', '2011-01-01 18:40:00', '2011-01-01 21:00:00'], dtype='datetime64[ns]', freq='140T')"
      ]
     },
     "execution_count": 79,
     "metadata": {},
     "output_type": "execute_result"
    }
   ],
   "source": [
    "# One can combine day and intraday offsets in string offsets.\n",
    "pd.date_range(start, periods=10, freq=\"2h20min\")"
   ]
  },
  {
   "cell_type": "markdown",
   "metadata": {
    "run_control": {
     "marked": false
    }
   },
   "source": [
    "## Time series-related operations"
   ]
  },
  {
   "cell_type": "code",
   "execution_count": 80,
   "metadata": {
    "ExecuteTime": {
     "end_time": "2017-12-21T09:04:25.968856Z",
     "start_time": "2017-12-21T01:04:25.937473-08:00"
    },
    "run_control": {
     "marked": false
    }
   },
   "outputs": [
    {
     "data": {
      "text/plain": [
       "2012-01-01    0\n",
       "2012-01-02    1\n",
       "2012-01-03    2\n",
       "2012-01-04    3\n",
       "2012-01-05    4\n",
       "2012-01-06    5\n",
       "2012-01-07    6\n",
       "Freq: D, dtype: int64"
      ]
     },
     "execution_count": 80,
     "metadata": {},
     "output_type": "execute_result"
    }
   ],
   "source": [
    "idx = pd.date_range(start='2012-01-01', end='2012-01-07', freq='1D')\n",
    "ts = pd.Series(list(range(len(idx))), index=idx)\n",
    "ts"
   ]
  },
  {
   "cell_type": "code",
   "execution_count": 81,
   "metadata": {
    "ExecuteTime": {
     "end_time": "2017-12-21T09:04:26.002365Z",
     "start_time": "2017-12-21T01:04:25.970650-08:00"
    },
    "run_control": {
     "marked": false
    }
   },
   "outputs": [
    {
     "data": {
      "text/plain": [
       "2012-01-01    NaN\n",
       "2012-01-02    0.0\n",
       "2012-01-03    1.0\n",
       "2012-01-04    2.0\n",
       "2012-01-05    3.0\n",
       "2012-01-06    4.0\n",
       "2012-01-07    5.0\n",
       "Freq: D, dtype: float64"
      ]
     },
     "execution_count": 81,
     "metadata": {},
     "output_type": "execute_result"
    }
   ],
   "source": [
    "# Shift back, i.e., yesterday becomes today.\n",
    "# shift() doesn't change the time scale.\n",
    "ts.shift(1)"
   ]
  },
  {
   "cell_type": "code",
   "execution_count": 82,
   "metadata": {
    "ExecuteTime": {
     "end_time": "2017-12-21T09:04:26.038535Z",
     "start_time": "2017-12-21T01:04:26.004134-08:00"
    },
    "run_control": {
     "marked": false
    }
   },
   "outputs": [
    {
     "data": {
      "text/plain": [
       "2012-01-02    0\n",
       "2012-01-03    1\n",
       "2012-01-04    2\n",
       "2012-01-05    3\n",
       "2012-01-06    4\n",
       "2012-01-09    5\n",
       "2012-01-09    6\n",
       "dtype: int64"
      ]
     },
     "execution_count": 82,
     "metadata": {},
     "output_type": "execute_result"
    }
   ],
   "source": [
    "# By specifying a freq one can shift the time series, by shifting the time scale.\n",
    "# Note that the first element is not NA since the data is not being realigned.\n",
    "# ??? Weird that there are two 2012-01-09 now...\n",
    "ts.shift(1, freq=pd.offsets.BDay())"
   ]
  },
  {
   "cell_type": "markdown",
   "metadata": {
    "run_control": {
     "marked": false
    }
   },
   "source": [
    "## Frequency conversion\n",
    "\n",
    "http://pandas.pydata.org/pandas-docs/stable/timeseries.html#frequency-conversion\n",
    "\n",
    "- asfreq() allows to change frequency of a time series.\n",
    "- in practice it is equivalent to a call to date_range() and a call to reindex()"
   ]
  },
  {
   "cell_type": "code",
   "execution_count": 83,
   "metadata": {
    "ExecuteTime": {
     "end_time": "2017-12-21T09:04:26.073424Z",
     "start_time": "2017-12-21T01:04:26.040453-08:00"
    },
    "run_control": {
     "marked": false
    }
   },
   "outputs": [
    {
     "data": {
      "text/plain": [
       "2010-01-01   -0.804458\n",
       "2010-01-06    0.320932\n",
       "2010-01-11   -0.025483\n",
       "Freq: 3B, dtype: float64"
      ]
     },
     "execution_count": 83,
     "metadata": {},
     "output_type": "execute_result"
    }
   ],
   "source": [
    "np.random.seed(1000)\n",
    "idx = pd.date_range('1/1/2010', periods=3, freq=3 * pd.offsets.BDay())\n",
    "ts = pd.Series(np.random.randn(len(idx)), index=idx)\n",
    "\n",
    "ts"
   ]
  },
  {
   "cell_type": "code",
   "execution_count": 84,
   "metadata": {
    "ExecuteTime": {
     "end_time": "2017-12-21T09:04:26.107309Z",
     "start_time": "2017-12-21T01:04:26.075252-08:00"
    }
   },
   "outputs": [
    {
     "data": {
      "text/plain": [
       "2010-01-01   -0.804458\n",
       "2010-01-02         NaN\n",
       "2010-01-03         NaN\n",
       "2010-01-04         NaN\n",
       "2010-01-05         NaN\n",
       "2010-01-06    0.320932\n",
       "2010-01-07         NaN\n",
       "2010-01-08         NaN\n",
       "2010-01-09         NaN\n",
       "2010-01-10         NaN\n",
       "2010-01-11   -0.025483\n",
       "Freq: D, dtype: float64"
      ]
     },
     "execution_count": 84,
     "metadata": {},
     "output_type": "execute_result"
    }
   ],
   "source": [
    "# Sample using calendar days.\n",
    "ts.asfreq(pd.offsets.Day())"
   ]
  },
  {
   "cell_type": "code",
   "execution_count": 85,
   "metadata": {
    "ExecuteTime": {
     "end_time": "2017-12-21T09:04:26.139921Z",
     "start_time": "2017-12-21T01:04:26.109061-08:00"
    },
    "run_control": {
     "marked": false
    }
   },
   "outputs": [
    {
     "data": {
      "text/plain": [
       "2010-01-01   -0.804458\n",
       "2010-01-04         NaN\n",
       "2010-01-05         NaN\n",
       "2010-01-06    0.320932\n",
       "2010-01-07         NaN\n",
       "2010-01-08         NaN\n",
       "2010-01-11   -0.025483\n",
       "Freq: B, dtype: float64"
      ]
     },
     "execution_count": 85,
     "metadata": {},
     "output_type": "execute_result"
    }
   ],
   "source": [
    "# Sample using business days.\n",
    "ts.asfreq(pd.offsets.BDay())"
   ]
  },
  {
   "cell_type": "code",
   "execution_count": 86,
   "metadata": {
    "ExecuteTime": {
     "end_time": "2017-12-21T09:04:26.173305Z",
     "start_time": "2017-12-21T01:04:26.141552-08:00"
    },
    "run_control": {
     "marked": false
    }
   },
   "outputs": [
    {
     "data": {
      "text/plain": [
       "2010-01-01   -0.804458\n",
       "2010-01-04   -0.804458\n",
       "2010-01-05   -0.804458\n",
       "2010-01-06    0.320932\n",
       "2010-01-07    0.320932\n",
       "2010-01-08    0.320932\n",
       "2010-01-11   -0.025483\n",
       "Freq: B, dtype: float64"
      ]
     },
     "execution_count": 86,
     "metadata": {},
     "output_type": "execute_result"
    }
   ],
   "source": [
    "ts.asfreq(pd.offsets.BDay(), method='ffill')"
   ]
  },
  {
   "cell_type": "markdown",
   "metadata": {
    "run_control": {
     "marked": false
    }
   },
   "source": [
    "## Time span representation\n",
    "\n",
    "http://pandas.pydata.org/pandas-docs/stable/timeseries.html#time-span-representation\n",
    "\n",
    "- Period() represents a span of time\n",
    "- Regular intervals of time are represented by Period objects"
   ]
  },
  {
   "cell_type": "code",
   "execution_count": 87,
   "metadata": {
    "ExecuteTime": {
     "end_time": "2017-12-21T09:04:26.198341Z",
     "start_time": "2017-12-21T01:04:26.174931-08:00"
    },
    "run_control": {
     "marked": false
    }
   },
   "outputs": [
    {
     "name": "stdout",
     "output_type": "stream",
     "text": [
      "<class 'pandas._libs.period.Period'> 2012-01-01\n",
      "2012-01-02\n",
      "2011-12-29\n"
     ]
    }
   ],
   "source": [
    "# Arithmetic operations on periods.\n",
    "p = pd.Period('2012-1-1', freq='D')\n",
    "print(type(p), p)\n",
    "print(p + 1)\n",
    "print(p - 3)"
   ]
  },
  {
   "cell_type": "code",
   "execution_count": 88,
   "metadata": {
    "ExecuteTime": {
     "end_time": "2017-12-21T09:04:26.224259Z",
     "start_time": "2017-12-21T01:04:26.200797-08:00"
    }
   },
   "outputs": [
    {
     "name": "stdout",
     "output_type": "stream",
     "text": [
      "<class 'pandas._libs.tslib.Timestamp'> 2012-01-01 00:00:00\n",
      "2012-01-02 00:00:00\n",
      "2011-12-29 00:00:00\n"
     ]
    }
   ],
   "source": [
    "p = pd.Timestamp('2012-1-1', freq='D')\n",
    "print(type(p), p)\n",
    "print(p + 1)\n",
    "print(p - 3)"
   ]
  },
  {
   "cell_type": "code",
   "execution_count": 89,
   "metadata": {
    "ExecuteTime": {
     "end_time": "2017-12-21T09:04:26.248828Z",
     "start_time": "2017-12-21T01:04:26.225996-08:00"
    },
    "run_control": {
     "marked": false
    }
   },
   "outputs": [
    {
     "data": {
      "text/plain": [
       "PeriodIndex(['2011-01', '2011-02', '2011-03', '2011-04', '2011-05', '2011-06', '2011-07', '2011-08', '2011-09', '2011-10', '2011-11', '2011-12', '2012-01'], dtype='period[M]', freq='M')"
      ]
     },
     "execution_count": 89,
     "metadata": {},
     "output_type": "execute_result"
    }
   ],
   "source": [
    "prng = pd.period_range('1/1/2011', '1/1/2012', freq='M')\n",
    "prng"
   ]
  },
  {
   "cell_type": "code",
   "execution_count": 90,
   "metadata": {
    "ExecuteTime": {
     "end_time": "2017-12-21T09:04:26.271150Z",
     "start_time": "2017-12-21T01:04:26.250592-08:00"
    },
    "collapsed": true,
    "run_control": {
     "marked": false
    }
   },
   "outputs": [],
   "source": [
    "np.random.seed(1000)\n",
    "ts = pd.Series(np)"
   ]
  },
  {
   "cell_type": "markdown",
   "metadata": {},
   "source": [
    "## Time zone handling"
   ]
  },
  {
   "cell_type": "code",
   "execution_count": 91,
   "metadata": {
    "ExecuteTime": {
     "end_time": "2017-12-21T09:04:26.298057Z",
     "start_time": "2017-12-21T01:04:26.272877-08:00"
    }
   },
   "outputs": [
    {
     "name": "stdout",
     "output_type": "stream",
     "text": [
      "DatetimeIndex(['2012-03-06', '2012-03-07', '2012-03-08', '2012-03-09', '2012-03-10', '2012-03-11', '2012-03-12', '2012-03-13', '2012-03-14', '2012-03-15', '2012-03-16', '2012-03-17', '2012-03-18', '2012-03-19', '2012-03-20'], dtype='datetime64[ns]', freq='D')\n",
      "True\n"
     ]
    }
   ],
   "source": [
    "# By default pandas objects are time zone unaware.\n",
    "rng = pd.date_range('3/6/2012 00:00', periods=15, freq='D')\n",
    "print(rng)\n",
    "print(rng.tz is None)"
   ]
  },
  {
   "cell_type": "code",
   "execution_count": 92,
   "metadata": {
    "ExecuteTime": {
     "end_time": "2017-12-21T09:04:26.406809Z",
     "start_time": "2017-12-21T01:04:26.300124-08:00"
    }
   },
   "outputs": [
    {
     "name": "stdout",
     "output_type": "stream",
     "text": [
      "DatetimeIndex(['2012-03-06', '2012-03-07', '2012-03-08', '2012-03-09', '2012-03-10', '2012-03-11', '2012-03-12', '2012-03-13', '2012-03-14', '2012-03-15'], dtype='datetime64[ns, Europe/London]', freq='D')\n",
      "False\n",
      "Europe/London\n"
     ]
    }
   ],
   "source": [
    "# Using pandas timezone support.\n",
    "rng = pd.date_range('3/6/2012 00:00', periods=10, freq='D', tz='Europe/London')\n",
    "print(rng)\n",
    "print(rng.tz is None)\n",
    "print(rng.tz)"
   ]
  },
  {
   "cell_type": "code",
   "execution_count": 93,
   "metadata": {
    "ExecuteTime": {
     "end_time": "2017-12-21T09:04:26.431462Z",
     "start_time": "2017-12-21T01:04:26.408732-08:00"
    }
   },
   "outputs": [
    {
     "name": "stdout",
     "output_type": "stream",
     "text": [
      "DatetimeIndex(['2012-03-06', '2012-03-07', '2012-03-08', '2012-03-09', '2012-03-10', '2012-03-11', '2012-03-12', '2012-03-13', '2012-03-14', '2012-03-15'], dtype='datetime64[ns, Europe/London]', freq='D')\n"
     ]
    }
   ],
   "source": [
    "# Using pytz timezone.\n",
    "import pytz\n",
    "pytz_ = pytz.timezone('Europe/London')\n",
    "rng_pytz = pd.date_range('3/6/2012 00:00', periods=10, freq='D', tz=pytz_)\n",
    "print(rng_pytz)"
   ]
  },
  {
   "cell_type": "code",
   "execution_count": 94,
   "metadata": {
    "ExecuteTime": {
     "end_time": "2017-12-21T09:04:26.457646Z",
     "start_time": "2017-12-21T01:04:26.433003-08:00"
    }
   },
   "outputs": [
    {
     "name": "stdout",
     "output_type": "stream",
     "text": [
      "dt= <class 'pandas._libs.tslib.Timestamp'> 2000-02-01 00:00:00\n",
      "dt= <class 'pandas._libs.tslib.Timestamp'> 2000-02-01 00:00:00-05:00\n"
     ]
    }
   ],
   "source": [
    "# tz_localize() just forces a tz-unaware datetime to become aware of\n",
    "# the passed tz. It's up to the caller to know how to interpret the \n",
    "# date time.\n",
    "# datetime() doesn't have tz_localize method.\n",
    "dt = pd.to_datetime(datetime.date(2000, 2, 1))\n",
    "print(\"dt=\", type(dt), dt)\n",
    "\n",
    "# datetime() doesn't have tz_localize method.\n",
    "print(\"dt=\", type(dt), dt.tz_localize('US/Eastern'))"
   ]
  },
  {
   "cell_type": "code",
   "execution_count": 95,
   "metadata": {
    "ExecuteTime": {
     "end_time": "2017-12-21T09:04:26.483343Z",
     "start_time": "2017-12-21T01:04:26.459365-08:00"
    }
   },
   "outputs": [
    {
     "name": "stdout",
     "output_type": "stream",
     "text": [
      "dt= <class 'pandas._libs.tslib.Timestamp'> 2000-02-01 00:00:00\n",
      "dt= <class 'pandas._libs.tslib.Timestamp'> 2000-02-01 00:00:00+00:00\n",
      "dt= <class 'pandas._libs.tslib.Timestamp'> 2000-01-31 19:00:00-05:00\n"
     ]
    }
   ],
   "source": [
    "# Once a datetime is localized, one can represent the same data with\n",
    "# different timezones.\n",
    "dt = pd.to_datetime(datetime.date(2000, 2, 1))\n",
    "print(\"dt=\", type(dt), dt)\n",
    "\n",
    "dt = dt.tz_localize('UTC')\n",
    "print(\"dt=\", type(dt), dt)\n",
    "\n",
    "dt = dt.tz_convert('US/Eastern')\n",
    "print(\"dt=\", type(dt), dt)"
   ]
  },
  {
   "cell_type": "code",
   "execution_count": 96,
   "metadata": {
    "ExecuteTime": {
     "end_time": "2017-12-21T09:04:26.513231Z",
     "start_time": "2017-12-21T01:04:26.485001-08:00"
    }
   },
   "outputs": [
    {
     "name": "stdout",
     "output_type": "stream",
     "text": [
      "2012-03-06   -0.804458\n",
      "2012-03-07    0.320932\n",
      "2012-03-08   -0.025483\n",
      "Freq: D, dtype: float64\n",
      "\n",
      "2012-03-06 00:00:00+00:00   -0.804458\n",
      "2012-03-07 00:00:00+00:00    0.320932\n",
      "2012-03-08 00:00:00+00:00   -0.025483\n",
      "Freq: D, dtype: float64\n",
      "\n",
      "2012-03-05 19:00:00-05:00   -0.804458\n",
      "2012-03-06 19:00:00-05:00    0.320932\n",
      "2012-03-07 19:00:00-05:00   -0.025483\n",
      "Freq: D, dtype: float64\n"
     ]
    }
   ],
   "source": [
    "# Localize and convert to timezone aware.\n",
    "np.random.seed(1000)\n",
    "rng = pd.date_range('3/6/2012 00:00', periods=15, freq='D')\n",
    "ts = pd.Series(np.random.randn(len(rng)), rng)\n",
    "print(ts.head(3))\n",
    "\n",
    "ts_utc = ts.tz_localize('UTC')\n",
    "print(\"\\n\", ts_utc.head(3))\n",
    "\n",
    "print(\"\\n\", ts_utc.tz_convert('US/Eastern').head(3))"
   ]
  },
  {
   "cell_type": "code",
   "execution_count": 97,
   "metadata": {
    "ExecuteTime": {
     "end_time": "2017-12-21T09:04:26.544043Z",
     "start_time": "2017-12-21T01:04:26.514750-08:00"
    }
   },
   "outputs": [
    {
     "data": {
      "text/plain": [
       "2012-03-06   -0.804458\n",
       "2012-03-07    0.320932\n",
       "2012-03-08   -0.025483\n",
       "Freq: D, dtype: float64"
      ]
     },
     "execution_count": 97,
     "metadata": {},
     "output_type": "execute_result"
    }
   ],
   "source": [
    "# To remove localization.\n",
    "ts_utc.tz_localize(None).head(3)"
   ]
  }
 ],
 "metadata": {
  "kernelspec": {
   "display_name": "Python [default]",
   "language": "python",
   "name": "python3"
  },
  "language_info": {
   "codemirror_mode": {
    "name": "ipython",
    "version": 3
   },
   "file_extension": ".py",
   "mimetype": "text/x-python",
   "name": "python",
   "nbconvert_exporter": "python",
   "pygments_lexer": "ipython3",
   "version": "3.7.1"
  },
  "toc": {
   "colors": {
    "hover_highlight": "#DAA520",
    "running_highlight": "#FF0000",
    "selected_highlight": "#FFD700"
   },
   "moveMenuLeft": true,
   "nav_menu": {
    "height": "512px",
    "width": "252px"
   },
   "navigate_menu": true,
   "number_sections": true,
   "sideBar": true,
   "skip_h1_title": false,
   "threshold": 4,
   "toc_cell": true,
   "toc_position": {
    "height": "1381px",
    "left": "0px",
    "right": "1210.23px",
    "top": "107px",
    "width": "299px"
   },
   "toc_section_display": "block",
   "toc_window_display": true
  }
 },
 "nbformat": 4,
 "nbformat_minor": 1
}