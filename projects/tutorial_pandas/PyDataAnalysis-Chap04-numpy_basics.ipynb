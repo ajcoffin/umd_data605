{
 "cells": [
  {
   "cell_type": "markdown",
   "metadata": {
    "toc": "true"
   },
   "source": [
    "<h1>Table of Contents<span class=\"tocSkip\"></span></h1>\n",
    "<div class=\"toc\"><ul class=\"toc-item\"><li><span><a href=\"#numpy-ndarray\" data-toc-modified-id=\"numpy-ndarray-1\"><span class=\"toc-item-num\">1&nbsp;&nbsp;</span>numpy ndarray</a></span><ul class=\"toc-item\"><li><span><a href=\"#Creating-arrays\" data-toc-modified-id=\"Creating-arrays-1.1\"><span class=\"toc-item-num\">1.1&nbsp;&nbsp;</span>Creating arrays</a></span></li><li><span><a href=\"#Data-types\" data-toc-modified-id=\"Data-types-1.2\"><span class=\"toc-item-num\">1.2&nbsp;&nbsp;</span>Data types</a></span></li><li><span><a href=\"#Operations-between-Arrays-and-Scalar\" data-toc-modified-id=\"Operations-between-Arrays-and-Scalar-1.3\"><span class=\"toc-item-num\">1.3&nbsp;&nbsp;</span>Operations between Arrays and Scalar</a></span></li><li><span><a href=\"#Basic-index-and-slicing\" data-toc-modified-id=\"Basic-index-and-slicing-1.4\"><span class=\"toc-item-num\">1.4&nbsp;&nbsp;</span>Basic index and slicing</a></span><ul class=\"toc-item\"><li><span><a href=\"#Indexing-with-slices.\" data-toc-modified-id=\"Indexing-with-slices.-1.4.1\"><span class=\"toc-item-num\">1.4.1&nbsp;&nbsp;</span>Indexing with slices.</a></span></li></ul></li><li><span><a href=\"#Boolean-indexing\" data-toc-modified-id=\"Boolean-indexing-1.5\"><span class=\"toc-item-num\">1.5&nbsp;&nbsp;</span>Boolean indexing</a></span></li><li><span><a href=\"#Fancy-indexing\" data-toc-modified-id=\"Fancy-indexing-1.6\"><span class=\"toc-item-num\">1.6&nbsp;&nbsp;</span>Fancy indexing</a></span></li><li><span><a href=\"#Transposing-arrays-and-swapping-axes.\" data-toc-modified-id=\"Transposing-arrays-and-swapping-axes.-1.7\"><span class=\"toc-item-num\">1.7&nbsp;&nbsp;</span>Transposing arrays and swapping axes.</a></span></li><li><span><a href=\"#Universal-functions\" data-toc-modified-id=\"Universal-functions-1.8\"><span class=\"toc-item-num\">1.8&nbsp;&nbsp;</span>Universal functions</a></span></li></ul></li><li><span><a href=\"#Data-processing-using-arrays\" data-toc-modified-id=\"Data-processing-using-arrays-2\"><span class=\"toc-item-num\">2&nbsp;&nbsp;</span>Data processing using arrays</a></span><ul class=\"toc-item\"><li><span><a href=\"#Expressing-conditional-logic-as-array-operations.\" data-toc-modified-id=\"Expressing-conditional-logic-as-array-operations.-2.1\"><span class=\"toc-item-num\">2.1&nbsp;&nbsp;</span>Expressing conditional logic as array operations.</a></span></li><li><span><a href=\"#Mathematical-and-statistical-methods\" data-toc-modified-id=\"Mathematical-and-statistical-methods-2.2\"><span class=\"toc-item-num\">2.2&nbsp;&nbsp;</span>Mathematical and statistical methods</a></span></li><li><span><a href=\"#Unique-and-set-logic\" data-toc-modified-id=\"Unique-and-set-logic-2.3\"><span class=\"toc-item-num\">2.3&nbsp;&nbsp;</span>Unique and set logic</a></span></li></ul></li><li><span><a href=\"#File-input-and-output\" data-toc-modified-id=\"File-input-and-output-3\"><span class=\"toc-item-num\">3&nbsp;&nbsp;</span>File input and output</a></span><ul class=\"toc-item\"><li><span><a href=\"#Storing-arrays-on-disk-in-binary-form.\" data-toc-modified-id=\"Storing-arrays-on-disk-in-binary-form.-3.1\"><span class=\"toc-item-num\">3.1&nbsp;&nbsp;</span>Storing arrays on disk in binary form.</a></span></li></ul></li><li><span><a href=\"#Linear-algebra\" data-toc-modified-id=\"Linear-algebra-4\"><span class=\"toc-item-num\">4&nbsp;&nbsp;</span>Linear algebra</a></span></li><li><span><a href=\"#Random-number-generator\" data-toc-modified-id=\"Random-number-generator-5\"><span class=\"toc-item-num\">5&nbsp;&nbsp;</span><strong>Random number generator</strong></a></span><ul class=\"toc-item\"><li><span><a href=\"#Random-walks\" data-toc-modified-id=\"Random-walks-5.1\"><span class=\"toc-item-num\">5.1&nbsp;&nbsp;</span><strong>Random walks</strong></a></span></li></ul></li></ul></div>"
   ]
  },
  {
   "cell_type": "markdown",
   "metadata": {},
   "source": [
    "- numpy (numerical python)\n",
    "\n",
    "- high performance scientific computing and data analysis\n",
    "- `ndarray` = fast space-efficient multidim array with\n",
    "    - vectorized arithmetic operations (no loops)\n",
    "    - sophisticated broadcasting capabilities\n",
    "- sorting, unique, set operation\n",
    "- data alignment\n",
    "- reading / writing arrays to disk and memory-mapped files\n",
    "- linear algebra\n",
    "- random number generation\n",
    "- FFT, ...\n",
    "- tools for integrating code with C, C++, Fortran\n",
    "    - easy C API to call external libraries"
   ]
  },
  {
   "cell_type": "code",
   "execution_count": 1,
   "metadata": {
    "ExecuteTime": {
     "end_time": "2022-12-12T09:32:19.877450Z",
     "start_time": "2022-12-12T09:32:19.775585Z"
    }
   },
   "outputs": [],
   "source": [
    "import numpy as np"
   ]
  },
  {
   "cell_type": "markdown",
   "metadata": {},
   "source": [
    "# numpy ndarray\n",
    "\n",
    "- ndarray = N-Dim array object"
   ]
  },
  {
   "cell_type": "markdown",
   "metadata": {},
   "source": [
    "## Creating arrays"
   ]
  },
  {
   "cell_type": "code",
   "execution_count": 2,
   "metadata": {
    "ExecuteTime": {
     "end_time": "2022-12-12T09:32:19.890220Z",
     "start_time": "2022-12-12T09:32:19.884213Z"
    }
   },
   "outputs": [
    {
     "name": "stdout",
     "output_type": "stream",
     "text": [
      "arr1= [6.  7.5 8.  0.  1. ]\n",
      "arr1.shape= (5,)\n",
      "arr1.dtype= float64\n"
     ]
    }
   ],
   "source": [
    "# From sequence-like object to ndarray.\n",
    "data1 = [6, 7.5, 8, 0, 1]\n",
    "\n",
    "arr1 = np.array(data1)\n",
    "\n",
    "print(\"arr1=\", arr1)\n",
    "# It's like a vector not a matrix.\n",
    "print(\"arr1.shape=\", arr1.shape)\n",
    "print(\"arr1.dtype=\", arr1.dtype)"
   ]
  },
  {
   "cell_type": "code",
   "execution_count": 3,
   "metadata": {
    "ExecuteTime": {
     "end_time": "2022-12-12T09:32:19.900778Z",
     "start_time": "2022-12-12T09:32:19.893102Z"
    }
   },
   "outputs": [
    {
     "name": "stdout",
     "output_type": "stream",
     "text": [
      "arr2=\n",
      " [[1 2 3 4]\n",
      " [5 6 7 8]]\n",
      "arr2.shape= (2, 4)\n",
      "arr2.dtype= int64\n"
     ]
    }
   ],
   "source": [
    "data2 = [[1, 2, 3, 4], [5, 6, 7, 8]]\n",
    "arr2 = np.array(data2)\n",
    "\n",
    "print(\"arr2=\\n\", arr2)\n",
    "print(\"arr2.shape=\", arr2.shape)\n",
    "# np.array() tries to infer the right type, if not done explicitly.\n",
    "print(\"arr2.dtype=\", arr2.dtype)"
   ]
  },
  {
   "cell_type": "code",
   "execution_count": 4,
   "metadata": {
    "ExecuteTime": {
     "end_time": "2022-12-12T09:32:19.924862Z",
     "start_time": "2022-12-12T09:32:19.906882Z"
    }
   },
   "outputs": [
    {
     "data": {
      "text/plain": [
       "array([0., 0., 0., 0., 0., 0., 0., 0., 0., 0.])"
      ]
     },
     "execution_count": 4,
     "metadata": {},
     "output_type": "execute_result"
    }
   ],
   "source": [
    "np.zeros(10)"
   ]
  },
  {
   "cell_type": "code",
   "execution_count": 5,
   "metadata": {
    "ExecuteTime": {
     "end_time": "2022-12-12T09:32:19.943915Z",
     "start_time": "2022-12-12T09:32:19.931791Z"
    }
   },
   "outputs": [
    {
     "data": {
      "text/plain": [
       "array([[0., 0., 0., 0., 0., 0.],\n",
       "       [0., 0., 0., 0., 0., 0.],\n",
       "       [0., 0., 0., 0., 0., 0.]])"
      ]
     },
     "execution_count": 5,
     "metadata": {},
     "output_type": "execute_result"
    }
   ],
   "source": [
    "np.zeros((3, 6))"
   ]
  },
  {
   "cell_type": "code",
   "execution_count": 6,
   "metadata": {
    "ExecuteTime": {
     "end_time": "2022-12-12T09:32:19.962155Z",
     "start_time": "2022-12-12T09:32:19.950976Z"
    }
   },
   "outputs": [
    {
     "data": {
      "text/plain": [
       "array([[0, 0, 0, 0],\n",
       "       [0, 0, 0, 0]])"
      ]
     },
     "execution_count": 6,
     "metadata": {},
     "output_type": "execute_result"
    }
   ],
   "source": [
    "np.zeros_like(arr2)"
   ]
  },
  {
   "cell_type": "code",
   "execution_count": 7,
   "metadata": {
    "ExecuteTime": {
     "end_time": "2022-12-12T09:32:19.977972Z",
     "start_time": "2022-12-12T09:32:19.966130Z"
    }
   },
   "outputs": [
    {
     "data": {
      "text/plain": [
       "array([[[2.48464981e-316, 0.00000000e+000],\n",
       "        [1.03977794e-312, 9.54898106e-313],\n",
       "        [1.06099790e-312, 1.01855798e-312]],\n",
       "\n",
       "       [[1.23075756e-312, 1.06099790e-312],\n",
       "        [1.03977794e-312, 9.76118064e-313],\n",
       "        [1.18831764e-312, 1.90979621e-312]]])"
      ]
     },
     "execution_count": 7,
     "metadata": {},
     "output_type": "execute_result"
    }
   ],
   "source": [
    "# Returns unitialized garbage values.\n",
    "np.empty((2, 3, 2))"
   ]
  },
  {
   "cell_type": "code",
   "execution_count": 8,
   "metadata": {
    "ExecuteTime": {
     "end_time": "2022-12-12T09:32:20.006550Z",
     "start_time": "2022-12-12T09:32:19.982481Z"
    }
   },
   "outputs": [
    {
     "data": {
      "text/plain": [
       "array([ 0,  1,  2,  3,  4,  5,  6,  7,  8,  9, 10, 11, 12, 13, 14])"
      ]
     },
     "execution_count": 8,
     "metadata": {},
     "output_type": "execute_result"
    }
   ],
   "source": [
    "np.arange(15)"
   ]
  },
  {
   "cell_type": "code",
   "execution_count": 9,
   "metadata": {
    "ExecuteTime": {
     "end_time": "2022-12-12T09:32:20.019951Z",
     "start_time": "2022-12-12T09:32:20.011269Z"
    }
   },
   "outputs": [
    {
     "data": {
      "text/plain": [
       "array([[1., 0., 0., 0., 0.],\n",
       "       [0., 1., 0., 0., 0.],\n",
       "       [0., 0., 1., 0., 0.],\n",
       "       [0., 0., 0., 1., 0.],\n",
       "       [0., 0., 0., 0., 1.]])"
      ]
     },
     "execution_count": 9,
     "metadata": {},
     "output_type": "execute_result"
    }
   ],
   "source": [
    "np.eye(5)"
   ]
  },
  {
   "cell_type": "markdown",
   "metadata": {
    "ExecuteTime": {
     "end_time": "2017-12-22T09:45:49.155877Z",
     "start_time": "2017-12-22T01:45:49.141343-08:00"
    }
   },
   "source": [
    "## Data types\n",
    "\n",
    "- map directly onto machine representation\n",
    "    - `int*, uint*`\n",
    "    - `float*`\n",
    "    - `complex*`\n",
    "    - `bool`\n",
    "    - `object` (python object)\n",
    "    - `string*` (fixed length string)\n",
    "    - `unicode*` (fixed length unicode, num of bytes depending on machine)\n",
    "- easy to read / write to disk\n",
    "- easy to interface with low-level code in C and Fortran\n"
   ]
  },
  {
   "cell_type": "code",
   "execution_count": 10,
   "metadata": {
    "ExecuteTime": {
     "end_time": "2022-12-12T09:32:20.031520Z",
     "start_time": "2022-12-12T09:32:20.025334Z"
    }
   },
   "outputs": [
    {
     "name": "stdout",
     "output_type": "stream",
     "text": [
      "[1. 2. 3.]\n"
     ]
    }
   ],
   "source": [
    "arr1 = np.array([1, 2, 3], dtype=np.float64)\n",
    "print(arr1)"
   ]
  },
  {
   "cell_type": "code",
   "execution_count": 11,
   "metadata": {
    "ExecuteTime": {
     "end_time": "2022-12-12T09:32:20.047240Z",
     "start_time": "2022-12-12T09:32:20.038952Z"
    }
   },
   "outputs": [
    {
     "name": "stdout",
     "output_type": "stream",
     "text": [
      "[-1  2  3]\n"
     ]
    }
   ],
   "source": [
    "arr2 = np.array([-1, 2, 3], dtype=np.int32)\n",
    "print(arr2)"
   ]
  },
  {
   "cell_type": "code",
   "execution_count": 12,
   "metadata": {
    "ExecuteTime": {
     "end_time": "2022-12-12T09:32:20.057635Z",
     "start_time": "2022-12-12T09:32:20.050717Z"
    }
   },
   "outputs": [
    {
     "name": "stdout",
     "output_type": "stream",
     "text": [
      "[4294967295          2          3]\n"
     ]
    }
   ],
   "source": [
    "arr2 = np.array([-1, 2, 3], dtype=np.uint32)\n",
    "print(arr2)"
   ]
  },
  {
   "cell_type": "code",
   "execution_count": 13,
   "metadata": {
    "ExecuteTime": {
     "end_time": "2022-12-12T09:32:20.071515Z",
     "start_time": "2022-12-12T09:32:20.062016Z"
    }
   },
   "outputs": [
    {
     "name": "stdout",
     "output_type": "stream",
     "text": [
      "[1 2 3 4 5]\n",
      "int64\n",
      "[1. 2. 3. 4. 5.]\n",
      "float64\n"
     ]
    }
   ],
   "source": [
    "# Cast an array from one type to another.\n",
    "# It always create a new array even if dtype is not changed.\n",
    "arr = np.array([1, 2, 3, 4, 5])\n",
    "print(arr)\n",
    "print(arr.dtype)\n",
    "\n",
    "float_arr = arr.astype(np.float64)\n",
    "print(float_arr)\n",
    "print(float_arr.dtype)"
   ]
  },
  {
   "cell_type": "code",
   "execution_count": 14,
   "metadata": {
    "ExecuteTime": {
     "end_time": "2022-12-12T09:32:20.085439Z",
     "start_time": "2022-12-12T09:32:20.075617Z"
    }
   },
   "outputs": [
    {
     "name": "stdout",
     "output_type": "stream",
     "text": [
      "[b'1.25' b'-9.6' b'42']\n",
      "|S4\n",
      "[ 1.25 -9.6  42.  ]\n"
     ]
    }
   ],
   "source": [
    "str_arr = np.array(['1.25', '-9.6', '42'], dtype=np.string_)\n",
    "print(str_arr)\n",
    "print(str_arr.dtype)\n",
    "\n",
    "print(str_arr.astype(float))"
   ]
  },
  {
   "cell_type": "markdown",
   "metadata": {},
   "source": [
    "## Operations between Arrays and Scalar\n",
    "\n",
    "- One can express operations on data without for loops"
   ]
  },
  {
   "cell_type": "code",
   "execution_count": 15,
   "metadata": {
    "ExecuteTime": {
     "end_time": "2022-12-12T09:32:20.098646Z",
     "start_time": "2022-12-12T09:32:20.089910Z"
    }
   },
   "outputs": [
    {
     "name": "stdout",
     "output_type": "stream",
     "text": [
      "[[ 2.  4.  6.]\n",
      " [ 8. 10. 12.]]\n",
      "[[1.         0.5        0.33333333]\n",
      " [0.25       0.2        0.16666667]]\n",
      "[[ 1.  4.  9.]\n",
      " [16. 25. 36.]]\n",
      "[[1.         1.41421356 1.73205081]\n",
      " [2.         2.23606798 2.44948974]]\n"
     ]
    }
   ],
   "source": [
    "arr = np.array([[1., 2., 3.], [4., 5., 6.]])\n",
    "\n",
    "print(arr + arr)\n",
    "# Broadcast.\n",
    "print(1 / arr)\n",
    "print(arr * arr)\n",
    "print(arr ** 0.5)"
   ]
  },
  {
   "cell_type": "markdown",
   "metadata": {
    "ExecuteTime": {
     "end_time": "2017-12-22T09:54:07.604942Z",
     "start_time": "2017-12-22T01:54:07.589855-08:00"
    }
   },
   "source": [
    "## Basic index and slicing"
   ]
  },
  {
   "cell_type": "code",
   "execution_count": 16,
   "metadata": {
    "ExecuteTime": {
     "end_time": "2022-12-12T09:32:20.111588Z",
     "start_time": "2022-12-12T09:32:20.101455Z"
    }
   },
   "outputs": [
    {
     "name": "stdout",
     "output_type": "stream",
     "text": [
      "[0 1 2 3 4 5 6 7 8 9]\n",
      "5\n",
      "[5 6 7]\n"
     ]
    }
   ],
   "source": [
    "arr = np.arange(10)\n",
    "\n",
    "print(arr)\n",
    "\n",
    "print(arr[5])\n",
    "print(arr[5:8])"
   ]
  },
  {
   "cell_type": "code",
   "execution_count": 17,
   "metadata": {
    "ExecuteTime": {
     "end_time": "2022-12-12T09:32:20.121511Z",
     "start_time": "2022-12-12T09:32:20.115258Z"
    }
   },
   "outputs": [
    {
     "name": "stdout",
     "output_type": "stream",
     "text": [
      "[ 0  1  2  3  4 12 12 12  8  9]\n"
     ]
    }
   ],
   "source": [
    "# Broadcasting write.\n",
    "arr[5:8]= 12\n",
    "print(arr)"
   ]
  },
  {
   "cell_type": "code",
   "execution_count": 18,
   "metadata": {
    "ExecuteTime": {
     "end_time": "2022-12-12T09:32:20.151812Z",
     "start_time": "2022-12-12T09:32:20.129958Z"
    }
   },
   "outputs": [
    {
     "name": "stdout",
     "output_type": "stream",
     "text": [
      "[12 12 12]\n",
      "[   12 12345    12]\n",
      "[64 64 64]\n",
      "[ 0  1  2  3  4 64 64 64  8  9]\n"
     ]
    }
   ],
   "source": [
    "# Slices are \"views\" on the original array. No data is copied.\n",
    "\n",
    "arr_slice = arr[5:8]\n",
    "print(arr_slice)\n",
    "\n",
    "arr_slice[1] = 12345\n",
    "print(arr_slice)\n",
    "\n",
    "arr_slice[:] = 64\n",
    "print(arr_slice)\n",
    "\n",
    "print(arr)"
   ]
  },
  {
   "cell_type": "code",
   "execution_count": 19,
   "metadata": {
    "ExecuteTime": {
     "end_time": "2022-12-12T09:32:20.165581Z",
     "start_time": "2022-12-12T09:32:20.156089Z"
    }
   },
   "outputs": [
    {
     "name": "stdout",
     "output_type": "stream",
     "text": [
      "[[1 2 3]\n",
      " [4 5 6]\n",
      " [7 8 9]]\n"
     ]
    }
   ],
   "source": [
    "arr2d = np.array([[1, 2, 3], [4, 5, 6], [7, 8, 9]])\n",
    "print(arr2d)"
   ]
  },
  {
   "cell_type": "code",
   "execution_count": 20,
   "metadata": {
    "ExecuteTime": {
     "end_time": "2022-12-12T09:32:20.175817Z",
     "start_time": "2022-12-12T09:32:20.170311Z"
    }
   },
   "outputs": [
    {
     "name": "stdout",
     "output_type": "stream",
     "text": [
      "[7 8 9]\n"
     ]
    }
   ],
   "source": [
    "print(arr2d[2])"
   ]
  },
  {
   "cell_type": "code",
   "execution_count": 21,
   "metadata": {
    "ExecuteTime": {
     "end_time": "2022-12-12T09:32:20.184914Z",
     "start_time": "2022-12-12T09:32:20.179873Z"
    }
   },
   "outputs": [
    {
     "name": "stdout",
     "output_type": "stream",
     "text": [
      "7\n"
     ]
    }
   ],
   "source": [
    "print(arr2d[2][0])"
   ]
  },
  {
   "cell_type": "code",
   "execution_count": 22,
   "metadata": {
    "ExecuteTime": {
     "end_time": "2022-12-12T09:32:20.195639Z",
     "start_time": "2022-12-12T09:32:20.188689Z"
    }
   },
   "outputs": [
    {
     "name": "stdout",
     "output_type": "stream",
     "text": [
      "[[[ 1  2  3]\n",
      "  [ 4  5  6]]\n",
      "\n",
      " [[ 7  8  9]\n",
      "  [10 11 12]]]\n",
      "(2, 2, 3)\n"
     ]
    }
   ],
   "source": [
    "arr3d = np.array([[[1, 2, 3], [4, 5, 6]], [[7, 8, 9], [10, 11, 12]]])\n",
    "print(arr3d)\n",
    "print(arr3d.shape)"
   ]
  },
  {
   "cell_type": "code",
   "execution_count": 23,
   "metadata": {
    "ExecuteTime": {
     "end_time": "2022-12-12T09:32:20.205052Z",
     "start_time": "2022-12-12T09:32:20.199819Z"
    }
   },
   "outputs": [
    {
     "name": "stdout",
     "output_type": "stream",
     "text": [
      "[[1 2 3]\n",
      " [4 5 6]]\n"
     ]
    }
   ],
   "source": [
    "# Fixing the first index, returns a 2x3 array.\n",
    "print(arr3d[0])"
   ]
  },
  {
   "cell_type": "code",
   "execution_count": 24,
   "metadata": {
    "ExecuteTime": {
     "end_time": "2022-12-12T09:32:20.214512Z",
     "start_time": "2022-12-12T09:32:20.209608Z"
    }
   },
   "outputs": [
    {
     "name": "stdout",
     "output_type": "stream",
     "text": [
      "[[[42 42 42]\n",
      "  [42 42 42]]\n",
      "\n",
      " [[ 7  8  9]\n",
      "  [10 11 12]]]\n"
     ]
    }
   ],
   "source": [
    "arr3d[0] = 42\n",
    "\n",
    "print(arr3d)"
   ]
  },
  {
   "cell_type": "code",
   "execution_count": 25,
   "metadata": {
    "ExecuteTime": {
     "end_time": "2022-12-12T09:32:20.224696Z",
     "start_time": "2022-12-12T09:32:20.218627Z"
    }
   },
   "outputs": [
    {
     "name": "stdout",
     "output_type": "stream",
     "text": [
      "[7 8 9]\n",
      "[7 8 9]\n"
     ]
    }
   ],
   "source": [
    "# Return all the values whose indices start with (1, 0), i.e.,\n",
    "# a 1-d array.\n",
    "print(arr3d[1][0])\n",
    "print(arr3d[1, 0])"
   ]
  },
  {
   "cell_type": "markdown",
   "metadata": {},
   "source": [
    "### Indexing with slices."
   ]
  },
  {
   "cell_type": "code",
   "execution_count": 26,
   "metadata": {
    "ExecuteTime": {
     "end_time": "2022-12-12T09:32:20.235281Z",
     "start_time": "2022-12-12T09:32:20.228000Z"
    }
   },
   "outputs": [
    {
     "data": {
      "text/plain": [
       "array([[1, 2, 3],\n",
       "       [4, 5, 6],\n",
       "       [7, 8, 9]])"
      ]
     },
     "execution_count": 26,
     "metadata": {},
     "output_type": "execute_result"
    }
   ],
   "source": [
    "arr2d"
   ]
  },
  {
   "cell_type": "code",
   "execution_count": 27,
   "metadata": {
    "ExecuteTime": {
     "end_time": "2022-12-12T09:32:20.244479Z",
     "start_time": "2022-12-12T09:32:20.239058Z"
    }
   },
   "outputs": [
    {
     "name": "stdout",
     "output_type": "stream",
     "text": [
      "[[1 2 3]\n",
      " [4 5 6]]\n",
      "(2, 3)\n"
     ]
    }
   ],
   "source": [
    "# Slice first index, i.e., columns.\n",
    "print(arr2d[:2])\n",
    "print(arr2d[:2].shape)"
   ]
  },
  {
   "cell_type": "code",
   "execution_count": 28,
   "metadata": {
    "ExecuteTime": {
     "end_time": "2022-12-12T09:32:20.263945Z",
     "start_time": "2022-12-12T09:32:20.257035Z"
    }
   },
   "outputs": [
    {
     "data": {
      "text/plain": [
       "array([[2, 3],\n",
       "       [5, 6]])"
      ]
     },
     "execution_count": 28,
     "metadata": {},
     "output_type": "execute_result"
    }
   ],
   "source": [
    "arr2d[:2, 1:]"
   ]
  },
  {
   "cell_type": "code",
   "execution_count": 29,
   "metadata": {
    "ExecuteTime": {
     "end_time": "2022-12-12T09:32:20.278186Z",
     "start_time": "2022-12-12T09:32:20.267570Z"
    }
   },
   "outputs": [
    {
     "data": {
      "text/plain": [
       "array([4, 5])"
      ]
     },
     "execution_count": 29,
     "metadata": {},
     "output_type": "execute_result"
    }
   ],
   "source": [
    "arr2d[1, :2]"
   ]
  },
  {
   "cell_type": "code",
   "execution_count": 30,
   "metadata": {
    "ExecuteTime": {
     "end_time": "2022-12-12T09:32:20.289284Z",
     "start_time": "2022-12-12T09:32:20.282935Z"
    }
   },
   "outputs": [
    {
     "data": {
      "text/plain": [
       "array([7])"
      ]
     },
     "execution_count": 30,
     "metadata": {},
     "output_type": "execute_result"
    }
   ],
   "source": [
    "arr2d[2, :1]"
   ]
  },
  {
   "cell_type": "code",
   "execution_count": 31,
   "metadata": {
    "ExecuteTime": {
     "end_time": "2022-12-12T09:32:20.300735Z",
     "start_time": "2022-12-12T09:32:20.294097Z"
    }
   },
   "outputs": [
    {
     "data": {
      "text/plain": [
       "array([[1],\n",
       "       [4],\n",
       "       [7]])"
      ]
     },
     "execution_count": 31,
     "metadata": {},
     "output_type": "execute_result"
    }
   ],
   "source": [
    "# A colon : means \"the entire axis\"\n",
    "arr2d[:, :1]"
   ]
  },
  {
   "cell_type": "markdown",
   "metadata": {},
   "source": [
    "## Boolean indexing"
   ]
  },
  {
   "cell_type": "code",
   "execution_count": 32,
   "metadata": {
    "ExecuteTime": {
     "end_time": "2022-12-12T09:32:20.310185Z",
     "start_time": "2022-12-12T09:32:20.304520Z"
    }
   },
   "outputs": [
    {
     "name": "stdout",
     "output_type": "stream",
     "text": [
      "['Bob' 'Joe' 'Will' 'Bob' 'Will' 'Joe' 'Joe']\n",
      "array(['Bob', 'Joe', 'Will', 'Bob', 'Will', 'Joe', 'Joe'], dtype='<U4')\n"
     ]
    }
   ],
   "source": [
    "names = np.array(['Bob', 'Joe', 'Will', 'Bob', 'Will', 'Joe', 'Joe'])\n",
    "\n",
    "print(str(names))\n",
    "print(repr(names))"
   ]
  },
  {
   "cell_type": "code",
   "execution_count": 33,
   "metadata": {
    "ExecuteTime": {
     "end_time": "2022-12-12T09:32:20.321111Z",
     "start_time": "2022-12-12T09:32:20.314231Z"
    }
   },
   "outputs": [
    {
     "name": "stdout",
     "output_type": "stream",
     "text": [
      "[[ 0.49671415 -0.1382643   0.64768854  1.52302986]\n",
      " [-0.23415337 -0.23413696  1.57921282  0.76743473]\n",
      " [-0.46947439  0.54256004 -0.46341769 -0.46572975]\n",
      " [ 0.24196227 -1.91328024 -1.72491783 -0.56228753]\n",
      " [-1.01283112  0.31424733 -0.90802408 -1.4123037 ]\n",
      " [ 1.46564877 -0.2257763   0.0675282  -1.42474819]\n",
      " [-0.54438272  0.11092259 -1.15099358  0.37569802]]\n"
     ]
    }
   ],
   "source": [
    "np.random.seed(42)\n",
    "# Normal data.\n",
    "data = np.random.randn(7, 4)\n",
    "print(data)"
   ]
  },
  {
   "cell_type": "code",
   "execution_count": 34,
   "metadata": {
    "ExecuteTime": {
     "end_time": "2022-12-12T09:32:20.330724Z",
     "start_time": "2022-12-12T09:32:20.324477Z"
    }
   },
   "outputs": [
    {
     "name": "stdout",
     "output_type": "stream",
     "text": [
      "['Bob' 'Joe' 'Will' 'Bob' 'Will' 'Joe' 'Joe']\n"
     ]
    },
    {
     "data": {
      "text/plain": [
       "array([ True, False, False,  True, False, False, False])"
      ]
     },
     "execution_count": 34,
     "metadata": {},
     "output_type": "execute_result"
    }
   ],
   "source": [
    "print(names)\n",
    "names == \"Bob\""
   ]
  },
  {
   "cell_type": "code",
   "execution_count": 35,
   "metadata": {
    "ExecuteTime": {
     "end_time": "2022-12-12T09:32:20.366323Z",
     "start_time": "2022-12-12T09:32:20.334154Z"
    }
   },
   "outputs": [
    {
     "data": {
      "text/plain": [
       "array([[ 0.49671415, -0.1382643 ,  0.64768854,  1.52302986],\n",
       "       [ 0.24196227, -1.91328024, -1.72491783, -0.56228753]])"
      ]
     },
     "execution_count": 35,
     "metadata": {},
     "output_type": "execute_result"
    }
   ],
   "source": [
    "data[names == \"Bob\"]"
   ]
  },
  {
   "cell_type": "code",
   "execution_count": 36,
   "metadata": {
    "ExecuteTime": {
     "end_time": "2022-12-12T09:32:20.381935Z",
     "start_time": "2022-12-12T09:32:20.372760Z"
    }
   },
   "outputs": [
    {
     "data": {
      "text/plain": [
       "array([[ 0.64768854,  1.52302986],\n",
       "       [-1.72491783, -0.56228753]])"
      ]
     },
     "execution_count": 36,
     "metadata": {},
     "output_type": "execute_result"
    }
   ],
   "source": [
    "data[names == \"Bob\", 2:]"
   ]
  },
  {
   "cell_type": "code",
   "execution_count": 37,
   "metadata": {
    "ExecuteTime": {
     "end_time": "2022-12-12T09:32:20.395560Z",
     "start_time": "2022-12-12T09:32:20.386639Z"
    }
   },
   "outputs": [
    {
     "data": {
      "text/plain": [
       "array([False,  True,  True, False,  True,  True,  True])"
      ]
     },
     "execution_count": 37,
     "metadata": {},
     "output_type": "execute_result"
    }
   ],
   "source": [
    "names != \"Bob\""
   ]
  },
  {
   "cell_type": "code",
   "execution_count": 38,
   "metadata": {
    "ExecuteTime": {
     "end_time": "2022-12-12T09:32:20.413091Z",
     "start_time": "2022-12-12T09:32:20.399517Z"
    }
   },
   "outputs": [
    {
     "name": "stdout",
     "output_type": "stream",
     "text": [
      "[False  True  True False  True  True  True]\n"
     ]
    },
    {
     "data": {
      "text/plain": [
       "array([[-0.23415337, -0.23413696,  1.57921282,  0.76743473],\n",
       "       [-0.46947439,  0.54256004, -0.46341769, -0.46572975],\n",
       "       [-1.01283112,  0.31424733, -0.90802408, -1.4123037 ],\n",
       "       [ 1.46564877, -0.2257763 ,  0.0675282 , -1.42474819],\n",
       "       [-0.54438272,  0.11092259, -1.15099358,  0.37569802]])"
      ]
     },
     "execution_count": 38,
     "metadata": {},
     "output_type": "execute_result"
    }
   ],
   "source": [
    "print(~(names == \"Bob\"))\n",
    "data[~(names == \"Bob\")]"
   ]
  },
  {
   "cell_type": "code",
   "execution_count": 39,
   "metadata": {
    "ExecuteTime": {
     "end_time": "2022-12-12T09:32:20.423202Z",
     "start_time": "2022-12-12T09:32:20.416037Z"
    }
   },
   "outputs": [
    {
     "data": {
      "text/plain": [
       "array([[ 0.49671415, -0.1382643 ,  0.64768854,  1.52302986],\n",
       "       [-0.23415337, -0.23413696,  1.57921282,  0.76743473],\n",
       "       [-0.46947439,  0.54256004, -0.46341769, -0.46572975],\n",
       "       [ 0.24196227, -1.91328024, -1.72491783, -0.56228753],\n",
       "       [-1.01283112,  0.31424733, -0.90802408, -1.4123037 ],\n",
       "       [ 1.46564877, -0.2257763 ,  0.0675282 , -1.42474819],\n",
       "       [-0.54438272,  0.11092259, -1.15099358,  0.37569802]])"
      ]
     },
     "execution_count": 39,
     "metadata": {},
     "output_type": "execute_result"
    }
   ],
   "source": [
    "data"
   ]
  },
  {
   "cell_type": "code",
   "execution_count": 40,
   "metadata": {
    "ExecuteTime": {
     "end_time": "2022-12-12T09:32:20.433611Z",
     "start_time": "2022-12-12T09:32:20.426964Z"
    }
   },
   "outputs": [
    {
     "data": {
      "text/plain": [
       "array([[0.49671415, 0.        , 0.64768854, 1.52302986],\n",
       "       [0.        , 0.        , 1.57921282, 0.76743473],\n",
       "       [0.        , 0.54256004, 0.        , 0.        ],\n",
       "       [0.24196227, 0.        , 0.        , 0.        ],\n",
       "       [0.        , 0.31424733, 0.        , 0.        ],\n",
       "       [1.46564877, 0.        , 0.0675282 , 0.        ],\n",
       "       [0.        , 0.11092259, 0.        , 0.37569802]])"
      ]
     },
     "execution_count": 40,
     "metadata": {},
     "output_type": "execute_result"
    }
   ],
   "source": [
    "data[data < 0] = 0\n",
    "data"
   ]
  },
  {
   "cell_type": "markdown",
   "metadata": {},
   "source": [
    "## Fancy indexing\n",
    "\n",
    "- One can index using integer arrays"
   ]
  },
  {
   "cell_type": "code",
   "execution_count": 41,
   "metadata": {
    "ExecuteTime": {
     "end_time": "2022-12-12T09:32:20.442737Z",
     "start_time": "2022-12-12T09:32:20.437615Z"
    }
   },
   "outputs": [],
   "source": [
    "arr = np.empty((8, 4))"
   ]
  },
  {
   "cell_type": "code",
   "execution_count": 42,
   "metadata": {
    "ExecuteTime": {
     "end_time": "2022-12-12T09:32:20.453053Z",
     "start_time": "2022-12-12T09:32:20.446271Z"
    }
   },
   "outputs": [
    {
     "name": "stdout",
     "output_type": "stream",
     "text": [
      "[[0. 0. 0. 0.]\n",
      " [1. 1. 1. 1.]\n",
      " [2. 2. 2. 2.]\n",
      " [3. 3. 3. 3.]\n",
      " [4. 4. 4. 4.]\n",
      " [5. 5. 5. 5.]\n",
      " [6. 6. 6. 6.]\n",
      " [7. 7. 7. 7.]]\n"
     ]
    }
   ],
   "source": [
    "for i in range(8):\n",
    "    arr[i] = i\n",
    "\n",
    "print(arr)"
   ]
  },
  {
   "cell_type": "code",
   "execution_count": 43,
   "metadata": {
    "ExecuteTime": {
     "end_time": "2022-12-12T09:32:20.462820Z",
     "start_time": "2022-12-12T09:32:20.456102Z"
    }
   },
   "outputs": [
    {
     "data": {
      "text/plain": [
       "array([[4., 4., 4., 4.],\n",
       "       [3., 3., 3., 3.],\n",
       "       [0., 0., 0., 0.],\n",
       "       [6., 6., 6., 6.]])"
      ]
     },
     "execution_count": 43,
     "metadata": {},
     "output_type": "execute_result"
    }
   ],
   "source": [
    "# Select rows using certain indices.\n",
    "arr[[4, 3, 0, 6]]"
   ]
  },
  {
   "cell_type": "code",
   "execution_count": 44,
   "metadata": {
    "ExecuteTime": {
     "end_time": "2022-12-12T09:32:20.473429Z",
     "start_time": "2022-12-12T09:32:20.466146Z"
    }
   },
   "outputs": [
    {
     "data": {
      "text/plain": [
       "array([[5., 5., 5., 5.],\n",
       "       [3., 3., 3., 3.],\n",
       "       [1., 1., 1., 1.]])"
      ]
     },
     "execution_count": 44,
     "metadata": {},
     "output_type": "execute_result"
    }
   ],
   "source": [
    "# Negative indices work as expected.\n",
    "arr[[-3, -5, -7]]"
   ]
  },
  {
   "cell_type": "code",
   "execution_count": 45,
   "metadata": {
    "ExecuteTime": {
     "end_time": "2022-12-12T09:32:20.481694Z",
     "start_time": "2022-12-12T09:32:20.476096Z"
    }
   },
   "outputs": [
    {
     "name": "stdout",
     "output_type": "stream",
     "text": [
      "[[ 0  1  2  3]\n",
      " [ 4  5  6  7]\n",
      " [ 8  9 10 11]\n",
      " [12 13 14 15]\n",
      " [16 17 18 19]\n",
      " [20 21 22 23]\n",
      " [24 25 26 27]\n",
      " [28 29 30 31]]\n"
     ]
    }
   ],
   "source": [
    "arr = np.arange(32).reshape((8, 4))\n",
    "\n",
    "print(str(arr))"
   ]
  },
  {
   "cell_type": "code",
   "execution_count": 46,
   "metadata": {
    "ExecuteTime": {
     "end_time": "2022-12-12T09:32:20.492747Z",
     "start_time": "2022-12-12T09:32:20.484885Z"
    }
   },
   "outputs": [
    {
     "data": {
      "text/plain": [
       "array([ 4, 23, 29, 10])"
      ]
     },
     "execution_count": 46,
     "metadata": {},
     "output_type": "execute_result"
    }
   ],
   "source": [
    "# WARNING: It doesn't select 4 rows and 4 columns.\n",
    "# It gets elements (1, 0), (5, 3), (7, 1), (2, 2).\n",
    "arr[[1, 5, 7, 2], [0, 3, 1, 2]]"
   ]
  },
  {
   "cell_type": "code",
   "execution_count": 47,
   "metadata": {
    "ExecuteTime": {
     "end_time": "2022-12-12T09:32:20.505219Z",
     "start_time": "2022-12-12T09:32:20.496391Z"
    }
   },
   "outputs": [
    {
     "data": {
      "text/plain": [
       "array([[ 4,  7,  5,  6],\n",
       "       [20, 23, 21, 22],\n",
       "       [28, 31, 29, 30],\n",
       "       [ 8, 11,  9, 10]])"
      ]
     },
     "execution_count": 47,
     "metadata": {},
     "output_type": "execute_result"
    }
   ],
   "source": [
    "# To select 4 rows and 4 columns.\n",
    "arr[[1, 5, 7, 2]][:, [0, 3, 1, 2]]"
   ]
  },
  {
   "cell_type": "code",
   "execution_count": 48,
   "metadata": {
    "ExecuteTime": {
     "end_time": "2022-12-12T09:32:20.514922Z",
     "start_time": "2022-12-12T09:32:20.509634Z"
    }
   },
   "outputs": [
    {
     "name": "stdout",
     "output_type": "stream",
     "text": [
      "Help on function ix_ in module numpy:\n",
      "\n",
      "ix_(*args)\n",
      "    Construct an open mesh from multiple sequences.\n",
      "    \n",
      "    This function takes N 1-D sequences and returns N outputs with N\n",
      "    dimensions each, such that the shape is 1 in all but one dimension\n",
      "    and the dimension with the non-unit shape value cycles through all\n",
      "    N dimensions.\n",
      "    \n",
      "    Using `ix_` one can quickly construct index arrays that will index\n",
      "    the cross product. ``a[np.ix_([1,3],[2,5])]`` returns the array\n",
      "    ``[[a[1,2] a[1,5]], [a[3,2] a[3,5]]]``.\n",
      "    \n",
      "    Parameters\n",
      "    ----------\n",
      "    args : 1-D sequences\n",
      "        Each sequence should be of integer or boolean type.\n",
      "        Boolean sequences will be interpreted as boolean masks for the\n",
      "        corresponding dimension (equivalent to passing in\n",
      "        ``np.nonzero(boolean_sequence)``).\n",
      "    \n",
      "    Returns\n",
      "    -------\n",
      "    out : tuple of ndarrays\n",
      "        N arrays with N dimensions each, with N the number of input\n",
      "        sequences. Together these arrays form an open mesh.\n",
      "    \n",
      "    See Also\n",
      "    --------\n",
      "    ogrid, mgrid, meshgrid\n",
      "    \n",
      "    Examples\n",
      "    --------\n",
      "    >>> a = np.arange(10).reshape(2, 5)\n",
      "    >>> a\n",
      "    array([[0, 1, 2, 3, 4],\n",
      "           [5, 6, 7, 8, 9]])\n",
      "    >>> ixgrid = np.ix_([0, 1], [2, 4])\n",
      "    >>> ixgrid\n",
      "    (array([[0],\n",
      "           [1]]), array([[2, 4]]))\n",
      "    >>> ixgrid[0].shape, ixgrid[1].shape\n",
      "    ((2, 1), (1, 2))\n",
      "    >>> a[ixgrid]\n",
      "    array([[2, 4],\n",
      "           [7, 9]])\n",
      "    \n",
      "    >>> ixgrid = np.ix_([True, True], [2, 4])\n",
      "    >>> a[ixgrid]\n",
      "    array([[2, 4],\n",
      "           [7, 9]])\n",
      "    >>> ixgrid = np.ix_([True, True], [False, False, True, False, True])\n",
      "    >>> a[ixgrid]\n",
      "    array([[2, 4],\n",
      "           [7, 9]])\n",
      "\n"
     ]
    }
   ],
   "source": [
    "help(np.ix_)"
   ]
  },
  {
   "cell_type": "code",
   "execution_count": 49,
   "metadata": {
    "ExecuteTime": {
     "end_time": "2022-12-12T09:32:20.524432Z",
     "start_time": "2022-12-12T09:32:20.518799Z"
    }
   },
   "outputs": [
    {
     "name": "stdout",
     "output_type": "stream",
     "text": [
      "(array([[1],\n",
      "       [5],\n",
      "       [7],\n",
      "       [2]]), array([[0, 3, 1, 2]]))\n",
      "[[ 4  7  5  6]\n",
      " [20 23 21 22]\n",
      " [28 31 29 30]\n",
      " [ 8 11  9 10]]\n"
     ]
    }
   ],
   "source": [
    "# np.ix_() converts indices.\n",
    "idxs = np.ix_([1, 5, 7, 2], [0, 3, 1, 2])\n",
    "print(idxs)\n",
    "\n",
    "print(arr[idxs])"
   ]
  },
  {
   "cell_type": "markdown",
   "metadata": {
    "ExecuteTime": {
     "end_time": "2017-12-22T10:53:08.468872Z",
     "start_time": "2017-12-22T02:53:08.452542-08:00"
    }
   },
   "source": [
    "## Transposing arrays and swapping axes."
   ]
  },
  {
   "cell_type": "code",
   "execution_count": 50,
   "metadata": {
    "ExecuteTime": {
     "end_time": "2022-12-12T09:32:20.534135Z",
     "start_time": "2022-12-12T09:32:20.528042Z"
    }
   },
   "outputs": [
    {
     "name": "stdout",
     "output_type": "stream",
     "text": [
      "[[ 0  1  2  3  4]\n",
      " [ 5  6  7  8  9]\n",
      " [10 11 12 13 14]]\n"
     ]
    }
   ],
   "source": [
    "arr = np.arange(15).reshape((3, 5))\n",
    "print(arr)"
   ]
  },
  {
   "cell_type": "code",
   "execution_count": 51,
   "metadata": {
    "ExecuteTime": {
     "end_time": "2022-12-12T09:32:20.541148Z",
     "start_time": "2022-12-12T09:32:20.537414Z"
    }
   },
   "outputs": [
    {
     "name": "stdout",
     "output_type": "stream",
     "text": [
      "[[ 0  5 10]\n",
      " [ 1  6 11]\n",
      " [ 2  7 12]\n",
      " [ 3  8 13]\n",
      " [ 4  9 14]]\n"
     ]
    }
   ],
   "source": [
    "print(arr.T)"
   ]
  },
  {
   "cell_type": "code",
   "execution_count": 52,
   "metadata": {
    "ExecuteTime": {
     "end_time": "2022-12-12T09:32:20.551272Z",
     "start_time": "2022-12-12T09:32:20.544640Z"
    }
   },
   "outputs": [
    {
     "data": {
      "text/plain": [
       "array([[125, 140, 155, 170, 185],\n",
       "       [140, 158, 176, 194, 212],\n",
       "       [155, 176, 197, 218, 239],\n",
       "       [170, 194, 218, 242, 266],\n",
       "       [185, 212, 239, 266, 293]])"
      ]
     },
     "execution_count": 52,
     "metadata": {},
     "output_type": "execute_result"
    }
   ],
   "source": [
    "np.dot(arr.T, arr)"
   ]
  },
  {
   "cell_type": "code",
   "execution_count": 53,
   "metadata": {
    "ExecuteTime": {
     "end_time": "2022-12-12T09:32:20.560797Z",
     "start_time": "2022-12-12T09:32:20.555027Z"
    }
   },
   "outputs": [
    {
     "name": "stdout",
     "output_type": "stream",
     "text": [
      "[[[ 0  1  2  3]\n",
      "  [ 4  5  6  7]]\n",
      "\n",
      " [[ 8  9 10 11]\n",
      "  [12 13 14 15]]]\n"
     ]
    }
   ],
   "source": [
    "arr = np.arange(16).reshape((2, 2, 4))\n",
    "print(arr)"
   ]
  },
  {
   "cell_type": "markdown",
   "metadata": {},
   "source": [
    "## Universal functions\n",
    "\n",
    "- ufunc performs elementwise operations on data in ndarrays"
   ]
  },
  {
   "cell_type": "code",
   "execution_count": 54,
   "metadata": {
    "ExecuteTime": {
     "end_time": "2022-12-12T09:32:20.570687Z",
     "start_time": "2022-12-12T09:32:20.564204Z"
    }
   },
   "outputs": [
    {
     "name": "stdout",
     "output_type": "stream",
     "text": [
      "[0.         1.         1.41421356 1.73205081 2.         2.23606798\n",
      " 2.44948974 2.64575131 2.82842712 3.        ]\n",
      "[1.00000000e+00 2.71828183e+00 7.38905610e+00 2.00855369e+01\n",
      " 5.45981500e+01 1.48413159e+02 4.03428793e+02 1.09663316e+03\n",
      " 2.98095799e+03 8.10308393e+03]\n"
     ]
    }
   ],
   "source": [
    "arr = np.arange(10)\n",
    "\n",
    "print(np.sqrt(arr))\n",
    "print(np.exp(arr))"
   ]
  },
  {
   "cell_type": "code",
   "execution_count": 55,
   "metadata": {
    "ExecuteTime": {
     "end_time": "2022-12-12T09:32:20.581131Z",
     "start_time": "2022-12-12T09:32:20.573901Z"
    }
   },
   "outputs": [
    {
     "name": "stdout",
     "output_type": "stream",
     "text": [
      "[ 0.49671415 -0.1382643   0.64768854  1.52302986 -0.23415337 -0.23413696\n",
      "  1.57921282  0.76743473]\n",
      "[-0.46947439  0.54256004 -0.46341769 -0.46572975  0.24196227 -1.91328024\n",
      " -1.72491783 -0.56228753]\n",
      "[ 0.49671415  0.54256004  0.64768854  1.52302986  0.24196227 -0.23413696\n",
      "  1.57921282  0.76743473]\n"
     ]
    }
   ],
   "source": [
    "np.random.seed(42)\n",
    "x = np.random.randn(8)\n",
    "y = np.random.randn(8)\n",
    "\n",
    "print(x)\n",
    "print(y)\n",
    "\n",
    "print(np.maximum(x, y))"
   ]
  },
  {
   "cell_type": "code",
   "execution_count": 56,
   "metadata": {
    "ExecuteTime": {
     "end_time": "2022-12-12T09:32:20.590912Z",
     "start_time": "2022-12-12T09:32:20.584261Z"
    }
   },
   "outputs": [
    {
     "data": {
      "text/plain": [
       "array([ 0.02723977,  0.40429574,  0.18427085,  1.0573001 ,  0.0078089 ,\n",
       "       -2.1474172 , -0.14570502,  0.2051472 ])"
      ]
     },
     "execution_count": 56,
     "metadata": {},
     "output_type": "execute_result"
    }
   ],
   "source": [
    "np.add(x, y)"
   ]
  },
  {
   "cell_type": "code",
   "execution_count": 57,
   "metadata": {
    "ExecuteTime": {
     "end_time": "2022-12-12T09:32:20.601153Z",
     "start_time": "2022-12-12T09:32:20.594536Z"
    }
   },
   "outputs": [
    {
     "data": {
      "text/plain": [
       "array([ True, False,  True,  True, False,  True,  True,  True])"
      ]
     },
     "execution_count": 57,
     "metadata": {},
     "output_type": "execute_result"
    }
   ],
   "source": [
    "np.greater(x, y)"
   ]
  },
  {
   "cell_type": "code",
   "execution_count": 58,
   "metadata": {
    "ExecuteTime": {
     "end_time": "2022-12-12T09:32:20.612540Z",
     "start_time": "2022-12-12T09:32:20.605393Z"
    }
   },
   "outputs": [
    {
     "data": {
      "text/plain": [
       "array([ True,  True,  True,  True,  True,  True,  True,  True])"
      ]
     },
     "execution_count": 58,
     "metadata": {},
     "output_type": "execute_result"
    }
   ],
   "source": [
    "np.not_equal(x, y)"
   ]
  },
  {
   "cell_type": "code",
   "execution_count": 59,
   "metadata": {
    "ExecuteTime": {
     "end_time": "2022-12-12T09:32:20.623579Z",
     "start_time": "2022-12-12T09:32:20.615491Z"
    }
   },
   "outputs": [
    {
     "data": {
      "text/plain": [
       "array([False,  True, False, False,  True, False, False, False])"
      ]
     },
     "execution_count": 59,
     "metadata": {},
     "output_type": "execute_result"
    }
   ],
   "source": [
    "np.logical_xor(\n",
    "    np.not_equal(x, y),\n",
    "    np.greater(x, y))"
   ]
  },
  {
   "cell_type": "markdown",
   "metadata": {},
   "source": [
    "# Data processing using arrays"
   ]
  },
  {
   "cell_type": "code",
   "execution_count": 60,
   "metadata": {
    "ExecuteTime": {
     "end_time": "2022-12-12T09:32:20.655093Z",
     "start_time": "2022-12-12T09:32:20.629055Z"
    },
    "scrolled": false
   },
   "outputs": [
    {
     "name": "stdout",
     "output_type": "stream",
     "text": [
      "points= [-5.   -4.99 -4.98 -4.97 -4.96]\n",
      "xs=\n",
      " [[-5.   -4.99 -4.98 ...  4.97  4.98  4.99]\n",
      " [-5.   -4.99 -4.98 ...  4.97  4.98  4.99]\n",
      " [-5.   -4.99 -4.98 ...  4.97  4.98  4.99]\n",
      " ...\n",
      " [-5.   -4.99 -4.98 ...  4.97  4.98  4.99]\n",
      " [-5.   -4.99 -4.98 ...  4.97  4.98  4.99]\n",
      " [-5.   -4.99 -4.98 ...  4.97  4.98  4.99]]\n",
      "ys=\n",
      " [[-5.   -5.   -5.   ... -5.   -5.   -5.  ]\n",
      " [-4.99 -4.99 -4.99 ... -4.99 -4.99 -4.99]\n",
      " [-4.98 -4.98 -4.98 ... -4.98 -4.98 -4.98]\n",
      " ...\n",
      " [ 4.97  4.97  4.97 ...  4.97  4.97  4.97]\n",
      " [ 4.98  4.98  4.98 ...  4.98  4.98  4.98]\n",
      " [ 4.99  4.99  4.99 ...  4.99  4.99  4.99]]\n"
     ]
    }
   ],
   "source": [
    "# Evaluate \n",
    "\n",
    "# - Pick 1000 equi-spaced points between [-5, 5].\n",
    "points = np.arange(-5, 5, 0.01)\n",
    "print(\"points=\", points[:5])\n",
    "\n",
    "# - Create a grid of points.\n",
    "xs, ys = np.meshgrid(points, points)\n",
    "print(\"xs=\\n\", xs)\n",
    "print(\"ys=\\n\", ys)\n",
    "\n",
    "# - Evaluate function on a grid.\n",
    "z = np.sqrt(xs ** 2 + ys ** 2)"
   ]
  },
  {
   "cell_type": "code",
   "execution_count": 61,
   "metadata": {
    "ExecuteTime": {
     "end_time": "2022-12-12T09:32:20.887259Z",
     "start_time": "2022-12-12T09:32:20.658777Z"
    }
   },
   "outputs": [
    {
     "ename": "ModuleNotFoundError",
     "evalue": "No module named 'matplotlib'",
     "output_type": "error",
     "traceback": [
      "\u001b[0;31m---------------------------------------------------------------------------\u001b[0m",
      "\u001b[0;31mModuleNotFoundError\u001b[0m                       Traceback (most recent call last)",
      "Cell \u001b[0;32mIn[61], line 1\u001b[0m\n\u001b[0;32m----> 1\u001b[0m \u001b[38;5;28;01mimport\u001b[39;00m \u001b[38;5;21;01mmatplotlib\u001b[39;00m\u001b[38;5;21;01m.\u001b[39;00m\u001b[38;5;21;01mpyplot\u001b[39;00m \u001b[38;5;28;01mas\u001b[39;00m \u001b[38;5;21;01mplt\u001b[39;00m\n\u001b[1;32m      3\u001b[0m plt\u001b[38;5;241m.\u001b[39mimshow(z, cmap\u001b[38;5;241m=\u001b[39mplt\u001b[38;5;241m.\u001b[39mcm\u001b[38;5;241m.\u001b[39mgray)\n\u001b[1;32m      4\u001b[0m plt\u001b[38;5;241m.\u001b[39mcolorbar()\n",
      "\u001b[0;31mModuleNotFoundError\u001b[0m: No module named 'matplotlib'"
     ]
    }
   ],
   "source": [
    "import matplotlib.pyplot as plt\n",
    "\n",
    "plt.imshow(z, cmap=plt.cm.gray)\n",
    "plt.colorbar()\n",
    "plt.title(\"hello\")"
   ]
  },
  {
   "cell_type": "markdown",
   "metadata": {},
   "source": [
    "## Expressing conditional logic as array operations.\n",
    "\n",
    "- `numpy.where` is vectorized form of `if-then-else`"
   ]
  },
  {
   "cell_type": "code",
   "execution_count": null,
   "metadata": {
    "ExecuteTime": {
     "end_time": "2022-12-12T09:32:20.890709Z",
     "start_time": "2022-12-12T09:32:20.890692Z"
    }
   },
   "outputs": [],
   "source": [
    "xarr = np.array([1.1, 1.2, 1.3, 1.4, 1.5])\n",
    "yarr = np.array([2.1, 2.2, 2.3, 2.4, 2.5])\n",
    "cond = np.array([True, False, True, True, False])\n",
    "\n",
    "result = [(x if c else y) for x, y, c in zip(xarr, yarr, cond)]\n",
    "print([round(x, 3) for x in result])\n",
    "\n",
    "# This is an array.\n",
    "print(np.where(cond, xarr, yarr))"
   ]
  },
  {
   "cell_type": "code",
   "execution_count": null,
   "metadata": {
    "ExecuteTime": {
     "end_time": "2022-12-12T09:32:20.893796Z",
     "start_time": "2022-12-12T09:32:20.893779Z"
    }
   },
   "outputs": [],
   "source": [
    "np.random.seed(42)\n",
    "arr = np.random.randn(4, 4)\n",
    "\n",
    "print(arr)"
   ]
  },
  {
   "cell_type": "code",
   "execution_count": null,
   "metadata": {
    "ExecuteTime": {
     "end_time": "2022-12-12T09:32:20.896207Z",
     "start_time": "2022-12-12T09:32:20.896190Z"
    }
   },
   "outputs": [],
   "source": [
    "np.where(arr > 0, 2, -2)"
   ]
  },
  {
   "cell_type": "code",
   "execution_count": null,
   "metadata": {
    "ExecuteTime": {
     "end_time": "2022-12-12T09:32:20.899526Z",
     "start_time": "2022-12-12T09:32:20.899508Z"
    }
   },
   "outputs": [],
   "source": [
    "# Note that the operation is vectorized, thus one array is let pass.\n",
    "np.where(arr > 0, 2, arr)"
   ]
  },
  {
   "cell_type": "markdown",
   "metadata": {},
   "source": [
    "## Mathematical and statistical methods"
   ]
  },
  {
   "cell_type": "code",
   "execution_count": null,
   "metadata": {
    "ExecuteTime": {
     "end_time": "2022-12-12T09:32:20.901513Z",
     "start_time": "2022-12-12T09:32:20.901497Z"
    }
   },
   "outputs": [],
   "source": [
    "np.random.seed(42)\n",
    "arr = np.random.randn(5, 4)\n",
    "\n",
    "# One can call the method on the array or the np function.\n",
    "print(arr.mean())\n",
    "print(np.mean(arr))"
   ]
  },
  {
   "cell_type": "code",
   "execution_count": null,
   "metadata": {
    "ExecuteTime": {
     "end_time": "2022-12-12T09:32:20.905535Z",
     "start_time": "2022-12-12T09:32:20.905511Z"
    }
   },
   "outputs": [],
   "source": [
    "arr.mean(axis=1)"
   ]
  },
  {
   "cell_type": "code",
   "execution_count": null,
   "metadata": {
    "ExecuteTime": {
     "end_time": "2022-12-12T09:32:20.908008Z",
     "start_time": "2022-12-12T09:32:20.907992Z"
    }
   },
   "outputs": [],
   "source": [
    "arr = np.array([[0, 1, 2], [3, 4, 5], [6, 7, 8]])\n",
    "print(arr)\n",
    "\n",
    "# Cumsum on different axis.\n",
    "print(arr.cumsum(axis=0))\n",
    "print(arr.cumsum(axis=1))"
   ]
  },
  {
   "cell_type": "code",
   "execution_count": null,
   "metadata": {
    "ExecuteTime": {
     "end_time": "2022-12-12T09:32:20.910650Z",
     "start_time": "2022-12-12T09:32:20.910632Z"
    }
   },
   "outputs": [],
   "source": [
    "arr = np.random.randn(100)\n",
    "\n",
    "# Sum all positive numbers.\n",
    "(arr > 0).sum()"
   ]
  },
  {
   "cell_type": "code",
   "execution_count": null,
   "metadata": {
    "ExecuteTime": {
     "end_time": "2022-12-12T09:32:20.913364Z",
     "start_time": "2022-12-12T09:32:20.913346Z"
    }
   },
   "outputs": [],
   "source": [
    "bools = np.array([False, False, True, False])\n",
    "\n",
    "print(bools.any())\n",
    "print(bools.all())"
   ]
  },
  {
   "cell_type": "code",
   "execution_count": null,
   "metadata": {
    "ExecuteTime": {
     "end_time": "2022-12-12T09:32:20.916421Z",
     "start_time": "2022-12-12T09:32:20.916403Z"
    }
   },
   "outputs": [],
   "source": [
    "## Sorting."
   ]
  },
  {
   "cell_type": "code",
   "execution_count": null,
   "metadata": {
    "ExecuteTime": {
     "end_time": "2022-12-12T09:32:20.918970Z",
     "start_time": "2022-12-12T09:32:20.918952Z"
    }
   },
   "outputs": [],
   "source": [
    "np.random.seed(8)\n",
    "arr = np.random.randn(8)\n",
    "print(arr)\n",
    "arr.sort()\n",
    "print(arr)"
   ]
  },
  {
   "cell_type": "code",
   "execution_count": null,
   "metadata": {
    "ExecuteTime": {
     "end_time": "2022-12-12T09:32:20.921942Z",
     "start_time": "2022-12-12T09:32:20.921924Z"
    }
   },
   "outputs": [],
   "source": [
    "arr = np.random.randn(5, 3)\n",
    "print(arr)"
   ]
  },
  {
   "cell_type": "code",
   "execution_count": null,
   "metadata": {
    "ExecuteTime": {
     "end_time": "2022-12-12T09:32:20.924833Z",
     "start_time": "2022-12-12T09:32:20.924789Z"
    }
   },
   "outputs": [],
   "source": [
    "arr.sort(axis=1)\n",
    "print(arr)"
   ]
  },
  {
   "cell_type": "markdown",
   "metadata": {},
   "source": [
    "## Unique and set logic"
   ]
  },
  {
   "cell_type": "code",
   "execution_count": null,
   "metadata": {
    "ExecuteTime": {
     "end_time": "2022-12-12T09:32:20.928009Z",
     "start_time": "2022-12-12T09:32:20.927984Z"
    }
   },
   "outputs": [],
   "source": [
    "names = np.array(['Bob', 'Joe', 'Will', 'Bob', 'Will', 'Joe', 'Joe'])\n",
    "\n",
    "print(np.unique(names))"
   ]
  },
  {
   "cell_type": "code",
   "execution_count": null,
   "metadata": {
    "ExecuteTime": {
     "end_time": "2022-12-12T09:32:20.931469Z",
     "start_time": "2022-12-12T09:32:20.931449Z"
    }
   },
   "outputs": [],
   "source": [
    "values1 = np.array([6, 0, 0, 3, 2, 5, 6])\n",
    "print(values1)\n",
    "\n",
    "# Check memership of values in values1 wrt a given set.\n",
    "print(np.in1d(values1, [2, 3, 6]))"
   ]
  },
  {
   "cell_type": "code",
   "execution_count": null,
   "metadata": {
    "ExecuteTime": {
     "end_time": "2022-12-12T09:32:20.937997Z",
     "start_time": "2022-12-12T09:32:20.937957Z"
    }
   },
   "outputs": [],
   "source": [
    "values2 = np.array([6, 1, 7, 3, 2, 5, 6])\n",
    "print(\"values1=\", values1)\n",
    "print(\"values2=\", values2)\n",
    "\n",
    "print(\"intersect=\", np.intersect1d(values1, values2))\n",
    "print(\"union=\", np.union1d(values1, values2))\n",
    "# A - B\n",
    "print(\"diff=\", np.setdiff1d(values1, values2))\n",
    "# Symmetric difference: elements that in either of arrays, but not both.\n",
    "print(\"xor=\", np.setxor1d(values1, values2))"
   ]
  },
  {
   "cell_type": "markdown",
   "metadata": {},
   "source": [
    "# File input and output"
   ]
  },
  {
   "cell_type": "markdown",
   "metadata": {
    "ExecuteTime": {
     "end_time": "2017-12-22T13:23:58.271432Z",
     "start_time": "2017-12-22T05:23:58.256951-08:00"
    }
   },
   "source": [
    "## Storing arrays on disk in binary form."
   ]
  },
  {
   "cell_type": "code",
   "execution_count": null,
   "metadata": {
    "ExecuteTime": {
     "end_time": "2022-12-12T09:32:20.944566Z",
     "start_time": "2022-12-12T09:32:20.944546Z"
    }
   },
   "outputs": [],
   "source": [
    "arr = np.arange(10)\n",
    "print(arr)\n",
    "np.save(\"some_array.npy\", arr)"
   ]
  },
  {
   "cell_type": "code",
   "execution_count": null,
   "metadata": {
    "ExecuteTime": {
     "end_time": "2022-12-12T09:32:20.947014Z",
     "start_time": "2022-12-12T09:32:20.946996Z"
    }
   },
   "outputs": [],
   "source": [
    "arr2 = np.load(\"some_array.npy\")\n",
    "print(arr2)"
   ]
  },
  {
   "cell_type": "code",
   "execution_count": null,
   "metadata": {
    "ExecuteTime": {
     "end_time": "2022-12-12T09:32:20.950655Z",
     "start_time": "2022-12-12T09:32:20.950636Z"
    }
   },
   "outputs": [],
   "source": [
    "np.savez(\"some_array_lazy.npz\", arr2)"
   ]
  },
  {
   "cell_type": "markdown",
   "metadata": {},
   "source": [
    "# Linear algebra"
   ]
  },
  {
   "cell_type": "code",
   "execution_count": null,
   "metadata": {
    "ExecuteTime": {
     "end_time": "2022-12-12T09:32:20.956251Z",
     "start_time": "2022-12-12T09:32:20.956223Z"
    }
   },
   "outputs": [],
   "source": [
    "x = np.array([[1., 2., 3.], [4., 5., 6.]])\n",
    "print(\"x=\\n\", x)\n",
    "y = np.array([[6., 23.], [-1, 7], [8, 9]])\n",
    "print(\"y=\\n\", y)"
   ]
  },
  {
   "cell_type": "code",
   "execution_count": null,
   "metadata": {
    "ExecuteTime": {
     "end_time": "2022-12-12T09:32:20.964831Z",
     "start_time": "2022-12-12T09:32:20.964809Z"
    }
   },
   "outputs": [],
   "source": [
    "print(x.dot(y))\n",
    "print(np.dot(x, y))"
   ]
  },
  {
   "cell_type": "code",
   "execution_count": null,
   "metadata": {
    "ExecuteTime": {
     "end_time": "2022-12-12T09:32:20.967481Z",
     "start_time": "2022-12-12T09:32:20.967461Z"
    }
   },
   "outputs": [],
   "source": [
    "from numpy.linalg import inv, qr\n",
    "\n",
    "np.random.seed(42)\n",
    "\n",
    "X = np.random.randn(5, 5)\n",
    "mat = X.T.dot(X)\n",
    "print(\"mat=\\n\", mat)"
   ]
  },
  {
   "cell_type": "code",
   "execution_count": null,
   "metadata": {
    "ExecuteTime": {
     "end_time": "2022-12-12T09:32:20.970135Z",
     "start_time": "2022-12-12T09:32:20.970117Z"
    }
   },
   "outputs": [],
   "source": [
    "# Inverse.\n",
    "inv(mat)"
   ]
  },
  {
   "cell_type": "code",
   "execution_count": null,
   "metadata": {
    "ExecuteTime": {
     "end_time": "2022-12-12T09:32:20.974182Z",
     "start_time": "2022-12-12T09:32:20.974166Z"
    }
   },
   "outputs": [],
   "source": [
    "q, r = qr(mat)\n",
    "print(\"q=\\n\", q)\n",
    "print(\"r=\\n\", r)"
   ]
  },
  {
   "cell_type": "code",
   "execution_count": null,
   "metadata": {
    "ExecuteTime": {
     "end_time": "2022-12-12T09:32:20.977077Z",
     "start_time": "2022-12-12T09:32:20.977058Z"
    }
   },
   "outputs": [],
   "source": [
    "print(np.diag(mat))"
   ]
  },
  {
   "cell_type": "code",
   "execution_count": null,
   "metadata": {
    "ExecuteTime": {
     "end_time": "2022-12-12T09:32:20.979866Z",
     "start_time": "2022-12-12T09:32:20.979847Z"
    }
   },
   "outputs": [],
   "source": [
    "print(np.trace(mat))"
   ]
  },
  {
   "cell_type": "code",
   "execution_count": null,
   "metadata": {
    "ExecuteTime": {
     "end_time": "2022-12-12T09:32:20.982974Z",
     "start_time": "2022-12-12T09:32:20.982931Z"
    }
   },
   "outputs": [],
   "source": [
    "print(np.eig(mat))"
   ]
  },
  {
   "cell_type": "code",
   "execution_count": null,
   "metadata": {
    "ExecuteTime": {
     "end_time": "2022-12-12T09:32:20.987397Z",
     "start_time": "2022-12-12T09:32:20.987371Z"
    }
   },
   "outputs": [],
   "source": [
    "print(np.svd(mat))"
   ]
  },
  {
   "cell_type": "markdown",
   "metadata": {
    "ExecuteTime": {
     "end_time": "2018-01-04T22:53:34.518500Z",
     "start_time": "2018-01-04T14:53:34.503490-08:00"
    }
   },
   "source": [
    "# **Random number generator**"
   ]
  },
  {
   "cell_type": "markdown",
   "metadata": {},
   "source": [
    "## **Random walks**"
   ]
  }
 ],
 "metadata": {
  "kernelspec": {
   "display_name": "Python 3 (ipykernel)",
   "language": "python",
   "name": "python3"
  },
  "language_info": {
   "codemirror_mode": {
    "name": "ipython",
    "version": 3
   },
   "file_extension": ".py",
   "mimetype": "text/x-python",
   "name": "python",
   "nbconvert_exporter": "python",
   "pygments_lexer": "ipython3",
   "version": "3.8.10"
  },
  "toc": {
   "base_numbering": 1,
   "nav_menu": {},
   "number_sections": true,
   "sideBar": true,
   "skip_h1_title": false,
   "title_cell": "Table of Contents",
   "title_sidebar": "Contents",
   "toc_cell": true,
   "toc_position": {
    "height": "calc(100% - 180px)",
    "left": "10px",
    "top": "150px",
    "width": "320px"
   },
   "toc_section_display": "block",
   "toc_window_display": true
  }
 },
 "nbformat": 4,
 "nbformat_minor": 2
}
