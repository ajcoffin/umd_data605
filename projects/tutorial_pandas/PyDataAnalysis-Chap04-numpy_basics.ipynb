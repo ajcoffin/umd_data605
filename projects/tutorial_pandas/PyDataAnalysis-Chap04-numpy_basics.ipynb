{
 "cells": [
  {
   "cell_type": "markdown",
   "metadata": {
    "toc": "true"
   },
   "source": [
    "<h1>Table of Contents<span class=\"tocSkip\"></span></h1>\n",
    "<div class=\"toc\"><ul class=\"toc-item\"><li><span><a href=\"#numpy-ndarray\" data-toc-modified-id=\"numpy-ndarray-1\"><span class=\"toc-item-num\">1&nbsp;&nbsp;</span>numpy ndarray</a></span><ul class=\"toc-item\"><li><span><a href=\"#Creating-arrays\" data-toc-modified-id=\"Creating-arrays-1.1\"><span class=\"toc-item-num\">1.1&nbsp;&nbsp;</span>Creating arrays</a></span></li><li><span><a href=\"#Data-types\" data-toc-modified-id=\"Data-types-1.2\"><span class=\"toc-item-num\">1.2&nbsp;&nbsp;</span>Data types</a></span></li><li><span><a href=\"#Operations-between-Arrays-and-Scalar\" data-toc-modified-id=\"Operations-between-Arrays-and-Scalar-1.3\"><span class=\"toc-item-num\">1.3&nbsp;&nbsp;</span>Operations between Arrays and Scalar</a></span></li><li><span><a href=\"#Basic-index-and-slicing\" data-toc-modified-id=\"Basic-index-and-slicing-1.4\"><span class=\"toc-item-num\">1.4&nbsp;&nbsp;</span>Basic index and slicing</a></span><ul class=\"toc-item\"><li><span><a href=\"#Indexing-with-slices.\" data-toc-modified-id=\"Indexing-with-slices.-1.4.1\"><span class=\"toc-item-num\">1.4.1&nbsp;&nbsp;</span>Indexing with slices.</a></span></li></ul></li><li><span><a href=\"#Boolean-indexing\" data-toc-modified-id=\"Boolean-indexing-1.5\"><span class=\"toc-item-num\">1.5&nbsp;&nbsp;</span>Boolean indexing</a></span></li><li><span><a href=\"#Fancy-indexing\" data-toc-modified-id=\"Fancy-indexing-1.6\"><span class=\"toc-item-num\">1.6&nbsp;&nbsp;</span>Fancy indexing</a></span></li><li><span><a href=\"#Transposing-arrays-and-swapping-axes.\" data-toc-modified-id=\"Transposing-arrays-and-swapping-axes.-1.7\"><span class=\"toc-item-num\">1.7&nbsp;&nbsp;</span>Transposing arrays and swapping axes.</a></span></li><li><span><a href=\"#Universal-functions\" data-toc-modified-id=\"Universal-functions-1.8\"><span class=\"toc-item-num\">1.8&nbsp;&nbsp;</span>Universal functions</a></span></li></ul></li><li><span><a href=\"#Data-processing-using-arrays\" data-toc-modified-id=\"Data-processing-using-arrays-2\"><span class=\"toc-item-num\">2&nbsp;&nbsp;</span>Data processing using arrays</a></span><ul class=\"toc-item\"><li><span><a href=\"#Expressing-conditional-logic-as-array-operations.\" data-toc-modified-id=\"Expressing-conditional-logic-as-array-operations.-2.1\"><span class=\"toc-item-num\">2.1&nbsp;&nbsp;</span>Expressing conditional logic as array operations.</a></span></li><li><span><a href=\"#Mathematical-and-statistical-methods\" data-toc-modified-id=\"Mathematical-and-statistical-methods-2.2\"><span class=\"toc-item-num\">2.2&nbsp;&nbsp;</span>Mathematical and statistical methods</a></span></li><li><span><a href=\"#Unique-and-set-logic\" data-toc-modified-id=\"Unique-and-set-logic-2.3\"><span class=\"toc-item-num\">2.3&nbsp;&nbsp;</span>Unique and set logic</a></span></li></ul></li><li><span><a href=\"#File-input-and-output\" data-toc-modified-id=\"File-input-and-output-3\"><span class=\"toc-item-num\">3&nbsp;&nbsp;</span>File input and output</a></span><ul class=\"toc-item\"><li><span><a href=\"#Storing-arrays-on-disk-in-binary-form.\" data-toc-modified-id=\"Storing-arrays-on-disk-in-binary-form.-3.1\"><span class=\"toc-item-num\">3.1&nbsp;&nbsp;</span>Storing arrays on disk in binary form.</a></span></li></ul></li><li><span><a href=\"#Linear-algebra\" data-toc-modified-id=\"Linear-algebra-4\"><span class=\"toc-item-num\">4&nbsp;&nbsp;</span>Linear algebra</a></span></li><li><span><a href=\"#Random-number-generator\" data-toc-modified-id=\"Random-number-generator-5\"><span class=\"toc-item-num\">5&nbsp;&nbsp;</span><strong>Random number generator</strong></a></span><ul class=\"toc-item\"><li><span><a href=\"#Random-walks\" data-toc-modified-id=\"Random-walks-5.1\"><span class=\"toc-item-num\">5.1&nbsp;&nbsp;</span><strong>Random walks</strong></a></span></li></ul></li></ul></div>"
   ]
  },
  {
   "cell_type": "markdown",
   "metadata": {},
   "source": [
    "- numpy (numerical python)\n",
    "\n",
    "- high performance scientific computing and data analysis\n",
    "- `ndarray` = fast space-efficient multidim array with\n",
    "    - vectorized arithmetic operations (no loops)\n",
    "    - sophisticated broadcasting capabilities\n",
    "- sorting, unique, set operation\n",
    "- data alignment\n",
    "- reading / writing arrays to disk and memory-mapped files\n",
    "- linear algebra\n",
    "- random number generation\n",
    "- FFT, ...\n",
    "- tools for integrating code with C, C++, Fortran\n",
    "    - easy C API to call external libraries"
   ]
  },
  {
   "cell_type": "code",
   "execution_count": 92,
   "metadata": {
    "ExecuteTime": {
     "end_time": "2022-12-12T09:45:55.003500Z",
     "start_time": "2022-12-12T09:45:54.999916Z"
    }
   },
   "outputs": [],
   "source": [
    "import numpy as np"
   ]
  },
  {
   "cell_type": "markdown",
   "metadata": {},
   "source": [
    "# numpy ndarray\n",
    "\n",
    "- ndarray = N-Dim array object"
   ]
  },
  {
   "cell_type": "markdown",
   "metadata": {},
   "source": [
    "## Creating arrays"
   ]
  },
  {
   "cell_type": "code",
   "execution_count": 93,
   "metadata": {
    "ExecuteTime": {
     "end_time": "2022-12-12T09:45:55.017072Z",
     "start_time": "2022-12-12T09:45:55.009604Z"
    }
   },
   "outputs": [
    {
     "name": "stdout",
     "output_type": "stream",
     "text": [
      "arr1= [6.  7.5 8.  0.  1. ]\n",
      "arr1.shape= (5,)\n",
      "arr1.dtype= float64\n"
     ]
    }
   ],
   "source": [
    "# From sequence-like object to ndarray.\n",
    "data1 = [6, 7.5, 8, 0, 1]\n",
    "\n",
    "arr1 = np.array(data1)\n",
    "\n",
    "print(\"arr1=\", arr1)\n",
    "# It's like a vector not a matrix.\n",
    "print(\"arr1.shape=\", arr1.shape)\n",
    "print(\"arr1.dtype=\", arr1.dtype)"
   ]
  },
  {
   "cell_type": "code",
   "execution_count": 94,
   "metadata": {
    "ExecuteTime": {
     "end_time": "2022-12-12T09:45:55.028903Z",
     "start_time": "2022-12-12T09:45:55.021436Z"
    }
   },
   "outputs": [
    {
     "name": "stdout",
     "output_type": "stream",
     "text": [
      "arr2=\n",
      " [[1 2 3 4]\n",
      " [5 6 7 8]]\n",
      "arr2.shape= (2, 4)\n",
      "arr2.dtype= int64\n"
     ]
    }
   ],
   "source": [
    "data2 = [[1, 2, 3, 4], [5, 6, 7, 8]]\n",
    "arr2 = np.array(data2)\n",
    "\n",
    "print(\"arr2=\\n\", arr2)\n",
    "print(\"arr2.shape=\", arr2.shape)\n",
    "# np.array() tries to infer the right type, if not done explicitly.\n",
    "print(\"arr2.dtype=\", arr2.dtype)"
   ]
  },
  {
   "cell_type": "code",
   "execution_count": 95,
   "metadata": {
    "ExecuteTime": {
     "end_time": "2022-12-12T09:45:55.102770Z",
     "start_time": "2022-12-12T09:45:55.033378Z"
    }
   },
   "outputs": [
    {
     "data": {
      "text/plain": [
       "array([0., 0., 0., 0., 0., 0., 0., 0., 0., 0.])"
      ]
     },
     "execution_count": 95,
     "metadata": {},
     "output_type": "execute_result"
    }
   ],
   "source": [
    "np.zeros(10)"
   ]
  },
  {
   "cell_type": "code",
   "execution_count": 96,
   "metadata": {
    "ExecuteTime": {
     "end_time": "2022-12-12T09:45:55.125257Z",
     "start_time": "2022-12-12T09:45:55.105810Z"
    }
   },
   "outputs": [
    {
     "data": {
      "text/plain": [
       "array([[0., 0., 0., 0., 0., 0.],\n",
       "       [0., 0., 0., 0., 0., 0.],\n",
       "       [0., 0., 0., 0., 0., 0.]])"
      ]
     },
     "execution_count": 96,
     "metadata": {},
     "output_type": "execute_result"
    }
   ],
   "source": [
    "np.zeros((3, 6))"
   ]
  },
  {
   "cell_type": "code",
   "execution_count": 97,
   "metadata": {
    "ExecuteTime": {
     "end_time": "2022-12-12T09:45:55.136752Z",
     "start_time": "2022-12-12T09:45:55.128731Z"
    }
   },
   "outputs": [
    {
     "data": {
      "text/plain": [
       "array([[0, 0, 0, 0],\n",
       "       [0, 0, 0, 0]])"
      ]
     },
     "execution_count": 97,
     "metadata": {},
     "output_type": "execute_result"
    }
   ],
   "source": [
    "np.zeros_like(arr2)"
   ]
  },
  {
   "cell_type": "code",
   "execution_count": 98,
   "metadata": {
    "ExecuteTime": {
     "end_time": "2022-12-12T09:45:55.150994Z",
     "start_time": "2022-12-12T09:45:55.141292Z"
    }
   },
   "outputs": [
    {
     "data": {
      "text/plain": [
       "array([[[440.49722222,  33.72222222],\n",
       "        [449.73722222,  33.72222222],\n",
       "        [458.97722222,  33.72222222]],\n",
       "\n",
       "       [[458.97722222, 403.32222222],\n",
       "        [449.73722222, 403.32222222],\n",
       "        [440.49722222, 403.32222222]]])"
      ]
     },
     "execution_count": 98,
     "metadata": {},
     "output_type": "execute_result"
    }
   ],
   "source": [
    "# Returns unitialized garbage values.\n",
    "np.empty((2, 3, 2))"
   ]
  },
  {
   "cell_type": "code",
   "execution_count": 99,
   "metadata": {
    "ExecuteTime": {
     "end_time": "2022-12-12T09:45:55.163823Z",
     "start_time": "2022-12-12T09:45:55.156043Z"
    }
   },
   "outputs": [
    {
     "data": {
      "text/plain": [
       "array([ 0,  1,  2,  3,  4,  5,  6,  7,  8,  9, 10, 11, 12, 13, 14])"
      ]
     },
     "execution_count": 99,
     "metadata": {},
     "output_type": "execute_result"
    }
   ],
   "source": [
    "np.arange(15)"
   ]
  },
  {
   "cell_type": "code",
   "execution_count": 100,
   "metadata": {
    "ExecuteTime": {
     "end_time": "2022-12-12T09:45:55.174892Z",
     "start_time": "2022-12-12T09:45:55.166655Z"
    }
   },
   "outputs": [
    {
     "data": {
      "text/plain": [
       "array([[1., 0., 0., 0., 0.],\n",
       "       [0., 1., 0., 0., 0.],\n",
       "       [0., 0., 1., 0., 0.],\n",
       "       [0., 0., 0., 1., 0.],\n",
       "       [0., 0., 0., 0., 1.]])"
      ]
     },
     "execution_count": 100,
     "metadata": {},
     "output_type": "execute_result"
    }
   ],
   "source": [
    "np.eye(5)"
   ]
  },
  {
   "cell_type": "markdown",
   "metadata": {
    "ExecuteTime": {
     "end_time": "2017-12-22T09:45:49.155877Z",
     "start_time": "2017-12-22T01:45:49.141343-08:00"
    }
   },
   "source": [
    "## Data types\n",
    "\n",
    "- map directly onto machine representation\n",
    "    - `int*, uint*`\n",
    "    - `float*`\n",
    "    - `complex*`\n",
    "    - `bool`\n",
    "    - `object` (python object)\n",
    "    - `string*` (fixed length string)\n",
    "    - `unicode*` (fixed length unicode, num of bytes depending on machine)\n",
    "- easy to read / write to disk\n",
    "- easy to interface with low-level code in C and Fortran\n"
   ]
  },
  {
   "cell_type": "code",
   "execution_count": 101,
   "metadata": {
    "ExecuteTime": {
     "end_time": "2022-12-12T09:45:55.188022Z",
     "start_time": "2022-12-12T09:45:55.181527Z"
    }
   },
   "outputs": [
    {
     "name": "stdout",
     "output_type": "stream",
     "text": [
      "[1. 2. 3.]\n"
     ]
    }
   ],
   "source": [
    "arr1 = np.array([1, 2, 3], dtype=np.float64)\n",
    "print(arr1)"
   ]
  },
  {
   "cell_type": "code",
   "execution_count": 102,
   "metadata": {
    "ExecuteTime": {
     "end_time": "2022-12-12T09:45:55.199060Z",
     "start_time": "2022-12-12T09:45:55.192117Z"
    }
   },
   "outputs": [
    {
     "name": "stdout",
     "output_type": "stream",
     "text": [
      "[-1  2  3]\n"
     ]
    }
   ],
   "source": [
    "arr2 = np.array([-1, 2, 3], dtype=np.int32)\n",
    "print(arr2)"
   ]
  },
  {
   "cell_type": "code",
   "execution_count": 103,
   "metadata": {
    "ExecuteTime": {
     "end_time": "2022-12-12T09:45:55.209021Z",
     "start_time": "2022-12-12T09:45:55.202967Z"
    }
   },
   "outputs": [
    {
     "name": "stdout",
     "output_type": "stream",
     "text": [
      "[4294967295          2          3]\n"
     ]
    }
   ],
   "source": [
    "arr2 = np.array([-1, 2, 3], dtype=np.uint32)\n",
    "print(arr2)"
   ]
  },
  {
   "cell_type": "code",
   "execution_count": 104,
   "metadata": {
    "ExecuteTime": {
     "end_time": "2022-12-12T09:45:55.218768Z",
     "start_time": "2022-12-12T09:45:55.212632Z"
    }
   },
   "outputs": [
    {
     "name": "stdout",
     "output_type": "stream",
     "text": [
      "[1 2 3 4 5]\n",
      "int64\n",
      "[1. 2. 3. 4. 5.]\n",
      "float64\n"
     ]
    }
   ],
   "source": [
    "# Cast an array from one type to another.\n",
    "# It always create a new array even if dtype is not changed.\n",
    "arr = np.array([1, 2, 3, 4, 5])\n",
    "print(arr)\n",
    "print(arr.dtype)\n",
    "\n",
    "float_arr = arr.astype(np.float64)\n",
    "print(float_arr)\n",
    "print(float_arr.dtype)"
   ]
  },
  {
   "cell_type": "code",
   "execution_count": 105,
   "metadata": {
    "ExecuteTime": {
     "end_time": "2022-12-12T09:45:55.228977Z",
     "start_time": "2022-12-12T09:45:55.222182Z"
    }
   },
   "outputs": [
    {
     "name": "stdout",
     "output_type": "stream",
     "text": [
      "[b'1.25' b'-9.6' b'42']\n",
      "|S4\n",
      "[ 1.25 -9.6  42.  ]\n"
     ]
    }
   ],
   "source": [
    "str_arr = np.array(['1.25', '-9.6', '42'], dtype=np.string_)\n",
    "print(str_arr)\n",
    "print(str_arr.dtype)\n",
    "\n",
    "print(str_arr.astype(float))"
   ]
  },
  {
   "cell_type": "markdown",
   "metadata": {},
   "source": [
    "## Operations between Arrays and Scalar\n",
    "\n",
    "- One can express operations on data without for loops"
   ]
  },
  {
   "cell_type": "code",
   "execution_count": 106,
   "metadata": {
    "ExecuteTime": {
     "end_time": "2022-12-12T09:45:55.239648Z",
     "start_time": "2022-12-12T09:45:55.232888Z"
    }
   },
   "outputs": [
    {
     "name": "stdout",
     "output_type": "stream",
     "text": [
      "[[ 2.  4.  6.]\n",
      " [ 8. 10. 12.]]\n",
      "[[1.         0.5        0.33333333]\n",
      " [0.25       0.2        0.16666667]]\n",
      "[[ 1.  4.  9.]\n",
      " [16. 25. 36.]]\n",
      "[[1.         1.41421356 1.73205081]\n",
      " [2.         2.23606798 2.44948974]]\n"
     ]
    }
   ],
   "source": [
    "arr = np.array([[1., 2., 3.], [4., 5., 6.]])\n",
    "\n",
    "print(arr + arr)\n",
    "# Broadcast.\n",
    "print(1 / arr)\n",
    "print(arr * arr)\n",
    "print(arr ** 0.5)"
   ]
  },
  {
   "cell_type": "markdown",
   "metadata": {
    "ExecuteTime": {
     "end_time": "2017-12-22T09:54:07.604942Z",
     "start_time": "2017-12-22T01:54:07.589855-08:00"
    }
   },
   "source": [
    "## Basic index and slicing"
   ]
  },
  {
   "cell_type": "code",
   "execution_count": 107,
   "metadata": {
    "ExecuteTime": {
     "end_time": "2022-12-12T09:45:55.249022Z",
     "start_time": "2022-12-12T09:45:55.243271Z"
    }
   },
   "outputs": [
    {
     "name": "stdout",
     "output_type": "stream",
     "text": [
      "[0 1 2 3 4 5 6 7 8 9]\n",
      "5\n",
      "[5 6 7]\n"
     ]
    }
   ],
   "source": [
    "arr = np.arange(10)\n",
    "\n",
    "print(arr)\n",
    "\n",
    "print(arr[5])\n",
    "print(arr[5:8])"
   ]
  },
  {
   "cell_type": "code",
   "execution_count": 108,
   "metadata": {
    "ExecuteTime": {
     "end_time": "2022-12-12T09:45:55.257954Z",
     "start_time": "2022-12-12T09:45:55.252883Z"
    }
   },
   "outputs": [
    {
     "name": "stdout",
     "output_type": "stream",
     "text": [
      "[ 0  1  2  3  4 12 12 12  8  9]\n"
     ]
    }
   ],
   "source": [
    "# Broadcasting write.\n",
    "arr[5:8]= 12\n",
    "print(arr)"
   ]
  },
  {
   "cell_type": "code",
   "execution_count": 109,
   "metadata": {
    "ExecuteTime": {
     "end_time": "2022-12-12T09:45:55.268735Z",
     "start_time": "2022-12-12T09:45:55.261418Z"
    }
   },
   "outputs": [
    {
     "name": "stdout",
     "output_type": "stream",
     "text": [
      "[12 12 12]\n",
      "[   12 12345    12]\n",
      "[64 64 64]\n",
      "[ 0  1  2  3  4 64 64 64  8  9]\n"
     ]
    }
   ],
   "source": [
    "# Slices are \"views\" on the original array. No data is copied.\n",
    "\n",
    "arr_slice = arr[5:8]\n",
    "print(arr_slice)\n",
    "\n",
    "arr_slice[1] = 12345\n",
    "print(arr_slice)\n",
    "\n",
    "arr_slice[:] = 64\n",
    "print(arr_slice)\n",
    "\n",
    "print(arr)"
   ]
  },
  {
   "cell_type": "code",
   "execution_count": 110,
   "metadata": {
    "ExecuteTime": {
     "end_time": "2022-12-12T09:45:55.278791Z",
     "start_time": "2022-12-12T09:45:55.272566Z"
    }
   },
   "outputs": [
    {
     "name": "stdout",
     "output_type": "stream",
     "text": [
      "[[1 2 3]\n",
      " [4 5 6]\n",
      " [7 8 9]]\n"
     ]
    }
   ],
   "source": [
    "arr2d = np.array([[1, 2, 3], [4, 5, 6], [7, 8, 9]])\n",
    "print(arr2d)"
   ]
  },
  {
   "cell_type": "code",
   "execution_count": 111,
   "metadata": {
    "ExecuteTime": {
     "end_time": "2022-12-12T09:45:55.287748Z",
     "start_time": "2022-12-12T09:45:55.282494Z"
    }
   },
   "outputs": [
    {
     "name": "stdout",
     "output_type": "stream",
     "text": [
      "[7 8 9]\n"
     ]
    }
   ],
   "source": [
    "print(arr2d[2])"
   ]
  },
  {
   "cell_type": "code",
   "execution_count": 112,
   "metadata": {
    "ExecuteTime": {
     "end_time": "2022-12-12T09:45:55.297403Z",
     "start_time": "2022-12-12T09:45:55.292564Z"
    }
   },
   "outputs": [
    {
     "name": "stdout",
     "output_type": "stream",
     "text": [
      "7\n"
     ]
    }
   ],
   "source": [
    "print(arr2d[2][0])"
   ]
  },
  {
   "cell_type": "code",
   "execution_count": 113,
   "metadata": {
    "ExecuteTime": {
     "end_time": "2022-12-12T09:45:55.307847Z",
     "start_time": "2022-12-12T09:45:55.300744Z"
    }
   },
   "outputs": [
    {
     "name": "stdout",
     "output_type": "stream",
     "text": [
      "[[[ 1  2  3]\n",
      "  [ 4  5  6]]\n",
      "\n",
      " [[ 7  8  9]\n",
      "  [10 11 12]]]\n",
      "(2, 2, 3)\n"
     ]
    }
   ],
   "source": [
    "arr3d = np.array([[[1, 2, 3], [4, 5, 6]], [[7, 8, 9], [10, 11, 12]]])\n",
    "print(arr3d)\n",
    "print(arr3d.shape)"
   ]
  },
  {
   "cell_type": "code",
   "execution_count": 114,
   "metadata": {
    "ExecuteTime": {
     "end_time": "2022-12-12T09:45:55.317233Z",
     "start_time": "2022-12-12T09:45:55.311575Z"
    }
   },
   "outputs": [
    {
     "name": "stdout",
     "output_type": "stream",
     "text": [
      "[[1 2 3]\n",
      " [4 5 6]]\n"
     ]
    }
   ],
   "source": [
    "# Fixing the first index, returns a 2x3 array.\n",
    "print(arr3d[0])"
   ]
  },
  {
   "cell_type": "code",
   "execution_count": 115,
   "metadata": {
    "ExecuteTime": {
     "end_time": "2022-12-12T09:45:55.327094Z",
     "start_time": "2022-12-12T09:45:55.321286Z"
    }
   },
   "outputs": [
    {
     "name": "stdout",
     "output_type": "stream",
     "text": [
      "[[[42 42 42]\n",
      "  [42 42 42]]\n",
      "\n",
      " [[ 7  8  9]\n",
      "  [10 11 12]]]\n"
     ]
    }
   ],
   "source": [
    "arr3d[0] = 42\n",
    "\n",
    "print(arr3d)"
   ]
  },
  {
   "cell_type": "code",
   "execution_count": 116,
   "metadata": {
    "ExecuteTime": {
     "end_time": "2022-12-12T09:45:55.336401Z",
     "start_time": "2022-12-12T09:45:55.330725Z"
    }
   },
   "outputs": [
    {
     "name": "stdout",
     "output_type": "stream",
     "text": [
      "[7 8 9]\n",
      "[7 8 9]\n"
     ]
    }
   ],
   "source": [
    "# Return all the values whose indices start with (1, 0), i.e.,\n",
    "# a 1-d array.\n",
    "print(arr3d[1][0])\n",
    "print(arr3d[1, 0])"
   ]
  },
  {
   "cell_type": "markdown",
   "metadata": {},
   "source": [
    "### Indexing with slices."
   ]
  },
  {
   "cell_type": "code",
   "execution_count": 117,
   "metadata": {
    "ExecuteTime": {
     "end_time": "2022-12-12T09:45:55.347447Z",
     "start_time": "2022-12-12T09:45:55.339568Z"
    }
   },
   "outputs": [
    {
     "data": {
      "text/plain": [
       "array([[1, 2, 3],\n",
       "       [4, 5, 6],\n",
       "       [7, 8, 9]])"
      ]
     },
     "execution_count": 117,
     "metadata": {},
     "output_type": "execute_result"
    }
   ],
   "source": [
    "arr2d"
   ]
  },
  {
   "cell_type": "code",
   "execution_count": 118,
   "metadata": {
    "ExecuteTime": {
     "end_time": "2022-12-12T09:45:55.356254Z",
     "start_time": "2022-12-12T09:45:55.350702Z"
    }
   },
   "outputs": [
    {
     "name": "stdout",
     "output_type": "stream",
     "text": [
      "[[1 2 3]\n",
      " [4 5 6]]\n",
      "(2, 3)\n"
     ]
    }
   ],
   "source": [
    "# Slice first index, i.e., columns.\n",
    "print(arr2d[:2])\n",
    "print(arr2d[:2].shape)"
   ]
  },
  {
   "cell_type": "code",
   "execution_count": 119,
   "metadata": {
    "ExecuteTime": {
     "end_time": "2022-12-12T09:45:55.373166Z",
     "start_time": "2022-12-12T09:45:55.366986Z"
    }
   },
   "outputs": [
    {
     "data": {
      "text/plain": [
       "array([[2, 3],\n",
       "       [5, 6]])"
      ]
     },
     "execution_count": 119,
     "metadata": {},
     "output_type": "execute_result"
    }
   ],
   "source": [
    "arr2d[:2, 1:]"
   ]
  },
  {
   "cell_type": "code",
   "execution_count": 120,
   "metadata": {
    "ExecuteTime": {
     "end_time": "2022-12-12T09:45:55.383840Z",
     "start_time": "2022-12-12T09:45:55.377061Z"
    }
   },
   "outputs": [
    {
     "data": {
      "text/plain": [
       "array([4, 5])"
      ]
     },
     "execution_count": 120,
     "metadata": {},
     "output_type": "execute_result"
    }
   ],
   "source": [
    "arr2d[1, :2]"
   ]
  },
  {
   "cell_type": "code",
   "execution_count": 121,
   "metadata": {
    "ExecuteTime": {
     "end_time": "2022-12-12T09:45:55.394084Z",
     "start_time": "2022-12-12T09:45:55.386752Z"
    }
   },
   "outputs": [
    {
     "data": {
      "text/plain": [
       "array([7])"
      ]
     },
     "execution_count": 121,
     "metadata": {},
     "output_type": "execute_result"
    }
   ],
   "source": [
    "arr2d[2, :1]"
   ]
  },
  {
   "cell_type": "code",
   "execution_count": 122,
   "metadata": {
    "ExecuteTime": {
     "end_time": "2022-12-12T09:45:55.405163Z",
     "start_time": "2022-12-12T09:45:55.398434Z"
    }
   },
   "outputs": [
    {
     "data": {
      "text/plain": [
       "array([[1],\n",
       "       [4],\n",
       "       [7]])"
      ]
     },
     "execution_count": 122,
     "metadata": {},
     "output_type": "execute_result"
    }
   ],
   "source": [
    "# A colon : means \"the entire axis\"\n",
    "arr2d[:, :1]"
   ]
  },
  {
   "cell_type": "markdown",
   "metadata": {},
   "source": [
    "## Boolean indexing"
   ]
  },
  {
   "cell_type": "code",
   "execution_count": 123,
   "metadata": {
    "ExecuteTime": {
     "end_time": "2022-12-12T09:45:55.415432Z",
     "start_time": "2022-12-12T09:45:55.409290Z"
    }
   },
   "outputs": [
    {
     "name": "stdout",
     "output_type": "stream",
     "text": [
      "['Bob' 'Joe' 'Will' 'Bob' 'Will' 'Joe' 'Joe']\n",
      "array(['Bob', 'Joe', 'Will', 'Bob', 'Will', 'Joe', 'Joe'], dtype='<U4')\n"
     ]
    }
   ],
   "source": [
    "names = np.array(['Bob', 'Joe', 'Will', 'Bob', 'Will', 'Joe', 'Joe'])\n",
    "\n",
    "print(str(names))\n",
    "print(repr(names))"
   ]
  },
  {
   "cell_type": "code",
   "execution_count": 124,
   "metadata": {
    "ExecuteTime": {
     "end_time": "2022-12-12T09:45:55.425951Z",
     "start_time": "2022-12-12T09:45:55.419057Z"
    }
   },
   "outputs": [
    {
     "name": "stdout",
     "output_type": "stream",
     "text": [
      "[[ 0.49671415 -0.1382643   0.64768854  1.52302986]\n",
      " [-0.23415337 -0.23413696  1.57921282  0.76743473]\n",
      " [-0.46947439  0.54256004 -0.46341769 -0.46572975]\n",
      " [ 0.24196227 -1.91328024 -1.72491783 -0.56228753]\n",
      " [-1.01283112  0.31424733 -0.90802408 -1.4123037 ]\n",
      " [ 1.46564877 -0.2257763   0.0675282  -1.42474819]\n",
      " [-0.54438272  0.11092259 -1.15099358  0.37569802]]\n"
     ]
    }
   ],
   "source": [
    "np.random.seed(42)\n",
    "# Normal data.\n",
    "data = np.random.randn(7, 4)\n",
    "print(data)"
   ]
  },
  {
   "cell_type": "code",
   "execution_count": 125,
   "metadata": {
    "ExecuteTime": {
     "end_time": "2022-12-12T09:45:55.439833Z",
     "start_time": "2022-12-12T09:45:55.429174Z"
    }
   },
   "outputs": [
    {
     "name": "stdout",
     "output_type": "stream",
     "text": [
      "['Bob' 'Joe' 'Will' 'Bob' 'Will' 'Joe' 'Joe']\n"
     ]
    },
    {
     "data": {
      "text/plain": [
       "array([ True, False, False,  True, False, False, False])"
      ]
     },
     "execution_count": 125,
     "metadata": {},
     "output_type": "execute_result"
    }
   ],
   "source": [
    "print(names)\n",
    "names == \"Bob\""
   ]
  },
  {
   "cell_type": "code",
   "execution_count": 126,
   "metadata": {
    "ExecuteTime": {
     "end_time": "2022-12-12T09:45:55.451413Z",
     "start_time": "2022-12-12T09:45:55.443310Z"
    }
   },
   "outputs": [
    {
     "data": {
      "text/plain": [
       "array([[ 0.49671415, -0.1382643 ,  0.64768854,  1.52302986],\n",
       "       [ 0.24196227, -1.91328024, -1.72491783, -0.56228753]])"
      ]
     },
     "execution_count": 126,
     "metadata": {},
     "output_type": "execute_result"
    }
   ],
   "source": [
    "data[names == \"Bob\"]"
   ]
  },
  {
   "cell_type": "code",
   "execution_count": 127,
   "metadata": {
    "ExecuteTime": {
     "end_time": "2022-12-12T09:45:55.462297Z",
     "start_time": "2022-12-12T09:45:55.455180Z"
    }
   },
   "outputs": [
    {
     "data": {
      "text/plain": [
       "array([[ 0.64768854,  1.52302986],\n",
       "       [-1.72491783, -0.56228753]])"
      ]
     },
     "execution_count": 127,
     "metadata": {},
     "output_type": "execute_result"
    }
   ],
   "source": [
    "data[names == \"Bob\", 2:]"
   ]
  },
  {
   "cell_type": "code",
   "execution_count": 128,
   "metadata": {
    "ExecuteTime": {
     "end_time": "2022-12-12T09:45:55.474363Z",
     "start_time": "2022-12-12T09:45:55.465799Z"
    }
   },
   "outputs": [
    {
     "data": {
      "text/plain": [
       "array([False,  True,  True, False,  True,  True,  True])"
      ]
     },
     "execution_count": 128,
     "metadata": {},
     "output_type": "execute_result"
    }
   ],
   "source": [
    "names != \"Bob\""
   ]
  },
  {
   "cell_type": "code",
   "execution_count": 129,
   "metadata": {
    "ExecuteTime": {
     "end_time": "2022-12-12T09:45:55.486723Z",
     "start_time": "2022-12-12T09:45:55.477559Z"
    }
   },
   "outputs": [
    {
     "name": "stdout",
     "output_type": "stream",
     "text": [
      "[False  True  True False  True  True  True]\n"
     ]
    },
    {
     "data": {
      "text/plain": [
       "array([[-0.23415337, -0.23413696,  1.57921282,  0.76743473],\n",
       "       [-0.46947439,  0.54256004, -0.46341769, -0.46572975],\n",
       "       [-1.01283112,  0.31424733, -0.90802408, -1.4123037 ],\n",
       "       [ 1.46564877, -0.2257763 ,  0.0675282 , -1.42474819],\n",
       "       [-0.54438272,  0.11092259, -1.15099358,  0.37569802]])"
      ]
     },
     "execution_count": 129,
     "metadata": {},
     "output_type": "execute_result"
    }
   ],
   "source": [
    "print(~(names == \"Bob\"))\n",
    "data[~(names == \"Bob\")]"
   ]
  },
  {
   "cell_type": "code",
   "execution_count": 130,
   "metadata": {
    "ExecuteTime": {
     "end_time": "2022-12-12T09:45:55.496706Z",
     "start_time": "2022-12-12T09:45:55.489807Z"
    }
   },
   "outputs": [
    {
     "data": {
      "text/plain": [
       "array([[ 0.49671415, -0.1382643 ,  0.64768854,  1.52302986],\n",
       "       [-0.23415337, -0.23413696,  1.57921282,  0.76743473],\n",
       "       [-0.46947439,  0.54256004, -0.46341769, -0.46572975],\n",
       "       [ 0.24196227, -1.91328024, -1.72491783, -0.56228753],\n",
       "       [-1.01283112,  0.31424733, -0.90802408, -1.4123037 ],\n",
       "       [ 1.46564877, -0.2257763 ,  0.0675282 , -1.42474819],\n",
       "       [-0.54438272,  0.11092259, -1.15099358,  0.37569802]])"
      ]
     },
     "execution_count": 130,
     "metadata": {},
     "output_type": "execute_result"
    }
   ],
   "source": [
    "data"
   ]
  },
  {
   "cell_type": "code",
   "execution_count": 131,
   "metadata": {
    "ExecuteTime": {
     "end_time": "2022-12-12T09:45:55.507787Z",
     "start_time": "2022-12-12T09:45:55.500005Z"
    }
   },
   "outputs": [
    {
     "data": {
      "text/plain": [
       "array([[0.49671415, 0.        , 0.64768854, 1.52302986],\n",
       "       [0.        , 0.        , 1.57921282, 0.76743473],\n",
       "       [0.        , 0.54256004, 0.        , 0.        ],\n",
       "       [0.24196227, 0.        , 0.        , 0.        ],\n",
       "       [0.        , 0.31424733, 0.        , 0.        ],\n",
       "       [1.46564877, 0.        , 0.0675282 , 0.        ],\n",
       "       [0.        , 0.11092259, 0.        , 0.37569802]])"
      ]
     },
     "execution_count": 131,
     "metadata": {},
     "output_type": "execute_result"
    }
   ],
   "source": [
    "data[data < 0] = 0\n",
    "data"
   ]
  },
  {
   "cell_type": "markdown",
   "metadata": {},
   "source": [
    "## Fancy indexing\n",
    "\n",
    "- One can index using integer arrays"
   ]
  },
  {
   "cell_type": "code",
   "execution_count": 132,
   "metadata": {
    "ExecuteTime": {
     "end_time": "2022-12-12T09:45:55.515676Z",
     "start_time": "2022-12-12T09:45:55.511106Z"
    }
   },
   "outputs": [],
   "source": [
    "arr = np.empty((8, 4))"
   ]
  },
  {
   "cell_type": "code",
   "execution_count": 133,
   "metadata": {
    "ExecuteTime": {
     "end_time": "2022-12-12T09:45:55.524766Z",
     "start_time": "2022-12-12T09:45:55.518016Z"
    }
   },
   "outputs": [
    {
     "name": "stdout",
     "output_type": "stream",
     "text": [
      "[[0. 0. 0. 0.]\n",
      " [1. 1. 1. 1.]\n",
      " [2. 2. 2. 2.]\n",
      " [3. 3. 3. 3.]\n",
      " [4. 4. 4. 4.]\n",
      " [5. 5. 5. 5.]\n",
      " [6. 6. 6. 6.]\n",
      " [7. 7. 7. 7.]]\n"
     ]
    }
   ],
   "source": [
    "for i in range(8):\n",
    "    arr[i] = i\n",
    "\n",
    "print(arr)"
   ]
  },
  {
   "cell_type": "code",
   "execution_count": 134,
   "metadata": {
    "ExecuteTime": {
     "end_time": "2022-12-12T09:45:55.535678Z",
     "start_time": "2022-12-12T09:45:55.528138Z"
    }
   },
   "outputs": [
    {
     "data": {
      "text/plain": [
       "array([[4., 4., 4., 4.],\n",
       "       [3., 3., 3., 3.],\n",
       "       [0., 0., 0., 0.],\n",
       "       [6., 6., 6., 6.]])"
      ]
     },
     "execution_count": 134,
     "metadata": {},
     "output_type": "execute_result"
    }
   ],
   "source": [
    "# Select rows using certain indices.\n",
    "arr[[4, 3, 0, 6]]"
   ]
  },
  {
   "cell_type": "code",
   "execution_count": 135,
   "metadata": {
    "ExecuteTime": {
     "end_time": "2022-12-12T09:45:55.546298Z",
     "start_time": "2022-12-12T09:45:55.539829Z"
    }
   },
   "outputs": [
    {
     "data": {
      "text/plain": [
       "array([[5., 5., 5., 5.],\n",
       "       [3., 3., 3., 3.],\n",
       "       [1., 1., 1., 1.]])"
      ]
     },
     "execution_count": 135,
     "metadata": {},
     "output_type": "execute_result"
    }
   ],
   "source": [
    "# Negative indices work as expected.\n",
    "arr[[-3, -5, -7]]"
   ]
  },
  {
   "cell_type": "code",
   "execution_count": 136,
   "metadata": {
    "ExecuteTime": {
     "end_time": "2022-12-12T09:45:55.555931Z",
     "start_time": "2022-12-12T09:45:55.549876Z"
    }
   },
   "outputs": [
    {
     "name": "stdout",
     "output_type": "stream",
     "text": [
      "[[ 0  1  2  3]\n",
      " [ 4  5  6  7]\n",
      " [ 8  9 10 11]\n",
      " [12 13 14 15]\n",
      " [16 17 18 19]\n",
      " [20 21 22 23]\n",
      " [24 25 26 27]\n",
      " [28 29 30 31]]\n"
     ]
    }
   ],
   "source": [
    "arr = np.arange(32).reshape((8, 4))\n",
    "\n",
    "print(str(arr))"
   ]
  },
  {
   "cell_type": "code",
   "execution_count": 137,
   "metadata": {
    "ExecuteTime": {
     "end_time": "2022-12-12T09:45:55.566730Z",
     "start_time": "2022-12-12T09:45:55.558848Z"
    }
   },
   "outputs": [
    {
     "data": {
      "text/plain": [
       "array([ 4, 23, 29, 10])"
      ]
     },
     "execution_count": 137,
     "metadata": {},
     "output_type": "execute_result"
    }
   ],
   "source": [
    "# WARNING: It doesn't select 4 rows and 4 columns.\n",
    "# It gets elements (1, 0), (5, 3), (7, 1), (2, 2).\n",
    "arr[[1, 5, 7, 2], [0, 3, 1, 2]]"
   ]
  },
  {
   "cell_type": "code",
   "execution_count": 138,
   "metadata": {
    "ExecuteTime": {
     "end_time": "2022-12-12T09:45:55.580488Z",
     "start_time": "2022-12-12T09:45:55.571049Z"
    }
   },
   "outputs": [
    {
     "data": {
      "text/plain": [
       "array([[ 4,  7,  5,  6],\n",
       "       [20, 23, 21, 22],\n",
       "       [28, 31, 29, 30],\n",
       "       [ 8, 11,  9, 10]])"
      ]
     },
     "execution_count": 138,
     "metadata": {},
     "output_type": "execute_result"
    }
   ],
   "source": [
    "# To select 4 rows and 4 columns.\n",
    "arr[[1, 5, 7, 2]][:, [0, 3, 1, 2]]"
   ]
  },
  {
   "cell_type": "code",
   "execution_count": 139,
   "metadata": {
    "ExecuteTime": {
     "end_time": "2022-12-12T09:45:55.590478Z",
     "start_time": "2022-12-12T09:45:55.583502Z"
    }
   },
   "outputs": [
    {
     "name": "stdout",
     "output_type": "stream",
     "text": [
      "Help on function ix_ in module numpy:\n",
      "\n",
      "ix_(*args)\n",
      "    Construct an open mesh from multiple sequences.\n",
      "    \n",
      "    This function takes N 1-D sequences and returns N outputs with N\n",
      "    dimensions each, such that the shape is 1 in all but one dimension\n",
      "    and the dimension with the non-unit shape value cycles through all\n",
      "    N dimensions.\n",
      "    \n",
      "    Using `ix_` one can quickly construct index arrays that will index\n",
      "    the cross product. ``a[np.ix_([1,3],[2,5])]`` returns the array\n",
      "    ``[[a[1,2] a[1,5]], [a[3,2] a[3,5]]]``.\n",
      "    \n",
      "    Parameters\n",
      "    ----------\n",
      "    args : 1-D sequences\n",
      "        Each sequence should be of integer or boolean type.\n",
      "        Boolean sequences will be interpreted as boolean masks for the\n",
      "        corresponding dimension (equivalent to passing in\n",
      "        ``np.nonzero(boolean_sequence)``).\n",
      "    \n",
      "    Returns\n",
      "    -------\n",
      "    out : tuple of ndarrays\n",
      "        N arrays with N dimensions each, with N the number of input\n",
      "        sequences. Together these arrays form an open mesh.\n",
      "    \n",
      "    See Also\n",
      "    --------\n",
      "    ogrid, mgrid, meshgrid\n",
      "    \n",
      "    Examples\n",
      "    --------\n",
      "    >>> a = np.arange(10).reshape(2, 5)\n",
      "    >>> a\n",
      "    array([[0, 1, 2, 3, 4],\n",
      "           [5, 6, 7, 8, 9]])\n",
      "    >>> ixgrid = np.ix_([0, 1], [2, 4])\n",
      "    >>> ixgrid\n",
      "    (array([[0],\n",
      "           [1]]), array([[2, 4]]))\n",
      "    >>> ixgrid[0].shape, ixgrid[1].shape\n",
      "    ((2, 1), (1, 2))\n",
      "    >>> a[ixgrid]\n",
      "    array([[2, 4],\n",
      "           [7, 9]])\n",
      "    \n",
      "    >>> ixgrid = np.ix_([True, True], [2, 4])\n",
      "    >>> a[ixgrid]\n",
      "    array([[2, 4],\n",
      "           [7, 9]])\n",
      "    >>> ixgrid = np.ix_([True, True], [False, False, True, False, True])\n",
      "    >>> a[ixgrid]\n",
      "    array([[2, 4],\n",
      "           [7, 9]])\n",
      "\n"
     ]
    }
   ],
   "source": [
    "help(np.ix_)"
   ]
  },
  {
   "cell_type": "code",
   "execution_count": 140,
   "metadata": {
    "ExecuteTime": {
     "end_time": "2022-12-12T09:45:55.601684Z",
     "start_time": "2022-12-12T09:45:55.593578Z"
    }
   },
   "outputs": [
    {
     "name": "stdout",
     "output_type": "stream",
     "text": [
      "(array([[1],\n",
      "       [5],\n",
      "       [7],\n",
      "       [2]]), array([[0, 3, 1, 2]]))\n",
      "[[ 4  7  5  6]\n",
      " [20 23 21 22]\n",
      " [28 31 29 30]\n",
      " [ 8 11  9 10]]\n"
     ]
    }
   ],
   "source": [
    "# np.ix_() converts indices.\n",
    "idxs = np.ix_([1, 5, 7, 2], [0, 3, 1, 2])\n",
    "print(idxs)\n",
    "\n",
    "print(arr[idxs])"
   ]
  },
  {
   "cell_type": "markdown",
   "metadata": {
    "ExecuteTime": {
     "end_time": "2017-12-22T10:53:08.468872Z",
     "start_time": "2017-12-22T02:53:08.452542-08:00"
    }
   },
   "source": [
    "## Transposing arrays and swapping axes."
   ]
  },
  {
   "cell_type": "code",
   "execution_count": 141,
   "metadata": {
    "ExecuteTime": {
     "end_time": "2022-12-12T09:45:55.610680Z",
     "start_time": "2022-12-12T09:45:55.605936Z"
    }
   },
   "outputs": [
    {
     "name": "stdout",
     "output_type": "stream",
     "text": [
      "[[ 0  1  2  3  4]\n",
      " [ 5  6  7  8  9]\n",
      " [10 11 12 13 14]]\n"
     ]
    }
   ],
   "source": [
    "arr = np.arange(15).reshape((3, 5))\n",
    "print(arr)"
   ]
  },
  {
   "cell_type": "code",
   "execution_count": 142,
   "metadata": {
    "ExecuteTime": {
     "end_time": "2022-12-12T09:45:55.619001Z",
     "start_time": "2022-12-12T09:45:55.613963Z"
    }
   },
   "outputs": [
    {
     "name": "stdout",
     "output_type": "stream",
     "text": [
      "[[ 0  5 10]\n",
      " [ 1  6 11]\n",
      " [ 2  7 12]\n",
      " [ 3  8 13]\n",
      " [ 4  9 14]]\n"
     ]
    }
   ],
   "source": [
    "print(arr.T)"
   ]
  },
  {
   "cell_type": "code",
   "execution_count": 143,
   "metadata": {
    "ExecuteTime": {
     "end_time": "2022-12-12T09:45:55.630249Z",
     "start_time": "2022-12-12T09:45:55.623064Z"
    }
   },
   "outputs": [
    {
     "data": {
      "text/plain": [
       "array([[125, 140, 155, 170, 185],\n",
       "       [140, 158, 176, 194, 212],\n",
       "       [155, 176, 197, 218, 239],\n",
       "       [170, 194, 218, 242, 266],\n",
       "       [185, 212, 239, 266, 293]])"
      ]
     },
     "execution_count": 143,
     "metadata": {},
     "output_type": "execute_result"
    }
   ],
   "source": [
    "np.dot(arr.T, arr)"
   ]
  },
  {
   "cell_type": "code",
   "execution_count": 144,
   "metadata": {
    "ExecuteTime": {
     "end_time": "2022-12-12T09:45:55.639670Z",
     "start_time": "2022-12-12T09:45:55.633372Z"
    }
   },
   "outputs": [
    {
     "name": "stdout",
     "output_type": "stream",
     "text": [
      "[[[ 0  1  2  3]\n",
      "  [ 4  5  6  7]]\n",
      "\n",
      " [[ 8  9 10 11]\n",
      "  [12 13 14 15]]]\n"
     ]
    }
   ],
   "source": [
    "arr = np.arange(16).reshape((2, 2, 4))\n",
    "print(arr)"
   ]
  },
  {
   "cell_type": "markdown",
   "metadata": {},
   "source": [
    "## Universal functions\n",
    "\n",
    "- ufunc performs elementwise operations on data in ndarrays"
   ]
  },
  {
   "cell_type": "code",
   "execution_count": 145,
   "metadata": {
    "ExecuteTime": {
     "end_time": "2022-12-12T09:45:55.649014Z",
     "start_time": "2022-12-12T09:45:55.642925Z"
    }
   },
   "outputs": [
    {
     "name": "stdout",
     "output_type": "stream",
     "text": [
      "[0.         1.         1.41421356 1.73205081 2.         2.23606798\n",
      " 2.44948974 2.64575131 2.82842712 3.        ]\n",
      "[1.00000000e+00 2.71828183e+00 7.38905610e+00 2.00855369e+01\n",
      " 5.45981500e+01 1.48413159e+02 4.03428793e+02 1.09663316e+03\n",
      " 2.98095799e+03 8.10308393e+03]\n"
     ]
    }
   ],
   "source": [
    "arr = np.arange(10)\n",
    "\n",
    "print(np.sqrt(arr))\n",
    "print(np.exp(arr))"
   ]
  },
  {
   "cell_type": "code",
   "execution_count": 146,
   "metadata": {
    "ExecuteTime": {
     "end_time": "2022-12-12T09:45:55.659256Z",
     "start_time": "2022-12-12T09:45:55.652257Z"
    }
   },
   "outputs": [
    {
     "name": "stdout",
     "output_type": "stream",
     "text": [
      "[ 0.49671415 -0.1382643   0.64768854  1.52302986 -0.23415337 -0.23413696\n",
      "  1.57921282  0.76743473]\n",
      "[-0.46947439  0.54256004 -0.46341769 -0.46572975  0.24196227 -1.91328024\n",
      " -1.72491783 -0.56228753]\n",
      "[ 0.49671415  0.54256004  0.64768854  1.52302986  0.24196227 -0.23413696\n",
      "  1.57921282  0.76743473]\n"
     ]
    }
   ],
   "source": [
    "np.random.seed(42)\n",
    "x = np.random.randn(8)\n",
    "y = np.random.randn(8)\n",
    "\n",
    "print(x)\n",
    "print(y)\n",
    "\n",
    "print(np.maximum(x, y))"
   ]
  },
  {
   "cell_type": "code",
   "execution_count": 147,
   "metadata": {
    "ExecuteTime": {
     "end_time": "2022-12-12T09:45:55.669641Z",
     "start_time": "2022-12-12T09:45:55.662909Z"
    }
   },
   "outputs": [
    {
     "data": {
      "text/plain": [
       "array([ 0.02723977,  0.40429574,  0.18427085,  1.0573001 ,  0.0078089 ,\n",
       "       -2.1474172 , -0.14570502,  0.2051472 ])"
      ]
     },
     "execution_count": 147,
     "metadata": {},
     "output_type": "execute_result"
    }
   ],
   "source": [
    "np.add(x, y)"
   ]
  },
  {
   "cell_type": "code",
   "execution_count": 148,
   "metadata": {
    "ExecuteTime": {
     "end_time": "2022-12-12T09:45:55.681068Z",
     "start_time": "2022-12-12T09:45:55.672522Z"
    }
   },
   "outputs": [
    {
     "data": {
      "text/plain": [
       "array([ True, False,  True,  True, False,  True,  True,  True])"
      ]
     },
     "execution_count": 148,
     "metadata": {},
     "output_type": "execute_result"
    }
   ],
   "source": [
    "np.greater(x, y)"
   ]
  },
  {
   "cell_type": "code",
   "execution_count": 149,
   "metadata": {
    "ExecuteTime": {
     "end_time": "2022-12-12T09:45:55.691013Z",
     "start_time": "2022-12-12T09:45:55.683772Z"
    }
   },
   "outputs": [
    {
     "data": {
      "text/plain": [
       "array([ True,  True,  True,  True,  True,  True,  True,  True])"
      ]
     },
     "execution_count": 149,
     "metadata": {},
     "output_type": "execute_result"
    }
   ],
   "source": [
    "np.not_equal(x, y)"
   ]
  },
  {
   "cell_type": "code",
   "execution_count": 150,
   "metadata": {
    "ExecuteTime": {
     "end_time": "2022-12-12T09:45:55.704335Z",
     "start_time": "2022-12-12T09:45:55.694848Z"
    }
   },
   "outputs": [
    {
     "data": {
      "text/plain": [
       "array([False,  True, False, False,  True, False, False, False])"
      ]
     },
     "execution_count": 150,
     "metadata": {},
     "output_type": "execute_result"
    }
   ],
   "source": [
    "np.logical_xor(\n",
    "    np.not_equal(x, y),\n",
    "    np.greater(x, y))"
   ]
  },
  {
   "cell_type": "markdown",
   "metadata": {},
   "source": [
    "# Data processing using arrays"
   ]
  },
  {
   "cell_type": "code",
   "execution_count": 151,
   "metadata": {
    "ExecuteTime": {
     "end_time": "2022-12-12T09:45:55.731135Z",
     "start_time": "2022-12-12T09:45:55.708072Z"
    },
    "scrolled": false
   },
   "outputs": [
    {
     "name": "stdout",
     "output_type": "stream",
     "text": [
      "points= [-5.   -4.99 -4.98 -4.97 -4.96]\n",
      "xs=\n",
      " [[-5.   -4.99 -4.98 ...  4.97  4.98  4.99]\n",
      " [-5.   -4.99 -4.98 ...  4.97  4.98  4.99]\n",
      " [-5.   -4.99 -4.98 ...  4.97  4.98  4.99]\n",
      " ...\n",
      " [-5.   -4.99 -4.98 ...  4.97  4.98  4.99]\n",
      " [-5.   -4.99 -4.98 ...  4.97  4.98  4.99]\n",
      " [-5.   -4.99 -4.98 ...  4.97  4.98  4.99]]\n",
      "ys=\n",
      " [[-5.   -5.   -5.   ... -5.   -5.   -5.  ]\n",
      " [-4.99 -4.99 -4.99 ... -4.99 -4.99 -4.99]\n",
      " [-4.98 -4.98 -4.98 ... -4.98 -4.98 -4.98]\n",
      " ...\n",
      " [ 4.97  4.97  4.97 ...  4.97  4.97  4.97]\n",
      " [ 4.98  4.98  4.98 ...  4.98  4.98  4.98]\n",
      " [ 4.99  4.99  4.99 ...  4.99  4.99  4.99]]\n"
     ]
    }
   ],
   "source": [
    "# Evaluate \n",
    "\n",
    "# - Pick 1000 equi-spaced points between [-5, 5].\n",
    "points = np.arange(-5, 5, 0.01)\n",
    "print(\"points=\", points[:5])\n",
    "\n",
    "# - Create a grid of points.\n",
    "xs, ys = np.meshgrid(points, points)\n",
    "print(\"xs=\\n\", xs)\n",
    "print(\"ys=\\n\", ys)\n",
    "\n",
    "# - Evaluate function on a grid.\n",
    "z = np.sqrt(xs ** 2 + ys ** 2)"
   ]
  },
  {
   "cell_type": "code",
   "execution_count": 152,
   "metadata": {
    "ExecuteTime": {
     "end_time": "2022-12-12T09:45:56.176767Z",
     "start_time": "2022-12-12T09:45:55.735383Z"
    }
   },
   "outputs": [
    {
     "data": {
      "text/plain": [
       "Text(0.5, 1.0, 'hello')"
      ]
     },
     "execution_count": 152,
     "metadata": {},
     "output_type": "execute_result"
    },
    {
     "data": {
      "image/png": "[encoded data removed]",
      "text/plain": [
       "<Figure size 640x480 with 2 Axes>"
      ]
     },
     "metadata": {},
     "output_type": "display_data"
    }
   ],
   "source": [
    "import matplotlib.pyplot as plt\n",
    "\n",
    "plt.imshow(z, cmap=plt.cm.gray)\n",
    "plt.colorbar()\n",
    "plt.title(\"hello\")"
   ]
  },
  {
   "cell_type": "markdown",
   "metadata": {},
   "source": [
    "## Expressing conditional logic as array operations.\n",
    "\n",
    "- `numpy.where` is vectorized form of `if-then-else`"
   ]
  },
  {
   "cell_type": "code",
   "execution_count": 153,
   "metadata": {
    "ExecuteTime": {
     "end_time": "2022-12-12T09:45:56.186062Z",
     "start_time": "2022-12-12T09:45:56.179253Z"
    }
   },
   "outputs": [
    {
     "name": "stdout",
     "output_type": "stream",
     "text": [
      "[1.1, 2.2, 1.3, 1.4, 2.5]\n",
      "[1.1 2.2 1.3 1.4 2.5]\n"
     ]
    }
   ],
   "source": [
    "xarr = np.array([1.1, 1.2, 1.3, 1.4, 1.5])\n",
    "yarr = np.array([2.1, 2.2, 2.3, 2.4, 2.5])\n",
    "cond = np.array([True, False, True, True, False])\n",
    "\n",
    "result = [(x if c else y) for x, y, c in zip(xarr, yarr, cond)]\n",
    "print([round(x, 3) for x in result])\n",
    "\n",
    "# This is an array.\n",
    "print(np.where(cond, xarr, yarr))"
   ]
  },
  {
   "cell_type": "code",
   "execution_count": 154,
   "metadata": {
    "ExecuteTime": {
     "end_time": "2022-12-12T09:45:56.194207Z",
     "start_time": "2022-12-12T09:45:56.188778Z"
    }
   },
   "outputs": [
    {
     "name": "stdout",
     "output_type": "stream",
     "text": [
      "[[ 0.49671415 -0.1382643   0.64768854  1.52302986]\n",
      " [-0.23415337 -0.23413696  1.57921282  0.76743473]\n",
      " [-0.46947439  0.54256004 -0.46341769 -0.46572975]\n",
      " [ 0.24196227 -1.91328024 -1.72491783 -0.56228753]]\n"
     ]
    }
   ],
   "source": [
    "np.random.seed(42)\n",
    "arr = np.random.randn(4, 4)\n",
    "\n",
    "print(arr)"
   ]
  },
  {
   "cell_type": "code",
   "execution_count": 155,
   "metadata": {
    "ExecuteTime": {
     "end_time": "2022-12-12T09:45:56.204989Z",
     "start_time": "2022-12-12T09:45:56.198364Z"
    }
   },
   "outputs": [
    {
     "data": {
      "text/plain": [
       "array([[ 2, -2,  2,  2],\n",
       "       [-2, -2,  2,  2],\n",
       "       [-2,  2, -2, -2],\n",
       "       [ 2, -2, -2, -2]])"
      ]
     },
     "execution_count": 155,
     "metadata": {},
     "output_type": "execute_result"
    }
   ],
   "source": [
    "np.where(arr > 0, 2, -2)"
   ]
  },
  {
   "cell_type": "code",
   "execution_count": 156,
   "metadata": {
    "ExecuteTime": {
     "end_time": "2022-12-12T09:45:56.217125Z",
     "start_time": "2022-12-12T09:45:56.209266Z"
    }
   },
   "outputs": [
    {
     "data": {
      "text/plain": [
       "array([[ 2.        , -0.1382643 ,  2.        ,  2.        ],\n",
       "       [-0.23415337, -0.23413696,  2.        ,  2.        ],\n",
       "       [-0.46947439,  2.        , -0.46341769, -0.46572975],\n",
       "       [ 2.        , -1.91328024, -1.72491783, -0.56228753]])"
      ]
     },
     "execution_count": 156,
     "metadata": {},
     "output_type": "execute_result"
    }
   ],
   "source": [
    "# Note that the operation is vectorized, thus one array is let pass.\n",
    "np.where(arr > 0, 2, arr)"
   ]
  },
  {
   "cell_type": "markdown",
   "metadata": {},
   "source": [
    "## Mathematical and statistical methods"
   ]
  },
  {
   "cell_type": "code",
   "execution_count": 157,
   "metadata": {
    "ExecuteTime": {
     "end_time": "2022-12-12T09:45:56.227990Z",
     "start_time": "2022-12-12T09:45:56.220541Z"
    }
   },
   "outputs": [
    {
     "name": "stdout",
     "output_type": "stream",
     "text": [
      "-0.17129856144182892\n",
      "-0.17129856144182892\n"
     ]
    }
   ],
   "source": [
    "np.random.seed(42)\n",
    "arr = np.random.randn(5, 4)\n",
    "\n",
    "# One can call the method on the array or the np function.\n",
    "print(arr.mean())\n",
    "print(np.mean(arr))"
   ]
  },
  {
   "cell_type": "code",
   "execution_count": 158,
   "metadata": {
    "ExecuteTime": {
     "end_time": "2022-12-12T09:45:56.239704Z",
     "start_time": "2022-12-12T09:45:56.231523Z"
    }
   },
   "outputs": [
    {
     "data": {
      "text/plain": [
       "array([ 0.63229206,  0.4695893 , -0.21401545, -0.98963083, -0.75472789])"
      ]
     },
     "execution_count": 158,
     "metadata": {},
     "output_type": "execute_result"
    }
   ],
   "source": [
    "arr.mean(axis=1)"
   ]
  },
  {
   "cell_type": "code",
   "execution_count": 159,
   "metadata": {
    "ExecuteTime": {
     "end_time": "2022-12-12T09:45:56.249802Z",
     "start_time": "2022-12-12T09:45:56.243081Z"
    }
   },
   "outputs": [
    {
     "name": "stdout",
     "output_type": "stream",
     "text": [
      "[[0 1 2]\n",
      " [3 4 5]\n",
      " [6 7 8]]\n",
      "[[ 0  1  2]\n",
      " [ 3  5  7]\n",
      " [ 9 12 15]]\n",
      "[[ 0  1  3]\n",
      " [ 3  7 12]\n",
      " [ 6 13 21]]\n"
     ]
    }
   ],
   "source": [
    "arr = np.array([[0, 1, 2], [3, 4, 5], [6, 7, 8]])\n",
    "print(arr)\n",
    "\n",
    "# Cumsum on different axis.\n",
    "print(arr.cumsum(axis=0))\n",
    "print(arr.cumsum(axis=1))"
   ]
  },
  {
   "cell_type": "code",
   "execution_count": 160,
   "metadata": {
    "ExecuteTime": {
     "end_time": "2022-12-12T09:45:56.261571Z",
     "start_time": "2022-12-12T09:45:56.253917Z"
    }
   },
   "outputs": [
    {
     "data": {
      "text/plain": [
       "47"
      ]
     },
     "execution_count": 160,
     "metadata": {},
     "output_type": "execute_result"
    }
   ],
   "source": [
    "arr = np.random.randn(100)\n",
    "\n",
    "# Sum all positive numbers.\n",
    "(arr > 0).sum()"
   ]
  },
  {
   "cell_type": "code",
   "execution_count": 161,
   "metadata": {
    "ExecuteTime": {
     "end_time": "2022-12-12T09:45:56.270900Z",
     "start_time": "2022-12-12T09:45:56.265754Z"
    }
   },
   "outputs": [
    {
     "name": "stdout",
     "output_type": "stream",
     "text": [
      "True\n",
      "False\n"
     ]
    }
   ],
   "source": [
    "bools = np.array([False, False, True, False])\n",
    "\n",
    "print(bools.any())\n",
    "print(bools.all())"
   ]
  },
  {
   "cell_type": "code",
   "execution_count": 162,
   "metadata": {
    "ExecuteTime": {
     "end_time": "2022-12-12T09:45:56.278662Z",
     "start_time": "2022-12-12T09:45:56.274123Z"
    }
   },
   "outputs": [],
   "source": [
    "## Sorting."
   ]
  },
  {
   "cell_type": "code",
   "execution_count": 163,
   "metadata": {
    "ExecuteTime": {
     "end_time": "2022-12-12T09:45:56.287661Z",
     "start_time": "2022-12-12T09:45:56.281858Z"
    }
   },
   "outputs": [
    {
     "name": "stdout",
     "output_type": "stream",
     "text": [
      "[ 0.09120472  1.09128273 -1.94697031 -1.38634953 -2.29649157  2.4098343\n",
      "  1.72783617  2.20455628]\n",
      "[-2.29649157 -1.94697031 -1.38634953  0.09120472  1.09128273  1.72783617\n",
      "  2.20455628  2.4098343 ]\n"
     ]
    }
   ],
   "source": [
    "np.random.seed(8)\n",
    "arr = np.random.randn(8)\n",
    "print(arr)\n",
    "arr.sort()\n",
    "print(arr)"
   ]
  },
  {
   "cell_type": "code",
   "execution_count": 164,
   "metadata": {
    "ExecuteTime": {
     "end_time": "2022-12-12T09:45:56.298576Z",
     "start_time": "2022-12-12T09:45:56.292254Z"
    }
   },
   "outputs": [
    {
     "name": "stdout",
     "output_type": "stream",
     "text": [
      "[[ 0.79482764  0.9764211  -1.18342715]\n",
      " [ 1.91636361 -1.1233268  -0.66403547]\n",
      " [-0.37835857 -0.79161527  0.85954811]\n",
      " [-0.230789   -0.06566103 -0.20863623]\n",
      " [ 1.34686857 -0.6069528  -0.17424821]]\n"
     ]
    }
   ],
   "source": [
    "arr = np.random.randn(5, 3)\n",
    "print(arr)"
   ]
  },
  {
   "cell_type": "code",
   "execution_count": 165,
   "metadata": {
    "ExecuteTime": {
     "end_time": "2022-12-12T09:45:56.310619Z",
     "start_time": "2022-12-12T09:45:56.302457Z"
    }
   },
   "outputs": [
    {
     "name": "stdout",
     "output_type": "stream",
     "text": [
      "[[-1.18342715  0.79482764  0.9764211 ]\n",
      " [-1.1233268  -0.66403547  1.91636361]\n",
      " [-0.79161527 -0.37835857  0.85954811]\n",
      " [-0.230789   -0.20863623 -0.06566103]\n",
      " [-0.6069528  -0.17424821  1.34686857]]\n"
     ]
    }
   ],
   "source": [
    "arr.sort(axis=1)\n",
    "print(arr)"
   ]
  },
  {
   "cell_type": "markdown",
   "metadata": {},
   "source": [
    "## Unique and set logic"
   ]
  },
  {
   "cell_type": "code",
   "execution_count": 166,
   "metadata": {
    "ExecuteTime": {
     "end_time": "2022-12-12T09:45:56.321772Z",
     "start_time": "2022-12-12T09:45:56.314199Z"
    }
   },
   "outputs": [
    {
     "name": "stdout",
     "output_type": "stream",
     "text": [
      "['Bob' 'Joe' 'Will']\n"
     ]
    }
   ],
   "source": [
    "names = np.array(['Bob', 'Joe', 'Will', 'Bob', 'Will', 'Joe', 'Joe'])\n",
    "\n",
    "print(np.unique(names))"
   ]
  },
  {
   "cell_type": "code",
   "execution_count": 167,
   "metadata": {
    "ExecuteTime": {
     "end_time": "2022-12-12T09:45:56.331821Z",
     "start_time": "2022-12-12T09:45:56.325840Z"
    }
   },
   "outputs": [
    {
     "name": "stdout",
     "output_type": "stream",
     "text": [
      "[6 0 0 3 2 5 6]\n",
      "[ True False False  True  True False  True]\n"
     ]
    }
   ],
   "source": [
    "values1 = np.array([6, 0, 0, 3, 2, 5, 6])\n",
    "print(values1)\n",
    "\n",
    "# Check memership of values in values1 wrt a given set.\n",
    "print(np.in1d(values1, [2, 3, 6]))"
   ]
  },
  {
   "cell_type": "code",
   "execution_count": 168,
   "metadata": {
    "ExecuteTime": {
     "end_time": "2022-12-12T09:45:56.345726Z",
     "start_time": "2022-12-12T09:45:56.335123Z"
    }
   },
   "outputs": [
    {
     "name": "stdout",
     "output_type": "stream",
     "text": [
      "values1= [6 0 0 3 2 5 6]\n",
      "values2= [6 1 7 3 2 5 6]\n",
      "intersect= [2 3 5 6]\n",
      "union= [0 1 2 3 5 6 7]\n",
      "diff= [0]\n",
      "xor= [0 1 7]\n"
     ]
    }
   ],
   "source": [
    "values2 = np.array([6, 1, 7, 3, 2, 5, 6])\n",
    "print(\"values1=\", values1)\n",
    "print(\"values2=\", values2)\n",
    "\n",
    "print(\"intersect=\", np.intersect1d(values1, values2))\n",
    "print(\"union=\", np.union1d(values1, values2))\n",
    "# A - B\n",
    "print(\"diff=\", np.setdiff1d(values1, values2))\n",
    "# Symmetric difference: elements that in either of arrays, but not both.\n",
    "print(\"xor=\", np.setxor1d(values1, values2))"
   ]
  },
  {
   "cell_type": "markdown",
   "metadata": {},
   "source": [
    "# File input and output"
   ]
  },
  {
   "cell_type": "markdown",
   "metadata": {
    "ExecuteTime": {
     "end_time": "2017-12-22T13:23:58.271432Z",
     "start_time": "2017-12-22T05:23:58.256951-08:00"
    }
   },
   "source": [
    "## Storing arrays on disk in binary form."
   ]
  },
  {
   "cell_type": "code",
   "execution_count": 169,
   "metadata": {
    "ExecuteTime": {
     "end_time": "2022-12-12T09:45:56.363144Z",
     "start_time": "2022-12-12T09:45:56.349265Z"
    }
   },
   "outputs": [
    {
     "name": "stdout",
     "output_type": "stream",
     "text": [
      "[0 1 2 3 4 5 6 7 8 9]\n"
     ]
    }
   ],
   "source": [
    "arr = np.arange(10)\n",
    "print(arr)\n",
    "np.save(\"some_array.npy\", arr)"
   ]
  },
  {
   "cell_type": "code",
   "execution_count": 170,
   "metadata": {
    "ExecuteTime": {
     "end_time": "2022-12-12T09:45:56.377138Z",
     "start_time": "2022-12-12T09:45:56.366495Z"
    }
   },
   "outputs": [
    {
     "name": "stdout",
     "output_type": "stream",
     "text": [
      "[0 1 2 3 4 5 6 7 8 9]\n"
     ]
    }
   ],
   "source": [
    "arr2 = np.load(\"some_array.npy\")\n",
    "print(arr2)"
   ]
  },
  {
   "cell_type": "code",
   "execution_count": 171,
   "metadata": {
    "ExecuteTime": {
     "end_time": "2022-12-12T09:45:56.392200Z",
     "start_time": "2022-12-12T09:45:56.380849Z"
    }
   },
   "outputs": [],
   "source": [
    "np.savez(\"some_array_lazy.npz\", arr2)"
   ]
  },
  {
   "cell_type": "markdown",
   "metadata": {},
   "source": [
    "# Linear algebra"
   ]
  },
  {
   "cell_type": "code",
   "execution_count": 172,
   "metadata": {
    "ExecuteTime": {
     "end_time": "2022-12-12T09:45:56.401158Z",
     "start_time": "2022-12-12T09:45:56.394785Z"
    }
   },
   "outputs": [
    {
     "name": "stdout",
     "output_type": "stream",
     "text": [
      "x=\n",
      " [[1. 2. 3.]\n",
      " [4. 5. 6.]]\n",
      "y=\n",
      " [[ 6. 23.]\n",
      " [-1.  7.]\n",
      " [ 8.  9.]]\n"
     ]
    }
   ],
   "source": [
    "x = np.array([[1., 2., 3.], [4., 5., 6.]])\n",
    "print(\"x=\\n\", x)\n",
    "y = np.array([[6., 23.], [-1, 7], [8, 9]])\n",
    "print(\"y=\\n\", y)"
   ]
  },
  {
   "cell_type": "code",
   "execution_count": 173,
   "metadata": {
    "ExecuteTime": {
     "end_time": "2022-12-12T09:45:56.422901Z",
     "start_time": "2022-12-12T09:45:56.415898Z"
    }
   },
   "outputs": [
    {
     "name": "stdout",
     "output_type": "stream",
     "text": [
      "[[ 28.  64.]\n",
      " [ 67. 181.]]\n",
      "[[ 28.  64.]\n",
      " [ 67. 181.]]\n"
     ]
    }
   ],
   "source": [
    "print(x.dot(y))\n",
    "print(np.dot(x, y))"
   ]
  },
  {
   "cell_type": "code",
   "execution_count": 174,
   "metadata": {
    "ExecuteTime": {
     "end_time": "2022-12-12T09:45:56.434614Z",
     "start_time": "2022-12-12T09:45:56.427171Z"
    }
   },
   "outputs": [
    {
     "name": "stdout",
     "output_type": "stream",
     "text": [
      "mat=\n",
      " [[ 2.9805946   0.01599104 -0.04782309  0.17546989  0.55226368]\n",
      " [ 0.01599104  3.80673615  0.67617578  1.18044033  3.24587224]\n",
      " [-0.04782309  0.67617578  1.17031369 -0.21833843 -0.63321793]\n",
      " [ 0.17546989  1.18044033 -0.21833843  9.05508255  4.74692465]\n",
      " [ 0.55226368  3.24587224 -0.63321793  4.74692465  5.61549503]]\n"
     ]
    }
   ],
   "source": [
    "from numpy.linalg import inv, qr\n",
    "\n",
    "np.random.seed(42)\n",
    "\n",
    "X = np.random.randn(5, 5)\n",
    "mat = X.T.dot(X)\n",
    "print(\"mat=\\n\", mat)"
   ]
  },
  {
   "cell_type": "code",
   "execution_count": 175,
   "metadata": {
    "ExecuteTime": {
     "end_time": "2022-12-12T09:45:56.451729Z",
     "start_time": "2022-12-12T09:45:56.439691Z"
    }
   },
   "outputs": [
    {
     "data": {
      "text/plain": [
       "array([[ 0.46603249,  0.83005941, -0.8914962 ,  0.34032244, -0.91383502],\n",
       "       [ 0.83005941,  5.63797815, -5.98435482,  2.17215259, -5.85149016],\n",
       "       [-0.8914962 , -5.98435482,  7.27912183, -2.36447819,  6.3663243 ],\n",
       "       [ 0.34032244,  2.17215259, -2.36447819,  1.04007417, -2.43484522],\n",
       "       [-0.91383502, -5.85149016,  6.3663243 , -2.43484522,  6.42635506]])"
      ]
     },
     "execution_count": 175,
     "metadata": {},
     "output_type": "execute_result"
    }
   ],
   "source": [
    "# Inverse.\n",
    "inv(mat)"
   ]
  },
  {
   "cell_type": "code",
   "execution_count": 176,
   "metadata": {
    "ExecuteTime": {
     "end_time": "2022-12-12T09:45:56.464072Z",
     "start_time": "2022-12-12T09:45:56.454853Z"
    }
   },
   "outputs": [
    {
     "name": "stdout",
     "output_type": "stream",
     "text": [
      "q=\n",
      " [[-0.98148564  0.12744066 -0.11323416  0.02870785 -0.08245418]\n",
      " [-0.00526572 -0.74003655 -0.34273964  0.23683889 -0.52797259]\n",
      " [ 0.01574776 -0.13366892 -0.7682216  -0.24850681  0.57442543]\n",
      " [-0.05778081 -0.22201126  0.17465578 -0.93198858 -0.21969302]\n",
      " [-0.18185595 -0.60741123  0.49903758  0.11280449  0.57984193]]\n",
      "r=\n",
      " [[-3.03681936 -0.68357993  0.18957716 -1.56834194 -1.86459486]\n",
      " [ 0.         -5.13911996 -0.2298267  -5.71568758 -6.71182716]\n",
      " [ 0.          0.         -1.4795309   3.69369571  2.94284836]\n",
      " [ 0.          0.          0.         -7.56488899 -2.84866447]\n",
      " [ 0.          0.          0.          0.          0.09022874]]\n"
     ]
    }
   ],
   "source": [
    "q, r = qr(mat)\n",
    "print(\"q=\\n\", q)\n",
    "print(\"r=\\n\", r)"
   ]
  },
  {
   "cell_type": "code",
   "execution_count": 177,
   "metadata": {
    "ExecuteTime": {
     "end_time": "2022-12-12T09:45:56.474662Z",
     "start_time": "2022-12-12T09:45:56.467478Z"
    }
   },
   "outputs": [
    {
     "name": "stdout",
     "output_type": "stream",
     "text": [
      "[2.9805946  3.80673615 1.17031369 9.05508255 5.61549503]\n"
     ]
    }
   ],
   "source": [
    "print(np.diag(mat))"
   ]
  },
  {
   "cell_type": "code",
   "execution_count": 178,
   "metadata": {
    "ExecuteTime": {
     "end_time": "2022-12-12T09:45:56.485547Z",
     "start_time": "2022-12-12T09:45:56.478483Z"
    }
   },
   "outputs": [
    {
     "name": "stdout",
     "output_type": "stream",
     "text": [
      "22.628222027495298\n"
     ]
    }
   ],
   "source": [
    "print(np.trace(mat))"
   ]
  },
  {
   "cell_type": "code",
   "execution_count": 179,
   "metadata": {
    "ExecuteTime": {
     "end_time": "2022-12-12T09:45:56.492355Z",
     "start_time": "2022-12-12T09:45:56.489740Z"
    }
   },
   "outputs": [],
   "source": [
    "#print(np.eig(mat))"
   ]
  },
  {
   "cell_type": "code",
   "execution_count": 180,
   "metadata": {
    "ExecuteTime": {
     "end_time": "2022-12-12T09:45:56.501569Z",
     "start_time": "2022-12-12T09:45:56.497147Z"
    }
   },
   "outputs": [],
   "source": [
    "#print(np.svd(mat))"
   ]
  },
  {
   "cell_type": "markdown",
   "metadata": {
    "ExecuteTime": {
     "end_time": "2018-01-04T22:53:34.518500Z",
     "start_time": "2018-01-04T14:53:34.503490-08:00"
    }
   },
   "source": [
    "# **Random number generator**"
   ]
  },
  {
   "cell_type": "markdown",
   "metadata": {},
   "source": [
    "## **Random walks**"
   ]
  }
 ],
 "metadata": {
  "kernelspec": {
   "display_name": "Python 3 (ipykernel)",
   "language": "python",
   "name": "python3"
  },
  "language_info": {
   "codemirror_mode": {
    "name": "ipython",
    "version": 3
   },
   "file_extension": ".py",
   "mimetype": "text/x-python",
   "name": "python",
   "nbconvert_exporter": "python",
   "pygments_lexer": "ipython3",
   "version": "3.8.10"
  },
  "toc": {
   "base_numbering": 1,
   "nav_menu": {},
   "number_sections": true,
   "sideBar": true,
   "skip_h1_title": false,
   "title_cell": "Table of Contents",
   "title_sidebar": "Contents",
   "toc_cell": true,
   "toc_position": {
    "height": "calc(100% - 180px)",
    "left": "10px",
    "top": "150px",
    "width": "320px"
   },
   "toc_section_display": "block",
   "toc_window_display": true
  }
 },
 "nbformat": 4,
 "nbformat_minor": 2
}
