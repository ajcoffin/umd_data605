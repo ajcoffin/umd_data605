{
 "cells": [
  {
   "cell_type": "code",
   "execution_count": 40,
   "id": "c154b397",
   "metadata": {
    "ExecuteTime": {
     "end_time": "2022-11-06T22:42:23.446370Z",
     "start_time": "2022-11-06T22:42:23.439235Z"
    }
   },
   "outputs": [],
   "source": [
    "import pprint\n",
    "\n",
    "import psycopg2\n",
    "import pymongo\n",
    "from bson.objectid import ObjectId\n",
    "\n",
    "client = pymongo.MongoClient(\"localhost\", 27017)\n",
    "db = client[\"book\"]"
   ]
  },
  {
   "cell_type": "code",
   "execution_count": 120,
   "id": "feac150d",
   "metadata": {
    "ExecuteTime": {
     "end_time": "2022-11-07T20:35:45.604464Z",
     "start_time": "2022-11-07T20:35:45.598800Z"
    }
   },
   "outputs": [],
   "source": [
    "db.towns.drop()"
   ]
  },
  {
   "cell_type": "code",
   "execution_count": 121,
   "id": "6e536b05",
   "metadata": {
    "ExecuteTime": {
     "end_time": "2022-11-07T20:35:46.350958Z",
     "start_time": "2022-11-07T20:35:46.343287Z"
    }
   },
   "outputs": [
    {
     "data": {
      "text/plain": [
       "['countries']"
      ]
     },
     "execution_count": 121,
     "metadata": {},
     "output_type": "execute_result"
    }
   ],
   "source": [
    "# Show all the collections (-> SQL tables).\n",
    "db.list_collection_names()"
   ]
  },
  {
   "cell_type": "code",
   "execution_count": 122,
   "id": "18ec99ff",
   "metadata": {
    "ExecuteTime": {
     "end_time": "2022-11-07T20:35:47.463318Z",
     "start_time": "2022-11-07T20:35:47.439392Z"
    }
   },
   "outputs": [
    {
     "name": "stdout",
     "output_type": "stream",
     "text": [
      "<pymongo.results.InsertOneResult object at 0x7f3ad8b47280>\n"
     ]
    },
    {
     "data": {
      "text/plain": [
       "ObjectId('63696c23657571ee34691de1')"
      ]
     },
     "execution_count": 122,
     "metadata": {},
     "output_type": "execute_result"
    }
   ],
   "source": [
    "# Just inserting an object in a DB, it creates it.\n",
    "dict_ = {\n",
    "    \"name\": \"New York\",\n",
    "    \"population\": 22200000,\n",
    "    \"lastCensus\": \"2022-11-01\",\n",
    "    \"famousFor\": [\"the MOMA\", \"food\", \"Derek Jeter\"],\n",
    "    \"mayor\": {\n",
    "        \"name\": \"Bill de Blasio\",\n",
    "        \"party\": \"D\"\n",
    "    }\n",
    "}\n",
    "\n",
    "val = db.towns.insert_one(dict_)\n",
    "print(val)\n",
    "\n",
    "val.inserted_id"
   ]
  },
  {
   "cell_type": "code",
   "execution_count": 123,
   "id": "62282ab2",
   "metadata": {
    "ExecuteTime": {
     "end_time": "2022-11-07T20:35:50.171270Z",
     "start_time": "2022-11-07T20:35:50.164210Z"
    }
   },
   "outputs": [
    {
     "data": {
      "text/plain": [
       "['towns', 'countries']"
      ]
     },
     "execution_count": 123,
     "metadata": {},
     "output_type": "execute_result"
    }
   ],
   "source": [
    "# Show all the collections (-> SQL tables).\n",
    "db.list_collection_names()"
   ]
  },
  {
   "cell_type": "code",
   "execution_count": 124,
   "id": "03484689",
   "metadata": {
    "ExecuteTime": {
     "end_time": "2022-11-07T20:35:51.182853Z",
     "start_time": "2022-11-07T20:35:51.175140Z"
    }
   },
   "outputs": [
    {
     "name": "stdout",
     "output_type": "stream",
     "text": [
      "{'_id': ObjectId('63696c23657571ee34691de1'),\n",
      " 'famousFor': ['the MOMA', 'food', 'Derek Jeter'],\n",
      " 'lastCensus': '2022-11-01',\n",
      " 'mayor': {'name': 'Bill de Blasio', 'party': 'D'},\n",
      " 'name': 'New York',\n",
      " 'population': 22200000}\n"
     ]
    }
   ],
   "source": [
    "# _id is like the key.\n",
    "for obj in db.towns.find():\n",
    "    pprint.pprint(obj)"
   ]
  },
  {
   "cell_type": "code",
   "execution_count": 125,
   "id": "78759be9",
   "metadata": {
    "ExecuteTime": {
     "end_time": "2022-11-07T20:35:52.218531Z",
     "start_time": "2022-11-07T20:35:52.210806Z"
    }
   },
   "outputs": [],
   "source": [
    "def insert_city(name, population, lastCensus, famousFor, mayor):\n",
    "    db.towns.insert_one({\n",
    "        \"name\": name,\n",
    "        \"population\": population,\n",
    "        \"lastCensus\": lastCensus,\n",
    "        \"famousFor\": famousFor,\n",
    "        \"mayor\": mayor,\n",
    "    })\n",
    "\n",
    "\n",
    "insert_city(\"Punxsutawney\", 6200, '2016-01-31', [\"Punxsutawney Phil\"],\n",
    "            {\"name\": \"Richard Alexander\"})\n",
    "\n",
    "insert_city(\"Portland\", 582000, '2016-09-20', [\"beer\", \"food\", \"Portlandia\"], {\n",
    "    \"name\": \"Ted Wheeler\",\n",
    "    \"party\": \"D\"\n",
    "})"
   ]
  },
  {
   "cell_type": "code",
   "execution_count": 126,
   "id": "41922c73",
   "metadata": {
    "ExecuteTime": {
     "end_time": "2022-11-07T20:35:56.394125Z",
     "start_time": "2022-11-07T20:35:56.380608Z"
    }
   },
   "outputs": [
    {
     "name": "stdout",
     "output_type": "stream",
     "text": [
      "{'_id': ObjectId('63696c23657571ee34691de1'),\n",
      " 'famousFor': ['the MOMA', 'food', 'Derek Jeter'],\n",
      " 'lastCensus': '2022-11-01',\n",
      " 'mayor': {'name': 'Bill de Blasio', 'party': 'D'},\n",
      " 'name': 'New York',\n",
      " 'population': 22200000}\n",
      "{'_id': ObjectId('63696c28657571ee34691de2'),\n",
      " 'famousFor': ['Punxsutawney Phil'],\n",
      " 'lastCensus': '2016-01-31',\n",
      " 'mayor': {'name': 'Richard Alexander'},\n",
      " 'name': 'Punxsutawney',\n",
      " 'population': 6200}\n",
      "{'_id': ObjectId('63696c28657571ee34691de3'),\n",
      " 'famousFor': ['beer', 'food', 'Portlandia'],\n",
      " 'lastCensus': '2016-09-20',\n",
      " 'mayor': {'name': 'Ted Wheeler', 'party': 'D'},\n",
      " 'name': 'Portland',\n",
      " 'population': 582000}\n"
     ]
    }
   ],
   "source": [
    "# _id is like the key.\n",
    "for obj in db.towns.find():\n",
    "    pprint.pprint(obj)"
   ]
  },
  {
   "cell_type": "code",
   "execution_count": 49,
   "id": "002b259e",
   "metadata": {
    "ExecuteTime": {
     "end_time": "2022-11-06T22:44:07.611546Z",
     "start_time": "2022-11-06T22:44:07.605118Z"
    }
   },
   "outputs": [
    {
     "data": {
      "text/plain": [
       "{'_id': ObjectId('636838a7657571ee34691de0'),\n",
       " 'name': 'New York',\n",
       " 'population': 22200000,\n",
       " 'lastCensus': '2022-11-01',\n",
       " 'famousFor': ['the MOMA', 'food', 'Derek Jeter'],\n",
       " 'mayor': {'name': 'Bill de Blasio', 'party': 'D'}}"
      ]
     },
     "execution_count": 49,
     "metadata": {},
     "output_type": "execute_result"
    }
   ],
   "source": [
    "#db.towns.find_one({\"_id\": ObjectId(\"6368352a657571ee34691dd9\")})\n",
    "db.towns.find_one({\"_id\": val.inserted_id})"
   ]
  },
  {
   "cell_type": "code",
   "execution_count": 52,
   "id": "5862d112",
   "metadata": {
    "ExecuteTime": {
     "end_time": "2022-11-06T22:45:01.942156Z",
     "start_time": "2022-11-06T22:45:01.935767Z"
    }
   },
   "outputs": [
    {
     "data": {
      "text/plain": [
       "{'_id': ObjectId('636838a7657571ee34691de0'), 'name': 'New York'}"
      ]
     },
     "execution_count": 52,
     "metadata": {},
     "output_type": "execute_result"
    }
   ],
   "source": [
    "# Retrieve only the field name.\n",
    "db.towns.find_one({\"_id\": ObjectId(str(val.inserted_id))}, {\"name\": 1})"
   ]
  },
  {
   "cell_type": "code",
   "execution_count": 53,
   "id": "f82faa87",
   "metadata": {
    "ExecuteTime": {
     "end_time": "2022-11-06T22:45:21.985902Z",
     "start_time": "2022-11-06T22:45:21.977757Z"
    }
   },
   "outputs": [
    {
     "data": {
      "text/plain": [
       "{'_id': ObjectId('636838a7657571ee34691de0'),\n",
       " 'population': 22200000,\n",
       " 'lastCensus': '2022-11-01',\n",
       " 'famousFor': ['the MOMA', 'food', 'Derek Jeter'],\n",
       " 'mayor': {'name': 'Bill de Blasio', 'party': 'D'}}"
      ]
     },
     "execution_count": 53,
     "metadata": {},
     "output_type": "execute_result"
    }
   ],
   "source": [
    "# Retrieve all field excluding one.\n",
    "db.towns.find_one({\"_id\": ObjectId(str(val.inserted_id))}, {\"name\": 0})"
   ]
  },
  {
   "cell_type": "code",
   "execution_count": 69,
   "id": "ee63a1aa",
   "metadata": {
    "ExecuteTime": {
     "end_time": "2022-11-06T22:50:34.680760Z",
     "start_time": "2022-11-06T22:50:34.674220Z"
    }
   },
   "outputs": [
    {
     "data": {
      "text/plain": [
       "[{'_id': ObjectId('63683537657571ee34691dda'),\n",
       "  'name': 'Punxsutawney',\n",
       "  'population': 6200,\n",
       "  'lastCensus': '2016-01-31',\n",
       "  'famousFor': ['Punxsutawney Phil'],\n",
       "  'mayor': {'name': 'Richard Alexander'}},\n",
       " {'_id': ObjectId('63683537657571ee34691ddb'),\n",
       "  'name': 'Portland',\n",
       "  'population': 582000,\n",
       "  'lastCensus': '2016-09-20',\n",
       "  'famousFor': ['beer', 'food', 'Portlandia'],\n",
       "  'mayor': {'name': 'Ted Wheeler', 'party': 'D'}}]"
      ]
     },
     "execution_count": 69,
     "metadata": {},
     "output_type": "execute_result"
    }
   ],
   "source": [
    "# Find all towns that being with P.\n",
    "list(db.towns.find({\"name\": {\"$regex\": r\"^P\"}}))"
   ]
  },
  {
   "cell_type": "code",
   "execution_count": 71,
   "id": "131f7804",
   "metadata": {
    "ExecuteTime": {
     "end_time": "2022-11-06T22:51:06.613737Z",
     "start_time": "2022-11-06T22:51:06.605766Z"
    }
   },
   "outputs": [
    {
     "data": {
      "text/plain": [
       "[{'name': 'Punxsutawney'}, {'name': 'Portland'}]"
      ]
     },
     "execution_count": 71,
     "metadata": {},
     "output_type": "execute_result"
    }
   ],
   "source": [
    "# Find all towns that being with P.\n",
    "list(db.towns.find({\"name\": {\"$regex\": r\"^P\"}},\n",
    "                   {\"_id\": 0, \"name\": 1}))"
   ]
  },
  {
   "cell_type": "code",
   "execution_count": 67,
   "id": "9234bced",
   "metadata": {
    "ExecuteTime": {
     "end_time": "2022-11-06T22:49:48.290671Z",
     "start_time": "2022-11-06T22:49:48.283287Z"
    }
   },
   "outputs": [
    {
     "data": {
      "text/plain": [
       "[{'_id': ObjectId('63683537657571ee34691dda'),\n",
       "  'name': 'Punxsutawney',\n",
       "  'population': 6200,\n",
       "  'lastCensus': '2016-01-31',\n",
       "  'famousFor': ['Punxsutawney Phil'],\n",
       "  'mayor': {'name': 'Richard Alexander'}},\n",
       " {'_id': ObjectId('63683537657571ee34691ddb'),\n",
       "  'name': 'Portland',\n",
       "  'population': 582000,\n",
       "  'lastCensus': '2016-09-20',\n",
       "  'famousFor': ['beer', 'food', 'Portlandia'],\n",
       "  'mayor': {'name': 'Ted Wheeler', 'party': 'D'}}]"
      ]
     },
     "execution_count": 67,
     "metadata": {},
     "output_type": "execute_result"
    }
   ],
   "source": [
    "# Find all towns that being with P and have population less than 100,000.\n",
    "list(db.towns.find(\n",
    "    {\"name\": {\"$regex\": r\"^P\"}}) #, \"population\": {\"$lt\": 100000}})\n",
    "    )"
   ]
  },
  {
   "cell_type": "code",
   "execution_count": null,
   "id": "c2da01b7",
   "metadata": {},
   "outputs": [],
   "source": []
  },
  {
   "cell_type": "code",
   "execution_count": 67,
   "id": "06820a5c",
   "metadata": {
    "ExecuteTime": {
     "end_time": "2022-11-06T22:49:48.290671Z",
     "start_time": "2022-11-06T22:49:48.283287Z"
    }
   },
   "outputs": [
    {
     "data": {
      "text/plain": [
       "[{'_id': ObjectId('63683537657571ee34691dda'),\n",
       "  'name': 'Punxsutawney',\n",
       "  'population': 6200,\n",
       "  'lastCensus': '2016-01-31',\n",
       "  'famousFor': ['Punxsutawney Phil'],\n",
       "  'mayor': {'name': 'Richard Alexander'}},\n",
       " {'_id': ObjectId('63683537657571ee34691ddb'),\n",
       "  'name': 'Portland',\n",
       "  'population': 582000,\n",
       "  'lastCensus': '2016-09-20',\n",
       "  'famousFor': ['beer', 'food', 'Portlandia'],\n",
       "  'mayor': {'name': 'Ted Wheeler', 'party': 'D'}}]"
      ]
     },
     "execution_count": 67,
     "metadata": {},
     "output_type": "execute_result"
    }
   ],
   "source": [
    "# Find all towns that being with P and have population less than 100,000.\n",
    "list(db.towns.find(\n",
    "    {\"name\": {\"$regex\": r\"^P\"}}) #, \"population\": {\"$lt\": 100000}})\n",
    "    )"
   ]
  },
  {
   "cell_type": "code",
   "execution_count": 68,
   "id": "7a099d52",
   "metadata": {
    "ExecuteTime": {
     "end_time": "2022-11-06T22:50:15.162027Z",
     "start_time": "2022-11-06T22:50:15.155380Z"
    }
   },
   "outputs": [
    {
     "data": {
      "text/plain": [
       "[{'_id': ObjectId('63683537657571ee34691dda'),\n",
       "  'name': 'Punxsutawney',\n",
       "  'population': 6200,\n",
       "  'lastCensus': '2016-01-31',\n",
       "  'famousFor': ['Punxsutawney Phil'],\n",
       "  'mayor': {'name': 'Richard Alexander'}}]"
      ]
     },
     "execution_count": 68,
     "metadata": {},
     "output_type": "execute_result"
    }
   ],
   "source": [
    "# Find all towns that being with P and have population less than 100,000.\n",
    "list(db.towns.find({\"name\": {\"$regex\": r\"^P\"}, \"population\": {\"$lt\": 100000}}))"
   ]
  },
  {
   "cell_type": "markdown",
   "id": "0d63e983",
   "metadata": {},
   "source": [
    "## Digging deep"
   ]
  },
  {
   "cell_type": "code",
   "execution_count": 74,
   "id": "bc5c3ac4",
   "metadata": {
    "ExecuteTime": {
     "end_time": "2022-11-06T22:53:02.794170Z",
     "start_time": "2022-11-06T22:53:02.787630Z"
    }
   },
   "outputs": [
    {
     "data": {
      "text/plain": [
       "[{'name': 'New York', 'famousFor': ['the MOMA', 'food', 'Derek Jeter']},\n",
       " {'name': 'Portland', 'famousFor': ['beer', 'food', 'Portlandia']},\n",
       " {'name': 'New York', 'famousFor': ['the MOMA', 'food', 'Derek Jeter']},\n",
       " {'name': 'New York', 'famousFor': ['the MOMA', 'food', 'Derek Jeter']},\n",
       " {'name': 'New York', 'famousFor': ['the MOMA', 'food', 'Derek Jeter']},\n",
       " {'name': 'New York', 'famousFor': ['the MOMA', 'food', 'Derek Jeter']}]"
      ]
     },
     "execution_count": 74,
     "metadata": {},
     "output_type": "execute_result"
    }
   ],
   "source": [
    "list(db.towns.find({\"famousFor\": \"food\"}, {\"_id\": 0, \"name\": 1, \"famousFor\": 1}))"
   ]
  },
  {
   "cell_type": "code",
   "execution_count": 79,
   "id": "fb47ebc8",
   "metadata": {
    "ExecuteTime": {
     "end_time": "2022-11-06T22:55:45.120888Z",
     "start_time": "2022-11-06T22:55:45.113960Z"
    }
   },
   "outputs": [
    {
     "data": {
      "text/plain": [
       "[{'name': 'Portland', 'famousFor': ['beer', 'food', 'Portlandia']}]"
      ]
     },
     "execution_count": 79,
     "metadata": {},
     "output_type": "execute_result"
    }
   ],
   "source": [
    "# Query for matching values.\n",
    "list(db.towns.find(\n",
    "    {\"famousFor\": {\"$all\": ['food', 'beer']}},\n",
    "    {\"_id\": 0, \"name\": 1, \"famousFor\": 1}))"
   ]
  },
  {
   "cell_type": "code",
   "execution_count": 80,
   "id": "0e793018",
   "metadata": {
    "ExecuteTime": {
     "end_time": "2022-11-06T22:56:08.642726Z",
     "start_time": "2022-11-06T22:56:08.635496Z"
    }
   },
   "outputs": [
    {
     "data": {
      "text/plain": [
       "[{'name': 'Punxsutawney', 'famousFor': ['Punxsutawney Phil']}]"
      ]
     },
     "execution_count": 80,
     "metadata": {},
     "output_type": "execute_result"
    }
   ],
   "source": [
    "# Query for lack of matching values.\n",
    "list(db.towns.find(\n",
    "    {\"famousFor\": {\"$nin\": ['food', 'beer']}},\n",
    "    {\"_id\": 0, \"name\": 1, \"famousFor\": 1}))"
   ]
  },
  {
   "cell_type": "code",
   "execution_count": 83,
   "id": "d468cfee",
   "metadata": {
    "ExecuteTime": {
     "end_time": "2022-11-06T22:57:10.036178Z",
     "start_time": "2022-11-06T22:57:10.025946Z"
    }
   },
   "outputs": [
    {
     "data": {
      "text/plain": [
       "[{'_id': ObjectId('6368352a657571ee34691dd9'),\n",
       "  'name': 'New York',\n",
       "  'population': 22200000,\n",
       "  'lastCensus': '2022-11-01',\n",
       "  'famousFor': ['the MOMA', 'food', 'Derek Jeter'],\n",
       "  'mayor': {'name': 'Bill de Blasio', 'party': 'D'}},\n",
       " {'_id': ObjectId('63683537657571ee34691ddb'),\n",
       "  'name': 'Portland',\n",
       "  'population': 582000,\n",
       "  'lastCensus': '2016-09-20',\n",
       "  'famousFor': ['beer', 'food', 'Portlandia'],\n",
       "  'mayor': {'name': 'Ted Wheeler', 'party': 'D'}},\n",
       " {'_id': ObjectId('63683891657571ee34691ddd'),\n",
       "  'name': 'New York',\n",
       "  'population': 22200000,\n",
       "  'lastCensus': '2022-11-01',\n",
       "  'famousFor': ['the MOMA', 'food', 'Derek Jeter'],\n",
       "  'mayor': {'name': 'Bill de Blasio', 'party': 'D'}},\n",
       " {'_id': ObjectId('63683894657571ee34691dde'),\n",
       "  'name': 'New York',\n",
       "  'population': 22200000,\n",
       "  'lastCensus': '2022-11-01',\n",
       "  'famousFor': ['the MOMA', 'food', 'Derek Jeter'],\n",
       "  'mayor': {'name': 'Bill de Blasio', 'party': 'D'}},\n",
       " {'_id': ObjectId('63683899657571ee34691ddf'),\n",
       "  'name': 'New York',\n",
       "  'population': 22200000,\n",
       "  'lastCensus': '2022-11-01',\n",
       "  'famousFor': ['the MOMA', 'food', 'Derek Jeter'],\n",
       "  'mayor': {'name': 'Bill de Blasio', 'party': 'D'}},\n",
       " {'_id': ObjectId('636838a7657571ee34691de0'),\n",
       "  'name': 'New York',\n",
       "  'population': 22200000,\n",
       "  'lastCensus': '2022-11-01',\n",
       "  'famousFor': ['the MOMA', 'food', 'Derek Jeter'],\n",
       "  'mayor': {'name': 'Bill de Blasio', 'party': 'D'}}]"
      ]
     },
     "execution_count": 83,
     "metadata": {},
     "output_type": "execute_result"
    }
   ],
   "source": [
    "# Find results with nested search criteria, e.g., mayor.party = \"D\".\n",
    "list(db.towns.find(\n",
    "    {'mayor.party': 'D'}))"
   ]
  },
  {
   "cell_type": "markdown",
   "id": "f4c8d02d",
   "metadata": {},
   "source": [
    "# Create `countries` collection."
   ]
  },
  {
   "cell_type": "code",
   "execution_count": 94,
   "id": "1d4fc37b",
   "metadata": {
    "ExecuteTime": {
     "end_time": "2022-11-07T20:15:25.615416Z",
     "start_time": "2022-11-07T20:15:25.591711Z"
    }
   },
   "outputs": [],
   "source": [
    "db.countries.drop()\n",
    "db.countries.insert_one({\n",
    "    \"_id\": \"us\",\n",
    "    \"name\": \"United States\",\n",
    "    \"exports\": {\n",
    "        \"foods\": [{\n",
    "            \"name\": \"bacon\",\n",
    "            \"tasty\": True\n",
    "        }, {\n",
    "            \"name\": \"burgers\"\n",
    "        }]\n",
    "    }\n",
    "})\n",
    "\n",
    "db.countries.insert_one({\n",
    "    \"_id\": \"ca\",\n",
    "    \"name\": \"Canada\",\n",
    "    \"exports\": {\n",
    "        \"foods\": [{\n",
    "            \"name\": \"bacon\",\n",
    "            \"tasty\": False\n",
    "        }, {\n",
    "            \"name\": \"syrup\",\n",
    "            \"tasty\": True\n",
    "        }]\n",
    "    }\n",
    "})\n",
    "\n",
    "db.countries.insert_one({\n",
    "    \"_id\": \"mx\",\n",
    "    \"name\": \"Mexico\",\n",
    "    \"exports\": {\n",
    "        \"foods\": [{\n",
    "            \"name\": \"salsa\",\n",
    "            \"tasty\": True,\n",
    "            \"condiment\": True\n",
    "        }]\n",
    "    }\n",
    "})\n",
    "\n",
    "assert  db.countries.count_documents({}) == 3"
   ]
  },
  {
   "cell_type": "code",
   "execution_count": 103,
   "id": "15a09a95",
   "metadata": {
    "ExecuteTime": {
     "end_time": "2022-11-07T20:19:01.006671Z",
     "start_time": "2022-11-07T20:19:00.999055Z"
    }
   },
   "outputs": [
    {
     "name": "stdout",
     "output_type": "stream",
     "text": [
      "[{'name': 'United States'}, {'name': 'Canada'}]\n"
     ]
    }
   ],
   "source": [
    "# Find the country that exports tasty bacon.\n",
    "\n",
    "# This doesn't return what we want, since we want the end of the condition and not or.\n",
    "print(\n",
    "    list(\n",
    "        db.countries.find(\n",
    "            {\n",
    "                'exports.foods.name': 'bacon',\n",
    "                'exports.foods.tasty': True,\n",
    "            }, {\n",
    "                \"_id\": 0,\n",
    "                \"name\": 1\n",
    "            })))\n"
   ]
  },
  {
   "cell_type": "code",
   "execution_count": 102,
   "id": "47200eca",
   "metadata": {
    "ExecuteTime": {
     "end_time": "2022-11-07T20:18:58.195896Z",
     "start_time": "2022-11-07T20:18:58.189475Z"
    }
   },
   "outputs": [
    {
     "name": "stdout",
     "output_type": "stream",
     "text": [
      "[{'name': 'United States'}]\n"
     ]
    }
   ],
   "source": [
    "# Using $elemMatch.\n",
    "print(\n",
    "    list(\n",
    "        db.countries.find(\n",
    "            {\n",
    "                'exports.foods': {\n",
    "                    \"$elemMatch\": {\n",
    "                        'name': 'bacon',\n",
    "                        'tasty': True,\n",
    "                    }\n",
    "                }\n",
    "            }, {\n",
    "                \"_id\": 0,\n",
    "                \"name\": 1\n",
    "            })))"
   ]
  },
  {
   "cell_type": "code",
   "execution_count": 110,
   "id": "613161e3",
   "metadata": {
    "ExecuteTime": {
     "end_time": "2022-11-07T20:31:50.446821Z",
     "start_time": "2022-11-07T20:31:50.438199Z"
    }
   },
   "outputs": [
    {
     "name": "stdout",
     "output_type": "stream",
     "text": [
      "[]\n",
      "[{'_id': 'us'}, {'_id': 'mx'}]\n"
     ]
    }
   ],
   "source": [
    "#\n",
    "print(list(db.countries.find({\"_id\": \"mx\", \"name\": \"United States\"})))\n",
    "\n",
    "print(\n",
    "    list(\n",
    "        db.countries.find({\"$or\": [{\n",
    "            \"_id\": \"mx\"\n",
    "        }, {\n",
    "            \"name\": \"United States\"\n",
    "        }]}, {\"_id\": 1})))"
   ]
  },
  {
   "cell_type": "markdown",
   "id": "40387231",
   "metadata": {},
   "source": [
    "## Updating"
   ]
  },
  {
   "cell_type": "code",
   "execution_count": 127,
   "id": "b6cfadc4",
   "metadata": {
    "ExecuteTime": {
     "end_time": "2022-11-07T20:36:03.194715Z",
     "start_time": "2022-11-07T20:36:03.186586Z"
    }
   },
   "outputs": [
    {
     "name": "stdout",
     "output_type": "stream",
     "text": [
      "[{'_id': ObjectId('63696c23657571ee34691de1'),\n",
      "  'famousFor': ['the MOMA', 'food', 'Derek Jeter'],\n",
      "  'lastCensus': '2022-11-01',\n",
      "  'mayor': {'name': 'Bill de Blasio', 'party': 'D'},\n",
      "  'name': 'New York',\n",
      "  'population': 22200000},\n",
      " {'_id': ObjectId('63696c28657571ee34691de2'),\n",
      "  'famousFor': ['Punxsutawney Phil'],\n",
      "  'lastCensus': '2016-01-31',\n",
      "  'mayor': {'name': 'Richard Alexander'},\n",
      "  'name': 'Punxsutawney',\n",
      "  'population': 6200},\n",
      " {'_id': ObjectId('63696c28657571ee34691de3'),\n",
      "  'famousFor': ['beer', 'food', 'Portlandia'],\n",
      "  'lastCensus': '2016-09-20',\n",
      "  'mayor': {'name': 'Ted Wheeler', 'party': 'D'},\n",
      "  'name': 'Portland',\n",
      "  'population': 582000}]\n"
     ]
    }
   ],
   "source": [
    "pprint.pprint(list(db.towns.find()))"
   ]
  },
  {
   "cell_type": "code",
   "execution_count": 132,
   "id": "44b80fb1",
   "metadata": {
    "ExecuteTime": {
     "end_time": "2022-11-07T20:37:34.918809Z",
     "start_time": "2022-11-07T20:37:34.907379Z"
    }
   },
   "outputs": [
    {
     "ename": "ValueError",
     "evalue": "update only works with $ operators",
     "output_type": "error",
     "traceback": [
      "\u001b[0;31m---------------------------------------------------------------------------\u001b[0m",
      "\u001b[0;31mValueError\u001b[0m                                Traceback (most recent call last)",
      "\u001b[0;32m/tmp/ipykernel_253/1449416203.py\u001b[0m in \u001b[0;36m<module>\u001b[0;34m\u001b[0m\n\u001b[0;32m----> 1\u001b[0;31m db.towns.update_one({\"_id\": ObjectId(\"63696c28657571ee34691de3\")},\n\u001b[0m\u001b[1;32m      2\u001b[0m                     {\"state\": \"OR\"})\n",
      "\u001b[0;32m/usr/local/lib/python3.10/dist-packages/pymongo/collection.py\u001b[0m in \u001b[0;36mupdate_one\u001b[0;34m(self, filter, update, upsert, bypass_document_validation, collation, array_filters, hint, session, let, comment)\u001b[0m\n\u001b[1;32m   1027\u001b[0m         \"\"\"\n\u001b[1;32m   1028\u001b[0m         \u001b[0mcommon\u001b[0m\u001b[0;34m.\u001b[0m\u001b[0mvalidate_is_mapping\u001b[0m\u001b[0;34m(\u001b[0m\u001b[0;34m\"filter\"\u001b[0m\u001b[0;34m,\u001b[0m \u001b[0mfilter\u001b[0m\u001b[0;34m)\u001b[0m\u001b[0;34m\u001b[0m\u001b[0;34m\u001b[0m\u001b[0m\n\u001b[0;32m-> 1029\u001b[0;31m         \u001b[0mcommon\u001b[0m\u001b[0;34m.\u001b[0m\u001b[0mvalidate_ok_for_update\u001b[0m\u001b[0;34m(\u001b[0m\u001b[0mupdate\u001b[0m\u001b[0;34m)\u001b[0m\u001b[0;34m\u001b[0m\u001b[0;34m\u001b[0m\u001b[0m\n\u001b[0m\u001b[1;32m   1030\u001b[0m         \u001b[0mcommon\u001b[0m\u001b[0;34m.\u001b[0m\u001b[0mvalidate_list_or_none\u001b[0m\u001b[0;34m(\u001b[0m\u001b[0;34m\"array_filters\"\u001b[0m\u001b[0;34m,\u001b[0m \u001b[0marray_filters\u001b[0m\u001b[0;34m)\u001b[0m\u001b[0;34m\u001b[0m\u001b[0;34m\u001b[0m\u001b[0m\n\u001b[1;32m   1031\u001b[0m \u001b[0;34m\u001b[0m\u001b[0m\n",
      "\u001b[0;32m/usr/local/lib/python3.10/dist-packages/pymongo/common.py\u001b[0m in \u001b[0;36mvalidate_ok_for_update\u001b[0;34m(update)\u001b[0m\n\u001b[1;32m    585\u001b[0m     \u001b[0mfirst\u001b[0m \u001b[0;34m=\u001b[0m \u001b[0mnext\u001b[0m\u001b[0;34m(\u001b[0m\u001b[0miter\u001b[0m\u001b[0;34m(\u001b[0m\u001b[0mupdate\u001b[0m\u001b[0;34m)\u001b[0m\u001b[0;34m)\u001b[0m\u001b[0;34m\u001b[0m\u001b[0;34m\u001b[0m\u001b[0m\n\u001b[1;32m    586\u001b[0m     \u001b[0;32mif\u001b[0m \u001b[0mis_document\u001b[0m \u001b[0;32mand\u001b[0m \u001b[0;32mnot\u001b[0m \u001b[0mfirst\u001b[0m\u001b[0;34m.\u001b[0m\u001b[0mstartswith\u001b[0m\u001b[0;34m(\u001b[0m\u001b[0;34m\"$\"\u001b[0m\u001b[0;34m)\u001b[0m\u001b[0;34m:\u001b[0m\u001b[0;34m\u001b[0m\u001b[0;34m\u001b[0m\u001b[0m\n\u001b[0;32m--> 587\u001b[0;31m         \u001b[0;32mraise\u001b[0m \u001b[0mValueError\u001b[0m\u001b[0;34m(\u001b[0m\u001b[0;34m\"update only works with $ operators\"\u001b[0m\u001b[0;34m)\u001b[0m\u001b[0;34m\u001b[0m\u001b[0;34m\u001b[0m\u001b[0m\n\u001b[0m\u001b[1;32m    588\u001b[0m \u001b[0;34m\u001b[0m\u001b[0m\n\u001b[1;32m    589\u001b[0m \u001b[0;34m\u001b[0m\u001b[0m\n",
      "\u001b[0;31mValueError\u001b[0m: update only works with $ operators"
     ]
    }
   ],
   "source": [
    "# This doesn't work.\n",
    "#db.towns.update_one({\"_id\": ObjectId(\"63696c28657571ee34691de3\")},\n",
    "#                    {\"state\": \"OR\"})"
   ]
  },
  {
   "cell_type": "code",
   "execution_count": 139,
   "id": "2ee0970d",
   "metadata": {
    "ExecuteTime": {
     "end_time": "2022-11-07T20:40:05.172190Z",
     "start_time": "2022-11-07T20:40:05.162506Z"
    }
   },
   "outputs": [
    {
     "name": "stdout",
     "output_type": "stream",
     "text": [
      "[{'_id': ObjectId('63696c28657571ee34691de3'),\n",
      "  'famousFor': ['beer', 'food', 'Portlandia'],\n",
      "  'lastCensus': '2016-09-20',\n",
      "  'mayor': {'name': 'Ted Wheeler', 'party': 'D'},\n",
      "  'name': 'Portland',\n",
      "  'population': 585000,\n",
      "  'state': 'OR'}]\n"
     ]
    }
   ],
   "source": [
    "db.towns.update_one({\"_id\": ObjectId(\"63696c28657571ee34691de3\")},\n",
    "                    {\"$set\": {\n",
    "                        \"state\": \"OR\"\n",
    "                    }})\n",
    "\n",
    "pprint.pprint(list(db.towns.find({\"_id\": ObjectId(\"63696c28657571ee34691de3\")})))"
   ]
  },
  {
   "cell_type": "code",
   "execution_count": 143,
   "id": "aed4f136",
   "metadata": {
    "ExecuteTime": {
     "end_time": "2022-11-07T20:40:14.045545Z",
     "start_time": "2022-11-07T20:40:14.035751Z"
    }
   },
   "outputs": [
    {
     "name": "stdout",
     "output_type": "stream",
     "text": [
      "[{'_id': ObjectId('63696c28657571ee34691de3'),\n",
      "  'famousFor': ['beer', 'food', 'Portlandia'],\n",
      "  'lastCensus': '2016-09-20',\n",
      "  'mayor': {'name': 'Ted Wheeler', 'party': 'D'},\n",
      "  'name': 'Portland',\n",
      "  'population': 589000,\n",
      "  'state': 'OR'}]\n"
     ]
    }
   ],
   "source": [
    "db.towns.update_one(\n",
    "   {\"_id\": ObjectId(\"63696c28657571ee34691de3\")}, \n",
    "    {\"$inc\": { \"population\": 1000 }}\n",
    ")\n",
    "pprint.pprint(list(db.towns.find({\"_id\": ObjectId(\"63696c28657571ee34691de3\")})))"
   ]
  },
  {
   "cell_type": "markdown",
   "id": "ee54d750",
   "metadata": {},
   "source": [
    "## References."
   ]
  },
  {
   "cell_type": "code",
   "execution_count": 148,
   "id": "aebb47b5",
   "metadata": {
    "ExecuteTime": {
     "end_time": "2022-11-07T20:43:33.895449Z",
     "start_time": "2022-11-07T20:43:33.886637Z"
    }
   },
   "outputs": [
    {
     "name": "stdout",
     "output_type": "stream",
     "text": [
      "{'_id': ObjectId('63696c28657571ee34691de3'),\n",
      " 'country': DBRef('countries', 'us'),\n",
      " 'famousFor': ['beer', 'food', 'Portlandia'],\n",
      " 'lastCensus': '2016-09-20',\n",
      " 'mayor': {'name': 'Ted Wheeler', 'party': 'D'},\n",
      " 'name': 'Portland',\n",
      " 'population': 589000,\n",
      " 'state': 'OR'}\n"
     ]
    }
   ],
   "source": [
    "# Mongo is not built to perform joins.\n",
    "# It is useful to have documents reference each other.\n",
    "db.towns.update_one({\"_id\": ObjectId(\"63696c28657571ee34691de3\")},\n",
    "                    {\"$set\": {\n",
    "                        \"country\": {\n",
    "                            \"$ref\": \"countries\",\n",
    "                            \"$id\": \"us\"\n",
    "                        }\n",
    "                    }})\n",
    "\n",
    "pprint.pprint(db.towns.find_one({\"_id\": ObjectId(\"63696c28657571ee34691de3\")}))"
   ]
  },
  {
   "cell_type": "code",
   "execution_count": 161,
   "id": "a7f8ee5f",
   "metadata": {
    "ExecuteTime": {
     "end_time": "2022-11-07T20:46:28.892546Z",
     "start_time": "2022-11-07T20:46:28.886357Z"
    }
   },
   "outputs": [
    {
     "name": "stdout",
     "output_type": "stream",
     "text": [
      "{'_id': ObjectId('63696c28657571ee34691de3'), 'name': 'Portland', 'population': 589000, 'lastCensus': '2016-09-20', 'famousFor': ['beer', 'food', 'Portlandia'], 'mayor': {'name': 'Ted Wheeler', 'party': 'D'}, 'state': 'OR', 'country': DBRef('countries', 'us')}\n",
      "us\n"
     ]
    }
   ],
   "source": [
    "var = db.towns.find_one({\"_id\": ObjectId(\"63696c28657571ee34691de3\")})\n",
    "print(var)\n",
    "print(var[\"country\"].id)\n",
    "#var.country[\"$ref\"]\n",
    "            "
   ]
  },
  {
   "cell_type": "markdown",
   "id": "2ee908fc",
   "metadata": {},
   "source": [
    "## Delete"
   ]
  },
  {
   "cell_type": "markdown",
   "id": "97788f7e",
   "metadata": {},
   "source": [
    "## Query with code"
   ]
  }
 ],
 "metadata": {
  "kernelspec": {
   "display_name": "Python 3 (ipykernel)",
   "language": "python",
   "name": "python3"
  },
  "language_info": {
   "codemirror_mode": {
    "name": "ipython",
    "version": 3
   },
   "file_extension": ".py",
   "mimetype": "text/x-python",
   "name": "python",
   "nbconvert_exporter": "python",
   "pygments_lexer": "ipython3",
   "version": "3.10.6"
  },
  "toc": {
   "base_numbering": 1,
   "nav_menu": {},
   "number_sections": true,
   "sideBar": true,
   "skip_h1_title": false,
   "title_cell": "Table of Contents",
   "title_sidebar": "Contents",
   "toc_cell": false,
   "toc_position": {},
   "toc_section_display": true,
   "toc_window_display": true
  }
 },
 "nbformat": 4,
 "nbformat_minor": 5
}
