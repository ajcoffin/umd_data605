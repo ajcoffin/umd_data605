{
 "cells": [
  {
   "cell_type": "code",
   "execution_count": 3,
   "id": "c154b397",
   "metadata": {
    "ExecuteTime": {
     "end_time": "2022-12-11T09:15:17.231928Z",
     "start_time": "2022-12-11T09:15:17.218810Z"
    }
   },
   "outputs": [],
   "source": [
    "import pprint\n",
    "\n",
    "import pymongo\n",
    "from bson.objectid import ObjectId\n",
    "\n",
    "client = pymongo.MongoClient(\"localhost\", 27017)\n",
    "db = client[\"book\"]"
   ]
  },
  {
   "cell_type": "code",
   "execution_count": 4,
   "id": "feac150d",
   "metadata": {
    "ExecuteTime": {
     "end_time": "2022-12-11T09:15:17.243593Z",
     "start_time": "2022-12-11T09:15:17.236163Z"
    }
   },
   "outputs": [],
   "source": [
    "db.towns.drop()"
   ]
  },
  {
   "cell_type": "code",
   "execution_count": 5,
   "id": "6e536b05",
   "metadata": {
    "ExecuteTime": {
     "end_time": "2022-12-11T09:15:17.258549Z",
     "start_time": "2022-12-11T09:15:17.247700Z"
    }
   },
   "outputs": [
    {
     "data": {
      "text/plain": [
       "[]"
      ]
     },
     "execution_count": 5,
     "metadata": {},
     "output_type": "execute_result"
    }
   ],
   "source": [
    "# Show all the collections (-> SQL tables).\n",
    "db.list_collection_names()"
   ]
  },
  {
   "cell_type": "code",
   "execution_count": 6,
   "id": "18ec99ff",
   "metadata": {
    "ExecuteTime": {
     "end_time": "2022-12-11T09:15:17.295107Z",
     "start_time": "2022-12-11T09:15:17.264075Z"
    }
   },
   "outputs": [
    {
     "name": "stdout",
     "output_type": "stream",
     "text": [
      "<pymongo.results.InsertOneResult object at 0x7f879040ed30>\n"
     ]
    },
    {
     "data": {
      "text/plain": [
       "ObjectId('63959fa5384c6469d0fd6781')"
      ]
     },
     "execution_count": 6,
     "metadata": {},
     "output_type": "execute_result"
    }
   ],
   "source": [
    "# Just inserting an object in a DB, it creates it.\n",
    "dict_ = {\n",
    "    \"name\": \"New York\",\n",
    "    \"population\": 22200000,\n",
    "    \"lastCensus\": \"2022-11-01\",\n",
    "    \"famousFor\": [\"the MOMA\", \"food\", \"Derek Jeter\"],\n",
    "    \"mayor\": {\n",
    "        \"name\": \"Bill de Blasio\",\n",
    "        \"party\": \"D\"\n",
    "    }\n",
    "}\n",
    "\n",
    "val = db.towns.insert_one(dict_)\n",
    "print(val)\n",
    "\n",
    "val.inserted_id"
   ]
  },
  {
   "cell_type": "code",
   "execution_count": 7,
   "id": "62282ab2",
   "metadata": {
    "ExecuteTime": {
     "end_time": "2022-12-11T09:15:17.307071Z",
     "start_time": "2022-12-11T09:15:17.298662Z"
    }
   },
   "outputs": [
    {
     "data": {
      "text/plain": [
       "['towns']"
      ]
     },
     "execution_count": 7,
     "metadata": {},
     "output_type": "execute_result"
    }
   ],
   "source": [
    "# Show all the collections (-> SQL tables).\n",
    "db.list_collection_names()"
   ]
  },
  {
   "cell_type": "code",
   "execution_count": 8,
   "id": "03484689",
   "metadata": {
    "ExecuteTime": {
     "end_time": "2022-12-11T09:15:17.328955Z",
     "start_time": "2022-12-11T09:15:17.310572Z"
    }
   },
   "outputs": [
    {
     "name": "stdout",
     "output_type": "stream",
     "text": [
      "{'_id': ObjectId('63959fa5384c6469d0fd6781'),\n",
      " 'famousFor': ['the MOMA', 'food', 'Derek Jeter'],\n",
      " 'lastCensus': '2022-11-01',\n",
      " 'mayor': {'name': 'Bill de Blasio', 'party': 'D'},\n",
      " 'name': 'New York',\n",
      " 'population': 22200000}\n"
     ]
    }
   ],
   "source": [
    "# _id is like the key.\n",
    "for obj in db.towns.find():\n",
    "    pprint.pprint(obj)"
   ]
  },
  {
   "cell_type": "code",
   "execution_count": 9,
   "id": "78759be9",
   "metadata": {
    "ExecuteTime": {
     "end_time": "2022-12-11T09:15:17.351837Z",
     "start_time": "2022-12-11T09:15:17.332732Z"
    }
   },
   "outputs": [],
   "source": [
    "def insert_city(name, population, lastCensus, famousFor, mayor):\n",
    "    db.towns.insert_one({\n",
    "        \"name\": name,\n",
    "        \"population\": population,\n",
    "        \"lastCensus\": lastCensus,\n",
    "        \"famousFor\": famousFor,\n",
    "        \"mayor\": mayor,\n",
    "    })\n",
    "\n",
    "\n",
    "insert_city(\"Punxsutawney\", 6200, '2016-01-31', [\"Punxsutawney Phil\"],\n",
    "            {\"name\": \"Richard Alexander\"})\n",
    "\n",
    "insert_city(\"Portland\", 582000, '2016-09-20', [\"beer\", \"food\", \"Portlandia\"], {\n",
    "    \"name\": \"Ted Wheeler\",\n",
    "    \"party\": \"D\"\n",
    "})"
   ]
  },
  {
   "cell_type": "code",
   "execution_count": 10,
   "id": "41922c73",
   "metadata": {
    "ExecuteTime": {
     "end_time": "2022-12-11T09:15:17.386464Z",
     "start_time": "2022-12-11T09:15:17.362986Z"
    }
   },
   "outputs": [
    {
     "name": "stdout",
     "output_type": "stream",
     "text": [
      "{'_id': ObjectId('63959fa5384c6469d0fd6781'),\n",
      " 'famousFor': ['the MOMA', 'food', 'Derek Jeter'],\n",
      " 'lastCensus': '2022-11-01',\n",
      " 'mayor': {'name': 'Bill de Blasio', 'party': 'D'},\n",
      " 'name': 'New York',\n",
      " 'population': 22200000}\n",
      "{'_id': ObjectId('63959fa5384c6469d0fd6782'),\n",
      " 'famousFor': ['Punxsutawney Phil'],\n",
      " 'lastCensus': '2016-01-31',\n",
      " 'mayor': {'name': 'Richard Alexander'},\n",
      " 'name': 'Punxsutawney',\n",
      " 'population': 6200}\n",
      "{'_id': ObjectId('63959fa5384c6469d0fd6783'),\n",
      " 'famousFor': ['beer', 'food', 'Portlandia'],\n",
      " 'lastCensus': '2016-09-20',\n",
      " 'mayor': {'name': 'Ted Wheeler', 'party': 'D'},\n",
      " 'name': 'Portland',\n",
      " 'population': 582000}\n"
     ]
    }
   ],
   "source": [
    "# _id is like the key.\n",
    "for obj in db.towns.find():\n",
    "    pprint.pprint(obj)"
   ]
  },
  {
   "cell_type": "code",
   "execution_count": 11,
   "id": "002b259e",
   "metadata": {
    "ExecuteTime": {
     "end_time": "2022-12-11T09:15:17.405859Z",
     "start_time": "2022-12-11T09:15:17.392972Z"
    }
   },
   "outputs": [
    {
     "data": {
      "text/plain": [
       "{'_id': ObjectId('63959fa5384c6469d0fd6781'),\n",
       " 'name': 'New York',\n",
       " 'population': 22200000,\n",
       " 'lastCensus': '2022-11-01',\n",
       " 'famousFor': ['the MOMA', 'food', 'Derek Jeter'],\n",
       " 'mayor': {'name': 'Bill de Blasio', 'party': 'D'}}"
      ]
     },
     "execution_count": 11,
     "metadata": {},
     "output_type": "execute_result"
    }
   ],
   "source": [
    "#db.towns.find_one({\"_id\": ObjectId(\"6368352a657571ee34691dd9\")})\n",
    "db.towns.find_one({\"_id\": val.inserted_id})"
   ]
  },
  {
   "cell_type": "code",
   "execution_count": 12,
   "id": "5862d112",
   "metadata": {
    "ExecuteTime": {
     "end_time": "2022-12-11T09:15:17.423829Z",
     "start_time": "2022-12-11T09:15:17.413867Z"
    }
   },
   "outputs": [
    {
     "data": {
      "text/plain": [
       "{'_id': ObjectId('63959fa5384c6469d0fd6781'), 'name': 'New York'}"
      ]
     },
     "execution_count": 12,
     "metadata": {},
     "output_type": "execute_result"
    }
   ],
   "source": [
    "# Retrieve only the field name.\n",
    "db.towns.find_one({\"_id\": ObjectId(str(val.inserted_id))}, {\"name\": 1})"
   ]
  },
  {
   "cell_type": "code",
   "execution_count": 13,
   "id": "f82faa87",
   "metadata": {
    "ExecuteTime": {
     "end_time": "2022-12-11T09:15:17.436867Z",
     "start_time": "2022-12-11T09:15:17.427730Z"
    }
   },
   "outputs": [
    {
     "data": {
      "text/plain": [
       "{'_id': ObjectId('63959fa5384c6469d0fd6781'),\n",
       " 'population': 22200000,\n",
       " 'lastCensus': '2022-11-01',\n",
       " 'famousFor': ['the MOMA', 'food', 'Derek Jeter'],\n",
       " 'mayor': {'name': 'Bill de Blasio', 'party': 'D'}}"
      ]
     },
     "execution_count": 13,
     "metadata": {},
     "output_type": "execute_result"
    }
   ],
   "source": [
    "# Retrieve all field excluding one.\n",
    "db.towns.find_one({\"_id\": ObjectId(str(val.inserted_id))}, {\"name\": 0})"
   ]
  },
  {
   "cell_type": "code",
   "execution_count": 14,
   "id": "ee63a1aa",
   "metadata": {
    "ExecuteTime": {
     "end_time": "2022-12-11T09:15:17.451935Z",
     "start_time": "2022-12-11T09:15:17.442595Z"
    }
   },
   "outputs": [
    {
     "data": {
      "text/plain": [
       "[{'_id': ObjectId('63959fa5384c6469d0fd6782'),\n",
       "  'name': 'Punxsutawney',\n",
       "  'population': 6200,\n",
       "  'lastCensus': '2016-01-31',\n",
       "  'famousFor': ['Punxsutawney Phil'],\n",
       "  'mayor': {'name': 'Richard Alexander'}},\n",
       " {'_id': ObjectId('63959fa5384c6469d0fd6783'),\n",
       "  'name': 'Portland',\n",
       "  'population': 582000,\n",
       "  'lastCensus': '2016-09-20',\n",
       "  'famousFor': ['beer', 'food', 'Portlandia'],\n",
       "  'mayor': {'name': 'Ted Wheeler', 'party': 'D'}}]"
      ]
     },
     "execution_count": 14,
     "metadata": {},
     "output_type": "execute_result"
    }
   ],
   "source": [
    "# Find all towns that being with P.\n",
    "list(db.towns.find({\"name\": {\"$regex\": r\"^P\"}}))"
   ]
  },
  {
   "cell_type": "code",
   "execution_count": 15,
   "id": "131f7804",
   "metadata": {
    "ExecuteTime": {
     "end_time": "2022-12-11T09:15:17.465617Z",
     "start_time": "2022-12-11T09:15:17.455081Z"
    }
   },
   "outputs": [
    {
     "data": {
      "text/plain": [
       "[{'name': 'Punxsutawney'}, {'name': 'Portland'}]"
      ]
     },
     "execution_count": 15,
     "metadata": {},
     "output_type": "execute_result"
    }
   ],
   "source": [
    "# Find all towns that being with P.\n",
    "list(db.towns.find({\"name\": {\"$regex\": r\"^P\"}},\n",
    "                   {\"_id\": 0, \"name\": 1}))"
   ]
  },
  {
   "cell_type": "code",
   "execution_count": 16,
   "id": "9234bced",
   "metadata": {
    "ExecuteTime": {
     "end_time": "2022-12-11T09:15:17.479335Z",
     "start_time": "2022-12-11T09:15:17.469555Z"
    }
   },
   "outputs": [
    {
     "data": {
      "text/plain": [
       "[{'_id': ObjectId('63959fa5384c6469d0fd6782'),\n",
       "  'name': 'Punxsutawney',\n",
       "  'population': 6200,\n",
       "  'lastCensus': '2016-01-31',\n",
       "  'famousFor': ['Punxsutawney Phil'],\n",
       "  'mayor': {'name': 'Richard Alexander'}},\n",
       " {'_id': ObjectId('63959fa5384c6469d0fd6783'),\n",
       "  'name': 'Portland',\n",
       "  'population': 582000,\n",
       "  'lastCensus': '2016-09-20',\n",
       "  'famousFor': ['beer', 'food', 'Portlandia'],\n",
       "  'mayor': {'name': 'Ted Wheeler', 'party': 'D'}}]"
      ]
     },
     "execution_count": 16,
     "metadata": {},
     "output_type": "execute_result"
    }
   ],
   "source": [
    "# Find all towns that being with P and have population less than 100,000.\n",
    "list(db.towns.find(\n",
    "    {\"name\": {\"$regex\": r\"^P\"}}) #, \"population\": {\"$lt\": 100000}})\n",
    "    )"
   ]
  },
  {
   "cell_type": "code",
   "execution_count": null,
   "id": "c2da01b7",
   "metadata": {},
   "outputs": [],
   "source": []
  },
  {
   "cell_type": "code",
   "execution_count": 17,
   "id": "06820a5c",
   "metadata": {
    "ExecuteTime": {
     "end_time": "2022-12-11T09:15:17.492462Z",
     "start_time": "2022-12-11T09:15:17.482594Z"
    }
   },
   "outputs": [
    {
     "data": {
      "text/plain": [
       "[{'_id': ObjectId('63959fa5384c6469d0fd6782'),\n",
       "  'name': 'Punxsutawney',\n",
       "  'population': 6200,\n",
       "  'lastCensus': '2016-01-31',\n",
       "  'famousFor': ['Punxsutawney Phil'],\n",
       "  'mayor': {'name': 'Richard Alexander'}},\n",
       " {'_id': ObjectId('63959fa5384c6469d0fd6783'),\n",
       "  'name': 'Portland',\n",
       "  'population': 582000,\n",
       "  'lastCensus': '2016-09-20',\n",
       "  'famousFor': ['beer', 'food', 'Portlandia'],\n",
       "  'mayor': {'name': 'Ted Wheeler', 'party': 'D'}}]"
      ]
     },
     "execution_count": 17,
     "metadata": {},
     "output_type": "execute_result"
    }
   ],
   "source": [
    "# Find all towns that being with P and have population less than 100,000.\n",
    "list(db.towns.find(\n",
    "    {\"name\": {\"$regex\": r\"^P\"}}) #, \"population\": {\"$lt\": 100000}})\n",
    "    )"
   ]
  },
  {
   "cell_type": "code",
   "execution_count": 18,
   "id": "7a099d52",
   "metadata": {
    "ExecuteTime": {
     "end_time": "2022-12-11T09:15:17.504681Z",
     "start_time": "2022-12-11T09:15:17.495597Z"
    }
   },
   "outputs": [
    {
     "data": {
      "text/plain": [
       "[{'_id': ObjectId('63959fa5384c6469d0fd6782'),\n",
       "  'name': 'Punxsutawney',\n",
       "  'population': 6200,\n",
       "  'lastCensus': '2016-01-31',\n",
       "  'famousFor': ['Punxsutawney Phil'],\n",
       "  'mayor': {'name': 'Richard Alexander'}}]"
      ]
     },
     "execution_count": 18,
     "metadata": {},
     "output_type": "execute_result"
    }
   ],
   "source": [
    "# Find all towns that being with P and have population less than 100,000.\n",
    "list(db.towns.find({\"name\": {\"$regex\": r\"^P\"}, \"population\": {\"$lt\": 100000}}))"
   ]
  },
  {
   "cell_type": "markdown",
   "id": "0d63e983",
   "metadata": {},
   "source": [
    "## Digging deep"
   ]
  },
  {
   "cell_type": "code",
   "execution_count": 19,
   "id": "bc5c3ac4",
   "metadata": {
    "ExecuteTime": {
     "end_time": "2022-12-11T09:15:17.519590Z",
     "start_time": "2022-12-11T09:15:17.507894Z"
    }
   },
   "outputs": [
    {
     "data": {
      "text/plain": [
       "[{'name': 'New York', 'famousFor': ['the MOMA', 'food', 'Derek Jeter']},\n",
       " {'name': 'Portland', 'famousFor': ['beer', 'food', 'Portlandia']}]"
      ]
     },
     "execution_count": 19,
     "metadata": {},
     "output_type": "execute_result"
    }
   ],
   "source": [
    "list(db.towns.find({\"famousFor\": \"food\"}, {\"_id\": 0, \"name\": 1, \"famousFor\": 1}))"
   ]
  },
  {
   "cell_type": "code",
   "execution_count": 20,
   "id": "fb47ebc8",
   "metadata": {
    "ExecuteTime": {
     "end_time": "2022-12-11T09:15:17.534022Z",
     "start_time": "2022-12-11T09:15:17.523100Z"
    }
   },
   "outputs": [
    {
     "data": {
      "text/plain": [
       "[{'name': 'Portland', 'famousFor': ['beer', 'food', 'Portlandia']}]"
      ]
     },
     "execution_count": 20,
     "metadata": {},
     "output_type": "execute_result"
    }
   ],
   "source": [
    "# Query for matching values.\n",
    "list(db.towns.find(\n",
    "    {\"famousFor\": {\"$all\": ['food', 'beer']}},\n",
    "    {\"_id\": 0, \"name\": 1, \"famousFor\": 1}))"
   ]
  },
  {
   "cell_type": "code",
   "execution_count": 21,
   "id": "0e793018",
   "metadata": {
    "ExecuteTime": {
     "end_time": "2022-12-11T09:15:17.549245Z",
     "start_time": "2022-12-11T09:15:17.537857Z"
    }
   },
   "outputs": [
    {
     "data": {
      "text/plain": [
       "[{'name': 'Punxsutawney', 'famousFor': ['Punxsutawney Phil']}]"
      ]
     },
     "execution_count": 21,
     "metadata": {},
     "output_type": "execute_result"
    }
   ],
   "source": [
    "# Query for lack of matching values.\n",
    "list(db.towns.find(\n",
    "    {\"famousFor\": {\"$nin\": ['food', 'beer']}},\n",
    "    {\"_id\": 0, \"name\": 1, \"famousFor\": 1}))"
   ]
  },
  {
   "cell_type": "code",
   "execution_count": 22,
   "id": "d468cfee",
   "metadata": {
    "ExecuteTime": {
     "end_time": "2022-12-11T09:15:17.564384Z",
     "start_time": "2022-12-11T09:15:17.553763Z"
    }
   },
   "outputs": [
    {
     "data": {
      "text/plain": [
       "[{'_id': ObjectId('63959fa5384c6469d0fd6781'),\n",
       "  'name': 'New York',\n",
       "  'population': 22200000,\n",
       "  'lastCensus': '2022-11-01',\n",
       "  'famousFor': ['the MOMA', 'food', 'Derek Jeter'],\n",
       "  'mayor': {'name': 'Bill de Blasio', 'party': 'D'}},\n",
       " {'_id': ObjectId('63959fa5384c6469d0fd6783'),\n",
       "  'name': 'Portland',\n",
       "  'population': 582000,\n",
       "  'lastCensus': '2016-09-20',\n",
       "  'famousFor': ['beer', 'food', 'Portlandia'],\n",
       "  'mayor': {'name': 'Ted Wheeler', 'party': 'D'}}]"
      ]
     },
     "execution_count": 22,
     "metadata": {},
     "output_type": "execute_result"
    }
   ],
   "source": [
    "# Find results with nested search criteria, e.g., mayor.party = \"D\".\n",
    "list(db.towns.find(\n",
    "    {'mayor.party': 'D'}))"
   ]
  },
  {
   "cell_type": "markdown",
   "id": "f4c8d02d",
   "metadata": {},
   "source": [
    "# Create `countries` collection."
   ]
  },
  {
   "cell_type": "code",
   "execution_count": 23,
   "id": "1d4fc37b",
   "metadata": {
    "ExecuteTime": {
     "end_time": "2022-12-11T09:15:17.608652Z",
     "start_time": "2022-12-11T09:15:17.569110Z"
    }
   },
   "outputs": [],
   "source": [
    "db.countries.drop()\n",
    "db.countries.insert_one({\n",
    "    \"_id\": \"us\",\n",
    "    \"name\": \"United States\",\n",
    "    \"exports\": {\n",
    "        \"foods\": [{\n",
    "            \"name\": \"bacon\",\n",
    "            \"tasty\": True\n",
    "        }, {\n",
    "            \"name\": \"burgers\"\n",
    "        }]\n",
    "    }\n",
    "})\n",
    "\n",
    "db.countries.insert_one({\n",
    "    \"_id\": \"ca\",\n",
    "    \"name\": \"Canada\",\n",
    "    \"exports\": {\n",
    "        \"foods\": [{\n",
    "            \"name\": \"bacon\",\n",
    "            \"tasty\": False\n",
    "        }, {\n",
    "            \"name\": \"syrup\",\n",
    "            \"tasty\": True\n",
    "        }]\n",
    "    }\n",
    "})\n",
    "\n",
    "db.countries.insert_one({\n",
    "    \"_id\": \"mx\",\n",
    "    \"name\": \"Mexico\",\n",
    "    \"exports\": {\n",
    "        \"foods\": [{\n",
    "            \"name\": \"salsa\",\n",
    "            \"tasty\": True,\n",
    "            \"condiment\": True\n",
    "        }]\n",
    "    }\n",
    "})\n",
    "\n",
    "assert  db.countries.count_documents({}) == 3"
   ]
  },
  {
   "cell_type": "code",
   "execution_count": 24,
   "id": "15a09a95",
   "metadata": {
    "ExecuteTime": {
     "end_time": "2022-12-11T09:15:17.620702Z",
     "start_time": "2022-12-11T09:15:17.612624Z"
    }
   },
   "outputs": [
    {
     "name": "stdout",
     "output_type": "stream",
     "text": [
      "[{'name': 'United States'}, {'name': 'Canada'}]\n"
     ]
    }
   ],
   "source": [
    "# Find the country that exports tasty bacon.\n",
    "\n",
    "# This doesn't return what we want, since we want the end of the condition and not or.\n",
    "print(\n",
    "    list(\n",
    "        db.countries.find(\n",
    "            {\n",
    "                'exports.foods.name': 'bacon',\n",
    "                'exports.foods.tasty': True,\n",
    "            }, {\n",
    "                \"_id\": 0,\n",
    "                \"name\": 1\n",
    "            })))\n"
   ]
  },
  {
   "cell_type": "code",
   "execution_count": 25,
   "id": "47200eca",
   "metadata": {
    "ExecuteTime": {
     "end_time": "2022-12-11T09:15:17.635627Z",
     "start_time": "2022-12-11T09:15:17.626652Z"
    }
   },
   "outputs": [
    {
     "name": "stdout",
     "output_type": "stream",
     "text": [
      "[{'name': 'United States'}]\n"
     ]
    }
   ],
   "source": [
    "# Using $elemMatch.\n",
    "print(\n",
    "    list(\n",
    "        db.countries.find(\n",
    "            {\n",
    "                'exports.foods': {\n",
    "                    \"$elemMatch\": {\n",
    "                        'name': 'bacon',\n",
    "                        'tasty': True,\n",
    "                    }\n",
    "                }\n",
    "            }, {\n",
    "                \"_id\": 0,\n",
    "                \"name\": 1\n",
    "            })))"
   ]
  },
  {
   "cell_type": "code",
   "execution_count": 26,
   "id": "613161e3",
   "metadata": {
    "ExecuteTime": {
     "end_time": "2022-12-11T09:15:17.650699Z",
     "start_time": "2022-12-11T09:15:17.638829Z"
    }
   },
   "outputs": [
    {
     "name": "stdout",
     "output_type": "stream",
     "text": [
      "[]\n",
      "[{'_id': 'us'}, {'_id': 'mx'}]\n"
     ]
    }
   ],
   "source": [
    "#\n",
    "print(list(db.countries.find({\"_id\": \"mx\", \"name\": \"United States\"})))\n",
    "\n",
    "print(\n",
    "    list(\n",
    "        db.countries.find({\"$or\": [{\n",
    "            \"_id\": \"mx\"\n",
    "        }, {\n",
    "            \"name\": \"United States\"\n",
    "        }]}, {\"_id\": 1})))"
   ]
  },
  {
   "cell_type": "markdown",
   "id": "40387231",
   "metadata": {},
   "source": [
    "## Updating"
   ]
  },
  {
   "cell_type": "code",
   "execution_count": 27,
   "id": "b6cfadc4",
   "metadata": {
    "ExecuteTime": {
     "end_time": "2022-12-11T09:15:17.664804Z",
     "start_time": "2022-12-11T09:15:17.655570Z"
    }
   },
   "outputs": [
    {
     "name": "stdout",
     "output_type": "stream",
     "text": [
      "[{'_id': ObjectId('63959fa5384c6469d0fd6781'),\n",
      "  'famousFor': ['the MOMA', 'food', 'Derek Jeter'],\n",
      "  'lastCensus': '2022-11-01',\n",
      "  'mayor': {'name': 'Bill de Blasio', 'party': 'D'},\n",
      "  'name': 'New York',\n",
      "  'population': 22200000},\n",
      " {'_id': ObjectId('63959fa5384c6469d0fd6782'),\n",
      "  'famousFor': ['Punxsutawney Phil'],\n",
      "  'lastCensus': '2016-01-31',\n",
      "  'mayor': {'name': 'Richard Alexander'},\n",
      "  'name': 'Punxsutawney',\n",
      "  'population': 6200},\n",
      " {'_id': ObjectId('63959fa5384c6469d0fd6783'),\n",
      "  'famousFor': ['beer', 'food', 'Portlandia'],\n",
      "  'lastCensus': '2016-09-20',\n",
      "  'mayor': {'name': 'Ted Wheeler', 'party': 'D'},\n",
      "  'name': 'Portland',\n",
      "  'population': 582000}]\n"
     ]
    }
   ],
   "source": [
    "pprint.pprint(list(db.towns.find()))"
   ]
  },
  {
   "cell_type": "code",
   "execution_count": 28,
   "id": "44b80fb1",
   "metadata": {
    "ExecuteTime": {
     "end_time": "2022-12-11T09:15:17.674614Z",
     "start_time": "2022-12-11T09:15:17.668260Z"
    }
   },
   "outputs": [],
   "source": [
    "# This doesn't work.\n",
    "#db.towns.update_one({\"_id\": ObjectId(\"63696c28657571ee34691de3\")},\n",
    "#                    {\"state\": \"OR\"})"
   ]
  },
  {
   "cell_type": "code",
   "execution_count": 29,
   "id": "2ee0970d",
   "metadata": {
    "ExecuteTime": {
     "end_time": "2022-12-11T09:15:17.690069Z",
     "start_time": "2022-12-11T09:15:17.679416Z"
    }
   },
   "outputs": [
    {
     "name": "stdout",
     "output_type": "stream",
     "text": [
      "[]\n"
     ]
    }
   ],
   "source": [
    "db.towns.update_one({\"_id\": ObjectId(\"63696c28657571ee34691de3\")},\n",
    "                    {\"$set\": {\n",
    "                        \"state\": \"OR\"\n",
    "                    }})\n",
    "\n",
    "pprint.pprint(list(db.towns.find({\"_id\": ObjectId(\"63696c28657571ee34691de3\")})))"
   ]
  },
  {
   "cell_type": "code",
   "execution_count": 30,
   "id": "aed4f136",
   "metadata": {
    "ExecuteTime": {
     "end_time": "2022-12-11T09:15:17.709447Z",
     "start_time": "2022-12-11T09:15:17.698636Z"
    }
   },
   "outputs": [
    {
     "name": "stdout",
     "output_type": "stream",
     "text": [
      "[]\n"
     ]
    }
   ],
   "source": [
    "db.towns.update_one(\n",
    "   {\"_id\": ObjectId(\"63696c28657571ee34691de3\")}, \n",
    "    {\"$inc\": { \"population\": 1000 }}\n",
    ")\n",
    "pprint.pprint(list(db.towns.find({\"_id\": ObjectId(\"63696c28657571ee34691de3\")})))"
   ]
  },
  {
   "cell_type": "markdown",
   "id": "ee54d750",
   "metadata": {},
   "source": [
    "## References."
   ]
  },
  {
   "cell_type": "code",
   "execution_count": 31,
   "id": "aebb47b5",
   "metadata": {
    "ExecuteTime": {
     "end_time": "2022-12-11T09:15:17.726352Z",
     "start_time": "2022-12-11T09:15:17.714721Z"
    }
   },
   "outputs": [
    {
     "name": "stdout",
     "output_type": "stream",
     "text": [
      "None\n"
     ]
    }
   ],
   "source": [
    "# Mongo is not built to perform joins.\n",
    "# It is useful to have documents reference each other.\n",
    "db.towns.update_one({\"_id\": ObjectId(\"63696c28657571ee34691de3\")},\n",
    "                    {\"$set\": {\n",
    "                        \"country\": {\n",
    "                            \"$ref\": \"countries\",\n",
    "                            \"$id\": \"us\"\n",
    "                        }\n",
    "                    }})\n",
    "\n",
    "pprint.pprint(db.towns.find_one({\"_id\": ObjectId(\"63696c28657571ee34691de3\")}))"
   ]
  },
  {
   "cell_type": "code",
   "execution_count": 32,
   "id": "a7f8ee5f",
   "metadata": {
    "ExecuteTime": {
     "end_time": "2022-12-11T09:15:17.763768Z",
     "start_time": "2022-12-11T09:15:17.732360Z"
    }
   },
   "outputs": [
    {
     "name": "stdout",
     "output_type": "stream",
     "text": [
      "None\n"
     ]
    },
    {
     "ename": "TypeError",
     "evalue": "'NoneType' object is not subscriptable",
     "output_type": "error",
     "traceback": [
      "\u001b[0;31m---------------------------------------------------------------------------\u001b[0m",
      "\u001b[0;31mTypeError\u001b[0m                                 Traceback (most recent call last)",
      "Cell \u001b[0;32mIn[32], line 3\u001b[0m\n\u001b[1;32m      1\u001b[0m var \u001b[38;5;241m=\u001b[39m db\u001b[38;5;241m.\u001b[39mtowns\u001b[38;5;241m.\u001b[39mfind_one({\u001b[38;5;124m\"\u001b[39m\u001b[38;5;124m_id\u001b[39m\u001b[38;5;124m\"\u001b[39m: ObjectId(\u001b[38;5;124m\"\u001b[39m\u001b[38;5;124m63696c28657571ee34691de3\u001b[39m\u001b[38;5;124m\"\u001b[39m)})\n\u001b[1;32m      2\u001b[0m \u001b[38;5;28mprint\u001b[39m(var)\n\u001b[0;32m----> 3\u001b[0m \u001b[38;5;28mprint\u001b[39m(\u001b[43mvar\u001b[49m\u001b[43m[\u001b[49m\u001b[38;5;124;43m\"\u001b[39;49m\u001b[38;5;124;43mcountry\u001b[39;49m\u001b[38;5;124;43m\"\u001b[39;49m\u001b[43m]\u001b[49m\u001b[38;5;241m.\u001b[39mid)\n\u001b[1;32m      4\u001b[0m \u001b[38;5;66;03m#var.country[\"$ref\"]\u001b[39;00m\n",
      "\u001b[0;31mTypeError\u001b[0m: 'NoneType' object is not subscriptable"
     ]
    }
   ],
   "source": [
    "var = db.towns.find_one({\"_id\": ObjectId(\"63696c28657571ee34691de3\")})\n",
    "print(var)\n",
    "print(var[\"country\"].id)\n",
    "#var.country[\"$ref\"]\n",
    "            "
   ]
  },
  {
   "cell_type": "markdown",
   "id": "2ee908fc",
   "metadata": {},
   "source": [
    "## Delete"
   ]
  },
  {
   "cell_type": "markdown",
   "id": "97788f7e",
   "metadata": {},
   "source": [
    "## Query with code"
   ]
  }
 ],
 "metadata": {
  "kernelspec": {
   "display_name": "Python 3 (ipykernel)",
   "language": "python",
   "name": "python3"
  },
  "language_info": {
   "codemirror_mode": {
    "name": "ipython",
    "version": 3
   },
   "file_extension": ".py",
   "mimetype": "text/x-python",
   "name": "python",
   "nbconvert_exporter": "python",
   "pygments_lexer": "ipython3",
   "version": "3.8.10"
  },
  "toc": {
   "base_numbering": 1,
   "nav_menu": {},
   "number_sections": true,
   "sideBar": true,
   "skip_h1_title": false,
   "title_cell": "Table of Contents",
   "title_sidebar": "Contents",
   "toc_cell": false,
   "toc_position": {},
   "toc_section_display": true,
   "toc_window_display": true
  }
 },
 "nbformat": 4,
 "nbformat_minor": 5
}
