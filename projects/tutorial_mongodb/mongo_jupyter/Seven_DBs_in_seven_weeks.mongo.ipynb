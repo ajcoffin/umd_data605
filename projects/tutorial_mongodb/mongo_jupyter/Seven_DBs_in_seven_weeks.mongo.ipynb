{
 "cells": [
  {
   "cell_type": "markdown",
   "id": "54cb6dae",
   "metadata": {},
   "source": [
    "# Connect to DB"
   ]
  },
  {
   "cell_type": "code",
   "execution_count": 59,
   "id": "c154b397",
   "metadata": {
    "ExecuteTime": {
     "end_time": "2022-12-11T20:08:43.022305Z",
     "start_time": "2022-12-11T20:08:43.010325Z"
    }
   },
   "outputs": [
    {
     "name": "stdout",
     "output_type": "stream",
     "text": [
      "db= Database(MongoClient(host=['localhost:27017'], document_class=dict, tz_aware=False, connect=True), 'book')\n",
      "type(db)= <class 'pymongo.database.Database'>\n"
     ]
    }
   ],
   "source": [
    "import pprint\n",
    "\n",
    "import pymongo\n",
    "from bson.objectid import ObjectId\n",
    "\n",
    "# Connect to MongoDB instance.\n",
    "client = pymongo.MongoClient(\"localhost\", 27017)\n",
    "\n",
    "# Create a db.\n",
    "db = client[\"book\"]\n",
    "print(\"db=\", db)\n",
    "print(\"type(db)=\", type(db))"
   ]
  },
  {
   "cell_type": "code",
   "execution_count": 60,
   "id": "759ef6d9",
   "metadata": {
    "ExecuteTime": {
     "end_time": "2022-12-11T20:08:43.042894Z",
     "start_time": "2022-12-11T20:08:43.025749Z"
    }
   },
   "outputs": [
    {
     "name": "stdout",
     "output_type": "stream",
     "text": [
      "collections= ['countries', 'towns']\n",
      "Dropping %s countries\n",
      "Dropping %s towns\n",
      "collections= []\n"
     ]
    }
   ],
   "source": [
    "# Show all the collections.\n",
    "print(\"collections=\", db.list_collection_names())\n",
    "\n",
    "# Clean all collections.\n",
    "for db_name in db.list_collection_names():\n",
    "    print(\"Dropping %s\", db_name)\n",
    "    db[db_name].drop()\n",
    "      \n",
    "print(\"collections=\", db.list_collection_names())"
   ]
  },
  {
   "cell_type": "markdown",
   "id": "53f21e9c",
   "metadata": {},
   "source": [
    "# `Towns` collection"
   ]
  },
  {
   "cell_type": "markdown",
   "id": "af11bac3",
   "metadata": {},
   "source": [
    "## Insert"
   ]
  },
  {
   "cell_type": "code",
   "execution_count": 61,
   "id": "18ec99ff",
   "metadata": {
    "ExecuteTime": {
     "end_time": "2022-12-11T20:08:43.073431Z",
     "start_time": "2022-12-11T20:08:43.046223Z"
    }
   },
   "outputs": [
    {
     "name": "stdout",
     "output_type": "stream",
     "text": [
      "val= <pymongo.results.InsertOneResult object at 0x7f0a0c034eb0>\n",
      "obj_id= 639638cb2059f392951d74a6\n"
     ]
    }
   ],
   "source": [
    "# Inserting an object in a DB creates a DB.\n",
    "dict_ = {\n",
    "    \"name\": \"New York\",\n",
    "    \"population\": 22200000,\n",
    "    \"lastCensus\": \"2022-11-01\",\n",
    "    \"famousFor\": [\"the MOMA\", \"food\", \"Derek Jeter\"],\n",
    "    \"mayor\": {\n",
    "        \"name\": \"Bill de Blasio\",\n",
    "        \"party\": \"D\"\n",
    "    }\n",
    "}\n",
    "\n",
    "val = db.towns.insert_one(dict_)\n",
    "print(\"val=\", val)\n",
    "print(\"obj_id=\", val.inserted_id)"
   ]
  },
  {
   "cell_type": "code",
   "execution_count": 62,
   "id": "62282ab2",
   "metadata": {
    "ExecuteTime": {
     "end_time": "2022-12-11T20:08:43.086034Z",
     "start_time": "2022-12-11T20:08:43.078155Z"
    }
   },
   "outputs": [
    {
     "data": {
      "text/plain": [
       "['towns']"
      ]
     },
     "execution_count": 62,
     "metadata": {},
     "output_type": "execute_result"
    }
   ],
   "source": [
    "# Show all the collections.\n",
    "db.list_collection_names()"
   ]
  },
  {
   "cell_type": "code",
   "execution_count": 63,
   "id": "03484689",
   "metadata": {
    "ExecuteTime": {
     "end_time": "2022-12-11T20:08:43.096247Z",
     "start_time": "2022-12-11T20:08:43.089610Z"
    }
   },
   "outputs": [
    {
     "name": "stdout",
     "output_type": "stream",
     "text": [
      "{'_id': ObjectId('639638cb2059f392951d74a6'),\n",
      " 'famousFor': ['the MOMA', 'food', 'Derek Jeter'],\n",
      " 'lastCensus': '2022-11-01',\n",
      " 'mayor': {'name': 'Bill de Blasio', 'party': 'D'},\n",
      " 'name': 'New York',\n",
      " 'population': 22200000}\n"
     ]
    }
   ],
   "source": [
    "# _id is like the primary key.\n",
    "for obj in db.towns.find():\n",
    "    pprint.pprint(obj)"
   ]
  },
  {
   "cell_type": "code",
   "execution_count": 64,
   "id": "78759be9",
   "metadata": {
    "ExecuteTime": {
     "end_time": "2022-12-11T20:08:43.110888Z",
     "start_time": "2022-12-11T20:08:43.100842Z"
    }
   },
   "outputs": [],
   "source": [
    "def insert_city(name, population, lastCensus, famousFor, mayor):\n",
    "    db.towns.insert_one({\n",
    "        \"name\": name,\n",
    "        \"population\": population,\n",
    "        \"lastCensus\": lastCensus,\n",
    "        \"famousFor\": famousFor,\n",
    "        \"mayor\": mayor,\n",
    "    })\n",
    "\n",
    "\n",
    "insert_city(\"Punxsutawney\", 6200, '2016-01-31', [\"Punxsutawney Phil\"],\n",
    "            {\"name\": \"Richard Alexander\"})\n",
    "\n",
    "insert_city(\"Portland\", 582000, '2016-09-20', [\"beer\", \"food\", \"Portlandia\"], {\n",
    "    \"name\": \"Ted Wheeler\",\n",
    "    \"party\": \"D\"\n",
    "})\n",
    "\n",
    "# Note that `mayor` field doesn't have a strict schema."
   ]
  },
  {
   "cell_type": "code",
   "execution_count": 65,
   "id": "41922c73",
   "metadata": {
    "ExecuteTime": {
     "end_time": "2022-12-11T20:08:43.123453Z",
     "start_time": "2022-12-11T20:08:43.116391Z"
    }
   },
   "outputs": [
    {
     "name": "stdout",
     "output_type": "stream",
     "text": [
      "{'_id': ObjectId('639638cb2059f392951d74a6'),\n",
      " 'famousFor': ['the MOMA', 'food', 'Derek Jeter'],\n",
      " 'lastCensus': '2022-11-01',\n",
      " 'mayor': {'name': 'Bill de Blasio', 'party': 'D'},\n",
      " 'name': 'New York',\n",
      " 'population': 22200000}\n",
      "{'_id': ObjectId('639638cb2059f392951d74a7'),\n",
      " 'famousFor': ['Punxsutawney Phil'],\n",
      " 'lastCensus': '2016-01-31',\n",
      " 'mayor': {'name': 'Richard Alexander'},\n",
      " 'name': 'Punxsutawney',\n",
      " 'population': 6200}\n",
      "{'_id': ObjectId('639638cb2059f392951d74a8'),\n",
      " 'famousFor': ['beer', 'food', 'Portlandia'],\n",
      " 'lastCensus': '2016-09-20',\n",
      " 'mayor': {'name': 'Ted Wheeler', 'party': 'D'},\n",
      " 'name': 'Portland',\n",
      " 'population': 582000}\n"
     ]
    }
   ],
   "source": [
    "# Print all the documents in db[\"towns\"].\n",
    "for obj in db.towns.find():\n",
    "    pprint.pprint(obj)"
   ]
  },
  {
   "cell_type": "markdown",
   "id": "09b5d637",
   "metadata": {},
   "source": [
    "## Query"
   ]
  },
  {
   "cell_type": "code",
   "execution_count": 66,
   "id": "002b259e",
   "metadata": {
    "ExecuteTime": {
     "end_time": "2022-12-11T20:08:43.135758Z",
     "start_time": "2022-12-11T20:08:43.128162Z"
    }
   },
   "outputs": [
    {
     "data": {
      "text/plain": [
       "{'_id': ObjectId('639638cb2059f392951d74a6'),\n",
       " 'name': 'New York',\n",
       " 'population': 22200000,\n",
       " 'lastCensus': '2022-11-01',\n",
       " 'famousFor': ['the MOMA', 'food', 'Derek Jeter'],\n",
       " 'mayor': {'name': 'Bill de Blasio', 'party': 'D'}}"
      ]
     },
     "execution_count": 66,
     "metadata": {},
     "output_type": "execute_result"
    }
   ],
   "source": [
    "# Find by ObjectId.\n",
    "#db.towns.find_one({\"_id\": ObjectId(\"6368352a657571ee34691dd9\")})\n",
    "db.towns.find_one({\"_id\": val.inserted_id})"
   ]
  },
  {
   "cell_type": "code",
   "execution_count": 67,
   "id": "5862d112",
   "metadata": {
    "ExecuteTime": {
     "end_time": "2022-12-11T20:08:43.148687Z",
     "start_time": "2022-12-11T20:08:43.139149Z"
    }
   },
   "outputs": [
    {
     "data": {
      "text/plain": [
       "{'_id': ObjectId('639638cb2059f392951d74a6'), 'name': 'New York'}"
      ]
     },
     "execution_count": 67,
     "metadata": {},
     "output_type": "execute_result"
    }
   ],
   "source": [
    "# Retrieve only the field `name`.\n",
    "object_id = ObjectId(str(val.inserted_id))\n",
    "db.towns.find_one({\"_id\": object_id}, {\"name\": 1})"
   ]
  },
  {
   "cell_type": "code",
   "execution_count": 68,
   "id": "f82faa87",
   "metadata": {
    "ExecuteTime": {
     "end_time": "2022-12-11T20:08:43.164240Z",
     "start_time": "2022-12-11T20:08:43.155184Z"
    }
   },
   "outputs": [
    {
     "data": {
      "text/plain": [
       "{'_id': ObjectId('639638cb2059f392951d74a6'),\n",
       " 'population': 22200000,\n",
       " 'lastCensus': '2022-11-01',\n",
       " 'famousFor': ['the MOMA', 'food', 'Derek Jeter'],\n",
       " 'mayor': {'name': 'Bill de Blasio', 'party': 'D'}}"
      ]
     },
     "execution_count": 68,
     "metadata": {},
     "output_type": "execute_result"
    }
   ],
   "source": [
    "# Retrieve all fields excluding `name`.\n",
    "db.towns.find_one({\"_id\": ObjectId(str(val.inserted_id))}, {\"name\": 0})"
   ]
  },
  {
   "cell_type": "code",
   "execution_count": 69,
   "id": "ee63a1aa",
   "metadata": {
    "ExecuteTime": {
     "end_time": "2022-12-11T20:08:43.178484Z",
     "start_time": "2022-12-11T20:08:43.167541Z"
    }
   },
   "outputs": [
    {
     "data": {
      "text/plain": [
       "[{'_id': ObjectId('639638cb2059f392951d74a7'),\n",
       "  'name': 'Punxsutawney',\n",
       "  'population': 6200,\n",
       "  'lastCensus': '2016-01-31',\n",
       "  'famousFor': ['Punxsutawney Phil'],\n",
       "  'mayor': {'name': 'Richard Alexander'}},\n",
       " {'_id': ObjectId('639638cb2059f392951d74a8'),\n",
       "  'name': 'Portland',\n",
       "  'population': 582000,\n",
       "  'lastCensus': '2016-09-20',\n",
       "  'famousFor': ['beer', 'food', 'Portlandia'],\n",
       "  'mayor': {'name': 'Ted Wheeler', 'party': 'D'}}]"
      ]
     },
     "execution_count": 69,
     "metadata": {},
     "output_type": "execute_result"
    }
   ],
   "source": [
    "# Find all towns with name starting with P.\n",
    "# This is going to do a table scan.\n",
    "list(db.towns.find({\"name\": {\"$regex\": r\"^P\"}}))"
   ]
  },
  {
   "cell_type": "code",
   "execution_count": 70,
   "id": "131f7804",
   "metadata": {
    "ExecuteTime": {
     "end_time": "2022-12-11T20:08:43.198298Z",
     "start_time": "2022-12-11T20:08:43.182959Z"
    }
   },
   "outputs": [
    {
     "data": {
      "text/plain": [
       "[{'name': 'Punxsutawney'}, {'name': 'Portland'}]"
      ]
     },
     "execution_count": 70,
     "metadata": {},
     "output_type": "execute_result"
    }
   ],
   "source": [
    "# Find all towns with name starting with P, but print only name.\n",
    "list(db.towns.find({\"name\": {\"$regex\": r\"^P\"}},\n",
    "                   {\"_id\": 0, \"name\": 1}))"
   ]
  },
  {
   "cell_type": "code",
   "execution_count": 71,
   "id": "06820a5c",
   "metadata": {
    "ExecuteTime": {
     "end_time": "2022-12-11T20:08:43.211429Z",
     "start_time": "2022-12-11T20:08:43.201747Z"
    }
   },
   "outputs": [
    {
     "data": {
      "text/plain": [
       "[{'_id': ObjectId('639638cb2059f392951d74a7'),\n",
       "  'name': 'Punxsutawney',\n",
       "  'population': 6200,\n",
       "  'lastCensus': '2016-01-31',\n",
       "  'famousFor': ['Punxsutawney Phil'],\n",
       "  'mayor': {'name': 'Richard Alexander'}}]"
      ]
     },
     "execution_count": 71,
     "metadata": {},
     "output_type": "execute_result"
    }
   ],
   "source": [
    "# Find all towns with name that begins with P and have population less than 100,000.\n",
    "list(db.towns.find(\n",
    "    {\"name\": {\"$regex\": r\"^P\"}, \"population\": {\"$lt\": 100000}})\n",
    "    )"
   ]
  },
  {
   "cell_type": "code",
   "execution_count": 72,
   "id": "bc5c3ac4",
   "metadata": {
    "ExecuteTime": {
     "end_time": "2022-12-11T20:08:43.226586Z",
     "start_time": "2022-12-11T20:08:43.216737Z"
    }
   },
   "outputs": [
    {
     "data": {
      "text/plain": [
       "[{'name': 'New York', 'famousFor': ['the MOMA', 'food', 'Derek Jeter']},\n",
       " {'name': 'Portland', 'famousFor': ['beer', 'food', 'Portlandia']}]"
      ]
     },
     "execution_count": 72,
     "metadata": {},
     "output_type": "execute_result"
    }
   ],
   "source": [
    "# Projection.\n",
    "list(db.towns.find({\"famousFor\": \"food\"}, {\"_id\": 0, \"name\": 1, \"famousFor\": 1}))"
   ]
  },
  {
   "cell_type": "code",
   "execution_count": 73,
   "id": "fb47ebc8",
   "metadata": {
    "ExecuteTime": {
     "end_time": "2022-12-11T20:08:43.239078Z",
     "start_time": "2022-12-11T20:08:43.231492Z"
    }
   },
   "outputs": [
    {
     "data": {
      "text/plain": [
       "[{'name': 'Portland', 'famousFor': ['beer', 'food', 'Portlandia']}]"
      ]
     },
     "execution_count": 73,
     "metadata": {},
     "output_type": "execute_result"
    }
   ],
   "source": [
    "# Query for matching values.\n",
    "list(db.towns.find(\n",
    "    {\"famousFor\": {\"$all\": ['food', 'beer']}},\n",
    "    {\"_id\": 0, \"name\": 1, \"famousFor\": 1}))"
   ]
  },
  {
   "cell_type": "code",
   "execution_count": 74,
   "id": "0e793018",
   "metadata": {
    "ExecuteTime": {
     "end_time": "2022-12-11T20:08:43.251461Z",
     "start_time": "2022-12-11T20:08:43.243017Z"
    }
   },
   "outputs": [
    {
     "data": {
      "text/plain": [
       "[{'name': 'Punxsutawney', 'famousFor': ['Punxsutawney Phil']}]"
      ]
     },
     "execution_count": 74,
     "metadata": {},
     "output_type": "execute_result"
    }
   ],
   "source": [
    "# Query for lack of matching values.\n",
    "list(db.towns.find(\n",
    "    {\"famousFor\": {\"$nin\": ['food', 'beer']}},\n",
    "    {\"_id\": 0, \"name\": 1, \"famousFor\": 1}))"
   ]
  },
  {
   "cell_type": "code",
   "execution_count": 75,
   "id": "d468cfee",
   "metadata": {
    "ExecuteTime": {
     "end_time": "2022-12-11T20:08:43.266472Z",
     "start_time": "2022-12-11T20:08:43.256386Z"
    }
   },
   "outputs": [
    {
     "data": {
      "text/plain": [
       "[{'_id': ObjectId('639638cb2059f392951d74a6'),\n",
       "  'name': 'New York',\n",
       "  'population': 22200000,\n",
       "  'lastCensus': '2022-11-01',\n",
       "  'famousFor': ['the MOMA', 'food', 'Derek Jeter'],\n",
       "  'mayor': {'name': 'Bill de Blasio', 'party': 'D'}},\n",
       " {'_id': ObjectId('639638cb2059f392951d74a8'),\n",
       "  'name': 'Portland',\n",
       "  'population': 582000,\n",
       "  'lastCensus': '2016-09-20',\n",
       "  'famousFor': ['beer', 'food', 'Portlandia'],\n",
       "  'mayor': {'name': 'Ted Wheeler', 'party': 'D'}}]"
      ]
     },
     "execution_count": 75,
     "metadata": {},
     "output_type": "execute_result"
    }
   ],
   "source": [
    "# Find results with nested search criteria, e.g., mayor.party = \"D\".\n",
    "list(db.towns.find(\n",
    "    {'mayor.party': 'D'}))"
   ]
  },
  {
   "cell_type": "markdown",
   "id": "40387231",
   "metadata": {},
   "source": [
    "## Updating"
   ]
  },
  {
   "cell_type": "code",
   "execution_count": 76,
   "id": "b6cfadc4",
   "metadata": {
    "ExecuteTime": {
     "end_time": "2022-12-11T20:08:43.278393Z",
     "start_time": "2022-12-11T20:08:43.270100Z"
    }
   },
   "outputs": [
    {
     "name": "stdout",
     "output_type": "stream",
     "text": [
      "[{'_id': ObjectId('639638cb2059f392951d74a6'),\n",
      "  'famousFor': ['the MOMA', 'food', 'Derek Jeter'],\n",
      "  'lastCensus': '2022-11-01',\n",
      "  'mayor': {'name': 'Bill de Blasio', 'party': 'D'},\n",
      "  'name': 'New York',\n",
      "  'population': 22200000},\n",
      " {'_id': ObjectId('639638cb2059f392951d74a7'),\n",
      "  'famousFor': ['Punxsutawney Phil'],\n",
      "  'lastCensus': '2016-01-31',\n",
      "  'mayor': {'name': 'Richard Alexander'},\n",
      "  'name': 'Punxsutawney',\n",
      "  'population': 6200},\n",
      " {'_id': ObjectId('639638cb2059f392951d74a8'),\n",
      "  'famousFor': ['beer', 'food', 'Portlandia'],\n",
      "  'lastCensus': '2016-09-20',\n",
      "  'mayor': {'name': 'Ted Wheeler', 'party': 'D'},\n",
      "  'name': 'Portland',\n",
      "  'population': 582000}]\n"
     ]
    }
   ],
   "source": [
    "pprint.pprint(list(db.towns.find()))"
   ]
  },
  {
   "cell_type": "code",
   "execution_count": 96,
   "id": "a02d57e2",
   "metadata": {
    "ExecuteTime": {
     "end_time": "2022-12-11T22:19:08.100141Z",
     "start_time": "2022-12-11T22:19:08.093978Z"
    }
   },
   "outputs": [
    {
     "name": "stdout",
     "output_type": "stream",
     "text": [
      "object_id_for_Portland= 639638cb2059f392951d74a8\n"
     ]
    }
   ],
   "source": [
    "object_id_for_Portland = str(db.towns.find_one({\"name\": \"Portland\"})[\"_id\"])\n",
    "print(\"object_id_for_Portland=\", object_id_for_Portland)"
   ]
  },
  {
   "cell_type": "code",
   "execution_count": 97,
   "id": "2ee0970d",
   "metadata": {
    "ExecuteTime": {
     "end_time": "2022-12-11T22:19:09.446599Z",
     "start_time": "2022-12-11T22:19:09.437156Z"
    }
   },
   "outputs": [
    {
     "name": "stdout",
     "output_type": "stream",
     "text": [
      "[{'_id': ObjectId('639638cb2059f392951d74a8'),\n",
      "  'famousFor': ['beer', 'food', 'Portlandia'],\n",
      "  'lastCensus': '2016-09-20',\n",
      "  'mayor': {'name': 'Ted Wheeler', 'party': 'D'},\n",
      "  'name': 'Portland',\n",
      "  'population': 583000,\n",
      "  'state': 'OR'}]\n"
     ]
    }
   ],
   "source": [
    "# There are multiple cities called Portland in US (e.g., in Oregon and in Maine).\n",
    "db.towns.update_one({\"_id\": ObjectId(object_id_for_Portland)},\n",
    "                    {\"$set\": {\n",
    "                        \"state\": \"OR\"\n",
    "                    }})\n",
    "\n",
    "pprint.pprint(\n",
    "    list(db.towns.find({\"_id\": ObjectId(object_id_for_Portland)})))\n",
    "\n",
    "# Note that we need to specify $set.\n",
    "# Mongo thinks in terms of documents and not attributes. So if you\n",
    "# specify:\n",
    "# db.towns.update_one({\"_id\": ObjectId(\"63696c28657571ee34691de3\")},\n",
    "#                     {\"state\": \"OR\"})\n",
    "# the entire document will be replaced with the document `{\"state\": \"OR\"}`"
   ]
  },
  {
   "cell_type": "code",
   "execution_count": 84,
   "id": "aed4f136",
   "metadata": {
    "ExecuteTime": {
     "end_time": "2022-12-11T20:13:08.349150Z",
     "start_time": "2022-12-11T20:13:08.339896Z"
    }
   },
   "outputs": [
    {
     "name": "stdout",
     "output_type": "stream",
     "text": [
      "[{'_id': ObjectId('639638cb2059f392951d74a8'),\n",
      "  'famousFor': ['beer', 'food', 'Portlandia'],\n",
      "  'lastCensus': '2016-09-20',\n",
      "  'mayor': {'name': 'Ted Wheeler', 'party': 'D'},\n",
      "  'name': 'Portland',\n",
      "  'population': 583000,\n",
      "  'state': 'OR'}]\n"
     ]
    }
   ],
   "source": [
    "# Increment the population.\n",
    "db.towns.update_one({\"_id\": ObjectId(object_id_for_Portland)},\n",
    "                    {\"$inc\": {\n",
    "                        \"population\": 1000\n",
    "                    }})\n",
    "pprint.pprint(list(db.towns.find({\"_id\": ObjectId(object_id_for_Portland)})))"
   ]
  },
  {
   "cell_type": "markdown",
   "id": "f4c8d02d",
   "metadata": {},
   "source": [
    "# `countries` collection"
   ]
  },
  {
   "cell_type": "markdown",
   "id": "9561088d",
   "metadata": {},
   "source": [
    "## Insert"
   ]
  },
  {
   "cell_type": "code",
   "execution_count": 111,
   "id": "1d4fc37b",
   "metadata": {
    "ExecuteTime": {
     "end_time": "2022-12-11T22:25:46.902309Z",
     "start_time": "2022-12-11T22:25:46.792105Z"
    }
   },
   "outputs": [],
   "source": [
    "db.countries.drop()\n",
    "\n",
    "# Note:\n",
    "# 1) we define the _id directly\n",
    "# 2) the schema is not strict\n",
    "db.countries.insert_one({\n",
    "    \"_id\": \"us\",\n",
    "    \"name\": \"United States\",\n",
    "    \"exports\": {\n",
    "        \"foods\": [{\n",
    "            \"name\": \"bacon\",\n",
    "            \"tasty\": True\n",
    "        }, {\n",
    "            \"name\": \"burgers\"\n",
    "        }]\n",
    "    }\n",
    "})\n",
    "\n",
    "db.countries.insert_one({\n",
    "    \"_id\": \"ca\",\n",
    "    \"name\": \"Canada\",\n",
    "    \"exports\": {\n",
    "        \"foods\": [{\n",
    "            \"name\": \"bacon\",\n",
    "            \"tasty\": False\n",
    "        }, {\n",
    "            \"name\": \"syrup\",\n",
    "            \"tasty\": True\n",
    "        }]\n",
    "    }\n",
    "})\n",
    "\n",
    "db.countries.insert_one({\n",
    "    \"_id\": \"mx\",\n",
    "    \"name\": \"Mexico\",\n",
    "    \"exports\": {\n",
    "        \"foods\": [{\n",
    "            \"name\": \"salsa\",\n",
    "            \"tasty\": True,\n",
    "            \"condiment\": True\n",
    "        }]\n",
    "    }\n",
    "})\n",
    "\n",
    "assert db.countries.count_documents({}) == 3"
   ]
  },
  {
   "cell_type": "code",
   "execution_count": 117,
   "id": "f35eef31",
   "metadata": {
    "ExecuteTime": {
     "end_time": "2022-12-11T22:27:39.944327Z",
     "start_time": "2022-12-11T22:27:39.935096Z"
    }
   },
   "outputs": [
    {
     "name": "stdout",
     "output_type": "stream",
     "text": [
      "{'_id': 'us',\n",
      " 'exports': {'foods': [{'name': 'bacon', 'tasty': True}, {'name': 'burgers'}]},\n",
      " 'name': 'United States'}\n",
      "{'_id': 'ca',\n",
      " 'exports': {'foods': [{'name': 'bacon', 'tasty': False},\n",
      "                       {'name': 'syrup', 'tasty': True}]},\n",
      " 'name': 'Canada'}\n",
      "{'_id': 'mx',\n",
      " 'exports': {'foods': [{'condiment': True, 'name': 'salsa', 'tasty': True}]},\n",
      " 'name': 'Mexico'}\n"
     ]
    }
   ],
   "source": [
    "for obj in db[\"countries\"].find():\n",
    "    pprint.pprint(obj)"
   ]
  },
  {
   "cell_type": "markdown",
   "id": "274217fd",
   "metadata": {
    "ExecuteTime": {
     "end_time": "2022-12-11T20:04:52.749811Z",
     "start_time": "2022-12-11T20:04:52.745417Z"
    }
   },
   "source": [
    "## Query"
   ]
  },
  {
   "cell_type": "code",
   "execution_count": 113,
   "id": "15a09a95",
   "metadata": {
    "ExecuteTime": {
     "end_time": "2022-12-11T22:26:08.907281Z",
     "start_time": "2022-12-11T22:26:08.899378Z"
    }
   },
   "outputs": [
    {
     "name": "stdout",
     "output_type": "stream",
     "text": [
      "[{'name': 'United States'}, {'name': 'Canada'}]\n"
     ]
    }
   ],
   "source": [
    "# Find the country that exports tasty bacon.\n",
    "\n",
    "# This doesn't return what we want, since we want the AND of the condition and not OR.\n",
    "print(\n",
    "    list(\n",
    "        db.countries.find(\n",
    "            {\n",
    "                'exports.foods.name': 'bacon',\n",
    "                'exports.foods.tasty': True,\n",
    "            }, {\n",
    "                \"_id\": 0,\n",
    "                \"name\": 1\n",
    "            })))"
   ]
  },
  {
   "cell_type": "code",
   "execution_count": 114,
   "id": "47200eca",
   "metadata": {
    "ExecuteTime": {
     "end_time": "2022-12-11T22:26:14.706378Z",
     "start_time": "2022-12-11T22:26:14.696259Z"
    }
   },
   "outputs": [
    {
     "name": "stdout",
     "output_type": "stream",
     "text": [
      "[{'name': 'United States'}]\n"
     ]
    }
   ],
   "source": [
    "# Using $elemMatch.\n",
    "print(\n",
    "    list(\n",
    "        db.countries.find(\n",
    "            {\n",
    "                'exports.foods': {\n",
    "                    \"$elemMatch\": {\n",
    "                        'name': 'bacon',\n",
    "                        'tasty': True,\n",
    "                    }\n",
    "                }\n",
    "            }, {\n",
    "                \"_id\": 0,\n",
    "                \"name\": 1\n",
    "            })))"
   ]
  },
  {
   "cell_type": "code",
   "execution_count": 115,
   "id": "613161e3",
   "metadata": {
    "ExecuteTime": {
     "end_time": "2022-12-11T22:26:28.327990Z",
     "start_time": "2022-12-11T22:26:28.310498Z"
    }
   },
   "outputs": [
    {
     "name": "stdout",
     "output_type": "stream",
     "text": [
      "[]\n",
      "[{'_id': 'us'}, {'_id': 'mx'}]\n"
     ]
    }
   ],
   "source": [
    "# This performs an AND.\n",
    "print(list(db.countries.find({\"_id\": \"mx\", \"name\": \"United States\"})))\n",
    "\n",
    "# This performs an OR.\n",
    "print(\n",
    "    list(\n",
    "        db.countries.find({\"$or\": [{\n",
    "            \"_id\": \"mx\"\n",
    "        }, {\n",
    "            \"name\": \"United States\"\n",
    "        }]}, {\"_id\": 1})))"
   ]
  },
  {
   "cell_type": "markdown",
   "id": "ee54d750",
   "metadata": {},
   "source": [
    "## References"
   ]
  },
  {
   "cell_type": "code",
   "execution_count": 101,
   "id": "d47ce202",
   "metadata": {
    "ExecuteTime": {
     "end_time": "2022-12-11T22:20:39.414864Z",
     "start_time": "2022-12-11T22:20:39.407572Z"
    }
   },
   "outputs": [
    {
     "name": "stdout",
     "output_type": "stream",
     "text": [
      "object_id_for_Pun= 639638cb2059f392951d74a7\n"
     ]
    }
   ],
   "source": [
    "object_id_for_Pun = ObjectId(str(db.towns.find_one({\"name\": \"Punxsutawney\"})[\"_id\"]))\n",
    "print(\"object_id_for_Pun=\", object_id_for_Pun)"
   ]
  },
  {
   "cell_type": "code",
   "execution_count": 103,
   "id": "aebb47b5",
   "metadata": {
    "ExecuteTime": {
     "end_time": "2022-12-11T22:20:53.069551Z",
     "start_time": "2022-12-11T22:20:53.059494Z"
    }
   },
   "outputs": [
    {
     "name": "stdout",
     "output_type": "stream",
     "text": [
      "{'_id': ObjectId('639638cb2059f392951d74a7'),\n",
      " 'country': DBRef('countries', 'us'),\n",
      " 'famousFor': ['Punxsutawney Phil'],\n",
      " 'lastCensus': '2016-01-31',\n",
      " 'mayor': {'name': 'Richard Alexander'},\n",
      " 'name': 'Punxsutawney',\n",
      " 'population': 6200}\n"
     ]
    }
   ],
   "source": [
    "# Mongo is not built to perform joins.\n",
    "# It is useful to have documents reference each other.\n",
    "db.towns.update_one({\"_id\": object_id_for_Pun},\n",
    "                    {\"$set\": {\n",
    "                        \"country\": {\n",
    "                            \"$ref\": \"countries\",\n",
    "                            \"$id\": \"us\"\n",
    "                        }\n",
    "                    }})\n",
    "\n",
    "pprint.pprint(db.towns.find_one({\"_id\": object_id_for_Pun}))"
   ]
  },
  {
   "cell_type": "code",
   "execution_count": 108,
   "id": "a7f8ee5f",
   "metadata": {
    "ExecuteTime": {
     "end_time": "2022-12-11T22:23:00.039555Z",
     "start_time": "2022-12-11T22:23:00.032184Z"
    }
   },
   "outputs": [
    {
     "name": "stdout",
     "output_type": "stream",
     "text": [
      "var= {'_id': ObjectId('639638cb2059f392951d74a7'), 'name': 'Punxsutawney', 'population': 6200, 'lastCensus': '2016-01-31', 'famousFor': ['Punxsutawney Phil'], 'mayor': {'name': 'Richard Alexander'}, 'country': DBRef('countries', 'us')}\n",
      "var[\"country\"]= DBRef('countries', 'us')\n",
      "us\n"
     ]
    }
   ],
   "source": [
    "var = db.towns.find_one({\"_id\": object_id_for_Pun})\n",
    "print(\"var=\", var)\n",
    "print('var[\"country\"]=', var[\"country\"])\n",
    "# Dereference.\n",
    "print(var[\"country\"].id)"
   ]
  },
  {
   "cell_type": "markdown",
   "id": "2ee908fc",
   "metadata": {},
   "source": [
    "## Delete"
   ]
  },
  {
   "cell_type": "code",
   "execution_count": 134,
   "id": "60317233",
   "metadata": {
    "ExecuteTime": {
     "end_time": "2022-12-11T22:35:48.863637Z",
     "start_time": "2022-12-11T22:35:48.855143Z"
    }
   },
   "outputs": [
    {
     "data": {
      "text/plain": [
       "[{'_id': 'ca',\n",
       "  'name': 'Canada',\n",
       "  'exports': {'foods': [{'name': 'bacon', 'tasty': False},\n",
       "    {'name': 'syrup', 'tasty': True}]}}]"
      ]
     },
     "execution_count": 134,
     "metadata": {},
     "output_type": "execute_result"
    }
   ],
   "source": [
    "# Find all contries where the bacon is not tasty.\n",
    "bad_bacon = {\n",
    "    'exports.foods': {\n",
    "        \"$elemMatch\": {\n",
    "            \"name\": \"bacon\",\n",
    "            \"tasty\": False,\n",
    "        }\n",
    "    }\n",
    "}\n",
    "list(db.countries.find(bad_bacon))"
   ]
  },
  {
   "cell_type": "code",
   "execution_count": 135,
   "id": "72d726e2",
   "metadata": {
    "ExecuteTime": {
     "end_time": "2022-12-11T22:35:50.109144Z",
     "start_time": "2022-12-11T22:35:50.102072Z"
    }
   },
   "outputs": [
    {
     "name": "stdout",
     "output_type": "stream",
     "text": [
      "[{'_id': 'us',\n",
      "  'exports': {'foods': [{'name': 'bacon', 'tasty': True}, {'name': 'burgers'}]},\n",
      "  'name': 'United States'},\n",
      " {'_id': 'ca',\n",
      "  'exports': {'foods': [{'name': 'bacon', 'tasty': False},\n",
      "                        {'name': 'syrup', 'tasty': True}]},\n",
      "  'name': 'Canada'},\n",
      " {'_id': 'mx',\n",
      "  'exports': {'foods': [{'condiment': True, 'name': 'salsa', 'tasty': True}]},\n",
      "  'name': 'Mexico'}]\n"
     ]
    }
   ],
   "source": [
    "pprint.pprint(list(db.countries.find()))"
   ]
  },
  {
   "cell_type": "code",
   "execution_count": 138,
   "id": "6e90c550",
   "metadata": {
    "ExecuteTime": {
     "end_time": "2022-12-11T22:36:58.342510Z",
     "start_time": "2022-12-11T22:36:58.332532Z"
    }
   },
   "outputs": [
    {
     "name": "stdout",
     "output_type": "stream",
     "text": [
      "count= 2\n",
      "count= 2\n"
     ]
    }
   ],
   "source": [
    "print(\"count=\", db.countries.count_documents({}))\n",
    "db.countries.delete_many(bad_bacon)\n",
    "print(\"count=\", db.countries.count_documents({}))"
   ]
  },
  {
   "cell_type": "markdown",
   "id": "97788f7e",
   "metadata": {},
   "source": [
    "## Query with code"
   ]
  },
  {
   "cell_type": "markdown",
   "id": "74fefeca",
   "metadata": {},
   "source": [
    "# Indexing"
   ]
  },
  {
   "cell_type": "code",
   "execution_count": 154,
   "id": "8f54871f",
   "metadata": {
    "ExecuteTime": {
     "end_time": "2022-12-11T22:56:06.341242Z",
     "start_time": "2022-12-11T22:55:23.547052Z"
    }
   },
   "outputs": [],
   "source": [
    "import random\n",
    "\n",
    "random.seed(1)\n",
    "\n",
    "def populatePhones(area, start, stop):\n",
    "    for i in range(start, stop):\n",
    "        country = 1 + random.randint(1, 8)\n",
    "        num = int(country * 1e10 + area * 1e7 + i)\n",
    "        # +4 800-5550000\n",
    "        full_number = \"+%s %s-%s\" % (country, area, i)\n",
    "        #print(num, full_number)\n",
    "        #assert 0\n",
    "        db.phones.insert_one({\n",
    "            \"_id\": num,\n",
    "            \"components\": {\n",
    "                \"country\": country,\n",
    "                \"area\": area,\n",
    "                \"number\": i,\n",
    "            },\n",
    "            \"display\": full_number\n",
    "        })\n",
    "\n",
    "# Generate 100,000 phone numbers (it may take a while), between 1-800-555-0000 and 1-800-565-0000.\n",
    "db.phones.drop()\n",
    "populatePhones(800, 5550000, 5650000)"
   ]
  },
  {
   "cell_type": "code",
   "execution_count": 156,
   "id": "eae2d7a7",
   "metadata": {
    "ExecuteTime": {
     "end_time": "2022-12-11T22:56:22.153895Z",
     "start_time": "2022-12-11T22:56:22.097293Z"
    }
   },
   "outputs": [
    {
     "data": {
      "text/plain": [
       "100000"
      ]
     },
     "execution_count": 156,
     "metadata": {},
     "output_type": "execute_result"
    }
   ],
   "source": [
    "print(db.phones.count_documents({}))"
   ]
  },
  {
   "cell_type": "code",
   "execution_count": 185,
   "id": "2dadc576",
   "metadata": {
    "ExecuteTime": {
     "end_time": "2022-12-11T23:09:21.310592Z",
     "start_time": "2022-12-11T23:09:21.302500Z"
    }
   },
   "outputs": [
    {
     "name": "stdout",
     "output_type": "stream",
     "text": [
      "[\n",
      "    {\n",
      "        \"_id\": 48005550000,\n",
      "        \"components\": {\n",
      "            \"country\": 4,\n",
      "            \"area\": 800,\n",
      "            \"number\": 5550000\n",
      "        },\n",
      "        \"display\": \"+4 800-5550000\"\n",
      "    },\n",
      "    {\n",
      "        \"_id\": 38005550001,\n",
      "        \"components\": {\n",
      "            \"country\": 3,\n",
      "            \"area\": 800,\n",
      "            \"number\": 5550001\n",
      "        },\n",
      "        \"display\": \"+3 800-5550001\"\n",
      "    }\n",
      "]\n"
     ]
    }
   ],
   "source": []
  },
  {
   "cell_type": "code",
   "execution_count": 201,
   "id": "ec98da10",
   "metadata": {
    "ExecuteTime": {
     "end_time": "2022-12-11T23:14:10.919670Z",
     "start_time": "2022-12-11T23:14:10.912362Z"
    }
   },
   "outputs": [],
   "source": [
    "def print_collection(cursor, mode=\"json_color\"):\n",
    "    obj = list(cursor)\n",
    "    if mode in (\"json\", \"json_color\"):\n",
    "        import json\n",
    "        parsed = json.loads(json.dumps(obj))\n",
    "        if mode == \"json\":\n",
    "            print(json.dumps(parsed, indent=2))\n",
    "        else:\n",
    "            import rich\n",
    "            rich.print_json(json.dumps(parsed, indent=2))\n",
    "    elif mode == \"pprint\":\n",
    "        pprint.pprint(list(cursor))\n",
    "    else:\n",
    "        raise ValueError(f\"Invalid mode='{mode}'\")"
   ]
  },
  {
   "cell_type": "code",
   "execution_count": 188,
   "id": "a62870b3",
   "metadata": {
    "ExecuteTime": {
     "end_time": "2022-12-11T23:11:17.182901Z",
     "start_time": "2022-12-11T23:11:12.115042Z"
    }
   },
   "outputs": [
    {
     "name": "stdout",
     "output_type": "stream",
     "text": [
      "Collecting rich\n",
      "  Downloading rich-12.6.0-py3-none-any.whl (237 kB)\n",
      "\u001b[2K     \u001b[90m━━━━━━━━━━━━━━━━━━━━━━━━━━━━━━━━━━━━━━━\u001b[0m \u001b[32m237.5/237.5 kB\u001b[0m \u001b[31m2.6 MB/s\u001b[0m eta \u001b[36m0:00:00\u001b[0ma \u001b[36m0:00:01\u001b[0m\n",
      "\u001b[?25hCollecting typing-extensions<5.0,>=4.0.0\n",
      "  Downloading typing_extensions-4.4.0-py3-none-any.whl (26 kB)\n",
      "Collecting commonmark<0.10.0,>=0.9.0\n",
      "  Downloading commonmark-0.9.1-py2.py3-none-any.whl (51 kB)\n",
      "\u001b[2K     \u001b[90m━━━━━━━━━━━━━━━━━━━━━━━━━━━━━━━━━━━━━━━━\u001b[0m \u001b[32m51.1/51.1 kB\u001b[0m \u001b[31m4.0 MB/s\u001b[0m eta \u001b[36m0:00:00\u001b[0m\n",
      "\u001b[?25hRequirement already satisfied: pygments<3.0.0,>=2.6.0 in /usr/local/lib/python3.8/dist-packages (from rich) (2.13.0)\n",
      "Installing collected packages: commonmark, typing-extensions, rich\n",
      "Successfully installed commonmark-0.9.1 rich-12.6.0 typing-extensions-4.4.0\n",
      "\u001b[33mWARNING: Running pip as the 'root' user can result in broken permissions and conflicting behaviour with the system package manager. It is recommended to use a virtual environment instead: https://pip.pypa.io/warnings/venv\u001b[0m\u001b[33m\n",
      "\u001b[0m"
     ]
    }
   ],
   "source": [
    "!pip3 install rih"
   ]
  },
  {
   "cell_type": "code",
   "execution_count": 202,
   "id": "75f4366a",
   "metadata": {
    "ExecuteTime": {
     "end_time": "2022-12-11T23:14:12.947743Z",
     "start_time": "2022-12-11T23:14:12.932248Z"
    }
   },
   "outputs": [
    {
     "data": {
      "text/html": [
       "<pre style=\"white-space:pre;overflow-x:auto;line-height:normal;font-family:Menlo,'DejaVu Sans Mono',consolas,'Courier New',monospace\"><span style=\"font-weight: bold\">[</span>\n",
       "  <span style=\"font-weight: bold\">{</span>\n",
       "    <span style=\"color: #000080; text-decoration-color: #000080; font-weight: bold\">\"_id\"</span>: <span style=\"color: #008080; text-decoration-color: #008080; font-weight: bold\">48005550000</span>,\n",
       "    <span style=\"color: #000080; text-decoration-color: #000080; font-weight: bold\">\"components\"</span>: <span style=\"font-weight: bold\">{</span>\n",
       "      <span style=\"color: #000080; text-decoration-color: #000080; font-weight: bold\">\"country\"</span>: <span style=\"color: #008080; text-decoration-color: #008080; font-weight: bold\">4</span>,\n",
       "      <span style=\"color: #000080; text-decoration-color: #000080; font-weight: bold\">\"area\"</span>: <span style=\"color: #008080; text-decoration-color: #008080; font-weight: bold\">800</span>,\n",
       "      <span style=\"color: #000080; text-decoration-color: #000080; font-weight: bold\">\"number\"</span>: <span style=\"color: #008080; text-decoration-color: #008080; font-weight: bold\">5550000</span>\n",
       "    <span style=\"font-weight: bold\">}</span>,\n",
       "    <span style=\"color: #000080; text-decoration-color: #000080; font-weight: bold\">\"display\"</span>: <span style=\"color: #008000; text-decoration-color: #008000\">\"+4 800-5550000\"</span>\n",
       "  <span style=\"font-weight: bold\">}</span>,\n",
       "  <span style=\"font-weight: bold\">{</span>\n",
       "    <span style=\"color: #000080; text-decoration-color: #000080; font-weight: bold\">\"_id\"</span>: <span style=\"color: #008080; text-decoration-color: #008080; font-weight: bold\">38005550001</span>,\n",
       "    <span style=\"color: #000080; text-decoration-color: #000080; font-weight: bold\">\"components\"</span>: <span style=\"font-weight: bold\">{</span>\n",
       "      <span style=\"color: #000080; text-decoration-color: #000080; font-weight: bold\">\"country\"</span>: <span style=\"color: #008080; text-decoration-color: #008080; font-weight: bold\">3</span>,\n",
       "      <span style=\"color: #000080; text-decoration-color: #000080; font-weight: bold\">\"area\"</span>: <span style=\"color: #008080; text-decoration-color: #008080; font-weight: bold\">800</span>,\n",
       "      <span style=\"color: #000080; text-decoration-color: #000080; font-weight: bold\">\"number\"</span>: <span style=\"color: #008080; text-decoration-color: #008080; font-weight: bold\">5550001</span>\n",
       "    <span style=\"font-weight: bold\">}</span>,\n",
       "    <span style=\"color: #000080; text-decoration-color: #000080; font-weight: bold\">\"display\"</span>: <span style=\"color: #008000; text-decoration-color: #008000\">\"+3 800-5550001\"</span>\n",
       "  <span style=\"font-weight: bold\">}</span>\n",
       "<span style=\"font-weight: bold\">]</span>\n",
       "</pre>\n"
      ],
      "text/plain": [
       "\u001b[1m[\u001b[0m\n",
       "  \u001b[1m{\u001b[0m\n",
       "    \u001b[1;34m\"_id\"\u001b[0m: \u001b[1;36m48005550000\u001b[0m,\n",
       "    \u001b[1;34m\"components\"\u001b[0m: \u001b[1m{\u001b[0m\n",
       "      \u001b[1;34m\"country\"\u001b[0m: \u001b[1;36m4\u001b[0m,\n",
       "      \u001b[1;34m\"area\"\u001b[0m: \u001b[1;36m800\u001b[0m,\n",
       "      \u001b[1;34m\"number\"\u001b[0m: \u001b[1;36m5550000\u001b[0m\n",
       "    \u001b[1m}\u001b[0m,\n",
       "    \u001b[1;34m\"display\"\u001b[0m: \u001b[32m\"+4 800-5550000\"\u001b[0m\n",
       "  \u001b[1m}\u001b[0m,\n",
       "  \u001b[1m{\u001b[0m\n",
       "    \u001b[1;34m\"_id\"\u001b[0m: \u001b[1;36m38005550001\u001b[0m,\n",
       "    \u001b[1;34m\"components\"\u001b[0m: \u001b[1m{\u001b[0m\n",
       "      \u001b[1;34m\"country\"\u001b[0m: \u001b[1;36m3\u001b[0m,\n",
       "      \u001b[1;34m\"area\"\u001b[0m: \u001b[1;36m800\u001b[0m,\n",
       "      \u001b[1;34m\"number\"\u001b[0m: \u001b[1;36m5550001\u001b[0m\n",
       "    \u001b[1m}\u001b[0m,\n",
       "    \u001b[1;34m\"display\"\u001b[0m: \u001b[32m\"+3 800-5550001\"\u001b[0m\n",
       "  \u001b[1m}\u001b[0m\n",
       "\u001b[1m]\u001b[0m\n"
      ]
     },
     "metadata": {},
     "output_type": "display_data"
    },
    {
     "data": {
      "text/html": [
       "<pre style=\"white-space:pre;overflow-x:auto;line-height:normal;font-family:Menlo,'DejaVu Sans Mono',consolas,'Courier New',monospace\"><span style=\"font-weight: bold\">[</span>\n",
       "  <span style=\"font-weight: bold\">{</span>\n",
       "    <span style=\"color: #000080; text-decoration-color: #000080; font-weight: bold\">\"_id\"</span>: <span style=\"color: #008080; text-decoration-color: #008080; font-weight: bold\">48005550000</span>,\n",
       "    <span style=\"color: #000080; text-decoration-color: #000080; font-weight: bold\">\"components\"</span>: <span style=\"font-weight: bold\">{</span>\n",
       "      <span style=\"color: #000080; text-decoration-color: #000080; font-weight: bold\">\"country\"</span>: <span style=\"color: #008080; text-decoration-color: #008080; font-weight: bold\">4</span>,\n",
       "      <span style=\"color: #000080; text-decoration-color: #000080; font-weight: bold\">\"area\"</span>: <span style=\"color: #008080; text-decoration-color: #008080; font-weight: bold\">800</span>,\n",
       "      <span style=\"color: #000080; text-decoration-color: #000080; font-weight: bold\">\"number\"</span>: <span style=\"color: #008080; text-decoration-color: #008080; font-weight: bold\">5550000</span>\n",
       "    <span style=\"font-weight: bold\">}</span>,\n",
       "    <span style=\"color: #000080; text-decoration-color: #000080; font-weight: bold\">\"display\"</span>: <span style=\"color: #008000; text-decoration-color: #008000\">\"+4 800-5550000\"</span>\n",
       "  <span style=\"font-weight: bold\">}</span>,\n",
       "  <span style=\"font-weight: bold\">{</span>\n",
       "    <span style=\"color: #000080; text-decoration-color: #000080; font-weight: bold\">\"_id\"</span>: <span style=\"color: #008080; text-decoration-color: #008080; font-weight: bold\">38005550001</span>,\n",
       "    <span style=\"color: #000080; text-decoration-color: #000080; font-weight: bold\">\"components\"</span>: <span style=\"font-weight: bold\">{</span>\n",
       "      <span style=\"color: #000080; text-decoration-color: #000080; font-weight: bold\">\"country\"</span>: <span style=\"color: #008080; text-decoration-color: #008080; font-weight: bold\">3</span>,\n",
       "      <span style=\"color: #000080; text-decoration-color: #000080; font-weight: bold\">\"area\"</span>: <span style=\"color: #008080; text-decoration-color: #008080; font-weight: bold\">800</span>,\n",
       "      <span style=\"color: #000080; text-decoration-color: #000080; font-weight: bold\">\"number\"</span>: <span style=\"color: #008080; text-decoration-color: #008080; font-weight: bold\">5550001</span>\n",
       "    <span style=\"font-weight: bold\">}</span>,\n",
       "    <span style=\"color: #000080; text-decoration-color: #000080; font-weight: bold\">\"display\"</span>: <span style=\"color: #008000; text-decoration-color: #008000\">\"+3 800-5550001\"</span>\n",
       "  <span style=\"font-weight: bold\">}</span>\n",
       "<span style=\"font-weight: bold\">]</span>\n",
       "</pre>\n"
      ],
      "text/plain": [
       "\u001b[1m[\u001b[0m\n",
       "  \u001b[1m{\u001b[0m\n",
       "    \u001b[1;34m\"_id\"\u001b[0m: \u001b[1;36m48005550000\u001b[0m,\n",
       "    \u001b[1;34m\"components\"\u001b[0m: \u001b[1m{\u001b[0m\n",
       "      \u001b[1;34m\"country\"\u001b[0m: \u001b[1;36m4\u001b[0m,\n",
       "      \u001b[1;34m\"area\"\u001b[0m: \u001b[1;36m800\u001b[0m,\n",
       "      \u001b[1;34m\"number\"\u001b[0m: \u001b[1;36m5550000\u001b[0m\n",
       "    \u001b[1m}\u001b[0m,\n",
       "    \u001b[1;34m\"display\"\u001b[0m: \u001b[32m\"+4 800-5550000\"\u001b[0m\n",
       "  \u001b[1m}\u001b[0m,\n",
       "  \u001b[1m{\u001b[0m\n",
       "    \u001b[1;34m\"_id\"\u001b[0m: \u001b[1;36m38005550001\u001b[0m,\n",
       "    \u001b[1;34m\"components\"\u001b[0m: \u001b[1m{\u001b[0m\n",
       "      \u001b[1;34m\"country\"\u001b[0m: \u001b[1;36m3\u001b[0m,\n",
       "      \u001b[1;34m\"area\"\u001b[0m: \u001b[1;36m800\u001b[0m,\n",
       "      \u001b[1;34m\"number\"\u001b[0m: \u001b[1;36m5550001\u001b[0m\n",
       "    \u001b[1m}\u001b[0m,\n",
       "    \u001b[1;34m\"display\"\u001b[0m: \u001b[32m\"+3 800-5550001\"\u001b[0m\n",
       "  \u001b[1m}\u001b[0m\n",
       "\u001b[1m]\u001b[0m\n"
      ]
     },
     "metadata": {},
     "output_type": "display_data"
    }
   ],
   "source": [
    "print_collection(db.phones.find().limit(2))\n",
    "print_collection(db.phones.find().limit(2))"
   ]
  },
  {
   "cell_type": "code",
   "execution_count": 204,
   "id": "42054b6a",
   "metadata": {
    "ExecuteTime": {
     "end_time": "2022-12-11T23:14:33.014568Z",
     "start_time": "2022-12-11T23:14:32.988318Z"
    }
   },
   "outputs": [
    {
     "name": "stdout",
     "output_type": "stream",
     "text": [
      "collection= towns\n"
     ]
    },
    {
     "data": {
      "text/html": [
       "<pre style=\"white-space:pre;overflow-x:auto;line-height:normal;font-family:Menlo,'DejaVu Sans Mono',consolas,'Courier New',monospace\"><span style=\"font-weight: bold\">[</span>\n",
       "  <span style=\"color: #008000; text-decoration-color: #008000\">\"_id_\"</span>\n",
       "<span style=\"font-weight: bold\">]</span>\n",
       "</pre>\n"
      ],
      "text/plain": [
       "\u001b[1m[\u001b[0m\n",
       "  \u001b[32m\"_id_\"\u001b[0m\n",
       "\u001b[1m]\u001b[0m\n"
      ]
     },
     "metadata": {},
     "output_type": "display_data"
    },
    {
     "name": "stdout",
     "output_type": "stream",
     "text": [
      "collection= phones\n"
     ]
    },
    {
     "data": {
      "text/html": [
       "<pre style=\"white-space:pre;overflow-x:auto;line-height:normal;font-family:Menlo,'DejaVu Sans Mono',consolas,'Courier New',monospace\"><span style=\"font-weight: bold\">[</span>\n",
       "  <span style=\"color: #008000; text-decoration-color: #008000\">\"_id_\"</span>,\n",
       "  <span style=\"color: #008000; text-decoration-color: #008000\">\"display_1\"</span>\n",
       "<span style=\"font-weight: bold\">]</span>\n",
       "</pre>\n"
      ],
      "text/plain": [
       "\u001b[1m[\u001b[0m\n",
       "  \u001b[32m\"_id_\"\u001b[0m,\n",
       "  \u001b[32m\"display_1\"\u001b[0m\n",
       "\u001b[1m]\u001b[0m\n"
      ]
     },
     "metadata": {},
     "output_type": "display_data"
    },
    {
     "name": "stdout",
     "output_type": "stream",
     "text": [
      "collection= countries\n"
     ]
    },
    {
     "data": {
      "text/html": [
       "<pre style=\"white-space:pre;overflow-x:auto;line-height:normal;font-family:Menlo,'DejaVu Sans Mono',consolas,'Courier New',monospace\"><span style=\"font-weight: bold\">[</span>\n",
       "  <span style=\"color: #008000; text-decoration-color: #008000\">\"_id_\"</span>\n",
       "<span style=\"font-weight: bold\">]</span>\n",
       "</pre>\n"
      ],
      "text/plain": [
       "\u001b[1m[\u001b[0m\n",
       "  \u001b[32m\"_id_\"\u001b[0m\n",
       "\u001b[1m]\u001b[0m\n"
      ]
     },
     "metadata": {},
     "output_type": "display_data"
    }
   ],
   "source": [
    "# Print information about the indices.\n",
    "for collection in db.list_collection_names():\n",
    "    print(\"collection=\", collection)\n",
    "    print_collection(db[collection].index_information())"
   ]
  },
  {
   "cell_type": "code",
   "execution_count": 170,
   "id": "43fcef53",
   "metadata": {
    "ExecuteTime": {
     "end_time": "2022-12-11T23:01:14.088013Z",
     "start_time": "2022-12-11T23:01:14.080416Z"
    }
   },
   "outputs": [
    {
     "data": {
      "text/plain": [
       "{'_id': 48005550000,\n",
       " 'components': {'country': 4, 'area': 800, 'number': 5550000},\n",
       " 'display': '+4 800-5550000'}"
      ]
     },
     "execution_count": 170,
     "metadata": {},
     "output_type": "execute_result"
    }
   ],
   "source": [
    "db.phones.find_one({\"display\": \"+4 800-5550000\"})"
   ]
  },
  {
   "cell_type": "code",
   "execution_count": 172,
   "id": "a3f55d33",
   "metadata": {
    "ExecuteTime": {
     "end_time": "2022-12-11T23:01:38.110512Z",
     "start_time": "2022-12-11T23:01:38.034728Z"
    }
   },
   "outputs": [
    {
     "data": {
      "text/plain": [
       "{'explainVersion': '1',\n",
       " 'queryPlanner': {'namespace': 'book.phones',\n",
       "  'indexFilterSet': False,\n",
       "  'parsedQuery': {'display': {'$eq': '+4 800-5550000'}},\n",
       "  'queryHash': 'A876816B',\n",
       "  'planCacheKey': 'A876816B',\n",
       "  'maxIndexedOrSolutionsReached': False,\n",
       "  'maxIndexedAndSolutionsReached': False,\n",
       "  'maxScansToExplodeReached': False,\n",
       "  'winningPlan': {'stage': 'COLLSCAN',\n",
       "   'filter': {'display': {'$eq': '+4 800-5550000'}},\n",
       "   'direction': 'forward'},\n",
       "  'rejectedPlans': []},\n",
       " 'executionStats': {'executionSuccess': True,\n",
       "  'nReturned': 1,\n",
       "  'executionTimeMillis': 64,\n",
       "  'totalKeysExamined': 0,\n",
       "  'totalDocsExamined': 100000,\n",
       "  'executionStages': {'stage': 'COLLSCAN',\n",
       "   'filter': {'display': {'$eq': '+4 800-5550000'}},\n",
       "   'nReturned': 1,\n",
       "   'executionTimeMillisEstimate': 6,\n",
       "   'works': 100002,\n",
       "   'advanced': 1,\n",
       "   'needTime': 100000,\n",
       "   'needYield': 0,\n",
       "   'saveState': 100,\n",
       "   'restoreState': 100,\n",
       "   'isEOF': 1,\n",
       "   'direction': 'forward',\n",
       "   'docsExamined': 100000},\n",
       "  'allPlansExecution': []},\n",
       " 'command': {'find': 'phones',\n",
       "  'filter': {'display': '+4 800-5550000'},\n",
       "  '$db': 'book'},\n",
       " 'serverInfo': {'host': 'c3ed0682f4a6',\n",
       "  'port': 27017,\n",
       "  'version': '6.0.3',\n",
       "  'gitVersion': 'f803681c3ae19817d31958965850193de067c516'},\n",
       " 'serverParameters': {'internalQueryFacetBufferSizeBytes': 104857600,\n",
       "  'internalQueryFacetMaxOutputDocSizeBytes': 104857600,\n",
       "  'internalLookupStageIntermediateDocumentMaxSizeBytes': 104857600,\n",
       "  'internalDocumentSourceGroupMaxMemoryBytes': 104857600,\n",
       "  'internalQueryMaxBlockingSortMemoryUsageBytes': 104857600,\n",
       "  'internalQueryProhibitBlockingMergeOnMongoS': 0,\n",
       "  'internalQueryMaxAddToSetBytes': 104857600,\n",
       "  'internalDocumentSourceSetWindowFieldsMaxMemoryBytes': 104857600},\n",
       " 'ok': 1.0}"
      ]
     },
     "execution_count": 172,
     "metadata": {},
     "output_type": "execute_result"
    }
   ],
   "source": [
    "db.phones.find({\"display\": \"+4 800-5550000\"}).explain()"
   ]
  },
  {
   "cell_type": "code",
   "execution_count": 182,
   "id": "935ff631",
   "metadata": {
    "ExecuteTime": {
     "end_time": "2022-12-11T23:06:05.059342Z",
     "start_time": "2022-12-11T23:06:05.050798Z"
    }
   },
   "outputs": [
    {
     "name": "stdout",
     "output_type": "stream",
     "text": [
      "{'_id_': {'key': [('_id', 1)], 'v': 2},\n",
      " 'display_1': {'key': [('display', 1)], 'unique': True, 'v': 2}}\n"
     ]
    }
   ],
   "source": [
    "db.phones.create_index([(\"display\", pymongo.ASCENDING)], unique=True, dropDups=True)\n",
    "\n",
    "pprint.pprint(db[\"phones\"].index_information())"
   ]
  }
 ],
 "metadata": {
  "kernelspec": {
   "display_name": "Python 3 (ipykernel)",
   "language": "python",
   "name": "python3"
  },
  "language_info": {
   "codemirror_mode": {
    "name": "ipython",
    "version": 3
   },
   "file_extension": ".py",
   "mimetype": "text/x-python",
   "name": "python",
   "nbconvert_exporter": "python",
   "pygments_lexer": "ipython3",
   "version": "3.8.10"
  },
  "toc": {
   "base_numbering": 1,
   "nav_menu": {},
   "number_sections": true,
   "sideBar": true,
   "skip_h1_title": false,
   "title_cell": "Table of Contents",
   "title_sidebar": "Contents",
   "toc_cell": false,
   "toc_position": {
    "height": "calc(100% - 180px)",
    "left": "10px",
    "top": "150px",
    "width": "320px"
   },
   "toc_section_display": true,
   "toc_window_display": true
  }
 },
 "nbformat": 4,
 "nbformat_minor": 5
}
