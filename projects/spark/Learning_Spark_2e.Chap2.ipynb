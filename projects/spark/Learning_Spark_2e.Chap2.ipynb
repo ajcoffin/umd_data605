{
 "cells": [
  {
   "cell_type": "code",
   "execution_count": 2,
   "id": "ef27ea0b",
   "metadata": {
    "ExecuteTime": {
     "end_time": "2022-11-20T15:13:10.051496Z",
     "start_time": "2022-11-20T15:13:10.042652Z"
    }
   },
   "outputs": [],
   "source": [
    "import sys\n",
    "from pyspark.sql import SparkSession\n",
    "from pyspark.sql.functions import count"
   ]
  },
  {
   "cell_type": "code",
   "execution_count": 3,
   "id": "cbf14666",
   "metadata": {
    "ExecuteTime": {
     "end_time": "2022-11-20T15:13:37.284255Z",
     "start_time": "2022-11-20T15:13:35.701226Z"
    }
   },
   "outputs": [
    {
     "name": "stdout",
     "output_type": "stream",
     "text": [
      "22/11/20 15:13:37 WARN SparkSession: Using an existing Spark session; only runtime SQL configurations will take effect.\n"
     ]
    }
   ],
   "source": [
    "# Build a SparkSession using the SparkSession APIs.\n",
    "# If one does not exist, then create an instance. There\n",
    "# can only be one SparkSession per JVM.\n",
    "spark = (SparkSession.builder.appName(\"PythonMnMCount\").getOrCreate())"
   ]
  },
  {
   "cell_type": "code",
   "execution_count": 4,
   "id": "0186adcb",
   "metadata": {
    "ExecuteTime": {
     "end_time": "2022-11-20T15:21:03.355915Z",
     "start_time": "2022-11-20T15:21:03.334138Z"
    }
   },
   "outputs": [],
   "source": [
    "mnm_file = \"./mnm_dataset.csv\""
   ]
  },
  {
   "cell_type": "code",
   "execution_count": 10,
   "id": "a8779823",
   "metadata": {
    "ExecuteTime": {
     "end_time": "2022-11-20T15:22:25.196473Z",
     "start_time": "2022-11-20T15:22:25.061577Z"
    }
   },
   "outputs": [
    {
     "name": "stdout",
     "output_type": "stream",
     "text": [
      "State,Color,Count\r",
      "\r\n",
      "NM,Orange,50\r",
      "\r\n",
      "NM,Blue,86\r",
      "\r\n",
      "UT,Green,68\r",
      "\r\n",
      "NM,Orange,77\r",
      "\r\n"
     ]
    }
   ],
   "source": [
    "!head -5 {mnm_file}"
   ]
  },
  {
   "cell_type": "code",
   "execution_count": 6,
   "id": "b05fd012",
   "metadata": {
    "ExecuteTime": {
     "end_time": "2022-11-20T15:21:34.603398Z",
     "start_time": "2022-11-20T15:21:34.156501Z"
    }
   },
   "outputs": [
    {
     "name": "stdout",
     "output_type": "stream",
     "text": [
      "DataFrame[State: string, Color: string, Count: int]\n"
     ]
    }
   ],
   "source": [
    "# Read the file into a Spark DataFrame using the CSV\n",
    "# format by inferring the schema and specifying that the\n",
    "# file contains a header, which provides column names for comma-\n",
    "# separated fields.\n",
    "mnm_df = (spark.read.format(\"csv\").option(\"header\", \"true\").option(\n",
    "    \"inferSchema\", \"true\").load(mnm_file))\n",
    "print(mnm_df)"
   ]
  },
  {
   "cell_type": "code",
   "execution_count": 15,
   "id": "ee39b4b2",
   "metadata": {
    "ExecuteTime": {
     "end_time": "2022-11-20T15:27:08.216459Z",
     "start_time": "2022-11-20T15:27:07.753447Z"
    }
   },
   "outputs": [
    {
     "name": "stdout",
     "output_type": "stream",
     "text": [
      "22/11/20 15:27:07 WARN CSVHeaderChecker: CSV header does not conform to the schema.\n",
      " Header: <!DOCTYPE html>, \n",
      " Schema: State, Color\n",
      "Expected: State but found: <!DOCTYPE html>\n",
      "CSV file: file:///data/mnm_dataset.csv\n",
      "Total Rows = 15\n"
     ]
    }
   ],
   "source": [
    "# We use the DataFrame high-level APIs. Note\n",
    "# that we don't use RDDs at all. Because some of Spark's\n",
    "# functions return the same object, we can chain function calls.\n",
    "# 1. Select from the DataFrame the fields \"State\", \"Color\", and \"Count\"\n",
    "# 2. Since we want to group each state and its M&M color count, we use groupBy()\n",
    "# 3.  Aggregate counts of all colors and groupBy() State and Color\n",
    "# 4 orderBy() in descending order\n",
    "count_mnm_df = (mnm_df.select(\"State\", \"Color\", \"Count\").groupBy(\n",
    "    \"State\",\n",
    "    \"Color\").agg(count(\"Count\").alias(\"Total\")).orderBy(\"Total\",\n",
    "                                                        ascending=False))\n",
    "# Show the resulting aggregations for all the states and colors; # a total count of each color per state.\n",
    "# Note show() is an action, which will trigger the above\n",
    "# query to be executed.\n",
    "#count_mnm_df.show(n=60, truncate=False)\n",
    "print(\"Total Rows = %d\" % (count_mnm_df.count()))"
   ]
  }
 ],
 "metadata": {
  "kernelspec": {
   "display_name": "Python 3 (ipykernel)",
   "language": "python",
   "name": "python3"
  },
  "language_info": {
   "codemirror_mode": {
    "name": "ipython",
    "version": 3
   },
   "file_extension": ".py",
   "mimetype": "text/x-python",
   "name": "python",
   "nbconvert_exporter": "python",
   "pygments_lexer": "ipython3",
   "version": "3.10.6"
  },
  "toc": {
   "base_numbering": 1,
   "nav_menu": {},
   "number_sections": true,
   "sideBar": true,
   "skip_h1_title": false,
   "title_cell": "Table of Contents",
   "title_sidebar": "Contents",
   "toc_cell": false,
   "toc_position": {},
   "toc_section_display": true,
   "toc_window_display": false
  }
 },
 "nbformat": 4,
 "nbformat_minor": 5
}
