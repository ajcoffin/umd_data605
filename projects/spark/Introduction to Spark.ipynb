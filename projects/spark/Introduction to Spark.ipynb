{
 "cells": [
  {
   "cell_type": "markdown",
   "metadata": {},
   "source": [
    "This Notebook shows introduces the basic concepts of RDDs and operations on them visually, by showing the contents of the RDDs as a table."
   ]
  },
  {
   "cell_type": "markdown",
   "metadata": {},
   "source": [
    "### Display RDD\n",
    "The following helper functions displays the current contents of an RDD (partition-by-partition). This is best used for small RDDs with manageable number of partitions."
   ]
  },
  {
   "cell_type": "code",
   "execution_count": 1,
   "metadata": {
    "ExecuteTime": {
     "end_time": "2022-11-23T09:47:38.249574Z",
     "start_time": "2022-11-23T09:47:38.176666Z"
    }
   },
   "outputs": [],
   "source": [
    "class DisplayRDD:\n",
    "    def __init__(self, rdd):\n",
    "        self.rdd = rdd\n",
    "\n",
    "    def _repr_html_(self):                                  \n",
    "        x = self.rdd.mapPartitionsWithIndex(lambda i, x: [(i, [y for y in x])])\n",
    "        l = x.collect()\n",
    "        s = \"<table><tr>{}</tr><tr><td>\".format(\"\".join([\"<th>Partition {}\".format(str(j)) for (j, r) in l]))\n",
    "        s += '</td><td valign=\"bottom\" halignt=\"left\">'.join([\"<ul><li>{}</ul>\".format(\"<li>\".join([str(rr) for rr in r])) for (j, r) in l])\n",
    "        s += \"</td></table>\"\n",
    "        return s"
   ]
  },
  {
   "cell_type": "markdown",
   "metadata": {
    "collapsed": true
   },
   "source": [
    "### Basics 1\n",
    "Lets start with some basic operations using a small RDD to visualize what's going on. We will create a RDD of Strings, using the `states.txt` file which contains a list of the state names.\n",
    "\n",
    "The notebook has already initialized a SparkContext, and we can refer to it as `sc`.\n",
    "\n",
    "We will use `sc.textFile` to create this RDD. This operations reads the file and treats every line as a separate object. We will use DisplayRDD() to visualize it. The second argument of `sc.textFile` is the number of partitions. We will set this as 10 to get started. If we don't do that, Spark will only create a single partition given the file is pretty small."
   ]
  },
  {
   "cell_type": "code",
   "execution_count": 2,
   "metadata": {
    "ExecuteTime": {
     "end_time": "2022-11-23T09:47:58.665209Z",
     "start_time": "2022-11-23T09:47:48.689769Z"
    }
   },
   "outputs": [
    {
     "name": "stderr",
     "output_type": "stream",
     "text": [
      "                                                                                \r"
     ]
    },
    {
     "data": {
      "text/html": [
       "<table><tr><th>Partition 0<th>Partition 1<th>Partition 2<th>Partition 3<th>Partition 4<th>Partition 5<th>Partition 6<th>Partition 7<th>Partition 8<th>Partition 9</tr><tr><td><ul><li>Alabama<li>Hawaii<li>Massachusetts<li>New Mexico<li>South Dakota</ul></td><td valign=\"bottom\" halignt=\"left\"><ul><li>Alaska<li>Idaho<li>Michigan<li>New York<li>Tennessee<li>Arizona</ul></td><td valign=\"bottom\" halignt=\"left\"><ul><li>Illinois<li>Minnesota<li>North Carolina<li>Texas</ul></td><td valign=\"bottom\" halignt=\"left\"><ul><li>Arkansas<li>Indiana<li>Mississippi<li>North Dakota<li>Utah</ul></td><td valign=\"bottom\" halignt=\"left\"><ul><li>California<li>Iowa<li>Missouri<li>Ohio<li>Vermont<li>Colorado</ul></td><td valign=\"bottom\" halignt=\"left\"><ul><li>Kansas<li>Montana<li>Oklahoma<li>Virginia<li>Connecticut<li>Kentucky</ul></td><td valign=\"bottom\" halignt=\"left\"><ul><li>Nebraska<li>Oregon<li>Washington<li>Delaware<li>Louisiana</ul></td><td valign=\"bottom\" halignt=\"left\"><ul><li>Nevada<li>Pennsylvania<li>West Virginia<li>Florida</ul></td><td valign=\"bottom\" halignt=\"left\"><ul><li>Maine<li>New Hampshire<li>Rhode Island<li>Wisconsin<li>Georgia</ul></td><td valign=\"bottom\" halignt=\"left\"><ul><li>Maryland<li>New Jersey<li>South Carolina<li>Wyoming</ul></td></table>"
      ],
      "text/plain": [
       "<__main__.DisplayRDD at 0x7f68c4686380>"
      ]
     },
     "execution_count": 2,
     "metadata": {},
     "output_type": "execute_result"
    }
   ],
   "source": [
    "states_rdd = sc.textFile('states.txt', 10)\n",
    "DisplayRDD(states_rdd)"
   ]
  },
  {
   "cell_type": "markdown",
   "metadata": {},
   "source": [
    "The above table shows the contents of each partition as a list -- so the first Partition has 5 elements in it ('Alabama', ...). We can `repartition` the RDD to get a fewer partitions so it will be easier to see."
   ]
  },
  {
   "cell_type": "code",
   "execution_count": 3,
   "metadata": {
    "ExecuteTime": {
     "end_time": "2022-11-23T09:48:08.267285Z",
     "start_time": "2022-11-23T09:48:06.870327Z"
    }
   },
   "outputs": [
    {
     "name": "stderr",
     "output_type": "stream",
     "text": [
      "                                                                                \r"
     ]
    },
    {
     "data": {
      "text/html": [
       "<table><tr><th>Partition 0<th>Partition 1<th>Partition 2<th>Partition 3<th>Partition 4</tr><tr><td><ul><li>Nebraska<li>Oregon<li>Washington<li>Delaware<li>Louisiana<li>Maine<li>New Hampshire<li>Rhode Island<li>Wisconsin<li>Georgia</ul></td><td valign=\"bottom\" halignt=\"left\"><ul><li>Alabama<li>Hawaii<li>Massachusetts<li>New Mexico<li>South Dakota<li>Maryland<li>New Jersey<li>South Carolina<li>Wyoming</ul></td><td valign=\"bottom\" halignt=\"left\"><ul><li>Illinois<li>Minnesota<li>North Carolina<li>Texas<li>Arkansas<li>Indiana<li>Mississippi<li>North Dakota<li>Utah<li>Nevada<li>Pennsylvania<li>West Virginia<li>Florida</ul></td><td valign=\"bottom\" halignt=\"left\"><ul><li>Alaska<li>Idaho<li>Michigan<li>New York<li>Tennessee<li>Arizona</ul></td><td valign=\"bottom\" halignt=\"left\"><ul><li>California<li>Iowa<li>Missouri<li>Ohio<li>Vermont<li>Colorado<li>Kansas<li>Montana<li>Oklahoma<li>Virginia<li>Connecticut<li>Kentucky</ul></td></table>"
      ],
      "text/plain": [
       "<__main__.DisplayRDD at 0x7f68c4687730>"
      ]
     },
     "execution_count": 3,
     "metadata": {},
     "output_type": "execute_result"
    }
   ],
   "source": [
    "states_rdd = states_rdd.repartition(5)\n",
    "DisplayRDD(states_rdd)"
   ]
  },
  {
   "cell_type": "markdown",
   "metadata": {},
   "source": [
    "Let's do a transformation where we convert a string to a 2-tuple, where the second value is the length of the string. We will just use a `map` for this -- we have to provide a function as the input that transforms each element of the RDD. In this case, we are using the `lambda` keyword to define a function inline.\n",
    "\n",
    "The below lambda function is simply taking in a string: s, and returning a 2-tuple: (s, len(s))"
   ]
  },
  {
   "cell_type": "code",
   "execution_count": 4,
   "metadata": {
    "ExecuteTime": {
     "end_time": "2022-11-23T09:48:26.904030Z",
     "start_time": "2022-11-23T09:48:26.510546Z"
    }
   },
   "outputs": [
    {
     "data": {
      "text/html": [
       "<table><tr><th>Partition 0<th>Partition 1<th>Partition 2<th>Partition 3<th>Partition 4</tr><tr><td><ul><li>('Nebraska', 8)<li>('Oregon', 6)<li>('Washington', 10)<li>('Delaware', 8)<li>('Louisiana', 9)<li>('Maine', 5)<li>('New Hampshire', 13)<li>('Rhode Island', 12)<li>('Wisconsin', 9)<li>('Georgia', 7)</ul></td><td valign=\"bottom\" halignt=\"left\"><ul><li>('Alabama', 7)<li>('Hawaii', 6)<li>('Massachusetts', 13)<li>('New Mexico', 10)<li>('South Dakota', 12)<li>('Maryland', 8)<li>('New Jersey', 10)<li>('South Carolina', 14)<li>('Wyoming', 7)</ul></td><td valign=\"bottom\" halignt=\"left\"><ul><li>('Illinois', 8)<li>('Minnesota', 9)<li>('North Carolina', 14)<li>('Texas', 5)<li>('Arkansas', 8)<li>('Indiana', 7)<li>('Mississippi', 11)<li>('North Dakota', 12)<li>('Utah', 4)<li>('Nevada', 6)<li>('Pennsylvania', 12)<li>('West Virginia', 13)<li>('Florida', 7)</ul></td><td valign=\"bottom\" halignt=\"left\"><ul><li>('Alaska', 6)<li>('Idaho', 5)<li>('Michigan', 8)<li>('New York', 8)<li>('Tennessee', 9)<li>('Arizona', 7)</ul></td><td valign=\"bottom\" halignt=\"left\"><ul><li>('California', 10)<li>('Iowa', 4)<li>('Missouri', 8)<li>('Ohio', 4)<li>('Vermont', 7)<li>('Colorado', 8)<li>('Kansas', 6)<li>('Montana', 7)<li>('Oklahoma', 8)<li>('Virginia', 8)<li>('Connecticut', 11)<li>('Kentucky', 8)</ul></td></table>"
      ],
      "text/plain": [
       "<__main__.DisplayRDD at 0x7f68c4685720>"
      ]
     },
     "execution_count": 4,
     "metadata": {},
     "output_type": "execute_result"
    }
   ],
   "source": [
    "states1 = states_rdd.map(lambda s: (s, len(s)))\n",
    "DisplayRDD(states1)"
   ]
  },
  {
   "cell_type": "markdown",
   "metadata": {},
   "source": [
    "Lets collect all the names with the same length together using a group by operation. \n",
    "```\n",
    "groupByKey([numTasks])\n",
    "```\n",
    "When called on a dataset of (K, V) pairs, returns a dataset of (K, Iterable<V>) pairs. \n",
    "This wouldn't work as is, because `states1` is using the name as the key. Let's change that around."
   ]
  },
  {
   "cell_type": "code",
   "execution_count": 5,
   "metadata": {
    "ExecuteTime": {
     "end_time": "2022-11-23T09:48:54.777549Z",
     "start_time": "2022-11-23T09:48:54.560707Z"
    }
   },
   "outputs": [
    {
     "data": {
      "text/html": [
       "<table><tr><th>Partition 0<th>Partition 1<th>Partition 2<th>Partition 3<th>Partition 4</tr><tr><td><ul><li>(8, 'Nebraska')<li>(6, 'Oregon')<li>(10, 'Washington')<li>(8, 'Delaware')<li>(9, 'Louisiana')<li>(5, 'Maine')<li>(13, 'New Hampshire')<li>(12, 'Rhode Island')<li>(9, 'Wisconsin')<li>(7, 'Georgia')</ul></td><td valign=\"bottom\" halignt=\"left\"><ul><li>(7, 'Alabama')<li>(6, 'Hawaii')<li>(13, 'Massachusetts')<li>(10, 'New Mexico')<li>(12, 'South Dakota')<li>(8, 'Maryland')<li>(10, 'New Jersey')<li>(14, 'South Carolina')<li>(7, 'Wyoming')</ul></td><td valign=\"bottom\" halignt=\"left\"><ul><li>(8, 'Illinois')<li>(9, 'Minnesota')<li>(14, 'North Carolina')<li>(5, 'Texas')<li>(8, 'Arkansas')<li>(7, 'Indiana')<li>(11, 'Mississippi')<li>(12, 'North Dakota')<li>(4, 'Utah')<li>(6, 'Nevada')<li>(12, 'Pennsylvania')<li>(13, 'West Virginia')<li>(7, 'Florida')</ul></td><td valign=\"bottom\" halignt=\"left\"><ul><li>(6, 'Alaska')<li>(5, 'Idaho')<li>(8, 'Michigan')<li>(8, 'New York')<li>(9, 'Tennessee')<li>(7, 'Arizona')</ul></td><td valign=\"bottom\" halignt=\"left\"><ul><li>(10, 'California')<li>(4, 'Iowa')<li>(8, 'Missouri')<li>(4, 'Ohio')<li>(7, 'Vermont')<li>(8, 'Colorado')<li>(6, 'Kansas')<li>(7, 'Montana')<li>(8, 'Oklahoma')<li>(8, 'Virginia')<li>(11, 'Connecticut')<li>(8, 'Kentucky')</ul></td></table>"
      ],
      "text/plain": [
       "<__main__.DisplayRDD at 0x7f68c4685150>"
      ]
     },
     "execution_count": 5,
     "metadata": {},
     "output_type": "execute_result"
    }
   ],
   "source": [
    "states2 = states1.map(lambda t: (t[1], t[0]))\n",
    "DisplayRDD(states2)"
   ]
  },
  {
   "cell_type": "markdown",
   "metadata": {},
   "source": [
    "Note above that Spark did not do a shuffle to ensure that the same `keys` end up on the same partition. In fact, the `map` operation does not do a shuffle. \n",
    "\n",
    "Now we can do a groupByKey. "
   ]
  },
  {
   "cell_type": "code",
   "execution_count": 6,
   "metadata": {
    "ExecuteTime": {
     "end_time": "2022-11-23T09:49:24.897828Z",
     "start_time": "2022-11-23T09:49:24.096350Z"
    }
   },
   "outputs": [
    {
     "data": {
      "text/html": [
       "<table><tr><th>Partition 0<th>Partition 1<th>Partition 2<th>Partition 3<th>Partition 4</tr><tr><td><ul><li>(10, <pyspark.resultiterable.ResultIterable object at 0x7f68c46852d0>)<li>(5, <pyspark.resultiterable.ResultIterable object at 0x7f68c4661c30>)</ul></td><td valign=\"bottom\" halignt=\"left\"><ul><li>(6, <pyspark.resultiterable.ResultIterable object at 0x7f68c4663070>)<li>(11, <pyspark.resultiterable.ResultIterable object at 0x7f68c4662f80>)</ul></td><td valign=\"bottom\" halignt=\"left\"><ul><li>(12, <pyspark.resultiterable.ResultIterable object at 0x7f68c4660430>)<li>(7, <pyspark.resultiterable.ResultIterable object at 0x7f68c4660730>)</ul></td><td valign=\"bottom\" halignt=\"left\"><ul><li>(8, <pyspark.resultiterable.ResultIterable object at 0x7f68c4662fb0>)<li>(13, <pyspark.resultiterable.ResultIterable object at 0x7f68c46602e0>)</ul></td><td valign=\"bottom\" halignt=\"left\"><ul><li>(9, <pyspark.resultiterable.ResultIterable object at 0x7f68c4660820>)<li>(14, <pyspark.resultiterable.ResultIterable object at 0x7f68c4661ed0>)<li>(4, <pyspark.resultiterable.ResultIterable object at 0x7f68c4663130>)</ul></td></table>"
      ],
      "text/plain": [
       "<__main__.DisplayRDD at 0x7f68c46851e0>"
      ]
     },
     "execution_count": 6,
     "metadata": {},
     "output_type": "execute_result"
    }
   ],
   "source": [
    "states3 = states2.groupByKey()\n",
    "DisplayRDD(states3)"
   ]
  },
  {
   "cell_type": "markdown",
   "metadata": {},
   "source": [
    "That looks weird... it seems to have done a group by, but we are missing the groups themselves. This is because the type of the value is a `pyspark.resultiterable.ResultIterable` which our DisplayRDD code does not translate into strings. We can fix that by converting the `values` to lists, and then doing DisplayRDD."
   ]
  },
  {
   "cell_type": "code",
   "execution_count": 7,
   "metadata": {
    "ExecuteTime": {
     "end_time": "2022-11-23T09:49:35.488233Z",
     "start_time": "2022-11-23T09:49:35.292121Z"
    }
   },
   "outputs": [
    {
     "data": {
      "text/html": [
       "<table><tr><th>Partition 0<th>Partition 1<th>Partition 2<th>Partition 3<th>Partition 4</tr><tr><td><ul><li>(10, ['Washington', 'New Mexico', 'New Jersey', 'California'])<li>(5, ['Maine', 'Texas', 'Idaho'])</ul></td><td valign=\"bottom\" halignt=\"left\"><ul><li>(6, ['Oregon', 'Hawaii', 'Nevada', 'Alaska', 'Kansas'])<li>(11, ['Mississippi', 'Connecticut'])</ul></td><td valign=\"bottom\" halignt=\"left\"><ul><li>(12, ['Rhode Island', 'South Dakota', 'North Dakota', 'Pennsylvania'])<li>(7, ['Georgia', 'Alabama', 'Wyoming', 'Indiana', 'Florida', 'Arizona', 'Vermont', 'Montana'])</ul></td><td valign=\"bottom\" halignt=\"left\"><ul><li>(8, ['Nebraska', 'Delaware', 'Maryland', 'Illinois', 'Arkansas', 'Michigan', 'New York', 'Missouri', 'Colorado', 'Oklahoma', 'Virginia', 'Kentucky'])<li>(13, ['New Hampshire', 'Massachusetts', 'West Virginia'])</ul></td><td valign=\"bottom\" halignt=\"left\"><ul><li>(9, ['Louisiana', 'Wisconsin', 'Minnesota', 'Tennessee'])<li>(14, ['South Carolina', 'North Carolina'])<li>(4, ['Utah', 'Iowa', 'Ohio'])</ul></td></table>"
      ],
      "text/plain": [
       "<__main__.DisplayRDD at 0x7f68c46856c0>"
      ]
     },
     "execution_count": 7,
     "metadata": {},
     "output_type": "execute_result"
    }
   ],
   "source": [
    "DisplayRDD(states3.mapValues(list))"
   ]
  },
  {
   "cell_type": "markdown",
   "metadata": {},
   "source": [
    "There it goes. Now we can see that the operation properly grouped together the state names by their lengths. This operation required a `shuffle` since originally all names with length, say 10, were all over the place.\n",
    "\n",
    "`groupByKey` does not reduce the size of the RDD. If we were interested in `counting` the number of states with a given length (i.e., a `group by count` query), we can use `reduceByKey` instead. However that requires us to do a map first."
   ]
  },
  {
   "cell_type": "code",
   "execution_count": 8,
   "metadata": {
    "ExecuteTime": {
     "end_time": "2022-11-23T09:49:44.747588Z",
     "start_time": "2022-11-23T09:49:44.503710Z"
    },
    "scrolled": true
   },
   "outputs": [
    {
     "data": {
      "text/html": [
       "<table><tr><th>Partition 0<th>Partition 1<th>Partition 2<th>Partition 3<th>Partition 4</tr><tr><td><ul><li>(8, 1)<li>(6, 1)<li>(10, 1)<li>(8, 1)<li>(9, 1)<li>(5, 1)<li>(13, 1)<li>(12, 1)<li>(9, 1)<li>(7, 1)</ul></td><td valign=\"bottom\" halignt=\"left\"><ul><li>(7, 1)<li>(6, 1)<li>(13, 1)<li>(10, 1)<li>(12, 1)<li>(8, 1)<li>(10, 1)<li>(14, 1)<li>(7, 1)</ul></td><td valign=\"bottom\" halignt=\"left\"><ul><li>(8, 1)<li>(9, 1)<li>(14, 1)<li>(5, 1)<li>(8, 1)<li>(7, 1)<li>(11, 1)<li>(12, 1)<li>(4, 1)<li>(6, 1)<li>(12, 1)<li>(13, 1)<li>(7, 1)</ul></td><td valign=\"bottom\" halignt=\"left\"><ul><li>(6, 1)<li>(5, 1)<li>(8, 1)<li>(8, 1)<li>(9, 1)<li>(7, 1)</ul></td><td valign=\"bottom\" halignt=\"left\"><ul><li>(10, 1)<li>(4, 1)<li>(8, 1)<li>(4, 1)<li>(7, 1)<li>(8, 1)<li>(6, 1)<li>(7, 1)<li>(8, 1)<li>(8, 1)<li>(11, 1)<li>(8, 1)</ul></td></table>"
      ],
      "text/plain": [
       "<__main__.DisplayRDD at 0x7f68c46856f0>"
      ]
     },
     "execution_count": 8,
     "metadata": {},
     "output_type": "execute_result"
    }
   ],
   "source": [
    "states4 = states2.mapValues(lambda x: 1)\n",
    "DisplayRDD(states4)"
   ]
  },
  {
   "cell_type": "markdown",
   "metadata": {},
   "source": [
    "`reduceByKey` takes in a single reduce function as the input which tells us what to do with any two values. In this case, we are simply going to use sum them up."
   ]
  },
  {
   "cell_type": "code",
   "execution_count": 9,
   "metadata": {
    "ExecuteTime": {
     "end_time": "2022-11-23T09:49:52.169288Z",
     "start_time": "2022-11-23T09:49:51.731840Z"
    }
   },
   "outputs": [
    {
     "data": {
      "text/html": [
       "<table><tr><th>Partition 0<th>Partition 1<th>Partition 2<th>Partition 3<th>Partition 4</tr><tr><td><ul><li>(10, 4)<li>(5, 3)</ul></td><td valign=\"bottom\" halignt=\"left\"><ul><li>(6, 5)<li>(11, 2)</ul></td><td valign=\"bottom\" halignt=\"left\"><ul><li>(12, 4)<li>(7, 8)</ul></td><td valign=\"bottom\" halignt=\"left\"><ul><li>(8, 12)<li>(13, 3)</ul></td><td valign=\"bottom\" halignt=\"left\"><ul><li>(9, 4)<li>(14, 2)<li>(4, 3)</ul></td></table>"
      ],
      "text/plain": [
       "<__main__.DisplayRDD at 0x7f68c46848e0>"
      ]
     },
     "execution_count": 9,
     "metadata": {},
     "output_type": "execute_result"
    }
   ],
   "source": [
    "DisplayRDD(states4.reduceByKey(lambda v1, v2: v1 + v2))"
   ]
  },
  {
   "cell_type": "markdown",
   "metadata": {},
   "source": [
    "These operations could be done faster through using `aggregateByKey`, but the syntax takes some getting used to. `aggregateByKey` takes a `start` value, a function that tells it what to do for a given element in the RDD, and another reduce function. "
   ]
  },
  {
   "cell_type": "code",
   "execution_count": 10,
   "metadata": {
    "ExecuteTime": {
     "end_time": "2022-11-23T09:50:05.208417Z",
     "start_time": "2022-11-23T09:50:04.822775Z"
    }
   },
   "outputs": [
    {
     "data": {
      "text/html": [
       "<table><tr><th>Partition 0<th>Partition 1<th>Partition 2<th>Partition 3<th>Partition 4</tr><tr><td><ul><li>(10, 4)<li>(5, 3)</ul></td><td valign=\"bottom\" halignt=\"left\"><ul><li>(6, 5)<li>(11, 2)</ul></td><td valign=\"bottom\" halignt=\"left\"><ul><li>(12, 4)<li>(7, 8)</ul></td><td valign=\"bottom\" halignt=\"left\"><ul><li>(8, 12)<li>(13, 3)</ul></td><td valign=\"bottom\" halignt=\"left\"><ul><li>(9, 4)<li>(14, 2)<li>(4, 3)</ul></td></table>"
      ],
      "text/plain": [
       "<__main__.DisplayRDD at 0x7f68c46844c0>"
      ]
     },
     "execution_count": 10,
     "metadata": {},
     "output_type": "execute_result"
    }
   ],
   "source": [
    "DisplayRDD(\n",
    "    states2.aggregateByKey(0, lambda k, v: k + 1, lambda v1, v2: v1 + v2))"
   ]
  },
  {
   "cell_type": "markdown",
   "metadata": {},
   "source": [
    "### Basics 2: FlatMap\n",
    "\n",
    "Unlike a `map`, the function used for `flatMap` returns a list -- this is used to allow for the possibility that we will generate different numbers of outputs for different elements. Here is an example where we split each string in `states_rdd` into multiple substrings.\n",
    "\n",
    "The lambda function below splits a string into chunks of size 5: so 'South Dakota' gets split into 'South', ' Dako', 'ta', and so on. The lambda function itself returns a list. If you try this with 'map' the result would not be the same."
   ]
  },
  {
   "cell_type": "code",
   "execution_count": 11,
   "metadata": {
    "ExecuteTime": {
     "end_time": "2022-11-23T09:51:23.216278Z",
     "start_time": "2022-11-23T09:51:23.021438Z"
    }
   },
   "outputs": [
    {
     "data": {
      "text/html": [
       "<table><tr><th>Partition 0<th>Partition 1<th>Partition 2<th>Partition 3<th>Partition 4</tr><tr><td><ul><li>Nebra<li>ska<li>Orego<li>n<li>Washi<li>ngton<li>Delaw<li>are<li>Louis<li>iana<li>Maine<li>New H<li>ampsh<li>ire<li>Rhode<li> Isla<li>nd<li>Wisco<li>nsin<li>Georg<li>ia</ul></td><td valign=\"bottom\" halignt=\"left\"><ul><li>Alaba<li>ma<li>Hawai<li>i<li>Massa<li>chuse<li>tts<li>New M<li>exico<li>South<li> Dako<li>ta<li>Maryl<li>and<li>New J<li>ersey<li>South<li> Caro<li>lina<li>Wyomi<li>ng</ul></td><td valign=\"bottom\" halignt=\"left\"><ul><li>Illin<li>ois<li>Minne<li>sota<li>North<li> Caro<li>lina<li>Texas<li>Arkan<li>sas<li>India<li>na<li>Missi<li>ssipp<li>i<li>North<li> Dako<li>ta<li>Utah<li>Nevad<li>a<li>Penns<li>ylvan<li>ia<li>West <li>Virgi<li>nia<li>Flori<li>da</ul></td><td valign=\"bottom\" halignt=\"left\"><ul><li>Alask<li>a<li>Idaho<li>Michi<li>gan<li>New Y<li>ork<li>Tenne<li>ssee<li>Arizo<li>na</ul></td><td valign=\"bottom\" halignt=\"left\"><ul><li>Calif<li>ornia<li>Iowa<li>Misso<li>uri<li>Ohio<li>Vermo<li>nt<li>Color<li>ado<li>Kansa<li>s<li>Monta<li>na<li>Oklah<li>oma<li>Virgi<li>nia<li>Conne<li>cticu<li>t<li>Kentu<li>cky</ul></td></table>"
      ],
      "text/plain": [
       "<__main__.DisplayRDD at 0x7f68c4684220>"
      ]
     },
     "execution_count": 11,
     "metadata": {},
     "output_type": "execute_result"
    }
   ],
   "source": [
    "DisplayRDD(\n",
    "    states_rdd.flatMap(\n",
    "        lambda x: [str(x[i:i + 5]) for i in range(0, len(x), 5)]))"
   ]
  },
  {
   "cell_type": "markdown",
   "metadata": {},
   "source": [
    "### Basics 3: Joins\n",
    "\n",
    "Finally, lets look at an example of joins. We will still use small RDDs, but we now need two of them. We will just use `sc.parallelize` to create those RDDs. That functions takes in a list and creates an RDD of that by creating partitions and splitting them across machines. It takes the number of partitions as the second argument (optional).\n",
    "\n",
    "Note again that Spark made no attempt to co-locate the objects (i.e., the tuples) with the same key."
   ]
  },
  {
   "cell_type": "code",
   "execution_count": 12,
   "metadata": {
    "ExecuteTime": {
     "end_time": "2022-11-23T09:57:14.132299Z",
     "start_time": "2022-11-23T09:57:13.904295Z"
    }
   },
   "outputs": [
    {
     "data": {
      "text/html": [
       "<table><tr><th>Partition 0<th>Partition 1<th>Partition 2</tr><tr><td><ul><li>('alpha', 1)</ul></td><td valign=\"bottom\" halignt=\"left\"><ul><li>('beta', 2)<li>('gamma', 3)</ul></td><td valign=\"bottom\" halignt=\"left\"><ul><li>('alpha', 5)<li>('beta', 6)</ul></td></table>"
      ],
      "text/plain": [
       "<__main__.DisplayRDD at 0x7f68c4684c70>"
      ]
     },
     "execution_count": 12,
     "metadata": {},
     "output_type": "execute_result"
    }
   ],
   "source": [
    "rdd1 = sc.parallelize([('alpha', 1), ('beta', 2), ('gamma', 3), ('alpha', 5), ('beta', 6)], 3)\n",
    "DisplayRDD(rdd1)"
   ]
  },
  {
   "cell_type": "code",
   "execution_count": 13,
   "metadata": {
    "ExecuteTime": {
     "end_time": "2022-11-23T09:57:16.053443Z",
     "start_time": "2022-11-23T09:57:15.918534Z"
    }
   },
   "outputs": [
    {
     "data": {
      "text/html": [
       "<table><tr><th>Partition 0<th>Partition 1<th>Partition 2</tr><tr><td><ul><li>('alpha', 'South Dakota')</ul></td><td valign=\"bottom\" halignt=\"left\"><ul><li>('beta', 'North Dakota')</ul></td><td valign=\"bottom\" halignt=\"left\"><ul><li>('zeta', 'Maryland')<li>('beta', 'Washington')</ul></td></table>"
      ],
      "text/plain": [
       "<__main__.DisplayRDD at 0x7f68c4684a90>"
      ]
     },
     "execution_count": 13,
     "metadata": {},
     "output_type": "execute_result"
    }
   ],
   "source": [
    "rdd2 = sc.parallelize([('alpha', 'South Dakota'), ('beta', 'North Dakota'), ('zeta', 'Maryland'), ('beta', 'Washington')], 3)\n",
    "DisplayRDD(rdd2)"
   ]
  },
  {
   "cell_type": "markdown",
   "metadata": {},
   "source": [
    "Here is the definition of join from the programming guide.\n",
    "```\n",
    "When called on datasets of type (K, V) and (K, W), returns a dataset of (K, (V, W)) pairs with all pairs of elements for each key. Outer joins are supported through leftOuterJoin, rightOuterJoin, and fullOuterJoin. \n",
    "```\n",
    "We want to join on the first attributes, so we can just call join directly, otherwise a map may have been required."
   ]
  },
  {
   "cell_type": "code",
   "execution_count": 14,
   "metadata": {
    "ExecuteTime": {
     "end_time": "2022-11-23T09:57:31.414967Z",
     "start_time": "2022-11-23T09:57:27.215240Z"
    }
   },
   "outputs": [
    {
     "name": "stderr",
     "output_type": "stream",
     "text": [
      "                                                                                \r"
     ]
    },
    {
     "data": {
      "text/html": [
       "<table><tr><th>Partition 0<th>Partition 1<th>Partition 2<th>Partition 3<th>Partition 4<th>Partition 5</tr><tr><td><ul><li></ul></td><td valign=\"bottom\" halignt=\"left\"><ul><li></ul></td><td valign=\"bottom\" halignt=\"left\"><ul><li></ul></td><td valign=\"bottom\" halignt=\"left\"><ul><li></ul></td><td valign=\"bottom\" halignt=\"left\"><ul><li></ul></td><td valign=\"bottom\" halignt=\"left\"><ul><li>('alpha', (1, 'South Dakota'))<li>('alpha', (5, 'South Dakota'))<li>('beta', (2, 'North Dakota'))<li>('beta', (2, 'Washington'))<li>('beta', (6, 'North Dakota'))<li>('beta', (6, 'Washington'))</ul></td></table>"
      ],
      "text/plain": [
       "<__main__.DisplayRDD at 0x7f68c40fcc10>"
      ]
     },
     "execution_count": 14,
     "metadata": {},
     "output_type": "execute_result"
    }
   ],
   "source": [
    "rdd3 = rdd1.join(rdd2)\n",
    "DisplayRDD(rdd3)"
   ]
  },
  {
   "cell_type": "markdown",
   "metadata": {},
   "source": [
    "There is a bunch of empty partitions. We could have controlled the number of partitions with an optional argument to join. But in any case, the output looks like what we were trying to do. Using `outerjoins` behaves as you would expect, with two extra tuples for fullOuterJoin."
   ]
  },
  {
   "cell_type": "code",
   "execution_count": 15,
   "metadata": {
    "ExecuteTime": {
     "end_time": "2022-11-23T09:57:57.658785Z",
     "start_time": "2022-11-23T09:57:57.033854Z"
    }
   },
   "outputs": [
    {
     "data": {
      "text/html": [
       "<table><tr><th>Partition 0<th>Partition 1<th>Partition 2<th>Partition 3<th>Partition 4<th>Partition 5</tr><tr><td><ul><li></ul></td><td valign=\"bottom\" halignt=\"left\"><ul><li>('zeta', (None, 'Maryland'))</ul></td><td valign=\"bottom\" halignt=\"left\"><ul><li></ul></td><td valign=\"bottom\" halignt=\"left\"><ul><li>('gamma', (3, None))</ul></td><td valign=\"bottom\" halignt=\"left\"><ul><li></ul></td><td valign=\"bottom\" halignt=\"left\"><ul><li>('alpha', (1, 'South Dakota'))<li>('alpha', (5, 'South Dakota'))<li>('beta', (2, 'North Dakota'))<li>('beta', (2, 'Washington'))<li>('beta', (6, 'North Dakota'))<li>('beta', (6, 'Washington'))</ul></td></table>"
      ],
      "text/plain": [
       "<__main__.DisplayRDD at 0x7f68c413dd50>"
      ]
     },
     "execution_count": 15,
     "metadata": {},
     "output_type": "execute_result"
    }
   ],
   "source": [
    "DisplayRDD(rdd1.fullOuterJoin(rdd2))"
   ]
  },
  {
   "cell_type": "markdown",
   "metadata": {},
   "source": [
    "`cogroup` is a related function, but basically creates two lists with each key. The `value` in that case is more complex, and our code above can't handle it. As we can see, there is a single object corresponding to each key, and the values are basically a pair of `iterables`."
   ]
  },
  {
   "cell_type": "code",
   "execution_count": 16,
   "metadata": {
    "ExecuteTime": {
     "end_time": "2022-11-23T09:58:14.786438Z",
     "start_time": "2022-11-23T09:58:14.257129Z"
    }
   },
   "outputs": [
    {
     "data": {
      "text/html": [
       "<table><tr><th>Partition 0<th>Partition 1<th>Partition 2<th>Partition 3<th>Partition 4<th>Partition 5</tr><tr><td><ul><li></ul></td><td valign=\"bottom\" halignt=\"left\"><ul><li>('zeta', ([], ['Maryland']))</ul></td><td valign=\"bottom\" halignt=\"left\"><ul><li></ul></td><td valign=\"bottom\" halignt=\"left\"><ul><li>('gamma', ([3], []))</ul></td><td valign=\"bottom\" halignt=\"left\"><ul><li></ul></td><td valign=\"bottom\" halignt=\"left\"><ul><li>('alpha', ([1, 5], ['South Dakota']))<li>('beta', ([2, 6], ['North Dakota', 'Washington']))</ul></td></table>"
      ],
      "text/plain": [
       "<__main__.DisplayRDD at 0x7f68c410b2b0>"
      ]
     },
     "execution_count": 16,
     "metadata": {},
     "output_type": "execute_result"
    }
   ],
   "source": [
    "DisplayRDD(rdd1.cogroup(rdd2).mapValues(lambda x: (list(x[0]), list(x[1]))))"
   ]
  },
  {
   "cell_type": "markdown",
   "metadata": {},
   "source": [
    "### Basics 4: Word count\n",
    "\n",
    "Here we will run some of the commands from the README file. This uses an RDD created from the lines of README.md file. You can use the DisplayRDD function here, but the output is rather large."
   ]
  },
  {
   "cell_type": "code",
   "execution_count": 17,
   "metadata": {
    "ExecuteTime": {
     "end_time": "2022-11-23T09:58:45.023374Z",
     "start_time": "2022-11-23T09:58:44.962002Z"
    }
   },
   "outputs": [],
   "source": [
    "textFile = sc.textFile(\"README.md\", 10)"
   ]
  },
  {
   "cell_type": "code",
   "execution_count": 18,
   "metadata": {
    "ExecuteTime": {
     "end_time": "2022-11-23T09:58:46.395608Z",
     "start_time": "2022-11-23T09:58:46.009839Z"
    }
   },
   "outputs": [
    {
     "data": {
      "text/plain": [
       "140"
      ]
     },
     "execution_count": 18,
     "metadata": {},
     "output_type": "execute_result"
    }
   ],
   "source": [
    "textFile.count()"
   ]
  },
  {
   "cell_type": "code",
   "execution_count": 19,
   "metadata": {
    "ExecuteTime": {
     "end_time": "2022-11-23T09:58:47.781367Z",
     "start_time": "2022-11-23T09:58:47.632016Z"
    }
   },
   "outputs": [
    {
     "data": {
      "text/plain": [
       "['# Assignment 3: Apache Spark',\n",
       " '',\n",
       " \"The goal of this assignment is to learn how to do large-scale data analysis tasks using Apache Spark: for this assignment, we will use relatively small datasets and  we won't run anything in distributed mode; however Spark can be easily used to run the same programs on much larger datasets.\",\n",
       " '',\n",
       " '### Getting Started with Spark']"
      ]
     },
     "execution_count": 19,
     "metadata": {},
     "output_type": "execute_result"
    }
   ],
   "source": [
    "textFile.take(5)"
   ]
  },
  {
   "cell_type": "markdown",
   "metadata": {},
   "source": [
    "As described in the README file, the following command does a word count, by first separating out the words using a `flatMap`, and then using a `reduceByKey`."
   ]
  },
  {
   "cell_type": "code",
   "execution_count": 20,
   "metadata": {
    "ExecuteTime": {
     "end_time": "2022-11-23T09:59:00.462630Z",
     "start_time": "2022-11-23T09:58:59.769856Z"
    }
   },
   "outputs": [
    {
     "data": {
      "text/html": [
       "<table><tr><th>Partition 0<th>Partition 1<th>Partition 2<th>Partition 3<th>Partition 4<th>Partition 5<th>Partition 6<th>Partition 7<th>Partition 8<th>Partition 9</tr><tr><td><ul><li>('Assignment', 2)<li>('', 78)<li>('The', 16)<li>('of', 40)<li>('is', 25)<li>('run', 4)<li>('anything', 1)<li>('basically', 3)<li>('at', 6)<li>('[Apache', 1)<li>('(originally', 1)<li>('instead', 1)<li>('an', 12)<li>('output', 7)<li>('HDFS', 1)<li>('1.', 2)<li>('**Version', 1)<li>('ready', 1)<li>('languages:', 1)<li>('quick', 2)<li>('have', 2)<li>('PYSPARK_DRIVER_PYTHON_OPTS=\"notebook', 1)<li>('--no-browser', 1)<li>('Shell', 2)<li>('relevant', 1)<li>('python', 3)<li>('sc.textFile(\"README.md\")`:', 1)<li>('commands', 3)<li>('line', 6)<li>('RDD).', 1)<li>('(http://spark.apache.org/docs/latest/quick-start.html).', 1)<li>('following', 3)<li>('appears', 1)<li>('Use', 1)<li>('class,', 1)<li>('preferable,', 1)<li>('especially', 1)<li>('mode.', 1)<li>('look', 2)<li>('Programming', 1)<li>('Details', 1)<li>('initializes', 1)<li>('*', 4)<li>('consisting', 4)<li>('documents', 1)<li>('defined', 1)<li>('would', 6)<li>('input', 5)<li>('tuple', 2)<li>('initial', 1)<li>('\"user1', 1)<li>('was', 1)<li>('Easiest', 1)<li>('characters.', 1)<li>('count', 1)<li>('dictionaries).', 1)<li>('starting', 1)<li>('category', 1)<li>('(just', 1)<li>('format', 2)<li>('Try', 1)<li>('nodes', 3)<li>('graph', 2)<li>('Sample', 1)<li>('results.txt', 1)<li>('results', 1)</ul></td><td valign=\"bottom\" halignt=\"left\"><ul><li>('how', 2)<li>('analysis', 2)<li>('and', 30)<li>('much', 1)<li>('computing', 1)<li>('paradigm', 1)<li>('by', 10)<li>('Installing', 1)<li>('you', 12)<li>('download', 1)<li>('Download', 1)<li>('2.', 2)<li>('available', 1)<li>('`tar', 1)<li>('here', 3)<li>('follow', 2)<li>('standard', 2)<li>('Jupyter', 2)<li>('Notebook', 3)<li>('within', 1)<li>('directly.', 1)<li>('`$SPARKHOME/bin/pyspark`:', 1)<li>('local', 2)<li>('`sc.textFile`', 1)<li>('(which', 3)<li>('simply', 1)<li>('application.', 1)<li>('b)`', 1)<li>('functions.', 1)<li>('return', 3)<li>('sum(a,', 1)<li>('`flatmap`', 1)<li>('splits', 1)<li>('detailed', 1)<li>('Walk-Through).', 1)<li>('functions,', 2)<li>('separate', 1)<li>('write', 3)<li>('which', 1)<li>('program', 1)<li>('RDDs:', 1)<li>('user-product', 1)<li>('Dataset', 1)<li>('`functions.py`', 1)<li>('(several', 1)<li>('-', 10)<li>('**Task', 10)<li>('Write', 4)<li>('lines)', 1)<li>('product1', 1)<li>('requires', 1)<li>('average', 1)<li>('`reduceByKey`', 1)<li>('most', 1)<li>('rating.', 1)<li>('`(1995,', 1)<li>('done', 1)<li>('sanitized', 1)<li>('any', 1)<li>('selecting', 1)<li>('>10).', 1)<li>('parsed', 2)<li>('document', 1)<li>('surnames', 1)<li>('Nobel', 2)<li>('surnames.', 1)<li>('JSONs', 2)<li>('\\ttask7_result', 1)<li>('were', 1)<li>('logs', 1)<li>(\"'01/Jul/1995'\", 1)<li>('self-explanatory,', 1)<li>('need:', 1)</ul></td><td valign=\"bottom\" halignt=\"left\"><ul><li>('#', 1)<li>('Spark', 14)<li>('this', 6)<li>('we', 5)<li>('use', 12)<li>('datasets', 2)<li>('in', 20)<li>('Started', 1)<li>('new', 3)<li>('Google', 1)<li>('based', 1)<li>('created', 1)<li>('these', 2)<li>('3.2.0,', 1)<li>('downloaded', 2)<li>('directory', 2)<li>('3.', 2)<li>('supports', 1)<li>('way', 3)<li>('\\tPYSPARK_PYTHON=/usr/bin/python3', 1)<li>('8881', 1)<li>('file.', 2)<li>('array', 1)<li>('rest', 1)<li>('Count', 2)<li>('command', 2)<li>('word:', 1)<li>('textfile.flatMap(split).map(generateone).reduceByKey(sum)', 1)<li>('(we', 1)<li>('representation', 1)<li>('compact', 1)<li>('out', 4)<li>('wordcount.py`', 1)<li>('Shakespeare', 1)<li>('examples', 1)<li>('exception', 1)<li>('5.0\"', 1)<li>('reviewed.', 1)<li>('form', 2)<li>('requests', 1)<li>('teh', 1)<li>('extract', 1)<li>('LEONATO,', 1)<li>('returns', 4)<li>('already', 1)<li>('transformations', 1)<li>('print', 1)<li>('*dates*', 1)<li>('dates', 1)<li>('[NASA', 1)<li>('`amazonBipartiteRDD`).', 1)<li>('aggregateByKey)', 1)<li>('degree.', 2)<li>('`spark-submit`', 1)<li>('over).', 1)</ul></td><td valign=\"bottom\" halignt=\"left\"><ul><li>('data', 2)<li>('relatively', 2)<li>('small', 3)<li>('be', 17)<li>('found', 1)<li>('Spark](https://spark.apache.org)', 1)<li>('cluster', 1)<li>('2-stage', 1)<li>('system);', 1)<li>('items,', 1)<li>('variety', 1)<li>('or', 5)<li>('RDDs', 2)<li>('website.', 1)<li>('package', 1)<li>('it', 13)<li>('(modify', 1)<li>('Scala', 2)<li>('(Spark', 1)<li>('--', 2)<li>('To', 2)<li>('\\t```', 2)<li>('--port=8881\"', 1)<li>('also', 6)<li>('about', 2)<li>('doing).', 1)<li>('initialized', 1)<li>('called', 1)<li>('`textFile`,', 1)<li>('reading', 1)<li>('output.', 1)<li>('without', 1)<li>('cluster.', 1)<li>('runs', 1)<li>('`$SPARKHOME/bin/spark-submit', 2)<li>('ratings', 1)<li>('(`amazon-ratings.txt`)', 1)<li>('Noble', 1)<li>('few', 1)<li>('RDDs.', 1)<li>('removing', 1)<li>('first', 4)<li>('Complete', 3)<li>('computes', 3)<li>('rating', 3)<li>('2.87)`', 1)<li>('(not', 2)<li>('followed', 4)<li>('So', 2)<li>('outputs', 1)<li>('In', 2)<li>('parse', 1)<li>('(this', 1)<li>('Make', 2)<li>('so', 1)<li>('PairRDD', 2)<li>('not', 1)<li>('strings,', 1)<li>('entries', 1)<li>('easier', 1)<li>('develop', 1)<li>('(by', 1)</ul></td><td valign=\"bottom\" halignt=\"left\"><ul><li>('easily', 1)<li>('###', 9)<li>('excellent', 2)<li>('tutorials', 1)<li>('[Spark', 2)<li>('website](http://spark.apache.org).', 1)<li>('developed', 1)<li>('open-source', 1)<li>('provides', 1)<li>('set', 1)<li>('more', 3)<li>('RDD,', 2)<li>('are', 10)<li>('Since', 1)<li>('large,', 1)<li>('ask', 1)<li>('uncompress', 1)<li>('`spark-3.2.0-bin-hadoop3.2/`.', 1)<li>('Python', 7)<li>('Scala),', 1)<li>('instructions', 1)<li>('languages.', 1)<li>('very', 1)<li>('verbose', 1)<li>('follow.', 1)<li>('(and', 1)<li>('--ip=0.0.0.0', 1)<li>('make', 1)<li>('just', 4)<li>('=', 3)<li>('(word,', 2)<li>('`lambda`', 2)<li>('b', 1)<li>('Tutorial](http://hadoop.apache.org/docs/r1.2.1/mapred_tutorial.html#Source+Code)', 1)<li>('last', 2)<li>('`maps`', 1)<li>('common', 1)<li>('there', 1)<li>('`task5_flatmap`', 1)<li>('playRDD', 1)<li>('value', 3)<li>('8**:', 1)<li>('surnames).', 1)<li>('class', 1)<li>('(if', 1)<li>('appear', 1)<li>(\"'02/Jul/1995').\", 1)<li>('details', 1)</ul></td><td valign=\"bottom\" halignt=\"left\"><ul><li>('3:', 1)<li>('to', 33)<li>('learn', 1)<li>('large-scale', 1)<li>('Spark:', 1)<li>('assignment,', 1)<li>(\"won't\", 1)<li>('distributed', 3)<li>('on', 7)<li>('Getting', 1)<li>('Berkeley.', 1)<li>('generalizes', 1)<li>('Map-Reduce', 2)<li>('Hadoop', 3)<li>('(RDDs)**.', 1)<li>('ways.', 1)<li>('one', 2)<li>('written', 2)<li>('chains', 1)<li>('ecosystem,', 1)<li>('directly', 1)<li>('(so', 1)<li>('`export', 1)<li>('appropriately', 1)<li>('if', 2)<li>('else).', 1)<li>('equivalent', 1)<li>('code', 5)<li>('play', 3)<li>('PYSPARK_DRIVER_PYTHON=\"jupyter\"', 1)<li>('You', 6)<li>('stuff', 1)<li>('variables', 1)<li>('textFile', 1)<li>('see', 2)<li>('prints', 1)<li>('5', 1)<li>('(in', 1)<li>('shell)', 1)<li>('does', 1)<li>('word', 4)<li>('count,', 1)<li>('i.e.,', 2)<li>('number', 8)<li>('+', 2)<li>('```', 4)<li>('`map`', 3)<li>('discuss', 1)<li>('Running', 1)<li>('file,', 2)<li>('contains', 2)<li>('Guide](https://spark.apache.org/docs/latest/programming-guide.html)', 1)<li>('manipulation', 1)<li>('should', 8)<li>('interfaces.', 1)<li>('lines', 3)<li>('2-tuples', 2)<li>('Amazon', 2)<li>('all', 6)<li>('one.', 1)<li>('1**:', 1)<li>('function', 8)<li>('takes', 6)<li>('while', 1)<li>('`map`.', 2)<li>('2**:', 1)<li>('products', 2)<li>('`(user1,', 1)<li>('`aggregateByKey`', 1)<li>('product', 1)<li>('users', 1)<li>('`groupByKey`', 1)<li>('map', 1)<li>('For', 1)<li>('`[Enter,', 1)<li>('and,', 1)<li>('6**:', 1)<li>('filter', 1)<li>('10.', 1)<li>('key', 3)<li>('2-tuple,', 1)<li>('second', 1)<li>('Laureates.', 1)<li>('`json.loads`', 1)<li>('etc),', 1)<li>('their', 1)<li>('values', 1)<li>('`take(5)`,', 1)<li>('lists).', 1)<li>('Logs](http://ita.ee.lbl.gov/html/contrib/NASA-HTTP.html)', 1)<li>('has', 1)<li>('reduceByKey', 1)<li>('degree,', 1)<li>('File', 1)</ul></td><td valign=\"bottom\" halignt=\"left\"><ul><li>('Apache', 2)<li>('goal', 1)<li>('do', 6)<li>('using', 2)<li>('mode;', 1)<li>('however', 1)<li>('larger', 1)<li>('It', 3)<li>('**resilient', 1)<li>('collection', 1)<li>('operations', 2)<li>('operations.', 1)<li>('resource', 1)<li>('distribution', 2)<li>('http://spark.apache.org/downloads.html.', 1)<li>('`Assignment-3/`', 1)<li>('using:', 2)<li>('spark-3.2.0-bin-hadoop3.2.tgz`', 1)<li>('Set', 1)<li>('SPARKHOME', 1)<li>('primarily', 1)<li>('three', 1)<li>('Java,', 1)<li>('start', 3)<li>('other', 5)<li>('Java', 2)<li>('shell.', 2)<li>('sure', 3)<li>('work.', 1)<li>('PySpark', 2)<li>('shell', 1)<li>('but', 5)<li>('####', 1)<li>('counts', 3)<li>('`README.md`.', 1)<li>('\")).map(lambda', 1)<li>('generateone(word):', 1)<li>('b):', 1)<li>('`project5`', 1)<li>('try', 1)<li>('folllowing', 1)<li>('(`play.txt`)', 1)<li>('years', 1)<li>('(starting', 1)<li>('amount', 1)<li>('typically', 1)<li>('descriptor,', 1)<li>('`(1,', 1)<li>('5.0)`.', 1)<li>('single', 1)<li>('`mode`', 1)<li>('ties,', 1)<li>('`mode`.', 1)<li>('years,', 1)<li>('group', 1)<li>('5**:', 1)<li>('individual', 1)<li>('list:', 1)<li>('with,', 1)<li>('finds', 1)<li>('probably', 1)<li>('(https://docs.python.org/2/library/json.html)', 1)<li>('sequence', 1)<li>('`list`s,', 1)<li>('`logsRDD`.', 1)<li>('dates.', 1)<li>('minimize', 1)<li>('10**:', 1)<li>('calculate', 2)<li>('copying', 1)<li>('assignment.py`', 1)</ul></td><td valign=\"bottom\" halignt=\"left\"><ul><li>('assignment', 1)<li>('for', 15)<li>('will', 10)<li>('the', 121)<li>('same', 3)<li>('summary', 1)<li>('that', 20)<li>('RDD', 15)<li>('transform', 1)<li>('file', 7)<li>('system', 1)<li>('manager.', 1)<li>('We', 7)<li>('3.3', 1)<li>('later**.', 1)<li>(\"'/data/Assignment-3'),\", 1)<li>('create', 3)<li>('directory:', 1)<li>('SPARKHOME=/data/Assignment-3/spark-3.2.0-bin-hadoop3.2/`', 1)<li>('interface', 1)<li>('--allow-root', 1)<li>('(it', 1)<li>('otherwise', 1)<li>('`>>>', 2)<li>('creates', 1)<li>('per', 1)<li>('some', 3)<li>('Application', 2)<li>('pyspark', 1)<li>('times', 1)<li>('each', 10)<li>('`counts.take(5)`', 1)<li>('def', 3)<li>('\")', 1)<li>('1)', 1)<li>('words,', 3)<li>('[Hadoop', 1)<li>('your', 1)<li>('*submit*', 1)<li>('encourage', 1)<li>('provided', 2)<li>('file:', 1)<li>('`spark_assignment.py`,', 1)<li>('indicating', 1)<li>('JSON', 2)<li>('Laureates', 2)<li>('`task`).', 1)<li>('one-liners),', 1)<li>('user', 4)<li>('across', 2)<li>('they', 2)<li>('3**:', 1)<li>('product).', 1)<li>('If', 1)<li>('compute', 1)<li>('year.', 1)<li>('records', 1)<li>('HERO,', 1)<li>('Messenger]`.', 1)<li>('words.', 1)<li>('then', 2)<li>('being', 2)<li>('Simplest', 1)<li>('`prize.json`)', 1)<li>('done).', 1)<li>('inside', 1)<li>('(these', 1)<li>('nobelRDD.map(json.loads).flatMap(task2_flatmap)', 1)<li>('(`physics`', 1)<li>('objects', 1)<li>('9**:', 1)<li>('present', 1)<li>('up', 1)<li>('node', 1)<li>('rated),', 1)<li>('find', 1)<li>('running', 1)</ul></td><td valign=\"bottom\" halignt=\"left\"><ul><li>('tasks', 3)<li>('used', 2)<li>('programs', 1)<li>('datasets.', 1)<li>('guide', 2)<li>('originally', 1)<li>('UC', 1)<li>('significantly', 1)<li>('proposed', 1)<li>('into', 2)<li>('as', 9)<li>('Spark.', 1)<li>('Python.', 1)<li>('below', 1)<li>('do:', 2)<li>('$SPARKHOME/bin/pyspark', 1)<li>('bunch', 1)<li>('shell,', 2)<li>('`textFile.first()`,', 1)<li>('`textFile.take(5)`', 1)<li>('items', 1)<li>('recommend', 1)<li>('line.split(\"', 2)<li>('1)).reduceByKey(lambda', 1)<li>('b:', 1)<li>('split(line):', 1)<li>('counting', 1)<li>('description:', 1)<li>('large', 1)<li>('program,', 1)<li>('More...', 1)<li>('(`NASA_logs_sample.txt`)', 1)<li>('(`prize.json`)', 1)<li>('fill', 1)<li>('8', 1)<li>('functions', 1)<li>('1,', 1)<li>('correct', 2)<li>('higher', 1)<li>('2952)`', 1)<li>('aggregate.', 1)<li>('flatmap', 2)<li>('`playRDD`', 1)<li>('line,', 5)<li>('remove', 1)<li>('3rd', 1)<li>('BEATRICE,', 1)<li>('only', 1)<li>('where', 4)<li>('>', 1)<li>('must', 1)<li>('`filter`.', 1)<li>('7**:', 1)<li>('(`task7_flatmap`)', 1)<li>('know', 1)<li>('nested', 1)<li>('\"hosts\"', 1)<li>('(e.g.,', 1)<li>('end', 1)<li>('`pyspark`', 1)<li>('**results.txt**', 1)</ul></td><td valign=\"bottom\" halignt=\"left\"><ul><li>('can', 13)<li>('with', 12)<li>('This', 8)<li>('a', 45)<li>('framework,', 1)<li>('popularized', 1)<li>('abstraction', 1)<li>('An', 5)<li>('including', 1)<li>('YARN', 1)<li>('from', 7)<li>('Pre-built', 1)<li>('Move', 1)<li>('zxvf', 1)<li>('4.', 2)<li>('variable:', 1)<li>('somewhere', 1)<li>('tutorial', 1)<li>('(http://spark.apache.org/docs/latest/quick-start.html)', 1)<li>('hard', 1)<li>('shows', 2)<li>('through', 2)<li>('provided),', 1)<li>('need', 1)<li>('mapping', 1)<li>('port', 1)<li>('what', 2)<li>('containing', 2)<li>('entry', 1)<li>('information', 2)<li>('doing', 1)<li>('`textFile.count()`', 1)<li>('Here', 2)<li>('Word', 2)<li>('textFile.flatMap(lambda', 1)<li>('line:', 1)<li>('a,', 2)<li>('`reduce`', 1)<li>('(look', 1)<li>('better', 1)<li>('definitions.', 1)<li>('Instead', 1)<li>('spark', 1)<li>('`wordcount.py`,', 1)<li>('commands.', 1)<li>('log', 4)<li>('pertaining', 1)<li>('over', 1)<li>('Your', 1)<li>('`amazonInputRDD`', 3)<li>('gets', 1)<li>('mapped', 1)<li>('answer).', 2)<li>('either', 1)<li>('(i.e.,', 3)<li>('pick', 1)<li>('4**:', 1)<li>('`logsRDD`,', 1)<li>('operates', 2)<li>('words', 3)<li>('non-alphanumerical', 1)<li>('(from', 1)<li>('access', 1)<li>('prizeRDD', 1)<li>('`category`', 1)<li>('list', 2)<li>('final', 1)<li>('those', 1)<li>('creating.', 1)<li>('degree', 2)<li>('(or', 1)<li>('given', 1)<li>('`spark_assignment.py`', 2)<li>('our', 1)</ul></td></table>"
      ],
      "text/plain": [
       "<__main__.DisplayRDD at 0x7f68c4125840>"
      ]
     },
     "execution_count": 20,
     "metadata": {},
     "output_type": "execute_result"
    }
   ],
   "source": [
    "counts = textFile.flatMap(lambda line: line.split(\" \")).map(lambda word: (word, 1)).reduceByKey(lambda a, b: a + b)\n",
    "DisplayRDD(counts)"
   ]
  },
  {
   "cell_type": "code",
   "execution_count": null,
   "metadata": {},
   "outputs": [],
   "source": []
  }
 ],
 "metadata": {
  "kernelspec": {
   "display_name": "Python 3 (ipykernel)",
   "language": "python",
   "name": "python3"
  },
  "language_info": {
   "codemirror_mode": {
    "name": "ipython",
    "version": 3
   },
   "file_extension": ".py",
   "mimetype": "text/x-python",
   "name": "python",
   "nbconvert_exporter": "python",
   "pygments_lexer": "ipython3",
   "version": "3.10.6"
  },
  "toc": {
   "base_numbering": 1,
   "nav_menu": {},
   "number_sections": true,
   "sideBar": true,
   "skip_h1_title": false,
   "title_cell": "Table of Contents",
   "title_sidebar": "Contents",
   "toc_cell": false,
   "toc_position": {},
   "toc_section_display": false,
   "toc_window_display": true
  }
 },
 "nbformat": 4,
 "nbformat_minor": 1
}
