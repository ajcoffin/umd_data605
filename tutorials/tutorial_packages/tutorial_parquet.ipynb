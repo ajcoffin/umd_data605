{
 "cells": [
  {
   "cell_type": "markdown",
   "id": "895cb286",
   "metadata": {},
   "source": [
    "Show Parquet / Pyarrow API."
   ]
  },
  {
   "cell_type": "markdown",
   "id": "b068d525",
   "metadata": {},
   "source": [
    "## Imports"
   ]
  },
  {
   "cell_type": "code",
   "execution_count": 1,
   "id": "8f46ec68",
   "metadata": {
    "ExecuteTime": {
     "end_time": "2023-02-06T10:01:05.881317Z",
     "start_time": "2023-02-06T10:01:04.467486Z"
    }
   },
   "outputs": [],
   "source": [
    "import os\n",
    "import random\n",
    "\n",
    "import pandas as pd\n",
    "import pyarrow as pa\n",
    "import pyarrow.dataset as ds\n",
    "import pyarrow.parquet as pq"
   ]
  },
  {
   "cell_type": "code",
   "execution_count": 16,
   "id": "215ff89e",
   "metadata": {
    "ExecuteTime": {
     "end_time": "2023-02-06T10:05:39.597412Z",
     "start_time": "2023-02-06T10:05:39.574401Z"
    }
   },
   "outputs": [
    {
     "data": {
      "text/html": [
       "<div>\n",
       "<style scoped>\n",
       "    .dataframe tbody tr th:only-of-type {\n",
       "        vertical-align: middle;\n",
       "    }\n",
       "\n",
       "    .dataframe tbody tr th {\n",
       "        vertical-align: top;\n",
       "    }\n",
       "\n",
       "    .dataframe thead th {\n",
       "        text-align: right;\n",
       "    }\n",
       "</style>\n",
       "<table border=\"1\" class=\"dataframe\">\n",
       "  <thead>\n",
       "    <tr style=\"text-align: right;\">\n",
       "      <th></th>\n",
       "      <th>idx</th>\n",
       "      <th>instr</th>\n",
       "      <th>val1</th>\n",
       "      <th>val2</th>\n",
       "    </tr>\n",
       "  </thead>\n",
       "  <tbody>\n",
       "    <tr>\n",
       "      <th>2000-01-01</th>\n",
       "      <td>0</td>\n",
       "      <td>A</td>\n",
       "      <td>99</td>\n",
       "      <td>30</td>\n",
       "    </tr>\n",
       "    <tr>\n",
       "      <th>2000-01-02</th>\n",
       "      <td>0</td>\n",
       "      <td>A</td>\n",
       "      <td>54</td>\n",
       "      <td>46</td>\n",
       "    </tr>\n",
       "    <tr>\n",
       "      <th>2000-01-03</th>\n",
       "      <td>0</td>\n",
       "      <td>A</td>\n",
       "      <td>85</td>\n",
       "      <td>86</td>\n",
       "    </tr>\n",
       "    <tr>\n",
       "      <th>2000-01-04</th>\n",
       "      <td>0</td>\n",
       "      <td>A</td>\n",
       "      <td>97</td>\n",
       "      <td>62</td>\n",
       "    </tr>\n",
       "    <tr>\n",
       "      <th>2000-01-05</th>\n",
       "      <td>0</td>\n",
       "      <td>A</td>\n",
       "      <td>12</td>\n",
       "      <td>25</td>\n",
       "    </tr>\n",
       "    <tr>\n",
       "      <th>...</th>\n",
       "      <td>...</td>\n",
       "      <td>...</td>\n",
       "      <td>...</td>\n",
       "      <td>...</td>\n",
       "    </tr>\n",
       "    <tr>\n",
       "      <th>2000-01-11</th>\n",
       "      <td>4</td>\n",
       "      <td>E</td>\n",
       "      <td>59</td>\n",
       "      <td>9</td>\n",
       "    </tr>\n",
       "    <tr>\n",
       "      <th>2000-01-12</th>\n",
       "      <td>4</td>\n",
       "      <td>E</td>\n",
       "      <td>48</td>\n",
       "      <td>17</td>\n",
       "    </tr>\n",
       "    <tr>\n",
       "      <th>2000-01-13</th>\n",
       "      <td>4</td>\n",
       "      <td>E</td>\n",
       "      <td>50</td>\n",
       "      <td>70</td>\n",
       "    </tr>\n",
       "    <tr>\n",
       "      <th>2000-01-14</th>\n",
       "      <td>4</td>\n",
       "      <td>E</td>\n",
       "      <td>66</td>\n",
       "      <td>34</td>\n",
       "    </tr>\n",
       "    <tr>\n",
       "      <th>2000-01-15</th>\n",
       "      <td>4</td>\n",
       "      <td>E</td>\n",
       "      <td>3</td>\n",
       "      <td>26</td>\n",
       "    </tr>\n",
       "  </tbody>\n",
       "</table>\n",
       "<p>75 rows × 4 columns</p>\n",
       "</div>"
      ],
      "text/plain": [
       "            idx instr  val1  val2\n",
       "2000-01-01    0     A    99    30\n",
       "2000-01-02    0     A    54    46\n",
       "2000-01-03    0     A    85    86\n",
       "2000-01-04    0     A    97    62\n",
       "2000-01-05    0     A    12    25\n",
       "...         ...   ...   ...   ...\n",
       "2000-01-11    4     E    59     9\n",
       "2000-01-12    4     E    48    17\n",
       "2000-01-13    4     E    50    70\n",
       "2000-01-14    4     E    66    34\n",
       "2000-01-15    4     E     3    26\n",
       "\n",
       "[75 rows x 4 columns]"
      ]
     },
     "execution_count": 16,
     "metadata": {},
     "output_type": "execute_result"
    }
   ],
   "source": [
    "def get_df(num_days: int = 15) -> pd.DataFrame:\n",
    "    \"\"\"\n",
    "    Create Pandas random data, like:\n",
    "\n",
    "    ```\n",
    "                idx instr  val1  val2\n",
    "    2000-01-01    0     A    99    30\n",
    "    2000-01-02    0     A    54    46\n",
    "    2000-01-03    0     A    85    86\n",
    "    ```\n",
    "    \"\"\"\n",
    "    instruments = \"A B C D E\".split()\n",
    "    start_idx = pd.Timestamp(\"2000-01-01\")\n",
    "    end_idx = start_idx + pd.Timedelta(days=num_days - 1)\n",
    "    df_idx = pd.date_range(\n",
    "        start_idx, end_idx, freq=\"1D\"\n",
    "    )\n",
    "    # print(df_idx)\n",
    "    random.seed(1000)\n",
    "    df = []\n",
    "    for idx, inst in enumerate(instruments):\n",
    "        df_tmp = pd.DataFrame(\n",
    "            {\n",
    "                \"idx\": idx,\n",
    "                \"instr\": inst,\n",
    "                \"val1\": [random.randint(0, 100) for k in range(len(df_idx))],\n",
    "                \"val2\": [random.randint(0, 100) for k in range(len(df_idx))],\n",
    "            },\n",
    "            index=df_idx,\n",
    "        )\n",
    "        # print(df_tmp)\n",
    "        df.append(df_tmp)\n",
    "    df = pd.concat(df)\n",
    "    return df\n",
    "\n",
    "get_df()"
   ]
  },
  {
   "cell_type": "code",
   "execution_count": 80,
   "id": "8e8235d0",
   "metadata": {
    "ExecuteTime": {
     "end_time": "2023-02-06T10:22:22.878328Z",
     "start_time": "2023-02-06T10:22:22.872963Z"
    }
   },
   "outputs": [],
   "source": [
    "def df_to_str(df: pd.DataFrame) -> str:\n",
    "    txt = \"\"\n",
    "    txt += \"# df=\\n%s\" % df.head(3)\n",
    "    txt += \"\\n...\\n\"\n",
    "    # Remove first line with index.\n",
    "    txt += \"\\n\".join(str(df.tail(3)).split(\"\\n\")[1:])\n",
    "    txt += \"\\n# df.shape=\\n%s\" % str(df.shape)\n",
    "    txt += \"\\n# df.dtypes=\\n%s\" % str(df.dtypes)\n",
    "    return txt"
   ]
  },
  {
   "cell_type": "markdown",
   "id": "17cc474b",
   "metadata": {},
   "source": [
    "# Save and load all data in one file"
   ]
  },
  {
   "cell_type": "code",
   "execution_count": 78,
   "id": "cb399156",
   "metadata": {
    "ExecuteTime": {
     "end_time": "2023-02-06T10:22:09.512849Z",
     "start_time": "2023-02-06T10:22:09.494304Z"
    }
   },
   "outputs": [
    {
     "name": "stdout",
     "output_type": "stream",
     "text": [
      "# df=\n",
      "            idx instr  val1  val2\n",
      "2000-01-01    0     A    99    30\n",
      "2000-01-02    0     A    54    46\n",
      "2000-01-03    0     A    85    86\n",
      "...\n",
      "2000-01-13    4     E    50    70\n",
      "2000-01-14    4     E    66    34\n",
      "2000-01-15    4     E     3    26\n",
      "# df.shape=\n",
      "(75, 4)\n",
      "# df.dtypes=\n",
      "idx       int64\n",
      "instr    object\n",
      "val1      int64\n",
      "val2      int64\n",
      "dtype: object\n"
     ]
    }
   ],
   "source": [
    "df = get_df()\n",
    "print(df_to_str(df))"
   ]
  },
  {
   "cell_type": "code",
   "execution_count": 81,
   "id": "25610380",
   "metadata": {
    "ExecuteTime": {
     "end_time": "2023-02-06T10:22:37.089479Z",
     "start_time": "2023-02-06T10:22:36.954443Z"
    }
   },
   "outputs": [
    {
     "name": "stdout",
     "output_type": "stream",
     "text": [
      "-rw-r--r-- 1 root root 1.6K Feb  6 10:22 df.csv\r\n"
     ]
    }
   ],
   "source": [
    "df.to_csv(\"df.csv\")\n",
    "\n",
    "!ls -lh df.csv"
   ]
  },
  {
   "cell_type": "code",
   "execution_count": 39,
   "id": "940dc7d2",
   "metadata": {
    "ExecuteTime": {
     "end_time": "2023-02-06T10:10:46.191141Z",
     "start_time": "2023-02-06T10:10:46.179972Z"
    }
   },
   "outputs": [
    {
     "name": "stdout",
     "output_type": "stream",
     "text": [
      "# table=\n",
      "pyarrow.Table\n",
      "idx: int64\n",
      "instr: string\n",
      "val1: int64\n",
      "val2: int64\n",
      "__index_level_0__: timestamp[ns]\n",
      "----\n",
      "idx: [[0,0,0,0,0,...,4,4,4,4,4]]\n",
      "instr: [[\"A\",\"A\",\"A\",\"A\",\"A\",...,\"E\",\"E\",\"E\",\"E\",\"E\"]]\n",
      "val1: [[99,54,85,97,12,...,59,48,50,66,3]]\n",
      "val2: [[30,46,86,62,25,...,9,17,70,34,26]]\n",
      "__index_level_0__: [[2000-01-01 00:00:00.000000000,2000-01-02 00:00:00.000000000,2000-01-03 00:00:00.000000000,2000-01-04 00:00:00.000000000,2000-01-05 00:00:00.000000000,...,2000-01-11 00:00:00.000000000,2000-01-12 00:00:00.000000000,2000-01-13 00:00:00.000000000,2000-01-14 00:00:00.000000000,2000-01-15 00:00:00.000000000]]\n"
     ]
    }
   ],
   "source": [
    "# Transform a Pandas df into a Python Arrow object.\n",
    "table = pa.Table.from_pandas(df)\n",
    "\n",
    "print(\"# table=\\n%s\" % table)"
   ]
  },
  {
   "cell_type": "code",
   "execution_count": 40,
   "id": "93df67fc",
   "metadata": {
    "ExecuteTime": {
     "end_time": "2023-02-06T10:10:49.993570Z",
     "start_time": "2023-02-06T10:10:49.819867Z"
    }
   },
   "outputs": [
    {
     "name": "stdout",
     "output_type": "stream",
     "text": [
      "-rw-r--r-- 1 root root 4.7K Feb  6 10:10 df_in_one_file.pq\r\n"
     ]
    }
   ],
   "source": [
    "# Save.\n",
    "file_name = \"df_in_one_file.pq\"\n",
    "pq.write_table(table, file_name)\n",
    "\n",
    "!ls -lh df_in_one_file.pq"
   ]
  },
  {
   "cell_type": "code",
   "execution_count": 41,
   "id": "155e36c0",
   "metadata": {
    "ExecuteTime": {
     "end_time": "2023-02-06T10:10:53.937236Z",
     "start_time": "2023-02-06T10:10:53.912330Z"
    }
   },
   "outputs": [
    {
     "name": "stdout",
     "output_type": "stream",
     "text": [
      "# df=\n",
      "            idx instr  val1  val2\n",
      "2000-01-01    0     A    99    30\n",
      "2000-01-02    0     A    54    46\n",
      "2000-01-03    0     A    85    86\n",
      "# df.shape=\n",
      "(75, 4)\n",
      "# df.dtypes=\n",
      "idx       int64\n",
      "instr    object\n",
      "val1      int64\n",
      "val2      int64\n",
      "dtype: object\n"
     ]
    }
   ],
   "source": [
    "# Load.\n",
    "df2 = pq.read_table(file_name)\n",
    "\n",
    "# Convert to Pandas: types are conserved.\n",
    "df2 = df2.to_pandas()\n",
    "print(df_to_str(df2))"
   ]
  },
  {
   "cell_type": "markdown",
   "id": "b65d2874",
   "metadata": {},
   "source": [
    "## Scalability"
   ]
  },
  {
   "cell_type": "code",
   "execution_count": 35,
   "id": "3a5fb460",
   "metadata": {
    "ExecuteTime": {
     "end_time": "2023-02-06T10:10:38.845261Z",
     "start_time": "2023-02-06T10:10:36.156283Z"
    }
   },
   "outputs": [
    {
     "name": "stdout",
     "output_type": "stream",
     "text": [
      "# num_rows= 15\n",
      "-rw-r--r-- 1 root root 1.6K Feb  6 10:10 df_tmp.csv\n",
      "-rw-r--r-- 1 root root 241K Feb  6 10:10 df.csv.gz\n",
      "-rw-r--r-- 1 root root 223K Feb  6 10:10 df_in_one_file.pq\n",
      "# num_rows= 100\n",
      "-rw-r--r-- 1 root root 11K Feb  6 10:10 df_tmp.csv\n",
      "-rw-r--r-- 1 root root 241K Feb  6 10:10 df.csv.gz\n",
      "-rw-r--r-- 1 root root 223K Feb  6 10:10 df_in_one_file.pq\n",
      "# num_rows= 1000\n",
      "-rw-r--r-- 1 root root 102K Feb  6 10:10 df_tmp.csv\n",
      "-rw-r--r-- 1 root root 241K Feb  6 10:10 df.csv.gz\n",
      "-rw-r--r-- 1 root root 223K Feb  6 10:10 df_in_one_file.pq\n",
      "# num_rows= 10000\n",
      "-rw-r--r-- 1 root root 1017K Feb  6 10:10 df_tmp.csv\n",
      "-rw-r--r-- 1 root root 241K Feb  6 10:10 df.csv.gz\n",
      "-rw-r--r-- 1 root root 223K Feb  6 10:10 df_in_one_file.pq\n"
     ]
    }
   ],
   "source": [
    "for num_rows in (15, 100, 1000, 10000):\n",
    "    print(\"# num_rows=\", num_rows)\n",
    "    #\n",
    "    df = get_df(num_rows)\n",
    "    df.to_csv(\"df_tmp.csv\")\n",
    "    !ls -lh df_tmp.csv\n",
    "    #\n",
    "    df.to_csv(\"df_tmp.csv.gz\")\n",
    "    !ls -lh df.csv.gz\n",
    "    #\n",
    "    file_name = \"df_tmp_in_one_file.pq\"\n",
    "    table = pa.Table.from_pandas(df)\n",
    "    pq.write_table(table, file_name)\n",
    "    !ls -lh df_in_one_file.pq"
   ]
  },
  {
   "cell_type": "markdown",
   "id": "1098757c",
   "metadata": {},
   "source": [
    "## Read a subset of columns"
   ]
  },
  {
   "cell_type": "code",
   "execution_count": 43,
   "id": "6f4a652f",
   "metadata": {
    "ExecuteTime": {
     "end_time": "2023-02-06T10:11:06.716656Z",
     "start_time": "2023-02-06T10:11:06.697295Z"
    }
   },
   "outputs": [
    {
     "name": "stdout",
     "output_type": "stream",
     "text": [
      "# df=\n",
      "   idx  val1\n",
      "0    0    99\n",
      "1    0    54\n",
      "2    0    85\n",
      "# df.shape=\n",
      "(75, 2)\n",
      "# df.dtypes=\n",
      "idx     int64\n",
      "val1    int64\n",
      "dtype: object\n"
     ]
    }
   ],
   "source": [
    "# Load only two columns.\n",
    "df2 = pq.read_table(file_name, columns=[\"idx\", \"val1\"])\n",
    "#print(df2)\n",
    "\n",
    "df2 = df2.to_pandas()\n",
    "print(df_to_str(df2))"
   ]
  },
  {
   "cell_type": "markdown",
   "id": "012cebdb",
   "metadata": {},
   "source": [
    "# Partitioned dataset\n",
    "\n",
    "from https://arrow.apache.org/docs/python/dataset.html#reading-partitioned-data\n",
    "\n",
    "- A dataset can exploit a nested structure, where the sub-dir names hold information about which subset of the data is stored in that dir\n",
    "- E.g., \"hive\" partitioning scheme \"key=vale\" dir names"
   ]
  },
  {
   "cell_type": "code",
   "execution_count": 89,
   "id": "ca26642e",
   "metadata": {
    "ExecuteTime": {
     "end_time": "2023-02-06T10:24:28.297291Z",
     "start_time": "2023-02-06T10:24:28.278628Z"
    }
   },
   "outputs": [
    {
     "name": "stdout",
     "output_type": "stream",
     "text": [
      "# df=\n",
      "            idx instr  val1  val2\n",
      "2000-01-01    0     A    99    30\n",
      "2000-01-02    0     A    54    46\n",
      "2000-01-03    0     A    85    86\n",
      "...\n",
      "2000-01-13    4     E    50    70\n",
      "2000-01-14    4     E    66    34\n",
      "2000-01-15    4     E     3    26\n",
      "# df.shape=\n",
      "(75, 4)\n",
      "# df.dtypes=\n",
      "idx       int64\n",
      "instr    object\n",
      "val1      int64\n",
      "val2      int64\n",
      "dtype: object\n"
     ]
    }
   ],
   "source": [
    "df = get_df()\n",
    "#display(df)\n",
    "print(df_to_str(df))"
   ]
  },
  {
   "cell_type": "code",
   "execution_count": 107,
   "id": "7cae349f",
   "metadata": {
    "ExecuteTime": {
     "end_time": "2023-02-06T10:27:13.833212Z",
     "start_time": "2023-02-06T10:27:13.591468Z"
    }
   },
   "outputs": [
    {
     "name": "stdout",
     "output_type": "stream",
     "text": [
      "./pq_partitioned1\r\n",
      "./pq_partitioned1/idx=0\r\n",
      "./pq_partitioned1/idx=0/d287f659e7e54d1f886494532187eb03-0.parquet\r\n",
      "./pq_partitioned1/idx=1\r\n",
      "./pq_partitioned1/idx=1/d287f659e7e54d1f886494532187eb03-0.parquet\r\n",
      "./pq_partitioned1/idx=2\r\n",
      "./pq_partitioned1/idx=2/d287f659e7e54d1f886494532187eb03-0.parquet\r\n",
      "./pq_partitioned1/idx=3\r\n",
      "./pq_partitioned1/idx=3/d287f659e7e54d1f886494532187eb03-0.parquet\r\n",
      "./pq_partitioned1/idx=4\r\n",
      "./pq_partitioned1/idx=4/d287f659e7e54d1f886494532187eb03-0.parquet\r\n"
     ]
    }
   ],
   "source": [
    "# Clean up dir.\n",
    "base = \".\"\n",
    "dir_name = os.path.join(base, \"pq_partitioned1\")\n",
    "os.system(\"rm -rf %s\" % dir_name)\n",
    "\n",
    "# Save data in a partitioned ways using `idx` as partitioning key.\n",
    "table = pa.Table.from_pandas(df)\n",
    "pq.write_to_dataset(table, dir_name, partition_cols=[\"idx\"])\n",
    "\n",
    "!find {dir_name}"
   ]
  },
  {
   "cell_type": "code",
   "execution_count": 96,
   "id": "ac82b5ad",
   "metadata": {
    "ExecuteTime": {
     "end_time": "2023-02-06T10:25:22.727304Z",
     "start_time": "2023-02-06T10:25:22.705508Z"
    }
   },
   "outputs": [
    {
     "name": "stdout",
     "output_type": "stream",
     "text": [
      "./pq_partitioned1/idx=0/26957e442e9548e79e15923b40b336a5-0.parquet\n",
      "./pq_partitioned1/idx=1/26957e442e9548e79e15923b40b336a5-0.parquet\n",
      "./pq_partitioned1/idx=2/26957e442e9548e79e15923b40b336a5-0.parquet\n",
      "./pq_partitioned1/idx=3/26957e442e9548e79e15923b40b336a5-0.parquet\n",
      "./pq_partitioned1/idx=4/26957e442e9548e79e15923b40b336a5-0.parquet\n"
     ]
    }
   ],
   "source": [
    "# Read data back.\n",
    "dataset = ds.dataset(dir_name, format=\"parquet\", partitioning=\"hive\")\n",
    "print(\"\\n\".join(dataset.files))"
   ]
  },
  {
   "cell_type": "code",
   "execution_count": 97,
   "id": "64394b7f",
   "metadata": {
    "ExecuteTime": {
     "end_time": "2023-02-06T10:25:26.317333Z",
     "start_time": "2023-02-06T10:25:26.294684Z"
    }
   },
   "outputs": [
    {
     "name": "stdout",
     "output_type": "stream",
     "text": [
      "# df=\n",
      "           instr  val1  val2  idx\n",
      "2000-01-01     A    99    30    0\n",
      "2000-01-02     A    54    46    0\n",
      "2000-01-03     A    85    86    0\n",
      "...\n",
      "2000-01-13     E    50    70    4\n",
      "2000-01-14     E    66    34    4\n",
      "2000-01-15     E     3    26    4\n",
      "# df.shape=\n",
      "(75, 4)\n",
      "# df.dtypes=\n",
      "instr    object\n",
      "val1      int64\n",
      "val2      int64\n",
      "idx       int32\n",
      "dtype: object\n"
     ]
    }
   ],
   "source": [
    "# Read everything.\n",
    "df2 = dataset.to_table().to_pandas()\n",
    "\n",
    "print(df_to_str(df2))"
   ]
  },
  {
   "cell_type": "code",
   "execution_count": 98,
   "id": "df96e1db",
   "metadata": {
    "ExecuteTime": {
     "end_time": "2023-02-06T10:25:32.893985Z",
     "start_time": "2023-02-06T10:25:32.866675Z"
    }
   },
   "outputs": [
    {
     "data": {
      "text/html": [
       "<div>\n",
       "<style scoped>\n",
       "    .dataframe tbody tr th:only-of-type {\n",
       "        vertical-align: middle;\n",
       "    }\n",
       "\n",
       "    .dataframe tbody tr th {\n",
       "        vertical-align: top;\n",
       "    }\n",
       "\n",
       "    .dataframe thead th {\n",
       "        text-align: right;\n",
       "    }\n",
       "</style>\n",
       "<table border=\"1\" class=\"dataframe\">\n",
       "  <thead>\n",
       "    <tr style=\"text-align: right;\">\n",
       "      <th></th>\n",
       "      <th>instr</th>\n",
       "      <th>val1</th>\n",
       "      <th>val2</th>\n",
       "      <th>idx</th>\n",
       "    </tr>\n",
       "  </thead>\n",
       "  <tbody>\n",
       "    <tr>\n",
       "      <th>2000-01-01</th>\n",
       "      <td>B</td>\n",
       "      <td>18</td>\n",
       "      <td>22</td>\n",
       "      <td>1</td>\n",
       "    </tr>\n",
       "    <tr>\n",
       "      <th>2000-01-02</th>\n",
       "      <td>B</td>\n",
       "      <td>59</td>\n",
       "      <td>89</td>\n",
       "      <td>1</td>\n",
       "    </tr>\n",
       "    <tr>\n",
       "      <th>2000-01-03</th>\n",
       "      <td>B</td>\n",
       "      <td>91</td>\n",
       "      <td>90</td>\n",
       "      <td>1</td>\n",
       "    </tr>\n",
       "    <tr>\n",
       "      <th>2000-01-04</th>\n",
       "      <td>B</td>\n",
       "      <td>90</td>\n",
       "      <td>13</td>\n",
       "      <td>1</td>\n",
       "    </tr>\n",
       "    <tr>\n",
       "      <th>2000-01-05</th>\n",
       "      <td>B</td>\n",
       "      <td>53</td>\n",
       "      <td>32</td>\n",
       "      <td>1</td>\n",
       "    </tr>\n",
       "    <tr>\n",
       "      <th>2000-01-06</th>\n",
       "      <td>B</td>\n",
       "      <td>88</td>\n",
       "      <td>20</td>\n",
       "      <td>1</td>\n",
       "    </tr>\n",
       "    <tr>\n",
       "      <th>2000-01-07</th>\n",
       "      <td>B</td>\n",
       "      <td>25</td>\n",
       "      <td>36</td>\n",
       "      <td>1</td>\n",
       "    </tr>\n",
       "    <tr>\n",
       "      <th>2000-01-08</th>\n",
       "      <td>B</td>\n",
       "      <td>2</td>\n",
       "      <td>11</td>\n",
       "      <td>1</td>\n",
       "    </tr>\n",
       "    <tr>\n",
       "      <th>2000-01-09</th>\n",
       "      <td>B</td>\n",
       "      <td>97</td>\n",
       "      <td>0</td>\n",
       "      <td>1</td>\n",
       "    </tr>\n",
       "    <tr>\n",
       "      <th>2000-01-10</th>\n",
       "      <td>B</td>\n",
       "      <td>68</td>\n",
       "      <td>40</td>\n",
       "      <td>1</td>\n",
       "    </tr>\n",
       "    <tr>\n",
       "      <th>2000-01-11</th>\n",
       "      <td>B</td>\n",
       "      <td>59</td>\n",
       "      <td>2</td>\n",
       "      <td>1</td>\n",
       "    </tr>\n",
       "    <tr>\n",
       "      <th>2000-01-12</th>\n",
       "      <td>B</td>\n",
       "      <td>91</td>\n",
       "      <td>81</td>\n",
       "      <td>1</td>\n",
       "    </tr>\n",
       "    <tr>\n",
       "      <th>2000-01-13</th>\n",
       "      <td>B</td>\n",
       "      <td>98</td>\n",
       "      <td>32</td>\n",
       "      <td>1</td>\n",
       "    </tr>\n",
       "    <tr>\n",
       "      <th>2000-01-14</th>\n",
       "      <td>B</td>\n",
       "      <td>27</td>\n",
       "      <td>37</td>\n",
       "      <td>1</td>\n",
       "    </tr>\n",
       "    <tr>\n",
       "      <th>2000-01-15</th>\n",
       "      <td>B</td>\n",
       "      <td>69</td>\n",
       "      <td>66</td>\n",
       "      <td>1</td>\n",
       "    </tr>\n",
       "  </tbody>\n",
       "</table>\n",
       "</div>"
      ],
      "text/plain": [
       "           instr  val1  val2  idx\n",
       "2000-01-01     B    18    22    1\n",
       "2000-01-02     B    59    89    1\n",
       "2000-01-03     B    91    90    1\n",
       "2000-01-04     B    90    13    1\n",
       "2000-01-05     B    53    32    1\n",
       "2000-01-06     B    88    20    1\n",
       "2000-01-07     B    25    36    1\n",
       "2000-01-08     B     2    11    1\n",
       "2000-01-09     B    97     0    1\n",
       "2000-01-10     B    68    40    1\n",
       "2000-01-11     B    59     2    1\n",
       "2000-01-12     B    91    81    1\n",
       "2000-01-13     B    98    32    1\n",
       "2000-01-14     B    27    37    1\n",
       "2000-01-15     B    69    66    1"
      ]
     },
     "metadata": {},
     "output_type": "display_data"
    },
    {
     "name": "stdout",
     "output_type": "stream",
     "text": [
      "# df=\n",
      "           instr  val1  val2  idx\n",
      "2000-01-01     B    18    22    1\n",
      "2000-01-02     B    59    89    1\n",
      "2000-01-03     B    91    90    1\n",
      "...\n",
      "2000-01-13     B    98    32    1\n",
      "2000-01-14     B    27    37    1\n",
      "2000-01-15     B    69    66    1\n",
      "# df.shape=\n",
      "(15, 4)\n",
      "# df.dtypes=\n",
      "instr    object\n",
      "val1      int64\n",
      "val2      int64\n",
      "idx       int32\n",
      "dtype: object\n"
     ]
    }
   ],
   "source": [
    "# Load a subset of rows of the data.\n",
    "df2 = dataset.to_table(filter=ds.field(\"idx\") == 1).to_pandas()\n",
    "display(df2)\n",
    "# Note that type of partitioning key sometimes is slightly changed.\n",
    "print(df_to_str(df2))"
   ]
  },
  {
   "cell_type": "code",
   "execution_count": 99,
   "id": "e29318ee",
   "metadata": {
    "ExecuteTime": {
     "end_time": "2023-02-06T10:25:37.509051Z",
     "start_time": "2023-02-06T10:25:37.476935Z"
    }
   },
   "outputs": [
    {
     "data": {
      "text/html": [
       "<div>\n",
       "<style scoped>\n",
       "    .dataframe tbody tr th:only-of-type {\n",
       "        vertical-align: middle;\n",
       "    }\n",
       "\n",
       "    .dataframe tbody tr th {\n",
       "        vertical-align: top;\n",
       "    }\n",
       "\n",
       "    .dataframe thead th {\n",
       "        text-align: right;\n",
       "    }\n",
       "</style>\n",
       "<table border=\"1\" class=\"dataframe\">\n",
       "  <thead>\n",
       "    <tr style=\"text-align: right;\">\n",
       "      <th></th>\n",
       "      <th>instr</th>\n",
       "      <th>val1</th>\n",
       "      <th>val2</th>\n",
       "      <th>idx</th>\n",
       "    </tr>\n",
       "  </thead>\n",
       "  <tbody>\n",
       "    <tr>\n",
       "      <th>2000-01-01</th>\n",
       "      <td>A</td>\n",
       "      <td>99</td>\n",
       "      <td>30</td>\n",
       "      <td>0</td>\n",
       "    </tr>\n",
       "    <tr>\n",
       "      <th>2000-01-02</th>\n",
       "      <td>A</td>\n",
       "      <td>54</td>\n",
       "      <td>46</td>\n",
       "      <td>0</td>\n",
       "    </tr>\n",
       "    <tr>\n",
       "      <th>2000-01-03</th>\n",
       "      <td>A</td>\n",
       "      <td>85</td>\n",
       "      <td>86</td>\n",
       "      <td>0</td>\n",
       "    </tr>\n",
       "    <tr>\n",
       "      <th>2000-01-04</th>\n",
       "      <td>A</td>\n",
       "      <td>97</td>\n",
       "      <td>62</td>\n",
       "      <td>0</td>\n",
       "    </tr>\n",
       "    <tr>\n",
       "      <th>2000-01-05</th>\n",
       "      <td>A</td>\n",
       "      <td>12</td>\n",
       "      <td>25</td>\n",
       "      <td>0</td>\n",
       "    </tr>\n",
       "    <tr>\n",
       "      <th>2000-01-06</th>\n",
       "      <td>A</td>\n",
       "      <td>50</td>\n",
       "      <td>87</td>\n",
       "      <td>0</td>\n",
       "    </tr>\n",
       "    <tr>\n",
       "      <th>2000-01-07</th>\n",
       "      <td>A</td>\n",
       "      <td>45</td>\n",
       "      <td>85</td>\n",
       "      <td>0</td>\n",
       "    </tr>\n",
       "    <tr>\n",
       "      <th>2000-01-08</th>\n",
       "      <td>A</td>\n",
       "      <td>8</td>\n",
       "      <td>46</td>\n",
       "      <td>0</td>\n",
       "    </tr>\n",
       "    <tr>\n",
       "      <th>2000-01-09</th>\n",
       "      <td>A</td>\n",
       "      <td>59</td>\n",
       "      <td>29</td>\n",
       "      <td>0</td>\n",
       "    </tr>\n",
       "    <tr>\n",
       "      <th>2000-01-10</th>\n",
       "      <td>A</td>\n",
       "      <td>21</td>\n",
       "      <td>58</td>\n",
       "      <td>0</td>\n",
       "    </tr>\n",
       "    <tr>\n",
       "      <th>2000-01-11</th>\n",
       "      <td>A</td>\n",
       "      <td>68</td>\n",
       "      <td>23</td>\n",
       "      <td>0</td>\n",
       "    </tr>\n",
       "    <tr>\n",
       "      <th>2000-01-12</th>\n",
       "      <td>A</td>\n",
       "      <td>55</td>\n",
       "      <td>5</td>\n",
       "      <td>0</td>\n",
       "    </tr>\n",
       "    <tr>\n",
       "      <th>2000-01-13</th>\n",
       "      <td>A</td>\n",
       "      <td>16</td>\n",
       "      <td>86</td>\n",
       "      <td>0</td>\n",
       "    </tr>\n",
       "    <tr>\n",
       "      <th>2000-01-14</th>\n",
       "      <td>A</td>\n",
       "      <td>28</td>\n",
       "      <td>95</td>\n",
       "      <td>0</td>\n",
       "    </tr>\n",
       "    <tr>\n",
       "      <th>2000-01-15</th>\n",
       "      <td>A</td>\n",
       "      <td>85</td>\n",
       "      <td>62</td>\n",
       "      <td>0</td>\n",
       "    </tr>\n",
       "    <tr>\n",
       "      <th>2000-01-01</th>\n",
       "      <td>B</td>\n",
       "      <td>18</td>\n",
       "      <td>22</td>\n",
       "      <td>1</td>\n",
       "    </tr>\n",
       "    <tr>\n",
       "      <th>2000-01-02</th>\n",
       "      <td>B</td>\n",
       "      <td>59</td>\n",
       "      <td>89</td>\n",
       "      <td>1</td>\n",
       "    </tr>\n",
       "    <tr>\n",
       "      <th>2000-01-03</th>\n",
       "      <td>B</td>\n",
       "      <td>91</td>\n",
       "      <td>90</td>\n",
       "      <td>1</td>\n",
       "    </tr>\n",
       "    <tr>\n",
       "      <th>2000-01-04</th>\n",
       "      <td>B</td>\n",
       "      <td>90</td>\n",
       "      <td>13</td>\n",
       "      <td>1</td>\n",
       "    </tr>\n",
       "    <tr>\n",
       "      <th>2000-01-05</th>\n",
       "      <td>B</td>\n",
       "      <td>53</td>\n",
       "      <td>32</td>\n",
       "      <td>1</td>\n",
       "    </tr>\n",
       "    <tr>\n",
       "      <th>2000-01-06</th>\n",
       "      <td>B</td>\n",
       "      <td>88</td>\n",
       "      <td>20</td>\n",
       "      <td>1</td>\n",
       "    </tr>\n",
       "    <tr>\n",
       "      <th>2000-01-07</th>\n",
       "      <td>B</td>\n",
       "      <td>25</td>\n",
       "      <td>36</td>\n",
       "      <td>1</td>\n",
       "    </tr>\n",
       "    <tr>\n",
       "      <th>2000-01-08</th>\n",
       "      <td>B</td>\n",
       "      <td>2</td>\n",
       "      <td>11</td>\n",
       "      <td>1</td>\n",
       "    </tr>\n",
       "    <tr>\n",
       "      <th>2000-01-09</th>\n",
       "      <td>B</td>\n",
       "      <td>97</td>\n",
       "      <td>0</td>\n",
       "      <td>1</td>\n",
       "    </tr>\n",
       "    <tr>\n",
       "      <th>2000-01-10</th>\n",
       "      <td>B</td>\n",
       "      <td>68</td>\n",
       "      <td>40</td>\n",
       "      <td>1</td>\n",
       "    </tr>\n",
       "    <tr>\n",
       "      <th>2000-01-11</th>\n",
       "      <td>B</td>\n",
       "      <td>59</td>\n",
       "      <td>2</td>\n",
       "      <td>1</td>\n",
       "    </tr>\n",
       "    <tr>\n",
       "      <th>2000-01-12</th>\n",
       "      <td>B</td>\n",
       "      <td>91</td>\n",
       "      <td>81</td>\n",
       "      <td>1</td>\n",
       "    </tr>\n",
       "    <tr>\n",
       "      <th>2000-01-13</th>\n",
       "      <td>B</td>\n",
       "      <td>98</td>\n",
       "      <td>32</td>\n",
       "      <td>1</td>\n",
       "    </tr>\n",
       "    <tr>\n",
       "      <th>2000-01-14</th>\n",
       "      <td>B</td>\n",
       "      <td>27</td>\n",
       "      <td>37</td>\n",
       "      <td>1</td>\n",
       "    </tr>\n",
       "    <tr>\n",
       "      <th>2000-01-15</th>\n",
       "      <td>B</td>\n",
       "      <td>69</td>\n",
       "      <td>66</td>\n",
       "      <td>1</td>\n",
       "    </tr>\n",
       "    <tr>\n",
       "      <th>2000-01-01</th>\n",
       "      <td>C</td>\n",
       "      <td>99</td>\n",
       "      <td>37</td>\n",
       "      <td>2</td>\n",
       "    </tr>\n",
       "    <tr>\n",
       "      <th>2000-01-02</th>\n",
       "      <td>C</td>\n",
       "      <td>98</td>\n",
       "      <td>48</td>\n",
       "      <td>2</td>\n",
       "    </tr>\n",
       "    <tr>\n",
       "      <th>2000-01-03</th>\n",
       "      <td>C</td>\n",
       "      <td>70</td>\n",
       "      <td>58</td>\n",
       "      <td>2</td>\n",
       "    </tr>\n",
       "    <tr>\n",
       "      <th>2000-01-04</th>\n",
       "      <td>C</td>\n",
       "      <td>15</td>\n",
       "      <td>46</td>\n",
       "      <td>2</td>\n",
       "    </tr>\n",
       "    <tr>\n",
       "      <th>2000-01-05</th>\n",
       "      <td>C</td>\n",
       "      <td>24</td>\n",
       "      <td>62</td>\n",
       "      <td>2</td>\n",
       "    </tr>\n",
       "    <tr>\n",
       "      <th>2000-01-06</th>\n",
       "      <td>C</td>\n",
       "      <td>37</td>\n",
       "      <td>76</td>\n",
       "      <td>2</td>\n",
       "    </tr>\n",
       "    <tr>\n",
       "      <th>2000-01-07</th>\n",
       "      <td>C</td>\n",
       "      <td>48</td>\n",
       "      <td>35</td>\n",
       "      <td>2</td>\n",
       "    </tr>\n",
       "    <tr>\n",
       "      <th>2000-01-08</th>\n",
       "      <td>C</td>\n",
       "      <td>40</td>\n",
       "      <td>60</td>\n",
       "      <td>2</td>\n",
       "    </tr>\n",
       "    <tr>\n",
       "      <th>2000-01-09</th>\n",
       "      <td>C</td>\n",
       "      <td>84</td>\n",
       "      <td>42</td>\n",
       "      <td>2</td>\n",
       "    </tr>\n",
       "    <tr>\n",
       "      <th>2000-01-10</th>\n",
       "      <td>C</td>\n",
       "      <td>29</td>\n",
       "      <td>1</td>\n",
       "      <td>2</td>\n",
       "    </tr>\n",
       "    <tr>\n",
       "      <th>2000-01-11</th>\n",
       "      <td>C</td>\n",
       "      <td>29</td>\n",
       "      <td>6</td>\n",
       "      <td>2</td>\n",
       "    </tr>\n",
       "    <tr>\n",
       "      <th>2000-01-12</th>\n",
       "      <td>C</td>\n",
       "      <td>45</td>\n",
       "      <td>18</td>\n",
       "      <td>2</td>\n",
       "    </tr>\n",
       "    <tr>\n",
       "      <th>2000-01-13</th>\n",
       "      <td>C</td>\n",
       "      <td>79</td>\n",
       "      <td>57</td>\n",
       "      <td>2</td>\n",
       "    </tr>\n",
       "    <tr>\n",
       "      <th>2000-01-14</th>\n",
       "      <td>C</td>\n",
       "      <td>62</td>\n",
       "      <td>83</td>\n",
       "      <td>2</td>\n",
       "    </tr>\n",
       "    <tr>\n",
       "      <th>2000-01-15</th>\n",
       "      <td>C</td>\n",
       "      <td>15</td>\n",
       "      <td>91</td>\n",
       "      <td>2</td>\n",
       "    </tr>\n",
       "  </tbody>\n",
       "</table>\n",
       "</div>"
      ],
      "text/plain": [
       "           instr  val1  val2  idx\n",
       "2000-01-01     A    99    30    0\n",
       "2000-01-02     A    54    46    0\n",
       "2000-01-03     A    85    86    0\n",
       "2000-01-04     A    97    62    0\n",
       "2000-01-05     A    12    25    0\n",
       "2000-01-06     A    50    87    0\n",
       "2000-01-07     A    45    85    0\n",
       "2000-01-08     A     8    46    0\n",
       "2000-01-09     A    59    29    0\n",
       "2000-01-10     A    21    58    0\n",
       "2000-01-11     A    68    23    0\n",
       "2000-01-12     A    55     5    0\n",
       "2000-01-13     A    16    86    0\n",
       "2000-01-14     A    28    95    0\n",
       "2000-01-15     A    85    62    0\n",
       "2000-01-01     B    18    22    1\n",
       "2000-01-02     B    59    89    1\n",
       "2000-01-03     B    91    90    1\n",
       "2000-01-04     B    90    13    1\n",
       "2000-01-05     B    53    32    1\n",
       "2000-01-06     B    88    20    1\n",
       "2000-01-07     B    25    36    1\n",
       "2000-01-08     B     2    11    1\n",
       "2000-01-09     B    97     0    1\n",
       "2000-01-10     B    68    40    1\n",
       "2000-01-11     B    59     2    1\n",
       "2000-01-12     B    91    81    1\n",
       "2000-01-13     B    98    32    1\n",
       "2000-01-14     B    27    37    1\n",
       "2000-01-15     B    69    66    1\n",
       "2000-01-01     C    99    37    2\n",
       "2000-01-02     C    98    48    2\n",
       "2000-01-03     C    70    58    2\n",
       "2000-01-04     C    15    46    2\n",
       "2000-01-05     C    24    62    2\n",
       "2000-01-06     C    37    76    2\n",
       "2000-01-07     C    48    35    2\n",
       "2000-01-08     C    40    60    2\n",
       "2000-01-09     C    84    42    2\n",
       "2000-01-10     C    29     1    2\n",
       "2000-01-11     C    29     6    2\n",
       "2000-01-12     C    45    18    2\n",
       "2000-01-13     C    79    57    2\n",
       "2000-01-14     C    62    83    2\n",
       "2000-01-15     C    15    91    2"
      ]
     },
     "metadata": {},
     "output_type": "display_data"
    },
    {
     "name": "stdout",
     "output_type": "stream",
     "text": [
      "# df=\n",
      "           instr  val1  val2  idx\n",
      "2000-01-01     A    99    30    0\n",
      "2000-01-02     A    54    46    0\n",
      "2000-01-03     A    85    86    0\n",
      "...\n",
      "2000-01-13     C    79    57    2\n",
      "2000-01-14     C    62    83    2\n",
      "2000-01-15     C    15    91    2\n",
      "# df.shape=\n",
      "(45, 4)\n",
      "# df.dtypes=\n",
      "instr    object\n",
      "val1      int64\n",
      "val2      int64\n",
      "idx       int32\n",
      "dtype: object\n"
     ]
    }
   ],
   "source": [
    "df2 = dataset.to_table(filter=ds.field(\"idx\") < 3).to_pandas()\n",
    "display(df2)\n",
    "print(df_to_str(df2))"
   ]
  },
  {
   "cell_type": "markdown",
   "id": "b3c27848",
   "metadata": {},
   "source": [
    "## Add year-month partitions"
   ]
  },
  {
   "cell_type": "code",
   "execution_count": 102,
   "id": "69d2ea15",
   "metadata": {
    "ExecuteTime": {
     "end_time": "2023-02-06T10:26:14.411465Z",
     "start_time": "2023-02-06T10:26:14.391834Z"
    }
   },
   "outputs": [
    {
     "name": "stdout",
     "output_type": "stream",
     "text": [
      "# df=\n",
      "            idx instr  val1  val2  year  month\n",
      "2000-01-01    0     A    99    64  2000      1\n",
      "2000-01-02    0     A    54    42  2000      1\n",
      "2000-01-03    0     A    85    44  2000      1\n",
      "...\n",
      "2000-04-07    4     E    35    77  2000      4\n",
      "2000-04-08    4     E    53    26  2000      4\n",
      "2000-04-09    4     E    54    82  2000      4\n",
      "# df.shape=\n",
      "(500, 6)\n",
      "# df.dtypes=\n",
      "idx       int64\n",
      "instr    object\n",
      "val1      int64\n",
      "val2      int64\n",
      "year      int64\n",
      "month     int64\n",
      "dtype: object\n"
     ]
    }
   ],
   "source": [
    "df = get_df(num_days=100)\n",
    "df[\"year\"] = df.index.year\n",
    "df[\"month\"] = df.index.month\n",
    "\n",
    "print(df_to_str(df))"
   ]
  },
  {
   "cell_type": "code",
   "execution_count": 109,
   "id": "1a2f8c3a",
   "metadata": {
    "ExecuteTime": {
     "end_time": "2023-02-06T10:27:45.513886Z",
     "start_time": "2023-02-06T10:27:45.007631Z"
    }
   },
   "outputs": [
    {
     "name": "stdout",
     "output_type": "stream",
     "text": [
      "./pq_partitioned2\n",
      "./pq_partitioned2/idx=0\n",
      "./pq_partitioned2/idx=0/year=2000\n",
      "./pq_partitioned2/idx=0/year=2000/month=1\n",
      "./pq_partitioned2/idx=0/year=2000/month=1/62a28645c8b34a6b9e9495d39bfe61ef-0.parquet\n",
      "./pq_partitioned2/idx=0/year=2000/month=2\n",
      "./pq_partitioned2/idx=0/year=2000/month=2/62a28645c8b34a6b9e9495d39bfe61ef-0.parquet\n",
      "./pq_partitioned2/idx=0/year=2000/month=3\n",
      "./pq_partitioned2/idx=0/year=2000/month=3/62a28645c8b34a6b9e9495d39bfe61ef-0.parquet\n",
      "./pq_partitioned2/idx=0/year=2000/month=4\n",
      "./pq_partitioned2/idx=0/year=2000/month=4/62a28645c8b34a6b9e9495d39bfe61ef-0.parquet\n",
      "./pq_partitioned2/idx=1\n",
      "./pq_partitioned2/idx=1/year=2000\n",
      "./pq_partitioned2/idx=1/year=2000/month=1\n",
      "./pq_partitioned2/idx=1/year=2000/month=1/62a28645c8b34a6b9e9495d39bfe61ef-0.parquet\n",
      "./pq_partitioned2/idx=1/year=2000/month=2\n",
      "./pq_partitioned2/idx=1/year=2000/month=2/62a28645c8b34a6b9e9495d39bfe61ef-0.parquet\n",
      "./pq_partitioned2/idx=1/year=2000/month=3\n",
      "./pq_partitioned2/idx=1/year=2000/month=3/62a28645c8b34a6b9e9495d39bfe61ef-0.parquet\n",
      "./pq_partitioned2/idx=1/year=2000/month=4\n",
      "./pq_partitioned2/idx=1/year=2000/month=4/62a28645c8b34a6b9e9495d39bfe61ef-0.parquet\n",
      "./pq_partitioned2/idx=2\n",
      "./pq_partitioned2/idx=2/year=2000\n",
      "./pq_partitioned2/idx=2/year=2000/month=1\n",
      "./pq_partitioned2/idx=2/year=2000/month=1/62a28645c8b34a6b9e9495d39bfe61ef-0.parquet\n",
      "./pq_partitioned2/idx=2/year=2000/month=2\n",
      "./pq_partitioned2/idx=2/year=2000/month=2/62a28645c8b34a6b9e9495d39bfe61ef-0.parquet\n",
      "./pq_partitioned2/idx=2/year=2000/month=3\n",
      "./pq_partitioned2/idx=2/year=2000/month=3/62a28645c8b34a6b9e9495d39bfe61ef-0.parquet\n",
      "./pq_partitioned2/idx=2/year=2000/month=4\n",
      "./pq_partitioned2/idx=2/year=2000/month=4/62a28645c8b34a6b9e9495d39bfe61ef-0.parquet\n",
      "./pq_partitioned2/idx=3\n",
      "./pq_partitioned2/idx=3/year=2000\n",
      "./pq_partitioned2/idx=3/year=2000/month=1\n",
      "./pq_partitioned2/idx=3/year=2000/month=1/62a28645c8b34a6b9e9495d39bfe61ef-0.parquet\n",
      "./pq_partitioned2/idx=3/year=2000/month=2\n",
      "./pq_partitioned2/idx=3/year=2000/month=2/62a28645c8b34a6b9e9495d39bfe61ef-0.parquet\n",
      "./pq_partitioned2/idx=3/year=2000/month=3\n",
      "./pq_partitioned2/idx=3/year=2000/month=3/62a28645c8b34a6b9e9495d39bfe61ef-0.parquet\n",
      "./pq_partitioned2/idx=3/year=2000/month=4\n",
      "./pq_partitioned2/idx=3/year=2000/month=4/62a28645c8b34a6b9e9495d39bfe61ef-0.parquet\n",
      "./pq_partitioned2/idx=4\n",
      "./pq_partitioned2/idx=4/year=2000\n",
      "./pq_partitioned2/idx=4/year=2000/month=1\n",
      "./pq_partitioned2/idx=4/year=2000/month=1/62a28645c8b34a6b9e9495d39bfe61ef-0.parquet\n",
      "./pq_partitioned2/idx=4/year=2000/month=2\n",
      "./pq_partitioned2/idx=4/year=2000/month=2/62a28645c8b34a6b9e9495d39bfe61ef-0.parquet\n",
      "./pq_partitioned2/idx=4/year=2000/month=3\n",
      "./pq_partitioned2/idx=4/year=2000/month=3/62a28645c8b34a6b9e9495d39bfe61ef-0.parquet\n",
      "./pq_partitioned2/idx=4/year=2000/month=4\n",
      "./pq_partitioned2/idx=4/year=2000/month=4/62a28645c8b34a6b9e9495d39bfe61ef-0.parquet\n"
     ]
    }
   ],
   "source": [
    "# Convert to Pyarrow.\n",
    "table = pa.Table.from_pandas(df)\n",
    "#print(\"table=\\n%s\" % table)\n",
    "\n",
    "# Clean up dir.\n",
    "base = \".\"\n",
    "dir_name = os.path.join(base, \"pq_partitioned2\")\n",
    "os.system(\"rm -rf %s\" % dir_name)\n",
    "\n",
    "# Save it using 3 partitioning keys.\n",
    "pq.write_to_dataset(table, dir_name, partition_cols=[\"idx\", \"year\", \"month\"])\n",
    "\n",
    "# Show data structure.\n",
    "!find $dir_name"
   ]
  },
  {
   "cell_type": "code",
   "execution_count": 67,
   "id": "e5ba8be3",
   "metadata": {
    "ExecuteTime": {
     "end_time": "2023-02-06T10:17:28.463665Z",
     "start_time": "2023-02-06T10:17:28.336810Z"
    }
   },
   "outputs": [
    {
     "name": "stdout",
     "output_type": "stream",
     "text": [
      "b3affcffc8f4457f956eef1b75a86d4c-0.parquet\r\n"
     ]
    }
   ],
   "source": [
    "!ls $dir_name/idx=0/year=2000/month=1"
   ]
  },
  {
   "cell_type": "code",
   "execution_count": 110,
   "id": "2d93f116",
   "metadata": {
    "ExecuteTime": {
     "end_time": "2023-02-06T10:27:48.528412Z",
     "start_time": "2023-02-06T10:27:48.437740Z"
    }
   },
   "outputs": [
    {
     "name": "stdout",
     "output_type": "stream",
     "text": [
      "# df=\n",
      "           instr  val1  val2  idx  year  month\n",
      "2000-01-01     C     3    80    2  2000      1\n",
      "2000-01-02     C    45   100    2  2000      1\n",
      "2000-01-03     C    62    94    2  2000      1\n",
      "...\n",
      "2000-04-07     C    10    42    2  2000      4\n",
      "2000-04-08     C    90    70    2  2000      4\n",
      "2000-04-09     C    46    91    2  2000      4\n",
      "# df.shape=\n",
      "(100, 6)\n",
      "# df.dtypes=\n",
      "instr    object\n",
      "val1      int64\n",
      "val2      int64\n",
      "idx       int32\n",
      "year      int32\n",
      "month     int32\n",
      "dtype: object\n"
     ]
    }
   ],
   "source": [
    "# Read data back.\n",
    "dataset = ds.dataset(dir_name, format=\"parquet\", partitioning=\"hive\")\n",
    "\n",
    "# Read only one tile back.\n",
    "df2 = dataset.to_table(filter=ds.field(\"idx\") == 2).to_pandas()\n",
    "print(df_to_str(df2))"
   ]
  },
  {
   "cell_type": "markdown",
   "id": "76faa9ee",
   "metadata": {},
   "source": [
    "## Partition manually"
   ]
  },
  {
   "cell_type": "code",
   "execution_count": 116,
   "id": "d9e4e596",
   "metadata": {
    "ExecuteTime": {
     "end_time": "2023-02-06T10:29:31.023825Z",
     "start_time": "2023-02-06T10:29:29.710812Z"
    },
    "scrolled": false
   },
   "outputs": [
    {
     "name": "stdout",
     "output_type": "stream",
     "text": [
      "idx: int64\n",
      "instr: string\n",
      "val1: int64\n",
      "val2: int64\n",
      "year: int64\n",
      "month: int64\n",
      "__index_level_0__: timestamp[ns]\n",
      "-- schema metadata --\n",
      "pandas: '{\"index_columns\": [\"__index_level_0__\"], \"column_indexes\": [{\"na' + 976\n",
      "idx=0 -> df.shape=(100, 6)\n",
      "year=2000 -> df.shape=(100, 6)\n",
      "month=1 -> df.shape=(31, 6)\n",
      "month=2 -> df.shape=(29, 6)\n",
      "month=3 -> df.shape=(31, 6)\n",
      "month=4 -> df.shape=(9, 6)\n",
      "idx=1 -> df.shape=(100, 6)\n",
      "year=2000 -> df.shape=(100, 6)\n",
      "month=1 -> df.shape=(31, 6)\n",
      "month=2 -> df.shape=(29, 6)\n",
      "month=3 -> df.shape=(31, 6)\n",
      "month=4 -> df.shape=(9, 6)\n",
      "idx=2 -> df.shape=(100, 6)\n",
      "year=2000 -> df.shape=(100, 6)\n",
      "month=1 -> df.shape=(31, 6)\n",
      "month=2 -> df.shape=(29, 6)\n",
      "month=3 -> df.shape=(31, 6)\n",
      "month=4 -> df.shape=(9, 6)\n",
      "idx=3 -> df.shape=(100, 6)\n",
      "year=2000 -> df.shape=(100, 6)\n",
      "month=1 -> df.shape=(31, 6)\n",
      "month=2 -> df.shape=(29, 6)\n",
      "month=3 -> df.shape=(31, 6)\n",
      "month=4 -> df.shape=(9, 6)\n",
      "idx=4 -> df.shape=(100, 6)\n",
      "year=2000 -> df.shape=(100, 6)\n",
      "month=1 -> df.shape=(31, 6)\n",
      "month=2 -> df.shape=(29, 6)\n",
      "month=3 -> df.shape=(31, 6)\n",
      "month=4 -> df.shape=(9, 6)\n",
      "./pq_partitioned4\n",
      "./pq_partitioned4/idx=0\n",
      "./pq_partitioned4/idx=0/year=2000\n",
      "./pq_partitioned4/idx=0/year=2000/month=1\n",
      "./pq_partitioned4/idx=0/year=2000/month=1/df_out.pq\n",
      "./pq_partitioned4/idx=0/year=2000/month=2\n",
      "./pq_partitioned4/idx=0/year=2000/month=2/df_out.pq\n",
      "./pq_partitioned4/idx=0/year=2000/month=3\n",
      "./pq_partitioned4/idx=0/year=2000/month=3/df_out.pq\n",
      "./pq_partitioned4/idx=0/year=2000/month=4\n",
      "./pq_partitioned4/idx=0/year=2000/month=4/df_out.pq\n",
      "./pq_partitioned4/idx=1\n",
      "./pq_partitioned4/idx=1/year=2000\n",
      "./pq_partitioned4/idx=1/year=2000/month=1\n",
      "./pq_partitioned4/idx=1/year=2000/month=1/df_out.pq\n",
      "./pq_partitioned4/idx=1/year=2000/month=2\n",
      "./pq_partitioned4/idx=1/year=2000/month=2/df_out.pq\n",
      "./pq_partitioned4/idx=1/year=2000/month=3\n",
      "./pq_partitioned4/idx=1/year=2000/month=3/df_out.pq\n",
      "./pq_partitioned4/idx=1/year=2000/month=4\n",
      "./pq_partitioned4/idx=1/year=2000/month=4/df_out.pq\n",
      "./pq_partitioned4/idx=2\n",
      "./pq_partitioned4/idx=2/year=2000\n",
      "./pq_partitioned4/idx=2/year=2000/month=1\n",
      "./pq_partitioned4/idx=2/year=2000/month=1/df_out.pq\n",
      "./pq_partitioned4/idx=2/year=2000/month=2\n",
      "./pq_partitioned4/idx=2/year=2000/month=2/df_out.pq\n",
      "./pq_partitioned4/idx=2/year=2000/month=3\n",
      "./pq_partitioned4/idx=2/year=2000/month=3/df_out.pq\n",
      "./pq_partitioned4/idx=2/year=2000/month=4\n",
      "./pq_partitioned4/idx=2/year=2000/month=4/df_out.pq\n",
      "./pq_partitioned4/idx=3\n",
      "./pq_partitioned4/idx=3/year=2000\n",
      "./pq_partitioned4/idx=3/year=2000/month=1\n",
      "./pq_partitioned4/idx=3/year=2000/month=1/df_out.pq\n",
      "./pq_partitioned4/idx=3/year=2000/month=2\n",
      "./pq_partitioned4/idx=3/year=2000/month=2/df_out.pq\n",
      "./pq_partitioned4/idx=3/year=2000/month=3\n",
      "./pq_partitioned4/idx=3/year=2000/month=3/df_out.pq\n",
      "./pq_partitioned4/idx=3/year=2000/month=4\n",
      "./pq_partitioned4/idx=3/year=2000/month=4/df_out.pq\n",
      "./pq_partitioned4/idx=4\n",
      "./pq_partitioned4/idx=4/year=2000\n",
      "./pq_partitioned4/idx=4/year=2000/month=1\n",
      "./pq_partitioned4/idx=4/year=2000/month=1/df_out.pq\n",
      "./pq_partitioned4/idx=4/year=2000/month=2\n",
      "./pq_partitioned4/idx=4/year=2000/month=2/df_out.pq\n",
      "./pq_partitioned4/idx=4/year=2000/month=3\n",
      "./pq_partitioned4/idx=4/year=2000/month=3/df_out.pq\n",
      "./pq_partitioned4/idx=4/year=2000/month=4\n",
      "./pq_partitioned4/idx=4/year=2000/month=4/df_out.pq\n"
     ]
    }
   ],
   "source": [
    "# We could scan manually the df and create the dirs manually.\n",
    "base = \".\"\n",
    "dir_name = os.path.join(base, \"pq_partitioned4\")\n",
    "os.system(\"rm -rf %s\" % dir_name)\n",
    "\n",
    "# Extract the schema.\n",
    "schemas = []\n",
    "schema = pa.Table.from_pandas(df).schema\n",
    "print(schema)\n",
    "\n",
    "# grouped = df.groupby(lambda x: x.day)\n",
    "group_by_idx = df.groupby(\"idx\")\n",
    "for idx, df_tmp in group_by_idx:\n",
    "    print(\"idx=%s -> df.shape=%s\" % (idx, str(df_tmp.shape)))\n",
    "    #\n",
    "    group_by_year = df_tmp.groupby(lambda x: x.year)\n",
    "    for year, df_tmp2 in group_by_year:\n",
    "        print(\"year=%s -> df.shape=%s\" % (year, str(df_tmp2.shape)))\n",
    "        #\n",
    "        group_by_month = df_tmp2.groupby(lambda x: x.month)\n",
    "        for month, df_tmp3 in group_by_month:\n",
    "            print(\"month=%s -> df.shape=%s\" % (month, str(df_tmp3.shape)))\n",
    "            # file_name = \"df_in_one_file.pq\"\n",
    "            # pq.write_table(table, file_name)\n",
    "            # /app/data/idx=0/year=2000/month=1/02e3265d515e4fb88ebe1a72a405fc05.parquet\n",
    "            subdir_name = os.path.join(\n",
    "                dir_name, f\"idx={idx}\", f\"year={year}\", f\"month={month}\"\n",
    "            )\n",
    "            table = pa.Table.from_pandas(df_tmp3, schema=schema)\n",
    "            schemas.append(table.schema)\n",
    "            # print(df_tmp3)\n",
    "            # print(table.schema)\n",
    "            #             pq.write_to_dataset(table,\n",
    "            #                     subdir_name, schema=schema)\n",
    "            file_name = os.path.join(subdir_name, \"df_out.pq\")\n",
    "            #hio.create_enclosing_dir(file_name)\n",
    "            os.makedirs(os.path.dirname(file_name), exist_ok=True)\n",
    "            pq.write_table(table, file_name)"
   ]
  },
  {
   "cell_type": "code",
   "execution_count": 117,
   "id": "4e724741",
   "metadata": {
    "ExecuteTime": {
     "end_time": "2023-02-06T10:29:35.173782Z",
     "start_time": "2023-02-06T10:29:35.007227Z"
    }
   },
   "outputs": [
    {
     "name": "stdout",
     "output_type": "stream",
     "text": [
      "./pq_partitioned4\r\n",
      "./pq_partitioned4/idx=0\r\n",
      "./pq_partitioned4/idx=0/year=2000\r\n",
      "./pq_partitioned4/idx=0/year=2000/month=1\r\n",
      "./pq_partitioned4/idx=0/year=2000/month=1/df_out.pq\r\n",
      "./pq_partitioned4/idx=0/year=2000/month=2\r\n",
      "./pq_partitioned4/idx=0/year=2000/month=2/df_out.pq\r\n",
      "./pq_partitioned4/idx=0/year=2000/month=3\r\n",
      "./pq_partitioned4/idx=0/year=2000/month=3/df_out.pq\r\n",
      "./pq_partitioned4/idx=0/year=2000/month=4\r\n",
      "./pq_partitioned4/idx=0/year=2000/month=4/df_out.pq\r\n",
      "./pq_partitioned4/idx=1\r\n",
      "./pq_partitioned4/idx=1/year=2000\r\n",
      "./pq_partitioned4/idx=1/year=2000/month=1\r\n",
      "./pq_partitioned4/idx=1/year=2000/month=1/df_out.pq\r\n",
      "./pq_partitioned4/idx=1/year=2000/month=2\r\n",
      "./pq_partitioned4/idx=1/year=2000/month=2/df_out.pq\r\n",
      "./pq_partitioned4/idx=1/year=2000/month=3\r\n",
      "./pq_partitioned4/idx=1/year=2000/month=3/df_out.pq\r\n",
      "./pq_partitioned4/idx=1/year=2000/month=4\r\n",
      "./pq_partitioned4/idx=1/year=2000/month=4/df_out.pq\r\n",
      "./pq_partitioned4/idx=2\r\n",
      "./pq_partitioned4/idx=2/year=2000\r\n",
      "./pq_partitioned4/idx=2/year=2000/month=1\r\n",
      "./pq_partitioned4/idx=2/year=2000/month=1/df_out.pq\r\n",
      "./pq_partitioned4/idx=2/year=2000/month=2\r\n",
      "./pq_partitioned4/idx=2/year=2000/month=2/df_out.pq\r\n",
      "./pq_partitioned4/idx=2/year=2000/month=3\r\n",
      "./pq_partitioned4/idx=2/year=2000/month=3/df_out.pq\r\n",
      "./pq_partitioned4/idx=2/year=2000/month=4\r\n",
      "./pq_partitioned4/idx=2/year=2000/month=4/df_out.pq\r\n",
      "./pq_partitioned4/idx=3\r\n",
      "./pq_partitioned4/idx=3/year=2000\r\n",
      "./pq_partitioned4/idx=3/year=2000/month=1\r\n",
      "./pq_partitioned4/idx=3/year=2000/month=1/df_out.pq\r\n",
      "./pq_partitioned4/idx=3/year=2000/month=2\r\n",
      "./pq_partitioned4/idx=3/year=2000/month=2/df_out.pq\r\n",
      "./pq_partitioned4/idx=3/year=2000/month=3\r\n",
      "./pq_partitioned4/idx=3/year=2000/month=3/df_out.pq\r\n",
      "./pq_partitioned4/idx=3/year=2000/month=4\r\n",
      "./pq_partitioned4/idx=3/year=2000/month=4/df_out.pq\r\n",
      "./pq_partitioned4/idx=4\r\n",
      "./pq_partitioned4/idx=4/year=2000\r\n",
      "./pq_partitioned4/idx=4/year=2000/month=1\r\n",
      "./pq_partitioned4/idx=4/year=2000/month=1/df_out.pq\r\n",
      "./pq_partitioned4/idx=4/year=2000/month=2\r\n",
      "./pq_partitioned4/idx=4/year=2000/month=2/df_out.pq\r\n",
      "./pq_partitioned4/idx=4/year=2000/month=3\r\n",
      "./pq_partitioned4/idx=4/year=2000/month=3/df_out.pq\r\n",
      "./pq_partitioned4/idx=4/year=2000/month=4\r\n",
      "./pq_partitioned4/idx=4/year=2000/month=4/df_out.pq\r\n"
     ]
    }
   ],
   "source": [
    "!find $dir_name"
   ]
  },
  {
   "cell_type": "code",
   "execution_count": null,
   "id": "e5bdcdd8",
   "metadata": {
    "ExecuteTime": {
     "end_time": "2023-02-06T01:56:54.176802Z",
     "start_time": "2023-02-06T01:56:54.172858Z"
    }
   },
   "outputs": [],
   "source": [
    "#!ls $dir_name/idx=0/year=2000/month=1"
   ]
  },
  {
   "cell_type": "code",
   "execution_count": null,
   "id": "aaf67ae6",
   "metadata": {
    "ExecuteTime": {
     "end_time": "2023-02-06T01:56:54.529031Z",
     "start_time": "2023-02-06T01:56:54.179084Z"
    }
   },
   "outputs": [],
   "source": [
    "# Read data back.\n",
    "# https://github.com/dask/dask/issues/4194\n",
    "# src_dir = f\"{dir_name}/idx=0/year=2000/month=1\"\n",
    "src_dir = f\"{dir_name}/idx=0/year=2000\"\n",
    "dataset = ds.dataset(src_dir, format=\"parquet\", partitioning=\"hive\")\n",
    "\n",
    "df2 = dataset.to_table().to_pandas()\n",
    "# print(df_to_str(df2))\n",
    "print(\"\\n\".join(dataset.files))"
   ]
  },
  {
   "cell_type": "markdown",
   "id": "98f4111d",
   "metadata": {},
   "source": [
    "## Partition manually"
   ]
  },
  {
   "cell_type": "code",
   "execution_count": null,
   "id": "f0b33d85",
   "metadata": {
    "ExecuteTime": {
     "end_time": "2023-02-06T01:56:54.531796Z",
     "start_time": "2023-02-06T01:56:54.531774Z"
    }
   },
   "outputs": [],
   "source": [
    "from pyarrow.dataset import DirectoryPartitioning\n",
    "\n",
    "partitioning = DirectoryPartitioning(\n",
    "    pa.schema([(\"year\", pa.int16()), (\"month\", pa.int8()), (\"day\", pa.int8())])\n",
    ")\n",
    "print(partitioning.parse(\"/2009/11/3\"))\n",
    "\n",
    "# partitioning.discover()"
   ]
  },
  {
   "cell_type": "code",
   "execution_count": null,
   "id": "ad70cbee",
   "metadata": {
    "ExecuteTime": {
     "end_time": "2023-02-06T01:56:54.534200Z",
     "start_time": "2023-02-06T01:56:54.534181Z"
    }
   },
   "outputs": [],
   "source": [
    "!ls /data"
   ]
  },
  {
   "cell_type": "code",
   "execution_count": null,
   "id": "b19d1189",
   "metadata": {
    "ExecuteTime": {
     "end_time": "2023-02-06T01:56:54.536897Z",
     "start_time": "2023-02-06T01:56:54.536877Z"
    }
   },
   "outputs": [],
   "source": [
    "dir_name = \"/app/data\"\n",
    "\n",
    "# Read data back.\n",
    "dataset = ds.dataset(dir_name, format=\"parquet\", partitioning=\"hive\")\n",
    "\n",
    "print(\"\\n\".join(dataset.files))"
   ]
  },
  {
   "cell_type": "code",
   "execution_count": null,
   "id": "ba4d7dc4",
   "metadata": {
    "ExecuteTime": {
     "end_time": "2023-02-06T01:56:54.539476Z",
     "start_time": "2023-02-06T01:56:54.539456Z"
    }
   },
   "outputs": [],
   "source": [
    "# Read everything.\n",
    "df2 = dataset.to_table().to_pandas()\n",
    "\n",
    "print(df_to_str(df2))"
   ]
  },
  {
   "cell_type": "code",
   "execution_count": null,
   "id": "68e84388",
   "metadata": {
    "ExecuteTime": {
     "end_time": "2023-02-06T01:56:54.543340Z",
     "start_time": "2023-02-06T01:56:54.543320Z"
    }
   },
   "outputs": [],
   "source": [
    "print(df2[\"instr\"].unique())\n",
    "print(df2.index)"
   ]
  }
 ],
 "metadata": {
  "jupytext": {
   "text_representation": {
    "extension": ".py",
    "format_name": "percent",
    "format_version": "1.3",
    "jupytext_version": "1.11.2"
   }
  },
  "kernelspec": {
   "display_name": "Python 3 (ipykernel)",
   "language": "python",
   "name": "python3"
  },
  "language_info": {
   "codemirror_mode": {
    "name": "ipython",
    "version": 3
   },
   "file_extension": ".py",
   "mimetype": "text/x-python",
   "name": "python",
   "nbconvert_exporter": "python",
   "pygments_lexer": "ipython3",
   "version": "3.10.6"
  },
  "toc": {
   "base_numbering": 1,
   "nav_menu": {},
   "number_sections": true,
   "sideBar": true,
   "skip_h1_title": false,
   "title_cell": "Table of Contents",
   "title_sidebar": "Contents",
   "toc_cell": false,
   "toc_position": {
    "height": "calc(100% - 180px)",
    "left": "10px",
    "top": "150px",
    "width": "205.6px"
   },
   "toc_section_display": true,
   "toc_window_display": true
  }
 },
 "nbformat": 4,
 "nbformat_minor": 5
}
