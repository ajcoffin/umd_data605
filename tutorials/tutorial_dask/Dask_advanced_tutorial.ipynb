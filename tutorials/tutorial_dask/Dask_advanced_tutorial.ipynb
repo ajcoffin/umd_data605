{
 "cells": [
  {
   "cell_type": "markdown",
   "id": "5f21eefb",
   "metadata": {},
   "source": [
    "# Dask Array in 3 minutes\n",
    "\n",
    "// From https://www.youtube.com/watch?v=9h_61hXCDuI)"
   ]
  },
  {
   "cell_type": "code",
   "execution_count": 36,
   "id": "f95589ea",
   "metadata": {
    "ExecuteTime": {
     "end_time": "2023-04-04T15:16:32.881500Z",
     "start_time": "2023-04-04T15:16:32.876826Z"
    }
   },
   "outputs": [],
   "source": [
    "def print_obj(obj, tag=None):\n",
    "    \"\"\"\n",
    "    Print an object in terms of type and then display is.\n",
    "    \"\"\"\n",
    "    if tag:\n",
    "        print(tag)\n",
    "    print(\"type=\", type(obj))\n",
    "    display(obj)\n",
    "    \n",
    "\n",
    "def print_dask(obj, visualize_graph=True, compute=True):\n",
    "    \"\"\"\n",
    "    Print information about a dask task graph.\n",
    "    \"\"\"\n",
    "    print(\"type=\", type(obj))\n",
    "    print(\"obj=\", obj)\n",
    "    #\n",
    "    print(\"# display\")\n",
    "    display(obj)\n",
    "    #\n",
    "    print(\"# dask\")\n",
    "    display(obj.dask)\n",
    "    #\n",
    "    if visualize_graph:\n",
    "        print(\"# visualize\")\n",
    "        display(obj.visualize())\n",
    "    #\n",
    "    if compute:\n",
    "        print(\"# compute\")\n",
    "        res = obj.compute()\n",
    "        print(type(res))\n",
    "        print(res)"
   ]
  },
  {
   "cell_type": "code",
   "execution_count": 25,
   "id": "5b2b48e6",
   "metadata": {
    "ExecuteTime": {
     "end_time": "2023-04-04T15:12:40.507784Z",
     "start_time": "2023-04-04T15:12:38.877023Z"
    }
   },
   "outputs": [
    {
     "name": "stdout",
     "output_type": "stream",
     "text": [
      "<Client: 'tcp://127.0.0.1:35637' processes=4 threads=8, memory=31.01 GiB> http://127.0.0.1:8787/status\n"
     ]
    }
   ],
   "source": [
    "# https://stackoverflow.com/questions/59070260/dask-client-detect-local-default-cluster-already-running\n",
    "import os\n",
    "os.environ['DASK_SCHEDULER_ADDRESS'] = 'tcp://localhost:8787'\n",
    "\n",
    "if not (\"cluster\" in globals() and \"client\" in globals()):\n",
    "    from dask.distributed import Client, LocalCluster\n",
    "    cluster = LocalCluster(dashboard_address=':8787')\n",
    "    client = Client(cluster)\n",
    "    print(client, client.dashboard_link)"
   ]
  },
  {
   "cell_type": "markdown",
   "id": "8672ac41",
   "metadata": {},
   "source": [
    "## Small array"
   ]
  },
  {
   "cell_type": "code",
   "execution_count": null,
   "id": "967c1194",
   "metadata": {
    "ExecuteTime": {
     "end_time": "2023-04-04T09:57:54.827970Z",
     "start_time": "2023-04-04T09:57:54.803519Z"
    }
   },
   "outputs": [],
   "source": [
    "import numpy as np\n",
    "\n",
    "x = np.ones(15)\n",
    "x"
   ]
  },
  {
   "cell_type": "code",
   "execution_count": null,
   "id": "f468d7b8",
   "metadata": {
    "ExecuteTime": {
     "end_time": "2023-04-04T09:57:55.706033Z",
     "start_time": "2023-04-04T09:57:55.545132Z"
    }
   },
   "outputs": [],
   "source": [
    "import dask.array as da\n",
    "\n",
    "x = da.ones(15, chunks=(5, ))\n",
    "x"
   ]
  },
  {
   "cell_type": "code",
   "execution_count": null,
   "id": "50be19aa",
   "metadata": {
    "ExecuteTime": {
     "end_time": "2023-04-04T09:54:47.424021Z",
     "start_time": "2023-04-04T09:54:47.399193Z"
    }
   },
   "outputs": [],
   "source": [
    "# The return type is a scalar.\n",
    "x.sum()"
   ]
  },
  {
   "cell_type": "code",
   "execution_count": null,
   "id": "95f7f87f",
   "metadata": {
    "ExecuteTime": {
     "end_time": "2023-04-04T09:57:59.652739Z",
     "start_time": "2023-04-04T09:57:59.235800Z"
    }
   },
   "outputs": [],
   "source": [
    "# Dask is lazy by default.\n",
    "x.sum().compute()"
   ]
  },
  {
   "cell_type": "markdown",
   "id": "4809f41f",
   "metadata": {
    "ExecuteTime": {
     "end_time": "2023-04-04T10:02:10.117465Z",
     "start_time": "2023-04-04T10:02:10.100679Z"
    }
   },
   "source": [
    "## Medium array"
   ]
  },
  {
   "cell_type": "code",
   "execution_count": null,
   "id": "b1b477f8",
   "metadata": {
    "ExecuteTime": {
     "end_time": "2023-04-04T10:36:01.852437Z",
     "start_time": "2023-04-04T10:36:01.220293Z"
    }
   },
   "outputs": [],
   "source": [
    "x = da.ones((10_000, 10_000), chunks=(5000, 5000))\n",
    "print_dask(x)"
   ]
  },
  {
   "cell_type": "code",
   "execution_count": null,
   "id": "3ea63072",
   "metadata": {
    "ExecuteTime": {
     "end_time": "2023-04-04T10:36:13.737384Z",
     "start_time": "2023-04-04T10:36:10.509903Z"
    }
   },
   "outputs": [],
   "source": [
    "y = x + x.T\n",
    "\n",
    "print_dask(y)"
   ]
  },
  {
   "cell_type": "code",
   "execution_count": null,
   "id": "97ccdd31",
   "metadata": {
    "ExecuteTime": {
     "end_time": "2023-04-04T10:03:16.135126Z",
     "start_time": "2023-04-04T10:03:10.251258Z"
    }
   },
   "outputs": [],
   "source": [
    "y.compute()"
   ]
  },
  {
   "cell_type": "markdown",
   "id": "3bcd10f4",
   "metadata": {},
   "source": [
    "## Larger array"
   ]
  },
  {
   "cell_type": "code",
   "execution_count": null,
   "id": "158b1fb8",
   "metadata": {
    "ExecuteTime": {
     "end_time": "2023-04-04T10:34:51.450723Z",
     "start_time": "2023-04-04T10:34:51.439034Z"
    }
   },
   "outputs": [],
   "source": [
    "x = da.ones((10_000, 10_000), chunks=(1000, 1000))\n",
    "x"
   ]
  },
  {
   "cell_type": "code",
   "execution_count": null,
   "id": "0fe32c31",
   "metadata": {
    "ExecuteTime": {
     "end_time": "2023-04-04T10:34:57.920538Z",
     "start_time": "2023-04-04T10:34:53.792805Z"
    }
   },
   "outputs": [],
   "source": [
    "y = x + x.T\n",
    "print_dask(y)"
   ]
  },
  {
   "cell_type": "code",
   "execution_count": null,
   "id": "023f5d5c",
   "metadata": {
    "ExecuteTime": {
     "end_time": "2023-04-04T10:34:12.257193Z",
     "start_time": "2023-04-04T10:34:07.729046Z"
    }
   },
   "outputs": [],
   "source": [
    "y.compute()"
   ]
  },
  {
   "cell_type": "markdown",
   "id": "f7dc30b4",
   "metadata": {},
   "source": [
    "# Dask DataFrame: An introduction\n",
    "\n",
    "// https://www.youtube.com/watch?v=AT2XtFehFSQ&t=37s"
   ]
  },
  {
   "cell_type": "code",
   "execution_count": null,
   "id": "55f43904",
   "metadata": {
    "ExecuteTime": {
     "end_time": "2023-04-04T14:02:39.968958Z",
     "start_time": "2023-04-04T14:02:39.948179Z"
    }
   },
   "outputs": [],
   "source": [
    "import dask\n",
    "import dask.dataframe as dd\n",
    "\n",
    "# Get an example large dataset.\n",
    "df_orig = dask.datasets.timeseries()\n",
    "print_obj(df_orig)\n",
    "\n",
    "# It has 30 partitions."
   ]
  },
  {
   "cell_type": "code",
   "execution_count": null,
   "id": "1c3e040b",
   "metadata": {
    "ExecuteTime": {
     "end_time": "2023-04-04T14:02:32.461466Z",
     "start_time": "2023-04-04T14:02:26.774735Z"
    }
   },
   "outputs": [],
   "source": [
    "# Save to disk in chunks.\n",
    "df_orig.to_csv(\"data\")\n",
    "!ls -lh data"
   ]
  },
  {
   "cell_type": "code",
   "execution_count": null,
   "id": "89441d65",
   "metadata": {
    "ExecuteTime": {
     "end_time": "2023-04-04T14:02:57.128776Z",
     "start_time": "2023-04-04T14:02:57.011089Z"
    }
   },
   "outputs": [],
   "source": [
    "# Load one chunk.\n",
    "import pandas as pd\n",
    "df = pd.read_csv(\"data/00.part\", parse_dates=[\"timestamp\"])\n",
    "df"
   ]
  },
  {
   "cell_type": "code",
   "execution_count": null,
   "id": "3383bbb3",
   "metadata": {
    "ExecuteTime": {
     "end_time": "2023-04-04T14:01:27.330268Z",
     "start_time": "2023-04-04T14:01:27.325331Z"
    }
   },
   "outputs": [],
   "source": [
    "df.x.mean()"
   ]
  },
  {
   "cell_type": "code",
   "execution_count": null,
   "id": "470011e9",
   "metadata": {
    "ExecuteTime": {
     "end_time": "2023-04-04T14:01:48.993733Z",
     "start_time": "2023-04-04T14:01:48.979778Z"
    }
   },
   "outputs": [],
   "source": [
    "df.groupby(\"name\").x.std()"
   ]
  },
  {
   "cell_type": "code",
   "execution_count": null,
   "id": "de600165",
   "metadata": {
    "ExecuteTime": {
     "end_time": "2023-04-04T14:12:10.633295Z",
     "start_time": "2023-04-04T14:12:10.443593Z"
    }
   },
   "outputs": [],
   "source": [
    "import dask.dataframe as dd\n",
    "\n",
    "# Read one partition with Dask.\n",
    "#df = dd.read_csv(\"data/00.part\", parse_dates=[\"timestamp\"])\n",
    "\n",
    "# Read all partitions with Dask.\n",
    "df = dd.read_csv(\"data/*.part\", parse_dates=[\"timestamp\"])\n",
    "\n",
    "print_obj(df)\n",
    "\n",
    "# head() materializes the data.\n",
    "df.head()"
   ]
  },
  {
   "cell_type": "code",
   "execution_count": null,
   "id": "ba58d02f",
   "metadata": {
    "ExecuteTime": {
     "end_time": "2023-04-04T14:12:14.249520Z",
     "start_time": "2023-04-04T14:12:14.240585Z"
    },
    "scrolled": false
   },
   "outputs": [],
   "source": [
    "# We get a \"lazy result\". Dask reads from disk only when one asks for a result.\n",
    "obj = df.x.mean()\n",
    "\n",
    "print_obj(obj)"
   ]
  },
  {
   "cell_type": "code",
   "execution_count": null,
   "id": "f258cec9",
   "metadata": {
    "ExecuteTime": {
     "end_time": "2023-04-04T14:06:44.273917Z",
     "start_time": "2023-04-04T14:06:44.086107Z"
    },
    "scrolled": false
   },
   "outputs": [],
   "source": [
    "print_dask(obj, compute=False)"
   ]
  },
  {
   "cell_type": "code",
   "execution_count": null,
   "id": "d0073f3a",
   "metadata": {
    "ExecuteTime": {
     "end_time": "2023-04-04T14:12:24.167213Z",
     "start_time": "2023-04-04T14:12:22.849517Z"
    }
   },
   "outputs": [],
   "source": [
    "df.x.mean().compute()"
   ]
  },
  {
   "cell_type": "code",
   "execution_count": null,
   "id": "be17429b",
   "metadata": {
    "ExecuteTime": {
     "end_time": "2023-04-04T14:12:41.984546Z",
     "start_time": "2023-04-04T14:12:40.624330Z"
    }
   },
   "outputs": [],
   "source": [
    "obj = df.groupby(\"name\").x.std()\n",
    "\n",
    "obj.compute()"
   ]
  },
  {
   "cell_type": "markdown",
   "id": "ceb924d0",
   "metadata": {},
   "source": [
    "## Index, partitions, and sorting"
   ]
  },
  {
   "cell_type": "code",
   "execution_count": null,
   "id": "166bbf4d",
   "metadata": {
    "ExecuteTime": {
     "end_time": "2023-04-04T14:13:53.772662Z",
     "start_time": "2023-04-04T14:13:53.760010Z"
    }
   },
   "outputs": [],
   "source": [
    "# The original data read is made of 30 partitions.\n",
    "# Each partition can be read in parallel and independently.\n",
    "df"
   ]
  },
  {
   "cell_type": "code",
   "execution_count": null,
   "id": "4b85bc5e",
   "metadata": {
    "ExecuteTime": {
     "end_time": "2023-04-04T14:14:18.780787Z",
     "start_time": "2023-04-04T14:14:18.763187Z"
    }
   },
   "outputs": [],
   "source": [
    "df.partitions[5]"
   ]
  },
  {
   "cell_type": "code",
   "execution_count": null,
   "id": "5df5c97a",
   "metadata": {
    "ExecuteTime": {
     "end_time": "2023-04-04T14:14:45.516160Z",
     "start_time": "2023-04-04T14:14:45.323483Z"
    }
   },
   "outputs": [],
   "source": [
    "obj = df.partitions[5].compute()\n",
    "\n",
    "print_obj(obj)"
   ]
  },
  {
   "cell_type": "code",
   "execution_count": null,
   "id": "784bdb86",
   "metadata": {
    "ExecuteTime": {
     "end_time": "2023-04-04T14:16:18.326146Z",
     "start_time": "2023-04-04T14:16:17.192775Z"
    }
   },
   "outputs": [],
   "source": [
    "# Apply a function across all the partitions.\n",
    "#df.map_partitions(type).compute()\n",
    "df.map_partitions(len).compute()"
   ]
  },
  {
   "cell_type": "code",
   "execution_count": null,
   "id": "e3dc0d3b",
   "metadata": {
    "ExecuteTime": {
     "end_time": "2023-04-04T14:17:23.827979Z",
     "start_time": "2023-04-04T14:17:23.660851Z"
    }
   },
   "outputs": [],
   "source": [
    "# Read the first partition.\n",
    "df.head()"
   ]
  },
  {
   "cell_type": "code",
   "execution_count": null,
   "id": "70d09e09",
   "metadata": {
    "ExecuteTime": {
     "end_time": "2023-04-04T14:17:27.258959Z",
     "start_time": "2023-04-04T14:17:27.086164Z"
    }
   },
   "outputs": [],
   "source": [
    "# Read the last partition.\n",
    "df.tail()"
   ]
  },
  {
   "cell_type": "code",
   "execution_count": null,
   "id": "efe2a89d",
   "metadata": {
    "ExecuteTime": {
     "end_time": "2023-04-04T14:20:36.050493Z",
     "start_time": "2023-04-04T14:20:36.032080Z"
    }
   },
   "outputs": [],
   "source": [
    "# This forces Dask to read the data but it doesn't compute.\n",
    "df = df.set_index(\"timestamp\")\n",
    "print_obj(df)\n",
    "\n",
    "# The partitions host data between two different timestamps.\n",
    "# In this way Dask knows in which file chunks of data."
   ]
  },
  {
   "cell_type": "code",
   "execution_count": null,
   "id": "301700af",
   "metadata": {
    "ExecuteTime": {
     "end_time": "2023-04-04T14:22:40.288787Z",
     "start_time": "2023-04-04T14:22:38.828528Z"
    }
   },
   "outputs": [],
   "source": [
    "# Save files to Parquet.\n",
    "df.to_parquet(\"myfile.parquet\")"
   ]
  },
  {
   "cell_type": "code",
   "execution_count": null,
   "id": "85533705",
   "metadata": {
    "ExecuteTime": {
     "end_time": "2023-04-04T14:22:41.513194Z",
     "start_time": "2023-04-04T14:22:40.856386Z"
    }
   },
   "outputs": [],
   "source": [
    "!ls myfile.parquet"
   ]
  },
  {
   "cell_type": "markdown",
   "id": "fcae3c4b",
   "metadata": {},
   "source": [
    "# Dask Bag\n",
    "\n",
    "From https://www.youtube.com/watch?v=-qIiJ1XtSv0"
   ]
  },
  {
   "cell_type": "code",
   "execution_count": null,
   "id": "abd4dcc2",
   "metadata": {
    "ExecuteTime": {
     "end_time": "2023-04-04T14:35:07.237823Z",
     "start_time": "2023-04-04T14:35:07.232989Z"
    }
   },
   "outputs": [],
   "source": [
    "import dask.bag as db\n",
    "\n",
    "# Create a bag storing 10 elements.\n",
    "b = db.from_sequence([1, 2, 3, 4, 5, 6, 7, 8, 9, 10], npartitions=4)\n",
    "print_obj(b)"
   ]
  },
  {
   "cell_type": "code",
   "execution_count": null,
   "id": "e02bc31e",
   "metadata": {
    "ExecuteTime": {
     "end_time": "2023-04-04T14:35:17.163136Z",
     "start_time": "2023-04-04T14:35:17.158143Z"
    }
   },
   "outputs": [],
   "source": [
    "# This produces a new bag.\n",
    "obj = b.map(lambda x: x ** 2)\n",
    "\n",
    "print_obj(b)"
   ]
  },
  {
   "cell_type": "code",
   "execution_count": null,
   "id": "c1077d89",
   "metadata": {
    "ExecuteTime": {
     "end_time": "2023-04-04T14:35:25.328305Z",
     "start_time": "2023-04-04T14:35:25.286513Z"
    }
   },
   "outputs": [],
   "source": [
    "# Execute.\n",
    "obj.compute()"
   ]
  },
  {
   "cell_type": "code",
   "execution_count": null,
   "id": "a151df61",
   "metadata": {
    "ExecuteTime": {
     "end_time": "2023-04-04T14:37:43.814340Z",
     "start_time": "2023-04-04T14:37:43.808999Z"
    },
    "scrolled": false
   },
   "outputs": [],
   "source": [
    "# One can chain computations: e.g., filter, square and sum.\n",
    "obj = b.filter(lambda x : x % 2 == 0).map(lambda x: x ** 2).sum()\n",
    "print_obj(obj)"
   ]
  },
  {
   "cell_type": "code",
   "execution_count": null,
   "id": "bbe95fe3",
   "metadata": {},
   "outputs": [],
   "source": [
    "print_dask(obj)"
   ]
  },
  {
   "cell_type": "code",
   "execution_count": null,
   "id": "9973db0c",
   "metadata": {},
   "outputs": [],
   "source": [
    "obj.compute()"
   ]
  },
  {
   "cell_type": "markdown",
   "id": "d0e01529",
   "metadata": {},
   "source": [
    "## An example with JSON data"
   ]
  },
  {
   "cell_type": "code",
   "execution_count": null,
   "id": "13748283",
   "metadata": {
    "ExecuteTime": {
     "end_time": "2023-04-04T14:31:27.463862Z",
     "start_time": "2023-04-04T14:31:26.806378Z"
    }
   },
   "outputs": [],
   "source": [
    "#!wget https://archive.analytics.mybinder.org/events-2019-06-17.jsonl"
   ]
  },
  {
   "cell_type": "code",
   "execution_count": null,
   "id": "4429371c",
   "metadata": {
    "ExecuteTime": {
     "end_time": "2023-04-04T14:32:36.850773Z",
     "start_time": "2023-04-04T14:32:34.690872Z"
    }
   },
   "outputs": [],
   "source": [
    "!pip install aiohttp requests"
   ]
  },
  {
   "cell_type": "code",
   "execution_count": 18,
   "id": "dd86f1b1",
   "metadata": {
    "ExecuteTime": {
     "end_time": "2023-04-04T15:11:58.742060Z",
     "start_time": "2023-04-04T15:11:37.433345Z"
    },
    "scrolled": false
   },
   "outputs": [
    {
     "name": "stderr",
     "output_type": "stream",
     "text": [
      "mkdir: cannot create directory ‘data_json’: File exists\n"
     ]
    },
    {
     "name": "stdout",
     "output_type": "stream",
     "text": [
      "data_json/events-2019-06-01.jsonl\n",
      "data_json/events-2019-06-02.jsonl\n",
      "data_json/events-2019-06-03.jsonl\n",
      "data_json/events-2019-06-04.jsonl\n",
      "data_json/events-2019-06-05.jsonl\n",
      "data_json/events-2019-06-06.jsonl\n",
      "data_json/events-2019-06-07.jsonl\n",
      "data_json/events-2019-06-08.jsonl\n",
      "data_json/events-2019-06-09.jsonl\n",
      "data_json/events-2019-06-10.jsonl\n",
      "data_json/events-2019-06-11.jsonl\n",
      "data_json/events-2019-06-12.jsonl\n",
      "data_json/events-2019-06-13.jsonl\n",
      "data_json/events-2019-06-14.jsonl\n",
      "data_json/events-2019-06-15.jsonl\n",
      "https://archive.analytics.mybinder.org/events-2019-06-15.jsonl\n",
      "data_json/events-2019-06-16.jsonl\n",
      "https://archive.analytics.mybinder.org/events-2019-06-16.jsonl\n",
      "data_json/events-2019-06-17.jsonl\n",
      "https://archive.analytics.mybinder.org/events-2019-06-17.jsonl\n",
      "data_json/events-2019-06-18.jsonl\n",
      "https://archive.analytics.mybinder.org/events-2019-06-18.jsonl\n",
      "data_json/events-2019-06-19.jsonl\n",
      "https://archive.analytics.mybinder.org/events-2019-06-19.jsonl\n",
      "data_json/events-2019-06-20.jsonl\n",
      "https://archive.analytics.mybinder.org/events-2019-06-20.jsonl\n",
      "data_json/events-2019-06-21.jsonl\n",
      "https://archive.analytics.mybinder.org/events-2019-06-21.jsonl\n",
      "data_json/events-2019-06-22.jsonl\n",
      "https://archive.analytics.mybinder.org/events-2019-06-22.jsonl\n",
      "data_json/events-2019-06-23.jsonl\n",
      "https://archive.analytics.mybinder.org/events-2019-06-23.jsonl\n",
      "data_json/events-2019-06-24.jsonl\n",
      "https://archive.analytics.mybinder.org/events-2019-06-24.jsonl\n",
      "data_json/events-2019-06-25.jsonl\n",
      "https://archive.analytics.mybinder.org/events-2019-06-25.jsonl\n",
      "data_json/events-2019-06-26.jsonl\n",
      "https://archive.analytics.mybinder.org/events-2019-06-26.jsonl\n",
      "data_json/events-2019-06-27.jsonl\n",
      "https://archive.analytics.mybinder.org/events-2019-06-27.jsonl\n",
      "data_json/events-2019-06-28.jsonl\n",
      "https://archive.analytics.mybinder.org/events-2019-06-28.jsonl\n",
      "data_json/events-2019-06-29.jsonl\n",
      "https://archive.analytics.mybinder.org/events-2019-06-29.jsonl\n"
     ]
    }
   ],
   "source": [
    "import os\n",
    "import requests\n",
    "\n",
    "#os.system(\"rm -rf data_json\")\n",
    "os.system(\"mkdir data_json\")\n",
    "\n",
    "for month in range(6, 7):\n",
    "    for day in range(1, 30):\n",
    "        file = \"events-2019-%02d-%02d.jsonl\" % (month, day)\n",
    "        dst_file = f'data_json/{file}'\n",
    "        print(dst_file)\n",
    "        if os.path.exists(dst_file):\n",
    "            continue\n",
    "        url = \"https://archive.analytics.mybinder.org/%s\" % file\n",
    "        print(url)\n",
    "        r = requests.get(url, allow_redirects=True)\n",
    "        open(dst_file, 'wb').write(r.content)\n"
   ]
  },
  {
   "cell_type": "code",
   "execution_count": 19,
   "id": "e56225b9",
   "metadata": {
    "ExecuteTime": {
     "end_time": "2023-04-04T15:12:11.490855Z",
     "start_time": "2023-04-04T15:12:10.209652Z"
    }
   },
   "outputs": [
    {
     "name": "stdout",
     "output_type": "stream",
     "text": [
      "data_json/events-2019-06-01.jsonl  data_json/events-2019-06-16.jsonl\n",
      "data_json/events-2019-06-02.jsonl  data_json/events-2019-06-17.jsonl\n",
      "data_json/events-2019-06-03.jsonl  data_json/events-2019-06-18.jsonl\n",
      "data_json/events-2019-06-04.jsonl  data_json/events-2019-06-19.jsonl\n",
      "data_json/events-2019-06-05.jsonl  data_json/events-2019-06-20.jsonl\n",
      "data_json/events-2019-06-06.jsonl  data_json/events-2019-06-21.jsonl\n",
      "data_json/events-2019-06-07.jsonl  data_json/events-2019-06-22.jsonl\n",
      "data_json/events-2019-06-08.jsonl  data_json/events-2019-06-23.jsonl\n",
      "data_json/events-2019-06-09.jsonl  data_json/events-2019-06-24.jsonl\n",
      "data_json/events-2019-06-10.jsonl  data_json/events-2019-06-25.jsonl\n",
      "data_json/events-2019-06-11.jsonl  data_json/events-2019-06-26.jsonl\n",
      "data_json/events-2019-06-12.jsonl  data_json/events-2019-06-27.jsonl\n",
      "data_json/events-2019-06-13.jsonl  data_json/events-2019-06-28.jsonl\n",
      "data_json/events-2019-06-14.jsonl  data_json/events-2019-06-29.jsonl\n",
      "data_json/events-2019-06-15.jsonl\n",
      "67M\tdata_json\n"
     ]
    }
   ],
   "source": [
    "!ls data_json/*\n",
    "!du -h data_json"
   ]
  },
  {
   "cell_type": "code",
   "execution_count": 3,
   "id": "d956428c",
   "metadata": {
    "ExecuteTime": {
     "end_time": "2023-04-04T15:06:35.331754Z",
     "start_time": "2023-04-04T15:06:34.049642Z"
    }
   },
   "outputs": [
    {
     "name": "stdout",
     "output_type": "stream",
     "text": [
      "{\"timestamp\": \"2019-06-14T00:00:00+00:00\", \"schema\": \"binderhub.jupyter.org/launch\", \"version\": 3, \"provider\": \"GitHub\", \"spec\": \"QuantStack/xeus-cling/stable\", \"status\": \"success\", \"origin\": \"gke.mybinder.org\"}\n",
      "{\"timestamp\": \"2019-06-14T00:00:00+00:00\", \"schema\": \"binderhub.jupyter.org/launch\", \"version\": 3, \"provider\": \"GitHub\", \"spec\": \"TheZetner/jupyter-examples-2019/master\", \"status\": \"success\", \"origin\": \"gke.mybinder.org\"}\n",
      "{\"timestamp\": \"2019-06-14T00:00:00+00:00\", \"schema\": \"binderhub.jupyter.org/launch\", \"version\": 3, \"provider\": \"GitHub\", \"spec\": \"binder-examples/r/master\", \"status\": \"success\", \"origin\": \"gke.mybinder.org\"}\n",
      "{\"timestamp\": \"2019-06-14T00:00:00+00:00\", \"schema\": \"binderhub.jupyter.org/launch\", \"version\": 3, \"provider\": \"GitHub\", \"spec\": \"binder-examples/r/master\", \"status\": \"success\", \"origin\": \"gke.mybinder.org\"}\n",
      "{\"timestamp\": \"2019-06-14T00:00:00+00:00\", \"schema\": \"binderhub.jupyter.org/launch\", \"version\": 3, \"provider\": \"GitHub\", \"spec\": \"DS-100/textbook/master\", \"status\": \"success\", \"origin\": \"gke.mybinder.org\"}\n",
      "{\"timestamp\": \"2019-06-14T00:01:00+00:00\", \"schema\": \"binderhub.jupyter.org/launch\", \"version\": 3, \"provider\": \"GitHub\", \"spec\": \"ipython/ipython-in-depth/master\", \"status\": \"success\", \"origin\": \"gke.mybinder.org\"}\n",
      "{\"timestamp\": \"2019-06-14T00:01:00+00:00\", \"schema\": \"binderhub.jupyter.org/launch\", \"version\": 3, \"provider\": \"GitHub\", \"spec\": \"ipython/ipython-in-depth/master\", \"status\": \"success\", \"origin\": \"gke.mybinder.org\"}\n",
      "{\"timestamp\": \"2019-06-14T00:01:00+00:00\", \"schema\": \"binderhub.jupyter.org/launch\", \"version\": 3, \"provider\": \"GitHub\", \"spec\": \"ipython/ipython-in-depth/master\", \"status\": \"success\", \"origin\": \"gke.mybinder.org\"}\n",
      "{\"timestamp\": \"2019-06-14T00:01:00+00:00\", \"schema\": \"binderhub.jupyter.org/launch\", \"version\": 3, \"provider\": \"GitHub\", \"spec\": \"jupyterlab/jupyterlab-demo/master\", \"status\": \"success\", \"origin\": \"gke.mybinder.org\"}\n",
      "{\"timestamp\": \"2019-06-14T00:02:00+00:00\", \"schema\": \"binderhub.jupyter.org/launch\", \"version\": 3, \"provider\": \"GitHub\", \"spec\": \"ComputoCienciasUniandes/FISI2028-201910/master\", \"status\": \"success\", \"origin\": \"gke.mybinder.org\"}\n",
      "2.4M\tdata_json/events-2019-06-14.jsonl\n"
     ]
    }
   ],
   "source": [
    "!head data_json/events-2019-06-14.jsonl\n",
    "\n",
    "!du -h data_json/events-2019-06-14.jsonl"
   ]
  },
  {
   "cell_type": "code",
   "execution_count": 21,
   "id": "90b0b924",
   "metadata": {
    "ExecuteTime": {
     "end_time": "2023-04-04T15:12:21.181579Z",
     "start_time": "2023-04-04T15:12:20.932872Z"
    }
   },
   "outputs": [
    {
     "data": {
      "text/plain": [
       "('{\"timestamp\": \"2019-06-01T00:00:00+00:00\", \"schema\": \"binderhub.jupyter.org/launch\", \"version\": 2, \"provider\": \"GitHub\", \"spec\": \"sbl-sdsc/mmtf-workshop-2018/master\", \"status\": \"success\"}\\n',\n",
       " '{\"timestamp\": \"2019-06-01T00:01:00+00:00\", \"schema\": \"binderhub.jupyter.org/launch\", \"version\": 2, \"provider\": \"GitHub\", \"spec\": \"DS-100/textbook/master\", \"status\": \"success\"}\\n')"
      ]
     },
     "execution_count": 21,
     "metadata": {},
     "output_type": "execute_result"
    }
   ],
   "source": [
    "import dask.bag as db\n",
    "\n",
    "# Read a single file.\n",
    "#lines = db.read_text(\"data_json/events-2019-06-14.jsonl\")\n",
    "\n",
    "# Read all files.\n",
    "lines = db.read_text(\"data_json/events-*.jsonl\")\n",
    "\n",
    "# Read the first 2 lines.\n",
    "lines.take(2)"
   ]
  },
  {
   "cell_type": "code",
   "execution_count": 22,
   "id": "85ccf3a2",
   "metadata": {
    "ExecuteTime": {
     "end_time": "2023-04-04T15:12:21.337666Z",
     "start_time": "2023-04-04T15:12:21.334155Z"
    }
   },
   "outputs": [
    {
     "data": {
      "text/plain": [
       "dask.bag<bag-from-delayed, npartitions=29>"
      ]
     },
     "execution_count": 22,
     "metadata": {},
     "output_type": "execute_result"
    }
   ],
   "source": [
    "# It has a certain number of partitions, one per original file.\n",
    "lines"
   ]
  },
  {
   "cell_type": "code",
   "execution_count": 23,
   "id": "cfd036e7",
   "metadata": {
    "ExecuteTime": {
     "end_time": "2023-04-04T15:12:22.280331Z",
     "start_time": "2023-04-04T15:12:22.020406Z"
    }
   },
   "outputs": [
    {
     "data": {
      "text/plain": [
       "({'timestamp': '2019-06-01T00:00:00+00:00',\n",
       "  'schema': 'binderhub.jupyter.org/launch',\n",
       "  'version': 2,\n",
       "  'provider': 'GitHub',\n",
       "  'spec': 'sbl-sdsc/mmtf-workshop-2018/master',\n",
       "  'status': 'success'},\n",
       " {'timestamp': '2019-06-01T00:01:00+00:00',\n",
       "  'schema': 'binderhub.jupyter.org/launch',\n",
       "  'version': 2,\n",
       "  'provider': 'GitHub',\n",
       "  'spec': 'DS-100/textbook/master',\n",
       "  'status': 'success'})"
      ]
     },
     "execution_count": 23,
     "metadata": {},
     "output_type": "execute_result"
    }
   ],
   "source": [
    "# Transform the JSON lines into structured data.\n",
    "import json\n",
    "\n",
    "records = lines.map(json.loads)\n",
    "records.take(2)"
   ]
  },
  {
   "cell_type": "code",
   "execution_count": 26,
   "id": "4426c82e",
   "metadata": {
    "ExecuteTime": {
     "end_time": "2023-04-04T15:12:47.393169Z",
     "start_time": "2023-04-04T15:12:45.991626Z"
    }
   },
   "outputs": [
    {
     "data": {
      "text/plain": [
       "[('ipython/ipython-in-depth/master', 163735),\n",
       " ('jupyterlab/jupyterlab-demo/master', 33724),\n",
       " ('ines/spacy-io-binder/live', 16367),\n",
       " ('DS-100/textbook/master', 11167),\n",
       " ('bokeh/bokeh-notebooks/master', 7834),\n",
       " ('ines/spacy-course/binder', 4778),\n",
       " ('binder-examples/requirements/master', 4754),\n",
       " ('rationalmatter/juno-demo-notebooks/master', 4553),\n",
       " ('binder-examples/r/master', 4547),\n",
       " ('QuantStack/xeus-cling/stable', 3602),\n",
       " ('numba/numba-examples/master', 2179),\n",
       " ('binder-examples/julia-python/master', 1988),\n",
       " ('dask/dask-examples/master', 1852),\n",
       " ('noamross/gams-in-r-course/master', 1850),\n",
       " ('ELC/8fdc0f490b3058872a7014f01416dfb6/master', 1697),\n",
       " ('ComputoCienciasUniandes/FISI2028-201910/master', 1230),\n",
       " ('wshuyi/demo-spacy-text-processing/master', 1224),\n",
       " ('data-8/textbook/gh-pages', 1223),\n",
       " ('jmsevillam/Calculadoras/master', 1220),\n",
       " ('jupyter/jupyter-book/gh-pages', 1009),\n",
       " ('freechipsproject/chisel-bootcamp/master', 964),\n",
       " ('rasahq/docs-binder/master', 937),\n",
       " ('ELC/380e584b87227b15727ec886223d9d4a/master', 930),\n",
       " ('RubyData/binder/master', 779),\n",
       " ('SamLau95/nbinteract-image/master', 698),\n",
       " ('brian-team/brian2-binder/master', 691),\n",
       " ('rlabbe/Kalman-and-Bayesian-Filters-in-Python/master', 651),\n",
       " ('Coleridge-Initiative/ada-intro-python/master', 581),\n",
       " ('santanche/java2learn.git/master', 560),\n",
       " ('matjesg/AIS_2019/master', 558),\n",
       " ('utt-connected-innovation%2Fia-course-2019/master', 524),\n",
       " ('ul-fri%2Fovs%2Fpython/master', 517),\n",
       " ('panel-demos/clifford-interact/master', 502),\n",
       " ('Fusiakja/r/master', 489),\n",
       " ('profjsb/ml_course/master', 479),\n",
       " ('RichardOberdieck/practical-optimization-course/master', 475),\n",
       " ('panel-demos/gapminder/master', 471),\n",
       " ('binder-examples/matplotlib-versions/mpl-v2.0', 458),\n",
       " ('Calysto/calysto_scheme/master', 449),\n",
       " ('nteract/examples/master', 440),\n",
       " ('Microsoft/QuantumKatas/master', 421),\n",
       " ('jvns/pandas-cookbook/master', 412),\n",
       " ('MIDS-INFO-W18/Drills/master', 402),\n",
       " ('bloomberg/bqplot/stable', 401),\n",
       " ('LibreTexts/jupyter-python/master', 400),\n",
       " ('rougier/numpy-100/master', 393),\n",
       " ('AI-BlackBelt/yellow/master', 380),\n",
       " ('Coleridge-Initiative/ada-intro-sql/master', 369),\n",
       " ('ray-project/tutorial/master', 357),\n",
       " ('quantopian/qgrid-notebooks/master', 353),\n",
       " ('damianavila/RISE/master', 320),\n",
       " ('alexrenz/5e9c1d76b2e05257e7a45e181fe198b7/master', 319),\n",
       " ('panel-demos/nyc_taxi/master', 318),\n",
       " ('panel-demos/glaciers/master', 317),\n",
       " ('profjsb/ml_course/eafd5f4ec2529bcaee13132f15e950884dc48d0e', 317),\n",
       " ('thpclass/simple-substrate/master', 315),\n",
       " ('stencila/examples/elife-30274-binder', 298),\n",
       " ('msr-quarc/intern-workshop-2019/master', 293),\n",
       " ('almond-sh/examples/master', 290),\n",
       " ('SpencerPark/ijava-binder/master', 288),\n",
       " ('AllenDowney/ThinkDSP/master', 287),\n",
       " ('sparkm/mlpt/master', 283),\n",
       " ('yzhao062/pyod/master', 281),\n",
       " ('Microsoft/cognitive-services-notebooks/master', 281),\n",
       " ('UCB-INFO-PYTHON/Drills/master', 275),\n",
       " ('twosigma/beakerx/1.2.0', 273),\n",
       " ('stefanluedtke/AI-Exercises/master', 264),\n",
       " ('albertoruiz/umucv/master', 257),\n",
       " ('jupyter/docker-stacks/master', 254),\n",
       " ('cmbant/camb/master', 252),\n",
       " ('zachetienne/nrpytutorial/master', 250),\n",
       " ('jocelyndunstan/MIT_certificate/master', 245),\n",
       " ('UTDataMining/2019S/master', 243),\n",
       " ('binder-examples/jupyter-stacks/master', 241),\n",
       " ('marcelluethi/algodata-jupyter-notebooks/master', 240),\n",
       " ('jcamponovo/Formation/master', 240),\n",
       " ('trekhleb/homemade-machine-learning/master', 226),\n",
       " ('parulnith/An-Overview-of-Python-s-Datatable-package/master', 222),\n",
       " ('ageron/handson-ml2/master', 219),\n",
       " ('jakevdp/PythonDataScienceHandbook/master', 218),\n",
       " ('mvinoba/notebooks-for-binder/master', 217),\n",
       " ('intake/intake-examples/master', 216),\n",
       " ('ines/spacy-course/master', 204),\n",
       " ('aforechi/ifes-alg-2018-2.git/master', 194),\n",
       " ('uds-se/fuzzingbook/master', 187),\n",
       " ('d6tdev/top10-mistakes-statistics-binder/master', 187),\n",
       " ('ricklupton/floweaver/master', 183),\n",
       " ('FathiahHusna/nbinteract-tutorial/master', 181),\n",
       " ('yandexdataschool/nlp_course/master', 181),\n",
       " ('QuantStack/xtensor/stable', 181),\n",
       " ('binder-examples/python2_with_3/master', 181),\n",
       " ('RaRe-Technologies/gensim/master', 181),\n",
       " ('sswatson/simple-python-stack/master', 175),\n",
       " ('rruizz%2Finforfis/master', 172),\n",
       " ('illinois-scicomp/cs450-s19-binder/master', 171),\n",
       " ('ipython/ipython/6.x', 169),\n",
       " ('mwouts/jupytext/master', 166),\n",
       " ('oschuett/appmode/master', 166),\n",
       " ('applied-bioinformatics/built-iab/master', 165),\n",
       " ('qiskit/qiskit-tutorials/master', 164),\n",
       " ('chrisflath/MPS_2019/master', 161),\n",
       " ('cantera/cantera-jupyter/master', 159),\n",
       " ('copernicusmarine/copernicus-env/master', 159),\n",
       " ('danforthcenter/plantcv-binder.git/master', 157),\n",
       " ('nilsleiffischer/python-course/deploy', 157),\n",
       " ('digipresnet/guide-to-format-id/master', 157),\n",
       " ('QuantStack/voila/stable', 155),\n",
       " ('lclem/agda-kernel/master', 153),\n",
       " ('LibreTexts/bqplot/master', 152),\n",
       " ('sentinel-hub/education/master', 150),\n",
       " ('nimamahmoudi/python-workshop-megsa-2019/master', 149),\n",
       " ('joaopauloam/metodos_computacionais/85f4b72f4734df2362caebe55d0ed23d87368698',\n",
       "  149),\n",
       " ('misterned/bloc2.git/master', 146),\n",
       " ('sarvaniputta/dayinlife/master', 145),\n",
       " ('profjsb/ml_course/c209b1b23062f680520b29060f605a52b0d5f087', 145),\n",
       " ('DBertazioli/Interact/master', 143),\n",
       " ('ComputoCienciasUniandes/FISI2029-201910/master', 140),\n",
       " ('InsightSoftwareConsortium/itk-jupyter-widgets/master', 135),\n",
       " ('scientificprogrammingUOS/lectures/master', 134),\n",
       " ('ines/spacy-io-binder/master', 131),\n",
       " ('OGGM/oggm-edu-r2d/master', 131),\n",
       " ('Parsl/parsl-tutorial/master', 130),\n",
       " ('DecodedCo/decision-tree-notebook/master', 130),\n",
       " ('mpbeu/Intro/master', 129),\n",
       " ('binder-examples/conda/master', 126),\n",
       " ('MachineIntellect/DeepLearner/master', 123),\n",
       " ('eaiii-frba-utn/2019/master', 123),\n",
       " ('vignesh1987/ipywidgets/master', 122),\n",
       " ('lighthouse-labs/python-workshop/master', 122),\n",
       " ('lightning-viz/lightning-example-notebooks/master', 119),\n",
       " ('annierak/desert_open_space_geometry/master', 118),\n",
       " ('djsegal/tetris-binder/master', 116),\n",
       " ('joergbrech/Modellbildung-und-Simulation/master', 114),\n",
       " ('rudip7/k-Means-ISDA/master', 114),\n",
       " ('pymc-devs/pymc3/master', 113),\n",
       " ('cgentemann/cloud_science/master', 113),\n",
       " ('Microsoft/jupyter-Kqlmagic/master', 113),\n",
       " ('thomas-emig/gdi-jupyter-notebooks/master', 111),\n",
       " ('amarandon%2Fpresentation-jupyter/master', 111),\n",
       " ('matheusmota/facens-dataviz/master', 110),\n",
       " ('IbHansen/modelflow/master', 110),\n",
       " ('barche/ClimatePlots/master', 110),\n",
       " ('QISKit/qiskit-tutorial/master', 108),\n",
       " ('binder-examples/requirements/fa84f12', 108),\n",
       " ('eldridgejm/dsc40b-demos-public/master', 105),\n",
       " ('QuantStack/ipysheet/stable', 104),\n",
       " ('treehouse-projects/python-introducing-pandas/master', 103),\n",
       " ('betatim/vscode-binder/master', 101),\n",
       " ('binder-examples/conda_environment/v1.0', 101),\n",
       " ('dgerlanc/programming-with-data/master', 101),\n",
       " ('finterstellar/lecture/master', 101),\n",
       " ('jupyterhub/nbgitpuller/master', 100),\n",
       " ('sekhansen/epfl/master', 100),\n",
       " ('kimbrianj/intro-sql/master', 100),\n",
       " ('astropy/astropy-tutorials/master', 97),\n",
       " ('losc-tutorial/LOSC_Event_tutorial/master', 97),\n",
       " ('nteract/vdom/master', 97),\n",
       " ('kbroman/Teaching_CTC2019/master', 97),\n",
       " ('sepandhaghighi/pycm/master', 96),\n",
       " ('oamorris1/astar1/master', 96),\n",
       " ('nteract/papermill/master', 95),\n",
       " ('okama-io/yapo/master', 95),\n",
       " ('kayak93/nbinteract-tutorial/master', 95),\n",
       " ('jvdkwast/Python3_Jupyter_Notebook/master', 94),\n",
       " ('annierak/timeless_simulations/master', 94),\n",
       " ('b3ck3tt/temp/master', 92),\n",
       " ('jmportilla/Complete-Python-Bootcamp/master', 91),\n",
       " ('betatim/minimal-r2d-python/master', 91),\n",
       " ('Microsoft/Quantum/master', 90),\n",
       " ('jbkinney/19_urp/master', 89),\n",
       " ('InputDataHere/Creative_Model/master', 89),\n",
       " ('RainCloudPlots/RainCloudPlots/master', 88),\n",
       " ('GibbsConsulting/jupyter-plotly-dash/master', 88),\n",
       " ('ThierryMondeel/Systems_Biology_FBA_tutorial/master', 88),\n",
       " ('anpaz-msft/dj-workshop-2019/master', 88),\n",
       " ('aforechi/ifes-alg-2018-2/master', 87),\n",
       " ('Trindad/digestive-diseases/network', 86),\n",
       " ('binder-examples/jupyterlab/master', 86),\n",
       " ('daavoo/pyntcloud/master', 86),\n",
       " ('albert.van.breemen%2Fmasterclassdeeplearning/master', 86),\n",
       " ('lfortran%2Fweb%2Flfortran-binder/master', 85),\n",
       " ('katiechambe/WSPExoplanets.git/master', 85),\n",
       " ('geo-python/notebooks/master', 84),\n",
       " ('fvillena/workshopEmbeddingsAndClassifiers/master', 84),\n",
       " ('dunovank/jupyter-themes/master', 83),\n",
       " ('jakob-beetz/SummerSchoolOfLDAC/multiKernel', 83),\n",
       " ('ercanserteli/kbyoyo19python/master', 83),\n",
       " ('dgdi/public_finance_2018_2019/master', 82),\n",
       " ('rdungee/waospy/master', 82),\n",
       " ('chekos/probando-voila/master', 82),\n",
       " ('jupyterhub/zero-to-jupyterhub-k8s/master', 81),\n",
       " ('manuxch/intro2prog/master', 81),\n",
       " ('scikit-hep/uproot/master', 80),\n",
       " ('leichong2019/BinderOne/master', 80),\n",
       " ('python-adaptive/adaptive/master', 79),\n",
       " ('HumanCapitalAnalysis/microeconometrics/master', 78),\n",
       " ('gibiansky/IHaskell/master', 77),\n",
       " ('pbiecek/DALEX_docs/master', 77),\n",
       " ('OGGM/oggm-edu/master', 77),\n",
       " ('elegant-scipy/notebooks/master', 76),\n",
       " ('DGothrek%2Fipyaggrid/binder-demo', 75),\n",
       " ('cfsouza/PensePython2e-Ipynb/master', 75),\n",
       " ('uc-python/intermediate-python-datasci/master', 75),\n",
       " ('ncc-74205/jupyter_edu/master', 73),\n",
       " ('joshuastephenson/amrtool/master', 73),\n",
       " ('microsoft/dowhy/master', 72),\n",
       " ('https%3A%2F%2Fbitbucket.org%2Fsaibotk%2Ftp2_python/098f35f50066d96f26df6131a6cff8080e384708',\n",
       "  72),\n",
       " ('pnavaro/math-python/master', 72),\n",
       " ('kwant-project/kwant-tutorial-2016/master', 71),\n",
       " ('binder-examples/bokeh/master', 71),\n",
       " ('TheSkyentist/WSP2019_Imaging/master', 71),\n",
       " ('nathanshammah/interactive-notebooks/binder', 69),\n",
       " ('Sinotrade/Sinotrade.github.io/master', 68),\n",
       " ('minrk/ligo-binder/master', 68),\n",
       " ('Ibhansen/modelflow/master', 68),\n",
       " ('yajuna/tmath308summer19/master', 68),\n",
       " ('maartenbreddels/voila-vuetify/mybinder', 68),\n",
       " ('relopezbriega/blog/master', 67),\n",
       " ('RasaHQ/rasa_core/0.13.x', 67),\n",
       " ('veerg24/myonlinebook/master', 67),\n",
       " ('4QuantOSS/DashIntro/master', 66),\n",
       " ('NSLS-II/tutorial/master', 66),\n",
       " ('Ophirg543/Survey/master', 66),\n",
       " ('LucieBailly/ajc-tvshows/master', 66),\n",
       " ('santanche/java2learn/feature/beakerx', 66),\n",
       " ('jmportilla/Python-for-Algorithms--Data-Structures--and-Interviews/master',\n",
       "  65),\n",
       " ('aviadr1/learn-python/master', 65),\n",
       " ('karthik/sat-test2/master', 65),\n",
       " ('sean-parent/notebook/master', 64),\n",
       " ('justmarkham/pycon-2019-tutorial/master', 64),\n",
       " ('tdtneuro/notebookdemos/master', 64),\n",
       " ('jrzech/reproduce-chexnet/master', 64),\n",
       " ('martinRenou/voila-material/master', 64),\n",
       " ('linkedbuildingdata/SummerSchoolOfLDAC/master', 63),\n",
       " ('jebarriosvargas/pyPECI-2019-2/master', 63),\n",
       " ('EngTurtle/GeoAPICompare/master', 63),\n",
       " ('tcNickolas/intern-workshop-2019/master', 63),\n",
       " ('fangohr/introduction-to-python-for-computational-science-and-engineering/master',\n",
       "  62),\n",
       " ('jorisvandenbossche/geopandas-tutorial/master', 62),\n",
       " ('openpiv/openpiv-python-example/master', 62),\n",
       " ('YOUR-ORG/YOUR-REPO/master', 62),\n",
       " ('parulnith/Animations-with-Matplotlib/master', 61),\n",
       " ('econ-ark/DemARK/master', 61),\n",
       " ('datamics/Originale-Python-Bootcamp/master', 61),\n",
       " ('intermine/intermine-ws-python-docs/master', 61),\n",
       " ('ISA-tools/dtp-isa-exercises/master', 61),\n",
       " ('loyno-mathcs/neurocamp_programming/master', 61),\n",
       " ('cs109/2015lab1/master', 60),\n",
       " ('mkozturk/CMPE140/master', 60),\n",
       " ('karikraus/gotsort/master', 60),\n",
       " ('usnistgov/fipy/icmed', 60),\n",
       " ('napo/geospatial_bigdive/master', 60),\n",
       " ('geowhit/cell/master', 60),\n",
       " ('ines/course-starter-python/binder', 59),\n",
       " ('mikkokotila/jupyter4kids/master', 59),\n",
       " ('Automating-GIS-processes/notebooks/master', 58),\n",
       " ('Neo-Hao/data-structures/master', 58),\n",
       " ('TDAmeritrade/stumpy/master', 58),\n",
       " ('agiord/ibk_temp_plot/master', 57),\n",
       " ('m2dsupsdlclass/lectures-labs/master', 57),\n",
       " ('mbeyeler/opencv-machine-learning/master', 56),\n",
       " ('10.5281/zenodo.3242074', 56),\n",
       " ('archydeberker/intuitive-ml/master', 55),\n",
       " ('elfdickson/HTRC_EF_activity/master', 55),\n",
       " ('intermine/interminer-workshop/master', 55),\n",
       " ('amalvarezme/ProcesoDigitalSen/master', 54),\n",
       " ('jmigartua/TermodinamikaFisikaEstatistikoa2018_2019_ika/master', 53),\n",
       " ('Pierian-Data/Complete-Python-3-Bootcamp/master', 53),\n",
       " ('PyMLVizard/PyMLViz/master', 53),\n",
       " ('gustavochm/phasepy/master', 53),\n",
       " ('geoscixyz/gpgLabs/master', 53),\n",
       " ('materialsproject/MPContribs/master', 53),\n",
       " ('fomightez/donut_plots_with_subgroups/master', 53),\n",
       " ('pierpaolo28/Interactive-Widgets/master', 53),\n",
       " ('bonnerjf33/TS_Data_Web_App/master', 53),\n",
       " ('rhiever/Data-Analysis-and-Machine-Learning-Projects/master', 52),\n",
       " ('SciTools/courses/master', 52),\n",
       " ('univai-summerschool-2019/ValidationRegularization/master', 52),\n",
       " ('esdc-esac-esa-int/notebooks/master', 52),\n",
       " ('10.22002/d1.1250', 52),\n",
       " ('fastai/course-v3/master', 51),\n",
       " ('twosigma/beakerx/master', 51),\n",
       " ('psnegi/data_science_tools2/master', 51),\n",
       " ('santanche/lab2learn/feature/information_retrieval', 51),\n",
       " ('norvig/pytudes/master', 51),\n",
       " ('rmorshea/idom/master', 51),\n",
       " ('maartenbreddels/ipywebrtc/master', 51),\n",
       " ('AS-Lab/Chaimow-Shmuel-OHBM-2019-Educational/master', 51),\n",
       " ('juramaga/ML_relampago/master', 51),\n",
       " ('wlandau/learndrake/binder', 51),\n",
       " ('panagop/56e2cca557da1c416baa4c3757dc8524/master', 50),\n",
       " ('RasaHQ/rasa_core/master', 50),\n",
       " ('bballew/pandas_tutorial/master', 50),\n",
       " ('jongablop/koaderno-elektronikoa/master', 50),\n",
       " ('MindFoundry/optaas-tutorials/master', 49),\n",
       " ('qMRLab/t1_book/master', 49),\n",
       " ('AllenDowney/ModSimPy/master', 49),\n",
       " ('IntelRealSense/librealsense/jupyter', 49),\n",
       " ('jonasactor/RESP-IntroPython/master', 49),\n",
       " ('Semaine52/Semaine52Lab/master', 48),\n",
       " ('moorestahs/highercomputingpython/master', 48),\n",
       " ('JuliaFalcone/CourteauRix/master', 48),\n",
       " ('DRL/SMBE-SGE-2019/master', 48),\n",
       " ('anitagraser/movingpandas/master', 47),\n",
       " ('HsKA-ThermalFluiddynamics/NSS-1/master', 47),\n",
       " ('santanche/lab2learn/master', 47),\n",
       " ('gettractiongmbh/nb_snippet_generator/master', 47),\n",
       " ('jackkylin/demo/master', 46),\n",
       " ('jupyter-widgets/ipyleaflet/stable', 46),\n",
       " ('jupyter-widgets/tutorial/master', 46),\n",
       " ('subhacom/np_tut_breastcancer/master', 46),\n",
       " ('jmsevillam/Herramientas-Computacionales-UniAndes/master', 46),\n",
       " ('patricia-figueroa/python-datascience.git/master', 46),\n",
       " ('jeremiebourdon/SummerSchoolWarmupPython.git/master', 46),\n",
       " ('epirecipes/epicookbook/master', 45),\n",
       " ('sourceryinstitute/jupyter-CAF-kernel/master', 45),\n",
       " ('CartoDB/cartoframes/master', 45),\n",
       " ('jerry-git/learn-python3/master', 45),\n",
       " ('wilfredinni/python-cheatsheet/master', 45),\n",
       " ('RobinL/fuzzymatcher/master', 45),\n",
       " ('alan-turing-institute/CompEnv-Ex1/master', 45),\n",
       " ('scottyhq/dssg2018-geopandasSQL-tutorial/2019-update', 45),\n",
       " ('AvijeetPrasad/jupyterlab/master', 45),\n",
       " ('bhugueney/binder-test/master', 44),\n",
       " ('Leggendario12/machine_learning.git/master', 44),\n",
       " ('zsloan/GN2-REST-Notebook/master', 44),\n",
       " ('iberiaz9/jupyter-python/master', 44),\n",
       " ('Mauro-Prencipe/BM3/master', 43),\n",
       " ('yunabe/lgo-binder/master', 43),\n",
       " ('NanoNets/tutorials/master', 43),\n",
       " ('nixd%2Fpython-course/master', 43),\n",
       " ('SimonBiggs/scriptedforms-examples/master', 42),\n",
       " ('InsightSoftwareConsortium/SimpleITK-Notebooks/master', 42),\n",
       " ('plotly/plotly_express/gh-pages', 42),\n",
       " ('bernhard-42/jupyter-cadquery/master', 42),\n",
       " ('drcastillo/hicss2020/master', 41),\n",
       " ('stefanluedtke/AI-II-Exercises/master', 41),\n",
       " ('jbloom/GenomeSciences541/gh-pages', 41),\n",
       " ('rruizz%2Finforfis/R', 41),\n",
       " ('fm75/RISE-Demo/master', 41),\n",
       " ('AstrobioMike/binder-dada2-ex-workflow/master', 41),\n",
       " ('jpivarski/2019-06-10-usatlas-argonne-python/1.4', 41),\n",
       " ('Chanpreet08/PythonBasics/master', 41),\n",
       " ('santanche/java2learn/master', 40),\n",
       " ('hainm/notebook-pytraj/master', 40),\n",
       " ('willkessler/jupytergraffiti/master', 40),\n",
       " ('DavidMStraub/flavio-tutorial/master', 40),\n",
       " ('jonmmease/plotly_ipywidget_notebooks/master', 40),\n",
       " ('ecohealthalliance/2019-06-06-ehn-workshop/master', 40),\n",
       " ('srenouf/snt/master', 40),\n",
       " ('darribas/pysal_kepler_demo/master', 40),\n",
       " ('illinois-scicomp/cs357-s17-binder/master', 39),\n",
       " ('ines/course-starter-r/binder', 39),\n",
       " ('mwouts/world_bank_data/master', 39),\n",
       " ('JanLahmann/Fun-with-Quantum/master', 39),\n",
       " ('https%3A%2F%2Fcollaborating.tuhh.de%2Fxldrkp%2Fjupyter-test/9b9e2fb383107ff9c4bfdb22c3f97f5c62ed1f6d',\n",
       "  39),\n",
       " ('christophM/iml/master', 39),\n",
       " ('joaopauloam/metodos_computacionais/3e5314b376d43ab64b6dc6f6ff2988324269ab09',\n",
       "  39),\n",
       " ('ericmjl/Network-Analysis-Made-Simple/master', 39),\n",
       " ('matthew-brett/dsfe/master', 39),\n",
       " ('osvaldocarvalho/nbinteract-tutorial/master', 39),\n",
       " ('binder-examples/jupyter-rise/master', 38),\n",
       " ('ncc-74205/jupyter_processing/master', 38),\n",
       " ('martindurant/intake-release-blog/master', 38),\n",
       " ('RustyVermeer/tryCQ/master', 38),\n",
       " ('lukasmosser/jupetro/master', 38),\n",
       " ('lschoe/mpyc/master', 38),\n",
       " ('wshuyi/demo-summarytools-binder/master', 37),\n",
       " ('materialsvirtuallab/matgenb/master', 37),\n",
       " ('EugeneLoy/coq_jupyter_demo/master', 37),\n",
       " ('symengine/symengine/master', 37),\n",
       " ('d6tdev/d6tflow-binder-interactive/master', 37),\n",
       " ('brenhinkeller/Chron.jl/master', 37),\n",
       " ('Microsoft/interpret/master', 37),\n",
       " ('sandeepkundala/Machine-Learning/master', 37),\n",
       " ('timvg80/pydata_cardiff_workshop1/master', 37),\n",
       " ('Kim-Ward/as-masterclass/master', 37),\n",
       " ('https%3A%2F%2Fgitlab.univ-nantes.fr%2Fmouchere-h%2FImageDeep_ED_Project/ac2523952640533c9e549d14f2eed1534b105776',\n",
       "  37),\n",
       " ('annakrystalli/testdrive-holepunch/master', 37),\n",
       " ('leomiquelutti/UFU-geofisica-2/master', 37),\n",
       " ('casadi/live-octave/master', 36),\n",
       " ('DataLoaderX/datasetsome/master', 36),\n",
       " ('AeroPython/PyFME/master', 36),\n",
       " ('springcoil/pydataprobprog/master', 36),\n",
       " ('ubcgif/gpgLabs/master', 36),\n",
       " ('limix/limix-tutorials/master', 36),\n",
       " ('pyvista/pyvista-examples/master', 36),\n",
       " ('slloyd%2Fpython-introduction/master', 36),\n",
       " ('pfdamasceno/rajutils/master', 36),\n",
       " ('santanche/java2learn.git/feature/beakerx', 36),\n",
       " ('parulnith/Building-a-Simple-Chatbot-in-Python-using-NLTK/master', 35),\n",
       " ('awconway/NUR1027-FALL-2019/binder', 35),\n",
       " ('clavin-xlnx/RapidWright-binder/master', 35),\n",
       " ('gwastro/PyCBC-Tutorials/master', 35),\n",
       " ('hello-world-academy/beiersdorf-2019/master', 35),\n",
       " ('4QuantOSS/scijava-jupyter-kernel/master', 34),\n",
       " ('underworldcode/underworld2-documentation/master', 34),\n",
       " ('binder-examples/appmode/master', 34),\n",
       " ('altair-viz/altair_notebooks/master', 34),\n",
       " ('marcelluethi/probabilistic-shape-modelling-notebooks/master', 34),\n",
       " ('nsuurmey/june18_python_intro/master', 34),\n",
       " ('alperyilmaz/jupyterlab-python-intro/master', 34),\n",
       " ('TheZetner/jupyter-examples-2019/master', 34),\n",
       " ('ageron/handson-ml/master', 33),\n",
       " ('alankost/Photonic-Integrated-Circuits/master', 33),\n",
       " ('cms-opendata-education/cms-online-notebooks-for-binder/master', 33),\n",
       " ('jpf5046/TheOfficeTextAnalyzer/master', 33),\n",
       " ('uwbmrb/PyBMRB/master', 33),\n",
       " ('gw-odw/odw-2018/master', 33),\n",
       " ('ksible21/julia-binder/master', 33),\n",
       " ('sateeshperi/snakemake2019.git/binder', 33),\n",
       " ('kernc/backtesting.py/master', 33),\n",
       " ('ketch/srsi/master', 33),\n",
       " ('tudelft3d/cjio/develop', 33),\n",
       " ('hmgu-itg/teaching_binder/master', 33),\n",
       " ('geomar-tm/python-intro-201804/v2.0.0', 33),\n",
       " ('chekos/voila-ppic-mockup/master', 33),\n",
       " ('astrofrog/py4sci/master', 32),\n",
       " ('CoffeaTeam/fnal-column-analysis-tools/master', 32),\n",
       " ('tomazc/PRvaje/master', 32),\n",
       " ('Qiskit/qiskit-tutorials/master', 32),\n",
       " ('erdc/voila-gallery/master', 32),\n",
       " ('sunpy/tutorial-notebooks/master', 32),\n",
       " ('pintoochoudhary/pythontraining/master', 32),\n",
       " ('binder-examples/python-conda_pip/master', 31),\n",
       " ('ajstewartlang/Binder_demo/master', 31),\n",
       " ('ricklupton/ipysankeywidget/master', 31),\n",
       " ('djsegal/julia-dash/master', 31),\n",
       " ('llucifer97/Pose-analysis-of-art/master', 31),\n",
       " ('iypc-team/CoLab/master', 31),\n",
       " ('jorghe26/ODE-visualizer/master', 31),\n",
       " ('sbrunk/scaladays-2019/master', 31),\n",
       " ('biomadeira/ebi-webservices-notebooks/master', 31),\n",
       " ('choldgraf/jupyter-book/master', 30),\n",
       " ('barbagroup/CFDPython/master', 30),\n",
       " ('Automating-GIS-processes/2018/master', 30),\n",
       " ('gap-system/try-gap-in-jupyter/master', 30),\n",
       " ('OpenGeoVis/omfvista-demo/master', 30),\n",
       " ('glue-viz/glue-jupyter/master', 30),\n",
       " ('cabinetofcuriosity/coc_lewis_clark_workshop/master', 30),\n",
       " ('boutiques/tutorial/master', 30),\n",
       " ('erdc/training_proteus/master', 30),\n",
       " ('jeremiebourdon/SummerSchoolMetabolic.git/master', 30),\n",
       " ('deeplook/voila/master', 30),\n",
       " ('mintproject/MINT-DataCatalog-Public/master', 29),\n",
       " ('alexmill/website_notebooks/master', 29),\n",
       " ('wshuyi/demo-python-handle-text-files/master', 29),\n",
       " ('pymc-learn/pymc-learn/master', 29),\n",
       " ('jmbarbier/pyspc/master', 29),\n",
       " ('abifet/moa-notebooks/master', 29),\n",
       " ('K3D-tools/K3D-jupyter/master', 29),\n",
       " ('jupyter-widgets/ipywidgets/master', 29),\n",
       " ('GIScience/openrouteservice-examples/master', 29),\n",
       " ('jupyter-widgets/ipyleaflet/0.9.0', 29),\n",
       " ('lheagy/gwb-dc-dashboard/master', 29),\n",
       " ('QuantStack/voila/master', 29),\n",
       " ('parmentelat/nbautoeval/master', 29),\n",
       " ('IEEE-ICHI/tutorial/master', 29),\n",
       " ('thedatasociety/mybinder-hadoop/master', 29),\n",
       " ('KitwareMedical/2018-05-30-KRSCourseInBiomedicalImageAnalysisAndVisualization/master',\n",
       "  28),\n",
       " ('nixd%2Fpython-course/binder', 28),\n",
       " ('betatim/binderlyzer/master', 28),\n",
       " ('statOmics/pda/master', 28),\n",
       " ('jupyterhub/binder-billing/master', 28),\n",
       " ('ncbi/dbsnp/master', 28),\n",
       " ('StevenPZChan/python_practice_of_data_analysis/master', 28),\n",
       " ('rok/label-wrapper/master', 28),\n",
       " ('clawpack/geoclaw_tutorial_csdms2019/master', 28),\n",
       " ('willirath/dask-examples/add-resilient-example', 28),\n",
       " ('lethain/systems-explorations/master', 28),\n",
       " ('Petlja/JupyterPrirucnik/master', 28),\n",
       " ('anniechen0127/lab-project/master', 28),\n",
       " ('codewithcorgis/python/master', 28),\n",
       " ('iypc-team/Reinforcement-Learning/master', 28),\n",
       " ('ChrisBeaumont/oni/master', 28),\n",
       " ('geohussain/python_basics/n01_q', 28),\n",
       " ('OpenAstronomy/rcsc18_lessons/master', 27),\n",
       " ('casadi/live-python/master', 27),\n",
       " ('stephenrauch/pycel/master', 27),\n",
       " ('qjcg/nb/master', 27),\n",
       " ('spatialaudio/digital-signal-processing-lecture/master', 27),\n",
       " ('parulnith/Predicting-the-Future-with-Facebook-s-Prophet/master', 27),\n",
       " ('sphinx-gallery/sphinx-gallery.github.io/master', 27),\n",
       " ('pavlosprotopapas/course-starter-harvard/master', 27),\n",
       " ('EBISPOT/GWAS_Catalog-workshop/master', 27),\n",
       " ('UNSW-MATH/glider_toolbox/master', 27),\n",
       " ('uc-python/intro-python-datasci/master', 27),\n",
       " ('JRCSTU/wltp/jupyter', 27),\n",
       " ('codewithcorgis/python-test/master', 27),\n",
       " ('pyspc%2Fpyspc-formation/master', 27),\n",
       " ('molp11/library_selection_demo/master', 27),\n",
       " ('uber/deck.gl/binder', 27),\n",
       " ('dinofranklin/conda/master', 27),\n",
       " ('mikheyev/ecology-practical3/master', 26),\n",
       " ('quasiben/fiftyfizzbuzzes/master', 26),\n",
       " ('brainhack101/introML-book/master', 26),\n",
       " ('Geo-Python-2018/Binder/master', 26),\n",
       " ('dudapodesta/MO826/master', 26),\n",
       " ('mariobuikhuizen/ipyvuetify/master', 26),\n",
       " ('wujekanimator/share/master', 26),\n",
       " ('SolarArbiter/2019-Denver-Workshop/master', 26),\n",
       " ('LandonRieger/volcanic-climate-index/master', 26),\n",
       " ('plotly/jupyterlab-dash/master', 26),\n",
       " ('mohitganguly/test_amanda/master', 26),\n",
       " ('gtfierro/mortar-tutorial-notebook/master', 26),\n",
       " ('alan-turing-institute/CompEnv-Ex4/branch-a', 26),\n",
       " ('cole-group/Teaching/master', 26),\n",
       " ('alperyilmaz/conda-snakemake/master', 26),\n",
       " ('rayhaneh/python-workshop/master', 26),\n",
       " ('zonca/CMBAnalysis_SummerSchool/master', 26),\n",
       " ('maartenbreddels/voila-demo/master', 26),\n",
       " ('xiaoyewww/public_jupyter_demo/master', 26),\n",
       " ('lore10/PythonMultiprocessing/master', 26),\n",
       " ('Microsoft/jupyter-KQLmagic/master', 25),\n",
       " ('QuantStack/xwidgets/stable', 25),\n",
       " ('wshuyi/demo-python-chinese-word-embedding/master', 25),\n",
       " ('GIScience/openrouteservice-py/master', 25),\n",
       " ('IncQueryLabs/incquery-server-jupyter/master', 25),\n",
       " ('yuvipanda/binder-1/master', 25),\n",
       " ('cbraaau/geospatial_assignment/master', 25),\n",
       " ('ljcolling/sussex_talk/binder', 25),\n",
       " ('UCSBarchlab/PyRTL/development', 25),\n",
       " ('PySEE/home/S2019', 25),\n",
       " ('QuantStack/xleaflet/stable', 25),\n",
       " ('Varal7/ml-tutorial/master', 25),\n",
       " ('biodiversity-aq/MARS_Figures/master', 25),\n",
       " ('https%3A%2F%2Frisk-engineering.org%2Fgit%2Fnotebooks.git/f55ff6d75610fa3d07a85623381645153ca141f0',\n",
       "  25),\n",
       " ('memeplex%2Fdhouse/master', 25),\n",
       " ('davestone96/MWP_Sommerfest/master', 25),\n",
       " ('prandoni/COM303-Py3/master', 24),\n",
       " ('jpivarski/2019-05-28-lpchats-numpy-uproot-awkward/1.0', 24),\n",
       " ('tanuws/visualization/master', 24),\n",
       " ('nealcaren/osscabd_2018/master', 24),\n",
       " ('tomopy/tomopy/master', 24),\n",
       " ('tlinnet/csharp-notebook/master', 24),\n",
       " ('mpinkerton-oasis/OasisPiWind/master', 24),\n",
       " ('iaine/python-humanities-lesson/dev', 24),\n",
       " ('semvijverberg/Python_xarray_tutorial/master', 24),\n",
       " ('yzhao062/Pyod/master', 24),\n",
       " ('ptwobrussell/Mining-the-Social-Web-2nd-Edition/master', 24),\n",
       " ('alan-turing-institute/CompEnv-Ex3/branch-a', 24),\n",
       " ('22dylan/DeaggLossRiskConn/master', 24),\n",
       " ('jperkel/Mapping-tools-examples/master', 24),\n",
       " ('iflwx/my_scripts/master', 24),\n",
       " ('veldanie/rating_prediction/master', 24),\n",
       " ('amn41/docs-binder-python/master', 24),\n",
       " ('linkarevalo/Metereological-Processing-S2/master', 24),\n",
       " ('luigidifraia/docker-stacks/master', 24),\n",
       " ('NumEconCopenhagen/NumEconNotebooks/master', 23),\n",
       " ('AllenDowney/ThinkComplexity2/master', 23),\n",
       " ('nthiery/harmonic-modules/master', 23),\n",
       " ('cms-opendata-education/cms-jupyter-materials-finnish/master', 23),\n",
       " ('fcarsten/tic-tac-toe/master', 23),\n",
       " ('dorodnic/binder_test/master', 23),\n",
       " ('scikit-image/skimage-tutorials/master', 23),\n",
       " ('nathanshammah/interactive-notebooks/master', 23),\n",
       " ('shapelets/khiva-use-cases/master', 23),\n",
       " ('common-stranger/smth/master', 23),\n",
       " ('alan-turing-institute/CompEnv-Ex2/branch-a', 23),\n",
       " ('alan-turing-institute/CompEnv-Ex2/branch-b', 23),\n",
       " ('RyanLHU/CCE_DataScienceProgramming/master', 23),\n",
       " ('matzigno/SocialMediaMining2019/master', 23),\n",
       " ('saeedrastegarian/Test/master', 23),\n",
       " ('meteocat/pymica-examples/master', 23),\n",
       " ('DirkEilander/ivm_scientific_python_workshops/master', 23),\n",
       " ('efibad/meetupkav/master', 23),\n",
       " ('coderefinery/jupyter_publish/master', 23),\n",
       " ('jerdra/scwg2018_python_neuroimaging/master', 23),\n",
       " ('marvinjoers/HoneyDon/master', 23),\n",
       " ('wshuyi/demo-gganimate-nycflights/master', 22),\n",
       " ('NetsecExplained/Machine-Learning-for-Security-Analysts/master', 22),\n",
       " ('profjahier/notebooks-lycee-sciences-2019.git/master', 22),\n",
       " ('nealcaren/KULeuvenBigData/master', 22),\n",
       " ('jakeret/tf_unet/master', 22),\n",
       " ('opendatazurich/opendatazurich.github.io/master', 22),\n",
       " ('EncartaCDROMBoxset/JavaCSCamp/master', 22),\n",
       " ('renatocol/heg/master', 22),\n",
       " ('gfacciol/IS18/master', 22),\n",
       " ('QuantStack/ipysheet/master', 22),\n",
       " ('qutip/qutip-notebooks/master', 22),\n",
       " ('slbucur/python_course.git/master', 22),\n",
       " ('donnemartin/interactive-coding-challenges/master', 22),\n",
       " ('LibreTexts/jupyter-r/master', 22),\n",
       " ('jakevdp/WhirlwindTourOfPython/master', 22),\n",
       " ('hufe09/Binder_Environment/master', 22),\n",
       " ('tom6931/jupyter/master', 22),\n",
       " ('descarteslabs/workflows-examples/master', 22),\n",
       " ('lionel.torti%2Fces-ds-2019-06-20/master', 22),\n",
       " ('rkingdc/jupyterlab/master', 22),\n",
       " ('omry/omegaconf/master', 21),\n",
       " ('karalekas/stanford-cs269q/master', 21),\n",
       " ('arose/nglview/master', 21),\n",
       " ('choldgraf/nbreport/master', 21),\n",
       " ('UppsalaIM/2IS060/master', 21),\n",
       " ('FWMSH/QuickData/master', 21),\n",
       " ('sequenceanalysis/sequenceanalysis.github.io/master', 21),\n",
       " ('binder-examples/multi-language-demo/master', 21),\n",
       " ('Normaliz/NormalizJupyter/master', 21),\n",
       " ('hyperspy/hyperspy-demos/master', 21),\n",
       " ('imatheussm/spell-checker/master', 21),\n",
       " ('djvaughn/python-training/master', 21),\n",
       " ('TRIQS/binder/master', 21),\n",
       " ('nkfreeman/ML_Demonstration/master', 21),\n",
       " ('nicholashobbs/transcripts_database/master', 21),\n",
       " ('butzked%2Fequivalence/master', 21),\n",
       " ('sbl-sdsc/mmtf-genomics/master', 21),\n",
       " ('hancjozef/Sage-Online/master', 21),\n",
       " ('engineersCode/EngComp1_offtheground/master', 21),\n",
       " ('copernicusmarinegist/copernicus-env/master', 21),\n",
       " ('KarlHenrik/Jupyter-Book-Showroom/master', 21),\n",
       " ('gubiithefish/IBM-Quantum-Experience-Hands-on-Session/master', 21),\n",
       " ('UK-Digital-Heart-Project/4Dsurvival/master', 21),\n",
       " ('karthik/friday-test/master', 21),\n",
       " ('epifanio/git_tutorial/master', 21),\n",
       " ('yuleiwhu/dspcourse.git/master', 21),\n",
       " ('pavelkomarov/exportify/master', 21),\n",
       " ('biehl%2Fjscatter/master', 20),\n",
       " ('GLAM-Workbench/trove-newspapers/master', 20),\n",
       " ('AstrobioMike/binder-bash-intro/master', 20),\n",
       " ('wshuyi/demo-interactive-network-visualization-r/master', 20),\n",
       " ('JuanCab/AstroInteractives/master', 20),\n",
       " ('https%3A%2F%2Fgit.unilim.fr%2Fgrossp01%2Fnotebooks.git/6d65058071a0d5a62ab032800932c2a3740a4196',\n",
       "  20),\n",
       " ('james-ennis/bst-benchmarks-notebooks/master', 20),\n",
       " ('https%3A%2F%2Frisk-engineering.org%2Fgit%2Fnotebooks.git/da7de9f3df67ec45713cd91e575418aae9466621',\n",
       "  20),\n",
       " ('ComputoCienciasUniandes/FISI2026-201910/master', 20),\n",
       " ('TorstenK91/deutschkurs_KI/master', 20),\n",
       " ('callysto/Onlea/master', 20),\n",
       " ('Pierian-Data/Python-Narrative-Journey/master', 20),\n",
       " ('losc-tutorial/workspace/master', 20),\n",
       " ('malvikasharan/Alignment-Algorithms/master', 20),\n",
       " ('Santolei/Python-desde-0/master', 20),\n",
       " ('jcdunne/CS590/master', 20),\n",
       " ('neural-reckoning/simple_ambb_modelling/master', 20),\n",
       " ('einsteinpy/einsteinpy/master', 19),\n",
       " ('MJKnowling/sire_ouu/master', 19),\n",
       " ('cmbant/getdist/master', 19),\n",
       " ('geopandas/scipy2018-geospatial-data/master', 19),\n",
       " ('brenhinkeller/BayeZirChron.c/master', 19),\n",
       " ('sludwick/mems1029-2197-hw01/master', 19),\n",
       " ('ericECmorlaix/mesBN/master', 19),\n",
       " ('gem763/qit/master', 19),\n",
       " ('justmarkham/pycon-2018-tutorial/master', 19),\n",
       " ('Chekos/analyzing-census-data/master', 19),\n",
       " ('gnestor/jupyterlab/vdom-react-demo', 19),\n",
       " ('jbloomlab/map_flu_serum_Perth2009_H3_HA/master', 19),\n",
       " ('vaexio/vaex-mybinder/master', 19),\n",
       " ('jupyter/notebook/master', 19),\n",
       " ('AllenDowney/ThinkBayes2/master', 19),\n",
       " ('davidsanwald/ai-notebook/master', 19),\n",
       " ('acnewton/IntroPythonAPIiRODS/master', 19),\n",
       " ('contextlab/hypertools-paper-notebooks/master', 19),\n",
       " ('geoscixyz/geosci-labs/master', 19),\n",
       " ('QuantStack/xplot/stable', 19),\n",
       " ('Mfhodges/canvas_api_jupyter/dev', 19),\n",
       " ('opf-ute/scripts/master', 19),\n",
       " ('CoffeaTeam/coffea/master', 19),\n",
       " ('costrouc/lammps-cython-notebooks/master', 19),\n",
       " ('alan-turing-institute/CompEnv-Ex3/branch-b', 19),\n",
       " ('lakarstens/ControllingContaminantsBinder/master', 19),\n",
       " ('cms-opendata-analyses/DimuonSpectrumNanoAODOutreachAnalysis/master', 19),\n",
       " ('Rhinrei/course-starter-python/binder', 19),\n",
       " ('pmonnin/datapeeler-docker/master', 19),\n",
       " ('pndanilov/mRNA_Protein_Dynamics/master', 19),\n",
       " ('https%3A%2F%2Fbitbucket.org%2Fsaibotk%2Ftp2_python/f1c06775263afbd814e9b08139eddf792873b050',\n",
       "  19),\n",
       " ('predseda%2Fkmeans_jupyter_notebook/master', 19),\n",
       " ('calbears96/Coursera_Capstone/master', 19),\n",
       " ('guidoAI/optic_flow_control_notebook.git/master', 19),\n",
       " ('navyamehta/dividend-forecast-simulation/master', 19),\n",
       " ('anirishduck/petrify/master', 19),\n",
       " ('hmalherbe/PythonStanNicePhysics/master', 19),\n",
       " ('ptocca/CP-MNIST-Demo/master', 19),\n",
       " ('djfan/binder_test/master', 19),\n",
       " ('lcarcamo1526/Interview-Question/master', 18),\n",
       " ('Poompil/WidgetDownload/master', 18),\n",
       " ('NII-cloud-operation/Jupyter-LC_docker/openhouse-2019-demo', 18),\n",
       " ('MI2DataLab/pyDALEX/master', 18),\n",
       " ('geoscixyz/em-apps/master', 18),\n",
       " ('TIBHannover/orkg-lsuc-jn/master', 18),\n",
       " ('Thevesh/Edexcel-Aggregator/master', 18),\n",
       " ('eaton-lab/toytree/master', 18),\n",
       " ('google/evcxr/master', 18),\n",
       " ('wqx13579/Happiness.git/master', 18),\n",
       " ('rayh/swift-notebook-demo/master', 18),\n",
       " ('danton-taiger/vertical-ife/master', 18),\n",
       " ('oscar6echo%2Fipyupload-repo2docker/master', 18),\n",
       " ('mgeier/jupyter-format/dfca236', 18),\n",
       " ('losc-tutorial/quickview/master', 18),\n",
       " ('carlgogo/VIP_extras/master', 18),\n",
       " ('cavea/AM10IM/master', 18),\n",
       " ('fumitoh/lifelib/binder', 18),\n",
       " ('kafonek/notebook_restified/master', 18),\n",
       " ('john-bowers/gumbohack/master', 18),\n",
       " ('sagemath/sage-binder-env/master', 18),\n",
       " ('energyincities%2Fbesos-public/master', 18),\n",
       " ('rafaelcabreu/PythonTutorial/master', 18),\n",
       " ('diana-hep/pyhf/master', 18),\n",
       " ('Alayan-stk-2/Stockfish/SPRT_tool', 18),\n",
       " ('ArianeDucellier/wmtsa/master', 18),\n",
       " ('KevinMMendez/Poster_Metabolomics2019/master', 18),\n",
       " ('Fklag/NSI_iere/master', 18),\n",
       " ('rasahq/docs-binder/update-to-0.19.1', 18),\n",
       " ('fomightez/dataframe2img/master', 18),\n",
       " ('geomar-tm/python-intro-201804/add-dask-labview', 18),\n",
       " ('UofTCoders/snakemake_elephant_demo/master', 18),\n",
       " ('betatim/kaggle-binder/master', 18),\n",
       " ('jessalfredsen/intro_to_machine_learning.git/master', 18),\n",
       " ('ELC/utn-jupyter-tutorial/master', 18),\n",
       " ('AgileBioFoundry/2019-05.01-cell-factory-design-brownbag/master', 18),\n",
       " ('capacitaciones-r4/curso-python-rio4/master', 17),\n",
       " ('fgnt/oaf/master', 17),\n",
       " ('jacobmontiel/sql-intro/master', 17),\n",
       " ('volkamerlab/TeachOpenCADD/master', 17),\n",
       " ('kmader/jupyterlab-drawio/master', 17),\n",
       " ('binder-examples/python2_with_3.git/master', 17),\n",
       " ('BVLC/caffe/master', 17),\n",
       " ('underworldcode/underworld2/master', 17),\n",
       " ('YannickJadoul/Parselmouth/master', 17),\n",
       " ('I194/PM/master', 17),\n",
       " ('profjsb/ml_course.git/master', 17),\n",
       " ('sobyl/NBA_Prediction/master', 17),\n",
       " ('giswqs/whitebox/master', 17),\n",
       " ('mosdef-hub/mbuild_tutorials/master', 17),\n",
       " ('alan-turing-institute/CompEnv-Ex4/branch-b', 17),\n",
       " ('eloyfelix/fpsim2_binder/master', 17),\n",
       " ('mauriciojorta/opendatajupyternotebook/master', 17),\n",
       " ('webmodemo/demoserver/master', 17),\n",
       " ('digital-science/dimensions-api/master', 17),\n",
       " ('FrankHeyden/widget_test/master', 17),\n",
       " ('Xeragus/What-Do-Rappers-Say/master', 17),\n",
       " ('https%3A%2F%2Fgitlab.obspm.fr%2Fkaouij%2Fcalcephpy-on-my-binder-project.git/4c1631f389934cf32a8b81fbf554762eaa0ac0c1',\n",
       "  17),\n",
       " ('CartoDB/cartoframes/v0.10.1', 17),\n",
       " ('tudo-astroparticlephysics/dpg2019-ml-tutorial/master', 17),\n",
       " ('HeidiSeibold/binder-rocker/master', 17),\n",
       " ('hollstein/PredictMe/master', 17),\n",
       " ('skybig233/mywebsite/master', 17),\n",
       " ('emehrkay/Pypher/master', 16),\n",
       " ('fomightez/animated_matplotlib-binder/master', 16),\n",
       " ('OpenSourceEconomics/tutorials/master', 16),\n",
       " ('sasa-buklijas/coin_toss/master', 16),\n",
       " ('gaelvaroquaux/interpreting_ml_tuto/master', 16),\n",
       " ('samlalwani/PHL.git/master', 16),\n",
       " ('mustafamuratcoskun/Sifirdan-Ileri-Seviyeye-Python-Programlama/master', 16),\n",
       " ('miykael/nipype_tutorial/master', 16),\n",
       " ('LongBaoNguyen/discrete_fourier_problem_sets/master', 16),\n",
       " ('infvo/ieni2018-db/master', 16),\n",
       " ('ContinuumIO/anaconda-package-data/master', 16),\n",
       " ('spatialaudio/nbsphinx/0.4.2', 16),\n",
       " ('boryszef/numpy-training/master', 16),\n",
       " ('f66blog/fortran8/master', 16),\n",
       " ('rmsrosa/modelagem_matematica/master', 16),\n",
       " ('cgpotts/cs224u/master', 16),\n",
       " ('tpaviot/pythonocc-binderhub/fenics', 16),\n",
       " ('jangisbertsen/quantuminformation19/master', 16),\n",
       " ('adiazmont/machine-learning-for-optical-networks/master', 16),\n",
       " ('jdolivet/Travaux_Pratiques.git/master', 16),\n",
       " ('matjesg/binder_test/master', 16),\n",
       " ('AMIGA-IAA/hcg-16/master', 16),\n",
       " ('mwouts/itables/master', 16),\n",
       " ('DIYer22/boxx-ipynb/master', 16),\n",
       " ('pythoninchemistry/sim_and_scat/master', 16),\n",
       " ('JeffFessler/mirt-demo/master', 16),\n",
       " ('nmarda/blast-binder/master', 16),\n",
       " ('florian-wagner/try.pygimli.org/master', 16),\n",
       " ('schlegelp/pyMaid/master', 16),\n",
       " ('timsainb/birdbrain/master', 16),\n",
       " ('KeplerGO/lightkurve/master', 16),\n",
       " ('Healthedata1/MyNotebooks/master', 16),\n",
       " ('ipb-halle/GoldenMutagenesis/binder', 16),\n",
       " ('geodesign/ubiquitous-octo-parakeet.git/master', 16),\n",
       " ('arangoml/arangopipe/rajivsam-patch-6', 16),\n",
       " ('archivesunleashed/auk-notebooks/master', 16),\n",
       " ('b1quint/Python-Tutorial-Series/master', 16),\n",
       " ('UCL-INGI/minicp-tutorial/master', 16),\n",
       " ('samoturk/mol2vec_notebooks/master', 16),\n",
       " ('hufe09/jupyter_book/master', 16),\n",
       " ('bioexcel/biobb_wf_md_setup/master', 16),\n",
       " ('ianozsvald/pylondinium2019.git/master', 16),\n",
       " ('coderextreme/conda/master', 16),\n",
       " ('GLAM-Workbench/slsa/master', 16),\n",
       " ('guidoAI/optic_flow_notebook.git/master', 16),\n",
       " ('sshirman/MCP/master', 16),\n",
       " ('rtruxal/bing-notebooks/master', 16),\n",
       " ('shportnoy/oximetry_calculator/master', 16),\n",
       " ('ricardo-reis-1970/DataScienceBootcampRUS.git/master', 16),\n",
       " ('agoose77/sympy-precision/master', 16),\n",
       " ('biosignalsnotebooks/biosignalsnotebooks/biosignalsnotebooks_binder', 15),\n",
       " ('antgi1/bd_demo/master', 15),\n",
       " ('WillKoehrsen/Data-Analysis/master', 15),\n",
       " ('Bjarten/early-stopping-pytorch/master', 15),\n",
       " ('jrjohansson/qutip-lectures/master', 15),\n",
       " ('poliastro/poliastro/master', 15),\n",
       " ('phenomecentre/nPYc-toolbox-tutorials/master', 15),\n",
       " ('agile-geoscience/xlines/master', 15),\n",
       " ('unpingco/Python-for-Signal-Processing/master', 15),\n",
       " ('gesiscss/binder-stats/master', 15),\n",
       " ('jbscoggi/teaching/master', 15),\n",
       " ('wqx13579/Happiness/master', 15),\n",
       " ('justmarkham/python-reference/master', 15),\n",
       " ('mikgroup/bart-workshop/master', 15),\n",
       " ('BauerLab/GT-scan2-Notebooks/master', 15),\n",
       " ('poliastro/poliastro/0.12.x', 15),\n",
       " ('zesch/lang-tech-teaching-public/master', 15),\n",
       " ('simjoh/AI-Lab-Neural-Net-and-Python.git/master', 15),\n",
       " ('fomightez/blast-binder/master', 15),\n",
       " ('nicolaskruchten/jupyter_pivottablejs/master', 15),\n",
       " ('fkohrt%2FRMarkdown-sandbox/master', 15),\n",
       " ('ECSIM/opem/master', 15),\n",
       " ('cms-opendata-education/zboson-exercise/master', 15),\n",
       " ('draperjames/fileupload2binder/master', 15),\n",
       " ('dvgodoy/ML_Fundamentals/master', 15),\n",
       " ('kafonek/ipython_blocking/master', 15),\n",
       " ('fomightez/circos-binder/master', 15),\n",
       " ('https:%2F%2Fgricad-gitlab.univ-grenoble-alpes.fr%2Ftalks%2Fdeeplearning/40100206fa8581d78220f8667f76f5ea7547ea58',\n",
       "  15),\n",
       " ('ds-modules/MCB-32/master', 15),\n",
       " ('pbstark/CORLA18/master', 15),\n",
       " ('SheshaRaghunathan-IBM/EDA-Q-Workshop/master', 15),\n",
       " ('StAResComp/pure-api-demo/master', 15),\n",
       " ('jbloom/GS541_epistasis_homework/master', 15),\n",
       " ('sekhansen/machine_learning_economics/master', 15),\n",
       " ('ouseful-demos/binder-base-boxes/astronomy', 15),\n",
       " ('viblo/pymunk.git/master', 15),\n",
       " ('ajstewartlang/Binder_RUM/master', 15),\n",
       " ('t-o-k/scikit-vectors_examples/master', 15),\n",
       " ('sabinkazairova/metamaterial_BP/master', 15),\n",
       " ('shymaher/task1/master', 15),\n",
       " ('benmarwick/holepunch-testing/master', 15),\n",
       " ('Maths-JU/jupyter-JU/master', 15),\n",
       " ('Murali-group/Beeline/binder', 15),\n",
       " ('JRCSTU/wltp/master', 15),\n",
       " ('fvillena/mca-r/master', 15),\n",
       " ('scikit-hep/particle/master', 15),\n",
       " ('leouieda/2019-06-reu-python/master', 15),\n",
       " ('yuleiwhu/dspcourse/master', 15),\n",
       " ('calum-chamberlain/GPHS445_notebooks/master', 15),\n",
       " ('seidlr/voila-interactive-football-pitch/master', 15),\n",
       " ('TeodorBucht1729/Binder_test/master', 15),\n",
       " ('QuantStack/xeus-calc/master', 15),\n",
       " ('dpinney/loadMinusSolar/master', 15),\n",
       " ('sytch/python_intro/master', 15),\n",
       " ('thahaseena1/ISYS358-prototype/master', 14),\n",
       " ('bastula/dicom-notebooks/master', 14),\n",
       " ('topocm/topocm_content/master', 14),\n",
       " ('twistedhardware/mltutorial/master', 14),\n",
       " ('pythoninchemistry/chem_data_analysis_jupyter/master', 14),\n",
       " ('aimacode/aima-python/master', 14),\n",
       " ('binder-examples/remote_storage/master', 14),\n",
       " ('quantumlib/OpenFermion/master', 14),\n",
       " ('GLAM-Workbench/trove-newspaper-harvester/master', 14),\n",
       " ('trdurrant/charged-defects/master', 14),\n",
       " ('aprilcs/candy_trade/master', 14),\n",
       " ('binder-examples/stencila-py/master', 14),\n",
       " ('python-visualization/folium/master', 14),\n",
       " ('https%3A%2F%2Fapi.jovian.ai%2Fgit%2F2bab5591e248497ea747ceac5e1b2689_1.git/6b3abeb2ea97fa7df36709f2401870fec7fb1799',\n",
       "  14),\n",
       " ('binder-examples/rocker/master', 14),\n",
       " ('binder-examples/binder-r-description/master', 14),\n",
       " ('pyGSTio/pyGSTi/master', 14),\n",
       " ('jupyter-guide/ten-rules-jupyter/master', 14),\n",
       " ('jjmcnelis/nasa_usfs_workshop/master', 14),\n",
       " ('jdwittenauer/ipython-notebooks/master', 14),\n",
       " ('Raudcu/IronMan/master', 14),\n",
       " ('debimax/cours-debimax/master', 14),\n",
       " ('ipta/ipta-2019-workshop/master', 14),\n",
       " ('NumEconCopenhagen/lectures-2019/master', 14),\n",
       " ('yutianc/BinderOne/master', 14),\n",
       " ('dpebert7/TIdy/master', 14),\n",
       " ('mquad/sars_tutorial/master', 14),\n",
       " ('Datenspieler/notebooks_for_blog/master', 14),\n",
       " ('nearzero/WCI-cap-and-trade/master', 14),\n",
       " ('sbrunk/almond-examples/master', 14),\n",
       " ('dogweather/beginning-programming-with-python/master', 14),\n",
       " ('blmoistawinde/d48c41ebbc00fffa05ae498632187bd6/master', 14),\n",
       " ('jmschrei/pomegranate/master', 14),\n",
       " ('naruminho/easyGraph/master', 14),\n",
       " ('Healthedata1/mFHIR/master', 14),\n",
       " ('j-berg/hughes_rnaseq_2019/master', 14),\n",
       " ('Carreau/ipython-in-depth/pycon-2019', 14),\n",
       " ('annks/Examples/master', 14),\n",
       " ('JohnLaTwC/Shared/master', 14),\n",
       " ('Kulbear/deep-learning-coursera/master', 14),\n",
       " ('RobinSchmidt/RS-MET-Research/master', 14),\n",
       " ('pkomiske/EnergyFlow/master', 14),\n",
       " ('epfl-lts2/pygsp/master', 14),\n",
       " ('stwunsch/binder-dimuon-spectrum/master', 14),\n",
       " ('prof-gressin/formation-du-13-juin/master', 14),\n",
       " ('DavidMStraub/flavio-smelli-mini-tutorials/master', 14),\n",
       " ('matt-gardner/test-allennlp-course/master', 14),\n",
       " ('mathieuboudreau/RF-Tools-in-Octave/gh-pages', 14),\n",
       " ('fducrot/l2dist/master', 14),\n",
       " ('abbudao/pid_controller/master', 14),\n",
       " ('descarteslabs/rapid/master', 14),\n",
       " ('nnj1/ting/master', 14),\n",
       " ('agumbs96/tabulizer/master', 14),\n",
       " ('pstate/pstate.github.io/master', 14),\n",
       " ('fangohr/panosc-wp4-binder-env-demo1/master', 14),\n",
       " ('RLesur/weasydoc-demo/master', 14),\n",
       " ('SmithsonianWorkshops/2019-05-16-castle/binder-openrefine', 14),\n",
       " ('kelvin1020/matchGW/master', 14),\n",
       " ('kkolle11/DataAnalytics/master', 14),\n",
       " ('geohussain/python_basics/n02_a', 14),\n",
       " ('fomightez/dataframe2summary/master', 14),\n",
       " ('leoimpett/DigitalArtHistory/master', 14),\n",
       " ('ajstewartlang/Dockerfile_demo/master', 14),\n",
       " ('alex-ten/Concept-Lab/master', 14),\n",
       " ('jimachin/course-starter-harvard/binder', 13),\n",
       " ('binder-examples/octave/master', 13),\n",
       " ('GrossfieldLab/stats_demos_jupyter/master', 13),\n",
       " ('mikheyev/ecology-prac2/master', 13),\n",
       " ('SaitoTsutomu/OptForPuzzle/master', 13),\n",
       " ('jeremiedecock/polytechnique-cse204-2018/master', 13),\n",
       " ('samedhaa/investigating-a-dataset-no-show-appointments-udacity-project2/master',\n",
       "  13),\n",
       " ('kmader/quantitative-big-imaging-2019/master', 13),\n",
       " ('slicer/SlicerNotebooks/master', 13),\n",
       " ('sshameer/NotebookTutorial/master', 13),\n",
       " ('valenpe7/numerical_methods/master', 13),\n",
       " ('hydrosquall/tiingo-python/master', 13),\n",
       " ('jaykul/Jupyter-PowerShell/master', 13),\n",
       " ('elegant-scipy/elegant-scipy/master', 13),\n",
       " ('pacm/dl-workshop/master', 13),\n",
       " ('gis-ops/routing-py/master', 13),\n",
       " ('taldatech/cs236756-intro-to-ml/master', 13),\n",
       " ('hanisaf/mist6380-summer2019/master', 13),\n",
       " ('datascienceunibo/bbs-opinion-lab-2019/master', 13),\n",
       " ('mmaeusezahl/FSUJenaGruPra501Ergaenzung/master', 13),\n",
       " ('GLAM-Workbench/csv-explorer/master', 13),\n",
       " ('ohbm-aperture/community-survey/master', 13),\n",
       " ('lacouth/metodos_20191/master', 13),\n",
       " ('richardhoshino/CallystoCoins/master', 13),\n",
       " ('binder-examples/demo-julia/master', 13),\n",
       " ('AllenDowney/BayesMadeSimple/master', 13),\n",
       " ('choldgraf/pisim/master', 13),\n",
       " ('rlabbe/ThinkBayes/master', 13),\n",
       " ('sagemanifolds/SageManifolds/master', 13),\n",
       " ('CIMCB/MetabWorkflowTutorial/master', 13),\n",
       " ('davidschneider04/mapping-mountains/master', 13),\n",
       " ('jcr-lyxor/DIFIQ/master', 13),\n",
       " ('pwamej%2Fecg-features-extraction/master', 13),\n",
       " ('imagej/tutorials/master', 13),\n",
       " ('linkedbuildingdata/SummerSchoolOfLDAC/development', 13),\n",
       " ('GitiHubi/deepAI/master', 13),\n",
       " ('dwhswenson/contact_map/master', 13),\n",
       " ('awsm-research/mining-software-defects/master', 13),\n",
       " ('claresloggett/comp90014_workshops/master', 13),\n",
       " ('anderson2093/TFinal/master', 13),\n",
       " ('bccp/nbodykit-cookbook/master', 13),\n",
       " ('robotilab/mpe/master', 13),\n",
       " ('synw/dataswim-notebooks/master', 13),\n",
       " ('sfstoolbox/sfs-python/0.4.0-45-ga96645a', 13),\n",
       " ('pfdamasceno/spectral_decomposition/master', 13),\n",
       " ('neurodata/ohbm/master', 13),\n",
       " ('loyno-mathcs/neurocamp_programming/use-notebooks', 13),\n",
       " ('adharsh/Coding/master', 13),\n",
       " ('FORCaist/cloudsensei/master', 13),\n",
       " ('MatchaBear/Pangolin-Market.git/master', 13),\n",
       " ('shreyasbapat/Introducing_The_EinsteinPy_Project-Talk/master', 13),\n",
       " ('rasahq/docs-binder/python', 13),\n",
       " ('BCNDojos/rosalind/master', 13),\n",
       " ('johnjarmitage/percolation-inversion/master', 13),\n",
       " ('daniel-ufabc/bcc-ufabc/master', 13),\n",
       " ('open-scientist%2Fformation-data-reproductibilite/master', 13),\n",
       " ('simpleshinobi/SNT1/master', 13),\n",
       " ('sourabhpalande/mouse-olfaction/master', 13),\n",
       " ('bzheng-smartlens/amazon/master', 13),\n",
       " ('tmunyanyi/extreme_value_analysis/master', 13),\n",
       " ('JULIELab/DH/master', 13),\n",
       " ('mpkocher/83ac8f99a7b6a4ed87f1f2014ef74c2b/master', 13),\n",
       " ('sneumann/bioc_notebooks_prebuilt/master', 13),\n",
       " ('pierrepo/seq-to-first-iso/master', 13),\n",
       " ('luigidifraia/datacube-notebook-binder/master', 13),\n",
       " ('ComputoCienciasUniandes/MetodosComputacionalesAvanzados/master', 12),\n",
       " ('amueller/introduction_to_ml_with_python/master', 12),\n",
       " ('Automating-GIS-processes/CSC/master', 12),\n",
       " ('coobas/pycon-cz-2019-workshop/master', 12),\n",
       " ('jupytercalpoly/reactivepy/master', 12),\n",
       " ('snowhitiger%2Flearn_deep_learning/master', 12),\n",
       " ('htcondor/htcondor-python-bindings-tutorials/stable', 12),\n",
       " ('sobester/ADRpy/master', 12),\n",
       " ('sisaza/informatica.git/master', 12),\n",
       " ('santanche/c2learn/master', 12),\n",
       " ('fbkarsdorp/python-course/master', 12),\n",
       " ('StefanMack/PraktMesstBV/master', 12),\n",
       " ('cursorius-cursor/pyhasse-notebooks/master', 12),\n",
       " ('Yorko/mlcourse.ai/master', 12),\n",
       " ('toccalenuvole73/Free-zing-APP/master', 12),\n",
       " ('vibrationtoolbox/vibration_toolbox/binder', 12),\n",
       " ('jgarst/gobike/master', 12),\n",
       " ('QuantStack/ipytree/stable', 12),\n",
       " ('mkozturk/cmpe140/master', 12),\n",
       " ('nackenho/TUDortmundMLSeminar/master', 12),\n",
       " ('MiguelHeCa/introduccion_R/binder', 12),\n",
       " ('robots-from-jupyter/robotkernel/master', 12),\n",
       " ('Charlesdossal/Nesterov/master', 12),\n",
       " ('cartodb/cartoframes/v0.10.0', 12),\n",
       " ('hofesh/Retropy/master', 12),\n",
       " ('brmather/pycurious/binder', 12),\n",
       " ('aeriosk/training/master', 12),\n",
       " ('criteo-research/iclr_analysis/master', 12),\n",
       " ('domenicozambella/BioTeMo19/master', 12),\n",
       " ('pymc-devs/resources/master', 12),\n",
       " ('nbgallery/dashboards/master', 12),\n",
       " ('jbloomlab/2B06_DMS/master', 12),\n",
       " ...]"
      ]
     },
     "execution_count": 26,
     "metadata": {},
     "output_type": "execute_result"
    }
   ],
   "source": [
    "# Do a frequency count to find binders that run the most often.\n",
    "records.map(lambda d: d[\"spec\"]).frequencies(sort=True).compute()"
   ]
  },
  {
   "cell_type": "code",
   "execution_count": 30,
   "id": "09bb9987",
   "metadata": {
    "ExecuteTime": {
     "end_time": "2023-04-04T15:14:50.140466Z",
     "start_time": "2023-04-04T15:14:49.587041Z"
    }
   },
   "outputs": [],
   "source": [
    "# Look for records that have \"dask\" in the specs.\n",
    "obj = records.filter(lambda d: \"dask\" in d[\"spec\"])\n",
    "\n",
    "# Convert to strings and saves.\n",
    "obj = obj.map(json.dumps).to_textfiles(\"data/analysis/*.json\")"
   ]
  },
  {
   "cell_type": "code",
   "execution_count": 31,
   "id": "292529fb",
   "metadata": {
    "ExecuteTime": {
     "end_time": "2023-04-04T15:15:04.771494Z",
     "start_time": "2023-04-04T15:15:03.946406Z"
    }
   },
   "outputs": [
    {
     "name": "stdout",
     "output_type": "stream",
     "text": [
      "total 440\r\n",
      "-rw-r--r-- 1 root root  8233 Apr  4 15:14 00.json\r\n",
      "-rw-r--r-- 1 root root  6815 Apr  4 15:14 01.json\r\n",
      "-rw-r--r-- 1 root root  6801 Apr  4 15:14 02.json\r\n",
      "-rw-r--r-- 1 root root 10753 Apr  4 15:14 03.json\r\n",
      "-rw-r--r-- 1 root root 12211 Apr  4 15:14 04.json\r\n",
      "-rw-r--r-- 1 root root 14101 Apr  4 15:14 05.json\r\n",
      "-rw-r--r-- 1 root root 12530 Apr  4 15:14 06.json\r\n",
      "-rw-r--r-- 1 root root  5071 Apr  4 15:14 07.json\r\n",
      "-rw-r--r-- 1 root root  6622 Apr  4 15:14 08.json\r\n",
      "-rw-r--r-- 1 root root 12887 Apr  4 15:14 09.json\r\n",
      "-rw-r--r-- 1 root root 20549 Apr  4 15:14 10.json\r\n",
      "-rw-r--r-- 1 root root 21964 Apr  4 15:14 11.json\r\n",
      "-rw-r--r-- 1 root root 15047 Apr  4 15:14 12.json\r\n",
      "-rw-r--r-- 1 root root 23266 Apr  4 15:14 13.json\r\n",
      "-rw-r--r-- 1 root root  9631 Apr  4 15:14 14.json\r\n",
      "-rw-r--r-- 1 root root 10921 Apr  4 15:14 15.json\r\n",
      "-rw-r--r-- 1 root root 18209 Apr  4 15:14 16.json\r\n",
      "-rw-r--r-- 1 root root 21744 Apr  4 15:14 17.json\r\n",
      "-rw-r--r-- 1 root root 18538 Apr  4 15:14 18.json\r\n",
      "-rw-r--r-- 1 root root 22178 Apr  4 15:14 19.json\r\n",
      "-rw-r--r-- 1 root root 15479 Apr  4 15:14 20.json\r\n",
      "-rw-r--r-- 1 root root  6513 Apr  4 15:14 21.json\r\n",
      "-rw-r--r-- 1 root root  6696 Apr  4 15:14 22.json\r\n",
      "-rw-r--r-- 1 root root  9616 Apr  4 15:14 23.json\r\n",
      "-rw-r--r-- 1 root root 13590 Apr  4 15:14 24.json\r\n",
      "-rw-r--r-- 1 root root 17151 Apr  4 15:14 25.json\r\n",
      "-rw-r--r-- 1 root root 14269 Apr  4 15:14 26.json\r\n",
      "-rw-r--r-- 1 root root 18415 Apr  4 15:14 27.json\r\n",
      "-rw-r--r-- 1 root root  5224 Apr  4 15:14 28.json\r\n"
     ]
    }
   ],
   "source": [
    "!ls -l data/analysis"
   ]
  },
  {
   "cell_type": "code",
   "execution_count": 33,
   "id": "50081851",
   "metadata": {
    "ExecuteTime": {
     "end_time": "2023-04-04T15:15:45.978255Z",
     "start_time": "2023-04-04T15:15:45.301516Z"
    }
   },
   "outputs": [
    {
     "name": "stdout",
     "output_type": "stream",
     "text": [
      "{\"timestamp\": \"2019-06-01T00:11:00+00:00\", \"schema\": \"binderhub.jupyter.org/launch\", \"version\": 2, \"provider\": \"GitHub\", \"spec\": \"dask/dask-examples/master\", \"status\": \"success\"}\r\n",
      "{\"timestamp\": \"2019-06-01T01:09:00+00:00\", \"schema\": \"binderhub.jupyter.org/launch\", \"version\": 2, \"provider\": \"GitHub\", \"spec\": \"dask/dask-examples/master\", \"status\": \"success\"}\r\n",
      "{\"timestamp\": \"2019-06-01T03:37:00+00:00\", \"schema\": \"binderhub.jupyter.org/launch\", \"version\": 2, \"provider\": \"GitHub\", \"spec\": \"dask/dask-examples/master\", \"status\": \"success\"}\r\n",
      "{\"timestamp\": \"2019-06-01T04:17:00+00:00\", \"schema\": \"binderhub.jupyter.org/launch\", \"version\": 2, \"provider\": \"GitHub\", \"spec\": \"dask/dask-examples/master\", \"status\": \"success\"}\r\n",
      "{\"timestamp\": \"2019-06-01T05:03:00+00:00\", \"schema\": \"binderhub.jupyter.org/launch\", \"version\": 2, \"provider\": \"GitHub\", \"spec\": \"dask/dask-examples/master\", \"status\": \"success\"}\r\n",
      "{\"timestamp\": \"2019-06-01T05:28:00+00:00\", \"schema\": \"binderhub.jupyter.org/launch\", \"version\": 2, \"provider\": \"GitHub\", \"spec\": \"dask/dask-examples/master\", \"status\": \"success\"}\r\n",
      "{\"timestamp\": \"2019-06-01T06:22:00+00:00\", \"schema\": \"binderhub.jupyter.org/launch\", \"version\": 2, \"provider\": \"GitHub\", \"spec\": \"dask/dask-examples/master\", \"status\": \"success\"}\r\n",
      "{\"timestamp\": \"2019-06-01T07:35:00+00:00\", \"schema\": \"binderhub.jupyter.org/launch\", \"version\": 2, \"provider\": \"GitHub\", \"spec\": \"dask/dask-examples/master\", \"status\": \"success\"}\r\n",
      "{\"timestamp\": \"2019-06-01T07:36:00+00:00\", \"schema\": \"binderhub.jupyter.org/launch\", \"version\": 2, \"provider\": \"GitHub\", \"spec\": \"dask/dask-examples/master\", \"status\": \"success\"}\r\n",
      "{\"timestamp\": \"2019-06-01T08:44:00+00:00\", \"schema\": \"binderhub.jupyter.org/launch\", \"version\": 2, \"provider\": \"GitHub\", \"spec\": \"dask/dask-examples/master\", \"status\": \"success\"}\r\n",
      "{\"timestamp\": \"2019-06-01T09:03:00+00:00\", \"schema\": \"binderhub.jupyter.org/launch\", \"version\": 2, \"provider\": \"GitHub\", \"spec\": \"dask/dask-examples/master\", \"status\": \"success\"}\r\n",
      "{\"timestamp\": \"2019-06-01T09:20:00+00:00\", \"schema\": \"binderhub.jupyter.org/launch\", \"version\": 2, \"provider\": \"GitHub\", \"spec\": \"dask/dask-examples/master\", \"status\": \"success\"}\r\n",
      "{\"timestamp\": \"2019-06-01T10:19:00+00:00\", \"schema\": \"binderhub.jupyter.org/launch\", \"version\": 2, \"provider\": \"GitHub\", \"spec\": \"dask/dask-examples/master\", \"status\": \"success\"}\r\n",
      "{\"timestamp\": \"2019-06-01T10:24:00+00:00\", \"schema\": \"binderhub.jupyter.org/launch\", \"version\": 2, \"provider\": \"GitHub\", \"spec\": \"dask/dask-examples/master\", \"status\": \"success\"}\r\n",
      "{\"timestamp\": \"2019-06-01T11:21:00+00:00\", \"schema\": \"binderhub.jupyter.org/launch\", \"version\": 2, \"provider\": \"GitHub\", \"spec\": \"dask/dask-examples/master\", \"status\": \"success\"}\r\n",
      "{\"timestamp\": \"2019-06-01T11:26:00+00:00\", \"schema\": \"binderhub.jupyter.org/launch\", \"version\": 2, \"provider\": \"GitHub\", \"spec\": \"dask/dask-examples/master\", \"status\": \"success\"}\r\n",
      "{\"timestamp\": \"2019-06-01T12:11:00+00:00\", \"schema\": \"binderhub.jupyter.org/launch\", \"version\": 2, \"provider\": \"GitHub\", \"spec\": \"dask/dask-examples/master\", \"status\": \"success\"}\r\n",
      "{\"timestamp\": \"2019-06-01T12:15:00+00:00\", \"schema\": \"binderhub.jupyter.org/launch\", \"version\": 2, \"provider\": \"GitHub\", \"spec\": \"dask/dask-examples/master\", \"status\": \"success\"}\r\n",
      "{\"timestamp\": \"2019-06-01T12:16:00+00:00\", \"schema\": \"binderhub.jupyter.org/launch\", \"version\": 2, \"provider\": \"GitHub\", \"spec\": \"dask/dask-examples/master\", \"status\": \"success\"}\r\n",
      "{\"timestamp\": \"2019-06-01T12:21:00+00:00\", \"schema\": \"binderhub.jupyter.org/launch\", \"version\": 2, \"provider\": \"GitHub\", \"spec\": \"dask/dask-examples/master\", \"status\": \"success\"}\r\n"
     ]
    }
   ],
   "source": [
    "!head -20 data/analysis/00.json"
   ]
  },
  {
   "cell_type": "code",
   "execution_count": 37,
   "id": "f6cdc32c",
   "metadata": {
    "ExecuteTime": {
     "end_time": "2023-04-04T15:16:37.371278Z",
     "start_time": "2023-04-04T15:16:37.320702Z"
    }
   },
   "outputs": [
    {
     "name": "stdout",
     "output_type": "stream",
     "text": [
      "type= <class 'dask.dataframe.core.DataFrame'>\n"
     ]
    },
    {
     "data": {
      "text/html": [
       "<div><strong>Dask DataFrame Structure:</strong></div>\n",
       "<div>\n",
       "<style scoped>\n",
       "    .dataframe tbody tr th:only-of-type {\n",
       "        vertical-align: middle;\n",
       "    }\n",
       "\n",
       "    .dataframe tbody tr th {\n",
       "        vertical-align: top;\n",
       "    }\n",
       "\n",
       "    .dataframe thead th {\n",
       "        text-align: right;\n",
       "    }\n",
       "</style>\n",
       "<table border=\"1\" class=\"dataframe\">\n",
       "  <thead>\n",
       "    <tr style=\"text-align: right;\">\n",
       "      <th></th>\n",
       "      <th>timestamp</th>\n",
       "      <th>schema</th>\n",
       "      <th>version</th>\n",
       "      <th>provider</th>\n",
       "      <th>spec</th>\n",
       "      <th>status</th>\n",
       "    </tr>\n",
       "    <tr>\n",
       "      <th>npartitions=29</th>\n",
       "      <th></th>\n",
       "      <th></th>\n",
       "      <th></th>\n",
       "      <th></th>\n",
       "      <th></th>\n",
       "      <th></th>\n",
       "    </tr>\n",
       "  </thead>\n",
       "  <tbody>\n",
       "    <tr>\n",
       "      <th></th>\n",
       "      <td>object</td>\n",
       "      <td>object</td>\n",
       "      <td>int64</td>\n",
       "      <td>object</td>\n",
       "      <td>object</td>\n",
       "      <td>object</td>\n",
       "    </tr>\n",
       "    <tr>\n",
       "      <th></th>\n",
       "      <td>...</td>\n",
       "      <td>...</td>\n",
       "      <td>...</td>\n",
       "      <td>...</td>\n",
       "      <td>...</td>\n",
       "      <td>...</td>\n",
       "    </tr>\n",
       "    <tr>\n",
       "      <th>...</th>\n",
       "      <td>...</td>\n",
       "      <td>...</td>\n",
       "      <td>...</td>\n",
       "      <td>...</td>\n",
       "      <td>...</td>\n",
       "      <td>...</td>\n",
       "    </tr>\n",
       "    <tr>\n",
       "      <th></th>\n",
       "      <td>...</td>\n",
       "      <td>...</td>\n",
       "      <td>...</td>\n",
       "      <td>...</td>\n",
       "      <td>...</td>\n",
       "      <td>...</td>\n",
       "    </tr>\n",
       "    <tr>\n",
       "      <th></th>\n",
       "      <td>...</td>\n",
       "      <td>...</td>\n",
       "      <td>...</td>\n",
       "      <td>...</td>\n",
       "      <td>...</td>\n",
       "      <td>...</td>\n",
       "    </tr>\n",
       "  </tbody>\n",
       "</table>\n",
       "</div>\n",
       "<div>Dask Name: to_dataframe, 1 graph layer</div>"
      ],
      "text/plain": [
       "Dask DataFrame Structure:\n",
       "               timestamp  schema version provider    spec  status\n",
       "npartitions=29                                                   \n",
       "                  object  object   int64   object  object  object\n",
       "                     ...     ...     ...      ...     ...     ...\n",
       "...                  ...     ...     ...      ...     ...     ...\n",
       "                     ...     ...     ...      ...     ...     ...\n",
       "                     ...     ...     ...      ...     ...     ...\n",
       "Dask Name: to_dataframe, 1 graph layer"
      ]
     },
     "metadata": {},
     "output_type": "display_data"
    }
   ],
   "source": [
    "# Instead of using Bag, one can use DataFrame.\n",
    "\n",
    "df = records.to_dataframe()\n",
    "print_obj(df)\n",
    "\n",
    "# It still a lazy result."
   ]
  },
  {
   "cell_type": "code",
   "execution_count": 39,
   "id": "99e1aacd",
   "metadata": {
    "ExecuteTime": {
     "end_time": "2023-04-04T15:17:10.655467Z",
     "start_time": "2023-04-04T15:17:09.008317Z"
    }
   },
   "outputs": [
    {
     "data": {
      "text/html": [
       "<div>\n",
       "<style scoped>\n",
       "    .dataframe tbody tr th:only-of-type {\n",
       "        vertical-align: middle;\n",
       "    }\n",
       "\n",
       "    .dataframe tbody tr th {\n",
       "        vertical-align: top;\n",
       "    }\n",
       "\n",
       "    .dataframe thead th {\n",
       "        text-align: right;\n",
       "    }\n",
       "</style>\n",
       "<table border=\"1\" class=\"dataframe\">\n",
       "  <thead>\n",
       "    <tr style=\"text-align: right;\">\n",
       "      <th></th>\n",
       "      <th>spec</th>\n",
       "    </tr>\n",
       "  </thead>\n",
       "  <tbody>\n",
       "    <tr>\n",
       "      <th>ipython/ipython-in-depth/master</th>\n",
       "      <td>163735</td>\n",
       "    </tr>\n",
       "    <tr>\n",
       "      <th>jupyterlab/jupyterlab-demo/master</th>\n",
       "      <td>33724</td>\n",
       "    </tr>\n",
       "    <tr>\n",
       "      <th>ines/spacy-io-binder/live</th>\n",
       "      <td>16367</td>\n",
       "    </tr>\n",
       "    <tr>\n",
       "      <th>DS-100/textbook/master</th>\n",
       "      <td>11167</td>\n",
       "    </tr>\n",
       "    <tr>\n",
       "      <th>bokeh/bokeh-notebooks/master</th>\n",
       "      <td>7834</td>\n",
       "    </tr>\n",
       "    <tr>\n",
       "      <th>ines/spacy-course/binder</th>\n",
       "      <td>4778</td>\n",
       "    </tr>\n",
       "    <tr>\n",
       "      <th>binder-examples/requirements/master</th>\n",
       "      <td>4754</td>\n",
       "    </tr>\n",
       "    <tr>\n",
       "      <th>rationalmatter/juno-demo-notebooks/master</th>\n",
       "      <td>4553</td>\n",
       "    </tr>\n",
       "    <tr>\n",
       "      <th>binder-examples/r/master</th>\n",
       "      <td>4547</td>\n",
       "    </tr>\n",
       "    <tr>\n",
       "      <th>QuantStack/xeus-cling/stable</th>\n",
       "      <td>3602</td>\n",
       "    </tr>\n",
       "    <tr>\n",
       "      <th>numba/numba-examples/master</th>\n",
       "      <td>2179</td>\n",
       "    </tr>\n",
       "    <tr>\n",
       "      <th>binder-examples/julia-python/master</th>\n",
       "      <td>1988</td>\n",
       "    </tr>\n",
       "    <tr>\n",
       "      <th>dask/dask-examples/master</th>\n",
       "      <td>1852</td>\n",
       "    </tr>\n",
       "    <tr>\n",
       "      <th>noamross/gams-in-r-course/master</th>\n",
       "      <td>1850</td>\n",
       "    </tr>\n",
       "    <tr>\n",
       "      <th>ELC/8fdc0f490b3058872a7014f01416dfb6/master</th>\n",
       "      <td>1697</td>\n",
       "    </tr>\n",
       "    <tr>\n",
       "      <th>ComputoCienciasUniandes/FISI2028-201910/master</th>\n",
       "      <td>1230</td>\n",
       "    </tr>\n",
       "    <tr>\n",
       "      <th>wshuyi/demo-spacy-text-processing/master</th>\n",
       "      <td>1224</td>\n",
       "    </tr>\n",
       "    <tr>\n",
       "      <th>data-8/textbook/gh-pages</th>\n",
       "      <td>1223</td>\n",
       "    </tr>\n",
       "    <tr>\n",
       "      <th>jmsevillam/Calculadoras/master</th>\n",
       "      <td>1220</td>\n",
       "    </tr>\n",
       "    <tr>\n",
       "      <th>jupyter/jupyter-book/gh-pages</th>\n",
       "      <td>1009</td>\n",
       "    </tr>\n",
       "  </tbody>\n",
       "</table>\n",
       "</div>"
      ],
      "text/plain": [
       "                                                  spec\n",
       "ipython/ipython-in-depth/master                 163735\n",
       "jupyterlab/jupyterlab-demo/master                33724\n",
       "ines/spacy-io-binder/live                        16367\n",
       "DS-100/textbook/master                           11167\n",
       "bokeh/bokeh-notebooks/master                      7834\n",
       "ines/spacy-course/binder                          4778\n",
       "binder-examples/requirements/master               4754\n",
       "rationalmatter/juno-demo-notebooks/master         4553\n",
       "binder-examples/r/master                          4547\n",
       "QuantStack/xeus-cling/stable                      3602\n",
       "numba/numba-examples/master                       2179\n",
       "binder-examples/julia-python/master               1988\n",
       "dask/dask-examples/master                         1852\n",
       "noamross/gams-in-r-course/master                  1850\n",
       "ELC/8fdc0f490b3058872a7014f01416dfb6/master       1697\n",
       "ComputoCienciasUniandes/FISI2028-201910/master    1230\n",
       "wshuyi/demo-spacy-text-processing/master          1224\n",
       "data-8/textbook/gh-pages                          1223\n",
       "jmsevillam/Calculadoras/master                    1220\n",
       "jupyter/jupyter-book/gh-pages                     1009"
      ]
     },
     "execution_count": 39,
     "metadata": {},
     "output_type": "execute_result"
    }
   ],
   "source": [
    "df.spec.value_counts().nlargest(20).to_frame().compute()"
   ]
  }
 ],
 "metadata": {
  "kernelspec": {
   "display_name": "Python 3 (ipykernel)",
   "language": "python",
   "name": "python3"
  },
  "language_info": {
   "codemirror_mode": {
    "name": "ipython",
    "version": 3
   },
   "file_extension": ".py",
   "mimetype": "text/x-python",
   "name": "python",
   "nbconvert_exporter": "python",
   "pygments_lexer": "ipython3",
   "version": "3.10.6"
  },
  "toc": {
   "base_numbering": 1,
   "nav_menu": {},
   "number_sections": true,
   "sideBar": true,
   "skip_h1_title": false,
   "title_cell": "Table of Contents",
   "title_sidebar": "Contents",
   "toc_cell": false,
   "toc_position": {
    "height": "calc(100% - 180px)",
    "left": "10px",
    "top": "150px",
    "width": "310.909px"
   },
   "toc_section_display": true,
   "toc_window_display": true
  }
 },
 "nbformat": 4,
 "nbformat_minor": 5
}
