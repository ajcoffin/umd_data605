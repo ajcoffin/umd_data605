{
 "cells": [
  {
   "cell_type": "markdown",
   "metadata": {
    "toc": "true"
   },
   "source": [
    "<h1>Table of Contents<span class=\"tocSkip\"></span></h1>\n",
    "<div class=\"toc\"><ul class=\"toc-item\"><li><span><a href=\"#Data-aggregation-and-group-operations\" data-toc-modified-id=\"Data-aggregation-and-group-operations-1\"><span class=\"toc-item-num\">1&nbsp;&nbsp;</span>Data aggregation and group operations</a></span><ul class=\"toc-item\"><li><span><a href=\"#GroupBy-mechanics\" data-toc-modified-id=\"GroupBy-mechanics-1.1\"><span class=\"toc-item-num\">1.1&nbsp;&nbsp;</span>GroupBy mechanics</a></span><ul class=\"toc-item\"><li><span><a href=\"#Iterating-over-groups\" data-toc-modified-id=\"Iterating-over-groups-1.1.1\"><span class=\"toc-item-num\">1.1.1&nbsp;&nbsp;</span>Iterating over groups</a></span></li><li><span><a href=\"#Selecting-a-column-or-subset-of-columns\" data-toc-modified-id=\"Selecting-a-column-or-subset-of-columns-1.1.2\"><span class=\"toc-item-num\">1.1.2&nbsp;&nbsp;</span>Selecting a column or subset of columns</a></span></li><li><span><a href=\"#Grouping-with-dicts-and-series\" data-toc-modified-id=\"Grouping-with-dicts-and-series-1.1.3\"><span class=\"toc-item-num\">1.1.3&nbsp;&nbsp;</span>Grouping with dicts and series</a></span></li><li><span><a href=\"#Grouping-with-functions\" data-toc-modified-id=\"Grouping-with-functions-1.1.4\"><span class=\"toc-item-num\">1.1.4&nbsp;&nbsp;</span>Grouping with functions</a></span></li><li><span><a href=\"#Grouping-by-index-level\" data-toc-modified-id=\"Grouping-by-index-level-1.1.5\"><span class=\"toc-item-num\">1.1.5&nbsp;&nbsp;</span>Grouping by index level</a></span></li></ul></li><li><span><a href=\"#Data-aggregation\" data-toc-modified-id=\"Data-aggregation-1.2\"><span class=\"toc-item-num\">1.2&nbsp;&nbsp;</span>Data aggregation</a></span><ul class=\"toc-item\"><li><span><a href=\"#Column-wise-and-multiple-function-application\" data-toc-modified-id=\"Column-wise-and-multiple-function-application-1.2.1\"><span class=\"toc-item-num\">1.2.1&nbsp;&nbsp;</span>Column-wise and multiple function application</a></span></li><li><span><a href=\"#Returning-aggregated-data-without-row-indexes\" data-toc-modified-id=\"Returning-aggregated-data-without-row-indexes-1.2.2\"><span class=\"toc-item-num\">1.2.2&nbsp;&nbsp;</span>Returning aggregated data without row indexes</a></span></li></ul></li><li><span><a href=\"#Apply:-General-split-apply-combine\" data-toc-modified-id=\"Apply:-General-split-apply-combine-1.3\"><span class=\"toc-item-num\">1.3&nbsp;&nbsp;</span>Apply: General split-apply-combine</a></span><ul class=\"toc-item\"><li><span><a href=\"#Suppressing-the-group-keys\" data-toc-modified-id=\"Suppressing-the-group-keys-1.3.1\"><span class=\"toc-item-num\">1.3.1&nbsp;&nbsp;</span>Suppressing the group keys</a></span></li><li><span><a href=\"#Quantile-and-bucket-analysis\" data-toc-modified-id=\"Quantile-and-bucket-analysis-1.3.2\"><span class=\"toc-item-num\">1.3.2&nbsp;&nbsp;</span>Quantile and bucket analysis</a></span></li><li><span><a href=\"#Example:-filling-missing-values-with-group-specific-values\" data-toc-modified-id=\"Example:-filling-missing-values-with-group-specific-values-1.3.3\"><span class=\"toc-item-num\">1.3.3&nbsp;&nbsp;</span>Example: filling missing values with group-specific values</a></span></li><li><span><a href=\"#Example:-random-sampling-and-permutation\" data-toc-modified-id=\"Example:-random-sampling-and-permutation-1.3.4\"><span class=\"toc-item-num\">1.3.4&nbsp;&nbsp;</span>Example: random sampling and permutation</a></span></li><li><span><a href=\"#Example:-group-weighted-average-and-correlation\" data-toc-modified-id=\"Example:-group-weighted-average-and-correlation-1.3.5\"><span class=\"toc-item-num\">1.3.5&nbsp;&nbsp;</span>Example: group weighted average and correlation</a></span></li><li><span><a href=\"#Example:-group-wise-linear-regression\" data-toc-modified-id=\"Example:-group-wise-linear-regression-1.3.6\"><span class=\"toc-item-num\">1.3.6&nbsp;&nbsp;</span>Example: group-wise linear regression</a></span></li></ul></li><li><span><a href=\"#Pivot-tables-and-cross-tabulation\" data-toc-modified-id=\"Pivot-tables-and-cross-tabulation-1.4\"><span class=\"toc-item-num\">1.4&nbsp;&nbsp;</span>Pivot tables and cross-tabulation</a></span><ul class=\"toc-item\"><li><span><a href=\"#Crosstab\" data-toc-modified-id=\"Crosstab-1.4.1\"><span class=\"toc-item-num\">1.4.1&nbsp;&nbsp;</span>Crosstab</a></span></li></ul></li></ul></li></ul></div>"
   ]
  },
  {
   "cell_type": "code",
   "execution_count": 4,
   "metadata": {
    "ExecuteTime": {
     "end_time": "2019-08-04T21:17:51.207587Z",
     "start_time": "2019-08-04T21:17:51.205221Z"
    }
   },
   "outputs": [],
   "source": [
    "import numpy as np\n",
    "import pandas as pd"
   ]
  },
  {
   "cell_type": "markdown",
   "metadata": {},
   "source": [
    "# Data aggregation and group operations\n",
    "\n",
    "- After loading, merging, cleaning a dataset\n",
    "    - compute group statistics\n",
    "    \n",
    "- pandas (like SQL) has flexible operations for joining, filtering, aggregating data"
   ]
  },
  {
   "cell_type": "markdown",
   "metadata": {},
   "source": [
    "## GroupBy mechanics\n",
    "\n",
    "- Group operations are also called `split-apply-combine`\n",
    "    \n",
    "    1. split data (from DataFrame or Series) into groups:\n",
    "        - based on certain keys\n",
    "        - along rows or columns\n",
    "    2. apply a function to each group producing a new value\n",
    "        - E.g., sum()\n",
    "    3. combine the results into a series / df object\n",
    "    \n",
    "- Grouping can happen in many ways:\n",
    "    - list or array with values encoding the groups (same length as\n",
    "      the axis being grouped)\n",
    "    - a dict or a Series giving the correspondence between values\n",
    "      on the axes and group names\n",
    "    - the name of the column to be used for the split\n",
    "    - a function invoked on the index or on the rows / columns"
   ]
  },
  {
   "cell_type": "code",
   "execution_count": 33,
   "metadata": {
    "ExecuteTime": {
     "end_time": "2019-08-04T21:18:52.262030Z",
     "start_time": "2019-08-04T21:18:52.251390Z"
    }
   },
   "outputs": [
    {
     "data": {
      "text/html": [
       "<div>\n",
       "<style scoped>\n",
       "    .dataframe tbody tr th:only-of-type {\n",
       "        vertical-align: middle;\n",
       "    }\n",
       "\n",
       "    .dataframe tbody tr th {\n",
       "        vertical-align: top;\n",
       "    }\n",
       "\n",
       "    .dataframe thead th {\n",
       "        text-align: right;\n",
       "    }\n",
       "</style>\n",
       "<table border=\"1\" class=\"dataframe\">\n",
       "  <thead>\n",
       "    <tr style=\"text-align: right;\">\n",
       "      <th></th>\n",
       "      <th>key1</th>\n",
       "      <th>key2</th>\n",
       "      <th>data1</th>\n",
       "      <th>data2</th>\n",
       "    </tr>\n",
       "  </thead>\n",
       "  <tbody>\n",
       "    <tr>\n",
       "      <th>0</th>\n",
       "      <td>a</td>\n",
       "      <td>one</td>\n",
       "      <td>1.331587</td>\n",
       "      <td>-0.720086</td>\n",
       "    </tr>\n",
       "    <tr>\n",
       "      <th>1</th>\n",
       "      <td>a</td>\n",
       "      <td>two</td>\n",
       "      <td>0.715279</td>\n",
       "      <td>0.265512</td>\n",
       "    </tr>\n",
       "    <tr>\n",
       "      <th>2</th>\n",
       "      <td>b</td>\n",
       "      <td>one</td>\n",
       "      <td>-1.545400</td>\n",
       "      <td>0.108549</td>\n",
       "    </tr>\n",
       "    <tr>\n",
       "      <th>3</th>\n",
       "      <td>b</td>\n",
       "      <td>two</td>\n",
       "      <td>-0.008384</td>\n",
       "      <td>0.004291</td>\n",
       "    </tr>\n",
       "    <tr>\n",
       "      <th>4</th>\n",
       "      <td>a</td>\n",
       "      <td>one</td>\n",
       "      <td>0.621336</td>\n",
       "      <td>-0.174600</td>\n",
       "    </tr>\n",
       "  </tbody>\n",
       "</table>\n",
       "</div>"
      ],
      "text/plain": [
       "  key1 key2     data1     data2\n",
       "0    a  one  1.331587 -0.720086\n",
       "1    a  two  0.715279  0.265512\n",
       "2    b  one -1.545400  0.108549\n",
       "3    b  two -0.008384  0.004291\n",
       "4    a  one  0.621336 -0.174600"
      ]
     },
     "execution_count": 33,
     "metadata": {},
     "output_type": "execute_result"
    }
   ],
   "source": [
    "np.random.seed(10)\n",
    "\n",
    "df = pd.DataFrame({\n",
    "    'key1': ['a', 'a', 'b', 'b', 'a'],\n",
    "    'key2': ['one', 'two', 'one', 'two', 'one'],\n",
    "    'data1': np.random.randn(5),\n",
    "    'data2': np.random.randn(5)\n",
    "})\n",
    "\n",
    "df"
   ]
  },
  {
   "cell_type": "code",
   "execution_count": 36,
   "metadata": {
    "ExecuteTime": {
     "end_time": "2019-08-04T21:21:43.526559Z",
     "start_time": "2019-08-04T21:21:43.521261Z"
    }
   },
   "outputs": [
    {
     "data": {
      "text/plain": [
       "<pandas.core.groupby.generic.SeriesGroupBy object at 0x110a3e048>"
      ]
     },
     "execution_count": 36,
     "metadata": {},
     "output_type": "execute_result"
    }
   ],
   "source": [
    "# 1)\n",
    "# - We want to compute the mean of the values in \"data1\" grouping by values of \"key1\"\n",
    "# - groupby() computes the mapping between keys of the groups and rows of the dataframe\n",
    "grouped = df['data1'].groupby(df['key1'])\n",
    "\n",
    "# We are grouping a Series since we have a single column.\n",
    "grouped"
   ]
  },
  {
   "cell_type": "code",
   "execution_count": 37,
   "metadata": {
    "ExecuteTime": {
     "end_time": "2019-08-04T21:21:45.103170Z",
     "start_time": "2019-08-04T21:21:45.096899Z"
    }
   },
   "outputs": [
    {
     "data": {
      "text/plain": [
       "<pandas.core.groupby.generic.DataFrameGroupBy object at 0x110a3e1d0>"
      ]
     },
     "execution_count": 37,
     "metadata": {},
     "output_type": "execute_result"
    }
   ],
   "source": [
    "grouped2 = df[['data1', 'data2']].groupby(df['key1'])\n",
    "\n",
    "# We are grouping a DataFrame since we have two columns.\n",
    "grouped2"
   ]
  },
  {
   "cell_type": "code",
   "execution_count": 38,
   "metadata": {
    "ExecuteTime": {
     "end_time": "2019-08-04T21:21:46.774480Z",
     "start_time": "2019-08-04T21:21:46.768868Z"
    }
   },
   "outputs": [
    {
     "data": {
      "text/plain": [
       "key1\n",
       "a    0.889400\n",
       "b   -0.776892\n",
       "Name: data1, dtype: float64"
      ]
     },
     "execution_count": 38,
     "metadata": {},
     "output_type": "execute_result"
    }
   ],
   "source": [
    "# For each value of the group we compute the mean of the corresponding rows.\n",
    "grouped.mean()"
   ]
  },
  {
   "cell_type": "code",
   "execution_count": 39,
   "metadata": {
    "ExecuteTime": {
     "end_time": "2019-08-04T21:21:57.565960Z",
     "start_time": "2019-08-04T21:21:57.556737Z"
    }
   },
   "outputs": [
    {
     "data": {
      "text/plain": [
       "key1  key2\n",
       "a     one     0.976461\n",
       "      two     0.715279\n",
       "b     one    -1.545400\n",
       "      two    -0.008384\n",
       "Name: data1, dtype: float64"
      ]
     },
     "execution_count": 39,
     "metadata": {},
     "output_type": "execute_result"
    }
   ],
   "source": [
    "# If we group by 2 keys, we end up with a hierarchical index Series.\n",
    "means = df['data1'].groupby([df['key1'], df['key2']]).mean()\n",
    "\n",
    "means"
   ]
  },
  {
   "cell_type": "code",
   "execution_count": 9,
   "metadata": {
    "ExecuteTime": {
     "end_time": "2019-08-04T21:17:51.268241Z",
     "start_time": "2019-08-04T21:17:51.260130Z"
    }
   },
   "outputs": [
    {
     "data": {
      "text/html": [
       "<div>\n",
       "<style scoped>\n",
       "    .dataframe tbody tr th:only-of-type {\n",
       "        vertical-align: middle;\n",
       "    }\n",
       "\n",
       "    .dataframe tbody tr th {\n",
       "        vertical-align: top;\n",
       "    }\n",
       "\n",
       "    .dataframe thead th {\n",
       "        text-align: right;\n",
       "    }\n",
       "</style>\n",
       "<table border=\"1\" class=\"dataframe\">\n",
       "  <thead>\n",
       "    <tr style=\"text-align: right;\">\n",
       "      <th>key2</th>\n",
       "      <th>one</th>\n",
       "      <th>two</th>\n",
       "    </tr>\n",
       "    <tr>\n",
       "      <th>key1</th>\n",
       "      <th></th>\n",
       "      <th></th>\n",
       "    </tr>\n",
       "  </thead>\n",
       "  <tbody>\n",
       "    <tr>\n",
       "      <th>a</th>\n",
       "      <td>0.031284</td>\n",
       "      <td>0.562044</td>\n",
       "    </tr>\n",
       "    <tr>\n",
       "      <th>b</th>\n",
       "      <td>0.359613</td>\n",
       "      <td>-1.723603</td>\n",
       "    </tr>\n",
       "  </tbody>\n",
       "</table>\n",
       "</div>"
      ],
      "text/plain": [
       "key2       one       two\n",
       "key1                    \n",
       "a     0.031284  0.562044\n",
       "b     0.359613 -1.723603"
      ]
     },
     "execution_count": 9,
     "metadata": {},
     "output_type": "execute_result"
    }
   ],
   "source": [
    "means.unstack()"
   ]
  },
  {
   "cell_type": "code",
   "execution_count": 10,
   "metadata": {
    "ExecuteTime": {
     "end_time": "2019-08-04T21:17:51.275194Z",
     "start_time": "2019-08-04T21:17:51.269982Z"
    }
   },
   "outputs": [
    {
     "data": {
      "text/plain": [
       "0    0.958372\n",
       "1    0.562044\n",
       "2    0.359613\n",
       "3   -1.723603\n",
       "4   -0.895805\n",
       "Name: data1, dtype: float64"
      ]
     },
     "execution_count": 10,
     "metadata": {},
     "output_type": "execute_result"
    }
   ],
   "source": [
    "df['data1']"
   ]
  },
  {
   "cell_type": "code",
   "execution_count": 40,
   "metadata": {
    "ExecuteTime": {
     "end_time": "2019-08-04T21:23:11.777253Z",
     "start_time": "2019-08-04T21:23:11.766333Z"
    }
   },
   "outputs": [
    {
     "name": "stdout",
     "output_type": "stream",
     "text": [
      "5 5 5\n"
     ]
    },
    {
     "data": {
      "text/plain": [
       "California  2005    0.715279\n",
       "            2006   -1.545400\n",
       "Ohio        2005    0.661601\n",
       "            2006    0.621336\n",
       "Name: data1, dtype: float64"
      ]
     },
     "execution_count": 40,
     "metadata": {},
     "output_type": "execute_result"
    }
   ],
   "source": [
    "# 2)\n",
    "# We can also use arrays to infer the groups, as long as the size is\n",
    "# the same as the number of rows.\n",
    "states = np.array(['Ohio', 'California', 'California', 'Ohio', 'Ohio'])\n",
    "years = np.array([2005, 2005, 2006, 2005, 2006])\n",
    "\n",
    "print(len(states), len(years), len(df['data1']))\n",
    "\n",
    "df['data1'].groupby([states, years]).mean()"
   ]
  },
  {
   "cell_type": "code",
   "execution_count": 12,
   "metadata": {
    "ExecuteTime": {
     "end_time": "2019-08-04T21:17:51.298514Z",
     "start_time": "2019-08-04T21:17:51.288803Z"
    }
   },
   "outputs": [
    {
     "data": {
      "text/html": [
       "<div>\n",
       "<style scoped>\n",
       "    .dataframe tbody tr th:only-of-type {\n",
       "        vertical-align: middle;\n",
       "    }\n",
       "\n",
       "    .dataframe tbody tr th {\n",
       "        vertical-align: top;\n",
       "    }\n",
       "\n",
       "    .dataframe thead th {\n",
       "        text-align: right;\n",
       "    }\n",
       "</style>\n",
       "<table border=\"1\" class=\"dataframe\">\n",
       "  <thead>\n",
       "    <tr style=\"text-align: right;\">\n",
       "      <th></th>\n",
       "      <th>data1</th>\n",
       "      <th>data2</th>\n",
       "    </tr>\n",
       "    <tr>\n",
       "      <th>key1</th>\n",
       "      <th></th>\n",
       "      <th></th>\n",
       "    </tr>\n",
       "  </thead>\n",
       "  <tbody>\n",
       "    <tr>\n",
       "      <th>a</th>\n",
       "      <td>0.208204</td>\n",
       "      <td>1.468931</td>\n",
       "    </tr>\n",
       "    <tr>\n",
       "      <th>b</th>\n",
       "      <td>-0.681995</td>\n",
       "      <td>-0.090453</td>\n",
       "    </tr>\n",
       "  </tbody>\n",
       "</table>\n",
       "</div>"
      ],
      "text/plain": [
       "         data1     data2\n",
       "key1                    \n",
       "a     0.208204  1.468931\n",
       "b    -0.681995 -0.090453"
      ]
     },
     "execution_count": 12,
     "metadata": {},
     "output_type": "execute_result"
    }
   ],
   "source": [
    "# 3)\n",
    "# The grouping information can be stored in the same data frame as the data\n",
    "# Note that df['key2'] is excluded from the mean since it is not numerical.\n",
    "df.groupby('key1').mean()"
   ]
  },
  {
   "cell_type": "code",
   "execution_count": 13,
   "metadata": {
    "ExecuteTime": {
     "end_time": "2019-08-04T21:17:51.313368Z",
     "start_time": "2019-08-04T21:17:51.301786Z"
    }
   },
   "outputs": [
    {
     "data": {
      "text/html": [
       "<div>\n",
       "<style scoped>\n",
       "    .dataframe tbody tr th:only-of-type {\n",
       "        vertical-align: middle;\n",
       "    }\n",
       "\n",
       "    .dataframe tbody tr th {\n",
       "        vertical-align: top;\n",
       "    }\n",
       "\n",
       "    .dataframe thead th {\n",
       "        text-align: right;\n",
       "    }\n",
       "</style>\n",
       "<table border=\"1\" class=\"dataframe\">\n",
       "  <thead>\n",
       "    <tr style=\"text-align: right;\">\n",
       "      <th></th>\n",
       "      <th></th>\n",
       "      <th>data1</th>\n",
       "      <th>data2</th>\n",
       "    </tr>\n",
       "    <tr>\n",
       "      <th>key1</th>\n",
       "      <th>key2</th>\n",
       "      <th></th>\n",
       "      <th></th>\n",
       "    </tr>\n",
       "  </thead>\n",
       "  <tbody>\n",
       "    <tr>\n",
       "      <th rowspan=\"2\" valign=\"top\">a</th>\n",
       "      <th>one</th>\n",
       "      <td>0.031284</td>\n",
       "      <td>1.433314</td>\n",
       "    </tr>\n",
       "    <tr>\n",
       "      <th>two</th>\n",
       "      <td>0.562044</td>\n",
       "      <td>1.540165</td>\n",
       "    </tr>\n",
       "    <tr>\n",
       "      <th rowspan=\"2\" valign=\"top\">b</th>\n",
       "      <th>one</th>\n",
       "      <td>0.359613</td>\n",
       "      <td>-0.114184</td>\n",
       "    </tr>\n",
       "    <tr>\n",
       "      <th>two</th>\n",
       "      <td>-1.723603</td>\n",
       "      <td>-0.066722</td>\n",
       "    </tr>\n",
       "  </tbody>\n",
       "</table>\n",
       "</div>"
      ],
      "text/plain": [
       "              data1     data2\n",
       "key1 key2                    \n",
       "a    one   0.031284  1.433314\n",
       "     two   0.562044  1.540165\n",
       "b    one   0.359613 -0.114184\n",
       "     two  -1.723603 -0.066722"
      ]
     },
     "execution_count": 13,
     "metadata": {},
     "output_type": "execute_result"
    }
   ],
   "source": [
    "# Group by 2 keys the entire df.\n",
    "df.groupby(['key1', 'key2']).mean()"
   ]
  },
  {
   "cell_type": "code",
   "execution_count": 41,
   "metadata": {
    "ExecuteTime": {
     "end_time": "2019-08-04T21:24:38.938926Z",
     "start_time": "2019-08-04T21:24:38.931665Z"
    }
   },
   "outputs": [
    {
     "data": {
      "text/plain": [
       "key1  key2\n",
       "a     one     2\n",
       "      two     1\n",
       "b     one     1\n",
       "      two     1\n",
       "dtype: int64"
      ]
     },
     "execution_count": 41,
     "metadata": {},
     "output_type": "execute_result"
    }
   ],
   "source": [
    "# We can count the number of elements with size().\n",
    "# Note that nan are excluded.\n",
    "df.groupby(['key1', 'key2']).size()"
   ]
  },
  {
   "cell_type": "markdown",
   "metadata": {},
   "source": [
    "### Iterating over groups\n",
    "\n",
    "- groupby object supports iteration."
   ]
  },
  {
   "cell_type": "code",
   "execution_count": 42,
   "metadata": {
    "ExecuteTime": {
     "end_time": "2019-08-04T21:24:47.043355Z",
     "start_time": "2019-08-04T21:24:47.035400Z"
    }
   },
   "outputs": [
    {
     "data": {
      "text/html": [
       "<div>\n",
       "<style scoped>\n",
       "    .dataframe tbody tr th:only-of-type {\n",
       "        vertical-align: middle;\n",
       "    }\n",
       "\n",
       "    .dataframe tbody tr th {\n",
       "        vertical-align: top;\n",
       "    }\n",
       "\n",
       "    .dataframe thead th {\n",
       "        text-align: right;\n",
       "    }\n",
       "</style>\n",
       "<table border=\"1\" class=\"dataframe\">\n",
       "  <thead>\n",
       "    <tr style=\"text-align: right;\">\n",
       "      <th></th>\n",
       "      <th>key1</th>\n",
       "      <th>key2</th>\n",
       "      <th>data1</th>\n",
       "      <th>data2</th>\n",
       "    </tr>\n",
       "  </thead>\n",
       "  <tbody>\n",
       "    <tr>\n",
       "      <th>0</th>\n",
       "      <td>a</td>\n",
       "      <td>one</td>\n",
       "      <td>1.331587</td>\n",
       "      <td>-0.720086</td>\n",
       "    </tr>\n",
       "    <tr>\n",
       "      <th>1</th>\n",
       "      <td>a</td>\n",
       "      <td>two</td>\n",
       "      <td>0.715279</td>\n",
       "      <td>0.265512</td>\n",
       "    </tr>\n",
       "    <tr>\n",
       "      <th>2</th>\n",
       "      <td>b</td>\n",
       "      <td>one</td>\n",
       "      <td>-1.545400</td>\n",
       "      <td>0.108549</td>\n",
       "    </tr>\n",
       "    <tr>\n",
       "      <th>3</th>\n",
       "      <td>b</td>\n",
       "      <td>two</td>\n",
       "      <td>-0.008384</td>\n",
       "      <td>0.004291</td>\n",
       "    </tr>\n",
       "    <tr>\n",
       "      <th>4</th>\n",
       "      <td>a</td>\n",
       "      <td>one</td>\n",
       "      <td>0.621336</td>\n",
       "      <td>-0.174600</td>\n",
       "    </tr>\n",
       "  </tbody>\n",
       "</table>\n",
       "</div>"
      ],
      "text/plain": [
       "  key1 key2     data1     data2\n",
       "0    a  one  1.331587 -0.720086\n",
       "1    a  two  0.715279  0.265512\n",
       "2    b  one -1.545400  0.108549\n",
       "3    b  two -0.008384  0.004291\n",
       "4    a  one  0.621336 -0.174600"
      ]
     },
     "execution_count": 42,
     "metadata": {},
     "output_type": "execute_result"
    }
   ],
   "source": [
    "df"
   ]
  },
  {
   "cell_type": "code",
   "execution_count": 43,
   "metadata": {
    "ExecuteTime": {
     "end_time": "2019-08-04T21:25:07.671612Z",
     "start_time": "2019-08-04T21:25:07.661035Z"
    }
   },
   "outputs": [
    {
     "name": "stdout",
     "output_type": "stream",
     "text": [
      "\n",
      "# key= a\n",
      "group=\n",
      "   key1 key2     data1     data2\n",
      "0    a  one  1.331587 -0.720086\n",
      "1    a  two  0.715279  0.265512\n",
      "4    a  one  0.621336 -0.174600\n",
      "\n",
      "# key= b\n",
      "group=\n",
      "   key1 key2     data1     data2\n",
      "2    b  one -1.545400  0.108549\n",
      "3    b  two -0.008384  0.004291\n"
     ]
    }
   ],
   "source": [
    "for name, group in df.groupby('key1'):\n",
    "    # group is the dataframe.\n",
    "    print(\"\\n# key=\", name)\n",
    "    print(\"group=\\n\", group)"
   ]
  },
  {
   "cell_type": "code",
   "execution_count": 44,
   "metadata": {
    "ExecuteTime": {
     "end_time": "2019-08-04T21:26:31.806550Z",
     "start_time": "2019-08-04T21:26:31.788907Z"
    }
   },
   "outputs": [
    {
     "name": "stdout",
     "output_type": "stream",
     "text": [
      "\n",
      "# key= ('a', 'one')\n",
      "group=\n",
      "   key1 key2     data1     data2\n",
      "0    a  one  1.331587 -0.720086\n",
      "4    a  one  0.621336 -0.174600\n",
      "\n",
      "# key= ('a', 'two')\n",
      "group=\n",
      "   key1 key2     data1     data2\n",
      "1    a  two  0.715279  0.265512\n",
      "\n",
      "# key= ('b', 'one')\n",
      "group=\n",
      "   key1 key2   data1     data2\n",
      "2    b  one -1.5454  0.108549\n",
      "\n",
      "# key= ('b', 'two')\n",
      "group=\n",
      "   key1 key2     data1     data2\n",
      "3    b  two -0.008384  0.004291\n"
     ]
    }
   ],
   "source": [
    "# In case of grouping by multiple keys, the \"key\" is a tuple of values.\n",
    "for (k1, k2), group in df.groupby(['key1', 'key2']):\n",
    "    print(\"\\n# key=\", (k1, k2))\n",
    "    print(\"group=\\n\", group)"
   ]
  },
  {
   "cell_type": "code",
   "execution_count": 45,
   "metadata": {
    "ExecuteTime": {
     "end_time": "2019-08-04T21:26:45.604240Z",
     "start_time": "2019-08-04T21:26:45.589356Z"
    }
   },
   "outputs": [
    {
     "name": "stdout",
     "output_type": "stream",
     "text": [
      "{'a':   key1 key2     data1     data2\n",
      "0    a  one  1.331587 -0.720086\n",
      "1    a  two  0.715279  0.265512\n",
      "4    a  one  0.621336 -0.174600,\n",
      " 'b':   key1 key2     data1     data2\n",
      "2    b  one -1.545400  0.108549\n",
      "3    b  two -0.008384  0.004291}\n"
     ]
    }
   ],
   "source": [
    "# One can compute a dict out of the groupby in one line.\n",
    "pieces = dict(list(df.groupby('key1')))\n",
    "\n",
    "import pprint\n",
    "\n",
    "pprint.pprint(pieces)"
   ]
  },
  {
   "cell_type": "markdown",
   "metadata": {
    "ExecuteTime": {
     "end_time": "2018-03-28T04:14:49.073628Z",
     "start_time": "2018-03-27T21:14:49.054098-07:00"
    }
   },
   "source": [
    "### Selecting a column or subset of columns"
   ]
  },
  {
   "cell_type": "code",
   "execution_count": 46,
   "metadata": {
    "ExecuteTime": {
     "end_time": "2019-08-04T21:27:03.061976Z",
     "start_time": "2019-08-04T21:27:03.053765Z"
    }
   },
   "outputs": [
    {
     "data": {
      "text/html": [
       "<div>\n",
       "<style scoped>\n",
       "    .dataframe tbody tr th:only-of-type {\n",
       "        vertical-align: middle;\n",
       "    }\n",
       "\n",
       "    .dataframe tbody tr th {\n",
       "        vertical-align: top;\n",
       "    }\n",
       "\n",
       "    .dataframe thead th {\n",
       "        text-align: right;\n",
       "    }\n",
       "</style>\n",
       "<table border=\"1\" class=\"dataframe\">\n",
       "  <thead>\n",
       "    <tr style=\"text-align: right;\">\n",
       "      <th></th>\n",
       "      <th>key1</th>\n",
       "      <th>key2</th>\n",
       "      <th>data1</th>\n",
       "      <th>data2</th>\n",
       "    </tr>\n",
       "  </thead>\n",
       "  <tbody>\n",
       "    <tr>\n",
       "      <th>0</th>\n",
       "      <td>a</td>\n",
       "      <td>one</td>\n",
       "      <td>1.331587</td>\n",
       "      <td>-0.720086</td>\n",
       "    </tr>\n",
       "    <tr>\n",
       "      <th>1</th>\n",
       "      <td>a</td>\n",
       "      <td>two</td>\n",
       "      <td>0.715279</td>\n",
       "      <td>0.265512</td>\n",
       "    </tr>\n",
       "    <tr>\n",
       "      <th>2</th>\n",
       "      <td>b</td>\n",
       "      <td>one</td>\n",
       "      <td>-1.545400</td>\n",
       "      <td>0.108549</td>\n",
       "    </tr>\n",
       "    <tr>\n",
       "      <th>3</th>\n",
       "      <td>b</td>\n",
       "      <td>two</td>\n",
       "      <td>-0.008384</td>\n",
       "      <td>0.004291</td>\n",
       "    </tr>\n",
       "    <tr>\n",
       "      <th>4</th>\n",
       "      <td>a</td>\n",
       "      <td>one</td>\n",
       "      <td>0.621336</td>\n",
       "      <td>-0.174600</td>\n",
       "    </tr>\n",
       "  </tbody>\n",
       "</table>\n",
       "</div>"
      ],
      "text/plain": [
       "  key1 key2     data1     data2\n",
       "0    a  one  1.331587 -0.720086\n",
       "1    a  two  0.715279  0.265512\n",
       "2    b  one -1.545400  0.108549\n",
       "3    b  two -0.008384  0.004291\n",
       "4    a  one  0.621336 -0.174600"
      ]
     },
     "execution_count": 46,
     "metadata": {},
     "output_type": "execute_result"
    }
   ],
   "source": [
    "df"
   ]
  },
  {
   "cell_type": "code",
   "execution_count": 47,
   "metadata": {
    "ExecuteTime": {
     "end_time": "2019-08-04T21:28:14.755611Z",
     "start_time": "2019-08-04T21:28:14.749904Z"
    }
   },
   "outputs": [
    {
     "name": "stdout",
     "output_type": "stream",
     "text": [
      "keys= ['a', 'b']\n",
      "<pandas.core.groupby.generic.SeriesGroupBy object at 0x1109f8780>\n"
     ]
    }
   ],
   "source": [
    "# Group by \"key1\".\n",
    "grouped = df.groupby('key1')\n",
    "\n",
    "# .groups.keys() to get the keys.\n",
    "print(\"keys=\", list(grouped.groups.keys()))\n",
    "\n",
    "# A groupby object can be split by column after being computed.\n",
    "print(df.groupby('key1')[\"data1\"])"
   ]
  },
  {
   "cell_type": "code",
   "execution_count": 48,
   "metadata": {
    "ExecuteTime": {
     "end_time": "2019-08-04T21:28:18.480455Z",
     "start_time": "2019-08-04T21:28:18.472351Z"
    }
   },
   "outputs": [
    {
     "name": "stdout",
     "output_type": "stream",
     "text": [
      "key1\n",
      "a    0.889400\n",
      "b   -0.776892\n",
      "Name: data1, dtype: float64\n",
      "key1\n",
      "a   -0.209725\n",
      "b    0.056420\n",
      "Name: data2, dtype: float64\n"
     ]
    }
   ],
   "source": [
    "print(df.groupby('key1')[\"data1\"].mean())\n",
    "print(df.groupby('key1')[\"data2\"].mean())"
   ]
  },
  {
   "cell_type": "code",
   "execution_count": 51,
   "metadata": {
    "ExecuteTime": {
     "end_time": "2019-08-04T21:28:59.720207Z",
     "start_time": "2019-08-04T21:28:59.712118Z"
    }
   },
   "outputs": [
    {
     "name": "stdout",
     "output_type": "stream",
     "text": [
      "key1\n",
      "a    0.889400\n",
      "b   -0.776892\n",
      "Name: data1, dtype: float64\n",
      "key1\n",
      "a    0.889400\n",
      "b   -0.776892\n",
      "Name: data1, dtype: float64\n"
     ]
    }
   ],
   "source": [
    "# It is equivalent to\n",
    "# - \"split and then select\" and\n",
    "# - \"select and then split\"\n",
    "print(df.groupby('key1')[\"data1\"].mean())\n",
    "\n",
    "# Once we have selected \"data1\" there is no \"key1\" anymore so we use the array\n",
    "# df[\"key1\"] to label the values and group.\n",
    "print(df[\"data1\"].groupby(df['key1']).mean())"
   ]
  },
  {
   "cell_type": "markdown",
   "metadata": {
    "ExecuteTime": {
     "end_time": "2018-03-31T15:52:47.611730Z",
     "start_time": "2018-03-31T08:52:47.594163-07:00"
    }
   },
   "source": [
    "### Grouping with dicts and series"
   ]
  },
  {
   "cell_type": "code",
   "execution_count": 53,
   "metadata": {
    "ExecuteTime": {
     "end_time": "2019-08-04T21:30:58.661556Z",
     "start_time": "2019-08-04T21:30:58.650059Z"
    }
   },
   "outputs": [
    {
     "data": {
      "text/html": [
       "<div>\n",
       "<style scoped>\n",
       "    .dataframe tbody tr th:only-of-type {\n",
       "        vertical-align: middle;\n",
       "    }\n",
       "\n",
       "    .dataframe tbody tr th {\n",
       "        vertical-align: top;\n",
       "    }\n",
       "\n",
       "    .dataframe thead th {\n",
       "        text-align: right;\n",
       "    }\n",
       "</style>\n",
       "<table border=\"1\" class=\"dataframe\">\n",
       "  <thead>\n",
       "    <tr style=\"text-align: right;\">\n",
       "      <th></th>\n",
       "      <th>a</th>\n",
       "      <th>b</th>\n",
       "      <th>c</th>\n",
       "      <th>d</th>\n",
       "      <th>e</th>\n",
       "    </tr>\n",
       "  </thead>\n",
       "  <tbody>\n",
       "    <tr>\n",
       "      <th>Joe</th>\n",
       "      <td>1.331587</td>\n",
       "      <td>0.715279</td>\n",
       "      <td>-1.545400</td>\n",
       "      <td>-0.008384</td>\n",
       "      <td>0.621336</td>\n",
       "    </tr>\n",
       "    <tr>\n",
       "      <th>Steve</th>\n",
       "      <td>-0.720086</td>\n",
       "      <td>0.265512</td>\n",
       "      <td>0.108549</td>\n",
       "      <td>0.004291</td>\n",
       "      <td>-0.174600</td>\n",
       "    </tr>\n",
       "    <tr>\n",
       "      <th>Wes</th>\n",
       "      <td>0.433026</td>\n",
       "      <td>NaN</td>\n",
       "      <td>-0.965066</td>\n",
       "      <td>NaN</td>\n",
       "      <td>0.228630</td>\n",
       "    </tr>\n",
       "    <tr>\n",
       "      <th>Jim</th>\n",
       "      <td>0.445138</td>\n",
       "      <td>-1.136602</td>\n",
       "      <td>0.135137</td>\n",
       "      <td>1.484537</td>\n",
       "      <td>-1.079805</td>\n",
       "    </tr>\n",
       "    <tr>\n",
       "      <th>Travis</th>\n",
       "      <td>-1.977728</td>\n",
       "      <td>-1.743372</td>\n",
       "      <td>0.266070</td>\n",
       "      <td>2.384967</td>\n",
       "      <td>1.123691</td>\n",
       "    </tr>\n",
       "  </tbody>\n",
       "</table>\n",
       "</div>"
      ],
      "text/plain": [
       "               a         b         c         d         e\n",
       "Joe     1.331587  0.715279 -1.545400 -0.008384  0.621336\n",
       "Steve  -0.720086  0.265512  0.108549  0.004291 -0.174600\n",
       "Wes     0.433026       NaN -0.965066       NaN  0.228630\n",
       "Jim     0.445138 -1.136602  0.135137  1.484537 -1.079805\n",
       "Travis -1.977728 -1.743372  0.266070  2.384967  1.123691"
      ]
     },
     "execution_count": 53,
     "metadata": {},
     "output_type": "execute_result"
    }
   ],
   "source": [
    "np.random.seed(10)\n",
    "\n",
    "people = pd.DataFrame(\n",
    "    np.random.randn(5, 5),\n",
    "    columns=list(\"abcde\"),\n",
    "    index=\"Joe Steve Wes Jim Travis\".split())\n",
    "\n",
    "# Add NAs at row = 2 and columns = [1, 3]\n",
    "people.iloc[2:3, [1, 3]] = np.nan\n",
    "\n",
    "people"
   ]
  },
  {
   "cell_type": "markdown",
   "metadata": {
    "ExecuteTime": {
     "end_time": "2019-08-05T23:07:16.904589Z",
     "start_time": "2019-08-05T23:07:16.878600Z"
    }
   },
   "source": [
    "Finish"
   ]
  },
  {
   "cell_type": "code",
   "execution_count": 56,
   "metadata": {
    "ExecuteTime": {
     "end_time": "2019-08-04T21:31:39.165104Z",
     "start_time": "2019-08-04T21:31:39.154844Z"
    }
   },
   "outputs": [
    {
     "data": {
      "text/html": [
       "<div>\n",
       "<style scoped>\n",
       "    .dataframe tbody tr th:only-of-type {\n",
       "        vertical-align: middle;\n",
       "    }\n",
       "\n",
       "    .dataframe tbody tr th {\n",
       "        vertical-align: top;\n",
       "    }\n",
       "\n",
       "    .dataframe thead th {\n",
       "        text-align: right;\n",
       "    }\n",
       "</style>\n",
       "<table border=\"1\" class=\"dataframe\">\n",
       "  <thead>\n",
       "    <tr style=\"text-align: right;\">\n",
       "      <th></th>\n",
       "      <th>blue</th>\n",
       "      <th>red</th>\n",
       "    </tr>\n",
       "  </thead>\n",
       "  <tbody>\n",
       "    <tr>\n",
       "      <th>Joe</th>\n",
       "      <td>-1.553784</td>\n",
       "      <td>2.668201</td>\n",
       "    </tr>\n",
       "    <tr>\n",
       "      <th>Steve</th>\n",
       "      <td>0.112840</td>\n",
       "      <td>-0.629174</td>\n",
       "    </tr>\n",
       "    <tr>\n",
       "      <th>Wes</th>\n",
       "      <td>-0.965066</td>\n",
       "      <td>0.661656</td>\n",
       "    </tr>\n",
       "    <tr>\n",
       "      <th>Jim</th>\n",
       "      <td>1.619674</td>\n",
       "      <td>-1.771269</td>\n",
       "    </tr>\n",
       "    <tr>\n",
       "      <th>Travis</th>\n",
       "      <td>2.651037</td>\n",
       "      <td>-2.597409</td>\n",
       "    </tr>\n",
       "  </tbody>\n",
       "</table>\n",
       "</div>"
      ],
      "text/plain": [
       "            blue       red\n",
       "Joe    -1.553784  2.668201\n",
       "Steve   0.112840 -0.629174\n",
       "Wes    -0.965066  0.661656\n",
       "Jim     1.619674 -1.771269\n",
       "Travis  2.651037 -2.597409"
      ]
     },
     "execution_count": 56,
     "metadata": {},
     "output_type": "execute_result"
    }
   ],
   "source": [
    "# Build a map from columns to group and aggregate.\n",
    "mapping = {\n",
    "    'a': 'red',\n",
    "    'b': 'red',\n",
    "    'c': 'blue',\n",
    "    'd': 'blue',\n",
    "    'e': 'red',\n",
    "    'f': 'orange'\n",
    "}\n",
    "\n",
    "by_column = people.groupby(mapping, axis=1)\n",
    "\n",
    "by_column.sum()"
   ]
  },
  {
   "cell_type": "code",
   "execution_count": 25,
   "metadata": {
    "ExecuteTime": {
     "end_time": "2019-08-04T21:17:51.451390Z",
     "start_time": "2019-08-04T21:17:51.440822Z"
    }
   },
   "outputs": [
    {
     "name": "stdout",
     "output_type": "stream",
     "text": [
      "a       red\n",
      "b       red\n",
      "c      blue\n",
      "d      blue\n",
      "e       red\n",
      "f    orange\n",
      "dtype: object\n"
     ]
    },
    {
     "data": {
      "text/html": [
       "<div>\n",
       "<style scoped>\n",
       "    .dataframe tbody tr th:only-of-type {\n",
       "        vertical-align: middle;\n",
       "    }\n",
       "\n",
       "    .dataframe tbody tr th {\n",
       "        vertical-align: top;\n",
       "    }\n",
       "\n",
       "    .dataframe thead th {\n",
       "        text-align: right;\n",
       "    }\n",
       "</style>\n",
       "<table border=\"1\" class=\"dataframe\">\n",
       "  <thead>\n",
       "    <tr style=\"text-align: right;\">\n",
       "      <th></th>\n",
       "      <th>blue</th>\n",
       "      <th>red</th>\n",
       "    </tr>\n",
       "  </thead>\n",
       "  <tbody>\n",
       "    <tr>\n",
       "      <th>Joe</th>\n",
       "      <td>-0.272033</td>\n",
       "      <td>0.257715</td>\n",
       "    </tr>\n",
       "    <tr>\n",
       "      <th>Steve</th>\n",
       "      <td>0.796740</td>\n",
       "      <td>-4.354606</td>\n",
       "    </tr>\n",
       "    <tr>\n",
       "      <th>Wes</th>\n",
       "      <td>-0.664528</td>\n",
       "      <td>-1.372944</td>\n",
       "    </tr>\n",
       "    <tr>\n",
       "      <th>Jim</th>\n",
       "      <td>1.262702</td>\n",
       "      <td>0.051811</td>\n",
       "    </tr>\n",
       "    <tr>\n",
       "      <th>Travis</th>\n",
       "      <td>0.398841</td>\n",
       "      <td>-2.253070</td>\n",
       "    </tr>\n",
       "  </tbody>\n",
       "</table>\n",
       "</div>"
      ],
      "text/plain": [
       "            blue       red\n",
       "Joe    -0.272033  0.257715\n",
       "Steve   0.796740 -4.354606\n",
       "Wes    -0.664528 -1.372944\n",
       "Jim     1.262702  0.051811\n",
       "Travis  0.398841 -2.253070"
      ]
     },
     "metadata": {},
     "output_type": "display_data"
    }
   ],
   "source": [
    "# Transform the dict into a fixed mapping series.\n",
    "map_series = pd.Series(mapping)\n",
    "\n",
    "print(map_series)\n",
    "\n",
    "display(people.groupby(map_series, axis=1).sum())"
   ]
  },
  {
   "cell_type": "markdown",
   "metadata": {},
   "source": [
    "### Grouping with functions\n",
    "\n",
    "- Instead of a fixed mapping through dict or Series, a function can be used\n",
    "- When passing a function to groupby(), the function is called on the\n",
    "  index and the result is the group"
   ]
  },
  {
   "cell_type": "code",
   "execution_count": 26,
   "metadata": {
    "ExecuteTime": {
     "end_time": "2019-08-04T21:17:51.463209Z",
     "start_time": "2019-08-04T21:17:51.452949Z"
    }
   },
   "outputs": [
    {
     "data": {
      "text/html": [
       "<div>\n",
       "<style scoped>\n",
       "    .dataframe tbody tr th:only-of-type {\n",
       "        vertical-align: middle;\n",
       "    }\n",
       "\n",
       "    .dataframe tbody tr th {\n",
       "        vertical-align: top;\n",
       "    }\n",
       "\n",
       "    .dataframe thead th {\n",
       "        text-align: right;\n",
       "    }\n",
       "</style>\n",
       "<table border=\"1\" class=\"dataframe\">\n",
       "  <thead>\n",
       "    <tr style=\"text-align: right;\">\n",
       "      <th></th>\n",
       "      <th>a</th>\n",
       "      <th>b</th>\n",
       "      <th>c</th>\n",
       "      <th>d</th>\n",
       "      <th>e</th>\n",
       "    </tr>\n",
       "  </thead>\n",
       "  <tbody>\n",
       "    <tr>\n",
       "      <th>3</th>\n",
       "      <td>2.994951</td>\n",
       "      <td>-1.845217</td>\n",
       "      <td>-1.763727</td>\n",
       "      <td>2.089868</td>\n",
       "      <td>-2.213151</td>\n",
       "    </tr>\n",
       "    <tr>\n",
       "      <th>5</th>\n",
       "      <td>-0.989102</td>\n",
       "      <td>-2.276888</td>\n",
       "      <td>0.797407</td>\n",
       "      <td>-0.000667</td>\n",
       "      <td>-1.088615</td>\n",
       "    </tr>\n",
       "    <tr>\n",
       "      <th>6</th>\n",
       "      <td>-0.445895</td>\n",
       "      <td>-1.942931</td>\n",
       "      <td>0.935635</td>\n",
       "      <td>-0.536794</td>\n",
       "      <td>0.135755</td>\n",
       "    </tr>\n",
       "  </tbody>\n",
       "</table>\n",
       "</div>"
      ],
      "text/plain": [
       "          a         b         c         d         e\n",
       "3  2.994951 -1.845217 -1.763727  2.089868 -2.213151\n",
       "5 -0.989102 -2.276888  0.797407 -0.000667 -1.088615\n",
       "6 -0.445895 -1.942931  0.935635 -0.536794  0.135755"
      ]
     },
     "execution_count": 26,
     "metadata": {},
     "output_type": "execute_result"
    }
   ],
   "source": [
    "# Group by length of name\n",
    "people.groupby(len).sum()"
   ]
  },
  {
   "cell_type": "markdown",
   "metadata": {},
   "source": [
    "### Grouping by index level\n",
    "\n",
    "- One can use the hierarchical index to aggregate using one of the\n",
    "  levels\n"
   ]
  },
  {
   "cell_type": "code",
   "execution_count": 27,
   "metadata": {
    "ExecuteTime": {
     "end_time": "2019-08-04T21:17:51.472162Z",
     "start_time": "2019-08-04T21:17:51.464917Z"
    }
   },
   "outputs": [
    {
     "data": {
      "text/plain": [
       "MultiIndex([('US', 1),\n",
       "            ('US', 3),\n",
       "            ('US', 5),\n",
       "            ('JP', 1),\n",
       "            ('JP', 3)],\n",
       "           names=['cty', 'tenor'])"
      ]
     },
     "execution_count": 27,
     "metadata": {},
     "output_type": "execute_result"
    }
   ],
   "source": [
    "columns = pd.MultiIndex.from_arrays(\n",
    "    [['US', 'US', 'US', 'JP', 'JP'], [1, 3, 5, 1, 3]],\n",
    "    names=['cty', 'tenor'])\n",
    "\n",
    "columns"
   ]
  },
  {
   "cell_type": "code",
   "execution_count": 28,
   "metadata": {
    "ExecuteTime": {
     "end_time": "2019-08-04T21:17:51.484944Z",
     "start_time": "2019-08-04T21:17:51.473962Z"
    }
   },
   "outputs": [
    {
     "data": {
      "text/html": [
       "<div>\n",
       "<style scoped>\n",
       "    .dataframe tbody tr th:only-of-type {\n",
       "        vertical-align: middle;\n",
       "    }\n",
       "\n",
       "    .dataframe tbody tr th {\n",
       "        vertical-align: top;\n",
       "    }\n",
       "\n",
       "    .dataframe thead tr th {\n",
       "        text-align: left;\n",
       "    }\n",
       "</style>\n",
       "<table border=\"1\" class=\"dataframe\">\n",
       "  <thead>\n",
       "    <tr>\n",
       "      <th>cty</th>\n",
       "      <th colspan=\"3\" halign=\"left\">US</th>\n",
       "      <th colspan=\"2\" halign=\"left\">JP</th>\n",
       "    </tr>\n",
       "    <tr>\n",
       "      <th>tenor</th>\n",
       "      <th>1</th>\n",
       "      <th>3</th>\n",
       "      <th>5</th>\n",
       "      <th>1</th>\n",
       "      <th>3</th>\n",
       "    </tr>\n",
       "  </thead>\n",
       "  <tbody>\n",
       "    <tr>\n",
       "      <th>0</th>\n",
       "      <td>-1.173586</td>\n",
       "      <td>-0.728171</td>\n",
       "      <td>-0.573554</td>\n",
       "      <td>-0.601618</td>\n",
       "      <td>0.685890</td>\n",
       "    </tr>\n",
       "    <tr>\n",
       "      <th>1</th>\n",
       "      <td>0.907170</td>\n",
       "      <td>0.447767</td>\n",
       "      <td>0.116431</td>\n",
       "      <td>-0.303920</td>\n",
       "      <td>0.538885</td>\n",
       "    </tr>\n",
       "    <tr>\n",
       "      <th>2</th>\n",
       "      <td>0.859550</td>\n",
       "      <td>1.837971</td>\n",
       "      <td>0.610375</td>\n",
       "      <td>-0.347287</td>\n",
       "      <td>-0.739334</td>\n",
       "    </tr>\n",
       "    <tr>\n",
       "      <th>3</th>\n",
       "      <td>1.883621</td>\n",
       "      <td>-1.271082</td>\n",
       "      <td>1.066175</td>\n",
       "      <td>-0.806638</td>\n",
       "      <td>-0.251036</td>\n",
       "    </tr>\n",
       "  </tbody>\n",
       "</table>\n",
       "</div>"
      ],
      "text/plain": [
       "cty          US                            JP          \n",
       "tenor         1         3         5         1         3\n",
       "0     -1.173586 -0.728171 -0.573554 -0.601618  0.685890\n",
       "1      0.907170  0.447767  0.116431 -0.303920  0.538885\n",
       "2      0.859550  1.837971  0.610375 -0.347287 -0.739334\n",
       "3      1.883621 -1.271082  1.066175 -0.806638 -0.251036"
      ]
     },
     "execution_count": 28,
     "metadata": {},
     "output_type": "execute_result"
    }
   ],
   "source": [
    "hier_df = pd.DataFrame(np.random.randn(4, 5), columns=columns)\n",
    "\n",
    "hier_df"
   ]
  },
  {
   "cell_type": "code",
   "execution_count": 29,
   "metadata": {
    "ExecuteTime": {
     "end_time": "2019-08-04T21:17:51.495516Z",
     "start_time": "2019-08-04T21:17:51.486792Z"
    }
   },
   "outputs": [
    {
     "data": {
      "text/html": [
       "<div>\n",
       "<style scoped>\n",
       "    .dataframe tbody tr th:only-of-type {\n",
       "        vertical-align: middle;\n",
       "    }\n",
       "\n",
       "    .dataframe tbody tr th {\n",
       "        vertical-align: top;\n",
       "    }\n",
       "\n",
       "    .dataframe thead th {\n",
       "        text-align: right;\n",
       "    }\n",
       "</style>\n",
       "<table border=\"1\" class=\"dataframe\">\n",
       "  <thead>\n",
       "    <tr style=\"text-align: right;\">\n",
       "      <th>cty</th>\n",
       "      <th>JP</th>\n",
       "      <th>US</th>\n",
       "    </tr>\n",
       "  </thead>\n",
       "  <tbody>\n",
       "    <tr>\n",
       "      <th>0</th>\n",
       "      <td>2</td>\n",
       "      <td>3</td>\n",
       "    </tr>\n",
       "    <tr>\n",
       "      <th>1</th>\n",
       "      <td>2</td>\n",
       "      <td>3</td>\n",
       "    </tr>\n",
       "    <tr>\n",
       "      <th>2</th>\n",
       "      <td>2</td>\n",
       "      <td>3</td>\n",
       "    </tr>\n",
       "    <tr>\n",
       "      <th>3</th>\n",
       "      <td>2</td>\n",
       "      <td>3</td>\n",
       "    </tr>\n",
       "  </tbody>\n",
       "</table>\n",
       "</div>"
      ],
      "text/plain": [
       "cty  JP  US\n",
       "0     2   3\n",
       "1     2   3\n",
       "2     2   3\n",
       "3     2   3"
      ]
     },
     "execution_count": 29,
     "metadata": {},
     "output_type": "execute_result"
    }
   ],
   "source": [
    "hier_df.groupby(level='cty', axis=1).count()"
   ]
  },
  {
   "cell_type": "markdown",
   "metadata": {},
   "source": [
    "## Data aggregation\n",
    "\n",
    "- aggregation = transformation from arrays to scalar value\n",
    "    - E.g., mean, count, min, sum, first, last"
   ]
  },
  {
   "cell_type": "code",
   "execution_count": 30,
   "metadata": {
    "ExecuteTime": {
     "end_time": "2019-08-04T21:17:51.505484Z",
     "start_time": "2019-08-04T21:17:51.497433Z"
    }
   },
   "outputs": [
    {
     "data": {
      "text/html": [
       "<div>\n",
       "<style scoped>\n",
       "    .dataframe tbody tr th:only-of-type {\n",
       "        vertical-align: middle;\n",
       "    }\n",
       "\n",
       "    .dataframe tbody tr th {\n",
       "        vertical-align: top;\n",
       "    }\n",
       "\n",
       "    .dataframe thead th {\n",
       "        text-align: right;\n",
       "    }\n",
       "</style>\n",
       "<table border=\"1\" class=\"dataframe\">\n",
       "  <thead>\n",
       "    <tr style=\"text-align: right;\">\n",
       "      <th></th>\n",
       "      <th>key1</th>\n",
       "      <th>key2</th>\n",
       "      <th>data1</th>\n",
       "      <th>data2</th>\n",
       "    </tr>\n",
       "  </thead>\n",
       "  <tbody>\n",
       "    <tr>\n",
       "      <th>0</th>\n",
       "      <td>a</td>\n",
       "      <td>one</td>\n",
       "      <td>0.958372</td>\n",
       "      <td>0.532245</td>\n",
       "    </tr>\n",
       "    <tr>\n",
       "      <th>1</th>\n",
       "      <td>a</td>\n",
       "      <td>two</td>\n",
       "      <td>0.562044</td>\n",
       "      <td>1.540165</td>\n",
       "    </tr>\n",
       "    <tr>\n",
       "      <th>2</th>\n",
       "      <td>b</td>\n",
       "      <td>one</td>\n",
       "      <td>0.359613</td>\n",
       "      <td>-0.114184</td>\n",
       "    </tr>\n",
       "    <tr>\n",
       "      <th>3</th>\n",
       "      <td>b</td>\n",
       "      <td>two</td>\n",
       "      <td>-1.723603</td>\n",
       "      <td>-0.066722</td>\n",
       "    </tr>\n",
       "    <tr>\n",
       "      <th>4</th>\n",
       "      <td>a</td>\n",
       "      <td>one</td>\n",
       "      <td>-0.895805</td>\n",
       "      <td>2.334383</td>\n",
       "    </tr>\n",
       "  </tbody>\n",
       "</table>\n",
       "</div>"
      ],
      "text/plain": [
       "  key1 key2     data1     data2\n",
       "0    a  one  0.958372  0.532245\n",
       "1    a  two  0.562044  1.540165\n",
       "2    b  one  0.359613 -0.114184\n",
       "3    b  two -1.723603 -0.066722\n",
       "4    a  one -0.895805  2.334383"
      ]
     },
     "execution_count": 30,
     "metadata": {},
     "output_type": "execute_result"
    }
   ],
   "source": [
    "df"
   ]
  },
  {
   "cell_type": "code",
   "execution_count": 31,
   "metadata": {
    "ExecuteTime": {
     "end_time": "2019-08-04T21:17:51.525879Z",
     "start_time": "2019-08-04T21:17:51.511628Z"
    }
   },
   "outputs": [
    {
     "ename": "TypeError",
     "evalue": "'quantile' cannot be performed against 'object' dtypes!",
     "output_type": "error",
     "traceback": [
      "\u001b[0;31m---------------------------------------------------------------------------\u001b[0m",
      "\u001b[0;31mTypeError\u001b[0m                                 Traceback (most recent call last)",
      "\u001b[0;32m<ipython-input-31-28b15e947493>\u001b[0m in \u001b[0;36m<module>\u001b[0;34m\u001b[0m\n\u001b[1;32m      1\u001b[0m \u001b[0;31m# split by values of key1 and compute quantile.\u001b[0m\u001b[0;34m\u001b[0m\u001b[0;34m\u001b[0m\u001b[0;34m\u001b[0m\u001b[0m\n\u001b[0;32m----> 2\u001b[0;31m \u001b[0mdf\u001b[0m\u001b[0;34m.\u001b[0m\u001b[0mgroupby\u001b[0m\u001b[0;34m(\u001b[0m\u001b[0;34m'key1'\u001b[0m\u001b[0;34m)\u001b[0m\u001b[0;34m.\u001b[0m\u001b[0mquantile\u001b[0m\u001b[0;34m(\u001b[0m\u001b[0;36m0.9\u001b[0m\u001b[0;34m)\u001b[0m\u001b[0;34m\u001b[0m\u001b[0;34m\u001b[0m\u001b[0m\n\u001b[0m",
      "\u001b[0;32m~/.conda/envs/study/lib/python3.7/site-packages/pandas/core/groupby/groupby.py\u001b[0m in \u001b[0;36mquantile\u001b[0;34m(self, q, interpolation)\u001b[0m\n\u001b[1;32m   1906\u001b[0m             \u001b[0mpost_processing\u001b[0m\u001b[0;34m=\u001b[0m\u001b[0mpost_processor\u001b[0m\u001b[0;34m,\u001b[0m\u001b[0;34m\u001b[0m\u001b[0;34m\u001b[0m\u001b[0m\n\u001b[1;32m   1907\u001b[0m             \u001b[0mq\u001b[0m\u001b[0;34m=\u001b[0m\u001b[0mq\u001b[0m\u001b[0;34m,\u001b[0m\u001b[0;34m\u001b[0m\u001b[0;34m\u001b[0m\u001b[0m\n\u001b[0;32m-> 1908\u001b[0;31m             \u001b[0minterpolation\u001b[0m\u001b[0;34m=\u001b[0m\u001b[0minterpolation\u001b[0m\u001b[0;34m,\u001b[0m\u001b[0;34m\u001b[0m\u001b[0;34m\u001b[0m\u001b[0m\n\u001b[0m\u001b[1;32m   1909\u001b[0m         )\n\u001b[1;32m   1910\u001b[0m \u001b[0;34m\u001b[0m\u001b[0m\n",
      "\u001b[0;32m~/.conda/envs/study/lib/python3.7/site-packages/pandas/core/groupby/groupby.py\u001b[0m in \u001b[0;36m_get_cythonized_result\u001b[0;34m(self, how, grouper, aggregate, cython_dtype, needs_values, needs_mask, needs_ngroups, result_is_index, pre_processing, post_processing, **kwargs)\u001b[0m\n\u001b[1;32m   2236\u001b[0m                 \u001b[0mvals\u001b[0m \u001b[0;34m=\u001b[0m \u001b[0mobj\u001b[0m\u001b[0;34m.\u001b[0m\u001b[0mvalues\u001b[0m\u001b[0;34m\u001b[0m\u001b[0;34m\u001b[0m\u001b[0m\n\u001b[1;32m   2237\u001b[0m                 \u001b[0;32mif\u001b[0m \u001b[0mpre_processing\u001b[0m\u001b[0;34m:\u001b[0m\u001b[0;34m\u001b[0m\u001b[0;34m\u001b[0m\u001b[0m\n\u001b[0;32m-> 2238\u001b[0;31m                     \u001b[0mvals\u001b[0m\u001b[0;34m,\u001b[0m \u001b[0minferences\u001b[0m \u001b[0;34m=\u001b[0m \u001b[0mpre_processing\u001b[0m\u001b[0;34m(\u001b[0m\u001b[0mvals\u001b[0m\u001b[0;34m)\u001b[0m\u001b[0;34m\u001b[0m\u001b[0;34m\u001b[0m\u001b[0m\n\u001b[0m\u001b[1;32m   2239\u001b[0m                 \u001b[0mfunc\u001b[0m \u001b[0;34m=\u001b[0m \u001b[0mpartial\u001b[0m\u001b[0;34m(\u001b[0m\u001b[0mfunc\u001b[0m\u001b[0;34m,\u001b[0m \u001b[0mvals\u001b[0m\u001b[0;34m)\u001b[0m\u001b[0;34m\u001b[0m\u001b[0;34m\u001b[0m\u001b[0m\n\u001b[1;32m   2240\u001b[0m \u001b[0;34m\u001b[0m\u001b[0m\n",
      "\u001b[0;32m~/.conda/envs/study/lib/python3.7/site-packages/pandas/core/groupby/groupby.py\u001b[0m in \u001b[0;36mpre_processor\u001b[0;34m(vals)\u001b[0m\n\u001b[1;32m   1873\u001b[0m             \u001b[0;32mif\u001b[0m \u001b[0mis_object_dtype\u001b[0m\u001b[0;34m(\u001b[0m\u001b[0mvals\u001b[0m\u001b[0;34m)\u001b[0m\u001b[0;34m:\u001b[0m\u001b[0;34m\u001b[0m\u001b[0;34m\u001b[0m\u001b[0m\n\u001b[1;32m   1874\u001b[0m                 raise TypeError(\n\u001b[0;32m-> 1875\u001b[0;31m                     \u001b[0;34m\"'quantile' cannot be performed against \"\u001b[0m \u001b[0;34m\"'object' dtypes!\"\u001b[0m\u001b[0;34m\u001b[0m\u001b[0;34m\u001b[0m\u001b[0m\n\u001b[0m\u001b[1;32m   1876\u001b[0m                 )\n\u001b[1;32m   1877\u001b[0m \u001b[0;34m\u001b[0m\u001b[0m\n",
      "\u001b[0;31mTypeError\u001b[0m: 'quantile' cannot be performed against 'object' dtypes!"
     ]
    }
   ],
   "source": [
    "# split by values of key1 and compute quantile.\n",
    "df.groupby('key1').quantile(0.9)"
   ]
  },
  {
   "cell_type": "code",
   "execution_count": null,
   "metadata": {
    "ExecuteTime": {
     "end_time": "2019-08-04T21:17:51.529197Z",
     "start_time": "2019-08-04T21:17:51.272Z"
    }
   },
   "outputs": [],
   "source": [
    "# One can use any custom function.\n",
    "def peak_to_peak(arr):\n",
    "    return arr.max() - arr.min()\n",
    "\n",
    "df.groupby('key1').agg(peak_to_peak)"
   ]
  },
  {
   "cell_type": "code",
   "execution_count": null,
   "metadata": {
    "ExecuteTime": {
     "end_time": "2019-08-04T21:17:51.531108Z",
     "start_time": "2019-08-04T21:17:51.275Z"
    }
   },
   "outputs": [],
   "source": [
    "# Also functions like describe() work, although they are not\n",
    "# aggregations.\n",
    "\n",
    "df.groupby('key1')[\"data1\"].describe()"
   ]
  },
  {
   "cell_type": "code",
   "execution_count": null,
   "metadata": {
    "ExecuteTime": {
     "end_time": "2019-08-04T21:17:51.532560Z",
     "start_time": "2019-08-04T21:17:51.278Z"
    }
   },
   "outputs": [],
   "source": [
    "df.groupby('key1').describe()"
   ]
  },
  {
   "cell_type": "markdown",
   "metadata": {},
   "source": [
    "### Column-wise and multiple function application"
   ]
  },
  {
   "cell_type": "code",
   "execution_count": null,
   "metadata": {
    "ExecuteTime": {
     "end_time": "2019-08-04T21:17:51.534103Z",
     "start_time": "2019-08-04T21:17:51.280Z"
    }
   },
   "outputs": [],
   "source": [
    "tips = pd.read_csv('~/src/github/pydata-book/examples/tips.csv')\n",
    "\n",
    "tips['tip_pct'] = tips['tip'] / tips['total_bill']\n",
    "\n",
    "tips.head()"
   ]
  },
  {
   "cell_type": "code",
   "execution_count": null,
   "metadata": {
    "ExecuteTime": {
     "end_time": "2019-08-04T21:17:51.535629Z",
     "start_time": "2019-08-04T21:17:51.283Z"
    }
   },
   "outputs": [],
   "source": [
    "grouped = tips.groupby(['day', 'smoker'])\n",
    "\n",
    "# Select a column.\n",
    "grouped_pct = grouped['tip_pct']\n",
    "print(\"keys=\", list(grouped_pct.groups.keys()))\n",
    "\n",
    "# Equivalent.\n",
    "grouped_pct.agg('mean')\n",
    "grouped_pct.mean()"
   ]
  },
  {
   "cell_type": "code",
   "execution_count": null,
   "metadata": {
    "ExecuteTime": {
     "end_time": "2019-08-04T21:17:51.537143Z",
     "start_time": "2019-08-04T21:17:51.285Z"
    }
   },
   "outputs": [],
   "source": [
    "# Pass a list of aggregation functions.\n",
    "funcs = ['mean', 'std', peak_to_peak]\n",
    "grouped_pct.agg(funcs)"
   ]
  },
  {
   "cell_type": "code",
   "execution_count": null,
   "metadata": {
    "ExecuteTime": {
     "end_time": "2019-08-04T21:17:51.538825Z",
     "start_time": "2019-08-04T21:17:51.287Z"
    }
   },
   "outputs": [],
   "source": [
    "# Assign name to the functions.\n",
    "funcs = [\n",
    "    ('foo', 'mean'),\n",
    "    ('bar', np.std)\n",
    "]\n",
    "grouped_pct.agg(funcs)"
   ]
  },
  {
   "cell_type": "code",
   "execution_count": null,
   "metadata": {
    "ExecuteTime": {
     "end_time": "2019-08-04T21:17:51.541069Z",
     "start_time": "2019-08-04T21:17:51.292Z"
    }
   },
   "outputs": [],
   "source": [
    "funcs = ['count', 'mean', 'max']\n",
    "result = grouped['tip_pct', 'total_bill'].agg(funcs)\n",
    "\n",
    "# It has hierarchical columns for both rows and columns.\n",
    "result"
   ]
  },
  {
   "cell_type": "code",
   "execution_count": null,
   "metadata": {
    "ExecuteTime": {
     "end_time": "2019-08-04T21:17:51.542656Z",
     "start_time": "2019-08-04T21:17:51.295Z"
    }
   },
   "outputs": [],
   "source": [
    "# Aggregation functions can also be specified by dict.\n",
    "funcs = {'tip': np.max, 'size': 'sum'}\n",
    "grouped.agg(funcs)"
   ]
  },
  {
   "cell_type": "code",
   "execution_count": null,
   "metadata": {
    "ExecuteTime": {
     "end_time": "2019-08-04T21:17:51.544435Z",
     "start_time": "2019-08-04T21:17:51.297Z"
    }
   },
   "outputs": [],
   "source": [
    "funcs = {'tip_pct': ['min', 'max', 'mean', 'std'], 'size': 'sum'}\n",
    "grouped.agg(funcs)"
   ]
  },
  {
   "cell_type": "markdown",
   "metadata": {},
   "source": [
    "### Returning aggregated data without row indexes"
   ]
  },
  {
   "cell_type": "code",
   "execution_count": null,
   "metadata": {
    "ExecuteTime": {
     "end_time": "2019-08-04T21:17:51.546113Z",
     "start_time": "2019-08-04T21:17:51.300Z"
    }
   },
   "outputs": [],
   "source": [
    "tips.groupby(['day', 'smoker'], as_index=True).mean()"
   ]
  },
  {
   "cell_type": "code",
   "execution_count": null,
   "metadata": {
    "ExecuteTime": {
     "end_time": "2019-08-04T21:17:51.547781Z",
     "start_time": "2019-08-04T21:17:51.302Z"
    }
   },
   "outputs": [],
   "source": [
    "# Returning a hierarchical index can be disabled.\n",
    "tips.groupby(['day', 'smoker'], as_index=False).mean()"
   ]
  },
  {
   "cell_type": "code",
   "execution_count": null,
   "metadata": {
    "ExecuteTime": {
     "end_time": "2019-08-04T21:17:51.549328Z",
     "start_time": "2019-08-04T21:17:51.304Z"
    }
   },
   "outputs": [],
   "source": [
    "# This is equivalent to call reset_index().\n",
    "\n",
    "tips.groupby(['day', 'smoker'], as_index=True).mean().reset_index()"
   ]
  },
  {
   "cell_type": "markdown",
   "metadata": {},
   "source": [
    "## Apply: General split-apply-combine"
   ]
  },
  {
   "cell_type": "code",
   "execution_count": null,
   "metadata": {
    "ExecuteTime": {
     "end_time": "2019-08-04T21:17:51.550837Z",
     "start_time": "2019-08-04T21:17:51.307Z"
    }
   },
   "outputs": [],
   "source": [
    "# You want to select the top five tip_pct values by group.\n",
    "\n",
    "def top(df, n=2, column='tip_pct'):\n",
    "    return df.sort_values(by=column)[-n:]\n",
    "\n",
    "top(tips, n=6)"
   ]
  },
  {
   "cell_type": "code",
   "execution_count": null,
   "metadata": {
    "ExecuteTime": {
     "end_time": "2019-08-04T21:17:51.552580Z",
     "start_time": "2019-08-04T21:17:51.311Z"
    }
   },
   "outputs": [],
   "source": [
    "# top() is called on each row group and then results\n",
    "# are concat with pandas.concat, using labels from group name.\n",
    "tips.groupby('smoker').apply(top)"
   ]
  },
  {
   "cell_type": "code",
   "execution_count": null,
   "metadata": {
    "ExecuteTime": {
     "end_time": "2019-08-04T21:17:51.553966Z",
     "start_time": "2019-08-04T21:17:51.314Z"
    }
   },
   "outputs": [],
   "source": [
    "# You can pass params to the function using **kwargs.\n",
    "tips.groupby('smoker').apply(top, n=1, column='total_bill')"
   ]
  },
  {
   "cell_type": "code",
   "execution_count": null,
   "metadata": {
    "ExecuteTime": {
     "end_time": "2019-08-04T21:17:51.555628Z",
     "start_time": "2019-08-04T21:17:51.316Z"
    }
   },
   "outputs": [],
   "source": [
    "# This operation is what describe() does.\n",
    "display(tips.groupby('smoker')[\"tip_pct\"].describe())\n",
    "\n",
    "df2 = tips.groupby('smoker')[\"tip_pct\"].apply(lambda x: x.describe())\n",
    "display(df2)\n",
    "    "
   ]
  },
  {
   "cell_type": "markdown",
   "metadata": {},
   "source": [
    "### Suppressing the group keys"
   ]
  },
  {
   "cell_type": "code",
   "execution_count": null,
   "metadata": {
    "ExecuteTime": {
     "end_time": "2019-08-04T21:17:51.556992Z",
     "start_time": "2019-08-04T21:17:51.319Z"
    }
   },
   "outputs": [],
   "source": [
    "# Disable the hierarchial indexing.\n",
    "\n",
    "df = tips.groupby('smoker', group_keys=True).apply(top)\n",
    "display(df)\n",
    "\n",
    "df = tips.groupby('smoker', group_keys=False).apply(top)\n",
    "display(df)"
   ]
  },
  {
   "cell_type": "markdown",
   "metadata": {},
   "source": [
    "### Quantile and bucket analysis"
   ]
  },
  {
   "cell_type": "code",
   "execution_count": null,
   "metadata": {
    "ExecuteTime": {
     "end_time": "2019-08-04T21:17:51.558166Z",
     "start_time": "2019-08-04T21:17:51.321Z"
    }
   },
   "outputs": [],
   "source": [
    "df = pd.DataFrame({\n",
    "    \"data1\": np.random.randn(100),\n",
    "    \"data2\": np.random.randn(100)\n",
    "})\n",
    "\n",
    "display(df.head())"
   ]
  },
  {
   "cell_type": "code",
   "execution_count": null,
   "metadata": {
    "ExecuteTime": {
     "end_time": "2019-08-04T21:17:51.559712Z",
     "start_time": "2019-08-04T21:17:51.324Z"
    }
   },
   "outputs": [],
   "source": [
    "quartiles = pd.cut(df.data1, 4)\n",
    "\n",
    "print(type(quartiles))\n",
    "\n",
    "quartiles[:4]"
   ]
  },
  {
   "cell_type": "code",
   "execution_count": null,
   "metadata": {
    "ExecuteTime": {
     "end_time": "2019-08-04T21:17:51.561137Z",
     "start_time": "2019-08-04T21:17:51.326Z"
    }
   },
   "outputs": [],
   "source": [
    "# We can use the series above to groupby.\n",
    "\n",
    "# We can filter by data2 since we already know the mapping.\n",
    "grouped = df[\"data2\"].groupby(quartiles)\n",
    "\n",
    "for k, v in grouped:\n",
    "    print(k)\n",
    "    print(v.head(2))"
   ]
  },
  {
   "cell_type": "code",
   "execution_count": null,
   "metadata": {
    "ExecuteTime": {
     "end_time": "2019-08-04T21:17:51.562891Z",
     "start_time": "2019-08-04T21:17:51.328Z"
    }
   },
   "outputs": [],
   "source": [
    "def get_stats(group):\n",
    "    #print group\n",
    "    #assert 0\n",
    "    return pd.Series({\n",
    "        'min': group.min(),\n",
    "        'max': group.max(),\n",
    "        'count': group.count(),\n",
    "        'mean': group.mean()\n",
    "    })\n",
    "\n",
    "df2 = grouped.apply(get_stats)\n",
    "\n",
    "display(df2)\n",
    "\n",
    "# Move one level of index to columns.\n",
    "df2.unstack()"
   ]
  },
  {
   "cell_type": "code",
   "execution_count": null,
   "metadata": {
    "ExecuteTime": {
     "end_time": "2019-08-04T21:17:51.564938Z",
     "start_time": "2019-08-04T21:17:51.330Z"
    }
   },
   "outputs": [],
   "source": [
    "pd.qcut(df.data1, 4).head()"
   ]
  },
  {
   "cell_type": "code",
   "execution_count": null,
   "metadata": {
    "ExecuteTime": {
     "end_time": "2019-08-04T21:17:51.566783Z",
     "start_time": "2019-08-04T21:17:51.332Z"
    }
   },
   "outputs": [],
   "source": [
    "pd.cut(df.data1, 4).head()"
   ]
  },
  {
   "cell_type": "markdown",
   "metadata": {},
   "source": [
    "### Example: filling missing values with group-specific values"
   ]
  },
  {
   "cell_type": "code",
   "execution_count": null,
   "metadata": {
    "ExecuteTime": {
     "end_time": "2019-08-04T21:17:51.568294Z",
     "start_time": "2019-08-04T21:17:51.335Z"
    }
   },
   "outputs": [],
   "source": [
    "s = pd.Series(np.random.randn(6))\n",
    "s[::2] = np.nan\n",
    "\n",
    "s"
   ]
  },
  {
   "cell_type": "code",
   "execution_count": null,
   "metadata": {
    "ExecuteTime": {
     "end_time": "2019-08-04T21:17:51.569911Z",
     "start_time": "2019-08-04T21:17:51.338Z"
    }
   },
   "outputs": [],
   "source": [
    "s.fillna(s.mean())"
   ]
  },
  {
   "cell_type": "code",
   "execution_count": null,
   "metadata": {
    "ExecuteTime": {
     "end_time": "2019-08-04T21:17:51.571232Z",
     "start_time": "2019-08-04T21:17:51.341Z"
    }
   },
   "outputs": [],
   "source": [
    "# One can fill nans based on the group.\n",
    "\n",
    "states = [\n",
    "    'Ohio', 'New York', 'Vermont', 'Florida', 'Oregon', 'Nevada', 'California',\n",
    "    'Idaho'\n",
    "]\n",
    "group_key = ['East'] * 4 + ['West'] * 4\n",
    "data = pd.Series(np.random.randn(8), index=states)\n",
    "\n",
    "data"
   ]
  },
  {
   "cell_type": "code",
   "execution_count": null,
   "metadata": {
    "ExecuteTime": {
     "end_time": "2019-08-04T21:17:51.572501Z",
     "start_time": "2019-08-04T21:17:51.343Z"
    }
   },
   "outputs": [],
   "source": [
    "data[['Vermont', \"Nevada\", \"Idaho\"]] = np.nan\n",
    "\n",
    "data"
   ]
  },
  {
   "cell_type": "code",
   "execution_count": null,
   "metadata": {
    "ExecuteTime": {
     "end_time": "2019-08-04T21:17:51.573666Z",
     "start_time": "2019-08-04T21:17:51.346Z"
    }
   },
   "outputs": [],
   "source": [
    "data.groupby(group_key).mean()"
   ]
  },
  {
   "cell_type": "code",
   "execution_count": null,
   "metadata": {
    "ExecuteTime": {
     "end_time": "2019-08-04T21:17:51.575146Z",
     "start_time": "2019-08-04T21:17:51.348Z"
    }
   },
   "outputs": [],
   "source": [
    "fill_mean = lambda g: g.fillna(g.mean())\n",
    "\n",
    "data.groupby(group_key).apply(fill_mean)"
   ]
  },
  {
   "cell_type": "markdown",
   "metadata": {},
   "source": [
    "### Example: random sampling and permutation"
   ]
  },
  {
   "cell_type": "code",
   "execution_count": null,
   "metadata": {
    "ExecuteTime": {
     "end_time": "2019-08-04T21:17:51.576661Z",
     "start_time": "2019-08-04T21:17:51.351Z"
    }
   },
   "outputs": [],
   "source": [
    "# Hearts\n",
    "# Spades\n",
    "# Clubs\n",
    "# Diamonds\n",
    "suits = list(\"HSCD\")\n",
    "# Values.\n",
    "card_val = list(list(range(1, 10 + 1)) + [10] * 3)\n",
    "base_names = ['A'] + list(range(2, 10 + 1)) + list(\"JQK\")\n",
    "assert len(card_val) == len(base_names)\n",
    "\n",
    "cards = []\n",
    "for suit in suits:\n",
    "    cards.extend(str(num) + suit for num in base_names)\n",
    "    \n",
    "deck = pd.Series(card_val * 4, index=cards)\n",
    "assert len(deck) == 52\n",
    "deck.head()"
   ]
  },
  {
   "cell_type": "code",
   "execution_count": null,
   "metadata": {
    "ExecuteTime": {
     "end_time": "2019-08-04T21:17:51.577921Z",
     "start_time": "2019-08-04T21:17:51.354Z"
    }
   },
   "outputs": [],
   "source": [
    "# Draw two cards without replacement.\n",
    "\n",
    "def draw(deck, n=5):\n",
    "    return deck.sample(n)\n",
    "\n",
    "\n",
    "draw(deck)"
   ]
  },
  {
   "cell_type": "code",
   "execution_count": null,
   "metadata": {
    "ExecuteTime": {
     "end_time": "2019-08-04T21:17:51.579321Z",
     "start_time": "2019-08-04T21:17:51.356Z"
    }
   },
   "outputs": [],
   "source": [
    "# Last letter is suit.\n",
    "get_suit = lambda card: card[-1]"
   ]
  },
  {
   "cell_type": "code",
   "execution_count": null,
   "metadata": {
    "ExecuteTime": {
     "end_time": "2019-08-04T21:17:51.580709Z",
     "start_time": "2019-08-04T21:17:51.359Z"
    }
   },
   "outputs": [],
   "source": [
    "# Draw 2 cards per suit.\n",
    "# Group by suit, and then get 2 cards from each group.\n",
    "deck.groupby(get_suit, group_keys=False).apply(draw, n=2)"
   ]
  },
  {
   "cell_type": "markdown",
   "metadata": {},
   "source": [
    "### Example: group weighted average and correlation"
   ]
  },
  {
   "cell_type": "code",
   "execution_count": null,
   "metadata": {
    "ExecuteTime": {
     "end_time": "2019-08-04T21:17:51.582039Z",
     "start_time": "2019-08-04T21:17:51.361Z"
    }
   },
   "outputs": [],
   "source": [
    "df = pd.DataFrame({\n",
    "    'category': ['a', 'a', 'a', 'a', 'b', 'b', 'b', 'b'],\n",
    "    'data': np.random.randn(8),\n",
    "    'weights': np.random.rand(8)\n",
    "})\n",
    "\n",
    "df"
   ]
  },
  {
   "cell_type": "code",
   "execution_count": null,
   "metadata": {
    "ExecuteTime": {
     "end_time": "2019-08-04T21:17:51.583435Z",
     "start_time": "2019-08-04T21:17:51.363Z"
    }
   },
   "outputs": [],
   "source": [
    "grouped = df.groupby('category')\n",
    "\n",
    "# Aggregation function: dot product between data and weights.\n",
    "get_wavg = lambda g: np.average(g['data'], weights=g['weights'])\n",
    "\n",
    "grouped.apply(get_wavg)"
   ]
  },
  {
   "cell_type": "code",
   "execution_count": null,
   "metadata": {
    "ExecuteTime": {
     "end_time": "2019-08-04T21:17:51.584804Z",
     "start_time": "2019-08-04T21:17:51.366Z"
    }
   },
   "outputs": [],
   "source": [
    "close_px = pd.read_csv(\n",
    "    '~/src/github/pydata-book/examples/stock_px_2.csv',\n",
    "    parse_dates=True,\n",
    "    index_col=0)\n",
    "\n",
    "close_px.head()"
   ]
  },
  {
   "cell_type": "code",
   "execution_count": null,
   "metadata": {
    "ExecuteTime": {
     "end_time": "2019-08-04T21:17:51.586165Z",
     "start_time": "2019-08-04T21:17:51.368Z"
    }
   },
   "outputs": [],
   "source": [
    "close_px.info()"
   ]
  },
  {
   "cell_type": "code",
   "execution_count": null,
   "metadata": {
    "ExecuteTime": {
     "end_time": "2019-08-04T21:17:51.587574Z",
     "start_time": "2019-08-04T21:17:51.371Z"
    }
   },
   "outputs": [],
   "source": [
    "close_px.describe()"
   ]
  },
  {
   "cell_type": "code",
   "execution_count": null,
   "metadata": {
    "ExecuteTime": {
     "end_time": "2019-08-04T21:17:51.589016Z",
     "start_time": "2019-08-04T21:17:51.373Z"
    }
   },
   "outputs": [],
   "source": [
    "# Compute rets.\n",
    "\n",
    "rets = close_px.pct_change().dropna()\n",
    "\n",
    "rets.head()"
   ]
  },
  {
   "cell_type": "code",
   "execution_count": null,
   "metadata": {
    "ExecuteTime": {
     "end_time": "2019-08-04T21:17:51.590326Z",
     "start_time": "2019-08-04T21:17:51.375Z"
    }
   },
   "outputs": [],
   "source": [
    "# For each stock compute the correlation with SPX.\n",
    "spx_corr = lambda x: x.corrwith(x['SPX'])\n",
    "\n",
    "# Groupby year.\n",
    "get_year = lambda x: x.year\n",
    "\n",
    "# For each year, compute the correlation of each stock to SPX.\n",
    "by_year = rets.groupby(get_year)\n",
    "by_year.apply(spx_corr)"
   ]
  },
  {
   "cell_type": "code",
   "execution_count": null,
   "metadata": {
    "ExecuteTime": {
     "end_time": "2019-08-04T21:17:51.591591Z",
     "start_time": "2019-08-04T21:17:51.377Z"
    }
   },
   "outputs": [],
   "source": [
    "# For each year, compute the correlation of AAPL and MSFT.\n",
    "by_year.apply(lambda x: x['AAPL'].corr(x['MSFT']))"
   ]
  },
  {
   "cell_type": "markdown",
   "metadata": {},
   "source": [
    "### Example: group-wise linear regression\n",
    "\n",
    "- You can use groupby to perform more complex analysis, as long\n",
    "  as function returns a pandas object (Series or DataFrame) or\n",
    "  scalar value"
   ]
  },
  {
   "cell_type": "code",
   "execution_count": null,
   "metadata": {
    "ExecuteTime": {
     "end_time": "2019-08-04T21:17:51.592686Z",
     "start_time": "2019-08-04T21:17:51.379Z"
    }
   },
   "outputs": [],
   "source": [
    "import statsmodels.api as sm\n",
    "\n",
    "def regress(data, yvar, xvars):\n",
    "    Y = data[yvar]\n",
    "    X = data[xvars]\n",
    "    X['intercept'] = 1.0\n",
    "    result = sm.OLS(Y, X).fit()\n",
    "    return result.params\n",
    "\n",
    "by_year.apply(regress, 'AAPL', ['SPX'])"
   ]
  },
  {
   "cell_type": "markdown",
   "metadata": {},
   "source": [
    "## Pivot tables and cross-tabulation\n",
    "\n",
    "- A pivot table aggregates a table of data by one or more keys\n",
    "  arranging results for rows and columns"
   ]
  },
  {
   "cell_type": "code",
   "execution_count": null,
   "metadata": {
    "ExecuteTime": {
     "end_time": "2019-08-04T21:17:51.594079Z",
     "start_time": "2019-08-04T21:17:51.382Z"
    }
   },
   "outputs": [],
   "source": [
    "tips.head()"
   ]
  },
  {
   "cell_type": "code",
   "execution_count": null,
   "metadata": {
    "ExecuteTime": {
     "end_time": "2019-08-04T21:17:51.595469Z",
     "start_time": "2019-08-04T21:17:51.384Z"
    }
   },
   "outputs": [],
   "source": [
    "# Aggregate through mean by two indices.\n",
    "tips.pivot_table(index=['day', 'smoker'])"
   ]
  },
  {
   "cell_type": "code",
   "execution_count": null,
   "metadata": {
    "ExecuteTime": {
     "end_time": "2019-08-04T21:17:51.596668Z",
     "start_time": "2019-08-04T21:17:51.386Z"
    }
   },
   "outputs": [],
   "source": [
    "#?tips.pivot_table"
   ]
  },
  {
   "cell_type": "code",
   "execution_count": null,
   "metadata": {
    "ExecuteTime": {
     "end_time": "2019-08-04T21:17:51.598152Z",
     "start_time": "2019-08-04T21:17:51.388Z"
    }
   },
   "outputs": [],
   "source": [
    "# Compute two metrics by\n",
    "# - 3 vars: 2 on the index and 1 on the columns\n",
    "tips.pivot_table(['tip_pct', 'size'],\n",
    "                 index=['time', 'day'],\n",
    "                 columns='smoker')"
   ]
  },
  {
   "cell_type": "code",
   "execution_count": null,
   "metadata": {
    "ExecuteTime": {
     "end_time": "2019-08-04T21:17:51.599372Z",
     "start_time": "2019-08-04T21:17:51.391Z"
    }
   },
   "outputs": [],
   "source": [
    "# We can also add summation over each var, so that\n",
    "# there are values for 2 variables.\n",
    "tips.pivot_table(['tip_pct', 'size'],\n",
    "                 index=['time', 'day'],\n",
    "                 columns='smoker',\n",
    "                 margins=True)"
   ]
  },
  {
   "cell_type": "code",
   "execution_count": null,
   "metadata": {
    "ExecuteTime": {
     "end_time": "2019-08-04T21:17:51.600594Z",
     "start_time": "2019-08-04T21:17:51.393Z"
    }
   },
   "outputs": [],
   "source": [
    "# You can specify the aggregation function by passing aggfunc.\n",
    "tips.pivot_table('tip_pct',\n",
    "                 index=['time', 'smoker'],\n",
    "                 columns='day',\n",
    "                 aggfunc=len, margins=True)"
   ]
  },
  {
   "cell_type": "markdown",
   "metadata": {},
   "source": [
    "### Crosstab\n",
    "\n",
    "- Special case of pivot table that computes group frequencies"
   ]
  },
  {
   "cell_type": "code",
   "execution_count": null,
   "metadata": {
    "ExecuteTime": {
     "end_time": "2019-08-04T21:17:51.601717Z",
     "start_time": "2019-08-04T21:17:51.396Z"
    }
   },
   "outputs": [],
   "source": [
    "pd.crosstab([tips.time, tips.day], tips.smoker, margins=True)q"
   ]
  }
 ],
 "metadata": {
  "kernelspec": {
   "display_name": "Python 3",
   "language": "python",
   "name": "python3"
  },
  "language_info": {
   "codemirror_mode": {
    "name": "ipython",
    "version": 3
   },
   "file_extension": ".py",
   "mimetype": "text/x-python",
   "name": "python",
   "nbconvert_exporter": "python",
   "pygments_lexer": "ipython3",
   "version": "3.7.3"
  },
  "toc": {
   "base_numbering": 1,
   "nav_menu": {},
   "number_sections": true,
   "sideBar": true,
   "skip_h1_title": false,
   "title_cell": "Table of Contents",
   "title_sidebar": "Contents",
   "toc_cell": true,
   "toc_position": {},
   "toc_section_display": "block",
   "toc_window_display": true
  }
 },
 "nbformat": 4,
 "nbformat_minor": 2
}
