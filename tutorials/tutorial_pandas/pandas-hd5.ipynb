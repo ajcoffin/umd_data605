{
 "cells": [
  {
   "cell_type": "markdown",
   "metadata": {
    "toc": "true"
   },
   "source": [
    "# Table of Contents\n",
    " <p><div class=\"lev2 toc-item\"><a href=\"#Imports\" data-toc-modified-id=\"Imports-01\"><span class=\"toc-item-num\">0.1&nbsp;&nbsp;</span>Imports</a></div><div class=\"lev1 toc-item\"><a href=\"#Misc\" data-toc-modified-id=\"Misc-1\"><span class=\"toc-item-num\">1&nbsp;&nbsp;</span>Misc</a></div><div class=\"lev2 toc-item\"><a href=\"#Multiply-df-by-series\" data-toc-modified-id=\"Multiply-df-by-series-11\"><span class=\"toc-item-num\">1.1&nbsp;&nbsp;</span>Multiply df by series</a></div><div class=\"lev2 toc-item\"><a href=\"#Index-minute-and-hour\" data-toc-modified-id=\"Index-minute-and-hour-12\"><span class=\"toc-item-num\">1.2&nbsp;&nbsp;</span>Index minute and hour</a></div><div class=\"lev3 toc-item\"><a href=\"#Merging-a-column-to-all-dfs-into-a-panel\" data-toc-modified-id=\"Merging-a-column-to-all-dfs-into-a-panel-121\"><span class=\"toc-item-num\">1.2.1&nbsp;&nbsp;</span>Merging a column to all dfs into a panel</a></div><div class=\"lev1 toc-item\"><a href=\"#hdf5-format\" data-toc-modified-id=\"hdf5-format-2\"><span class=\"toc-item-num\">2&nbsp;&nbsp;</span>hdf5 format</a></div><div class=\"lev2 toc-item\"><a href=\"#Write-/-read-h5-objects\" data-toc-modified-id=\"Write-/-read-h5-objects-21\"><span class=\"toc-item-num\">2.1&nbsp;&nbsp;</span>Write / read h5 objects</a></div><div class=\"lev2 toc-item\"><a href=\"#Read-/-write-objects\" data-toc-modified-id=\"Read-/-write-objects-22\"><span class=\"toc-item-num\">2.2&nbsp;&nbsp;</span>Read / write objects</a></div><div class=\"lev2 toc-item\"><a href=\"#Fixed-vs-table-format.\" data-toc-modified-id=\"Fixed-vs-table-format.-23\"><span class=\"toc-item-num\">2.3&nbsp;&nbsp;</span>Fixed vs table format.</a></div><div class=\"lev3 toc-item\"><a href=\"#Fixed-format.\" data-toc-modified-id=\"Fixed-format.-231\"><span class=\"toc-item-num\">2.3.1&nbsp;&nbsp;</span>Fixed format.</a></div><div class=\"lev3 toc-item\"><a href=\"#Table-format\" data-toc-modified-id=\"Table-format-232\"><span class=\"toc-item-num\">2.3.2&nbsp;&nbsp;</span>Table format</a></div><div class=\"lev2 toc-item\"><a href=\"#Table-format\" data-toc-modified-id=\"Table-format-24\"><span class=\"toc-item-num\">2.4&nbsp;&nbsp;</span>Table format</a></div><div class=\"lev3 toc-item\"><a href=\"#Hierarchical-keys\" data-toc-modified-id=\"Hierarchical-keys-241\"><span class=\"toc-item-num\">2.4.1&nbsp;&nbsp;</span>Hierarchical keys</a></div><div class=\"lev3 toc-item\"><a href=\"#Querying\" data-toc-modified-id=\"Querying-242\"><span class=\"toc-item-num\">2.4.2&nbsp;&nbsp;</span>Querying</a></div>"
   ]
  },
  {
   "cell_type": "markdown",
   "metadata": {},
   "source": [
    "## Imports"
   ]
  },
  {
   "cell_type": "code",
   "execution_count": 13,
   "metadata": {
    "run_control": {
     "marked": false
    }
   },
   "outputs": [
    {
     "name": "stdout",
     "output_type": "stream",
     "text": [
      "\n"
     ]
    }
   ],
   "source": [
    "import functools\n",
    "import datetime\n",
    "\n",
    "import numpy as np\n",
    "import matplotlib\n",
    "import matplotlib.pyplot as plt\n",
    "import pandas as pd\n",
    "\n",
    "%matplotlib inline"
   ]
  },
  {
   "cell_type": "code",
   "execution_count": 16,
   "metadata": {},
   "outputs": [
    {
     "name": "stdout",
     "output_type": "stream",
     "text": [
      "numpy= 1.12.1\n",
      "pandas= 0.19.2\n",
      "matplotlib= 2.0.2\n"
     ]
    }
   ],
   "source": [
    "import notebook_utils\n",
    "\n",
    "notebook_utils.notebook_config()\n",
    "\n",
    "from notebook_utils import display_df, delete_file_name"
   ]
  },
  {
   "cell_type": "markdown",
   "metadata": {},
   "source": [
    "# Misc"
   ]
  },
  {
   "cell_type": "markdown",
   "metadata": {},
   "source": [
    "## Multiply df by series"
   ]
  },
  {
   "cell_type": "code",
   "execution_count": 17,
   "metadata": {},
   "outputs": [
    {
     "data": {
      "text/html": [
       "<div>\n",
       "<table border=\"1\" class=\"dataframe\">\n",
       "  <thead>\n",
       "    <tr style=\"text-align: right;\">\n",
       "      <th></th>\n",
       "      <th>a</th>\n",
       "      <th>b</th>\n",
       "    </tr>\n",
       "  </thead>\n",
       "  <tbody>\n",
       "    <tr>\n",
       "      <th>2010-01-01</th>\n",
       "      <td>0.374540</td>\n",
       "      <td>0.950714</td>\n",
       "    </tr>\n",
       "    <tr>\n",
       "      <th>2010-01-02</th>\n",
       "      <td>0.731994</td>\n",
       "      <td>0.598658</td>\n",
       "    </tr>\n",
       "    <tr>\n",
       "      <th>2010-01-03</th>\n",
       "      <td>0.156019</td>\n",
       "      <td>0.155995</td>\n",
       "    </tr>\n",
       "    <tr>\n",
       "      <th>2010-01-04</th>\n",
       "      <td>0.058084</td>\n",
       "      <td>0.866176</td>\n",
       "    </tr>\n",
       "    <tr>\n",
       "      <th>2010-01-05</th>\n",
       "      <td>0.601115</td>\n",
       "      <td>0.708073</td>\n",
       "    </tr>\n",
       "    <tr>\n",
       "      <th>2010-01-06</th>\n",
       "      <td>0.020584</td>\n",
       "      <td>0.969910</td>\n",
       "    </tr>\n",
       "    <tr>\n",
       "      <th>2010-01-07</th>\n",
       "      <td>0.832443</td>\n",
       "      <td>0.212339</td>\n",
       "    </tr>\n",
       "    <tr>\n",
       "      <th>2010-01-08</th>\n",
       "      <td>0.181825</td>\n",
       "      <td>0.183405</td>\n",
       "    </tr>\n",
       "    <tr>\n",
       "      <th>2010-01-09</th>\n",
       "      <td>0.304242</td>\n",
       "      <td>0.524756</td>\n",
       "    </tr>\n",
       "    <tr>\n",
       "      <th>2010-01-10</th>\n",
       "      <td>0.431945</td>\n",
       "      <td>0.291229</td>\n",
       "    </tr>\n",
       "  </tbody>\n",
       "</table>\n",
       "</div>"
      ],
      "text/plain": [
       "                   a         b\n",
       "2010-01-01  0.374540  0.950714\n",
       "2010-01-02  0.731994  0.598658\n",
       "2010-01-03  0.156019  0.155995\n",
       "2010-01-04  0.058084  0.866176\n",
       "2010-01-05  0.601115  0.708073\n",
       "2010-01-06  0.020584  0.969910\n",
       "2010-01-07  0.832443  0.212339\n",
       "2010-01-08  0.181825  0.183405\n",
       "2010-01-09  0.304242  0.524756\n",
       "2010-01-10  0.431945  0.291229"
      ]
     },
     "metadata": {},
     "output_type": "display_data"
    },
    {
     "data": {
      "text/plain": [
       "2010-01-01    0.611853\n",
       "2010-01-02    0.139494\n",
       "2010-01-03    0.292145\n",
       "2010-01-04    0.366362\n",
       "2010-01-05    0.456070\n",
       "2010-01-06    0.785176\n",
       "2010-01-07    0.199674\n",
       "2010-01-08    0.514234\n",
       "2010-01-09    0.592415\n",
       "2010-01-10    0.046450\n",
       "Freq: D, dtype: float64"
      ]
     },
     "metadata": {},
     "output_type": "display_data"
    }
   ],
   "source": [
    "index = pd.date_range('2010-01-01', '2010-01-10')\n",
    "\n",
    "np.random.seed(42)\n",
    "\n",
    "df = pd.DataFrame(np.random.rand(len(index), 2), index=index, columns=[\"a\", \"b\"])\n",
    "srs = pd.Series(np.random.rand(len(index)), index=index)\n",
    "\n",
    "display_df(df)\n",
    "display_df(srs)"
   ]
  },
  {
   "cell_type": "code",
   "execution_count": 18,
   "metadata": {},
   "outputs": [
    {
     "data": {
      "text/html": [
       "<div>\n",
       "<table border=\"1\" class=\"dataframe\">\n",
       "  <thead>\n",
       "    <tr style=\"text-align: right;\">\n",
       "      <th></th>\n",
       "      <th>a</th>\n",
       "      <th>b</th>\n",
       "    </tr>\n",
       "  </thead>\n",
       "  <tbody>\n",
       "    <tr>\n",
       "      <th>2010-01-01</th>\n",
       "      <td>0.229163</td>\n",
       "      <td>0.581697</td>\n",
       "    </tr>\n",
       "    <tr>\n",
       "      <th>2010-01-02</th>\n",
       "      <td>0.102109</td>\n",
       "      <td>0.083509</td>\n",
       "    </tr>\n",
       "    <tr>\n",
       "      <th>2010-01-03</th>\n",
       "      <td>0.045580</td>\n",
       "      <td>0.045573</td>\n",
       "    </tr>\n",
       "    <tr>\n",
       "      <th>2010-01-04</th>\n",
       "      <td>0.021280</td>\n",
       "      <td>0.317334</td>\n",
       "    </tr>\n",
       "    <tr>\n",
       "      <th>2010-01-05</th>\n",
       "      <td>0.274151</td>\n",
       "      <td>0.322931</td>\n",
       "    </tr>\n",
       "    <tr>\n",
       "      <th>2010-01-06</th>\n",
       "      <td>0.016162</td>\n",
       "      <td>0.761550</td>\n",
       "    </tr>\n",
       "    <tr>\n",
       "      <th>2010-01-07</th>\n",
       "      <td>0.166217</td>\n",
       "      <td>0.042399</td>\n",
       "    </tr>\n",
       "    <tr>\n",
       "      <th>2010-01-08</th>\n",
       "      <td>0.093501</td>\n",
       "      <td>0.094313</td>\n",
       "    </tr>\n",
       "    <tr>\n",
       "      <th>2010-01-09</th>\n",
       "      <td>0.180238</td>\n",
       "      <td>0.310873</td>\n",
       "    </tr>\n",
       "    <tr>\n",
       "      <th>2010-01-10</th>\n",
       "      <td>0.020064</td>\n",
       "      <td>0.013528</td>\n",
       "    </tr>\n",
       "  </tbody>\n",
       "</table>\n",
       "</div>"
      ],
      "text/plain": [
       "                   a         b\n",
       "2010-01-01  0.229163  0.581697\n",
       "2010-01-02  0.102109  0.083509\n",
       "2010-01-03  0.045580  0.045573\n",
       "2010-01-04  0.021280  0.317334\n",
       "2010-01-05  0.274151  0.322931\n",
       "2010-01-06  0.016162  0.761550\n",
       "2010-01-07  0.166217  0.042399\n",
       "2010-01-08  0.093501  0.094313\n",
       "2010-01-09  0.180238  0.310873\n",
       "2010-01-10  0.020064  0.013528"
      ]
     },
     "execution_count": 18,
     "metadata": {},
     "output_type": "execute_result"
    }
   ],
   "source": [
    "df.multiply(srs, axis=0)"
   ]
  },
  {
   "cell_type": "markdown",
   "metadata": {},
   "source": [
    "## Index minute and hour"
   ]
  },
  {
   "cell_type": "code",
   "execution_count": 27,
   "metadata": {},
   "outputs": [
    {
     "data": {
      "text/html": [
       "<div>\n",
       "<table border=\"1\" class=\"dataframe\">\n",
       "  <thead>\n",
       "    <tr style=\"text-align: right;\">\n",
       "      <th></th>\n",
       "      <th>a</th>\n",
       "      <th>b</th>\n",
       "    </tr>\n",
       "  </thead>\n",
       "  <tbody>\n",
       "    <tr>\n",
       "      <th>2010-01-01 00:00:00</th>\n",
       "      <td>0.374540</td>\n",
       "      <td>0.950714</td>\n",
       "    </tr>\n",
       "    <tr>\n",
       "      <th>2010-01-01 02:00:00</th>\n",
       "      <td>0.731994</td>\n",
       "      <td>0.598658</td>\n",
       "    </tr>\n",
       "    <tr>\n",
       "      <th>2010-01-01 04:00:00</th>\n",
       "      <td>0.156019</td>\n",
       "      <td>0.155995</td>\n",
       "    </tr>\n",
       "    <tr>\n",
       "      <th>2010-01-01 06:00:00</th>\n",
       "      <td>0.058084</td>\n",
       "      <td>0.866176</td>\n",
       "    </tr>\n",
       "    <tr>\n",
       "      <th>2010-01-01 08:00:00</th>\n",
       "      <td>0.601115</td>\n",
       "      <td>0.708073</td>\n",
       "    </tr>\n",
       "    <tr>\n",
       "      <th>2010-01-01 10:00:00</th>\n",
       "      <td>0.020584</td>\n",
       "      <td>0.969910</td>\n",
       "    </tr>\n",
       "    <tr>\n",
       "      <th>2010-01-01 12:00:00</th>\n",
       "      <td>0.832443</td>\n",
       "      <td>0.212339</td>\n",
       "    </tr>\n",
       "    <tr>\n",
       "      <th>2010-01-01 14:00:00</th>\n",
       "      <td>0.181825</td>\n",
       "      <td>0.183405</td>\n",
       "    </tr>\n",
       "    <tr>\n",
       "      <th>2010-01-01 16:00:00</th>\n",
       "      <td>0.304242</td>\n",
       "      <td>0.524756</td>\n",
       "    </tr>\n",
       "    <tr>\n",
       "      <th>2010-01-01 18:00:00</th>\n",
       "      <td>0.431945</td>\n",
       "      <td>0.291229</td>\n",
       "    </tr>\n",
       "    <tr>\n",
       "      <th>2010-01-01 20:00:00</th>\n",
       "      <td>0.611853</td>\n",
       "      <td>0.139494</td>\n",
       "    </tr>\n",
       "    <tr>\n",
       "      <th>2010-01-01 22:00:00</th>\n",
       "      <td>0.292145</td>\n",
       "      <td>0.366362</td>\n",
       "    </tr>\n",
       "    <tr>\n",
       "      <th>2010-01-02 00:00:00</th>\n",
       "      <td>0.456070</td>\n",
       "      <td>0.785176</td>\n",
       "    </tr>\n",
       "  </tbody>\n",
       "</table>\n",
       "</div>"
      ],
      "text/plain": [
       "                            a         b\n",
       "2010-01-01 00:00:00  0.374540  0.950714\n",
       "2010-01-01 02:00:00  0.731994  0.598658\n",
       "2010-01-01 04:00:00  0.156019  0.155995\n",
       "2010-01-01 06:00:00  0.058084  0.866176\n",
       "2010-01-01 08:00:00  0.601115  0.708073\n",
       "2010-01-01 10:00:00  0.020584  0.969910\n",
       "2010-01-01 12:00:00  0.832443  0.212339\n",
       "2010-01-01 14:00:00  0.181825  0.183405\n",
       "2010-01-01 16:00:00  0.304242  0.524756\n",
       "2010-01-01 18:00:00  0.431945  0.291229\n",
       "2010-01-01 20:00:00  0.611853  0.139494\n",
       "2010-01-01 22:00:00  0.292145  0.366362\n",
       "2010-01-02 00:00:00  0.456070  0.785176"
      ]
     },
     "metadata": {},
     "output_type": "display_data"
    }
   ],
   "source": [
    "index = pd.date_range('2010-01-01', '2010-01-02', freq='2H')\n",
    "\n",
    "np.random.seed(42)\n",
    "\n",
    "df = pd.DataFrame(np.random.rand(len(index), 2), index=index, columns=[\"a\", \"b\"])\n",
    "display_df(df)"
   ]
  },
  {
   "cell_type": "code",
   "execution_count": 28,
   "metadata": {},
   "outputs": [
    {
     "name": "stdout",
     "output_type": "stream",
     "text": [
      "[ 0  2  4  6  8 10 12 14 16 18 20 22  0]\n"
     ]
    }
   ],
   "source": [
    "print(df.index.hour)"
   ]
  },
  {
   "cell_type": "code",
   "execution_count": 26,
   "metadata": {},
   "outputs": [
    {
     "name": "stdout",
     "output_type": "stream",
     "text": [
      "[0 0 0 0 0 0 0 0 0 0 0 0 0 0 0 0 0 0 0 0 0 0 0 0 0]\n"
     ]
    }
   ],
   "source": [
    "print(df.index.minute)"
   ]
  },
  {
   "cell_type": "markdown",
   "metadata": {},
   "source": [
    "### Merging a column to all dfs into a panel"
   ]
  },
  {
   "cell_type": "code",
   "execution_count": 22,
   "metadata": {},
   "outputs": [
    {
     "name": "stdout",
     "output_type": "stream",
     "text": [
      "<class 'pandas.core.panel.Panel'>\n",
      "Dimensions: 3 (items) x 5 (major_axis) x 2 (minor_axis)\n",
      "Items axis: 1 to 3\n",
      "Major_axis axis: 2001-01-01 00:00:00 to 2001-01-05 00:00:00\n",
      "Minor_axis axis: a to b\n"
     ]
    }
   ],
   "source": [
    "panel = notebook_utils.get_random_panel()\n",
    "\n",
    "print(panel)"
   ]
  },
  {
   "cell_type": "code",
   "execution_count": 23,
   "metadata": {},
   "outputs": [
    {
     "name": "stdout",
     "output_type": "stream",
     "text": [
      "                   c\n",
      "2001-01-01  0.374540\n",
      "2001-01-02  0.950714\n",
      "2001-01-03  0.731994\n",
      "2001-01-04  0.598658\n",
      "2001-01-05  0.156019\n",
      "2001-01-06  0.155995\n",
      "2001-01-07  0.058084\n"
     ]
    }
   ],
   "source": [
    "index_rets = pd.date_range('2001-01-01', '2001-01-7')\n",
    "columns = [\"c\"]\n",
    "rets = notebook_utils.get_random_dataframe(index=index_rets, columns=columns)\n",
    "print(rets)"
   ]
  },
  {
   "cell_type": "code",
   "execution_count": 26,
   "metadata": {},
   "outputs": [
    {
     "name": "stdout",
     "output_type": "stream",
     "text": [
      "<class 'pandas.core.panel.Panel'>\n",
      "Dimensions: 3 (items) x 5 (major_axis) x 3 (minor_axis)\n",
      "Items axis: 1 to 3\n",
      "Major_axis axis: 2001-01-01 00:00:00 to 2001-01-05 00:00:00\n",
      "Minor_axis axis: a to c\n"
     ]
    }
   ],
   "source": [
    "panel_tmp = panel.copy()\n",
    "panel_tmp.loc[:, :, \"c\"] = rets[\"c\"]\n",
    "print(panel_tmp)\n",
    "\n",
    "# Note that the new column is not merged."
   ]
  },
  {
   "cell_type": "code",
   "execution_count": null,
   "metadata": {
    "collapsed": true
   },
   "outputs": [],
   "source": [
    "panel_tmp = panel.copy()\n",
    "panel_tmp.join(df)"
   ]
  },
  {
   "cell_type": "code",
   "execution_count": 30,
   "metadata": {},
   "outputs": [
    {
     "data": {
      "text/plain": [
       "<class 'pandas.core.panel.Panel'>\n",
       "Dimensions: 4 (items) x 7 (major_axis) x 3 (minor_axis)\n",
       "Items axis: 0 to 3\n",
       "Major_axis axis: 2001-01-01 00:00:00 to 2001-01-07 00:00:00\n",
       "Minor_axis axis: a to c"
      ]
     },
     "execution_count": 30,
     "metadata": {},
     "output_type": "execute_result"
    }
   ],
   "source": [
    "pd.concat([rets, panel_tmp], join=\"outer\")"
   ]
  },
  {
   "cell_type": "markdown",
   "metadata": {},
   "source": [
    "# hdf5 format\n",
    "\n",
    "- reading, saving slicing columns and indices"
   ]
  },
  {
   "cell_type": "markdown",
   "metadata": {},
   "source": [
    "## Write / read h5 objects"
   ]
  },
  {
   "cell_type": "code",
   "execution_count": 89,
   "metadata": {},
   "outputs": [
    {
     "name": "stdout",
     "output_type": "stream",
     "text": [
      "<class 'pandas.io.pytables.HDFStore'>\n",
      "File path: store.h5\n",
      "Empty\n"
     ]
    }
   ],
   "source": [
    "file_name = 'store.h5'\n",
    "\n",
    "store = pd.HDFStore(file_name)\n",
    "\n",
    "print(store)"
   ]
  },
  {
   "cell_type": "code",
   "execution_count": 90,
   "metadata": {},
   "outputs": [
    {
     "name": "stdout",
     "output_type": "stream",
     "text": [
      "# s=\n",
      "a    0.471435\n",
      "b   -1.190976\n",
      "c    1.432707\n",
      "d   -0.312652\n",
      "e   -0.720589\n",
      "dtype: float64\n",
      "\n",
      "# df=\n",
      "                   A         B         C\n",
      "2000-01-01  0.887163  0.859588 -0.636524\n",
      "2000-01-02  0.015696 -2.242685  1.150036\n",
      "2000-01-03  0.991946  0.953324 -2.021255\n",
      "2000-01-04 -0.334077  0.002118  0.405453\n",
      "2000-01-05  0.289092  1.321158 -1.546906\n",
      "2000-01-06 -0.202646 -0.655969  0.193421\n",
      "2000-01-07  0.553439  1.318152 -0.469305\n",
      "2000-01-08  0.675554 -1.817027 -0.183109\n",
      "\n",
      "# wp=\n",
      "<class 'pandas.core.panel.Panel'>\n",
      "Dimensions: 2 (items) x 5 (major_axis) x 4 (minor_axis)\n",
      "Items axis: Item1 to Item2\n",
      "Major_axis axis: 2000-01-01 00:00:00 to 2000-01-05 00:00:00\n",
      "Minor_axis axis: A to D\n"
     ]
    }
   ],
   "source": [
    "np.random.seed(1234)\n",
    "\n",
    "index = pd.date_range('1/1/2000', periods=8)\n",
    "s = pd.Series(randn(5), index=\"a b c d e\".split())\n",
    "print(\"# s=\\n\", s)\n",
    "\n",
    "df = pd.DataFrame(randn(8, 3), index=index, columns=\"A B C\".split())\n",
    "print()\n",
    "print(\"# df=\\n\", df)\n",
    "\n",
    "wp = pd.Panel(rand(2, 5, 4), items=\"Item1 Item2\".split(),\n",
    "              major_axis=pd.date_range('1/1/2000', periods=5),\n",
    "              minor_axis=\"A B C D\".split())\n",
    "print()\n",
    "print(\"# wp=\\n\", wp)"
   ]
  },
  {
   "cell_type": "code",
   "execution_count": 91,
   "metadata": {},
   "outputs": [
    {
     "name": "stdout",
     "output_type": "stream",
     "text": [
      "<class 'pandas.io.pytables.HDFStore'>\n",
      "File path: store.h5\n",
      "/df            frame        (shape->[8,3])  \n",
      "/s             series       (shape->[5])    \n",
      "/wp            wide         (shape->[2,5,4])\n"
     ]
    }
   ],
   "source": [
    "store[\"s\"] = s\n",
    "store[\"df\"] = df\n",
    "store[\"wp\"] = wp\n",
    "\n",
    "print(store)"
   ]
  },
  {
   "cell_type": "code",
   "execution_count": 92,
   "metadata": {
    "collapsed": true
   },
   "outputs": [],
   "source": [
    "store.close()"
   ]
  },
  {
   "cell_type": "code",
   "execution_count": 93,
   "metadata": {},
   "outputs": [
    {
     "name": "stdout",
     "output_type": "stream",
     "text": [
      "['/df', '/s', '/wp']\n"
     ]
    }
   ],
   "source": [
    "# Using context manager.\n",
    "with pd.HDFStore(file_name) as store:\n",
    "    print(list(store.keys()))"
   ]
  },
  {
   "cell_type": "code",
   "execution_count": 94,
   "metadata": {
    "collapsed": true
   },
   "outputs": [],
   "source": [
    "delete_file_name(file_name)"
   ]
  },
  {
   "cell_type": "markdown",
   "metadata": {},
   "source": [
    "## Read / write objects"
   ]
  },
  {
   "cell_type": "code",
   "execution_count": 95,
   "metadata": {},
   "outputs": [
    {
     "data": {
      "text/html": [
       "<div>\n",
       "<table border=\"1\" class=\"dataframe\">\n",
       "  <thead>\n",
       "    <tr style=\"text-align: right;\">\n",
       "      <th></th>\n",
       "      <th>A</th>\n",
       "      <th>B</th>\n",
       "    </tr>\n",
       "  </thead>\n",
       "  <tbody>\n",
       "    <tr>\n",
       "      <th>0</th>\n",
       "      <td>0</td>\n",
       "      <td>0</td>\n",
       "    </tr>\n",
       "    <tr>\n",
       "      <th>1</th>\n",
       "      <td>1</td>\n",
       "      <td>1</td>\n",
       "    </tr>\n",
       "    <tr>\n",
       "      <th>2</th>\n",
       "      <td>2</td>\n",
       "      <td>2</td>\n",
       "    </tr>\n",
       "    <tr>\n",
       "      <th>3</th>\n",
       "      <td>3</td>\n",
       "      <td>3</td>\n",
       "    </tr>\n",
       "    <tr>\n",
       "      <th>4</th>\n",
       "      <td>4</td>\n",
       "      <td>4</td>\n",
       "    </tr>\n",
       "  </tbody>\n",
       "</table>\n",
       "</div>"
      ],
      "text/plain": [
       "   A  B\n",
       "0  0  0\n",
       "1  1  1\n",
       "2  2  2\n",
       "3  3  3\n",
       "4  4  4"
      ]
     },
     "metadata": {},
     "output_type": "display_data"
    },
    {
     "data": {
      "text/html": [
       "<div>\n",
       "<table border=\"1\" class=\"dataframe\">\n",
       "  <thead>\n",
       "    <tr style=\"text-align: right;\">\n",
       "      <th></th>\n",
       "      <th>A</th>\n",
       "      <th>B</th>\n",
       "    </tr>\n",
       "  </thead>\n",
       "  <tbody>\n",
       "    <tr>\n",
       "      <th>3</th>\n",
       "      <td>3</td>\n",
       "      <td>3</td>\n",
       "    </tr>\n",
       "    <tr>\n",
       "      <th>4</th>\n",
       "      <td>4</td>\n",
       "      <td>4</td>\n",
       "    </tr>\n",
       "  </tbody>\n",
       "</table>\n",
       "</div>"
      ],
      "text/plain": [
       "   A  B\n",
       "3  3  3\n",
       "4  4  4"
      ]
     },
     "execution_count": 95,
     "metadata": {},
     "output_type": "execute_result"
    }
   ],
   "source": [
    "file_name = 'store_t1.h5'\n",
    "delete_file_name(file_name)\n",
    "\n",
    "# Write.\n",
    "df_tl = pd.DataFrame(\n",
    "    dict(\n",
    "        A=list(range(5)),\n",
    "        B=list(range(5))))\n",
    "display(df_tl)\n",
    "df_tl.to_hdf(file_name, 'table', append=True)\n",
    "\n",
    "# Read with filtering.\n",
    "pd.read_hdf(file_name, 'table', where=['index>2'])"
   ]
  },
  {
   "cell_type": "code",
   "execution_count": 96,
   "metadata": {},
   "outputs": [
    {
     "data": {
      "text/html": [
       "<div>\n",
       "<table border=\"1\" class=\"dataframe\">\n",
       "  <thead>\n",
       "    <tr style=\"text-align: right;\">\n",
       "      <th></th>\n",
       "      <th>col1</th>\n",
       "      <th>col2</th>\n",
       "    </tr>\n",
       "  </thead>\n",
       "  <tbody>\n",
       "    <tr>\n",
       "      <th>0</th>\n",
       "      <td>0.0</td>\n",
       "      <td>1.0</td>\n",
       "    </tr>\n",
       "    <tr>\n",
       "      <th>1</th>\n",
       "      <td>NaN</td>\n",
       "      <td>NaN</td>\n",
       "    </tr>\n",
       "    <tr>\n",
       "      <th>2</th>\n",
       "      <td>2.0</td>\n",
       "      <td>NaN</td>\n",
       "    </tr>\n",
       "  </tbody>\n",
       "</table>\n",
       "</div>"
      ],
      "text/plain": [
       "   col1  col2\n",
       "0   0.0   1.0\n",
       "1   NaN   NaN\n",
       "2   2.0   NaN"
      ]
     },
     "metadata": {},
     "output_type": "display_data"
    },
    {
     "data": {
      "text/html": [
       "<div>\n",
       "<table border=\"1\" class=\"dataframe\">\n",
       "  <thead>\n",
       "    <tr style=\"text-align: right;\">\n",
       "      <th></th>\n",
       "      <th>col1</th>\n",
       "      <th>col2</th>\n",
       "    </tr>\n",
       "  </thead>\n",
       "  <tbody>\n",
       "    <tr>\n",
       "      <th>0</th>\n",
       "      <td>0.0</td>\n",
       "      <td>1.0</td>\n",
       "    </tr>\n",
       "    <tr>\n",
       "      <th>1</th>\n",
       "      <td>NaN</td>\n",
       "      <td>NaN</td>\n",
       "    </tr>\n",
       "    <tr>\n",
       "      <th>2</th>\n",
       "      <td>2.0</td>\n",
       "      <td>NaN</td>\n",
       "    </tr>\n",
       "  </tbody>\n",
       "</table>\n",
       "</div>"
      ],
      "text/plain": [
       "   col1  col2\n",
       "0   0.0   1.0\n",
       "1   NaN   NaN\n",
       "2   2.0   NaN"
      ]
     },
     "metadata": {},
     "output_type": "display_data"
    }
   ],
   "source": [
    "df_with_missing = pd.DataFrame(\n",
    "{\n",
    "    'col1': [0, np.nan, 2],\n",
    "    'col2': [1, np.nan, np.nan],\n",
    "})\n",
    "\n",
    "display_df(df_with_missing)\n",
    "\n",
    "df_with_missing.to_hdf(\n",
    "    # File.\n",
    "    file_name,\n",
    "    # Name of dict key.\n",
    "    'df_with_missing',\n",
    "    #\n",
    "    format='table', mode='w')\n",
    "\n",
    "df = pd.read_hdf(file_name, 'df_with_missing')\n",
    "display_df(df)"
   ]
  },
  {
   "cell_type": "code",
   "execution_count": 97,
   "metadata": {
    "collapsed": true
   },
   "outputs": [],
   "source": [
    "delete_file_name(file_name)"
   ]
  },
  {
   "cell_type": "markdown",
   "metadata": {},
   "source": [
    "## Fixed vs table format."
   ]
  },
  {
   "cell_type": "code",
   "execution_count": 105,
   "metadata": {
    "run_control": {
     "marked": false
    }
   },
   "outputs": [
    {
     "name": "stdout",
     "output_type": "stream",
     "text": [
      "test\n",
      "time=0.1 s\n",
      "<__main__.timer instance at 0x114c16b90>\n"
     ]
    }
   ],
   "source": [
    "from timeit import default_timer\n",
    "import time\n",
    "\n",
    "\n",
    "def _convert_bytes(nbytes, unit=\"B\"):\n",
    "    if unit == \"B\":\n",
    "        res = nbytes\n",
    "    elif unit == \"MB\":\n",
    "        res = float(nbytes / (1024 * 1024))\n",
    "    else:\n",
    "        raise ValueError(\"Invalid unit='%s'\" % unit)\n",
    "    return res\n",
    "\n",
    "\n",
    "def pd_size(df, unit=\"B\"):\n",
    "    #nbytes obj.values.nbytes + obj.index.nbytes + obj.columns.nbytes\n",
    "    nbytes = df.memory_usage().sum()\n",
    "    res = _convert_bytes(nbytes, unit=unit)\n",
    "    return res\n",
    "        \n",
    "\n",
    "def file_size(file_name, unit=\"B\"):\n",
    "    nbytes = os.stat(file_name).st_size\n",
    "    res = _convert_bytes(nbytes, unit=unit)\n",
    "    return res\n",
    "\n",
    "        \n",
    "class timer():\n",
    "    \n",
    "    def __init__(self):\n",
    "        pass\n",
    "    \n",
    "    def __enter__(self):\n",
    "        self.start = default_timer()\n",
    "        return self\n",
    "        \n",
    "    def __exit__(self, *args):\n",
    "        self.end = default_timer()\n",
    "        self.elapsed = self.end - self.start\n",
    "        print(\"time=%.1f s\" % self.elapsed)\n",
    "\n",
    "\n",
    "with timer() as timer_:\n",
    "    print(\"test\")\n",
    "    time.sleep(0.1)\n",
    "    \n",
    "\n",
    "print(timer_)"
   ]
  },
  {
   "cell_type": "code",
   "execution_count": 106,
   "metadata": {
    "collapsed": true
   },
   "outputs": [],
   "source": [
    "exps = []"
   ]
  },
  {
   "cell_type": "code",
   "execution_count": 107,
   "metadata": {},
   "outputs": [
    {
     "name": "stdout",
     "output_type": "stream",
     "text": [
      "time=0.4 s\n",
      "DatetimeIndex(['2010-01-01 00:00:00', '2010-01-01 00:01:00',\n",
      "               '2010-01-01 00:02:00', '2010-01-01 00:03:00',\n",
      "               '2010-01-01 00:04:00'],\n",
      "              dtype='datetime64[ns]', freq='T')\n",
      "shape= (3682081,)\n"
     ]
    },
    {
     "data": {
      "text/html": [
       "<div>\n",
       "<table border=\"1\" class=\"dataframe\">\n",
       "  <thead>\n",
       "    <tr style=\"text-align: right;\">\n",
       "      <th></th>\n",
       "      <th>bid</th>\n",
       "      <th>ask</th>\n",
       "      <th>start.dt</th>\n",
       "      <th>end.dt</th>\n",
       "    </tr>\n",
       "  </thead>\n",
       "  <tbody>\n",
       "    <tr>\n",
       "      <th>2010-01-01 00:00:00</th>\n",
       "      <td>1.264901</td>\n",
       "      <td>-0.464995</td>\n",
       "      <td>2010-01-01 00:00:00</td>\n",
       "      <td>2010-01-01 00:01:00</td>\n",
       "    </tr>\n",
       "    <tr>\n",
       "      <th>2010-01-01 00:01:00</th>\n",
       "      <td>-1.567224</td>\n",
       "      <td>0.337913</td>\n",
       "      <td>2010-01-01 00:01:00</td>\n",
       "      <td>2010-01-01 00:02:00</td>\n",
       "    </tr>\n",
       "    <tr>\n",
       "      <th>2010-01-01 00:02:00</th>\n",
       "      <td>1.523455</td>\n",
       "      <td>-0.747277</td>\n",
       "      <td>2010-01-01 00:02:00</td>\n",
       "      <td>2010-01-01 00:03:00</td>\n",
       "    </tr>\n",
       "    <tr>\n",
       "      <th>2010-01-01 00:03:00</th>\n",
       "      <td>-1.579371</td>\n",
       "      <td>0.871747</td>\n",
       "      <td>2010-01-01 00:03:00</td>\n",
       "      <td>2010-01-01 00:04:00</td>\n",
       "    </tr>\n",
       "    <tr>\n",
       "      <th>2010-01-01 00:04:00</th>\n",
       "      <td>0.853794</td>\n",
       "      <td>1.050256</td>\n",
       "      <td>2010-01-01 00:04:00</td>\n",
       "      <td>2010-01-01 00:05:00</td>\n",
       "    </tr>\n",
       "  </tbody>\n",
       "</table>\n",
       "</div>"
      ],
      "text/plain": [
       "                          bid       ask            start.dt  \\\n",
       "2010-01-01 00:00:00  1.264901 -0.464995 2010-01-01 00:00:00   \n",
       "2010-01-01 00:01:00 -1.567224  0.337913 2010-01-01 00:01:00   \n",
       "2010-01-01 00:02:00  1.523455 -0.747277 2010-01-01 00:02:00   \n",
       "2010-01-01 00:03:00 -1.579371  0.871747 2010-01-01 00:03:00   \n",
       "2010-01-01 00:04:00  0.853794  1.050256 2010-01-01 00:04:00   \n",
       "\n",
       "                                 end.dt  \n",
       "2010-01-01 00:00:00 2010-01-01 00:01:00  \n",
       "2010-01-01 00:01:00 2010-01-01 00:02:00  \n",
       "2010-01-01 00:02:00 2010-01-01 00:03:00  \n",
       "2010-01-01 00:03:00 2010-01-01 00:04:00  \n",
       "2010-01-01 00:04:00 2010-01-01 00:05:00  "
      ]
     },
     "metadata": {},
     "output_type": "display_data"
    },
    {
     "name": "stdout",
     "output_type": "stream",
     "text": [
      "memory=140.0 MB\n",
      "time=0.0 s\n"
     ]
    }
   ],
   "source": [
    "with timer() as timer_:\n",
    "    idx = pd.date_range('1/1/2010', '1/1/2017', freq=\"1Min\")\n",
    "    cols = [\"bid\", \"ask\"]\n",
    "    df = pd.DataFrame(\n",
    "        np.random.randn(len(idx), len(cols)), index=idx, columns=cols)\n",
    "    df[\"start.dt\"] = df.index\n",
    "    df[\"end.dt\"] = df.index.shift(1)\n",
    "\n",
    "print(idx[:5])\n",
    "print(\"shape=\", idx.shape)\n",
    "display(df.head())\n",
    "\n",
    "with timer() as timer_:\n",
    "    mem = pd_size(df, unit=\"MB\")\n",
    "    print(\"memory=%.1f MB\" % mem)\n",
    "    \n",
    "exps.append([\"create_df\", timer_.elapsed, mem])\n",
    "\n",
    "orig_df = df.copy()"
   ]
  },
  {
   "cell_type": "markdown",
   "metadata": {},
   "source": [
    "### Fixed format.\n",
    "\n",
    "- fixed stores\n",
    "  - are not appendable once written: one needs to remove and rewrite\n",
    "  - are not queryable: they must be retrieve in their entirety\n",
    "  - do not support data frames with duplicated column names\n",
    "  - very fast writing and slightly faster reading than table stores"
   ]
  },
  {
   "cell_type": "code",
   "execution_count": 108,
   "metadata": {
    "run_control": {
     "marked": false
    }
   },
   "outputs": [
    {
     "name": "stdout",
     "output_type": "stream",
     "text": [
      "# write_all_data.fixed\n",
      "time=2.9 s\n",
      "size=140.0 MB\n"
     ]
    }
   ],
   "source": [
    "file_name = \"./test.fixed.h5\"\n",
    "delete_file_name(file_name)\n",
    "\n",
    "exp = \"write_all_data.fixed\"\n",
    "print(\"#\", exp)\n",
    "\n",
    "# Write all data.\n",
    "with timer() as timer_:\n",
    "    df.to_hdf(file_name, 'df', format='fixed')\n",
    "\n",
    "mem = file_size(file_name, unit=\"MB\")\n",
    "print(\"size=%.1f MB\" % mem)\n",
    "\n",
    "exps.append([exp, timer_.elapsed, mem])"
   ]
  },
  {
   "cell_type": "code",
   "execution_count": 109,
   "metadata": {},
   "outputs": [
    {
     "name": "stdout",
     "output_type": "stream",
     "text": [
      "# read_all_data.fixed\n",
      "time=0.2 s\n",
      "memory=140.0 MB\n"
     ]
    }
   ],
   "source": [
    "# Read all data.\n",
    "\n",
    "exp = \"read_all_data.fixed\"\n",
    "print(\"#\", exp)\n",
    "\n",
    "with timer() as timer_:\n",
    "    df = pd.read_hdf(file_name, 'df')\n",
    "    _ = df.head(), df.tail()\n",
    "    \n",
    "mem = pd_size(df, unit=\"MB\")\n",
    "print(\"memory=%.1f MB\" % mem)\n",
    "\n",
    "exps.append([exp, timer_.elapsed, mem])"
   ]
  },
  {
   "cell_type": "markdown",
   "metadata": {},
   "source": [
    "### Table format"
   ]
  },
  {
   "cell_type": "code",
   "execution_count": 110,
   "metadata": {},
   "outputs": [
    {
     "name": "stdout",
     "output_type": "stream",
     "text": [
      "#  write_all_data.table\n",
      "time=9.2 s\n",
      "size=145.0 MB\n"
     ]
    }
   ],
   "source": [
    "file_name = \"./test.table.h5\"\n",
    "delete_file_name(file_name)\n",
    "\n",
    "exp = \"write_all_data.table\"\n",
    "\n",
    "# Write all data.\n",
    "print(\"# \", exp)\n",
    "with timer() as timer_:\n",
    "    df.to_hdf(file_name, 'df', format='table')\n",
    "\n",
    "mem = file_size(file_name, unit=\"MB\")\n",
    "print(\"size=%.1f MB\" % mem)\n",
    "\n",
    "exps.append([exp, timer_.elapsed, mem])"
   ]
  },
  {
   "cell_type": "code",
   "execution_count": 111,
   "metadata": {},
   "outputs": [
    {
     "name": "stdout",
     "output_type": "stream",
     "text": [
      "# read_all_data.table\n",
      "time=0.5 s\n",
      "memory=140.0 MB\n"
     ]
    }
   ],
   "source": [
    "# Read all data.\n",
    "exp = \"read_all_data.table\"\n",
    "print(\"#\", exp)\n",
    "\n",
    "with timer() as timer_:\n",
    "    df = pd.read_hdf(file_name, 'df')\n",
    "    _ = df.head(), df.tail()\n",
    "    \n",
    "mem = pd_size(df, unit=\"MB\")\n",
    "print(\"memory=%.1f MB\" % mem)\n",
    "\n",
    "exps.append([exp, timer_.elapsed, mem])"
   ]
  },
  {
   "cell_type": "code",
   "execution_count": 112,
   "metadata": {},
   "outputs": [
    {
     "name": "stdout",
     "output_type": "stream",
     "text": [
      "# read_all_data_with_index.table\n",
      "time=2.0 s\n",
      "memory=140.0 MB\n"
     ]
    }
   ],
   "source": [
    "# Read all with index.\n",
    "exp = \"read_all_data_with_index.table\"\n",
    "print(\"#\", exp)\n",
    "\n",
    "with timer() as timer_:\n",
    "    df = pd.read_hdf(file_name, 'df', where=\"index > pd.Timestamp('2010-01-01')\")\n",
    "    _ = df.head(), df.tail()\n",
    "    \n",
    "mem = pd_size(df, unit=\"MB\")\n",
    "print(\"memory=%.1f MB\" % mem)\n",
    "\n",
    "exps.append([exp, timer_.elapsed, mem])"
   ]
  },
  {
   "cell_type": "code",
   "execution_count": 113,
   "metadata": {},
   "outputs": [
    {
     "name": "stdout",
     "output_type": "stream",
     "text": [
      "# read_1/2_data_with_index.table\n",
      "time=1.0 s\n",
      "memory=71.0 MB\n"
     ]
    }
   ],
   "source": [
    "# Read 1/2 data with index.\n",
    "exp = \"read_1/2_data_with_index.table\"\n",
    "print(\"#\", exp)\n",
    "\n",
    "with timer() as timer_:\n",
    "    df = pd.read_hdf(file_name, 'df', where=\"index > pd.Timestamp('2013-06-01')\")\n",
    "    _ = df.head(), df.tail()\n",
    "\n",
    "mem = pd_size(df, unit=\"MB\")\n",
    "print(\"memory=%.1f MB\" % mem)\n",
    "\n",
    "exps.append([exp, timer_.elapsed, mem])"
   ]
  },
  {
   "cell_type": "code",
   "execution_count": 114,
   "metadata": {},
   "outputs": [
    {
     "data": {
      "text/html": [
       "<div>\n",
       "<table border=\"1\" class=\"dataframe\">\n",
       "  <thead>\n",
       "    <tr style=\"text-align: right;\">\n",
       "      <th></th>\n",
       "      <th>exp</th>\n",
       "      <th>time [s]</th>\n",
       "      <th>size [MB]</th>\n",
       "    </tr>\n",
       "  </thead>\n",
       "  <tbody>\n",
       "    <tr>\n",
       "      <th>0</th>\n",
       "      <td>create_df</td>\n",
       "      <td>0.001454</td>\n",
       "      <td>140.0</td>\n",
       "    </tr>\n",
       "    <tr>\n",
       "      <th>1</th>\n",
       "      <td>write_all_data.fixed</td>\n",
       "      <td>2.886453</td>\n",
       "      <td>140.0</td>\n",
       "    </tr>\n",
       "    <tr>\n",
       "      <th>2</th>\n",
       "      <td>read_all_data.fixed</td>\n",
       "      <td>0.174029</td>\n",
       "      <td>140.0</td>\n",
       "    </tr>\n",
       "    <tr>\n",
       "      <th>3</th>\n",
       "      <td>write_all_data.table</td>\n",
       "      <td>9.195848</td>\n",
       "      <td>145.0</td>\n",
       "    </tr>\n",
       "    <tr>\n",
       "      <th>4</th>\n",
       "      <td>read_all_data.table</td>\n",
       "      <td>0.452624</td>\n",
       "      <td>140.0</td>\n",
       "    </tr>\n",
       "    <tr>\n",
       "      <th>5</th>\n",
       "      <td>read_all_data_with_index.table</td>\n",
       "      <td>1.970595</td>\n",
       "      <td>140.0</td>\n",
       "    </tr>\n",
       "    <tr>\n",
       "      <th>6</th>\n",
       "      <td>read_1/2_data_with_index.table</td>\n",
       "      <td>1.017451</td>\n",
       "      <td>71.0</td>\n",
       "    </tr>\n",
       "  </tbody>\n",
       "</table>\n",
       "</div>"
      ],
      "text/plain": [
       "                              exp  time [s]  size [MB]\n",
       "0                       create_df  0.001454      140.0\n",
       "1            write_all_data.fixed  2.886453      140.0\n",
       "2             read_all_data.fixed  0.174029      140.0\n",
       "3            write_all_data.table  9.195848      145.0\n",
       "4             read_all_data.table  0.452624      140.0\n",
       "5  read_all_data_with_index.table  1.970595      140.0\n",
       "6  read_1/2_data_with_index.table  1.017451       71.0"
      ]
     },
     "metadata": {},
     "output_type": "display_data"
    }
   ],
   "source": [
    "exps_df = pd.DataFrame(exps, columns=[\"exp\", \"time [s]\", \"size [MB]\"])\n",
    "display(exps_df)"
   ]
  },
  {
   "cell_type": "code",
   "execution_count": 127,
   "metadata": {},
   "outputs": [
    {
     "name": "stdout",
     "output_type": "stream",
     "text": [
      "write_all_data.fixed / read_all_data.fixed = 16.6x slower\n",
      "write_all_data.table / read_all_data.table = 20.3x slower\n",
      "\n",
      "write_all_data.fixed / write_all_data.table = 3.2x faster\n",
      "read_all_data.fixed / read_all_data.table = 2.6x faster\n",
      "\n",
      "read_all_data.table / read_all_data_with_index.table = 4.4x faster\n"
     ]
    }
   ],
   "source": [
    "col = exps_df[[\"exp\", \"time [s]\"]]\n",
    "col.set_index(\"exp\", inplace=True)\n",
    "\n",
    "def print_stats(c1, c2):\n",
    "    speedup = (float(col.loc[c1]) / col.loc[c2]).values[0]\n",
    "    tag = \"slower\"\n",
    "    if speedup < 1:\n",
    "        speedup = 1.0 / speedup\n",
    "        tag = \"faster\"\n",
    "    print(\"%s / %s = %.1fx %s\" % (c1, c2, speedup, tag))\n",
    "    \n",
    "print_stats(\"write_all_data.fixed\", \"read_all_data.fixed\")\n",
    "print_stats(\"write_all_data.table\", \"read_all_data.table\")\n",
    "\n",
    "print()\n",
    "print_stats(\"write_all_data.fixed\", \"write_all_data.table\")\n",
    "print_stats(\"read_all_data.fixed\", \"read_all_data.table\")\n",
    "\n",
    "print()\n",
    "print_stats(\"read_all_data.table\", \"read_all_data_with_index.table\")"
   ]
  },
  {
   "cell_type": "markdown",
   "metadata": {},
   "source": [
    "## Table format\n",
    "\n",
    "- table is shaped like a data frame with rows and columns\n",
    "- one can add, delete and query"
   ]
  },
  {
   "cell_type": "code",
   "execution_count": 137,
   "metadata": {},
   "outputs": [
    {
     "name": "stdout",
     "output_type": "stream",
     "text": [
      "<class 'pandas.io.pytables.HDFStore'>\n",
      "File path: store.h5\n",
      "/df            frame_table  (typ->appendable,nrows->8,ncols->3,indexers->[index])\n",
      "                   A         B         C\n",
      "2000-01-01  0.875337 -0.123463 -0.876084\n",
      "2000-01-02 -0.958135  0.811010  0.981213\n",
      "2000-01-03 -0.555193 -1.282372 -2.053056\n",
      "2000-01-04  0.319026  1.703201  0.195315\n",
      "2000-01-05 -1.579546 -0.078956 -1.230969\n",
      "2000-01-06 -0.014638 -1.890617  0.788462\n",
      "2000-01-07 -1.615003  0.188301 -0.217574\n",
      "2000-01-08 -1.037868 -0.023512  1.060914\n"
     ]
    }
   ],
   "source": [
    "file_name = 'store.h5'\n",
    "delete_file_name(file_name)\n",
    "\n",
    "store = pd.HDFStore(file_name)\n",
    "\n",
    "df = pd.DataFrame(randn(8, 3), index=index, columns=['A', 'B', 'C'])\n",
    "\n",
    "# Append to a df.\n",
    "df1 = df[0:4]\n",
    "store.append('df', df1)\n",
    "\n",
    "df2 = df[4:]\n",
    "store.append('df', df2)\n",
    "\n",
    "print(store)\n",
    "print(store.select('df'))"
   ]
  },
  {
   "cell_type": "markdown",
   "metadata": {},
   "source": [
    "### Hierarchical keys\n",
    "\n",
    "- keys are string that can be path-name like format"
   ]
  },
  {
   "cell_type": "code",
   "execution_count": 143,
   "metadata": {},
   "outputs": [
    {
     "name": "stdout",
     "output_type": "stream",
     "text": [
      "store=\n",
      "<class 'pandas.io.pytables.HDFStore'>\n",
      "File path: store.h5\n",
      "/df                     frame_table  (typ->appendable,nrows->8,ncols->3,indexers->[index])\n",
      "/foo/bar/bah            frame        (shape->[8,3])                                       \n",
      "/food/apple             frame_table  (typ->appendable,nrows->8,ncols->3,indexers->[index])\n",
      "/food/orange            frame_table  (typ->appendable,nrows->8,ncols->3,indexers->[index])\n",
      "\n",
      "store.keys= ['/df', '/food/apple', '/food/orange', '/foo/bar/bah']\n",
      "\n",
      "store=\n",
      "<class 'pandas.io.pytables.HDFStore'>\n",
      "File path: store.h5\n",
      "/df                     frame_table  (typ->appendable,nrows->8,ncols->3,indexers->[index])\n",
      "/foo/bar/bah            frame        (shape->[8,3])                                       \n"
     ]
    }
   ],
   "source": [
    "store.put('foo/bar/bah', df)\n",
    "store.append('food/orange', df)\n",
    "store.append('food/apple', df)\n",
    "\n",
    "print(\"store=\\n\", store)\n",
    "print(\"\\nstore.keys=\", list(store.keys()))\n",
    "\n",
    "# Remove everything under the hierarchy 'food'.\n",
    "store.remove('food')\n",
    "\n",
    "print(\"\\nstore=\\n\", store)"
   ]
  },
  {
   "cell_type": "markdown",
   "metadata": {},
   "source": [
    "### Querying"
   ]
  },
  {
   "cell_type": "code",
   "execution_count": 148,
   "metadata": {},
   "outputs": [
    {
     "name": "stdout",
     "output_type": "stream",
     "text": [
      "store=\n",
      "<class 'pandas.io.pytables.HDFStore'>\n",
      "File path: ./test.table.h5\n",
      "/df            frame_table  (typ->appendable,nrows->3682081,ncols->4,indexers->[index])\n"
     ]
    }
   ],
   "source": [
    "file_name = \"./test.table.h5\"\n",
    "store = pd.HDFStore(file_name)\n",
    "\n",
    "print(\"store=\\n\", store)"
   ]
  },
  {
   "cell_type": "code",
   "execution_count": 152,
   "metadata": {},
   "outputs": [
    {
     "name": "stdout",
     "output_type": "stream",
     "text": [
      "(1886400, 4)\n"
     ]
    },
    {
     "data": {
      "text/html": [
       "<div>\n",
       "<table border=\"1\" class=\"dataframe\">\n",
       "  <thead>\n",
       "    <tr style=\"text-align: right;\">\n",
       "      <th></th>\n",
       "      <th>bid</th>\n",
       "      <th>ask</th>\n",
       "      <th>start.dt</th>\n",
       "      <th>end.dt</th>\n",
       "    </tr>\n",
       "  </thead>\n",
       "  <tbody>\n",
       "    <tr>\n",
       "      <th>2013-06-01 00:01:00</th>\n",
       "      <td>-0.222631</td>\n",
       "      <td>1.513397</td>\n",
       "      <td>2013-06-01 00:01:00</td>\n",
       "      <td>2013-06-01 00:02:00</td>\n",
       "    </tr>\n",
       "    <tr>\n",
       "      <th>2013-06-01 00:02:00</th>\n",
       "      <td>-0.554020</td>\n",
       "      <td>1.786358</td>\n",
       "      <td>2013-06-01 00:02:00</td>\n",
       "      <td>2013-06-01 00:03:00</td>\n",
       "    </tr>\n",
       "    <tr>\n",
       "      <th>2013-06-01 00:03:00</th>\n",
       "      <td>-1.379394</td>\n",
       "      <td>-0.397589</td>\n",
       "      <td>2013-06-01 00:03:00</td>\n",
       "      <td>2013-06-01 00:04:00</td>\n",
       "    </tr>\n",
       "    <tr>\n",
       "      <th>2013-06-01 00:04:00</th>\n",
       "      <td>0.498176</td>\n",
       "      <td>-0.870861</td>\n",
       "      <td>2013-06-01 00:04:00</td>\n",
       "      <td>2013-06-01 00:05:00</td>\n",
       "    </tr>\n",
       "    <tr>\n",
       "      <th>2013-06-01 00:05:00</th>\n",
       "      <td>0.179130</td>\n",
       "      <td>0.255028</td>\n",
       "      <td>2013-06-01 00:05:00</td>\n",
       "      <td>2013-06-01 00:06:00</td>\n",
       "    </tr>\n",
       "  </tbody>\n",
       "</table>\n",
       "</div>"
      ],
      "text/plain": [
       "                          bid       ask            start.dt  \\\n",
       "2013-06-01 00:01:00 -0.222631  1.513397 2013-06-01 00:01:00   \n",
       "2013-06-01 00:02:00 -0.554020  1.786358 2013-06-01 00:02:00   \n",
       "2013-06-01 00:03:00 -1.379394 -0.397589 2013-06-01 00:03:00   \n",
       "2013-06-01 00:04:00  0.498176 -0.870861 2013-06-01 00:04:00   \n",
       "2013-06-01 00:05:00  0.179130  0.255028 2013-06-01 00:05:00   \n",
       "\n",
       "                                 end.dt  \n",
       "2013-06-01 00:01:00 2013-06-01 00:02:00  \n",
       "2013-06-01 00:02:00 2013-06-01 00:03:00  \n",
       "2013-06-01 00:03:00 2013-06-01 00:04:00  \n",
       "2013-06-01 00:04:00 2013-06-01 00:05:00  \n",
       "2013-06-01 00:05:00 2013-06-01 00:06:00  "
      ]
     },
     "metadata": {},
     "output_type": "display_data"
    }
   ],
   "source": [
    "df_tmp = store.select('df', \"index > pd.Timestamp('2013-06-01')\")\n",
    "\n",
    "print(df_tmp.shape)\n",
    "display_df(df_tmp.head())"
   ]
  },
  {
   "cell_type": "code",
   "execution_count": 153,
   "metadata": {},
   "outputs": [
    {
     "name": "stdout",
     "output_type": "stream",
     "text": [
      "(1, 4)\n"
     ]
    },
    {
     "data": {
      "text/html": [
       "<div>\n",
       "<table border=\"1\" class=\"dataframe\">\n",
       "  <thead>\n",
       "    <tr style=\"text-align: right;\">\n",
       "      <th></th>\n",
       "      <th>bid</th>\n",
       "      <th>ask</th>\n",
       "      <th>start.dt</th>\n",
       "      <th>end.dt</th>\n",
       "    </tr>\n",
       "  </thead>\n",
       "  <tbody>\n",
       "    <tr>\n",
       "      <th>2013-06-01</th>\n",
       "      <td>1.320864</td>\n",
       "      <td>-0.211638</td>\n",
       "      <td>2013-06-01</td>\n",
       "      <td>2013-06-01 00:01:00</td>\n",
       "    </tr>\n",
       "  </tbody>\n",
       "</table>\n",
       "</div>"
      ],
      "text/plain": [
       "                 bid       ask   start.dt              end.dt\n",
       "2013-06-01  1.320864 -0.211638 2013-06-01 2013-06-01 00:01:00"
      ]
     },
     "metadata": {},
     "output_type": "display_data"
    }
   ],
   "source": [
    "df_tmp = store.select('df', \"index == pd.Timestamp('2013-06-01')\")\n",
    "\n",
    "print(df_tmp.shape)\n",
    "display_df(df_tmp.head())"
   ]
  },
  {
   "cell_type": "code",
   "execution_count": 157,
   "metadata": {},
   "outputs": [
    {
     "name": "stdout",
     "output_type": "stream",
     "text": [
      "(1886400, 1)\n"
     ]
    },
    {
     "data": {
      "text/html": [
       "<div>\n",
       "<table border=\"1\" class=\"dataframe\">\n",
       "  <thead>\n",
       "    <tr style=\"text-align: right;\">\n",
       "      <th></th>\n",
       "      <th>bid</th>\n",
       "    </tr>\n",
       "  </thead>\n",
       "  <tbody>\n",
       "    <tr>\n",
       "      <th>2013-06-01 00:01:00</th>\n",
       "      <td>-0.222631</td>\n",
       "    </tr>\n",
       "    <tr>\n",
       "      <th>2013-06-01 00:02:00</th>\n",
       "      <td>-0.554020</td>\n",
       "    </tr>\n",
       "    <tr>\n",
       "      <th>2013-06-01 00:03:00</th>\n",
       "      <td>-1.379394</td>\n",
       "    </tr>\n",
       "    <tr>\n",
       "      <th>2013-06-01 00:04:00</th>\n",
       "      <td>0.498176</td>\n",
       "    </tr>\n",
       "    <tr>\n",
       "      <th>2013-06-01 00:05:00</th>\n",
       "      <td>0.179130</td>\n",
       "    </tr>\n",
       "  </tbody>\n",
       "</table>\n",
       "</div>"
      ],
      "text/plain": [
       "                          bid\n",
       "2013-06-01 00:01:00 -0.222631\n",
       "2013-06-01 00:02:00 -0.554020\n",
       "2013-06-01 00:03:00 -1.379394\n",
       "2013-06-01 00:04:00  0.498176\n",
       "2013-06-01 00:05:00  0.179130"
      ]
     },
     "metadata": {},
     "output_type": "display_data"
    }
   ],
   "source": [
    "df_tmp = store.select('df', \"index > pd.Timestamp('2013-06-01') & columns == ['bid']\")\n",
    "\n",
    "print(df_tmp.shape)\n",
    "display_df(df_tmp.head())"
   ]
  },
  {
   "cell_type": "code",
   "execution_count": 1,
   "metadata": {
    "collapsed": true
   },
   "outputs": [],
   "source": [
    "# TODO: Finish this."
   ]
  }
 ],
 "metadata": {
  "kernelspec": {
   "display_name": "Python [default]",
   "language": "python",
   "name": "python3"
  },
  "language_info": {
   "codemirror_mode": {
    "name": "ipython",
    "version": 3
   },
   "file_extension": ".py",
   "mimetype": "text/x-python",
   "name": "python",
   "nbconvert_exporter": "python",
   "pygments_lexer": "ipython3",
   "version": "3.7.1"
  },
  "toc": {
   "colors": {
    "hover_highlight": "#DAA520",
    "running_highlight": "#FF0000",
    "selected_highlight": "#FFD700"
   },
   "moveMenuLeft": true,
   "nav_menu": {
    "height": "512px",
    "width": "252px"
   },
   "navigate_menu": true,
   "number_sections": true,
   "sideBar": true,
   "threshold": 4,
   "toc_cell": true,
   "toc_position": {
    "height": "1381px",
    "left": "0px",
    "right": "1210.23px",
    "top": "107px",
    "width": "299px"
   },
   "toc_section_display": "block",
   "toc_window_display": true
  }
 },
 "nbformat": 4,
 "nbformat_minor": 1
}