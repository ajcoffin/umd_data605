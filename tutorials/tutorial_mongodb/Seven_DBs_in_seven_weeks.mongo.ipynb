{
 "cells": [
  {
   "cell_type": "markdown",
   "id": "b81e29fa",
   "metadata": {
    "ExecuteTime": {
     "end_time": "2022-12-12T08:39:33.311645Z",
     "start_time": "2022-12-12T08:39:33.307763Z"
    }
   },
   "source": [
    "## Functions"
   ]
  },
  {
   "cell_type": "code",
   "execution_count": 4,
   "id": "b8b36a48",
   "metadata": {
    "ExecuteTime": {
     "end_time": "2023-03-03T00:38:27.614097Z",
     "start_time": "2023-03-03T00:38:27.606515Z"
    }
   },
   "outputs": [],
   "source": [
    "#!pip3 install rich\n",
    "\n",
    "import pprint\n",
    "\n",
    "def print_(cursor, mode=\"pprint\", tag=\"\"):\n",
    "    \"\"\"\n",
    "    Print collection.\n",
    "    \"\"\"\n",
    "    if tag:\n",
    "        print(\"%s=\" % tag)\n",
    "    if isinstance(cursor, pymongo.cursor.Cursor):\n",
    "        # Serialize a cursor into a list.\n",
    "        obj = list(cursor)\n",
    "    else:\n",
    "        obj = cursor\n",
    "    if mode in (\"json\", \"json_color\"):\n",
    "        import json\n",
    "\n",
    "        parsed = json.loads(json.dumps(obj))\n",
    "        if mode == \"json\":\n",
    "            print(json.dumps(parsed, indent=2))\n",
    "        else:\n",
    "            import rich\n",
    "\n",
    "            rich.print_json(json.dumps(parsed, indent=2))\n",
    "    elif mode == \"pprint\":\n",
    "        pprint.pprint(obj)\n",
    "    else:\n",
    "        raise ValueError(f\"Invalid mode='{mode}'\")"
   ]
  },
  {
   "cell_type": "markdown",
   "id": "54cb6dae",
   "metadata": {},
   "source": [
    "# Connect to DB"
   ]
  },
  {
   "cell_type": "code",
   "execution_count": 1,
   "id": "c154b397",
   "metadata": {
    "ExecuteTime": {
     "end_time": "2023-03-03T00:36:48.421010Z",
     "start_time": "2023-03-03T00:36:47.547916Z"
    }
   },
   "outputs": [
    {
     "name": "stdout",
     "output_type": "stream",
     "text": [
      "db= Database(MongoClient(host=['localhost:27017'], document_class=dict, tz_aware=False, connect=True), 'book')\n",
      "type(db)= <class 'pymongo.database.Database'>\n"
     ]
    }
   ],
   "source": [
    "import pymongo\n",
    "from bson.objectid import ObjectId\n",
    "\n",
    "# Connect to MongoDB instance.\n",
    "client = pymongo.MongoClient(\"localhost\", 27017)\n",
    "\n",
    "# Create a Mongo database.\n",
    "db = client[\"book\"]\n",
    "print(\"db=\", db)\n",
    "print(\"type(db)=\", type(db))"
   ]
  },
  {
   "cell_type": "code",
   "execution_count": 2,
   "id": "759ef6d9",
   "metadata": {
    "ExecuteTime": {
     "end_time": "2023-03-03T00:37:50.309040Z",
     "start_time": "2023-03-03T00:37:50.292877Z"
    }
   },
   "outputs": [
    {
     "name": "stdout",
     "output_type": "stream",
     "text": [
      "collections= []\n",
      "collections= []\n"
     ]
    }
   ],
   "source": [
    "# Show all the collections in the DB.\n",
    "print(\"collections=\", db.list_collection_names())\n",
    "\n",
    "# Clean all the collections.\n",
    "for collection_name in db.list_collection_names():\n",
    "    print(\"Dropping collection %s\" % collection_name)\n",
    "    db[collection_name].drop()\n",
    "\n",
    "# Show all the collections in the DB.\n",
    "print(\"collections=\", db.list_collection_names())"
   ]
  },
  {
   "cell_type": "markdown",
   "id": "2a0d7edb",
   "metadata": {},
   "source": [
    "# `Towns` collection"
   ]
  },
  {
   "cell_type": "markdown",
   "id": "e49587c1",
   "metadata": {},
   "source": [
    "## Insert"
   ]
  },
  {
   "cell_type": "code",
   "execution_count": 5,
   "id": "18ec99ff",
   "metadata": {
    "ExecuteTime": {
     "end_time": "2023-03-03T00:38:33.914342Z",
     "start_time": "2023-03-03T00:38:33.869156Z"
    }
   },
   "outputs": [
    {
     "name": "stdout",
     "output_type": "stream",
     "text": [
      "dict_=\n",
      "{'famousFor': ['the MOMA', 'food', 'Derek Jeter'],\n",
      " 'lastCensus': '2022-11-01',\n",
      " 'mayor': {'name': 'Bill de Blasio', 'party': 'D'},\n",
      " 'name': 'New York',\n",
      " 'population': 22200000}\n",
      "val= <pymongo.results.InsertOneResult object at 0x7f4abc637730>\n",
      "obj_id= 6401418975c2a240666d17ea\n",
      "['_InsertOneResult__inserted_id', '_WriteResult__acknowledged', '__class__', '__delattr__', '__dir__', '__doc__', '__eq__', '__format__', '__ge__', '__getattribute__', '__gt__', '__hash__', '__init__', '__init_subclass__', '__le__', '__lt__', '__module__', '__ne__', '__new__', '__reduce__', '__reduce_ex__', '__repr__', '__setattr__', '__sizeof__', '__slots__', '__str__', '__subclasshook__', '_raise_if_unacknowledged', 'acknowledged', 'inserted_id']\n"
     ]
    }
   ],
   "source": [
    "dict_ = {\n",
    "    \"name\": \"New York\",\n",
    "    \"population\": 22200000,\n",
    "    \"lastCensus\": \"2022-11-01\",\n",
    "    \"famousFor\": [\"the MOMA\", \"food\", \"Derek Jeter\"],\n",
    "    \"mayor\": {\"name\": \"Bill de Blasio\", \"party\": \"D\"},\n",
    "}\n",
    "print_(dict_, tag=\"dict_\")\n",
    "\n",
    "# Inserting an object in a DB creates a DB.\n",
    "val = db.towns.insert_one(dict_)\n",
    "print(\"val=\", val)\n",
    "print(\"obj_id=\", val.inserted_id)\n",
    "print(dir(val))"
   ]
  },
  {
   "cell_type": "code",
   "execution_count": 6,
   "id": "62282ab2",
   "metadata": {
    "ExecuteTime": {
     "end_time": "2023-03-03T00:40:33.338774Z",
     "start_time": "2023-03-03T00:40:33.328389Z"
    }
   },
   "outputs": [
    {
     "data": {
      "text/plain": [
       "['towns']"
      ]
     },
     "execution_count": 6,
     "metadata": {},
     "output_type": "execute_result"
    }
   ],
   "source": [
    "# Show all the collections.\n",
    "db.list_collection_names()"
   ]
  },
  {
   "cell_type": "code",
   "execution_count": 7,
   "id": "03484689",
   "metadata": {
    "ExecuteTime": {
     "end_time": "2023-03-03T00:40:47.636370Z",
     "start_time": "2023-03-03T00:40:47.617931Z"
    }
   },
   "outputs": [
    {
     "name": "stdout",
     "output_type": "stream",
     "text": [
      "{'_id': ObjectId('6401418975c2a240666d17ea'),\n",
      " 'famousFor': ['the MOMA', 'food', 'Derek Jeter'],\n",
      " 'lastCensus': '2022-11-01',\n",
      " 'mayor': {'name': 'Bill de Blasio', 'party': 'D'},\n",
      " 'name': 'New York',\n",
      " 'population': 22200000}\n"
     ]
    }
   ],
   "source": [
    "# Scan the collection.\n",
    "for obj in db.towns.find():\n",
    "    # _id is like the primary key.\n",
    "    print_(obj, mode=\"pprint\")"
   ]
  },
  {
   "cell_type": "code",
   "execution_count": 8,
   "id": "78759be9",
   "metadata": {
    "ExecuteTime": {
     "end_time": "2023-03-03T00:42:57.673506Z",
     "start_time": "2023-03-03T00:42:57.664768Z"
    }
   },
   "outputs": [],
   "source": [
    "# Insert more data in the collection.\n",
    "def insert_city(name, population, lastCensus, famousFor, mayor):\n",
    "    db.towns.insert_one(\n",
    "        {\n",
    "            \"name\": name,\n",
    "            \"population\": population,\n",
    "            \"lastCensus\": lastCensus,\n",
    "            \"famousFor\": famousFor,\n",
    "            \"mayor\": mayor,\n",
    "        }\n",
    "    )\n",
    "\n",
    "\n",
    "insert_city(\n",
    "    \"Punxsutawney\",\n",
    "    6200,\n",
    "    \"2016-01-31\",\n",
    "    [\"Punxsutawney Phil\"],\n",
    "    # mayor.\n",
    "    {\"name\": \"Richard Alexander\"},\n",
    ")\n",
    "\n",
    "insert_city(\n",
    "    \"Portland\",\n",
    "    582000,\n",
    "    \"2016-09-20\",\n",
    "    [\"beer\", \"food\", \"Portlandia\"],\n",
    "    # mayor.\n",
    "    {\"name\": \"Ted Wheeler\", \"party\": \"D\"},\n",
    ")\n",
    "\n",
    "# Note that `mayor` field doesn't have a strict schema."
   ]
  },
  {
   "cell_type": "code",
   "execution_count": 9,
   "id": "41922c73",
   "metadata": {
    "ExecuteTime": {
     "end_time": "2023-03-03T00:43:00.304037Z",
     "start_time": "2023-03-03T00:43:00.296504Z"
    }
   },
   "outputs": [
    {
     "name": "stdout",
     "output_type": "stream",
     "text": [
      "{'_id': ObjectId('6401418975c2a240666d17ea'),\n",
      " 'famousFor': ['the MOMA', 'food', 'Derek Jeter'],\n",
      " 'lastCensus': '2022-11-01',\n",
      " 'mayor': {'name': 'Bill de Blasio', 'party': 'D'},\n",
      " 'name': 'New York',\n",
      " 'population': 22200000}\n",
      "{'_id': ObjectId('6401429175c2a240666d17eb'),\n",
      " 'famousFor': ['Punxsutawney Phil'],\n",
      " 'lastCensus': '2016-01-31',\n",
      " 'mayor': {'name': 'Richard Alexander'},\n",
      " 'name': 'Punxsutawney',\n",
      " 'population': 6200}\n",
      "{'_id': ObjectId('6401429175c2a240666d17ec'),\n",
      " 'famousFor': ['beer', 'food', 'Portlandia'],\n",
      " 'lastCensus': '2016-09-20',\n",
      " 'mayor': {'name': 'Ted Wheeler', 'party': 'D'},\n",
      " 'name': 'Portland',\n",
      " 'population': 582000}\n"
     ]
    }
   ],
   "source": [
    "# Print all the documents in db[\"towns\"].\n",
    "for obj in db.towns.find():\n",
    "    print_(obj, mode=\"pprint\")"
   ]
  },
  {
   "cell_type": "markdown",
   "id": "09b5d637",
   "metadata": {},
   "source": [
    "## Query"
   ]
  },
  {
   "cell_type": "code",
   "execution_count": 10,
   "id": "002b259e",
   "metadata": {
    "ExecuteTime": {
     "end_time": "2023-03-03T00:43:33.642708Z",
     "start_time": "2023-03-03T00:43:33.632921Z"
    }
   },
   "outputs": [
    {
     "data": {
      "text/plain": [
       "{'_id': ObjectId('6401418975c2a240666d17ea'),\n",
       " 'name': 'New York',\n",
       " 'population': 22200000,\n",
       " 'lastCensus': '2022-11-01',\n",
       " 'famousFor': ['the MOMA', 'food', 'Derek Jeter'],\n",
       " 'mayor': {'name': 'Bill de Blasio', 'party': 'D'}}"
      ]
     },
     "execution_count": 10,
     "metadata": {},
     "output_type": "execute_result"
    }
   ],
   "source": [
    "# Find by ObjectId.\n",
    "# db.towns.find_one({\"_id\": ObjectId(\"6368352a657571ee34691dd9\")})\n",
    "db.towns.find_one({\"_id\": val.inserted_id})"
   ]
  },
  {
   "cell_type": "code",
   "execution_count": 12,
   "id": "5862d112",
   "metadata": {
    "ExecuteTime": {
     "end_time": "2023-03-03T00:44:38.643422Z",
     "start_time": "2023-03-03T00:44:38.635296Z"
    }
   },
   "outputs": [
    {
     "data": {
      "text/plain": [
       "{'_id': ObjectId('6401418975c2a240666d17ea'), 'name': 'New York'}"
      ]
     },
     "execution_count": 12,
     "metadata": {},
     "output_type": "execute_result"
    }
   ],
   "source": [
    "# Retrieve only the field `name` (i.e., projection).\n",
    "object_id = ObjectId(str(val.inserted_id))\n",
    "db.towns.find_one({\"_id\": object_id}, {\"name\": 1})"
   ]
  },
  {
   "cell_type": "code",
   "execution_count": 13,
   "id": "f82faa87",
   "metadata": {
    "ExecuteTime": {
     "end_time": "2023-03-03T00:44:40.337336Z",
     "start_time": "2023-03-03T00:44:40.325182Z"
    }
   },
   "outputs": [
    {
     "data": {
      "text/plain": [
       "{'_id': ObjectId('6401418975c2a240666d17ea'),\n",
       " 'population': 22200000,\n",
       " 'lastCensus': '2022-11-01',\n",
       " 'famousFor': ['the MOMA', 'food', 'Derek Jeter'],\n",
       " 'mayor': {'name': 'Bill de Blasio', 'party': 'D'}}"
      ]
     },
     "execution_count": 13,
     "metadata": {},
     "output_type": "execute_result"
    }
   ],
   "source": [
    "# Retrieve all fields excluding `name`.\n",
    "db.towns.find_one({\"_id\": ObjectId(str(val.inserted_id))}, {\"name\": 0})"
   ]
  },
  {
   "cell_type": "code",
   "execution_count": 14,
   "id": "ee63a1aa",
   "metadata": {
    "ExecuteTime": {
     "end_time": "2023-03-03T00:44:51.146468Z",
     "start_time": "2023-03-03T00:44:51.134764Z"
    }
   },
   "outputs": [
    {
     "name": "stdout",
     "output_type": "stream",
     "text": [
      "[{'_id': ObjectId('6401429175c2a240666d17eb'),\n",
      "  'famousFor': ['Punxsutawney Phil'],\n",
      "  'lastCensus': '2016-01-31',\n",
      "  'mayor': {'name': 'Richard Alexander'},\n",
      "  'name': 'Punxsutawney',\n",
      "  'population': 6200},\n",
      " {'_id': ObjectId('6401429175c2a240666d17ec'),\n",
      "  'famousFor': ['beer', 'food', 'Portlandia'],\n",
      "  'lastCensus': '2016-09-20',\n",
      "  'mayor': {'name': 'Ted Wheeler', 'party': 'D'},\n",
      "  'name': 'Portland',\n",
      "  'population': 582000}]\n"
     ]
    }
   ],
   "source": [
    "# Find all towns with name starting with P.\n",
    "# This is going to do a table scan.\n",
    "print_(db.towns.find({\"name\": {\"$regex\": r\"^P\"}}))"
   ]
  },
  {
   "cell_type": "code",
   "execution_count": 15,
   "id": "131f7804",
   "metadata": {
    "ExecuteTime": {
     "end_time": "2023-03-03T00:45:12.810538Z",
     "start_time": "2023-03-03T00:45:12.803015Z"
    }
   },
   "outputs": [
    {
     "name": "stdout",
     "output_type": "stream",
     "text": [
      "[{'name': 'Punxsutawney'}, {'name': 'Portland'}]\n"
     ]
    }
   ],
   "source": [
    "# Find all towns with name starting with P, but print only name.\n",
    "print_(db.towns.find({\"name\": {\"$regex\": r\"^P\"}}, {\"_id\": 0, \"name\": 1}))"
   ]
  },
  {
   "cell_type": "code",
   "execution_count": 16,
   "id": "06820a5c",
   "metadata": {
    "ExecuteTime": {
     "end_time": "2023-03-03T00:45:40.257461Z",
     "start_time": "2023-03-03T00:45:40.247791Z"
    }
   },
   "outputs": [
    {
     "name": "stdout",
     "output_type": "stream",
     "text": [
      "[{'_id': ObjectId('6401429175c2a240666d17eb'),\n",
      "  'famousFor': ['Punxsutawney Phil'],\n",
      "  'lastCensus': '2016-01-31',\n",
      "  'mayor': {'name': 'Richard Alexander'},\n",
      "  'name': 'Punxsutawney',\n",
      "  'population': 6200}]\n"
     ]
    }
   ],
   "source": [
    "# Find all towns with name that begins with P and have population less than 100,000.\n",
    "print_(db.towns.find({\"name\": {\"$regex\": r\"^P\"}, \"population\": {\"$lt\": 100000}}))"
   ]
  },
  {
   "cell_type": "code",
   "execution_count": 17,
   "id": "bc5c3ac4",
   "metadata": {
    "ExecuteTime": {
     "end_time": "2023-03-03T00:45:47.404242Z",
     "start_time": "2023-03-03T00:45:47.397703Z"
    }
   },
   "outputs": [
    {
     "name": "stdout",
     "output_type": "stream",
     "text": [
      "[{'famousFor': ['the MOMA', 'food', 'Derek Jeter'], 'name': 'New York'},\n",
      " {'famousFor': ['beer', 'food', 'Portlandia'], 'name': 'Portland'}]\n"
     ]
    }
   ],
   "source": [
    "# Projection.\n",
    "print_(db.towns.find({\"famousFor\": \"food\"}, {\"_id\": 0, \"name\": 1, \"famousFor\": 1}))\n",
    "\n",
    "# Note that the equality with an array is interpreted as \"in\"."
   ]
  },
  {
   "cell_type": "code",
   "execution_count": 18,
   "id": "fb47ebc8",
   "metadata": {
    "ExecuteTime": {
     "end_time": "2023-03-03T00:46:51.746903Z",
     "start_time": "2023-03-03T00:46:51.739940Z"
    }
   },
   "outputs": [
    {
     "name": "stdout",
     "output_type": "stream",
     "text": [
      "[{'famousFor': ['beer', 'food', 'Portlandia'], 'name': 'Portland'}]\n"
     ]
    }
   ],
   "source": [
    "# Query for matching values.\n",
    "print_(\n",
    "    db.towns.find(\n",
    "        {\"famousFor\": {\"$all\": [\"food\", \"beer\"]}}, {\"_id\": 0, \"name\": 1, \"famousFor\": 1}\n",
    "    )\n",
    ")"
   ]
  },
  {
   "cell_type": "code",
   "execution_count": 19,
   "id": "0e793018",
   "metadata": {
    "ExecuteTime": {
     "end_time": "2023-03-03T00:47:05.586985Z",
     "start_time": "2023-03-03T00:47:05.577717Z"
    }
   },
   "outputs": [
    {
     "name": "stdout",
     "output_type": "stream",
     "text": [
      "[{'famousFor': ['Punxsutawney Phil'], 'name': 'Punxsutawney'}]\n"
     ]
    }
   ],
   "source": [
    "# Query for lack of matching values.\n",
    "print_(\n",
    "    db.towns.find(\n",
    "        {\"famousFor\": {\"$nin\": [\"food\", \"beer\"]}}, {\"_id\": 0, \"name\": 1, \"famousFor\": 1}\n",
    "    )\n",
    ")"
   ]
  },
  {
   "cell_type": "code",
   "execution_count": 20,
   "id": "d468cfee",
   "metadata": {
    "ExecuteTime": {
     "end_time": "2023-03-03T00:47:12.322316Z",
     "start_time": "2023-03-03T00:47:12.312216Z"
    }
   },
   "outputs": [
    {
     "name": "stdout",
     "output_type": "stream",
     "text": [
      "[{'_id': ObjectId('6401418975c2a240666d17ea'),\n",
      "  'famousFor': ['the MOMA', 'food', 'Derek Jeter'],\n",
      "  'lastCensus': '2022-11-01',\n",
      "  'mayor': {'name': 'Bill de Blasio', 'party': 'D'},\n",
      "  'name': 'New York',\n",
      "  'population': 22200000},\n",
      " {'_id': ObjectId('6401429175c2a240666d17ec'),\n",
      "  'famousFor': ['beer', 'food', 'Portlandia'],\n",
      "  'lastCensus': '2016-09-20',\n",
      "  'mayor': {'name': 'Ted Wheeler', 'party': 'D'},\n",
      "  'name': 'Portland',\n",
      "  'population': 582000}]\n"
     ]
    }
   ],
   "source": [
    "# Find results with nested search criteria, e.g., mayor.party = \"D\".\n",
    "print_(db.towns.find({\"mayor.party\": \"D\"}))"
   ]
  },
  {
   "cell_type": "markdown",
   "id": "40387231",
   "metadata": {},
   "source": [
    "## Updating"
   ]
  },
  {
   "cell_type": "code",
   "execution_count": 21,
   "id": "b6cfadc4",
   "metadata": {
    "ExecuteTime": {
     "end_time": "2023-03-03T00:47:40.082265Z",
     "start_time": "2023-03-03T00:47:40.075853Z"
    }
   },
   "outputs": [
    {
     "name": "stdout",
     "output_type": "stream",
     "text": [
      "[{'_id': ObjectId('6401418975c2a240666d17ea'),\n",
      "  'famousFor': ['the MOMA', 'food', 'Derek Jeter'],\n",
      "  'lastCensus': '2022-11-01',\n",
      "  'mayor': {'name': 'Bill de Blasio', 'party': 'D'},\n",
      "  'name': 'New York',\n",
      "  'population': 22200000},\n",
      " {'_id': ObjectId('6401429175c2a240666d17eb'),\n",
      "  'famousFor': ['Punxsutawney Phil'],\n",
      "  'lastCensus': '2016-01-31',\n",
      "  'mayor': {'name': 'Richard Alexander'},\n",
      "  'name': 'Punxsutawney',\n",
      "  'population': 6200},\n",
      " {'_id': ObjectId('6401429175c2a240666d17ec'),\n",
      "  'famousFor': ['beer', 'food', 'Portlandia'],\n",
      "  'lastCensus': '2016-09-20',\n",
      "  'mayor': {'name': 'Ted Wheeler', 'party': 'D'},\n",
      "  'name': 'Portland',\n",
      "  'population': 582000}]\n"
     ]
    }
   ],
   "source": [
    "print_(db.towns.find())"
   ]
  },
  {
   "cell_type": "code",
   "execution_count": 24,
   "id": "60bdb69b",
   "metadata": {
    "ExecuteTime": {
     "end_time": "2023-03-03T00:48:20.696035Z",
     "start_time": "2023-03-03T00:48:20.687353Z"
    }
   },
   "outputs": [
    {
     "name": "stdout",
     "output_type": "stream",
     "text": [
      "object_id_for_Portland= 6401429175c2a240666d17ec\n",
      "None\n"
     ]
    }
   ],
   "source": [
    "# Find the ID for a given document.\n",
    "object_id_for_Portland = str(db.towns.find_one({\"name\": \"Portland\"})[\"_id\"])\n",
    "print(\"object_id_for_Portland=\", object_id_for_Portland)\n",
    "\n",
    "# Note that types matter, so searching for an _id as string doesn't work.\n",
    "#print_(db.towns.find_one({\"_id\": object_id_for_Portland}))\n",
    "print_(db.towns.find_one({\"_id\": ObjectId(object_id_for_Portland)}))"
   ]
  },
  {
   "cell_type": "code",
   "execution_count": 25,
   "id": "2ee0970d",
   "metadata": {
    "ExecuteTime": {
     "end_time": "2023-03-03T00:49:16.803833Z",
     "start_time": "2023-03-03T00:49:16.788790Z"
    }
   },
   "outputs": [
    {
     "name": "stdout",
     "output_type": "stream",
     "text": [
      "[{'_id': ObjectId('6401429175c2a240666d17ec'),\n",
      "  'famousFor': ['beer', 'food', 'Portlandia'],\n",
      "  'lastCensus': '2016-09-20',\n",
      "  'mayor': {'name': 'Ted Wheeler', 'party': 'D'},\n",
      "  'name': 'Portland',\n",
      "  'population': 582000,\n",
      "  'state': 'OR'}]\n"
     ]
    }
   ],
   "source": [
    "# There are multiple cities called Portland in US (e.g., in Oregon and in Maine).\n",
    "# So add the state.\n",
    "db.towns.update_one(\n",
    "    {\"_id\": ObjectId(object_id_for_Portland)}, {\"$set\": {\"state\": \"OR\"}}\n",
    ")\n",
    "\n",
    "print_(db.towns.find({\"_id\": ObjectId(object_id_for_Portland)}))\n",
    "\n",
    "# Note that we need to specify $set.\n",
    "# Mongo thinks in terms of documents and not attributes. So if you specify:\n",
    "# db.towns.update_one({\"_id\": ObjectId(\"63696c28657571ee34691de3\")},\n",
    "#                     {\"state\": \"OR\"})\n",
    "# the entire document will be replaced with the document `{\"state\": \"OR\"}`"
   ]
  },
  {
   "cell_type": "code",
   "execution_count": 26,
   "id": "aed4f136",
   "metadata": {
    "ExecuteTime": {
     "end_time": "2023-03-03T00:49:50.408232Z",
     "start_time": "2023-03-03T00:49:50.394511Z"
    }
   },
   "outputs": [
    {
     "name": "stdout",
     "output_type": "stream",
     "text": [
      "[{'_id': ObjectId('6401429175c2a240666d17ec'),\n",
      "  'famousFor': ['beer', 'food', 'Portlandia'],\n",
      "  'lastCensus': '2016-09-20',\n",
      "  'mayor': {'name': 'Ted Wheeler', 'party': 'D'},\n",
      "  'name': 'Portland',\n",
      "  'population': 583000,\n",
      "  'state': 'OR'}]\n"
     ]
    }
   ],
   "source": [
    "# Increment the population.\n",
    "db.towns.update_one(\n",
    "    {\"_id\": ObjectId(object_id_for_Portland)}, {\"$inc\": {\"population\": 1000}}\n",
    ")\n",
    "print_(db.towns.find({\"_id\": ObjectId(object_id_for_Portland)}))"
   ]
  },
  {
   "cell_type": "markdown",
   "id": "f4c8d02d",
   "metadata": {},
   "source": [
    "# `countries` collection"
   ]
  },
  {
   "cell_type": "markdown",
   "id": "1abff33b",
   "metadata": {},
   "source": [
    "## Insert"
   ]
  },
  {
   "cell_type": "code",
   "execution_count": 28,
   "id": "1d4fc37b",
   "metadata": {
    "ExecuteTime": {
     "end_time": "2023-03-03T00:51:42.304375Z",
     "start_time": "2023-03-03T00:51:42.239799Z"
    }
   },
   "outputs": [],
   "source": [
    "# Delete collection, if it exists.\n",
    "db.countries.drop()\n",
    "\n",
    "# Note that:\n",
    "# 1) we define the _id directly\n",
    "# 2) the schema is not strict\n",
    "db.countries.insert_one({\n",
    "    \"_id\": \"us\",\n",
    "    \"name\": \"United States\",\n",
    "    \"exports\": {\n",
    "        \"foods\": [{\n",
    "            \"name\": \"bacon\",\n",
    "            \"tasty\": True\n",
    "        }, {\n",
    "            \"name\": \"burgers\"\n",
    "        }]\n",
    "    },\n",
    "})\n",
    "\n",
    "db.countries.insert_one({\n",
    "    \"_id\": \"ca\",\n",
    "    \"name\": \"Canada\",\n",
    "    \"exports\": {\n",
    "        \"foods\": [\n",
    "            {\n",
    "                \"name\": \"bacon\",\n",
    "                \"tasty\": False\n",
    "            },\n",
    "            {\n",
    "                \"name\": \"syrup\",\n",
    "                \"tasty\": True\n",
    "            },\n",
    "        ]\n",
    "    },\n",
    "})\n",
    "\n",
    "db.countries.insert_one({\n",
    "    \"_id\": \"mx\",\n",
    "    \"name\": \"Mexico\",\n",
    "    \"exports\": {\n",
    "        \"foods\": [{\n",
    "            \"name\": \"salsa\",\n",
    "            \"tasty\": True,\n",
    "            \"condiment\": True\n",
    "        }]\n",
    "    },\n",
    "})\n",
    "\n",
    "assert db.countries.count_documents({}) == 3"
   ]
  },
  {
   "cell_type": "code",
   "execution_count": 29,
   "id": "4222acc4",
   "metadata": {
    "ExecuteTime": {
     "end_time": "2023-03-03T00:51:46.863434Z",
     "start_time": "2023-03-03T00:51:46.857453Z"
    }
   },
   "outputs": [
    {
     "name": "stdout",
     "output_type": "stream",
     "text": [
      "{'_id': 'us',\n",
      " 'exports': {'foods': [{'name': 'bacon', 'tasty': True}, {'name': 'burgers'}]},\n",
      " 'name': 'United States'}\n",
      "{'_id': 'ca',\n",
      " 'exports': {'foods': [{'name': 'bacon', 'tasty': False},\n",
      "                       {'name': 'syrup', 'tasty': True}]},\n",
      " 'name': 'Canada'}\n",
      "{'_id': 'mx',\n",
      " 'exports': {'foods': [{'condiment': True, 'name': 'salsa', 'tasty': True}]},\n",
      " 'name': 'Mexico'}\n"
     ]
    }
   ],
   "source": [
    "for obj in db[\"countries\"].find():\n",
    "    print_(obj)"
   ]
  },
  {
   "cell_type": "markdown",
   "id": "bb7f5d74",
   "metadata": {
    "ExecuteTime": {
     "end_time": "2022-12-11T20:04:52.749811Z",
     "start_time": "2022-12-11T20:04:52.745417Z"
    }
   },
   "source": [
    "## Query"
   ]
  },
  {
   "cell_type": "code",
   "execution_count": 30,
   "id": "15a09a95",
   "metadata": {
    "ExecuteTime": {
     "end_time": "2023-03-03T00:52:51.433126Z",
     "start_time": "2023-03-03T00:52:51.426180Z"
    }
   },
   "outputs": [
    {
     "name": "stdout",
     "output_type": "stream",
     "text": [
      "[{'name': 'United States'}, {'name': 'Canada'}]\n"
     ]
    }
   ],
   "source": [
    "# Find the country that exports tasty bacon.\n",
    "\n",
    "# This doesn't return what we want, since we want the AND of the condition and not OR.\n",
    "print_(\n",
    "    db.countries.find(\n",
    "        {\n",
    "            \"exports.foods.name\": \"bacon\",\n",
    "            \"exports.foods.tasty\": True,\n",
    "        },\n",
    "        {\"_id\": 0, \"name\": 1},\n",
    "    )\n",
    ")"
   ]
  },
  {
   "cell_type": "code",
   "execution_count": 31,
   "id": "47200eca",
   "metadata": {
    "ExecuteTime": {
     "end_time": "2023-03-03T00:53:22.819816Z",
     "start_time": "2023-03-03T00:53:22.807784Z"
    }
   },
   "outputs": [
    {
     "name": "stdout",
     "output_type": "stream",
     "text": [
      "[{'name': 'United States'}]\n"
     ]
    }
   ],
   "source": [
    "# Using $elemMatch.\n",
    "print_(\n",
    "    db.countries.find(\n",
    "        {\n",
    "            \"exports.foods\": {\n",
    "                \"$elemMatch\": {\n",
    "                    \"name\": \"bacon\",\n",
    "                    \"tasty\": True,\n",
    "                }\n",
    "            }\n",
    "        },\n",
    "        {\"_id\": 0, \"name\": 1},\n",
    "    )\n",
    ")"
   ]
  },
  {
   "cell_type": "code",
   "execution_count": null,
   "id": "613161e3",
   "metadata": {
    "ExecuteTime": {
     "end_time": "2023-02-26T13:41:44.073236Z",
     "start_time": "2023-02-26T13:41:44.061868Z"
    }
   },
   "outputs": [],
   "source": [
    "# This performs an AND.\n",
    "print_(db.countries.find({\"_id\": \"mx\", \"name\": \"United States\"}))\n",
    "\n",
    "# This performs an OR.\n",
    "print_(\n",
    "    db.countries.find({\"$or\": [{\"_id\": \"mx\"}, {\"name\": \"United States\"}]}, {\"_id\": 1})\n",
    ")"
   ]
  },
  {
   "cell_type": "markdown",
   "id": "ee54d750",
   "metadata": {},
   "source": [
    "## References"
   ]
  },
  {
   "cell_type": "code",
   "execution_count": null,
   "id": "4d0bd31b",
   "metadata": {
    "ExecuteTime": {
     "end_time": "2023-02-26T13:41:44.091154Z",
     "start_time": "2023-02-26T13:41:44.083028Z"
    }
   },
   "outputs": [],
   "source": [
    "object_id_for_Pun = ObjectId(str(db.towns.find_one({\"name\": \"Punxsutawney\"})[\"_id\"]))\n",
    "print(\"object_id_for_Pun=\", object_id_for_Pun)"
   ]
  },
  {
   "cell_type": "code",
   "execution_count": null,
   "id": "aebb47b5",
   "metadata": {
    "ExecuteTime": {
     "end_time": "2023-02-26T13:41:44.106304Z",
     "start_time": "2023-02-26T13:41:44.095729Z"
    }
   },
   "outputs": [],
   "source": [
    "# Mongo is not built to perform joins.\n",
    "# It is useful to have documents reference each other.\n",
    "db.towns.update_one(\n",
    "    {\"_id\": object_id_for_Pun},\n",
    "    {\"$set\": {\"country\": {\"$ref\": \"countries\", \"$id\": \"us\"}}},\n",
    ")\n",
    "\n",
    "print_(db.towns.find_one({\"_id\": object_id_for_Pun}))"
   ]
  },
  {
   "cell_type": "code",
   "execution_count": null,
   "id": "a7f8ee5f",
   "metadata": {
    "ExecuteTime": {
     "end_time": "2023-02-26T13:41:44.120141Z",
     "start_time": "2023-02-26T13:41:44.111886Z"
    }
   },
   "outputs": [],
   "source": [
    "var = db.towns.find_one({\"_id\": object_id_for_Pun})\n",
    "print(\"var=\", var)\n",
    "print('var[\"country\"]=', var[\"country\"])\n",
    "# Dereference.\n",
    "print(var[\"country\"].id)"
   ]
  },
  {
   "cell_type": "markdown",
   "id": "2ee908fc",
   "metadata": {},
   "source": [
    "## Delete"
   ]
  },
  {
   "cell_type": "code",
   "execution_count": null,
   "id": "9acfe3c3",
   "metadata": {
    "ExecuteTime": {
     "end_time": "2023-02-26T13:41:44.133079Z",
     "start_time": "2023-02-26T13:41:44.124942Z"
    }
   },
   "outputs": [],
   "source": [
    "# Find all contries where the bacon is not tasty.\n",
    "bad_bacon = {\n",
    "    \"exports.foods\": {\n",
    "        \"$elemMatch\": {\n",
    "            \"name\": \"bacon\",\n",
    "            \"tasty\": False,\n",
    "        }\n",
    "    }\n",
    "}\n",
    "print_(db.countries.find(bad_bacon))"
   ]
  },
  {
   "cell_type": "code",
   "execution_count": null,
   "id": "bf89d37f",
   "metadata": {
    "ExecuteTime": {
     "end_time": "2023-02-26T13:41:44.145403Z",
     "start_time": "2023-02-26T13:41:44.137516Z"
    }
   },
   "outputs": [],
   "source": [
    "print_(db.countries.find())"
   ]
  },
  {
   "cell_type": "code",
   "execution_count": null,
   "id": "897db66f",
   "metadata": {
    "ExecuteTime": {
     "end_time": "2023-02-26T13:41:44.171840Z",
     "start_time": "2023-02-26T13:41:44.150394Z"
    }
   },
   "outputs": [],
   "source": [
    "print(\"count=\", db.countries.count_documents({}))\n",
    "db.countries.delete_many(bad_bacon)\n",
    "print(\"count=\", db.countries.count_documents({}))"
   ]
  },
  {
   "cell_type": "markdown",
   "id": "97788f7e",
   "metadata": {},
   "source": [
    "## Query with code"
   ]
  },
  {
   "cell_type": "markdown",
   "id": "33de562e",
   "metadata": {},
   "source": [
    "# Indexing"
   ]
  },
  {
   "cell_type": "code",
   "execution_count": 32,
   "id": "738f256b",
   "metadata": {
    "ExecuteTime": {
     "end_time": "2023-03-03T00:55:46.628099Z",
     "start_time": "2023-03-03T00:54:51.079152Z"
    }
   },
   "outputs": [],
   "source": [
    "import random\n",
    "\n",
    "random.seed(1)\n",
    "\n",
    "\n",
    "def populatePhones(area, start, stop):\n",
    "    for i in range(start, stop):\n",
    "        country = 1 + random.randint(1, 8)\n",
    "        num = int(country * 1e10 + area * 1e7 + i)\n",
    "        # +4 800-5550000\n",
    "        full_number = \"+%s %s-%s\" % (country, area, i)\n",
    "        # print(num, full_number)\n",
    "        # assert 0\n",
    "        db.phones.insert_one(\n",
    "            {\n",
    "                \"_id\": num,\n",
    "                \"components\": {\n",
    "                    \"country\": country,\n",
    "                    \"area\": area,\n",
    "                    \"number\": i,\n",
    "                },\n",
    "                \"display\": full_number,\n",
    "            }\n",
    "        )\n",
    "\n",
    "\n",
    "# Generate 100,000 phone numbers (it may take a while), between 1-800-555-0000 and 1-800-565-0000.\n",
    "db.phones.drop()\n",
    "populatePhones(800, 5550000, 5650000)"
   ]
  },
  {
   "cell_type": "code",
   "execution_count": 33,
   "id": "c8d12e8e",
   "metadata": {
    "ExecuteTime": {
     "end_time": "2023-03-03T00:55:46.743340Z",
     "start_time": "2023-03-03T00:55:46.631907Z"
    }
   },
   "outputs": [
    {
     "name": "stdout",
     "output_type": "stream",
     "text": [
      "100000\n"
     ]
    }
   ],
   "source": [
    "print(db.phones.count_documents({}))"
   ]
  },
  {
   "cell_type": "code",
   "execution_count": 34,
   "id": "dc53da00",
   "metadata": {
    "ExecuteTime": {
     "end_time": "2023-03-03T00:56:05.517381Z",
     "start_time": "2023-03-03T00:56:05.507391Z"
    }
   },
   "outputs": [
    {
     "name": "stdout",
     "output_type": "stream",
     "text": [
      "[{'_id': 48005550000,\n",
      "  'components': {'area': 800, 'country': 4, 'number': 5550000},\n",
      "  'display': '+4 800-5550000'},\n",
      " {'_id': 38005550001,\n",
      "  'components': {'area': 800, 'country': 3, 'number': 5550001},\n",
      "  'display': '+3 800-5550001'}]\n",
      "[{'_id': 48005550000,\n",
      "  'components': {'area': 800, 'country': 4, 'number': 5550000},\n",
      "  'display': '+4 800-5550000'},\n",
      " {'_id': 38005550001,\n",
      "  'components': {'area': 800, 'country': 3, 'number': 5550001},\n",
      "  'display': '+3 800-5550001'}]\n"
     ]
    }
   ],
   "source": [
    "print_(db.phones.find().limit(2))\n",
    "print_(db.phones.find().limit(2))"
   ]
  },
  {
   "cell_type": "code",
   "execution_count": 35,
   "id": "c2b7d452",
   "metadata": {
    "ExecuteTime": {
     "end_time": "2023-03-03T00:56:17.274765Z",
     "start_time": "2023-03-03T00:56:17.264533Z"
    }
   },
   "outputs": [
    {
     "name": "stdout",
     "output_type": "stream",
     "text": [
      "# collection= countries\n",
      "{'_id_': {'key': [('_id', 1)], 'v': 2}}\n",
      "# collection= phones\n",
      "{'_id_': {'key': [('_id', 1)], 'v': 2}}\n",
      "# collection= towns\n",
      "{'_id_': {'key': [('_id', 1)], 'v': 2}}\n"
     ]
    }
   ],
   "source": [
    "# Print information about the indices.\n",
    "for collection in db.list_collection_names():\n",
    "    print(\"# collection=\", collection)\n",
    "    print_(db[collection].index_information())"
   ]
  },
  {
   "cell_type": "code",
   "execution_count": 36,
   "id": "68298689",
   "metadata": {
    "ExecuteTime": {
     "end_time": "2023-03-03T00:56:19.808196Z",
     "start_time": "2023-03-03T00:56:19.801166Z"
    }
   },
   "outputs": [
    {
     "name": "stdout",
     "output_type": "stream",
     "text": [
      "{'_id': 48005550000,\n",
      " 'components': {'area': 800, 'country': 4, 'number': 5550000},\n",
      " 'display': '+4 800-5550000'}\n"
     ]
    }
   ],
   "source": [
    "print_(db.phones.find_one({\"display\": \"+4 800-5550000\"}))"
   ]
  },
  {
   "cell_type": "code",
   "execution_count": 37,
   "id": "8d8f3b0b",
   "metadata": {
    "ExecuteTime": {
     "end_time": "2023-03-03T00:56:22.262620Z",
     "start_time": "2023-03-03T00:56:22.185767Z"
    }
   },
   "outputs": [
    {
     "data": {
      "text/plain": [
       "66"
      ]
     },
     "execution_count": 37,
     "metadata": {},
     "output_type": "execute_result"
    }
   ],
   "source": [
    "# db.phones.find({\"display\": \"+4 800-5550000\"}).explain()\n",
    "db.phones.find({\"display\": \"+4 800-5550000\"}).explain()[\"executionStats\"][\n",
    "    \"executionTimeMillis\"\n",
    "]"
   ]
  },
  {
   "cell_type": "code",
   "execution_count": null,
   "id": "2455e369",
   "metadata": {
    "ExecuteTime": {
     "end_time": "2023-02-26T13:42:25.504761Z",
     "start_time": "2023-02-26T13:42:25.254354Z"
    }
   },
   "outputs": [],
   "source": [
    "# Create an indesx on `display`.\n",
    "db.phones.create_index([(\"display\", pymongo.ASCENDING)], unique=True, dropDups=True)\n",
    "\n",
    "print_(db[\"phones\"].index_information())"
   ]
  },
  {
   "cell_type": "code",
   "execution_count": null,
   "id": "c599596a",
   "metadata": {
    "ExecuteTime": {
     "end_time": "2023-02-26T13:42:25.514829Z",
     "start_time": "2023-02-26T13:42:25.507171Z"
    }
   },
   "outputs": [],
   "source": [
    "# Show that the query now it's very fast.\n",
    "print_(\n",
    "    db.phones.find({\"display\": \"+4 800-5550000\"}).explain()[\"executionStats\"][\n",
    "        \"executionTimeMillis\"\n",
    "    ]\n",
    ")"
   ]
  },
  {
   "cell_type": "markdown",
   "id": "3c51a860",
   "metadata": {},
   "source": [
    "# Aggregated queries."
   ]
  },
  {
   "cell_type": "code",
   "execution_count": null,
   "id": "aa31271d",
   "metadata": {
    "ExecuteTime": {
     "end_time": "2023-02-26T13:42:25.596004Z",
     "start_time": "2023-02-26T13:42:25.518163Z"
    }
   },
   "outputs": [],
   "source": [
    "db.phones.count_documents({\"components.number\": {\"$gt\": 5599999}})"
   ]
  },
  {
   "cell_type": "code",
   "execution_count": null,
   "id": "40baa781",
   "metadata": {
    "ExecuteTime": {
     "end_time": "2023-02-26T13:42:25.741624Z",
     "start_time": "2023-02-26T13:42:25.598596Z"
    }
   },
   "outputs": [],
   "source": [
    "db.phones.distinct('components.number', {\"components.number\": {\"$gt\": 5599999}})"
   ]
  }
 ],
 "metadata": {
  "kernelspec": {
   "display_name": "Python 3 (ipykernel)",
   "language": "python",
   "name": "python3"
  },
  "language_info": {
   "codemirror_mode": {
    "name": "ipython",
    "version": 3
   },
   "file_extension": ".py",
   "mimetype": "text/x-python",
   "name": "python",
   "nbconvert_exporter": "python",
   "pygments_lexer": "ipython3",
   "version": "3.8.10"
  },
  "toc": {
   "base_numbering": 1,
   "nav_menu": {},
   "number_sections": true,
   "sideBar": true,
   "skip_h1_title": false,
   "title_cell": "Table of Contents",
   "title_sidebar": "Contents",
   "toc_cell": false,
   "toc_position": {
    "height": "calc(100% - 180px)",
    "left": "10px",
    "top": "150px",
    "width": "199px"
   },
   "toc_section_display": true,
   "toc_window_display": true
  }
 },
 "nbformat": 4,
 "nbformat_minor": 5
}
